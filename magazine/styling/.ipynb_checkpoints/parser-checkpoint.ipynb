{
 "cells": [
  {
   "cell_type": "code",
   "execution_count": 1,
   "metadata": {},
   "outputs": [],
   "source": [
    "import json\n",
    "import altair as alt\n",
    "from altair import expr, datum\n",
    "import altair_viewer\n",
    "import matplotlib.pyplot as plt\n",
    "import numpy as np\n",
    "import pandas as pd\n",
    "import requests\n",
    "import re"
   ]
  },
  {
   "cell_type": "code",
   "execution_count": 2,
   "metadata": {},
   "outputs": [],
   "source": [
    "import colorsys\n",
    "from matplotlib.colors import to_hex, to_rgb\n",
    "\n",
    "\n",
    "def scale_lightness(rgb, scale_l):\n",
    "    rgbhex = False\n",
    "    if \"#\" in rgb:\n",
    "        rgb = to_rgb(rgb)\n",
    "        rgbhex = True\n",
    "    # convert rgb to hls\n",
    "    h, l, s = colorsys.rgb_to_hls(*rgb)\n",
    "    # manipulate h, l, s values and return as rgb\n",
    "    c = colorsys.hls_to_rgb(h, min(1, l * scale_l), s=s)\n",
    "    if rgbhex:\n",
    "        c = to_hex(c)\n",
    "    return c"
   ]
  },
  {
   "cell_type": "code",
   "execution_count": 3,
   "metadata": {},
   "outputs": [],
   "source": [
    "LOCAL = True\n",
    "\n",
    "if LOCAL:\n",
    "    local_suffix = \"_local\"\n",
    "else:\n",
    "    local_suffix = \"\""
   ]
  },
  {
   "cell_type": "code",
   "execution_count": 4,
   "metadata": {},
   "outputs": [],
   "source": [
    "%%capture pwd\n",
    "!pwd"
   ]
  },
  {
   "cell_type": "code",
   "execution_count": 5,
   "metadata": {},
   "outputs": [
    {
     "data": {
      "text/plain": [
       "('ecomag_styling', 300, 500)"
      ]
     },
     "execution_count": 5,
     "metadata": {},
     "output_type": "execute_result"
    }
   ],
   "source": [
    "uid = pwd.stdout.split(\"/\")[-1].split(\"\\r\")[0]\n",
    "eco_git_home = (\n",
    "    \"https://raw.githubusercontent.com/EconomicsObservatory/ECOvisualisations/main/\"\n",
    ")\n",
    "eco_git_path = (\n",
    "    eco_git_home + \"magazine/\" + uid + \"/data/\"\n",
    ")  #!!! make sure this points to the magazine\n",
    "vega_embed = requests.get(eco_git_home + \"guidelines/html/vega-embed.html\").text\n",
    "colors = json.loads(\n",
    "    requests.get(eco_git_home + \"guidelines/colors/eco-colors.json\").content\n",
    ")\n",
    "category_color = json.loads(\n",
    "    requests.get(eco_git_home + \"guidelines/colors/eco-category-color.json\").content\n",
    ")\n",
    "hue_color = json.loads(\n",
    "    requests.get(eco_git_home + \"guidelines/colors/eco-single-hue-color.json\").content\n",
    ")\n",
    "mhue_color = json.loads(\n",
    "    requests.get(eco_git_home + \"guidelines/colors/eco-multi-hue-color.json\").content\n",
    ")\n",
    "div_color = json.loads(\n",
    "    requests.get(eco_git_home + \"guidelines/colors/eco-diverging-color.json\").content\n",
    ")\n",
    "config = json.loads(\n",
    "    requests.get(eco_git_home + \"guidelines/charts/eco-global-config.json\").content\n",
    ")\n",
    "height = config[\"height\"]\n",
    "width = config[\"width\"]\n",
    "uid, height, width"
   ]
  },
  {
   "cell_type": "markdown",
   "metadata": {},
   "source": [
    "# Article 8"
   ]
  },
  {
   "cell_type": "markdown",
   "metadata": {},
   "source": [
    "## JG interview"
   ]
  },
  {
   "cell_type": "code",
   "execution_count": 6,
   "metadata": {},
   "outputs": [
    {
     "data": {
      "text/plain": [
       "31"
      ]
     },
     "execution_count": 6,
     "metadata": {},
     "output_type": "execute_result"
    }
   ],
   "source": [
    "readme = \"# Article 8 \\n\\n## JG interview\\n\\n\"\n",
    "open(\"README.md\", \"a\").write(readme)"
   ]
  },
  {
   "cell_type": "markdown",
   "metadata": {},
   "source": [
    "### Fig 8-1"
   ]
  },
  {
   "cell_type": "code",
   "execution_count": 28,
   "metadata": {},
   "outputs": [],
   "source": [
    "configSource = \"raw/ECO2.JG.C1c.json\"\n",
    "config = json.loads(open(configSource, \"r\").read())\n",
    "df = pd.read_csv(config[\"data\"][\"url\"]).drop(\"Detail\", axis=1)"
   ]
  },
  {
   "cell_type": "code",
   "execution_count": 29,
   "metadata": {},
   "outputs": [
    {
     "data": {
      "text/html": [
       "<div>\n",
       "<style scoped>\n",
       "    .dataframe tbody tr th:only-of-type {\n",
       "        vertical-align: middle;\n",
       "    }\n",
       "\n",
       "    .dataframe tbody tr th {\n",
       "        vertical-align: top;\n",
       "    }\n",
       "\n",
       "    .dataframe thead th {\n",
       "        text-align: right;\n",
       "    }\n",
       "</style>\n",
       "<table border=\"1\" class=\"dataframe\">\n",
       "  <thead>\n",
       "    <tr style=\"text-align: right;\">\n",
       "      <th></th>\n",
       "      <th>Year</th>\n",
       "      <th>Country</th>\n",
       "      <th>Value</th>\n",
       "    </tr>\n",
       "  </thead>\n",
       "  <tbody>\n",
       "    <tr>\n",
       "      <th>0</th>\n",
       "      <td>1960</td>\n",
       "      <td>Central Afican Republic</td>\n",
       "      <td>599.700618</td>\n",
       "    </tr>\n",
       "    <tr>\n",
       "      <th>1</th>\n",
       "      <td>1961</td>\n",
       "      <td>Central Afican Republic</td>\n",
       "      <td>619.348109</td>\n",
       "    </tr>\n",
       "    <tr>\n",
       "      <th>2</th>\n",
       "      <td>1962</td>\n",
       "      <td>Central Afican Republic</td>\n",
       "      <td>586.413076</td>\n",
       "    </tr>\n",
       "    <tr>\n",
       "      <th>3</th>\n",
       "      <td>1963</td>\n",
       "      <td>Central Afican Republic</td>\n",
       "      <td>572.140833</td>\n",
       "    </tr>\n",
       "    <tr>\n",
       "      <th>4</th>\n",
       "      <td>1964</td>\n",
       "      <td>Central Afican Republic</td>\n",
       "      <td>573.425922</td>\n",
       "    </tr>\n",
       "  </tbody>\n",
       "</table>\n",
       "</div>"
      ],
      "text/plain": [
       "   Year                  Country       Value\n",
       "0  1960  Central Afican Republic  599.700618\n",
       "1  1961  Central Afican Republic  619.348109\n",
       "2  1962  Central Afican Republic  586.413076\n",
       "3  1963  Central Afican Republic  572.140833\n",
       "4  1964  Central Afican Republic  573.425922"
      ]
     },
     "execution_count": 29,
     "metadata": {},
     "output_type": "execute_result"
    }
   ],
   "source": [
    "f = \"fig8-1_east-africa-gdp\"\n",
    "f8_1 = eco_git_path + f + \".csv\"\n",
    "df.to_csv(\"data/\" + f + \".csv\")\n",
    "f += local_suffix\n",
    "open(\"visualisation/\" + f + \".html\", \"w\").write(\n",
    "    vega_embed.replace(\n",
    "        \"JSON_PATH\", f8_1.replace(\"/data/\", \"/visualisation/\").replace(\".csv\", \".json\")\n",
    "    )\n",
    ")\n",
    "if LOCAL:\n",
    "    f8_1 = df\n",
    "readme = (\n",
    "    \"### \"\n",
    "    + f\n",
    "    + \" --- [json](visualisation/\"\n",
    "    + f\n",
    "    + '.json \"'\n",
    "    + f\n",
    "    + '\") [svg](visualisation/'\n",
    "    + f\n",
    "    + '.svg \"'\n",
    "    + f\n",
    "    + '\") [png](visualisation/'\n",
    "    + f\n",
    "    + '.png \"'\n",
    "    + f\n",
    "    + '\")\\n[![\"'\n",
    "    + f\n",
    "    + '\"](visualisation/'\n",
    "    + f\n",
    "    + '.svg \"'\n",
    "    + f\n",
    "    + '\")](visualisation/'\n",
    "    + f\n",
    "    + '.svg \"'\n",
    "    + f\n",
    "    + '\")\\n\\n'\n",
    ")\n",
    "df.head()"
   ]
  },
  {
   "cell_type": "code",
   "execution_count": 48,
   "metadata": {},
   "outputs": [
    {
     "data": {
      "text/html": [
       "\n",
       "<div id=\"altair-viz-08d2efb6fc754e4487c8b2039b13cd81\"></div>\n",
       "<script type=\"text/javascript\">\n",
       "  (function(spec, embedOpt){\n",
       "    let outputDiv = document.currentScript.previousElementSibling;\n",
       "    if (outputDiv.id !== \"altair-viz-08d2efb6fc754e4487c8b2039b13cd81\") {\n",
       "      outputDiv = document.getElementById(\"altair-viz-08d2efb6fc754e4487c8b2039b13cd81\");\n",
       "    }\n",
       "    const paths = {\n",
       "      \"vega\": \"https://cdn.jsdelivr.net/npm//vega@5?noext\",\n",
       "      \"vega-lib\": \"https://cdn.jsdelivr.net/npm//vega-lib?noext\",\n",
       "      \"vega-lite\": \"https://cdn.jsdelivr.net/npm//vega-lite@4.8.1?noext\",\n",
       "      \"vega-embed\": \"https://cdn.jsdelivr.net/npm//vega-embed@6?noext\",\n",
       "    };\n",
       "\n",
       "    function loadScript(lib) {\n",
       "      return new Promise(function(resolve, reject) {\n",
       "        var s = document.createElement('script');\n",
       "        s.src = paths[lib];\n",
       "        s.async = true;\n",
       "        s.onload = () => resolve(paths[lib]);\n",
       "        s.onerror = () => reject(`Error loading script: ${paths[lib]}`);\n",
       "        document.getElementsByTagName(\"head\")[0].appendChild(s);\n",
       "      });\n",
       "    }\n",
       "\n",
       "    function showError(err) {\n",
       "      outputDiv.innerHTML = `<div class=\"error\" style=\"color:red;\">${err}</div>`;\n",
       "      throw err;\n",
       "    }\n",
       "\n",
       "    function displayChart(vegaEmbed) {\n",
       "      vegaEmbed(outputDiv, spec, embedOpt)\n",
       "        .catch(err => showError(`Javascript Error: ${err.message}<br>This usually means there's a typo in your chart specification. See the javascript console for the full traceback.`));\n",
       "    }\n",
       "\n",
       "    if(typeof define === \"function\" && define.amd) {\n",
       "      requirejs.config({paths});\n",
       "      require([\"vega-embed\"], displayChart, err => showError(`Error loading script: ${err.message}`));\n",
       "    } else if (typeof vegaEmbed === \"function\") {\n",
       "      displayChart(vegaEmbed);\n",
       "    } else {\n",
       "      loadScript(\"vega\")\n",
       "        .then(() => loadScript(\"vega-lite\"))\n",
       "        .then(() => loadScript(\"vega-embed\"))\n",
       "        .catch(showError)\n",
       "        .then(() => displayChart(vegaEmbed));\n",
       "    }\n",
       "  })({\"config\": {\"view\": {\"continuousWidth\": 400, \"continuousHeight\": 300, \"stroke\": null}, \"axisX\": {\"labelFontSize\": 10}, \"axisY\": {\"labelFontSize\": 10}}, \"layer\": [{\"data\": {\"url\": \"https://raw.githubusercontent.com/RDeconomist/RDeconomist.github.io/main/data/ECO2.JG.C1c.csv\"}, \"mark\": {\"type\": \"line\", \"strokeWidth\": 2}, \"description\": \"Carbon per capita by country\", \"encoding\": {\"color\": {\"type\": \"nominal\", \"field\": \"Country\", \"legend\": {\"orient\": \"bottom-left\"}, \"scale\": {\"range\": [\"#79CBC7\", \"#97D5D2\", \"#22BCB5\", \"#5BC4BE\"]}, \"sort\": [], \"title\": null}, \"tooltip\": [{\"type\": \"nominal\", \"field\": \"Country\"}, {\"type\": \"temporal\", \"field\": \"Year\", \"timeUnit\": \"year\", \"title\": \"Year\"}, {\"type\": \"quantitative\", \"field\": \"Value\", \"title\": \"GDP per capita ($)\"}], \"x\": {\"type\": \"temporal\", \"axis\": {\"domain\": false, \"grid\": false, \"labelColor\": \"#001F30\", \"labelFont\": \"Circular Std Book\", \"labelPadding\": 10, \"ticks\": false}, \"field\": \"Year\", \"title\": \"\"}, \"y\": {\"type\": \"quantitative\", \"axis\": {\"domain\": false, \"grid\": true, \"gridColor\": \"#A5DBD7\", \"gridDash\": [1, 4], \"gridWidth\": 1, \"labelColor\": \"#001F30\", \"labelFont\": \"Circular Std Book\", \"labelPadding\": 10, \"tickCount\": 7, \"ticks\": false, \"title\": \"\", \"titleAnchor\": \"start\"}, \"field\": \"Value\", \"sort\": [], \"title\": \"\"}}, \"height\": 220, \"title\": {\"text\": \"US$ per year per person\", \"anchor\": \"start\", \"color\": \"#001F30\", \"dy\": 10, \"font\": \"Circular Std Bold\", \"fontSize\": 12, \"subtitle\": \"\", \"subtitleFontSize\": 10, \"subtitleFontStyle\": \"italic\"}, \"transform\": [{\"filter\": \"datum.Country!='Tanzania'\"}], \"view\": {\"stroke\": null}, \"width\": 300}, {\"data\": {\"url\": \"https://raw.githubusercontent.com/RDeconomist/RDeconomist.github.io/main/data/ECO2.JG.C1c.csv\"}, \"mark\": {\"type\": \"line\", \"strokeWidth\": 2}, \"description\": \"Carbon per capita by country\", \"encoding\": {\"color\": {\"type\": \"nominal\", \"field\": \"Country\", \"legend\": {\"orient\": \"bottom-left\"}, \"scale\": {\"range\": [\"#79CBC7\", \"#97D5D2\", \"#22BCB5\", \"#5BC4BE\"]}, \"sort\": [], \"title\": null}, \"tooltip\": [{\"type\": \"nominal\", \"field\": \"Country\"}, {\"type\": \"temporal\", \"field\": \"Year\", \"timeUnit\": \"year\", \"title\": \"Year\"}, {\"type\": \"quantitative\", \"field\": \"Value\", \"title\": \"GDP per capita ($)\"}], \"x\": {\"type\": \"temporal\", \"axis\": {\"domain\": false, \"grid\": false, \"labelColor\": \"#001F30\", \"labelFont\": \"Circular Std Book\", \"labelPadding\": 10, \"ticks\": false}, \"field\": \"Year\", \"title\": \"\"}, \"y\": {\"type\": \"quantitative\", \"axis\": {\"domain\": false, \"grid\": true, \"gridColor\": \"#A5DBD7\", \"gridDash\": [1, 4], \"gridWidth\": 1, \"labelColor\": \"#001F30\", \"labelFont\": \"Circular Std Book\", \"labelPadding\": 10, \"tickCount\": 7, \"ticks\": false, \"title\": \"\", \"titleAnchor\": \"start\"}, \"field\": \"Value\", \"sort\": [], \"title\": \"\"}}, \"height\": 220, \"title\": {\"text\": \"US$ per year per person\", \"anchor\": \"start\", \"color\": \"black\", \"dy\": 10, \"font\": \"Circular Std Bold\", \"subtitle\": \"\", \"subtitleFontSize\": 10, \"subtitleFontStyle\": \"italic\"}, \"transform\": [{\"filter\": \"datum.Country=='Tanzania'\"}, {\"filter\": \"year(datum.Year)>1987\"}], \"view\": {\"stroke\": null}, \"width\": 300}, {\"data\": {\"url\": \"https://raw.githubusercontent.com/RDeconomist/RDeconomist.github.io/main/data/ECO2.JG.C1c.csv\"}, \"mark\": {\"type\": \"text\", \"align\": \"right\", \"dx\": 10, \"dy\": -15, \"font\": \"Circular Std Book\", \"fontSize\": 10}, \"description\": \"Carbon per capita by country\", \"encoding\": {\"color\": {\"type\": \"nominal\", \"field\": \"Country\", \"legend\": {\"orient\": \"bottom-left\"}, \"scale\": {\"range\": [\"#79CBC7\", \"#97D5D2\", \"#22BCB5\", \"#5BC4BE\"]}, \"sort\": [], \"title\": null}, \"text\": {\"type\": \"nominal\", \"field\": \"Country\"}, \"tooltip\": [{\"type\": \"nominal\", \"field\": \"Country\"}, {\"type\": \"temporal\", \"field\": \"Year\", \"timeUnit\": \"year\", \"title\": \"Year\"}, {\"type\": \"quantitative\", \"field\": \"Value\", \"title\": \"GDP per capita ($)\"}], \"x\": {\"type\": \"temporal\", \"axis\": {\"domain\": false, \"grid\": false, \"labelColor\": \"#001F30\", \"labelFont\": \"Circular Std Book\", \"labelPadding\": 10, \"ticks\": false}, \"field\": \"Year\", \"title\": \"\"}, \"y\": {\"type\": \"quantitative\", \"axis\": {\"domain\": false, \"grid\": true, \"gridColor\": \"#A5DBD7\", \"gridDash\": [1, 4], \"gridWidth\": 1, \"labelColor\": \"#001F30\", \"labelFont\": \"Circular Std Book\", \"labelPadding\": 10, \"tickCount\": 7, \"ticks\": false, \"title\": \"\", \"titleAnchor\": \"start\"}, \"field\": \"Value\", \"sort\": [], \"title\": \"\"}}, \"height\": 220, \"title\": {\"text\": \"US$ per year per person\", \"anchor\": \"start\", \"color\": \"#001F30\", \"dy\": 10, \"font\": \"Circular Std Bold\", \"fontSize\": 12, \"subtitle\": \"\", \"subtitleFontSize\": 10, \"subtitleFontStyle\": \"italic\"}, \"transform\": [{\"filter\": \"datum.Country!='Tanzania'\"}, {\"filter\": \"year(datum.Year)==2020\"}, {\"filter\": \"datum.Country!='Central Afican Republic'\"}, {\"filter\": \"datum.Country!='Democratic Republic of Congo'\"}], \"view\": {\"stroke\": null}, \"width\": 300}, {\"data\": {\"url\": \"https://raw.githubusercontent.com/RDeconomist/RDeconomist.github.io/main/data/ECO2.JG.C1c.csv\"}, \"mark\": {\"type\": \"text\", \"align\": \"left\", \"dx\": 10, \"dy\": 41, \"font\": \"Circular Std Book\", \"fontSize\": 10, \"text\": \"Central\"}, \"description\": \"Carbon per capita by country\", \"encoding\": {\"color\": {\"type\": \"nominal\", \"field\": \"Country\", \"legend\": {\"orient\": \"bottom-left\"}, \"scale\": {\"range\": [\"#79CBC7\", \"#97D5D2\", \"#22BCB5\", \"#5BC4BE\"]}, \"sort\": [], \"title\": null}, \"tooltip\": [{\"type\": \"nominal\", \"field\": \"Country\"}, {\"type\": \"temporal\", \"field\": \"Year\", \"timeUnit\": \"year\", \"title\": \"Year\"}, {\"type\": \"quantitative\", \"field\": \"Value\", \"title\": \"GDP per capita ($)\"}], \"x\": {\"type\": \"temporal\", \"axis\": {\"domain\": false, \"grid\": false, \"labelColor\": \"#001F30\", \"labelFont\": \"Circular Std Book\", \"labelPadding\": 10, \"ticks\": false}, \"field\": \"Year\", \"title\": \"\"}, \"y\": {\"type\": \"quantitative\", \"axis\": {\"domain\": false, \"grid\": true, \"gridColor\": \"#A5DBD7\", \"gridDash\": [1, 4], \"gridWidth\": 1, \"labelColor\": \"#001F30\", \"labelFont\": \"Circular Std Book\", \"labelPadding\": 10, \"tickCount\": 7, \"ticks\": false, \"title\": \"\", \"titleAnchor\": \"start\"}, \"field\": \"Value\", \"sort\": [], \"title\": \"\"}}, \"height\": 220, \"title\": {\"text\": \"US$ per year per person\", \"anchor\": \"start\", \"color\": \"#001F30\", \"dy\": 10, \"font\": \"Circular Std Bold\", \"fontSize\": 12, \"subtitle\": \"\", \"subtitleFontSize\": 10, \"subtitleFontStyle\": \"italic\"}, \"transform\": [{\"filter\": \"datum.Country!='Tanzania'\"}, {\"filter\": \"year(datum.Year)==2012\"}, {\"filter\": \"datum.Country=='Central Afican Republic'\"}], \"view\": {\"stroke\": null}, \"width\": 300}, {\"data\": {\"url\": \"https://raw.githubusercontent.com/RDeconomist/RDeconomist.github.io/main/data/ECO2.JG.C1c.csv\"}, \"mark\": {\"type\": \"text\", \"align\": \"left\", \"dx\": 10, \"dy\": 51, \"font\": \"Circular Std Book\", \"fontSize\": 10, \"text\": \"African\"}, \"description\": \"Carbon per capita by country\", \"encoding\": {\"color\": {\"type\": \"nominal\", \"field\": \"Country\", \"legend\": {\"orient\": \"bottom-left\"}, \"scale\": {\"range\": [\"#79CBC7\", \"#97D5D2\", \"#22BCB5\", \"#5BC4BE\"]}, \"sort\": [], \"title\": null}, \"tooltip\": [{\"type\": \"nominal\", \"field\": \"Country\"}, {\"type\": \"temporal\", \"field\": \"Year\", \"timeUnit\": \"year\", \"title\": \"Year\"}, {\"type\": \"quantitative\", \"field\": \"Value\", \"title\": \"GDP per capita ($)\"}], \"x\": {\"type\": \"temporal\", \"axis\": {\"domain\": false, \"grid\": false, \"labelColor\": \"#001F30\", \"labelFont\": \"Circular Std Book\", \"labelPadding\": 10, \"ticks\": false}, \"field\": \"Year\", \"title\": \"\"}, \"y\": {\"type\": \"quantitative\", \"axis\": {\"domain\": false, \"grid\": true, \"gridColor\": \"#A5DBD7\", \"gridDash\": [1, 4], \"gridWidth\": 1, \"labelColor\": \"#001F30\", \"labelFont\": \"Circular Std Book\", \"labelPadding\": 10, \"tickCount\": 7, \"ticks\": false, \"title\": \"\", \"titleAnchor\": \"start\"}, \"field\": \"Value\", \"sort\": [], \"title\": \"\"}}, \"height\": 220, \"title\": {\"text\": \"US$ per year per person\", \"anchor\": \"start\", \"color\": \"#001F30\", \"dy\": 10, \"font\": \"Circular Std Bold\", \"fontSize\": 12, \"subtitle\": \"\", \"subtitleFontSize\": 10, \"subtitleFontStyle\": \"italic\"}, \"transform\": [{\"filter\": \"datum.Country!='Tanzania'\"}, {\"filter\": \"year(datum.Year)==2012\"}, {\"filter\": \"datum.Country=='Central Afican Republic'\"}], \"view\": {\"stroke\": null}, \"width\": 300}, {\"data\": {\"url\": \"https://raw.githubusercontent.com/RDeconomist/RDeconomist.github.io/main/data/ECO2.JG.C1c.csv\"}, \"mark\": {\"type\": \"text\", \"align\": \"left\", \"dx\": 10, \"dy\": 61, \"font\": \"Circular Std Book\", \"fontSize\": 10, \"text\": \"Republic\"}, \"description\": \"Carbon per capita by country\", \"encoding\": {\"color\": {\"type\": \"nominal\", \"field\": \"Country\", \"legend\": {\"orient\": \"bottom-left\"}, \"scale\": {\"range\": [\"#79CBC7\", \"#97D5D2\", \"#22BCB5\", \"#5BC4BE\"]}, \"sort\": [], \"title\": null}, \"tooltip\": [{\"type\": \"nominal\", \"field\": \"Country\"}, {\"type\": \"temporal\", \"field\": \"Year\", \"timeUnit\": \"year\", \"title\": \"Year\"}, {\"type\": \"quantitative\", \"field\": \"Value\", \"title\": \"GDP per capita ($)\"}], \"x\": {\"type\": \"temporal\", \"axis\": {\"domain\": false, \"grid\": false, \"labelColor\": \"#001F30\", \"labelFont\": \"Circular Std Book\", \"labelPadding\": 10, \"ticks\": false}, \"field\": \"Year\", \"title\": \"\"}, \"y\": {\"type\": \"quantitative\", \"axis\": {\"domain\": false, \"grid\": true, \"gridColor\": \"#A5DBD7\", \"gridDash\": [1, 4], \"gridWidth\": 1, \"labelColor\": \"#001F30\", \"labelFont\": \"Circular Std Book\", \"labelPadding\": 10, \"tickCount\": 7, \"ticks\": false, \"title\": \"\", \"titleAnchor\": \"start\"}, \"field\": \"Value\", \"sort\": [], \"title\": \"\"}}, \"height\": 220, \"title\": {\"text\": \"US$ per year per person\", \"anchor\": \"start\", \"color\": \"#001F30\", \"dy\": 10, \"font\": \"Circular Std Bold\", \"fontSize\": 12, \"subtitle\": \"\", \"subtitleFontSize\": 10, \"subtitleFontStyle\": \"italic\"}, \"transform\": [{\"filter\": \"datum.Country!='Tanzania'\"}, {\"filter\": \"year(datum.Year)==2012\"}, {\"filter\": \"datum.Country=='Central Afican Republic'\"}], \"view\": {\"stroke\": null}, \"width\": 300}, {\"data\": {\"url\": \"https://raw.githubusercontent.com/RDeconomist/RDeconomist.github.io/main/data/ECO2.JG.C1c.csv\"}, \"mark\": {\"type\": \"text\", \"align\": \"right\", \"dx\": 10, \"dy\": -10, \"font\": \"Circular Std Book\", \"fontSize\": 10, \"text\": \"DRC\"}, \"description\": \"Carbon per capita by country\", \"encoding\": {\"color\": {\"type\": \"nominal\", \"field\": \"Country\", \"legend\": {\"orient\": \"bottom-left\"}, \"scale\": {\"range\": [\"#79CBC7\", \"#97D5D2\", \"#22BCB5\", \"#5BC4BE\"]}, \"sort\": [], \"title\": null}, \"tooltip\": [{\"type\": \"nominal\", \"field\": \"Country\"}, {\"type\": \"temporal\", \"field\": \"Year\", \"timeUnit\": \"year\", \"title\": \"Year\"}, {\"type\": \"quantitative\", \"field\": \"Value\", \"title\": \"GDP per capita ($)\"}], \"x\": {\"type\": \"temporal\", \"axis\": {\"domain\": false, \"grid\": false, \"labelColor\": \"#001F30\", \"labelFont\": \"Circular Std Book\", \"labelPadding\": 10, \"ticks\": false}, \"field\": \"Year\", \"title\": \"\"}, \"y\": {\"type\": \"quantitative\", \"axis\": {\"domain\": false, \"grid\": true, \"gridColor\": \"#A5DBD7\", \"gridDash\": [1, 4], \"gridWidth\": 1, \"labelColor\": \"#001F30\", \"labelFont\": \"Circular Std Book\", \"labelPadding\": 10, \"tickCount\": 7, \"ticks\": false, \"title\": \"\", \"titleAnchor\": \"start\"}, \"field\": \"Value\", \"sort\": [], \"title\": \"\"}}, \"height\": 220, \"title\": {\"text\": \"US$ per year per person\", \"anchor\": \"start\", \"color\": \"#001F30\", \"dy\": 10, \"font\": \"Circular Std Bold\", \"fontSize\": 12, \"subtitle\": \"\", \"subtitleFontSize\": 10, \"subtitleFontStyle\": \"italic\"}, \"transform\": [{\"filter\": \"datum.Country!='Tanzania'\"}, {\"filter\": \"year(datum.Year)==2020\"}, {\"filter\": \"datum.Country=='Democratic Republic of Congo'\"}], \"view\": {\"stroke\": null}, \"width\": 300}, {\"data\": {\"url\": \"https://raw.githubusercontent.com/RDeconomist/RDeconomist.github.io/main/data/ECO2.JG.C1c.csv\"}, \"mark\": {\"type\": \"text\", \"align\": \"right\", \"dx\": 15, \"dy\": 25, \"font\": \"Circular Std Book\", \"fontSize\": 10, \"text\": \"Tanzania\"}, \"description\": \"Carbon per capita by country\", \"encoding\": {\"color\": {\"type\": \"nominal\", \"field\": \"Country\", \"legend\": {\"orient\": \"bottom-left\"}, \"scale\": {\"range\": [\"#79CBC7\", \"#97D5D2\", \"#22BCB5\", \"#5BC4BE\"]}, \"sort\": [], \"title\": null}, \"tooltip\": [{\"type\": \"nominal\", \"field\": \"Country\"}, {\"type\": \"temporal\", \"field\": \"Year\", \"timeUnit\": \"year\", \"title\": \"Year\"}, {\"type\": \"quantitative\", \"field\": \"Value\", \"title\": \"GDP per capita ($)\"}], \"x\": {\"type\": \"temporal\", \"axis\": {\"domain\": false, \"grid\": false, \"labelColor\": \"#001F30\", \"labelFont\": \"Circular Std Book\", \"labelPadding\": 10, \"ticks\": false}, \"field\": \"Year\", \"title\": \"\"}, \"y\": {\"type\": \"quantitative\", \"axis\": {\"domain\": false, \"grid\": true, \"gridColor\": \"#A5DBD7\", \"gridDash\": [1, 4], \"gridWidth\": 1, \"labelColor\": \"#001F30\", \"labelFont\": \"Circular Std Book\", \"labelPadding\": 10, \"tickCount\": 7, \"ticks\": false, \"title\": \"\", \"titleAnchor\": \"start\"}, \"field\": \"Value\", \"sort\": [], \"title\": \"\"}}, \"height\": 220, \"title\": {\"text\": \"US$ per year per person\", \"anchor\": \"start\", \"color\": \"black\", \"dy\": 10, \"font\": \"Circular Std Bold\", \"subtitle\": \"\", \"subtitleFontSize\": 10, \"subtitleFontStyle\": \"italic\"}, \"transform\": [{\"filter\": \"datum.Country=='Tanzania'\"}, {\"filter\": \"year(datum.Year)>1987\"}, {\"filter\": \"year(datum.Year)==2020\"}], \"view\": {\"stroke\": null}, \"width\": 300}], \"$schema\": \"https://vega.github.io/schema/vega-lite/v4.8.1.json\"}, {\"mode\": \"vega-lite\"});\n",
       "</script>"
      ],
      "text/plain": [
       "alt.LayerChart(...)"
      ]
     },
     "execution_count": 48,
     "metadata": {},
     "output_type": "execute_result"
    }
   ],
   "source": [
    "tcolor = \"#001F30\"\n",
    "config = json.loads(open(configSource, \"r\").read())\n",
    "if not LOCAL:\n",
    "    config[\"data\"][\"url\"] = f8_1\n",
    "config[\"encoding\"][\"x\"][\"axis\"][\"grid\"] = False\n",
    "config[\"encoding\"][\"x\"][\"axis\"][\"labelColor\"] = tcolor\n",
    "config[\"encoding\"][\"x\"][\"axis\"][\"labelFont\"] = \"Circular Std Book\"\n",
    "config[\"encoding\"][\"y\"][\"axis\"][\"grid\"] = True\n",
    "config[\"encoding\"][\"y\"][\"axis\"][\"gridColor\"] = '#A5DBD7'\n",
    "config[\"encoding\"][\"y\"][\"axis\"][\"gridDash\"] = [1,4]\n",
    "config[\"encoding\"][\"y\"][\"axis\"][\"gridWidth\"] = 1\n",
    "# config[\"encoding\"][\"y\"][\"axis\"][\"gridStroke\"] = 'round'\n",
    "# config[\"encoding\"][\"y\"][\"axis\"][\"gridCap\"] = 'round'\n",
    "# config[\"encoding\"][\"y\"][\"axis\"][\"gridOpacity\"] = 0.1\n",
    "config[\"encoding\"][\"y\"][\"axis\"][\"title\"] = \"\"\n",
    "config[\"encoding\"][\"y\"][\"axis\"][\"titleAnchor\"] = \"start\"\n",
    "config[\"encoding\"][\"y\"][\"axis\"][\"labelColor\"] = tcolor\n",
    "config[\"encoding\"][\"y\"][\"axis\"][\"labelFont\"] = \"Circular Std Book\"\n",
    "config[\"encoding\"][\"y\"][\"axis\"][\"ticks\"] = False\n",
    "config[\"encoding\"][\"y\"][\"axis\"][\"labelPadding\"] = 10\n",
    "config[\"encoding\"][\"y\"][\"axis\"][\"tickCount\"] = 7\n",
    "config[\"encoding\"][\"y\"][\"axis\"][\"domain\"] = False\n",
    "config[\"encoding\"][\"x\"][\"axis\"][\"domain\"] = False\n",
    "config[\"encoding\"][\"x\"][\"axis\"][\"ticks\"] = False\n",
    "config[\"encoding\"][\"x\"][\"axis\"][\"labelPadding\"] = 10\n",
    "config[\"encoding\"][\"color\"][\"scale\"] = {\n",
    "    \"range\": [\"#79CBC7\", \"#97D5D2\", \"#22BCB5\", \"#5BC4BE\"]\n",
    "}\n",
    "config[\"title\"][\"dy\"] = 10\n",
    "config[\"title\"][\"text\"] = \"US$ per year per person\"\n",
    "config[\"title\"][\"font\"] = \"Circular Std Bold\"\n",
    "config[\"title\"][\"subtitle\"] = \"\"\n",
    "config.pop(\"$schema\")\n",
    "config[\"encoding\"][\"color\"][\"legend\"] = None\n",
    "config[\"mark\"] = {\"type\": \"line\", \"strokeWidth\": 2}\n",
    "config[\"view\"] = {\"stroke\": None}\n",
    "config[\"width\"] = 300\n",
    "config[\"height\"] = 220\n",
    "base = alt.Chart.from_dict(config).transform_filter(\"datum.Country!='Tanzania'\")\n",
    "text = (\n",
    "    base.mark_text(dx=10, dy=-15, align=\"right\", fontSize=10, font=\"Circular Std Book\")\n",
    "    .encode(text=\"Country:N\")\n",
    "    .transform_filter(\"year(datum.Year)==2020\")\n",
    "    .transform_filter(\"datum.Country!='Central Afican Republic'\")\n",
    "    .transform_filter(\"datum.Country!='Democratic Republic of Congo'\")\n",
    ")\n",
    "text2a = (\n",
    "    base.mark_text(\n",
    "        dx=10,\n",
    "        dy=41,\n",
    "        align=\"left\",\n",
    "        text=\"Central\",\n",
    "        fontSize=10,\n",
    "        font=\"Circular Std Book\",\n",
    "    )\n",
    "    .transform_filter(\"year(datum.Year)==2012\")\n",
    "    .transform_filter(\"datum.Country=='Central Afican Republic'\")\n",
    ")\n",
    "text2b = (\n",
    "    base.mark_text(\n",
    "        dx=10,\n",
    "        dy=51,\n",
    "        align=\"left\",\n",
    "        text=\"African\",\n",
    "        fontSize=10,\n",
    "        font=\"Circular Std Book\",\n",
    "    )\n",
    "    .transform_filter(\"year(datum.Year)==2012\")\n",
    "    .transform_filter(\"datum.Country=='Central Afican Republic'\")\n",
    ")\n",
    "text2c = (\n",
    "    base.mark_text(\n",
    "        dx=10,\n",
    "        dy=61,\n",
    "        align=\"left\",\n",
    "        text=\"Republic\",\n",
    "        fontSize=10,\n",
    "        font=\"Circular Std Book\",\n",
    "    )\n",
    "    .transform_filter(\"year(datum.Year)==2012\")\n",
    "    .transform_filter(\"datum.Country=='Central Afican Republic'\")\n",
    ")\n",
    "text3 = (\n",
    "    base.mark_text(\n",
    "        dx=10, dy=-10, align=\"right\", text=\"DRC\", fontSize=10, font=\"Circular Std Book\"\n",
    "    )\n",
    "    .transform_filter(\"year(datum.Year)==2020\")\n",
    "    .transform_filter(\"datum.Country=='Democratic Republic of Congo'\")\n",
    ")\n",
    "base2 = (\n",
    "    alt.Chart.from_dict(config)\n",
    "    .transform_filter(\"datum.Country=='Tanzania'\")\n",
    "    .transform_filter(\"year(datum.Year)>1987\")\n",
    ")\n",
    "text4 = base2.mark_text(\n",
    "    dx=15, dy=25, align=\"right\", text=\"Tanzania\", fontSize=10, font=\"Circular Std Book\"\n",
    ").transform_filter(\"year(datum.Year)==2020\")\n",
    "base.title.fontSize = 12\n",
    "base.title.color = tcolor\n",
    "layer1 = (\n",
    "    base + base2 + text + text2a + text2b + text2c + text3 + text4\n",
    ").configure_view(stroke=None)\n",
    "layer1 = layer1.configure_axisY(labelFontSize=10)\n",
    "layer1 = layer1.configure_axisX(labelFontSize=10)\n",
    "layer1.config.view.stroke = None\n",
    "layer1.save(\"visualisation/\" + f + \".json\")\n",
    "layer1.save(\"visualisation/\" + f + \".png\", scale_factor=2.0)\n",
    "layer1.save(\"visualisation/\" + f + \".svg\")\n",
    "layer1"
   ]
  },
  {
   "cell_type": "code",
   "execution_count": null,
   "metadata": {},
   "outputs": [],
   "source": []
  }
 ],
 "metadata": {
  "interpreter": {
   "hash": "b3ba2566441a7c06988d0923437866b63cedc61552a5af99d1f4fb67d367b25f"
  },
  "kernelspec": {
   "display_name": "Python 3",
   "language": "python",
   "name": "python3"
  },
  "language_info": {
   "codemirror_mode": {
    "name": "ipython",
    "version": 3
   },
   "file_extension": ".py",
   "mimetype": "text/x-python",
   "name": "python",
   "nbconvert_exporter": "python",
   "pygments_lexer": "ipython3",
   "version": "3.8.8"
  }
 },
 "nbformat": 4,
 "nbformat_minor": 4
}
