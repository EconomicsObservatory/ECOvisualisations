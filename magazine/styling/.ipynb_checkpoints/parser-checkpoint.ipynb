{
 "cells": [
  {
   "cell_type": "code",
   "execution_count": 1,
   "metadata": {
    "tags": []
   },
   "outputs": [],
   "source": [
    "import json\n",
    "import altair as alt\n",
    "from altair import expr, datum\n",
    "import altair_viewer\n",
    "import matplotlib.pyplot as plt\n",
    "import numpy as np\n",
    "import pandas as pd\n",
    "import requests\n",
    "import re"
   ]
  },
  {
   "cell_type": "code",
   "execution_count": 2,
   "metadata": {
    "tags": []
   },
   "outputs": [],
   "source": [
    "import colorsys\n",
    "from matplotlib.colors import to_hex, to_rgb\n",
    "\n",
    "\n",
    "def scale_lightness(rgb, scale_l):\n",
    "    rgbhex = False\n",
    "    if \"#\" in rgb:\n",
    "        rgb = to_rgb(rgb)\n",
    "        rgbhex = True\n",
    "    # convert rgb to hls\n",
    "    h, l, s = colorsys.rgb_to_hls(*rgb)\n",
    "    # manipulate h, l, s values and return as rgb\n",
    "    c = colorsys.hls_to_rgb(h, min(1, l * scale_l), s=s)\n",
    "    if rgbhex:\n",
    "        c = to_hex(c)\n",
    "    return c"
   ]
  },
  {
   "cell_type": "code",
   "execution_count": 3,
   "metadata": {
    "tags": []
   },
   "outputs": [],
   "source": [
    "LOCAL = True\n",
    "\n",
    "if LOCAL:\n",
    "    local_suffix = \"_local\"\n",
    "else:\n",
    "    local_suffix = \"\""
   ]
  },
  {
   "cell_type": "code",
   "execution_count": 4,
   "metadata": {
    "tags": []
   },
   "outputs": [],
   "source": [
    "%%capture pwd\n",
    "!pwd"
   ]
  },
  {
   "cell_type": "code",
   "execution_count": 5,
   "metadata": {
    "tags": []
   },
   "outputs": [
    {
     "data": {
      "text/plain": [
       "('styling', 300, 500)"
      ]
     },
     "execution_count": 5,
     "metadata": {},
     "output_type": "execute_result"
    }
   ],
   "source": [
    "uid = pwd.stdout.split(\"/\")[-1].split(\"\\r\")[0]\n",
    "eco_git_home = (\n",
    "    \"https://raw.githubusercontent.com/EconomicsObservatory/ECOvisualisations/main/\"\n",
    ")\n",
    "eco_git_path = (\n",
    "    eco_git_home + \"magazine/\" + uid + \"/data/\"\n",
    ")  #!!! make sure this points to the magazine\n",
    "vega_embed = requests.get(eco_git_home + \"guidelines/html/vega-embed.html\").text\n",
    "colors = json.loads(\n",
    "    requests.get(eco_git_home + \"guidelines/colors/eco-colors.json\").content\n",
    ")\n",
    "category_color = json.loads(\n",
    "    requests.get(eco_git_home + \"guidelines/colors/eco-category-color.json\").content\n",
    ")\n",
    "hue_color = json.loads(\n",
    "    requests.get(eco_git_home + \"guidelines/colors/eco-single-hue-color.json\").content\n",
    ")\n",
    "mhue_color = json.loads(\n",
    "    requests.get(eco_git_home + \"guidelines/colors/eco-multi-hue-color.json\").content\n",
    ")\n",
    "div_color = json.loads(\n",
    "    requests.get(eco_git_home + \"guidelines/colors/eco-diverging-color.json\").content\n",
    ")\n",
    "config = json.loads(\n",
    "    requests.get(eco_git_home + \"guidelines/charts/eco-global-config.json\").content\n",
    ")\n",
    "height = config[\"height\"]\n",
    "width = config[\"width\"]\n",
    "uid, height, width"
   ]
  },
  {
   "cell_type": "markdown",
   "metadata": {},
   "source": [
    "# Article 8"
   ]
  },
  {
   "cell_type": "markdown",
   "metadata": {},
   "source": [
    "## JG interview"
   ]
  },
  {
   "cell_type": "code",
   "execution_count": 6,
   "metadata": {
    "tags": []
   },
   "outputs": [
    {
     "data": {
      "text/plain": [
       "18"
      ]
     },
     "execution_count": 6,
     "metadata": {},
     "output_type": "execute_result"
    }
   ],
   "source": [
    "readme = \"# ECOmag styling\\n\\n\"\n",
    "open(\"README.md\", \"w\").write(readme)"
   ]
  },
  {
   "cell_type": "markdown",
   "metadata": {},
   "source": [
    "### Fig 8-1"
   ]
  },
  {
   "cell_type": "code",
   "execution_count": 7,
   "metadata": {
    "tags": []
   },
   "outputs": [],
   "source": [
    "configSource = \"../../articles/2021-08-04-where-are-the-uks-levelling-up-funds-most-needed/visualisation/fig1_imd.json\"\n",
    "config = json.loads(open(configSource, \"r\").read())\n",
    "# df = pd.read_csv(config[\"data\"][\"url\"]).drop(\"Detail\", axis=1)\n",
    "df = pd.read_csv(config['layer'][0][\"data\"][\"url\"])"
   ]
  },
  {
   "cell_type": "code",
   "execution_count": 8,
   "metadata": {
    "tags": []
   },
   "outputs": [
    {
     "data": {
      "text/html": [
       "<div>\n",
       "<style scoped>\n",
       "    .dataframe tbody tr th:only-of-type {\n",
       "        vertical-align: middle;\n",
       "    }\n",
       "\n",
       "    .dataframe tbody tr th {\n",
       "        vertical-align: top;\n",
       "    }\n",
       "\n",
       "    .dataframe thead th {\n",
       "        text-align: right;\n",
       "    }\n",
       "</style>\n",
       "<table border=\"1\" class=\"dataframe\">\n",
       "  <thead>\n",
       "    <tr style=\"text-align: right;\">\n",
       "      <th></th>\n",
       "      <th>Unnamed: 0</th>\n",
       "      <th>local_authorities</th>\n",
       "      <th>y_axis_allcat_rank</th>\n",
       "      <th>x_axis_imd_rank</th>\n",
       "      <th>lad_id</th>\n",
       "      <th>country</th>\n",
       "      <th>levelling_up_categorisation</th>\n",
       "      <th>region</th>\n",
       "      <th>supergroup_name</th>\n",
       "      <th>quadrant</th>\n",
       "      <th>label_2_highest_lowest</th>\n",
       "    </tr>\n",
       "  </thead>\n",
       "  <tbody>\n",
       "    <tr>\n",
       "      <th>0</th>\n",
       "      <td>0</td>\n",
       "      <td>Haringey</td>\n",
       "      <td>11</td>\n",
       "      <td>37</td>\n",
       "      <td>E09000014</td>\n",
       "      <td>England</td>\n",
       "      <td>2</td>\n",
       "      <td>London</td>\n",
       "      <td>London Cosmopolitan</td>\n",
       "      <td>quadrant 1</td>\n",
       "      <td>lab</td>\n",
       "    </tr>\n",
       "    <tr>\n",
       "      <th>1</th>\n",
       "      <td>1</td>\n",
       "      <td>Great Yarmouth</td>\n",
       "      <td>26</td>\n",
       "      <td>24</td>\n",
       "      <td>E07000145</td>\n",
       "      <td>England</td>\n",
       "      <td>1</td>\n",
       "      <td>East</td>\n",
       "      <td>Countryside Living</td>\n",
       "      <td>quadrant 1</td>\n",
       "      <td>lab</td>\n",
       "    </tr>\n",
       "    <tr>\n",
       "      <th>2</th>\n",
       "      <td>2</td>\n",
       "      <td>Luton</td>\n",
       "      <td>8</td>\n",
       "      <td>52</td>\n",
       "      <td>E06000032</td>\n",
       "      <td>England</td>\n",
       "      <td>1</td>\n",
       "      <td>East</td>\n",
       "      <td>Ethnically Diverse Metropolitan Living</td>\n",
       "      <td>quadrant 1</td>\n",
       "      <td>nolab</td>\n",
       "    </tr>\n",
       "    <tr>\n",
       "      <th>3</th>\n",
       "      <td>3</td>\n",
       "      <td>Tendring</td>\n",
       "      <td>29</td>\n",
       "      <td>32</td>\n",
       "      <td>E07000076</td>\n",
       "      <td>England</td>\n",
       "      <td>1</td>\n",
       "      <td>East</td>\n",
       "      <td>Countryside Living</td>\n",
       "      <td>quadrant 1</td>\n",
       "      <td>nolab</td>\n",
       "    </tr>\n",
       "    <tr>\n",
       "      <th>4</th>\n",
       "      <td>4</td>\n",
       "      <td>Barking and Dagenham</td>\n",
       "      <td>58</td>\n",
       "      <td>5</td>\n",
       "      <td>E09000002</td>\n",
       "      <td>England</td>\n",
       "      <td>1</td>\n",
       "      <td>London</td>\n",
       "      <td>Ethnically Diverse Metropolitan Living</td>\n",
       "      <td>quadrant 1</td>\n",
       "      <td>nolab</td>\n",
       "    </tr>\n",
       "  </tbody>\n",
       "</table>\n",
       "</div>"
      ],
      "text/plain": [
       "   Unnamed: 0     local_authorities  y_axis_allcat_rank  x_axis_imd_rank   \n",
       "0           0              Haringey                  11               37  \\\n",
       "1           1        Great Yarmouth                  26               24   \n",
       "2           2                 Luton                   8               52   \n",
       "3           3              Tendring                  29               32   \n",
       "4           4  Barking and Dagenham                  58                5   \n",
       "\n",
       "      lad_id  country  levelling_up_categorisation  region   \n",
       "0  E09000014  England                            2  London  \\\n",
       "1  E07000145  England                            1    East   \n",
       "2  E06000032  England                            1    East   \n",
       "3  E07000076  England                            1    East   \n",
       "4  E09000002  England                            1  London   \n",
       "\n",
       "                          supergroup_name    quadrant label_2_highest_lowest  \n",
       "0                     London Cosmopolitan  quadrant 1                    lab  \n",
       "1                      Countryside Living  quadrant 1                    lab  \n",
       "2  Ethnically Diverse Metropolitan Living  quadrant 1                  nolab  \n",
       "3                      Countryside Living  quadrant 1                  nolab  \n",
       "4  Ethnically Diverse Metropolitan Living  quadrant 1                  nolab  "
      ]
     },
     "execution_count": 8,
     "metadata": {},
     "output_type": "execute_result"
    }
   ],
   "source": [
    "f = \"fig1-levelling_up\"\n",
    "f8_1 = eco_git_path + f + \".csv\"\n",
    "df.to_csv(\"data/\" + f + \".csv\")\n",
    "f += local_suffix\n",
    "open(\"visualisation/\" + f + \".html\", \"w\").write(\n",
    "    vega_embed.replace(\n",
    "        \"JSON_PATH\", f8_1.replace(\"/data/\", \"/visualisation/\").replace(\".csv\", \".json\")\n",
    "    )\n",
    ")\n",
    "if LOCAL:\n",
    "    f8_1 = df\n",
    "readme = (\n",
    "    \"### \"\n",
    "    + f\n",
    "    + \" --- [json](visualisation/\"\n",
    "    + f\n",
    "    + '.json \"'\n",
    "    + f\n",
    "    + '\") [svg](visualisation/'\n",
    "    + f\n",
    "    + '.svg \"'\n",
    "    + f\n",
    "    + '\") [png](visualisation/'\n",
    "    + f\n",
    "    + '.png \"'\n",
    "    + f\n",
    "    + '\")\\n[![\"'\n",
    "    + f\n",
    "    + '\"](visualisation/'\n",
    "    + f\n",
    "    + '.svg \"'\n",
    "    + f\n",
    "    + '\")](visualisation/'\n",
    "    + f\n",
    "    + '.svg \"'\n",
    "    + f\n",
    "    + '\")\\n\\n'\n",
    ")\n",
    "df.head()"
   ]
  },
  {
   "cell_type": "code",
   "execution_count": null,
   "metadata": {
    "tags": []
   },
   "outputs": [],
   "source": [
    "config = json.loads(open(configSource, \"r\").read())\n",
    "# config[\"encoding\"][\"x\"][\"axis\"][\"grid\"] = False\n",
    "# config[\"encoding\"][\"x\"][\"axis\"][\"labelColor\"] = colors[\"eco-gray\"]\n",
    "# config[\"encoding\"][\"x\"][\"axis\"][\"titleColor\"] = colors[\"eco-gray\"]\n",
    "# config[\"encoding\"][\"x\"][\"axis\"][\"tickColor\"] = colors[\"eco-gray\"]\n",
    "# config[\"encoding\"][\"x\"][\"axis\"][\"domainColor\"] = colors[\"eco-gray\"]\n",
    "# config[\"encoding\"][\"y\"][\"axis\"][\"grid\"] = True\n",
    "# config[\"encoding\"][\"y\"][\"axis\"][\"gridColor\"] = colors[\"eco-gray\"]\n",
    "# config[\"encoding\"][\"y\"][\"axis\"][\"gridOpacity\"] = 0.1\n",
    "# config[\"encoding\"][\"y\"][\"axis\"][\"title\"] = \"\"\n",
    "# config[\"encoding\"][\"y\"][\"axis\"][\"titleAnchor\"] = \"start\"\n",
    "# config[\"encoding\"][\"y\"][\"axis\"][\"labelColor\"] = colors[\"eco-gray\"]\n",
    "# config[\"encoding\"][\"y\"][\"axis\"][\"titleColor\"] = colors[\"eco-gray\"]\n",
    "# config[\"encoding\"][\"y\"][\"axis\"][\"tickColor\"] = colors[\"eco-gray\"]\n",
    "# config[\"encoding\"][\"y\"][\"axis\"][\"domainColor\"] = colors[\"eco-gray\"]\n",
    "# config[\"encoding\"][\"y\"][\"axis\"][\"titleFontSize\"] = 10\n",
    "# config[\"encoding\"][\"y\"][\"axis\"][\"titleFontWeight\"] = \"normal\"\n",
    "# config[\"encoding\"][\"y\"][\"axis\"][\"ticks\"] = False\n",
    "# config[\"encoding\"][\"y\"][\"axis\"][\"labelAlign\"] = \"left\"\n",
    "# config[\"encoding\"][\"y\"][\"axis\"][\"labelBaseline\"] = \"middle\"\n",
    "# config[\"encoding\"][\"y\"][\"axis\"][\"labelPadding\"] = -5\n",
    "# config[\"encoding\"][\"y\"][\"axis\"][\"labelOffset\"] = -10\n",
    "# config[\"encoding\"][\"y\"][\"axis\"][\"titleBaseline\"] = \"bottom\"\n",
    "# config[\"encoding\"][\"y\"][\"axis\"][\"titleAngle\"] = 0\n",
    "# config[\"encoding\"][\"y\"][\"axis\"][\"titleAlign\"] = \"left\"\n",
    "# config[\"encoding\"][\"y\"][\"axis\"][\"tickCount\"] = 7\n",
    "# config[\"encoding\"][\"y\"][\"axis\"][\"titleX\"] = 45\n",
    "# config[\"encoding\"][\"y\"][\"axis\"][\"titleY\"] = -5\n",
    "# config[\"title\"][\"dy\"] = -5\n",
    "# config[\"encoding\"].pop(\"facet\")\n",
    "# config.pop(\"$schema\")\n",
    "# config.pop(\"resolve\")\n",
    "# config[\"encoding\"][\"color\"][\"legend\"] = None\n",
    "config[\"view\"] = {\"stroke\": None}\n",
    "config[\"width\"] = 300\n",
    "config[\"height\"] = 220\n",
    "base = alt.Chart.from_dict(config)\n",
    "# text = (\n",
    "#     base.mark_text(dx=5, align=\"left\")\n",
    "#     .encode(text=\"Country:N\")\n",
    "#     .transform_filter(\"year(datum.Time)==2018\")\n",
    "#     .transform_filter(\"datum.Country!='Brazil'\")\n",
    "# )\n",
    "# text2 = (\n",
    "#     base.mark_text(dx=5, dy=-10, align=\"left\")\n",
    "#     .encode(text=\"Country:N\")\n",
    "#     .transform_filter(\"year(datum.Time)==2018\")\n",
    "#     .transform_filter(\"datum.Country=='Brazil'\")\n",
    "# )\n",
    "layer1 = (\n",
    "    (base)\n",
    "    .transform_filter(\"datum.Country!='World'\")\n",
    "    .configure_view(stroke=None)\n",
    ")\n",
    "layer1.save(\"visualisation/\" + f + \".json\")\n",
    "# layer1.save(\"visualisation/\" + f + \".png\", scale_factor=2.0)\n",
    "# layer1.save(\"visualisation/\" + f + \".svg\")\n",
    "open(\"README.md\", \"a\").write(readme)\n",
    "layer1\n",
    "# altair_viewer.display(config, inline=True)"
   ]
  },
  {
   "cell_type": "code",
   "execution_count": null,
   "metadata": {
    "tags": []
   },
   "outputs": [],
   "source": [
    "config['layer'][0]"
   ]
  },
  {
   "cell_type": "code",
   "execution_count": null,
   "metadata": {},
   "outputs": [],
   "source": []
  }
 ],
 "metadata": {
  "interpreter": {
   "hash": "b3ba2566441a7c06988d0923437866b63cedc61552a5af99d1f4fb67d367b25f"
  },
  "kernelspec": {
   "display_name": "Python 3 (ipykernel)",
   "language": "python",
   "name": "python3"
  },
  "language_info": {
   "codemirror_mode": {
    "name": "ipython",
    "version": 3
   },
   "file_extension": ".py",
   "mimetype": "text/x-python",
   "name": "python",
   "nbconvert_exporter": "python",
   "pygments_lexer": "ipython3",
   "version": "3.10.10"
  }
 },
 "nbformat": 4,
 "nbformat_minor": 4
}
