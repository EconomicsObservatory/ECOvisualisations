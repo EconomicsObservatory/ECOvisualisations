{
 "cells": [
  {
   "cell_type": "code",
   "execution_count": 1,
   "metadata": {},
   "outputs": [],
   "source": [
    "import json\n",
    "import matplotlib.pyplot as plt\n",
    "import numpy as np\n",
    "import pandas as pd\n",
    "import requests"
   ]
  },
  {
   "cell_type": "code",
   "execution_count": 2,
   "metadata": {},
   "outputs": [],
   "source": [
    "import colorsys\n",
    "from matplotlib.colors import to_hex, to_rgb\n",
    "\n",
    "\n",
    "def scale_lightness(rgb, scale_l):\n",
    "    rgbhex = False\n",
    "    if \"#\" in rgb:\n",
    "        rgb = to_rgb(rgb)\n",
    "        rgbhex = True\n",
    "    # convert rgb to hls\n",
    "    h, l, s = colorsys.rgb_to_hls(*rgb)\n",
    "    # manipulate h, l, s values and return as rgb\n",
    "    c = colorsys.hls_to_rgb(h, min(1, l * scale_l), s=s)\n",
    "    if rgbhex:\n",
    "        c = to_hex(c)\n",
    "    return c"
   ]
  },
  {
   "cell_type": "code",
   "execution_count": 3,
   "metadata": {},
   "outputs": [],
   "source": [
    "LOCAL = False\n",
    "\n",
    "if LOCAL:\n",
    "    local_suffix = \"_local\"\n",
    "else:\n",
    "    local_suffix = \"\""
   ]
  },
  {
   "cell_type": "code",
   "execution_count": 4,
   "metadata": {},
   "outputs": [],
   "source": [
    "%%capture pwd\n",
    "!pwd"
   ]
  },
  {
   "cell_type": "code",
   "execution_count": 5,
   "metadata": {},
   "outputs": [
    {
     "data": {
      "text/plain": [
       "('', 300, 500)"
      ]
     },
     "execution_count": 5,
     "metadata": {},
     "output_type": "execute_result"
    }
   ],
   "source": [
    "uid = pwd.stdout.split(\"/\")[-1].split(\"\\r\")[0]\n",
    "eco_git_home = (\n",
    "    \"https://raw.githubusercontent.com/EconomicsObservatory/ECOvisualisations/main/\"\n",
    ")\n",
    "eco_git_path = eco_git_home + \"articles/\" + uid + \"/data/\"\n",
    "vega_embed = requests.get(eco_git_home + \"guidelines/html/vega-embed.html\").text\n",
    "colors = json.loads(\n",
    "    requests.get(eco_git_home + \"guidelines/colors/eco-colors.json\").content\n",
    ")\n",
    "category_color = json.loads(\n",
    "    requests.get(eco_git_home + \"guidelines/colors/eco-category-color.json\").content\n",
    ")\n",
    "hue_color = json.loads(\n",
    "    requests.get(eco_git_home + \"guidelines/colors/eco-single-hue-color.json\").content\n",
    ")\n",
    "mhue_color = json.loads(\n",
    "    requests.get(eco_git_home + \"guidelines/colors/eco-multi-hue-color.json\").content\n",
    ")\n",
    "div_color = json.loads(\n",
    "    requests.get(eco_git_home + \"guidelines/colors/eco-diverging-color.json\").content\n",
    ")\n",
    "config = json.loads(\n",
    "    requests.get(eco_git_home + \"guidelines/charts/eco-global-config.json\").content\n",
    ")\n",
    "height = config[\"height\"]\n",
    "width = config[\"width\"]\n",
    "uid, height, width"
   ]
  },
  {
   "cell_type": "markdown",
   "metadata": {},
   "source": [
    "# Fig 4"
   ]
  },
  {
   "cell_type": "code",
   "execution_count": 6,
   "metadata": {},
   "outputs": [],
   "source": [
    "# topojson\n",
    "# https://martinjc.github.io/UK-GeoJSON/json/sco/topo_lad.json simplyfiy on mapshaper.org\n",
    "scot = json.loads(open(\"visualisation/fig4/topo_lad.json\", \"r\").read())"
   ]
  },
  {
   "cell_type": "code",
   "execution_count": 7,
   "metadata": {},
   "outputs": [
    {
     "data": {
      "text/plain": [
       "{'type': 'MultiPolygon',\n",
       " 'properties': {'LAD13CD': 'E06000001',\n",
       "  'LAD13CDO': '00EB',\n",
       "  'LAD13NM': 'Hartlepool',\n",
       "  'LAD13NMW': None},\n",
       " 'id': 'E06000001',\n",
       " 'arcs': [[[0, 1]],\n",
       "  [[2, 3, 4, 5, 6, 7, 8, 9, 10, 11, 12, 13, 14, 15, 16, 17, 18]]]}"
      ]
     },
     "execution_count": 7,
     "metadata": {},
     "output_type": "execute_result"
    }
   ],
   "source": [
    "scot['objects']['lad']['geometries'][0]"
   ]
  },
  {
   "cell_type": "code",
   "execution_count": 8,
   "metadata": {},
   "outputs": [
    {
     "name": "stdout",
     "output_type": "stream",
     "text": [
      "Hartlepool\n",
      "Middlesbrough\n",
      "Redcar and Cleveland\n",
      "Stockton-on-Tees\n",
      "Darlington\n",
      "Halton\n",
      "Warrington\n",
      "Blackburn with Darwen\n",
      "Blackpool\n",
      "Kingston upon Hull, of\n",
      "East Riding of Yorkshire\n",
      "North East Lincolnshire\n",
      "North Lincolnshire\n",
      "York\n",
      "Derby\n",
      "Leicester\n",
      "Rutland\n",
      "Nottingham\n",
      "Herefordshire, County of\n",
      "Telford and Wrekin\n",
      "Stoke-on-Trent\n",
      "Bath and North East Somerset\n",
      "Bristol, of\n",
      "North Somerset\n",
      "South Gloucestershire\n",
      "Plymouth\n",
      "Torbay\n",
      "Bournemouth\n",
      "Poole\n",
      "Swindon\n",
      "Peterborough\n",
      "Luton\n",
      "Southend-on-Sea\n",
      "Thurrock\n",
      "Medway\n",
      "Bracknell Forest\n",
      "West Berkshire\n",
      "Reading\n",
      "Slough\n",
      "Windsor and Maidenhead\n",
      "Wokingham\n",
      "Milton Keynes\n",
      "Brighton and Hove\n",
      "Portsmouth\n",
      "Southampton\n",
      "Isle of Wight\n",
      "County Durham\n",
      "Cheshire East\n",
      "Cheshire West and Chester\n",
      "Shropshire\n",
      "Cornwall\n",
      "Isles of Scilly\n",
      "Wiltshire\n",
      "Bedford\n",
      "Central Bedfordshire\n",
      "Northumberland\n",
      "Aylesbury Vale\n",
      "Chiltern\n",
      "South Bucks\n",
      "Wycombe\n",
      "Cambridge\n",
      "East Cambridgeshire\n",
      "Fenland\n",
      "Huntingdonshire\n",
      "South Cambridgeshire\n",
      "Allerdale\n",
      "Barrow-in-Furness\n",
      "Carlisle\n",
      "Copeland\n",
      "Eden\n",
      "South Lakeland\n",
      "Amber Valley\n",
      "Bolsover\n",
      "Chesterfield\n",
      "Derbyshire Dales\n",
      "Erewash\n",
      "High Peak\n",
      "North East Derbyshire\n",
      "South Derbyshire\n",
      "East Devon\n",
      "Exeter\n",
      "Mid Devon\n",
      "North Devon\n",
      "South Hams\n",
      "Teignbridge\n",
      "Torridge\n",
      "West Devon\n",
      "Christchurch\n",
      "East Dorset\n",
      "North Dorset\n",
      "Purbeck\n",
      "West Dorset\n",
      "Weymouth and Portland\n",
      "Eastbourne\n",
      "Hastings\n",
      "Lewes\n",
      "Rother\n",
      "Wealden\n",
      "Basildon\n",
      "Braintree\n",
      "Brentwood\n",
      "Castle Point\n",
      "Chelmsford\n",
      "Colchester\n",
      "Epping Forest\n",
      "Harlow\n",
      "Maldon\n",
      "Rochford\n",
      "Tendring\n",
      "Uttlesford\n",
      "Cheltenham\n",
      "Cotswold\n",
      "Forest of Dean\n",
      "Gloucester\n",
      "Stroud\n",
      "Tewkesbury\n",
      "Basingstoke and Deane\n",
      "East Hampshire\n",
      "Eastleigh\n",
      "Fareham\n",
      "Gosport\n",
      "Hart\n",
      "Havant\n",
      "New Forest\n",
      "Rushmoor\n",
      "Test Valley\n",
      "Winchester\n",
      "Broxbourne\n",
      "Dacorum\n",
      "Hertsmere\n",
      "North Hertfordshire\n",
      "Three Rivers\n",
      "Watford\n",
      "Ashford\n",
      "Canterbury\n",
      "Dartford\n",
      "Dover\n",
      "Gravesham\n",
      "Maidstone\n",
      "Sevenoaks\n",
      "Shepway\n",
      "Swale\n",
      "Thanet\n",
      "Tonbridge and Malling\n",
      "Tunbridge Wells\n",
      "Burnley\n",
      "Chorley\n",
      "Fylde\n",
      "Hyndburn\n",
      "Lancaster\n",
      "Pendle\n",
      "Preston\n",
      "Ribble Valley\n",
      "Rossendale\n",
      "South Ribble\n",
      "West Lancashire\n",
      "Wyre\n",
      "Blaby\n",
      "Charnwood\n",
      "Harborough\n",
      "Hinckley and Bosworth\n",
      "Melton\n",
      "North West Leicestershire\n",
      "Oadby and Wigston\n",
      "Boston\n",
      "East Lindsey\n",
      "Lincoln\n",
      "North Kesteven\n",
      "South Holland\n",
      "South Kesteven\n",
      "West Lindsey\n",
      "Breckland\n",
      "Broadland\n",
      "Great Yarmouth\n",
      "King's Lynn and West Norfolk\n",
      "North Norfolk\n",
      "Norwich\n",
      "South Norfolk\n",
      "Corby\n",
      "Daventry\n",
      "East Northamptonshire\n",
      "Kettering\n",
      "Northampton\n",
      "South Northamptonshire\n",
      "Wellingborough\n",
      "Craven\n",
      "Hambleton\n",
      "Harrogate\n",
      "Richmondshire\n",
      "Ryedale\n",
      "Scarborough\n",
      "Selby\n",
      "Ashfield\n",
      "Bassetlaw\n",
      "Broxtowe\n",
      "Gedling\n",
      "Mansfield\n",
      "Newark and Sherwood\n",
      "Rushcliffe\n",
      "Cherwell\n",
      "Oxford\n",
      "South Oxfordshire\n",
      "Vale of White Horse\n",
      "West Oxfordshire\n",
      "Mendip\n",
      "Sedgemoor\n",
      "South Somerset\n",
      "Taunton Deane\n",
      "West Somerset\n",
      "Cannock Chase\n",
      "East Staffordshire\n",
      "Lichfield\n",
      "Newcastle-under-Lyme\n",
      "South Staffordshire\n",
      "Stafford\n",
      "Staffordshire Moorlands\n",
      "Tamworth\n",
      "Babergh\n",
      "Forest Heath\n",
      "Ipswich\n",
      "Mid Suffolk\n",
      "St Edmundsbury\n",
      "Suffolk Coastal\n",
      "Waveney\n",
      "Elmbridge\n",
      "Epsom and Ewell\n",
      "Guildford\n",
      "Mole Valley\n",
      "Reigate and Banstead\n",
      "Runnymede\n",
      "Spelthorne\n",
      "Surrey Heath\n",
      "Tandridge\n",
      "Waverley\n",
      "Woking\n",
      "North Warwickshire\n",
      "Nuneaton and Bedworth\n",
      "Rugby\n",
      "Stratford-on-Avon\n",
      "Warwick\n",
      "Adur\n",
      "Arun\n",
      "Chichester\n",
      "Crawley\n",
      "Horsham\n",
      "Mid Sussex\n",
      "Worthing\n",
      "Bromsgrove\n",
      "Malvern Hills\n",
      "Redditch\n",
      "Worcester\n",
      "Wychavon\n",
      "Wyre Forest\n",
      "St Albans\n",
      "Welwyn Hatfield\n",
      "East Hertfordshire\n",
      "Stevenage\n",
      "Bolton\n",
      "Bury\n",
      "Manchester\n",
      "Oldham\n",
      "Rochdale\n",
      "Salford\n",
      "Stockport\n",
      "Tameside\n",
      "Trafford\n",
      "Wigan\n",
      "Knowsley\n",
      "Liverpool\n",
      "St. Helens\n",
      "Sefton\n",
      "Wirral\n",
      "Barnsley\n",
      "Doncaster\n",
      "Rotherham\n",
      "Sheffield\n",
      "Newcastle upon Tyne\n",
      "North Tyneside\n",
      "South Tyneside\n",
      "Sunderland\n",
      "Birmingham\n",
      "Coventry\n",
      "Dudley\n",
      "Sandwell\n",
      "Solihull\n",
      "Walsall\n",
      "Wolverhampton\n",
      "Bradford\n",
      "Calderdale\n",
      "Kirklees\n",
      "Leeds\n",
      "Wakefield\n",
      "Gateshead\n",
      "London\n",
      "Barking and Dagenham\n",
      "Barnet\n",
      "Bexley\n",
      "Brent\n",
      "Bromley\n",
      "Camden\n",
      "Croydon\n",
      "Ealing\n",
      "Enfield\n",
      "Greenwich\n",
      "Hackney\n",
      "Hammersmith and Fulham\n",
      "Haringey\n",
      "Harrow\n",
      "Havering\n",
      "Hillingdon\n",
      "Hounslow\n",
      "Islington\n",
      "Kensington and Chelsea\n",
      "Kingston upon Thames\n",
      "Lambeth\n",
      "Lewisham\n",
      "Merton\n",
      "Newham\n",
      "Redbridge\n",
      "Richmond upon Thames\n",
      "Southwark\n",
      "Sutton\n",
      "Tower Hamlets\n",
      "Waltham Forest\n",
      "Wandsworth\n",
      "Westminster\n"
     ]
    },
    {
     "data": {
      "text/plain": [
       "1309251"
      ]
     },
     "execution_count": 8,
     "metadata": {},
     "output_type": "execute_result"
    }
   ],
   "source": [
    "for i in scot[\"objects\"][\"lad\"][\"geometries\"]:\n",
    "    lad = (\n",
    "        i[\"properties\"][\"LAD13NM\"]\n",
    "        .replace(\" City\", \"\")\n",
    "        .replace(\"City of \", \"\")\n",
    "        .replace(\" Islands\", \"\")\n",
    "    )\n",
    "    i[\"properties\"][\"LAD13NM\"] = lad\n",
    "    try:\n",
    "        for k in df.set_index(\"id\").columns:\n",
    "            i[\"properties\"][k] = df.set_index(\"id\").loc[lad][k]\n",
    "    except:\n",
    "        print(lad)\n",
    "\n",
    "open(\"visualisation/fig4/topo_lad_standard.json\", \"w\").write(json.dumps(scot))"
   ]
  },
  {
   "cell_type": "code",
   "execution_count": 9,
   "metadata": {},
   "outputs": [
    {
     "data": {
      "text/plain": [
       "{'type': 'MultiPolygon',\n",
       " 'properties': {'LAD13CD': 'E06000001',\n",
       "  'LAD13CDO': '00EB',\n",
       "  'LAD13NM': 'Hartlepool',\n",
       "  'LAD13NMW': None},\n",
       " 'id': 'E06000001',\n",
       " 'arcs': [[[0, 1]],\n",
       "  [[2, 3, 4, 5, 6, 7, 8, 9, 10, 11, 12, 13, 14, 15, 16, 17, 18]]]}"
      ]
     },
     "execution_count": 9,
     "metadata": {},
     "output_type": "execute_result"
    }
   ],
   "source": [
    "scot['objects']['lad']['geometries'][0]"
   ]
  },
  {
   "cell_type": "code",
   "execution_count": 93,
   "metadata": {},
   "outputs": [],
   "source": [
    "ds=pd.json_normalize(scot['objects']['lad']['geometries'])"
   ]
  },
  {
   "cell_type": "code",
   "execution_count": 94,
   "metadata": {},
   "outputs": [],
   "source": [
    "df=pd.read_excel('raw/EconObsData.xlsx',sheet_name='Figure4')"
   ]
  },
  {
   "cell_type": "code",
   "execution_count": 95,
   "metadata": {},
   "outputs": [],
   "source": [
    "df['id']=df['lad11cd'].replace('E41000324','E09000033').replace('E41000052','E06000052').replace('E06000048','E06000057')\\\n",
    "    .replace('E07000100','E07000240').replace('E07000104','E07000241').replace('E07000097','E07000242').replace('E07000101','E07000243').replace('E08000020','E08000037')\n",
    "df['lad11nm']=df['lad11nm'].str.replace(\"City of London,\", \"\").str.replace(\" City\", \"\").str.replace(\"City of \", \"\").str.replace(\" Islands\", \"\").\\\n",
    "        str.replace(\",\", \", \").str.replace(\"  \", \" \").str.strip()\n",
    "df=pd.concat([df[df['id']=='E06000052'].replace('E06000052','E06000053'),df])\n",
    "df['WFH']=df['WFH'].round(1)\n",
    "df['WFH2']=df['WFH'].round(0).astype(int)"
   ]
  },
  {
   "cell_type": "code",
   "execution_count": 96,
   "metadata": {},
   "outputs": [
    {
     "data": {
      "text/html": [
       "<div>\n",
       "<style scoped>\n",
       "    .dataframe tbody tr th:only-of-type {\n",
       "        vertical-align: middle;\n",
       "    }\n",
       "\n",
       "    .dataframe tbody tr th {\n",
       "        vertical-align: top;\n",
       "    }\n",
       "\n",
       "    .dataframe thead th {\n",
       "        text-align: right;\n",
       "    }\n",
       "</style>\n",
       "<table border=\"1\" class=\"dataframe\">\n",
       "  <thead>\n",
       "    <tr style=\"text-align: right;\">\n",
       "      <th></th>\n",
       "      <th>type</th>\n",
       "      <th>id</th>\n",
       "      <th>arcs</th>\n",
       "      <th>properties.LAD13CD</th>\n",
       "      <th>properties.LAD13CDO</th>\n",
       "      <th>properties.LAD13NM</th>\n",
       "      <th>properties.LAD13NMW</th>\n",
       "      <th>lad11cd</th>\n",
       "      <th>lad11nm</th>\n",
       "      <th>WFH</th>\n",
       "      <th>_ID</th>\n",
       "      <th>WFH2</th>\n",
       "    </tr>\n",
       "  </thead>\n",
       "  <tbody>\n",
       "    <tr>\n",
       "      <th>293</th>\n",
       "      <td>Polygon</td>\n",
       "      <td>E09000001</td>\n",
       "      <td>[[2634, 2635, 2636, 2637, 2638, 2639]]</td>\n",
       "      <td>E09000001</td>\n",
       "      <td>00AA</td>\n",
       "      <td>London</td>\n",
       "      <td>None</td>\n",
       "      <td>NaN</td>\n",
       "      <td>NaN</td>\n",
       "      <td>NaN</td>\n",
       "      <td>NaN</td>\n",
       "      <td>NaN</td>\n",
       "    </tr>\n",
       "  </tbody>\n",
       "</table>\n",
       "</div>"
      ],
      "text/plain": [
       "        type         id                                    arcs  \\\n",
       "293  Polygon  E09000001  [[2634, 2635, 2636, 2637, 2638, 2639]]   \n",
       "\n",
       "    properties.LAD13CD properties.LAD13CDO properties.LAD13NM  \\\n",
       "293          E09000001                00AA             London   \n",
       "\n",
       "    properties.LAD13NMW lad11cd lad11nm  WFH  _ID  WFH2  \n",
       "293                None     NaN     NaN  NaN  NaN   NaN  "
      ]
     },
     "execution_count": 96,
     "metadata": {},
     "output_type": "execute_result"
    }
   ],
   "source": [
    "dk=ds.join(df.set_index('id'),on='id')\n",
    "dk[dk['lad11nm'].astype(str)=='nan']"
   ]
  },
  {
   "cell_type": "code",
   "execution_count": 97,
   "metadata": {},
   "outputs": [
    {
     "name": "stderr",
     "output_type": "stream",
     "text": [
      "c:\\ProgramData\\Anaconda3\\lib\\site-packages\\ipykernel_launcher.py:1: UserWarning: DataFrame columns are not unique, some columns will be omitted.\n",
      "  \"\"\"Entry point for launching an IPython kernel.\n"
     ]
    },
    {
     "data": {
      "text/plain": [
       "37213"
      ]
     },
     "execution_count": 97,
     "metadata": {},
     "output_type": "execute_result"
    }
   ],
   "source": [
    "open('visualisation/fig4/lad_data.json','w').write(json.dumps(list(df.T.to_dict().values())))"
   ]
  },
  {
   "cell_type": "code",
   "execution_count": 99,
   "metadata": {},
   "outputs": [
    {
     "data": {
      "text/plain": [
       "190"
      ]
     },
     "execution_count": 99,
     "metadata": {},
     "output_type": "execute_result"
    }
   ],
   "source": [
    "readme = (\n",
    "    \"### fig4_remote_work\"\n",
    "    + \"\\n[Interactive map](https://economicsobservatory.github.io/ECOvisualisations/articles/what-does-remote-working-mean-for-regional-economies-in-the-uk/visualisation/fig4/)\\n\\n\"\n",
    ")\n",
    "open(\"README.md\", \"w\").write(readme)"
   ]
  },
  {
   "cell_type": "code",
   "execution_count": null,
   "metadata": {},
   "outputs": [],
   "source": []
  }
 ],
 "metadata": {
  "kernelspec": {
   "display_name": "Python 3 (ipykernel)",
   "language": "python",
   "name": "python3"
  },
  "language_info": {
   "codemirror_mode": {
    "name": "ipython",
    "version": 3
   },
   "file_extension": ".py",
   "mimetype": "text/x-python",
   "name": "python",
   "nbconvert_exporter": "python",
   "pygments_lexer": "ipython3",
   "version": "3.9.7"
  },
  "vscode": {
   "interpreter": {
    "hash": "ad2bdc8ecc057115af97d19610ffacc2b4e99fae6737bb82f5d7fb13d2f2c186"
   }
  }
 },
 "nbformat": 4,
 "nbformat_minor": 4
}
