{
 "cells": [
  {
   "cell_type": "code",
   "execution_count": 235,
   "metadata": {},
   "outputs": [],
   "source": [
    "import pandas as pd, numpy as np\n",
    "import matplotlib.pyplot as plt\n",
    "import altair as alt"
   ]
  },
  {
   "cell_type": "code",
   "execution_count": 236,
   "metadata": {},
   "outputs": [],
   "source": [
    "colors=['#e6224b','#0063af']"
   ]
  },
  {
   "cell_type": "code",
   "execution_count": 237,
   "metadata": {},
   "outputs": [],
   "source": [
    "fi=pd.read_csv('fig1_fiscalsupport.csv')\n",
    "nofi=pd.read_csv('fig1_nofiscalsupport.csv')"
   ]
  },
  {
   "cell_type": "code",
   "execution_count": 238,
   "metadata": {},
   "outputs": [
    {
     "data": {
      "text/plain": [
       "<AxesSubplot:xlabel='death %'>"
      ]
     },
     "execution_count": 238,
     "metadata": {},
     "output_type": "execute_result"
    },
    {
     "data": {
      "image/png": "[encoded data removed]",
      "text/plain": [
       "<Figure size 432x288 with 1 Axes>"
      ]
     },
     "metadata": {
      "needs_background": "light"
     },
     "output_type": "display_data"
    },
    {
     "data": {
      "image/png": "[encoded data removed]",
      "text/plain": [
       "<Figure size 432x288 with 1 Axes>"
      ]
     },
     "metadata": {
      "needs_background": "light"
     },
     "output_type": "display_data"
    }
   ],
   "source": [
    "fi.plot('death %','mean',kind='line')\n",
    "nofi.plot('death %','mean',kind='line')"
   ]
  },
  {
   "cell_type": "code",
   "execution_count": 247,
   "metadata": {},
   "outputs": [],
   "source": [
    "fi='https://raw.githubusercontent.com/csaladenes/eco/main/ben_moll/fig1_fiscalsupport.csv'\n",
    "nofi='https://raw.githubusercontent.com/csaladenes/eco/main/ben_moll/fig1_nofiscalsupport.csv'"
   ]
  },
  {
   "cell_type": "code",
   "execution_count": 259,
   "metadata": {},
   "outputs": [],
   "source": [
    "base = alt.Chart(fi).encode(\n",
    "    alt.X('death %:Q', axis=alt.Axis(title=None), sort=[])\n",
    ")\n",
    "\n",
    "area = base.mark_area(opacity=0.15, color=colors[0]).encode(\n",
    "    alt.Y('p90:Q',\n",
    "          axis=alt.Axis(title='', titleColor='#57A44C')),\n",
    "    alt.Y2('p10:Q')\n",
    ")\n",
    "line = base.mark_line(stroke=colors[0]).encode(\n",
    "    alt.Y('mean:Q',\n",
    "          axis=alt.Axis())\n",
    ")\n",
    "point = base.mark_point(fill=colors[0],stroke=colors[0]).encode(\n",
    "    alt.Y('mean:Q',\n",
    "          axis=alt.Axis())\n",
    ")\n",
    "\n",
    "layer1=alt.layer(area, line, point)"
   ]
  },
  {
   "cell_type": "code",
   "execution_count": 260,
   "metadata": {},
   "outputs": [
    {
     "data": {
      "text/html": [
       "\n",
       "<div id=\"altair-viz-5d2b06ef077d43bb97358b5157f0c784\"></div>\n",
       "<script type=\"text/javascript\">\n",
       "  (function(spec, embedOpt){\n",
       "    let outputDiv = document.currentScript.previousElementSibling;\n",
       "    if (outputDiv.id !== \"altair-viz-5d2b06ef077d43bb97358b5157f0c784\") {\n",
       "      outputDiv = document.getElementById(\"altair-viz-5d2b06ef077d43bb97358b5157f0c784\");\n",
       "    }\n",
       "    const paths = {\n",
       "      \"vega\": \"https://cdn.jsdelivr.net/npm//vega@5?noext\",\n",
       "      \"vega-lib\": \"https://cdn.jsdelivr.net/npm//vega-lib?noext\",\n",
       "      \"vega-lite\": \"https://cdn.jsdelivr.net/npm//vega-lite@4.8.1?noext\",\n",
       "      \"vega-embed\": \"https://cdn.jsdelivr.net/npm//vega-embed@6?noext\",\n",
       "    };\n",
       "\n",
       "    function loadScript(lib) {\n",
       "      return new Promise(function(resolve, reject) {\n",
       "        var s = document.createElement('script');\n",
       "        s.src = paths[lib];\n",
       "        s.async = true;\n",
       "        s.onload = () => resolve(paths[lib]);\n",
       "        s.onerror = () => reject(`Error loading script: ${paths[lib]}`);\n",
       "        document.getElementsByTagName(\"head\")[0].appendChild(s);\n",
       "      });\n",
       "    }\n",
       "\n",
       "    function showError(err) {\n",
       "      outputDiv.innerHTML = `<div class=\"error\" style=\"color:red;\">${err}</div>`;\n",
       "      throw err;\n",
       "    }\n",
       "\n",
       "    function displayChart(vegaEmbed) {\n",
       "      vegaEmbed(outputDiv, spec, embedOpt)\n",
       "        .catch(err => showError(`Javascript Error: ${err.message}<br>This usually means there's a typo in your chart specification. See the javascript console for the full traceback.`));\n",
       "    }\n",
       "\n",
       "    if(typeof define === \"function\" && define.amd) {\n",
       "      requirejs.config({paths});\n",
       "      require([\"vega-embed\"], displayChart, err => showError(`Error loading script: ${err.message}`));\n",
       "    } else if (typeof vegaEmbed === \"function\") {\n",
       "      displayChart(vegaEmbed);\n",
       "    } else {\n",
       "      loadScript(\"vega\")\n",
       "        .then(() => loadScript(\"vega-lite\"))\n",
       "        .then(() => loadScript(\"vega-embed\"))\n",
       "        .catch(showError)\n",
       "        .then(() => displayChart(vegaEmbed));\n",
       "    }\n",
       "  })({\"config\": {\"view\": {\"continuousWidth\": 400, \"continuousHeight\": 300}}, \"layer\": [{\"mark\": {\"type\": \"area\", \"color\": \"#e6224b\", \"opacity\": 0.15}, \"encoding\": {\"x\": {\"type\": \"quantitative\", \"axis\": {\"title\": null}, \"field\": \"death %\", \"sort\": []}, \"y\": {\"type\": \"quantitative\", \"axis\": {\"title\": \"\", \"titleColor\": \"#57A44C\"}, \"field\": \"p90\"}, \"y2\": {\"field\": \"p10\"}}}, {\"mark\": {\"type\": \"line\", \"stroke\": \"#e6224b\"}, \"encoding\": {\"x\": {\"type\": \"quantitative\", \"axis\": {\"title\": null}, \"field\": \"death %\", \"sort\": []}, \"y\": {\"type\": \"quantitative\", \"axis\": {}, \"field\": \"mean\"}}}, {\"mark\": {\"type\": \"point\", \"fill\": \"#e6224b\", \"stroke\": \"#e6224b\"}, \"encoding\": {\"x\": {\"type\": \"quantitative\", \"axis\": {\"title\": null}, \"field\": \"death %\", \"sort\": []}, \"y\": {\"type\": \"quantitative\", \"axis\": {}, \"field\": \"mean\"}}}], \"data\": {\"url\": \"https://raw.githubusercontent.com/csaladenes/eco/main/ben_moll/fig1_fiscalsupport.csv\"}, \"$schema\": \"https://vega.github.io/schema/vega-lite/v4.8.1.json\"}, {\"mode\": \"vega-lite\"});\n",
       "</script>"
      ],
      "text/plain": [
       "alt.LayerChart(...)"
      ]
     },
     "execution_count": 260,
     "metadata": {},
     "output_type": "execute_result"
    }
   ],
   "source": [
    "layer1"
   ]
  },
  {
   "cell_type": "code",
   "execution_count": 261,
   "metadata": {},
   "outputs": [],
   "source": [
    "base = alt.Chart(nofi).encode(\n",
    "    alt.X('death %:Q', axis=alt.Axis(title=None), sort=[])\n",
    ")\n",
    "\n",
    "area = base.mark_area(opacity=0.15, color=colors[1]).encode(\n",
    "    alt.Y('p90:Q',\n",
    "          axis=alt.Axis(title='', titleColor='#57A44C')),\n",
    "    alt.Y2('p10:Q')\n",
    ")\n",
    "line = base.mark_line(stroke=colors[1]).encode(\n",
    "    alt.Y('mean:Q',\n",
    "          axis=alt.Axis())\n",
    ")\n",
    "point = base.mark_point(fill=colors[1],stroke=colors[1]).encode(\n",
    "    alt.Y('mean:Q',\n",
    "          axis=alt.Axis())\n",
    ")\n",
    "\n",
    "layer2=alt.layer(area, line, point)"
   ]
  },
  {
   "cell_type": "code",
   "execution_count": 262,
   "metadata": {},
   "outputs": [
    {
     "data": {
      "text/html": [
       "\n",
       "<div id=\"altair-viz-0411e85e7d5b417e9912fa5619a191fd\"></div>\n",
       "<script type=\"text/javascript\">\n",
       "  (function(spec, embedOpt){\n",
       "    let outputDiv = document.currentScript.previousElementSibling;\n",
       "    if (outputDiv.id !== \"altair-viz-0411e85e7d5b417e9912fa5619a191fd\") {\n",
       "      outputDiv = document.getElementById(\"altair-viz-0411e85e7d5b417e9912fa5619a191fd\");\n",
       "    }\n",
       "    const paths = {\n",
       "      \"vega\": \"https://cdn.jsdelivr.net/npm//vega@5?noext\",\n",
       "      \"vega-lib\": \"https://cdn.jsdelivr.net/npm//vega-lib?noext\",\n",
       "      \"vega-lite\": \"https://cdn.jsdelivr.net/npm//vega-lite@4.8.1?noext\",\n",
       "      \"vega-embed\": \"https://cdn.jsdelivr.net/npm//vega-embed@6?noext\",\n",
       "    };\n",
       "\n",
       "    function loadScript(lib) {\n",
       "      return new Promise(function(resolve, reject) {\n",
       "        var s = document.createElement('script');\n",
       "        s.src = paths[lib];\n",
       "        s.async = true;\n",
       "        s.onload = () => resolve(paths[lib]);\n",
       "        s.onerror = () => reject(`Error loading script: ${paths[lib]}`);\n",
       "        document.getElementsByTagName(\"head\")[0].appendChild(s);\n",
       "      });\n",
       "    }\n",
       "\n",
       "    function showError(err) {\n",
       "      outputDiv.innerHTML = `<div class=\"error\" style=\"color:red;\">${err}</div>`;\n",
       "      throw err;\n",
       "    }\n",
       "\n",
       "    function displayChart(vegaEmbed) {\n",
       "      vegaEmbed(outputDiv, spec, embedOpt)\n",
       "        .catch(err => showError(`Javascript Error: ${err.message}<br>This usually means there's a typo in your chart specification. See the javascript console for the full traceback.`));\n",
       "    }\n",
       "\n",
       "    if(typeof define === \"function\" && define.amd) {\n",
       "      requirejs.config({paths});\n",
       "      require([\"vega-embed\"], displayChart, err => showError(`Error loading script: ${err.message}`));\n",
       "    } else if (typeof vegaEmbed === \"function\") {\n",
       "      displayChart(vegaEmbed);\n",
       "    } else {\n",
       "      loadScript(\"vega\")\n",
       "        .then(() => loadScript(\"vega-lite\"))\n",
       "        .then(() => loadScript(\"vega-embed\"))\n",
       "        .catch(showError)\n",
       "        .then(() => displayChart(vegaEmbed));\n",
       "    }\n",
       "  })({\"config\": {\"view\": {\"continuousWidth\": 400, \"continuousHeight\": 300}}, \"layer\": [{\"mark\": {\"type\": \"area\", \"color\": \"#0063af\", \"opacity\": 0.15}, \"encoding\": {\"x\": {\"type\": \"quantitative\", \"axis\": {\"title\": null}, \"field\": \"death %\", \"sort\": []}, \"y\": {\"type\": \"quantitative\", \"axis\": {\"title\": \"\", \"titleColor\": \"#57A44C\"}, \"field\": \"p90\"}, \"y2\": {\"field\": \"p10\"}}}, {\"mark\": {\"type\": \"line\", \"stroke\": \"#0063af\"}, \"encoding\": {\"x\": {\"type\": \"quantitative\", \"axis\": {\"title\": null}, \"field\": \"death %\", \"sort\": []}, \"y\": {\"type\": \"quantitative\", \"axis\": {}, \"field\": \"mean\"}}}, {\"mark\": {\"type\": \"point\", \"fill\": \"#0063af\", \"stroke\": \"#0063af\"}, \"encoding\": {\"x\": {\"type\": \"quantitative\", \"axis\": {\"title\": null}, \"field\": \"death %\", \"sort\": []}, \"y\": {\"type\": \"quantitative\", \"axis\": {}, \"field\": \"mean\"}}}], \"data\": {\"url\": \"https://raw.githubusercontent.com/csaladenes/eco/main/ben_moll/fig1_nofiscalsupport.csv\"}, \"$schema\": \"https://vega.github.io/schema/vega-lite/v4.8.1.json\"}, {\"mode\": \"vega-lite\"});\n",
       "</script>"
      ],
      "text/plain": [
       "alt.LayerChart(...)"
      ]
     },
     "execution_count": 262,
     "metadata": {},
     "output_type": "execute_result"
    }
   ],
   "source": [
    "layer2"
   ]
  },
  {
   "cell_type": "code",
   "execution_count": 263,
   "metadata": {},
   "outputs": [
    {
     "data": {
      "text/html": [
       "\n",
       "<div id=\"altair-viz-e63645c1fd854f1ea62f95b2969e792e\"></div>\n",
       "<script type=\"text/javascript\">\n",
       "  (function(spec, embedOpt){\n",
       "    let outputDiv = document.currentScript.previousElementSibling;\n",
       "    if (outputDiv.id !== \"altair-viz-e63645c1fd854f1ea62f95b2969e792e\") {\n",
       "      outputDiv = document.getElementById(\"altair-viz-e63645c1fd854f1ea62f95b2969e792e\");\n",
       "    }\n",
       "    const paths = {\n",
       "      \"vega\": \"https://cdn.jsdelivr.net/npm//vega@5?noext\",\n",
       "      \"vega-lib\": \"https://cdn.jsdelivr.net/npm//vega-lib?noext\",\n",
       "      \"vega-lite\": \"https://cdn.jsdelivr.net/npm//vega-lite@4.8.1?noext\",\n",
       "      \"vega-embed\": \"https://cdn.jsdelivr.net/npm//vega-embed@6?noext\",\n",
       "    };\n",
       "\n",
       "    function loadScript(lib) {\n",
       "      return new Promise(function(resolve, reject) {\n",
       "        var s = document.createElement('script');\n",
       "        s.src = paths[lib];\n",
       "        s.async = true;\n",
       "        s.onload = () => resolve(paths[lib]);\n",
       "        s.onerror = () => reject(`Error loading script: ${paths[lib]}`);\n",
       "        document.getElementsByTagName(\"head\")[0].appendChild(s);\n",
       "      });\n",
       "    }\n",
       "\n",
       "    function showError(err) {\n",
       "      outputDiv.innerHTML = `<div class=\"error\" style=\"color:red;\">${err}</div>`;\n",
       "      throw err;\n",
       "    }\n",
       "\n",
       "    function displayChart(vegaEmbed) {\n",
       "      vegaEmbed(outputDiv, spec, embedOpt)\n",
       "        .catch(err => showError(`Javascript Error: ${err.message}<br>This usually means there's a typo in your chart specification. See the javascript console for the full traceback.`));\n",
       "    }\n",
       "\n",
       "    if(typeof define === \"function\" && define.amd) {\n",
       "      requirejs.config({paths});\n",
       "      require([\"vega-embed\"], displayChart, err => showError(`Error loading script: ${err.message}`));\n",
       "    } else if (typeof vegaEmbed === \"function\") {\n",
       "      displayChart(vegaEmbed);\n",
       "    } else {\n",
       "      loadScript(\"vega\")\n",
       "        .then(() => loadScript(\"vega-lite\"))\n",
       "        .then(() => loadScript(\"vega-embed\"))\n",
       "        .catch(showError)\n",
       "        .then(() => displayChart(vegaEmbed));\n",
       "    }\n",
       "  })({\"config\": {\"view\": {\"continuousWidth\": 610, \"continuousHeight\": 420}}, \"layer\": [{\"mark\": {\"type\": \"area\", \"color\": \"#e6224b\", \"opacity\": 0.15}, \"encoding\": {\"x\": {\"type\": \"quantitative\", \"axis\": {\"title\": null}, \"field\": \"death %\", \"sort\": []}, \"y\": {\"type\": \"quantitative\", \"axis\": {\"title\": \"\", \"titleColor\": \"#57A44C\"}, \"field\": \"p90\"}, \"y2\": {\"field\": \"p10\"}}}, {\"mark\": {\"type\": \"line\", \"stroke\": \"#e6224b\"}, \"encoding\": {\"x\": {\"type\": \"quantitative\", \"axis\": {\"title\": null}, \"field\": \"death %\", \"sort\": []}, \"y\": {\"type\": \"quantitative\", \"axis\": {}, \"field\": \"mean\"}}}, {\"mark\": {\"type\": \"point\", \"fill\": \"#e6224b\", \"stroke\": \"#e6224b\"}, \"encoding\": {\"x\": {\"type\": \"quantitative\", \"axis\": {\"title\": null}, \"field\": \"death %\", \"sort\": []}, \"y\": {\"type\": \"quantitative\", \"axis\": {}, \"field\": \"mean\"}}}, {\"layer\": [{\"mark\": {\"type\": \"area\", \"color\": \"#0063af\", \"opacity\": 0.15}, \"encoding\": {\"x\": {\"type\": \"quantitative\", \"axis\": {\"title\": null}, \"field\": \"death %\", \"sort\": []}, \"y\": {\"type\": \"quantitative\", \"axis\": {\"title\": \"\", \"titleColor\": \"#57A44C\"}, \"field\": \"p90\"}, \"y2\": {\"field\": \"p10\"}}}, {\"mark\": {\"type\": \"line\", \"stroke\": \"#0063af\"}, \"encoding\": {\"x\": {\"type\": \"quantitative\", \"axis\": {\"title\": null}, \"field\": \"death %\", \"sort\": []}, \"y\": {\"type\": \"quantitative\", \"axis\": {}, \"field\": \"mean\"}}}, {\"mark\": {\"type\": \"point\", \"fill\": \"#0063af\", \"stroke\": \"#0063af\"}, \"encoding\": {\"x\": {\"type\": \"quantitative\", \"axis\": {\"title\": null}, \"field\": \"death %\", \"sort\": []}, \"y\": {\"type\": \"quantitative\", \"axis\": {}, \"field\": \"mean\"}}}], \"data\": {\"url\": \"https://raw.githubusercontent.com/csaladenes/eco/main/ben_moll/fig1_nofiscalsupport.csv\"}}], \"data\": {\"url\": \"https://raw.githubusercontent.com/csaladenes/eco/main/ben_moll/fig1_fiscalsupport.csv\"}, \"$schema\": \"https://vega.github.io/schema/vega-lite/v4.8.1.json\"}, {\"mode\": \"vega-lite\"});\n",
       "</script>"
      ],
      "text/plain": [
       "alt.LayerChart(...)"
      ]
     },
     "execution_count": 263,
     "metadata": {},
     "output_type": "execute_result"
    }
   ],
   "source": [
    "(layer1+layer2).configure_view(\n",
    "        continuousHeight=420,\n",
    "        continuousWidth=610)"
   ]
  },
  {
   "cell_type": "code",
   "execution_count": 264,
   "metadata": {},
   "outputs": [
    {
     "data": {
      "text/html": [
       "\n",
       "<div id=\"altair-viz-b1668eb61c2149c98d95c1b75f06c33d\"></div>\n",
       "<script type=\"text/javascript\">\n",
       "  (function(spec, embedOpt){\n",
       "    let outputDiv = document.currentScript.previousElementSibling;\n",
       "    if (outputDiv.id !== \"altair-viz-b1668eb61c2149c98d95c1b75f06c33d\") {\n",
       "      outputDiv = document.getElementById(\"altair-viz-b1668eb61c2149c98d95c1b75f06c33d\");\n",
       "    }\n",
       "    const paths = {\n",
       "      \"vega\": \"https://cdn.jsdelivr.net/npm//vega@5?noext\",\n",
       "      \"vega-lib\": \"https://cdn.jsdelivr.net/npm//vega-lib?noext\",\n",
       "      \"vega-lite\": \"https://cdn.jsdelivr.net/npm//vega-lite@4.8.1?noext\",\n",
       "      \"vega-embed\": \"https://cdn.jsdelivr.net/npm//vega-embed@6?noext\",\n",
       "    };\n",
       "\n",
       "    function loadScript(lib) {\n",
       "      return new Promise(function(resolve, reject) {\n",
       "        var s = document.createElement('script');\n",
       "        s.src = paths[lib];\n",
       "        s.async = true;\n",
       "        s.onload = () => resolve(paths[lib]);\n",
       "        s.onerror = () => reject(`Error loading script: ${paths[lib]}`);\n",
       "        document.getElementsByTagName(\"head\")[0].appendChild(s);\n",
       "      });\n",
       "    }\n",
       "\n",
       "    function showError(err) {\n",
       "      outputDiv.innerHTML = `<div class=\"error\" style=\"color:red;\">${err}</div>`;\n",
       "      throw err;\n",
       "    }\n",
       "\n",
       "    function displayChart(vegaEmbed) {\n",
       "      vegaEmbed(outputDiv, spec, embedOpt)\n",
       "        .catch(err => showError(`Javascript Error: ${err.message}<br>This usually means there's a typo in your chart specification. See the javascript console for the full traceback.`));\n",
       "    }\n",
       "\n",
       "    if(typeof define === \"function\" && define.amd) {\n",
       "      requirejs.config({paths});\n",
       "      require([\"vega-embed\"], displayChart, err => showError(`Error loading script: ${err.message}`));\n",
       "    } else if (typeof vegaEmbed === \"function\") {\n",
       "      displayChart(vegaEmbed);\n",
       "    } else {\n",
       "      loadScript(\"vega\")\n",
       "        .then(() => loadScript(\"vega-lite\"))\n",
       "        .then(() => loadScript(\"vega-embed\"))\n",
       "        .catch(showError)\n",
       "        .then(() => displayChart(vegaEmbed));\n",
       "    }\n",
       "  })({\"config\": {\"view\": {\"continuousWidth\": 400, \"continuousHeight\": 300}}, \"vconcat\": [{\"hconcat\": [{\"mark\": {\"type\": \"point\", \"filled\": true}, \"encoding\": {\"tooltip\": {\"type\": \"nominal\", \"field\": \"Title\"}, \"x\": {\"type\": \"quantitative\", \"field\": \"Worldwide_Gross\", \"scale\": {\"clamp\": true, \"domain\": [100000, 1000000000]}}, \"y\": {\"type\": \"quantitative\", \"field\": \"IMDB_Rating\"}}, \"height\": 200, \"selection\": {\"Release Year_\": {\"type\": \"single\", \"bind\": {\"input\": \"range\", \"max\": 2018, \"min\": 1969, \"step\": 1}, \"fields\": [\"Release_Year\"]}}, \"title\": \"Slider Filtering\", \"transform\": [{\"calculate\": \"floor(datum.IMDB_Rating)\", \"as\": \"Rounded_IMDB_Rating\"}, {\"calculate\": \"datum.Production_Budget > 100000000.0 ? 100 : 10\", \"as\": \"Hundred_Million_Production\"}, {\"calculate\": \"year(datum.Release_Date)\", \"as\": \"Release_Year\"}, {\"filter\": \"(datum.IMDB_Rating > 0)\"}, {\"filter\": {\"field\": \"MPAA_Rating\", \"oneOf\": [\"G\", \"NC-17\", \"PG\", \"PG-13\", \"R\"]}}, {\"filter\": {\"selection\": \"Release Year_\"}}], \"width\": 200}, {\"mark\": {\"type\": \"point\", \"filled\": true}, \"encoding\": {\"tooltip\": {\"type\": \"nominal\", \"field\": \"Title\"}, \"x\": {\"type\": \"quantitative\", \"field\": \"Worldwide_Gross\", \"scale\": {\"clamp\": true, \"domain\": [100000, 1000000000]}}, \"y\": {\"type\": \"quantitative\", \"field\": \"IMDB_Rating\"}}, \"height\": 200, \"selection\": {\"Genre\": {\"type\": \"single\", \"fields\": [\"Major_Genre\"], \"bind\": {\"input\": \"select\", \"options\": [\"Action\", \"Adventure\", \"Black Comedy\", \"Comedy\", \"Concert/Performance\", \"Documentary\", \"Drama\", \"Horror\", \"Musical\", \"Romantic Comedy\", \"Thriller/Suspense\", \"Western\"]}}}, \"title\": \"Dropdown Filtering\", \"transform\": [{\"calculate\": \"floor(datum.IMDB_Rating)\", \"as\": \"Rounded_IMDB_Rating\"}, {\"calculate\": \"datum.Production_Budget > 100000000.0 ? 100 : 10\", \"as\": \"Hundred_Million_Production\"}, {\"calculate\": \"year(datum.Release_Date)\", \"as\": \"Release_Year\"}, {\"filter\": \"(datum.IMDB_Rating > 0)\"}, {\"filter\": {\"field\": \"MPAA_Rating\", \"oneOf\": [\"G\", \"NC-17\", \"PG\", \"PG-13\", \"R\"]}}, {\"filter\": {\"selection\": \"Genre\"}}], \"width\": 200}]}, {\"hconcat\": [{\"mark\": {\"type\": \"point\", \"filled\": true}, \"encoding\": {\"color\": {\"condition\": {\"type\": \"nominal\", \"field\": \"MPAA_Rating\", \"legend\": null, \"selection\": \"Rating\"}, \"value\": \"lightgray\"}, \"tooltip\": {\"type\": \"nominal\", \"field\": \"Title\"}, \"x\": {\"type\": \"quantitative\", \"field\": \"Worldwide_Gross\", \"scale\": {\"clamp\": true, \"domain\": [100000, 1000000000]}}, \"y\": {\"type\": \"quantitative\", \"field\": \"IMDB_Rating\"}}, \"height\": 200, \"selection\": {\"Rating\": {\"type\": \"single\", \"fields\": [\"MPAA_Rating\"], \"bind\": {\"input\": \"radio\", \"options\": [\"G\", \"NC-17\", \"PG\", \"PG-13\", \"R\"]}}}, \"title\": \"Radio Button Highlighting\", \"transform\": [{\"calculate\": \"floor(datum.IMDB_Rating)\", \"as\": \"Rounded_IMDB_Rating\"}, {\"calculate\": \"datum.Production_Budget > 100000000.0 ? 100 : 10\", \"as\": \"Hundred_Million_Production\"}, {\"calculate\": \"year(datum.Release_Date)\", \"as\": \"Release_Year\"}, {\"filter\": \"(datum.IMDB_Rating > 0)\"}, {\"filter\": {\"field\": \"MPAA_Rating\", \"oneOf\": [\"G\", \"NC-17\", \"PG\", \"PG-13\", \"R\"]}}], \"width\": 200}, {\"mark\": {\"type\": \"point\", \"filled\": true}, \"encoding\": {\"size\": {\"type\": \"quantitative\", \"condition\": {\"value\": 25, \"selection\": \"Big Budget Films\"}, \"field\": \"Hundred_Million_Production\"}, \"tooltip\": {\"type\": \"nominal\", \"field\": \"Title\"}, \"x\": {\"type\": \"quantitative\", \"field\": \"Worldwide_Gross\", \"scale\": {\"clamp\": true, \"domain\": [100000, 1000000000]}}, \"y\": {\"type\": \"quantitative\", \"field\": \"IMDB_Rating\"}}, \"height\": 200, \"selection\": {\"Big Budget Films\": {\"type\": \"single\", \"bind\": {\"input\": \"checkbox\"}}}, \"title\": \"Checkbox Formatting\", \"transform\": [{\"calculate\": \"floor(datum.IMDB_Rating)\", \"as\": \"Rounded_IMDB_Rating\"}, {\"calculate\": \"datum.Production_Budget > 100000000.0 ? 100 : 10\", \"as\": \"Hundred_Million_Production\"}, {\"calculate\": \"year(datum.Release_Date)\", \"as\": \"Release_Year\"}, {\"filter\": \"(datum.IMDB_Rating > 0)\"}, {\"filter\": {\"field\": \"MPAA_Rating\", \"oneOf\": [\"G\", \"NC-17\", \"PG\", \"PG-13\", \"R\"]}}], \"width\": 200}]}], \"data\": {\"url\": \"https://cdn.jsdelivr.net/npm/vega-datasets@v1.29.0/data/movies.json\", \"format\": {\"parse\": {\"Release_Date\": \"date\"}}}, \"$schema\": \"https://vega.github.io/schema/vega-lite/v4.8.1.json\"}, {\"mode\": \"vega-lite\"});\n",
       "</script>"
      ],
      "text/plain": [
       "alt.VConcatChart(...)"
      ]
     },
     "execution_count": 264,
     "metadata": {},
     "output_type": "execute_result"
    }
   ],
   "source": [
    "import altair as alt\n",
    "from vega_datasets import data\n",
    "\n",
    "movies = alt.UrlData(\n",
    "    data.movies.url,\n",
    "    format=alt.DataFormat(parse={\"Release_Date\":\"date\"})\n",
    ")\n",
    "ratings = ['G', 'NC-17', 'PG', 'PG-13', 'R']\n",
    "genres = ['Action', 'Adventure', 'Black Comedy', 'Comedy',\n",
    "       'Concert/Performance', 'Documentary', 'Drama', 'Horror', 'Musical',\n",
    "       'Romantic Comedy', 'Thriller/Suspense', 'Western']\n",
    "\n",
    "base = alt.Chart(movies, width=200, height=200).mark_point(filled=True).transform_calculate(\n",
    "    Rounded_IMDB_Rating = \"floor(datum.IMDB_Rating)\",\n",
    "    Hundred_Million_Production =  \"datum.Production_Budget > 100000000.0 ? 100 : 10\",\n",
    "    Release_Year = \"year(datum.Release_Date)\"\n",
    ").transform_filter(\n",
    "    alt.datum.IMDB_Rating > 0\n",
    ").transform_filter(\n",
    "    alt.FieldOneOfPredicate(field='MPAA_Rating', oneOf=ratings)\n",
    ").encode(\n",
    "    x=alt.X('Worldwide_Gross:Q', scale=alt.Scale(domain=(100000,10**9), clamp=True)),\n",
    "    y='IMDB_Rating:Q',\n",
    "    tooltip=\"Title:N\"\n",
    ")\n",
    "\n",
    "# A slider filter\n",
    "year_slider = alt.binding_range(min=1969, max=2018, step=1)\n",
    "slider_selection = alt.selection_single(bind=year_slider, fields=['Release_Year'], name=\"Release Year_\")\n",
    "\n",
    "\n",
    "filter_year = base.add_selection(\n",
    "    slider_selection\n",
    ").transform_filter(\n",
    "    slider_selection\n",
    ").properties(title=\"Slider Filtering\")\n",
    "\n",
    "# A dropdown filter\n",
    "genre_dropdown = alt.binding_select(options=genres)\n",
    "genre_select = alt.selection_single(fields=['Major_Genre'], bind=genre_dropdown, name=\"Genre\")\n",
    "\n",
    "filter_genres = base.add_selection(\n",
    "    genre_select\n",
    ").transform_filter(\n",
    "    genre_select\n",
    ").properties(title=\"Dropdown Filtering\")\n",
    "\n",
    "#color changing marks\n",
    "rating_radio = alt.binding_radio(options=ratings)\n",
    "\n",
    "rating_select = alt.selection_single(fields=['MPAA_Rating'], bind=rating_radio, name=\"Rating\")\n",
    "rating_color_condition = alt.condition(rating_select,\n",
    "                      alt.Color('MPAA_Rating:N', legend=None),\n",
    "                      alt.value('lightgray'))\n",
    "\n",
    "highlight_ratings = base.add_selection(\n",
    "    rating_select\n",
    ").encode(\n",
    "    color=rating_color_condition\n",
    ").properties(title=\"Radio Button Highlighting\")\n",
    "\n",
    "# Boolean selection for format changes\n",
    "input_checkbox = alt.binding_checkbox()\n",
    "checkbox_selection = alt.selection_single(bind=input_checkbox, name=\"Big Budget Films\")\n",
    "\n",
    "size_checkbox_condition = alt.condition(checkbox_selection,\n",
    "                                        alt.SizeValue(25),\n",
    "                                        alt.Size('Hundred_Million_Production:Q')\n",
    "                                       )\n",
    "\n",
    "budget_sizing = base.add_selection(\n",
    "    checkbox_selection\n",
    ").encode(\n",
    "    size=size_checkbox_condition\n",
    ").properties(title=\"Checkbox Formatting\")\n",
    "\n",
    "( filter_year | filter_genres) &  (highlight_ratings | budget_sizing  )"
   ]
  },
  {
   "cell_type": "code",
   "execution_count": null,
   "metadata": {},
   "outputs": [],
   "source": []
  }
 ],
 "metadata": {
  "kernelspec": {
   "display_name": "Python 3",
   "language": "python",
   "name": "python3"
  },
  "language_info": {
   "codemirror_mode": {
    "name": "ipython",
    "version": 3
   },
   "file_extension": ".py",
   "mimetype": "text/x-python",
   "name": "python",
   "nbconvert_exporter": "python",
   "pygments_lexer": "ipython3",
   "version": "3.8.5"
  }
 },
 "nbformat": 4,
 "nbformat_minor": 4
}
