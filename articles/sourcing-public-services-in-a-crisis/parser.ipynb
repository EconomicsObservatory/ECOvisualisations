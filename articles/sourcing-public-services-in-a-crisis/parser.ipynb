{
 "cells": [
  {
   "cell_type": "code",
   "execution_count": 1,
   "metadata": {},
   "outputs": [],
   "source": [
    "import json\n",
    "import altair as alt\n",
    "import matplotlib.pyplot as plt\n",
    "import numpy as np\n",
    "import pandas as pd"
   ]
  },
  {
   "cell_type": "code",
   "execution_count": 67,
   "metadata": {},
   "outputs": [
    {
     "data": {
      "text/plain": [
       "(300, 500)"
      ]
     },
     "execution_count": 67,
     "metadata": {},
     "output_type": "execute_result"
    }
   ],
   "source": [
    "colors = json.loads(open(\"../../guidelines/colors/eco-colors.json\", \"r\").read())\n",
    "category_color = json.loads(\n",
    "    open(\"../../guidelines/colors/eco-category-color.json\", \"r\").read()\n",
    ")\n",
    "config = json.loads(open(\"../../guidelines/charts/eco-global-config.json\", \"r\").read())\n",
    "height = config[\"height\"]\n",
    "width = config[\"width\"]\n",
    "height, width"
   ]
  },
  {
   "cell_type": "markdown",
   "metadata": {},
   "source": [
    "# Fig 1"
   ]
  },
  {
   "cell_type": "markdown",
   "metadata": {},
   "source": [
    "# Fig 2"
   ]
  },
  {
   "cell_type": "code",
   "execution_count": 62,
   "metadata": {},
   "outputs": [
    {
     "data": {
      "text/plain": [
       "{'eco-red': '#E54753',\n",
       " 'eco-blue': '#243B5A',\n",
       " 'eco-turquiose': '#36B7B4',\n",
       " 'eco-pink': '#E6224B',\n",
       " 'eco-yellow': '#F4C245',\n",
       " 'eco-mid-blue': '#0063AF',\n",
       " 'eco-green': '#00A767',\n",
       " 'eco-light-blue': '#179FDB',\n",
       " 'eco-orange': '#EB5C2E',\n",
       " 'eco-purple': '#5C267B',\n",
       " 'eco-dark-blue': '#122B39'}"
      ]
     },
     "execution_count": 62,
     "metadata": {},
     "output_type": "execute_result"
    }
   ],
   "source": [
    "colors"
   ]
  },
  {
   "cell_type": "code",
   "execution_count": 14,
   "metadata": {},
   "outputs": [
    {
     "data": {
      "text/html": [
       "<div>\n",
       "<style scoped>\n",
       "    .dataframe tbody tr th:only-of-type {\n",
       "        vertical-align: middle;\n",
       "    }\n",
       "\n",
       "    .dataframe tbody tr th {\n",
       "        vertical-align: top;\n",
       "    }\n",
       "\n",
       "    .dataframe thead th {\n",
       "        text-align: right;\n",
       "    }\n",
       "</style>\n",
       "<table border=\"1\" class=\"dataframe\">\n",
       "  <thead>\n",
       "    <tr style=\"text-align: right;\">\n",
       "      <th></th>\n",
       "      <th>Country</th>\n",
       "      <th>Defence</th>\n",
       "      <th>Public order and safety</th>\n",
       "      <th>Economic affairs</th>\n",
       "      <th>Health</th>\n",
       "      <th>Education</th>\n",
       "      <th>Social protection</th>\n",
       "      <th>other</th>\n",
       "    </tr>\n",
       "  </thead>\n",
       "  <tbody>\n",
       "    <tr>\n",
       "      <th>0</th>\n",
       "      <td>Finland</td>\n",
       "      <td>4.568019</td>\n",
       "      <td>2.151131</td>\n",
       "      <td>13.267813</td>\n",
       "      <td>22.827559</td>\n",
       "      <td>11.557940</td>\n",
       "      <td>18.332247</td>\n",
       "      <td>27.295292</td>\n",
       "    </tr>\n",
       "    <tr>\n",
       "      <th>1</th>\n",
       "      <td>France</td>\n",
       "      <td>6.323427</td>\n",
       "      <td>2.488769</td>\n",
       "      <td>12.375364</td>\n",
       "      <td>38.546854</td>\n",
       "      <td>6.735229</td>\n",
       "      <td>14.814522</td>\n",
       "      <td>18.715835</td>\n",
       "    </tr>\n",
       "    <tr>\n",
       "      <th>2</th>\n",
       "      <td>Germany</td>\n",
       "      <td>4.047647</td>\n",
       "      <td>3.182319</td>\n",
       "      <td>9.280173</td>\n",
       "      <td>40.606025</td>\n",
       "      <td>6.454420</td>\n",
       "      <td>20.580823</td>\n",
       "      <td>15.848592</td>\n",
       "    </tr>\n",
       "    <tr>\n",
       "      <th>3</th>\n",
       "      <td>Japan</td>\n",
       "      <td>3.183465</td>\n",
       "      <td>1.852087</td>\n",
       "      <td>14.259301</td>\n",
       "      <td>44.616630</td>\n",
       "      <td>6.525101</td>\n",
       "      <td>13.769729</td>\n",
       "      <td>15.793800</td>\n",
       "    </tr>\n",
       "    <tr>\n",
       "      <th>4</th>\n",
       "      <td>Netherlands</td>\n",
       "      <td>2.792510</td>\n",
       "      <td>3.631587</td>\n",
       "      <td>11.782621</td>\n",
       "      <td>35.699800</td>\n",
       "      <td>8.746193</td>\n",
       "      <td>21.108641</td>\n",
       "      <td>16.238649</td>\n",
       "    </tr>\n",
       "    <tr>\n",
       "      <th>5</th>\n",
       "      <td>Sweden</td>\n",
       "      <td>4.519249</td>\n",
       "      <td>2.823351</td>\n",
       "      <td>13.017334</td>\n",
       "      <td>21.470811</td>\n",
       "      <td>15.373585</td>\n",
       "      <td>16.135688</td>\n",
       "      <td>26.659982</td>\n",
       "    </tr>\n",
       "    <tr>\n",
       "      <th>6</th>\n",
       "      <td>United Kingdom</td>\n",
       "      <td>10.238804</td>\n",
       "      <td>6.272931</td>\n",
       "      <td>13.226801</td>\n",
       "      <td>31.615587</td>\n",
       "      <td>10.936472</td>\n",
       "      <td>13.847289</td>\n",
       "      <td>13.862116</td>\n",
       "    </tr>\n",
       "    <tr>\n",
       "      <th>7</th>\n",
       "      <td>United States</td>\n",
       "      <td>20.320157</td>\n",
       "      <td>6.580434</td>\n",
       "      <td>22.311851</td>\n",
       "      <td>14.377250</td>\n",
       "      <td>19.043395</td>\n",
       "      <td>3.356456</td>\n",
       "      <td>14.010418</td>\n",
       "    </tr>\n",
       "    <tr>\n",
       "      <th>8</th>\n",
       "      <td>OECD</td>\n",
       "      <td>9.987099</td>\n",
       "      <td>4.254394</td>\n",
       "      <td>16.338319</td>\n",
       "      <td>30.130890</td>\n",
       "      <td>11.734661</td>\n",
       "      <td>10.161804</td>\n",
       "      <td>17.392834</td>\n",
       "    </tr>\n",
       "  </tbody>\n",
       "</table>\n",
       "</div>"
      ],
      "text/plain": [
       "          Country    Defence  Public order and safety  Economic affairs  \\\n",
       "0         Finland   4.568019                 2.151131         13.267813   \n",
       "1          France   6.323427                 2.488769         12.375364   \n",
       "2         Germany   4.047647                 3.182319          9.280173   \n",
       "3           Japan   3.183465                 1.852087         14.259301   \n",
       "4     Netherlands   2.792510                 3.631587         11.782621   \n",
       "5          Sweden   4.519249                 2.823351         13.017334   \n",
       "6  United Kingdom  10.238804                 6.272931         13.226801   \n",
       "7   United States  20.320157                 6.580434         22.311851   \n",
       "8            OECD   9.987099                 4.254394         16.338319   \n",
       "\n",
       "      Health  Education  Social protection      other  \n",
       "0  22.827559  11.557940          18.332247  27.295292  \n",
       "1  38.546854   6.735229          14.814522  18.715835  \n",
       "2  40.606025   6.454420          20.580823  15.848592  \n",
       "3  44.616630   6.525101          13.769729  15.793800  \n",
       "4  35.699800   8.746193          21.108641  16.238649  \n",
       "5  21.470811  15.373585          16.135688  26.659982  \n",
       "6  31.615587  10.936472          13.847289  13.862116  \n",
       "7  14.377250  19.043395           3.356456  14.010418  \n",
       "8  30.130890  11.734661          10.161804  17.392834  "
      ]
     },
     "execution_count": 14,
     "metadata": {},
     "output_type": "execute_result"
    }
   ],
   "source": [
    "df = pd.read_excel(\"raw/Figures data.xlsx\", sheet_name=\"Figure 2\")\n",
    "df"
   ]
  },
  {
   "cell_type": "code",
   "execution_count": 20,
   "metadata": {},
   "outputs": [],
   "source": [
    "df.columns = [c.capitalize() for c in df.columns]"
   ]
  },
  {
   "cell_type": "code",
   "execution_count": 24,
   "metadata": {},
   "outputs": [],
   "source": [
    "df = df.set_index(\"Country\").stack().reset_index()\n",
    "df.columns = [\"Country\", \"Function\", \"Ammount\"]"
   ]
  },
  {
   "cell_type": "code",
   "execution_count": 98,
   "metadata": {},
   "outputs": [],
   "source": [
    "f = \"fig2_ammount_by_country _and_function\"\n",
    "df.to_csv(\"data/\" + f + \".csv\")"
   ]
  },
  {
   "cell_type": "code",
   "execution_count": 130,
   "metadata": {},
   "outputs": [
    {
     "data": {
      "text/html": [
       "\n",
       "<div id=\"altair-viz-65affcf414054e50a886d63c59d378eb\"></div>\n",
       "<script type=\"text/javascript\">\n",
       "  (function(spec, embedOpt){\n",
       "    let outputDiv = document.currentScript.previousElementSibling;\n",
       "    if (outputDiv.id !== \"altair-viz-65affcf414054e50a886d63c59d378eb\") {\n",
       "      outputDiv = document.getElementById(\"altair-viz-65affcf414054e50a886d63c59d378eb\");\n",
       "    }\n",
       "    const paths = {\n",
       "      \"vega\": \"https://cdn.jsdelivr.net/npm//vega@5?noext\",\n",
       "      \"vega-lib\": \"https://cdn.jsdelivr.net/npm//vega-lib?noext\",\n",
       "      \"vega-lite\": \"https://cdn.jsdelivr.net/npm//vega-lite@4.8.1?noext\",\n",
       "      \"vega-embed\": \"https://cdn.jsdelivr.net/npm//vega-embed@6?noext\",\n",
       "    };\n",
       "\n",
       "    function loadScript(lib) {\n",
       "      return new Promise(function(resolve, reject) {\n",
       "        var s = document.createElement('script');\n",
       "        s.src = paths[lib];\n",
       "        s.async = true;\n",
       "        s.onload = () => resolve(paths[lib]);\n",
       "        s.onerror = () => reject(`Error loading script: ${paths[lib]}`);\n",
       "        document.getElementsByTagName(\"head\")[0].appendChild(s);\n",
       "      });\n",
       "    }\n",
       "\n",
       "    function showError(err) {\n",
       "      outputDiv.innerHTML = `<div class=\"error\" style=\"color:red;\">${err}</div>`;\n",
       "      throw err;\n",
       "    }\n",
       "\n",
       "    function displayChart(vegaEmbed) {\n",
       "      vegaEmbed(outputDiv, spec, embedOpt)\n",
       "        .catch(err => showError(`Javascript Error: ${err.message}<br>This usually means there's a typo in your chart specification. See the javascript console for the full traceback.`));\n",
       "    }\n",
       "\n",
       "    if(typeof define === \"function\" && define.amd) {\n",
       "      requirejs.config({paths});\n",
       "      require([\"vega-embed\"], displayChart, err => showError(`Error loading script: ${err.message}`));\n",
       "    } else if (typeof vegaEmbed === \"function\") {\n",
       "      displayChart(vegaEmbed);\n",
       "    } else {\n",
       "      loadScript(\"vega\")\n",
       "        .then(() => loadScript(\"vega-lite\"))\n",
       "        .then(() => loadScript(\"vega-embed\"))\n",
       "        .catch(showError)\n",
       "        .then(() => displayChart(vegaEmbed));\n",
       "    }\n",
       "  })({\"config\": {\"view\": {\"continuousWidth\": 400, \"continuousHeight\": 300}}, \"layer\": [{\"mark\": {\"type\": \"bar\", \"size\": 23}, \"encoding\": {\"color\": {\"type\": \"nominal\", \"field\": \"Function\", \"scale\": {\"domain\": [\"Defence\", \"Public order and safety\", \"Economic affairs\", \"Health\", \"Education\", \"Social protection\", \"Other\"], \"range\": [\"#36B7B4\", \"#E6224B\", \"#F4C245\", \"#0063AF\", \"#00A767\", \"#179FDB\", \"#EB5C2E\"]}, \"sort\": [\"Defence\", \"Public order and safety\", \"Economic affairs\", \"Health\", \"Education\", \"Social protection\", \"Other\"]}, \"x\": {\"type\": \"quantitative\", \"aggregate\": \"sum\", \"axis\": {\"grid\": false, \"title\": \"\"}, \"field\": \"Ammount\", \"stack\": \"zero\"}, \"y\": {\"type\": \"nominal\", \"axis\": {\"grid\": false, \"title\": \"\"}, \"field\": \"Country\", \"sort\": []}}}, {\"mark\": {\"type\": \"text\", \"color\": \"white\", \"dx\": -15, \"dy\": 3}, \"encoding\": {\"detail\": {\"type\": \"nominal\", \"field\": \"Function\"}, \"text\": {\"type\": \"quantitative\", \"aggregate\": \"sum\", \"field\": \"Ammount\", \"format\": \".0f\"}, \"x\": {\"type\": \"quantitative\", \"aggregate\": \"sum\", \"field\": \"Ammount\", \"stack\": \"zero\"}, \"y\": {\"type\": \"nominal\", \"field\": \"Country\", \"sort\": []}}}], \"data\": {\"name\": \"data-38cec76bd7d5e53a2f15965c9aa6bb78\"}, \"height\": {\"step\": 30}, \"$schema\": \"https://vega.github.io/schema/vega-lite/v4.8.1.json\", \"datasets\": {\"data-38cec76bd7d5e53a2f15965c9aa6bb78\": [{\"Country\": \"Finland\", \"Function\": \"Defence\", \"Ammount\": 4.568018853733139}, {\"Country\": \"Finland\", \"Function\": \"Public order and safety\", \"Ammount\": 2.151130722559294}, {\"Country\": \"Finland\", \"Function\": \"Economic affairs\", \"Ammount\": 13.267813267813267}, {\"Country\": \"Finland\", \"Function\": \"Health\", \"Ammount\": 22.827558541844255}, {\"Country\": \"Finland\", \"Function\": \"Education\", \"Ammount\": 11.557940129368701}, {\"Country\": \"Finland\", \"Function\": \"Social protection\", \"Ammount\": 18.332246903675475}, {\"Country\": \"Finland\", \"Function\": \"Other\", \"Ammount\": 27.29529158100587}, {\"Country\": \"France\", \"Function\": \"Defence\", \"Ammount\": 6.323427360936948}, {\"Country\": \"France\", \"Function\": \"Public order and safety\", \"Ammount\": 2.488769037850473}, {\"Country\": \"France\", \"Function\": \"Economic affairs\", \"Ammount\": 12.375363712730858}, {\"Country\": \"France\", \"Function\": \"Health\", \"Ammount\": 38.54685350442543}, {\"Country\": \"France\", \"Function\": \"Education\", \"Ammount\": 6.735229306419606}, {\"Country\": \"France\", \"Function\": \"Social protection\", \"Ammount\": 14.814521725367975}, {\"Country\": \"France\", \"Function\": \"Other\", \"Ammount\": 18.715835352268716}, {\"Country\": \"Germany\", \"Function\": \"Defence\", \"Ammount\": 4.047647174640677}, {\"Country\": \"Germany\", \"Function\": \"Public order and safety\", \"Ammount\": 3.1823193542035835}, {\"Country\": \"Germany\", \"Function\": \"Economic affairs\", \"Ammount\": 9.280173262453237}, {\"Country\": \"Germany\", \"Function\": \"Health\", \"Ammount\": 40.60602480803308}, {\"Country\": \"Germany\", \"Function\": \"Education\", \"Ammount\": 6.454420161449104}, {\"Country\": \"Germany\", \"Function\": \"Social protection\", \"Ammount\": 20.580822996652884}, {\"Country\": \"Germany\", \"Function\": \"Other\", \"Ammount\": 15.848592242567435}, {\"Country\": \"Japan\", \"Function\": \"Defence\", \"Ammount\": 3.183465048345825}, {\"Country\": \"Japan\", \"Function\": \"Public order and safety\", \"Ammount\": 1.8520866828196825}, {\"Country\": \"Japan\", \"Function\": \"Economic affairs\", \"Ammount\": 14.259301193360658}, {\"Country\": \"Japan\", \"Function\": \"Health\", \"Ammount\": 44.616630058196144}, {\"Country\": \"Japan\", \"Function\": \"Education\", \"Ammount\": 6.525101333756029}, {\"Country\": \"Japan\", \"Function\": \"Social protection\", \"Ammount\": 13.76972894635538}, {\"Country\": \"Japan\", \"Function\": \"Other\", \"Ammount\": 15.793799959240053}, {\"Country\": \"Netherlands\", \"Function\": \"Defence\", \"Ammount\": 2.7925096347506115}, {\"Country\": \"Netherlands\", \"Function\": \"Public order and safety\", \"Ammount\": 3.6315866500338}, {\"Country\": \"Netherlands\", \"Function\": \"Economic affairs\", \"Ammount\": 11.782620512784774}, {\"Country\": \"Netherlands\", \"Function\": \"Health\", \"Ammount\": 35.69979998745566}, {\"Country\": \"Netherlands\", \"Function\": \"Education\", \"Ammount\": 8.746193141033237}, {\"Country\": \"Netherlands\", \"Function\": \"Social protection\", \"Ammount\": 21.108640960060214}, {\"Country\": \"Netherlands\", \"Function\": \"Other\", \"Ammount\": 16.238649113881706}, {\"Country\": \"Sweden\", \"Function\": \"Defence\", \"Ammount\": 4.519248651664497}, {\"Country\": \"Sweden\", \"Function\": \"Public order and safety\", \"Ammount\": 2.8233512033271073}, {\"Country\": \"Sweden\", \"Function\": \"Economic affairs\", \"Ammount\": 13.017333624428254}, {\"Country\": \"Sweden\", \"Function\": \"Health\", \"Ammount\": 21.470810995841116}, {\"Country\": \"Sweden\", \"Function\": \"Education\", \"Ammount\": 15.373585292159575}, {\"Country\": \"Sweden\", \"Function\": \"Social protection\", \"Ammount\": 16.13568796780706}, {\"Country\": \"Sweden\", \"Function\": \"Other\", \"Ammount\": 26.659982264772395}, {\"Country\": \"United Kingdom\", \"Function\": \"Defence\", \"Ammount\": 10.23880404077272}, {\"Country\": \"United Kingdom\", \"Function\": \"Public order and safety\", \"Ammount\": 6.272930852904163}, {\"Country\": \"United Kingdom\", \"Function\": \"Economic affairs\", \"Ammount\": 13.226801105623547}, {\"Country\": \"United Kingdom\", \"Function\": \"Health\", \"Ammount\": 31.615586706663777}, {\"Country\": \"United Kingdom\", \"Function\": \"Education\", \"Ammount\": 10.93647227006414}, {\"Country\": \"United Kingdom\", \"Function\": \"Social protection\", \"Ammount\": 13.84728859892251}, {\"Country\": \"United Kingdom\", \"Function\": \"Other\", \"Ammount\": 13.862116425049141}, {\"Country\": \"United States\", \"Function\": \"Defence\", \"Ammount\": 20.32015665622609}, {\"Country\": \"United States\", \"Function\": \"Public order and safety\", \"Ammount\": 6.580433601106922}, {\"Country\": \"United States\", \"Function\": \"Economic affairs\", \"Ammount\": 22.31185098469991}, {\"Country\": \"United States\", \"Function\": \"Health\", \"Ammount\": 14.377249830359462}, {\"Country\": \"United States\", \"Function\": \"Education\", \"Ammount\": 19.043395370722745}, {\"Country\": \"United States\", \"Function\": \"Social protection\", \"Ammount\": 3.3564564708290674}, {\"Country\": \"United States\", \"Function\": \"Other\", \"Ammount\": 14.010418399501896}, {\"Country\": \"OECD\", \"Function\": \"Defence\", \"Ammount\": 9.987099259761889}, {\"Country\": \"OECD\", \"Function\": \"Public order and safety\", \"Ammount\": 4.2543940403228575}, {\"Country\": \"OECD\", \"Function\": \"Economic affairs\", \"Ammount\": 16.33831884631069}, {\"Country\": \"OECD\", \"Function\": \"Health\", \"Ammount\": 30.130890016318222}, {\"Country\": \"OECD\", \"Function\": \"Education\", \"Ammount\": 11.734661443139625}, {\"Country\": \"OECD\", \"Function\": \"Social protection\", \"Ammount\": 10.161803812586832}, {\"Country\": \"OECD\", \"Function\": \"Other\", \"Ammount\": 17.39283415126614}]}}, {\"mode\": \"vega-lite\"});\n",
       "</script>"
      ],
      "text/plain": [
       "alt.LayerChart(...)"
      ]
     },
     "execution_count": 130,
     "metadata": {},
     "output_type": "execute_result"
    }
   ],
   "source": [
    "bars = (\n",
    "    alt.Chart(df)\n",
    "    .mark_bar(size=23)\n",
    "    .encode(\n",
    "        x=alt.X(\"sum(Ammount):Q\", stack=\"zero\", axis=alt.Axis(grid=False, title=\"\")),\n",
    "        y=alt.Y(\"Country:N\", sort=[], axis=alt.Axis(grid=False, title=\"\")),\n",
    "        color=alt.Color(\n",
    "            \"Function\",\n",
    "            scale=alt.Scale(domain=df[\"Function\"].unique(), range=category_color),\n",
    "            sort=df[\"Function\"].unique(),\n",
    "        ),\n",
    "    )\n",
    ")\n",
    "\n",
    "text = (\n",
    "    alt.Chart(df)\n",
    "    .mark_text(dx=-15, dy=3, color=\"white\")\n",
    "    .encode(\n",
    "        x=alt.X(\"sum(Ammount):Q\", stack=\"zero\"),\n",
    "        y=alt.Y(\"Country:N\", sort=[]),\n",
    "        detail=\"Function:N\",\n",
    "        text=alt.Text(\"sum(Ammount):Q\", format=\".0f\"),\n",
    "    )\n",
    ")\n",
    "\n",
    "layer1 = (bars + text).properties(height=alt.Step(30))\n",
    "layer1.save(\"visualisation/\" + f + \".json\")\n",
    "layer1"
   ]
  },
  {
   "cell_type": "code",
   "execution_count": null,
   "metadata": {},
   "outputs": [],
   "source": []
  }
 ],
 "metadata": {
  "kernelspec": {
   "display_name": "Python 3",
   "language": "python",
   "name": "python3"
  },
  "language_info": {
   "codemirror_mode": {
    "name": "ipython",
    "version": 3
   },
   "file_extension": ".py",
   "mimetype": "text/x-python",
   "name": "python",
   "nbconvert_exporter": "python",
   "pygments_lexer": "ipython3",
   "version": "3.8.8"
  }
 },
 "nbformat": 4,
 "nbformat_minor": 4
}
