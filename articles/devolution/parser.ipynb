{
 "cells": [
  {
   "cell_type": "code",
   "execution_count": 1,
   "metadata": {
    "tags": []
   },
   "outputs": [],
   "source": [
    "# !pip install altair\n",
    "# !pip install altair_saver --upgrade\n",
    "# !npm install -g vega-lite vega-cli canvas\n",
    "# !pip install vl-convert-python --upgrade"
   ]
  },
  {
   "cell_type": "code",
   "execution_count": 2,
   "metadata": {
    "tags": []
   },
   "outputs": [],
   "source": [
    "# !pip install selenium --upgrade\n",
    "# !apt-get install chromium-chromedriver -y"
   ]
  },
  {
   "cell_type": "code",
   "execution_count": 3,
   "metadata": {
    "tags": []
   },
   "outputs": [],
   "source": [
    "# !apt update\n",
    "# !apt install ttf-mscorefonts-installer -y\n",
    "# !apt reinstall fontconfig fontconfig-config libfontconfig1 -y"
   ]
  },
  {
   "cell_type": "code",
   "execution_count": 4,
   "metadata": {
    "tags": []
   },
   "outputs": [],
   "source": [
    "# !wget https://raw.githubusercontent.com/EconomicsObservatory/ECOvisualisations/main/guidelines/fonts/Circular/CircularStd-Black.otf -P /usr/local/share/fonts\n",
    "# !wget https://raw.githubusercontent.com/EconomicsObservatory/ECOvisualisations/main/guidelines/fonts/Circular/CircularStd-Bold.otf -P /usr/local/share/fonts\n",
    "# !wget https://raw.githubusercontent.com/EconomicsObservatory/ECOvisualisations/main/guidelines/fonts/Circular/CircularStd-Book.otf -P /usr/local/share/fonts\n",
    "# !wget https://raw.githubusercontent.com/EconomicsObservatory/ECOvisualisations/main/guidelines/fonts/Circular/CircularStd-Medium.otf -P /usr/local/share/fonts"
   ]
  },
  {
   "cell_type": "code",
   "execution_count": 5,
   "metadata": {
    "tags": []
   },
   "outputs": [],
   "source": [
    "# !fc-cache -f"
   ]
  },
  {
   "cell_type": "code",
   "execution_count": 6,
   "metadata": {
    "tags": []
   },
   "outputs": [],
   "source": [
    "import json\n",
    "import altair as alt\n",
    "from altair import expr, datum\n",
    "import matplotlib.pyplot as plt\n",
    "import numpy as np\n",
    "import pandas as pd\n",
    "import requests\n",
    "import urllib.parse"
   ]
  },
  {
   "cell_type": "code",
   "execution_count": 7,
   "metadata": {
    "tags": []
   },
   "outputs": [],
   "source": [
    "import colorsys\n",
    "from matplotlib.colors import to_hex, to_rgb\n",
    "\n",
    "\n",
    "def scale_lightness(rgb, scale_l):\n",
    "    rgbhex = False\n",
    "    if \"#\" in rgb:\n",
    "        rgb = to_rgb(rgb)\n",
    "        rgbhex = True\n",
    "    # convert rgb to hls\n",
    "    h, l, s = colorsys.rgb_to_hls(*rgb)\n",
    "    # manipulate h, l, s values and return as rgb\n",
    "    c = colorsys.hls_to_rgb(h, min(1, l * scale_l), s=s)\n",
    "    if rgbhex:\n",
    "        c = to_hex(c)\n",
    "    return c"
   ]
  },
  {
   "cell_type": "code",
   "execution_count": 8,
   "metadata": {
    "tags": []
   },
   "outputs": [],
   "source": [
    "SAVE = False\n",
    "LOCAL = True\n",
    "DARK = False\n",
    "\n",
    "if LOCAL:\n",
    "    local_suffix = \"_local\"\n",
    "else:\n",
    "    local_suffix = \"\""
   ]
  },
  {
   "cell_type": "code",
   "execution_count": 9,
   "metadata": {
    "tags": []
   },
   "outputs": [],
   "source": [
    "%%capture pwd\n",
    "!pwd"
   ]
  },
  {
   "cell_type": "code",
   "execution_count": 10,
   "metadata": {
    "tags": []
   },
   "outputs": [
    {
     "data": {
      "text/plain": [
       "('devolution', 300, 500)"
      ]
     },
     "execution_count": 10,
     "metadata": {},
     "output_type": "execute_result"
    }
   ],
   "source": [
    "uid = pwd.stdout.split(\"/\")[-1].split(\"\\r\")[0]\n",
    "uid=urllib.parse.quote(uid)\n",
    "if not LOCAL:\n",
    "    eco_git_home = (\n",
    "        \"https://raw.githubusercontent.com/EconomicsObservatory/ECOvisualisations/main/\"\n",
    "    )\n",
    "    vega_embed = requests.get(eco_git_home + \"guidelines/html/vega-embed.html\").text\n",
    "    colors = json.loads(\n",
    "        requests.get(eco_git_home + \"guidelines/colors/eco-colors.json\").content\n",
    "    )\n",
    "    category_color = json.loads(\n",
    "        requests.get(eco_git_home + \"guidelines/colors/eco-category-color.json\").content\n",
    "    )\n",
    "    hue_color = json.loads(\n",
    "        requests.get(eco_git_home + \"guidelines/colors/eco-single-hue-color.json\").content\n",
    "    )\n",
    "    mhue_color = json.loads(\n",
    "        requests.get(eco_git_home + \"guidelines/colors/eco-multi-hue-color.json\").content\n",
    "    )\n",
    "    div_color = json.loads(\n",
    "        requests.get(eco_git_home + \"guidelines/colors/eco-diverging-color.json\").content\n",
    "    )\n",
    "    config = json.loads(\n",
    "        requests.get(eco_git_home + \"guidelines/charts/eco-global-config.json\").content\n",
    "    )\n",
    "else:\n",
    "    eco_git_home = '/'.join(pwd.stdout.split(\"/\")[:-2])+'/'\n",
    "    vega_embed = open(eco_git_home + \"guidelines/html/vega-embed.html\",'r').read()\n",
    "    colors = json.load(\n",
    "        open(eco_git_home + \"guidelines/colors/eco-colors.json\",'r')\n",
    "    )\n",
    "    category_color = json.load(\n",
    "        open(eco_git_home + \"guidelines/colors/eco-category-color.json\",'r')\n",
    "    )\n",
    "    hue_color = json.load(\n",
    "        open(eco_git_home + \"guidelines/colors/eco-single-hue-color.json\",'r')\n",
    "    )\n",
    "    mhue_color = json.load(\n",
    "        open(eco_git_home + \"guidelines/colors/eco-multi-hue-color.json\",'r')\n",
    "    )\n",
    "    div_color = json.load(\n",
    "        open(eco_git_home + \"guidelines/colors/eco-diverging-color.json\",'r')\n",
    "    )\n",
    "    config = json.load(\n",
    "        open(eco_git_home + \"guidelines/charts/eco-global-config.json\",'r')\n",
    "    )\n",
    "eco_git_path = eco_git_home + \"articles/\" + uid + \"/data/\"\n",
    "mo=0.5\n",
    "height = config[\"height\"]\n",
    "width = config[\"width\"]\n",
    "uid, height, width"
   ]
  },
  {
   "cell_type": "code",
   "execution_count": 11,
   "metadata": {
    "tags": []
   },
   "outputs": [],
   "source": [
    "def save(df, f, LOCAL):\n",
    "    fc = eco_git_path + f + \".csv\"\n",
    "    df.to_csv(\"data/\" + f + \".csv\")\n",
    "    f += local_suffix\n",
    "    open(\"visualisation/\" + f + \".html\", \"w\").write(\n",
    "        vega_embed.replace(\n",
    "            \"JSON_PATH\", fc.replace(\"/data/\", \"/visualisation/\").replace(\".csv\", \".json\")\n",
    "        )\n",
    "    )\n",
    "    if LOCAL:\n",
    "        fc = df\n",
    "    \n",
    "    from IPython.display import display, HTML\n",
    "    display(HTML(df.head().to_html()))\n",
    "    \n",
    "    readme = \"## Figure \" + f.replace('fig','').split('_')[0] + \\\n",
    "        '  \\n\\nData: [`csv`](data/' + f + '.csv)' +\\\n",
    "        '  \\nGitHub: [' + f + '](https://github.com/EconomicsObservatory/ECOvisualisations/tree/main/articles/'+uid +')'+\\\n",
    "        ''+\\\n",
    "        '  \\n\\n### Light theme  \\n\\nVersions with data locally embedded into the `Vega-lite` specification file: ' + \\\n",
    "        '[`png`](visualisation/' + f + '_local.png) [`svg`](visualisation/' + f + '_local.svg) [`json`](visualisation/' + f + '_local.json) '+ \\\n",
    "        '  \\n (**Default**) Versions with data loaded from `GitHub`: ' + \\\n",
    "        '[`png`](visualisation/' + f + '.png) [`svg`](visualisation/' + f + '.svg) [`json`](visualisation/' + f + '.json)'+ \\\n",
    "        '  \\nVersions (no ECO branding) with data locally embedded into the `Vega-lite` specification file: ' + \\\n",
    "        '[`png`](visualisation/' + f + '_local_no_branding.png) [`svg`](visualisation/' + f + '_local_no_branding.svg) [`json`](visualisation/' + f + '_local_no_branding.json) '+ \\\n",
    "        '  \\nVersions (no ECO branding) with data loaded from `GitHub`: ' + \\\n",
    "        '[`png`](visualisation/' + f + '_no_branding.png) [`svg`](visualisation/' + f + '_no_branding.svg) [`json`](visualisation/' + f + '_no_branding.json) '+ \\\n",
    "        ''+\\\n",
    "        '  \\n\\n### Dark theme  \\n\\nVersions with data locally embedded into the `Vega-lite` specification file: ' + \\\n",
    "        '[`png`](visualisation/' + f + '_local_dark.png) [`svg`](visualisation/' + f + '_local_dark.svg) [`json`](visualisation/' + f + '_local_dark.json) '+ \\\n",
    "        '  \\n Versions with data loaded from `GitHub`: ' + \\\n",
    "        '[`png`](visualisation/' + f + '_dark.png) [`svg`](visualisation/' + f + '_dark.svg) [`json`](visualisation/' + f + '_dark.json)'+ \\\n",
    "        '  \\nVersions (no ECO branding) with data locally embedded into the `Vega-lite` specification file: ' + \\\n",
    "        '[`png`](visualisation/' + f + '_local_no_branding_dark.png) [`svg`](visualisation/' + f + '_local_no_branding_dark.svg) [`json`](visualisation/' + f + '_local_no_branding_dark.json) '+ \\\n",
    "        '  \\nVersions (no ECO branding) with data loaded from `GitHub`: ' + \\\n",
    "        '[`png`](visualisation/' + f + '_no_branding_dark.png) [`svg`](visualisation/' + f + '_no_branding_dark.svg) [`json`](visualisation/' + f + '_no_branding_dark.json) '+ \\\n",
    "        ''+\\\n",
    "        '  \\n\\n![\"' + f + '\"](visualisation/' + f + '.svg \"' + f + '\")\\n\\n' +\\\n",
    "        '  \\n\\n![\"' + f + '_dark\"](visualisation/' + f + '_dark.svg \"' + f + '\")\\n\\n' \n",
    "    return readme, f, fc"
   ]
  },
  {
   "cell_type": "code",
   "execution_count": 12,
   "metadata": {
    "tags": []
   },
   "outputs": [],
   "source": [
    "def area(base,color,opacity=1):\n",
    "    return base.mark_area(opacity=opacity,\n",
    "    interpolate=\"monotone\",\n",
    "    line={'color':color},\n",
    "    color=alt.Gradient(\n",
    "        gradient='linear',\n",
    "        stops=[alt.GradientStop(color='#ffffff00', offset=0.2),\n",
    "               alt.GradientStop(color=color, offset=0.8)],\n",
    "        x1=1, #0.8\n",
    "        y1=1,\n",
    "        x2=1,\n",
    "        y2=0\n",
    "        )\n",
    "    )"
   ]
  },
  {
   "cell_type": "code",
   "execution_count": 13,
   "metadata": {
    "tags": []
   },
   "outputs": [],
   "source": [
    "# service_color='#d6c8da' '#e4bfe2' '#ce4b96' colors['eco-turquiose']\n",
    "service_color='#b4c8d8'\n",
    "def dark(f):\n",
    "    configSource = \"visualisation/\" + f + \".json\"\n",
    "    config = json.loads(open(configSource, \"r\").read())\n",
    "    config['background']=colors['eco-background']\n",
    "    service_color='#b4c8d8'\n",
    "    for i in config['layer']:\n",
    "        if 'encoding' in i:\n",
    "            for x in ['x','y']:\n",
    "                if x in i['encoding']:\n",
    "                    if 'axis' in i['encoding'][x]:\n",
    "                        for c in ['domainColor','labelColor','tickColor','titleColor','gridColor']:\n",
    "                            if c in i['encoding'][x]['axis']:\n",
    "                                i['encoding'][x]['axis'][c]=service_color\n",
    "        if 'mark' in i:\n",
    "            if 'color' in i['mark']:\n",
    "                if i['mark']['color']==colors['eco-gray']:\n",
    "                    i['mark']['color']=service_color\n",
    "                elif i['mark']['color']==colors['eco-blue']:\n",
    "                    i['mark']['color']=colors['eco-yellow']\n",
    "                elif i['mark']['color']==service_color:\n",
    "                    i['mark']['color']=colors['eco-green']\n",
    "                elif 'stops' in i['mark']['color']:\n",
    "                    for s in i['mark']['color']['stops']:\n",
    "                        if 'color' in s:\n",
    "                            if s['color']==colors['eco-gray']:\n",
    "                                s['color']=service_color\n",
    "                            elif s['color']==colors['eco-blue']:\n",
    "                                s['color']=colors['eco-yellow']\n",
    "                            elif s['color']==service_color:\n",
    "                                s['color']=colors['eco-green']\n",
    "            if 'line' in i['mark']:\n",
    "                if 'color' in i['mark']['line']:\n",
    "                    if i['mark']['line']['color']==colors['eco-gray']:\n",
    "                        i['mark']['line']['color']=service_color\n",
    "                    elif i['mark']['line']['color']==colors['eco-blue']:\n",
    "                        i['mark']['line']['color']=colors['eco-yellow']\n",
    "                    elif i['mark']['line']['color']==service_color:\n",
    "                        i['mark']['line']['color']=colors['eco-green']\n",
    "    if 'datasets' in config:\n",
    "        for i in config['datasets']:\n",
    "            if 'img' in config['datasets'][i][0]:\n",
    "                if 'eco-icon-dark' in config['datasets'][i][0]['img']:\n",
    "                    config['datasets'][i][0]['img']=config['datasets'][i][0]['img'].replace('eco-icon-dark','eco-icon-light')\n",
    "    return alt.Chart.from_dict(config) "
   ]
  },
  {
   "cell_type": "markdown",
   "metadata": {
    "tags": []
   },
   "source": [
    "# Fig 1"
   ]
  },
  {
   "cell_type": "code",
   "execution_count": 18,
   "metadata": {
    "tags": []
   },
   "outputs": [],
   "source": [
    "df = pd.read_csv(\"raw/devo.csv\")\n",
    "df=df.rename(columns={'Unnamed: 0':'Time'})"
   ]
  },
  {
   "cell_type": "code",
   "execution_count": 19,
   "metadata": {
    "tags": []
   },
   "outputs": [
    {
     "data": {
      "text/html": [
       "<table border=\"1\" class=\"dataframe\">\n",
       "  <thead>\n",
       "    <tr style=\"text-align: right;\">\n",
       "      <th></th>\n",
       "      <th>Time</th>\n",
       "      <th>All aged 16 &amp; over</th>\n",
       "      <th>Total economically active</th>\n",
       "      <th>Total in employment</th>\n",
       "      <th>Unemployed</th>\n",
       "      <th>Economically inactive</th>\n",
       "      <th>Economic activity rate (%)</th>\n",
       "      <th>Employment rate (%)</th>\n",
       "      <th>Unemployment\n",
       "rate (%)</th>\n",
       "      <th>Economic inactivity rate (%)</th>\n",
       "      <th>Group</th>\n",
       "      <th>Region</th>\n",
       "      <th>Gender</th>\n",
       "    </tr>\n",
       "  </thead>\n",
       "  <tbody>\n",
       "    <tr>\n",
       "      <th>0</th>\n",
       "      <td>1992-05-01</td>\n",
       "      <td>2024997.0</td>\n",
       "      <td>1.201678e+06</td>\n",
       "      <td>1.055293e+06</td>\n",
       "      <td>146384.598067</td>\n",
       "      <td>823319.067919</td>\n",
       "      <td>59.342208</td>\n",
       "      <td>52.113328</td>\n",
       "      <td>12.181683</td>\n",
       "      <td>40.657792</td>\n",
       "      <td>Aged 16+</td>\n",
       "      <td>North East England</td>\n",
       "      <td>All</td>\n",
       "    </tr>\n",
       "    <tr>\n",
       "      <th>1</th>\n",
       "      <td>1992-06-01</td>\n",
       "      <td>2024948.0</td>\n",
       "      <td>1.203943e+06</td>\n",
       "      <td>1.056524e+06</td>\n",
       "      <td>147419.814877</td>\n",
       "      <td>821004.502128</td>\n",
       "      <td>59.455527</td>\n",
       "      <td>52.175349</td>\n",
       "      <td>12.244745</td>\n",
       "      <td>40.544473</td>\n",
       "      <td>Aged 16+</td>\n",
       "      <td>North East England</td>\n",
       "      <td>All</td>\n",
       "    </tr>\n",
       "    <tr>\n",
       "      <th>2</th>\n",
       "      <td>1992-07-01</td>\n",
       "      <td>2025101.0</td>\n",
       "      <td>1.203065e+06</td>\n",
       "      <td>1.049443e+06</td>\n",
       "      <td>153622.028619</td>\n",
       "      <td>822035.560205</td>\n",
       "      <td>59.407676</td>\n",
       "      <td>51.821781</td>\n",
       "      <td>12.769216</td>\n",
       "      <td>40.592324</td>\n",
       "      <td>Aged 16+</td>\n",
       "      <td>North East England</td>\n",
       "      <td>All</td>\n",
       "    </tr>\n",
       "    <tr>\n",
       "      <th>3</th>\n",
       "      <td>1992-08-01</td>\n",
       "      <td>2024652.0</td>\n",
       "      <td>1.197993e+06</td>\n",
       "      <td>1.046947e+06</td>\n",
       "      <td>151046.272949</td>\n",
       "      <td>826659.085648</td>\n",
       "      <td>59.170312</td>\n",
       "      <td>51.709955</td>\n",
       "      <td>12.608278</td>\n",
       "      <td>40.829688</td>\n",
       "      <td>Aged 16+</td>\n",
       "      <td>North East England</td>\n",
       "      <td>All</td>\n",
       "    </tr>\n",
       "    <tr>\n",
       "      <th>4</th>\n",
       "      <td>1992-09-01</td>\n",
       "      <td>2024443.0</td>\n",
       "      <td>1.200451e+06</td>\n",
       "      <td>1.045535e+06</td>\n",
       "      <td>154916.040118</td>\n",
       "      <td>823992.278014</td>\n",
       "      <td>59.297828</td>\n",
       "      <td>51.645548</td>\n",
       "      <td>12.904823</td>\n",
       "      <td>40.702172</td>\n",
       "      <td>Aged 16+</td>\n",
       "      <td>North East England</td>\n",
       "      <td>All</td>\n",
       "    </tr>\n",
       "  </tbody>\n",
       "</table>"
      ],
      "text/plain": [
       "<IPython.core.display.HTML object>"
      ]
     },
     "metadata": {},
     "output_type": "display_data"
    }
   ],
   "source": [
    "readme, f, fc = save(df,\"fig1_devo_trellis\",LOCAL)"
   ]
  },
  {
   "cell_type": "code",
   "execution_count": 24,
   "metadata": {
    "tags": []
   },
   "outputs": [
    {
     "name": "stdout",
     "output_type": "stream",
     "text": [
      "fig1_devo_trellis_local\n",
      "\n"
     ]
    },
    {
     "ename": "MaxRowsError",
     "evalue": "The number of rows in your dataset is greater than the maximum allowed (5000). For information on how to plot larger datasets in Altair, see the documentation",
     "output_type": "error",
     "traceback": [
      "\u001b[0;31m---------------------------------------------------------------------------\u001b[0m",
      "\u001b[0;31mMaxRowsError\u001b[0m                              Traceback (most recent call last)",
      "File \u001b[0;32m/opt/conda/lib/python3.10/site-packages/altair/vegalite/v4/api.py:384\u001b[0m, in \u001b[0;36mTopLevelMixin.to_dict\u001b[0;34m(self, *args, **kwargs)\u001b[0m\n\u001b[1;32m    381\u001b[0m kwargs[\u001b[38;5;124m\"\u001b[39m\u001b[38;5;124mcontext\u001b[39m\u001b[38;5;124m\"\u001b[39m] \u001b[38;5;241m=\u001b[39m context\n\u001b[1;32m    383\u001b[0m \u001b[38;5;28;01mtry\u001b[39;00m:\n\u001b[0;32m--> 384\u001b[0m     dct \u001b[38;5;241m=\u001b[39m \u001b[38;5;28;43msuper\u001b[39;49m\u001b[43m(\u001b[49m\u001b[43mTopLevelMixin\u001b[49m\u001b[43m,\u001b[49m\u001b[43m \u001b[49m\u001b[43mcopy\u001b[49m\u001b[43m)\u001b[49m\u001b[38;5;241;43m.\u001b[39;49m\u001b[43mto_dict\u001b[49m\u001b[43m(\u001b[49m\u001b[38;5;241;43m*\u001b[39;49m\u001b[43margs\u001b[49m\u001b[43m,\u001b[49m\u001b[43m \u001b[49m\u001b[38;5;241;43m*\u001b[39;49m\u001b[38;5;241;43m*\u001b[39;49m\u001b[43mkwargs\u001b[49m\u001b[43m)\u001b[49m\n\u001b[1;32m    385\u001b[0m \u001b[38;5;28;01mexcept\u001b[39;00m jsonschema\u001b[38;5;241m.\u001b[39mValidationError:\n\u001b[1;32m    386\u001b[0m     dct \u001b[38;5;241m=\u001b[39m \u001b[38;5;28;01mNone\u001b[39;00m\n",
      "File \u001b[0;32m/opt/conda/lib/python3.10/site-packages/altair/utils/schemapi.py:346\u001b[0m, in \u001b[0;36mSchemaBase.to_dict\u001b[0;34m(self, validate, ignore, context)\u001b[0m\n\u001b[1;32m    344\u001b[0m     result \u001b[38;5;241m=\u001b[39m _todict(\u001b[38;5;28mself\u001b[39m\u001b[38;5;241m.\u001b[39m_args[\u001b[38;5;241m0\u001b[39m], validate\u001b[38;5;241m=\u001b[39msub_validate, context\u001b[38;5;241m=\u001b[39mcontext)\n\u001b[1;32m    345\u001b[0m \u001b[38;5;28;01melif\u001b[39;00m \u001b[38;5;129;01mnot\u001b[39;00m \u001b[38;5;28mself\u001b[39m\u001b[38;5;241m.\u001b[39m_args:\n\u001b[0;32m--> 346\u001b[0m     result \u001b[38;5;241m=\u001b[39m \u001b[43m_todict\u001b[49m\u001b[43m(\u001b[49m\n\u001b[1;32m    347\u001b[0m \u001b[43m        \u001b[49m\u001b[43m{\u001b[49m\u001b[43mk\u001b[49m\u001b[43m:\u001b[49m\u001b[43m \u001b[49m\u001b[43mv\u001b[49m\u001b[43m \u001b[49m\u001b[38;5;28;43;01mfor\u001b[39;49;00m\u001b[43m \u001b[49m\u001b[43mk\u001b[49m\u001b[43m,\u001b[49m\u001b[43m \u001b[49m\u001b[43mv\u001b[49m\u001b[43m \u001b[49m\u001b[38;5;129;43;01min\u001b[39;49;00m\u001b[43m \u001b[49m\u001b[38;5;28;43mself\u001b[39;49m\u001b[38;5;241;43m.\u001b[39;49m\u001b[43m_kwds\u001b[49m\u001b[38;5;241;43m.\u001b[39;49m\u001b[43mitems\u001b[49m\u001b[43m(\u001b[49m\u001b[43m)\u001b[49m\u001b[43m \u001b[49m\u001b[38;5;28;43;01mif\u001b[39;49;00m\u001b[43m \u001b[49m\u001b[43mk\u001b[49m\u001b[43m \u001b[49m\u001b[38;5;129;43;01mnot\u001b[39;49;00m\u001b[43m \u001b[49m\u001b[38;5;129;43;01min\u001b[39;49;00m\u001b[43m \u001b[49m\u001b[43mignore\u001b[49m\u001b[43m}\u001b[49m\u001b[43m,\u001b[49m\n\u001b[1;32m    348\u001b[0m \u001b[43m        \u001b[49m\u001b[43mvalidate\u001b[49m\u001b[38;5;241;43m=\u001b[39;49m\u001b[43msub_validate\u001b[49m\u001b[43m,\u001b[49m\n\u001b[1;32m    349\u001b[0m \u001b[43m        \u001b[49m\u001b[43mcontext\u001b[49m\u001b[38;5;241;43m=\u001b[39;49m\u001b[43mcontext\u001b[49m\u001b[43m,\u001b[49m\n\u001b[1;32m    350\u001b[0m \u001b[43m    \u001b[49m\u001b[43m)\u001b[49m\n\u001b[1;32m    351\u001b[0m \u001b[38;5;28;01melse\u001b[39;00m:\n\u001b[1;32m    352\u001b[0m     \u001b[38;5;28;01mraise\u001b[39;00m \u001b[38;5;167;01mValueError\u001b[39;00m(\n\u001b[1;32m    353\u001b[0m         \u001b[38;5;124m\"\u001b[39m\u001b[38;5;132;01m{}\u001b[39;00m\u001b[38;5;124m instance has both a value and properties : \u001b[39m\u001b[38;5;124m\"\u001b[39m\n\u001b[1;32m    354\u001b[0m         \u001b[38;5;124m\"\u001b[39m\u001b[38;5;124mcannot serialize to dict\u001b[39m\u001b[38;5;124m\"\u001b[39m\u001b[38;5;241m.\u001b[39mformat(\u001b[38;5;28mself\u001b[39m\u001b[38;5;241m.\u001b[39m\u001b[38;5;18m__class__\u001b[39m)\n\u001b[1;32m    355\u001b[0m     )\n",
      "File \u001b[0;32m/opt/conda/lib/python3.10/site-packages/altair/utils/schemapi.py:80\u001b[0m, in \u001b[0;36m_todict\u001b[0;34m(obj, validate, context)\u001b[0m\n\u001b[1;32m     78\u001b[0m     \u001b[38;5;28;01mreturn\u001b[39;00m [_todict(v, validate, context) \u001b[38;5;28;01mfor\u001b[39;00m v \u001b[38;5;129;01min\u001b[39;00m obj]\n\u001b[1;32m     79\u001b[0m \u001b[38;5;28;01melif\u001b[39;00m \u001b[38;5;28misinstance\u001b[39m(obj, \u001b[38;5;28mdict\u001b[39m):\n\u001b[0;32m---> 80\u001b[0m     \u001b[38;5;28;01mreturn\u001b[39;00m {\n\u001b[1;32m     81\u001b[0m         k: _todict(v, validate, context)\n\u001b[1;32m     82\u001b[0m         \u001b[38;5;28;01mfor\u001b[39;00m k, v \u001b[38;5;129;01min\u001b[39;00m obj\u001b[38;5;241m.\u001b[39mitems()\n\u001b[1;32m     83\u001b[0m         \u001b[38;5;28;01mif\u001b[39;00m v \u001b[38;5;129;01mis\u001b[39;00m \u001b[38;5;129;01mnot\u001b[39;00m Undefined\n\u001b[1;32m     84\u001b[0m     }\n\u001b[1;32m     85\u001b[0m \u001b[38;5;28;01melif\u001b[39;00m \u001b[38;5;28mhasattr\u001b[39m(obj, \u001b[38;5;124m\"\u001b[39m\u001b[38;5;124mto_dict\u001b[39m\u001b[38;5;124m\"\u001b[39m):\n\u001b[1;32m     86\u001b[0m     \u001b[38;5;28;01mreturn\u001b[39;00m obj\u001b[38;5;241m.\u001b[39mto_dict()\n",
      "File \u001b[0;32m/opt/conda/lib/python3.10/site-packages/altair/utils/schemapi.py:81\u001b[0m, in \u001b[0;36m<dictcomp>\u001b[0;34m(.0)\u001b[0m\n\u001b[1;32m     78\u001b[0m     \u001b[38;5;28;01mreturn\u001b[39;00m [_todict(v, validate, context) \u001b[38;5;28;01mfor\u001b[39;00m v \u001b[38;5;129;01min\u001b[39;00m obj]\n\u001b[1;32m     79\u001b[0m \u001b[38;5;28;01melif\u001b[39;00m \u001b[38;5;28misinstance\u001b[39m(obj, \u001b[38;5;28mdict\u001b[39m):\n\u001b[1;32m     80\u001b[0m     \u001b[38;5;28;01mreturn\u001b[39;00m {\n\u001b[0;32m---> 81\u001b[0m         k: \u001b[43m_todict\u001b[49m\u001b[43m(\u001b[49m\u001b[43mv\u001b[49m\u001b[43m,\u001b[49m\u001b[43m \u001b[49m\u001b[43mvalidate\u001b[49m\u001b[43m,\u001b[49m\u001b[43m \u001b[49m\u001b[43mcontext\u001b[49m\u001b[43m)\u001b[49m\n\u001b[1;32m     82\u001b[0m         \u001b[38;5;28;01mfor\u001b[39;00m k, v \u001b[38;5;129;01min\u001b[39;00m obj\u001b[38;5;241m.\u001b[39mitems()\n\u001b[1;32m     83\u001b[0m         \u001b[38;5;28;01mif\u001b[39;00m v \u001b[38;5;129;01mis\u001b[39;00m \u001b[38;5;129;01mnot\u001b[39;00m Undefined\n\u001b[1;32m     84\u001b[0m     }\n\u001b[1;32m     85\u001b[0m \u001b[38;5;28;01melif\u001b[39;00m \u001b[38;5;28mhasattr\u001b[39m(obj, \u001b[38;5;124m\"\u001b[39m\u001b[38;5;124mto_dict\u001b[39m\u001b[38;5;124m\"\u001b[39m):\n\u001b[1;32m     86\u001b[0m     \u001b[38;5;28;01mreturn\u001b[39;00m obj\u001b[38;5;241m.\u001b[39mto_dict()\n",
      "File \u001b[0;32m/opt/conda/lib/python3.10/site-packages/altair/utils/schemapi.py:78\u001b[0m, in \u001b[0;36m_todict\u001b[0;34m(obj, validate, context)\u001b[0m\n\u001b[1;32m     76\u001b[0m     \u001b[38;5;28;01mreturn\u001b[39;00m obj\u001b[38;5;241m.\u001b[39mto_dict(validate\u001b[38;5;241m=\u001b[39mvalidate, context\u001b[38;5;241m=\u001b[39mcontext)\n\u001b[1;32m     77\u001b[0m \u001b[38;5;28;01melif\u001b[39;00m \u001b[38;5;28misinstance\u001b[39m(obj, (\u001b[38;5;28mlist\u001b[39m, \u001b[38;5;28mtuple\u001b[39m, np\u001b[38;5;241m.\u001b[39mndarray)):\n\u001b[0;32m---> 78\u001b[0m     \u001b[38;5;28;01mreturn\u001b[39;00m [_todict(v, validate, context) \u001b[38;5;28;01mfor\u001b[39;00m v \u001b[38;5;129;01min\u001b[39;00m obj]\n\u001b[1;32m     79\u001b[0m \u001b[38;5;28;01melif\u001b[39;00m \u001b[38;5;28misinstance\u001b[39m(obj, \u001b[38;5;28mdict\u001b[39m):\n\u001b[1;32m     80\u001b[0m     \u001b[38;5;28;01mreturn\u001b[39;00m {\n\u001b[1;32m     81\u001b[0m         k: _todict(v, validate, context)\n\u001b[1;32m     82\u001b[0m         \u001b[38;5;28;01mfor\u001b[39;00m k, v \u001b[38;5;129;01min\u001b[39;00m obj\u001b[38;5;241m.\u001b[39mitems()\n\u001b[1;32m     83\u001b[0m         \u001b[38;5;28;01mif\u001b[39;00m v \u001b[38;5;129;01mis\u001b[39;00m \u001b[38;5;129;01mnot\u001b[39;00m Undefined\n\u001b[1;32m     84\u001b[0m     }\n",
      "File \u001b[0;32m/opt/conda/lib/python3.10/site-packages/altair/utils/schemapi.py:78\u001b[0m, in \u001b[0;36m<listcomp>\u001b[0;34m(.0)\u001b[0m\n\u001b[1;32m     76\u001b[0m     \u001b[38;5;28;01mreturn\u001b[39;00m obj\u001b[38;5;241m.\u001b[39mto_dict(validate\u001b[38;5;241m=\u001b[39mvalidate, context\u001b[38;5;241m=\u001b[39mcontext)\n\u001b[1;32m     77\u001b[0m \u001b[38;5;28;01melif\u001b[39;00m \u001b[38;5;28misinstance\u001b[39m(obj, (\u001b[38;5;28mlist\u001b[39m, \u001b[38;5;28mtuple\u001b[39m, np\u001b[38;5;241m.\u001b[39mndarray)):\n\u001b[0;32m---> 78\u001b[0m     \u001b[38;5;28;01mreturn\u001b[39;00m [\u001b[43m_todict\u001b[49m\u001b[43m(\u001b[49m\u001b[43mv\u001b[49m\u001b[43m,\u001b[49m\u001b[43m \u001b[49m\u001b[43mvalidate\u001b[49m\u001b[43m,\u001b[49m\u001b[43m \u001b[49m\u001b[43mcontext\u001b[49m\u001b[43m)\u001b[49m \u001b[38;5;28;01mfor\u001b[39;00m v \u001b[38;5;129;01min\u001b[39;00m obj]\n\u001b[1;32m     79\u001b[0m \u001b[38;5;28;01melif\u001b[39;00m \u001b[38;5;28misinstance\u001b[39m(obj, \u001b[38;5;28mdict\u001b[39m):\n\u001b[1;32m     80\u001b[0m     \u001b[38;5;28;01mreturn\u001b[39;00m {\n\u001b[1;32m     81\u001b[0m         k: _todict(v, validate, context)\n\u001b[1;32m     82\u001b[0m         \u001b[38;5;28;01mfor\u001b[39;00m k, v \u001b[38;5;129;01min\u001b[39;00m obj\u001b[38;5;241m.\u001b[39mitems()\n\u001b[1;32m     83\u001b[0m         \u001b[38;5;28;01mif\u001b[39;00m v \u001b[38;5;129;01mis\u001b[39;00m \u001b[38;5;129;01mnot\u001b[39;00m Undefined\n\u001b[1;32m     84\u001b[0m     }\n",
      "File \u001b[0;32m/opt/conda/lib/python3.10/site-packages/altair/utils/schemapi.py:76\u001b[0m, in \u001b[0;36m_todict\u001b[0;34m(obj, validate, context)\u001b[0m\n\u001b[1;32m     74\u001b[0m \u001b[38;5;250m\u001b[39m\u001b[38;5;124;03m\"\"\"Convert an object to a dict representation.\"\"\"\u001b[39;00m\n\u001b[1;32m     75\u001b[0m \u001b[38;5;28;01mif\u001b[39;00m \u001b[38;5;28misinstance\u001b[39m(obj, SchemaBase):\n\u001b[0;32m---> 76\u001b[0m     \u001b[38;5;28;01mreturn\u001b[39;00m \u001b[43mobj\u001b[49m\u001b[38;5;241;43m.\u001b[39;49m\u001b[43mto_dict\u001b[49m\u001b[43m(\u001b[49m\u001b[43mvalidate\u001b[49m\u001b[38;5;241;43m=\u001b[39;49m\u001b[43mvalidate\u001b[49m\u001b[43m,\u001b[49m\u001b[43m \u001b[49m\u001b[43mcontext\u001b[49m\u001b[38;5;241;43m=\u001b[39;49m\u001b[43mcontext\u001b[49m\u001b[43m)\u001b[49m\n\u001b[1;32m     77\u001b[0m \u001b[38;5;28;01melif\u001b[39;00m \u001b[38;5;28misinstance\u001b[39m(obj, (\u001b[38;5;28mlist\u001b[39m, \u001b[38;5;28mtuple\u001b[39m, np\u001b[38;5;241m.\u001b[39mndarray)):\n\u001b[1;32m     78\u001b[0m     \u001b[38;5;28;01mreturn\u001b[39;00m [_todict(v, validate, context) \u001b[38;5;28;01mfor\u001b[39;00m v \u001b[38;5;129;01min\u001b[39;00m obj]\n",
      "File \u001b[0;32m/opt/conda/lib/python3.10/site-packages/altair/vegalite/v4/api.py:2020\u001b[0m, in \u001b[0;36mChart.to_dict\u001b[0;34m(self, *args, **kwargs)\u001b[0m\n\u001b[1;32m   2018\u001b[0m     copy\u001b[38;5;241m.\u001b[39mdata \u001b[38;5;241m=\u001b[39m core\u001b[38;5;241m.\u001b[39mInlineData(values\u001b[38;5;241m=\u001b[39m[{}])\n\u001b[1;32m   2019\u001b[0m     \u001b[38;5;28;01mreturn\u001b[39;00m \u001b[38;5;28msuper\u001b[39m(Chart, copy)\u001b[38;5;241m.\u001b[39mto_dict(\u001b[38;5;241m*\u001b[39margs, \u001b[38;5;241m*\u001b[39m\u001b[38;5;241m*\u001b[39mkwargs)\n\u001b[0;32m-> 2020\u001b[0m \u001b[38;5;28;01mreturn\u001b[39;00m \u001b[38;5;28;43msuper\u001b[39;49m\u001b[43m(\u001b[49m\u001b[43m)\u001b[49m\u001b[38;5;241;43m.\u001b[39;49m\u001b[43mto_dict\u001b[49m\u001b[43m(\u001b[49m\u001b[38;5;241;43m*\u001b[39;49m\u001b[43margs\u001b[49m\u001b[43m,\u001b[49m\u001b[43m \u001b[49m\u001b[38;5;241;43m*\u001b[39;49m\u001b[38;5;241;43m*\u001b[39;49m\u001b[43mkwargs\u001b[49m\u001b[43m)\u001b[49m\n",
      "File \u001b[0;32m/opt/conda/lib/python3.10/site-packages/altair/vegalite/v4/api.py:374\u001b[0m, in \u001b[0;36mTopLevelMixin.to_dict\u001b[0;34m(self, *args, **kwargs)\u001b[0m\n\u001b[1;32m    372\u001b[0m copy \u001b[38;5;241m=\u001b[39m \u001b[38;5;28mself\u001b[39m\u001b[38;5;241m.\u001b[39mcopy(deep\u001b[38;5;241m=\u001b[39m\u001b[38;5;28;01mFalse\u001b[39;00m)\n\u001b[1;32m    373\u001b[0m original_data \u001b[38;5;241m=\u001b[39m \u001b[38;5;28mgetattr\u001b[39m(copy, \u001b[38;5;124m\"\u001b[39m\u001b[38;5;124mdata\u001b[39m\u001b[38;5;124m\"\u001b[39m, Undefined)\n\u001b[0;32m--> 374\u001b[0m copy\u001b[38;5;241m.\u001b[39mdata \u001b[38;5;241m=\u001b[39m \u001b[43m_prepare_data\u001b[49m\u001b[43m(\u001b[49m\u001b[43moriginal_data\u001b[49m\u001b[43m,\u001b[49m\u001b[43m \u001b[49m\u001b[43mcontext\u001b[49m\u001b[43m)\u001b[49m\n\u001b[1;32m    376\u001b[0m \u001b[38;5;28;01mif\u001b[39;00m original_data \u001b[38;5;129;01mis\u001b[39;00m \u001b[38;5;129;01mnot\u001b[39;00m Undefined:\n\u001b[1;32m    377\u001b[0m     context[\u001b[38;5;124m\"\u001b[39m\u001b[38;5;124mdata\u001b[39m\u001b[38;5;124m\"\u001b[39m] \u001b[38;5;241m=\u001b[39m original_data\n",
      "File \u001b[0;32m/opt/conda/lib/python3.10/site-packages/altair/vegalite/v4/api.py:89\u001b[0m, in \u001b[0;36m_prepare_data\u001b[0;34m(data, context)\u001b[0m\n\u001b[1;32m     87\u001b[0m \u001b[38;5;66;03m# convert dataframes  or objects with __geo_interface__ to dict\u001b[39;00m\n\u001b[1;32m     88\u001b[0m \u001b[38;5;28;01mif\u001b[39;00m \u001b[38;5;28misinstance\u001b[39m(data, pd\u001b[38;5;241m.\u001b[39mDataFrame) \u001b[38;5;129;01mor\u001b[39;00m \u001b[38;5;28mhasattr\u001b[39m(data, \u001b[38;5;124m\"\u001b[39m\u001b[38;5;124m__geo_interface__\u001b[39m\u001b[38;5;124m\"\u001b[39m):\n\u001b[0;32m---> 89\u001b[0m     data \u001b[38;5;241m=\u001b[39m \u001b[43m_pipe\u001b[49m\u001b[43m(\u001b[49m\u001b[43mdata\u001b[49m\u001b[43m,\u001b[49m\u001b[43m \u001b[49m\u001b[43mdata_transformers\u001b[49m\u001b[38;5;241;43m.\u001b[39;49m\u001b[43mget\u001b[49m\u001b[43m(\u001b[49m\u001b[43m)\u001b[49m\u001b[43m)\u001b[49m\n\u001b[1;32m     91\u001b[0m \u001b[38;5;66;03m# convert string input to a URLData\u001b[39;00m\n\u001b[1;32m     92\u001b[0m \u001b[38;5;28;01mif\u001b[39;00m \u001b[38;5;28misinstance\u001b[39m(data, \u001b[38;5;28mstr\u001b[39m):\n",
      "File \u001b[0;32m/opt/conda/lib/python3.10/site-packages/toolz/functoolz.py:628\u001b[0m, in \u001b[0;36mpipe\u001b[0;34m(data, *funcs)\u001b[0m\n\u001b[1;32m    608\u001b[0m \u001b[38;5;250m\u001b[39m\u001b[38;5;124;03m\"\"\" Pipe a value through a sequence of functions\u001b[39;00m\n\u001b[1;32m    609\u001b[0m \n\u001b[1;32m    610\u001b[0m \u001b[38;5;124;03mI.e. ``pipe(data, f, g, h)`` is equivalent to ``h(g(f(data)))``\u001b[39;00m\n\u001b[0;32m   (...)\u001b[0m\n\u001b[1;32m    625\u001b[0m \u001b[38;5;124;03m    thread_last\u001b[39;00m\n\u001b[1;32m    626\u001b[0m \u001b[38;5;124;03m\"\"\"\u001b[39;00m\n\u001b[1;32m    627\u001b[0m \u001b[38;5;28;01mfor\u001b[39;00m func \u001b[38;5;129;01min\u001b[39;00m funcs:\n\u001b[0;32m--> 628\u001b[0m     data \u001b[38;5;241m=\u001b[39m \u001b[43mfunc\u001b[49m\u001b[43m(\u001b[49m\u001b[43mdata\u001b[49m\u001b[43m)\u001b[49m\n\u001b[1;32m    629\u001b[0m \u001b[38;5;28;01mreturn\u001b[39;00m data\n",
      "File \u001b[0;32m/opt/conda/lib/python3.10/site-packages/toolz/functoolz.py:304\u001b[0m, in \u001b[0;36mcurry.__call__\u001b[0;34m(self, *args, **kwargs)\u001b[0m\n\u001b[1;32m    302\u001b[0m \u001b[38;5;28;01mdef\u001b[39;00m \u001b[38;5;21m__call__\u001b[39m(\u001b[38;5;28mself\u001b[39m, \u001b[38;5;241m*\u001b[39margs, \u001b[38;5;241m*\u001b[39m\u001b[38;5;241m*\u001b[39mkwargs):\n\u001b[1;32m    303\u001b[0m     \u001b[38;5;28;01mtry\u001b[39;00m:\n\u001b[0;32m--> 304\u001b[0m         \u001b[38;5;28;01mreturn\u001b[39;00m \u001b[38;5;28;43mself\u001b[39;49m\u001b[38;5;241;43m.\u001b[39;49m\u001b[43m_partial\u001b[49m\u001b[43m(\u001b[49m\u001b[38;5;241;43m*\u001b[39;49m\u001b[43margs\u001b[49m\u001b[43m,\u001b[49m\u001b[43m \u001b[49m\u001b[38;5;241;43m*\u001b[39;49m\u001b[38;5;241;43m*\u001b[39;49m\u001b[43mkwargs\u001b[49m\u001b[43m)\u001b[49m\n\u001b[1;32m    305\u001b[0m     \u001b[38;5;28;01mexcept\u001b[39;00m \u001b[38;5;167;01mTypeError\u001b[39;00m \u001b[38;5;28;01mas\u001b[39;00m exc:\n\u001b[1;32m    306\u001b[0m         \u001b[38;5;28;01mif\u001b[39;00m \u001b[38;5;28mself\u001b[39m\u001b[38;5;241m.\u001b[39m_should_curry(args, kwargs, exc):\n",
      "File \u001b[0;32m/opt/conda/lib/python3.10/site-packages/altair/vegalite/data.py:19\u001b[0m, in \u001b[0;36mdefault_data_transformer\u001b[0;34m(data, max_rows)\u001b[0m\n\u001b[1;32m     17\u001b[0m \u001b[38;5;129m@curried\u001b[39m\u001b[38;5;241m.\u001b[39mcurry\n\u001b[1;32m     18\u001b[0m \u001b[38;5;28;01mdef\u001b[39;00m \u001b[38;5;21mdefault_data_transformer\u001b[39m(data, max_rows\u001b[38;5;241m=\u001b[39m\u001b[38;5;241m5000\u001b[39m):\n\u001b[0;32m---> 19\u001b[0m     \u001b[38;5;28;01mreturn\u001b[39;00m \u001b[43mcurried\u001b[49m\u001b[38;5;241;43m.\u001b[39;49m\u001b[43mpipe\u001b[49m\u001b[43m(\u001b[49m\u001b[43mdata\u001b[49m\u001b[43m,\u001b[49m\u001b[43m \u001b[49m\u001b[43mlimit_rows\u001b[49m\u001b[43m(\u001b[49m\u001b[43mmax_rows\u001b[49m\u001b[38;5;241;43m=\u001b[39;49m\u001b[43mmax_rows\u001b[49m\u001b[43m)\u001b[49m\u001b[43m,\u001b[49m\u001b[43m \u001b[49m\u001b[43mto_values\u001b[49m\u001b[43m)\u001b[49m\n",
      "File \u001b[0;32m/opt/conda/lib/python3.10/site-packages/toolz/functoolz.py:628\u001b[0m, in \u001b[0;36mpipe\u001b[0;34m(data, *funcs)\u001b[0m\n\u001b[1;32m    608\u001b[0m \u001b[38;5;250m\u001b[39m\u001b[38;5;124;03m\"\"\" Pipe a value through a sequence of functions\u001b[39;00m\n\u001b[1;32m    609\u001b[0m \n\u001b[1;32m    610\u001b[0m \u001b[38;5;124;03mI.e. ``pipe(data, f, g, h)`` is equivalent to ``h(g(f(data)))``\u001b[39;00m\n\u001b[0;32m   (...)\u001b[0m\n\u001b[1;32m    625\u001b[0m \u001b[38;5;124;03m    thread_last\u001b[39;00m\n\u001b[1;32m    626\u001b[0m \u001b[38;5;124;03m\"\"\"\u001b[39;00m\n\u001b[1;32m    627\u001b[0m \u001b[38;5;28;01mfor\u001b[39;00m func \u001b[38;5;129;01min\u001b[39;00m funcs:\n\u001b[0;32m--> 628\u001b[0m     data \u001b[38;5;241m=\u001b[39m \u001b[43mfunc\u001b[49m\u001b[43m(\u001b[49m\u001b[43mdata\u001b[49m\u001b[43m)\u001b[49m\n\u001b[1;32m    629\u001b[0m \u001b[38;5;28;01mreturn\u001b[39;00m data\n",
      "File \u001b[0;32m/opt/conda/lib/python3.10/site-packages/toolz/functoolz.py:304\u001b[0m, in \u001b[0;36mcurry.__call__\u001b[0;34m(self, *args, **kwargs)\u001b[0m\n\u001b[1;32m    302\u001b[0m \u001b[38;5;28;01mdef\u001b[39;00m \u001b[38;5;21m__call__\u001b[39m(\u001b[38;5;28mself\u001b[39m, \u001b[38;5;241m*\u001b[39margs, \u001b[38;5;241m*\u001b[39m\u001b[38;5;241m*\u001b[39mkwargs):\n\u001b[1;32m    303\u001b[0m     \u001b[38;5;28;01mtry\u001b[39;00m:\n\u001b[0;32m--> 304\u001b[0m         \u001b[38;5;28;01mreturn\u001b[39;00m \u001b[38;5;28;43mself\u001b[39;49m\u001b[38;5;241;43m.\u001b[39;49m\u001b[43m_partial\u001b[49m\u001b[43m(\u001b[49m\u001b[38;5;241;43m*\u001b[39;49m\u001b[43margs\u001b[49m\u001b[43m,\u001b[49m\u001b[43m \u001b[49m\u001b[38;5;241;43m*\u001b[39;49m\u001b[38;5;241;43m*\u001b[39;49m\u001b[43mkwargs\u001b[49m\u001b[43m)\u001b[49m\n\u001b[1;32m    305\u001b[0m     \u001b[38;5;28;01mexcept\u001b[39;00m \u001b[38;5;167;01mTypeError\u001b[39;00m \u001b[38;5;28;01mas\u001b[39;00m exc:\n\u001b[1;32m    306\u001b[0m         \u001b[38;5;28;01mif\u001b[39;00m \u001b[38;5;28mself\u001b[39m\u001b[38;5;241m.\u001b[39m_should_curry(args, kwargs, exc):\n",
      "File \u001b[0;32m/opt/conda/lib/python3.10/site-packages/altair/utils/data.py:80\u001b[0m, in \u001b[0;36mlimit_rows\u001b[0;34m(data, max_rows)\u001b[0m\n\u001b[1;32m     78\u001b[0m         \u001b[38;5;28;01mreturn\u001b[39;00m data\n\u001b[1;32m     79\u001b[0m \u001b[38;5;28;01mif\u001b[39;00m max_rows \u001b[38;5;129;01mis\u001b[39;00m \u001b[38;5;129;01mnot\u001b[39;00m \u001b[38;5;28;01mNone\u001b[39;00m \u001b[38;5;129;01mand\u001b[39;00m \u001b[38;5;28mlen\u001b[39m(values) \u001b[38;5;241m>\u001b[39m max_rows:\n\u001b[0;32m---> 80\u001b[0m     \u001b[38;5;28;01mraise\u001b[39;00m MaxRowsError(\n\u001b[1;32m     81\u001b[0m         \u001b[38;5;124m\"\u001b[39m\u001b[38;5;124mThe number of rows in your dataset is greater \u001b[39m\u001b[38;5;124m\"\u001b[39m\n\u001b[1;32m     82\u001b[0m         \u001b[38;5;124m\"\u001b[39m\u001b[38;5;124mthan the maximum allowed (\u001b[39m\u001b[38;5;132;01m{}\u001b[39;00m\u001b[38;5;124m). \u001b[39m\u001b[38;5;124m\"\u001b[39m\n\u001b[1;32m     83\u001b[0m         \u001b[38;5;124m\"\u001b[39m\u001b[38;5;124mFor information on how to plot larger datasets \u001b[39m\u001b[38;5;124m\"\u001b[39m\n\u001b[1;32m     84\u001b[0m         \u001b[38;5;124m\"\u001b[39m\u001b[38;5;124min Altair, see the documentation\u001b[39m\u001b[38;5;124m\"\u001b[39m\u001b[38;5;241m.\u001b[39mformat(max_rows)\n\u001b[1;32m     85\u001b[0m     )\n\u001b[1;32m     86\u001b[0m \u001b[38;5;28;01mreturn\u001b[39;00m data\n",
      "\u001b[0;31mMaxRowsError\u001b[0m: The number of rows in your dataset is greater than the maximum allowed (5000). For information on how to plot larger datasets in Altair, see the documentation"
     ]
    },
    {
     "data": {
      "text/plain": [
       "alt.LayerChart(...)"
      ]
     },
     "metadata": {},
     "output_type": "display_data"
    }
   ],
   "source": [
    "xmin='1992-05-01'\n",
    "xmax='2023-07-01'\n",
    "xaxis = alt.Chart(pd.DataFrame([{'x':xmin,'y':0},{'x':xmax,'y':0}])).mark_line(color=colors[\"eco-gray\"],opacity=mo-0.2,strokeWidth=1).encode(\n",
    "    alt.X(\n",
    "        \"x:T\",\n",
    "        sort=[],\n",
    "        axis=alt.Axis(\n",
    "            grid=False,\n",
    "            titleAlign=\"center\",\n",
    "            titleAnchor=\"middle\",\n",
    "            title=\"\",\n",
    "            titleY=-15,\n",
    "            titleX=207,\n",
    "            labelColor=colors[\"eco-gray\"],\n",
    "            titleColor=colors[\"eco-gray\"],\n",
    "            tickColor=colors[\"eco-gray\"],\n",
    "            domainColor=colors[\"eco-gray\"],\n",
    "            tickCount=10,\n",
    "            domainOpacity=mo,\n",
    "            tickOpacity=mo,\n",
    "            labelOpacity=mo+0.2,\n",
    "            titleOpacity=mo+0.3,\n",
    "            titleFontSize=12,\n",
    "            orient=\"bottom\",\n",
    "            labelAngle=0,\n",
    "        ),\n",
    "    ),\n",
    "    y=alt.Y(\n",
    "        \"y:Q\",\n",
    "        sort=[],\n",
    "        axis=alt.Axis(\n",
    "            # grid=False,\n",
    "            gridDash=[1,5],\n",
    "            gridColor=colors[\"eco-gray\"],\n",
    "            gridOpacity=mo,\n",
    "            title=\"%\",\n",
    "            titleX=0,\n",
    "            titleY=-7,\n",
    "            titleBaseline=\"bottom\",\n",
    "            titleAngle=0,\n",
    "            titleAlign=\"left\",\n",
    "            ticks=False,\n",
    "            labelPadding=5,\n",
    "            labelColor=colors[\"eco-gray\"],\n",
    "            titleColor=colors[\"eco-gray\"],\n",
    "            tickColor=colors[\"eco-gray\"],\n",
    "            domainColor=colors[\"eco-gray\"],\n",
    "            domainOpacity=mo,\n",
    "            tickOpacity=mo,\n",
    "            labelOpacity=mo+0.2,\n",
    "            titleOpacity=mo+0.3,\n",
    "            titleFontSize=12,\n",
    "            format='.0f',\n",
    "            tickCount=8\n",
    "        ),\n",
    "        # scale=alt.Scale(domain=[-0.16, 0.06]),\n",
    "    )\n",
    ")\n",
    "# yaxis=alt.Chart(pd.DataFrame([{'x':'2020-01-01','y':-4},{'x':'2020-01-01','y':14}])).mark_line(color=colors[\"eco-gray\"],opacity=mo-0.2,strokeWidth=1).encode(x='x:T',y='y:Q')\n",
    "# ylabel=alt.Chart(pd.DataFrame([{'x':'2019-01-01','y':-3.2,'t':'↓ decrease'},{'x':'2019-01-01','y':13,'t':'↑ increase'}]))\\\n",
    "#     .mark_text(color=colors[\"eco-gray\"],opacity=mo+0.1,align='left',dx=5).encode(x='x:T',y='y:Q',text='t:N')\n",
    "# ylabel2=alt.Chart(pd.DataFrame([{'x':'2022-04-01','y':14,'t':'Aged 16-24'}]))\\\n",
    "#     .mark_text(color=colors[\"eco-gray\"],opacity=mo+0.3,align='right',dx=-5,dy=-12,fontSize=12,fontWeight='bold').encode(x='x:T',y='y:Q',text='t:N')\n",
    "\n",
    "base = alt.Chart(fc).encode(x='time:T')\n",
    "line1=base.mark_line(color=colors['eco-dot']).encode(y='All aged 16 & over:Q')\n",
    "\n",
    "layer1 = (\n",
    "    (xaxis+line1).properties(height=300, width=400, title=\"\")\n",
    "    .configure(font='Circular Std Book').configure_view(stroke=None)\n",
    ")\n",
    "\n",
    "if DARK:\n",
    "    layer1.save(\"visualisation/\" + f + \"_no_branding.json\")\n",
    "    layer2=dark(f+'_no_branding')\n",
    "    layer2.save(\"visualisation/\" + f + \"_no_branding_dark.json\")\n",
    "    \n",
    "if SAVE:\n",
    "    layer1.save(\"visualisation/\" + f + \"_no_branding.json\")\n",
    "    layer1.save(\"visualisation/\" + f + \"_no_branding.svg\")\n",
    "    layer1.save(\"visualisation/\" + f + \"_no_branding.png\")\n",
    "    if DARK:\n",
    "        layer2.save(\"visualisation/\" + f + \"_no_branding_dark.svg\")\n",
    "        layer2.save(\"visualisation/\" + f + \"_no_branding_dark.png\")\n",
    "    \n",
    "logo=alt.Chart(pd.DataFrame([{\"x\": xmax, \"y\": 14, \"img\": \"https://raw.githubusercontent.com/EconomicsObservatory/ECOvisualisations/main/guidelines/logos/eco-icon-dark.png\"}]))\\\n",
    "    .mark_image(width=40,height=40,align='right',baseline='top',yOffset=-33,opacity=mo,xOffset=0).encode(x='x:T',y='y:Q',url='img:N')\n",
    "# ecomark=alt.Chart(pd.DataFrame([{\"x\": '2019-01-01', \"y\": 14}]))\\\n",
    "#     .mark_point(size=100,fill=colors['eco-turquiose'],stroke=None,opacity=1,xOffset=-20,yOffset=-20).encode(x='x:T',y='y:Q')\n",
    "# layer1+=(ecomark)\n",
    "layer1+=(logo)\n",
    "\n",
    "if DARK:\n",
    "    layer1.save(\"visualisation/\" + f + \".json\")\n",
    "    layer2=dark(f)\n",
    "    layer2.save(\"visualisation/\" + f + \"_dark.json\")\n",
    "if SAVE:\n",
    "    layer1.save(\"visualisation/\" + f + \".json\")\n",
    "    layer1.save(\"visualisation/\" + f + \".svg\")\n",
    "    layer1.save(\"visualisation/\" + f + \".png\")\n",
    "    if DARK:\n",
    "        layer2.save(\"visualisation/\" + f + \"_dark.svg\")\n",
    "        layer2.save(\"visualisation/\" + f + \"_dark.png\")\n",
    "    open(\"README.md\", \"w\").write(readme)\n",
    "\n",
    "print(f+'\\n')\n",
    "layer1.display()\n",
    "if DARK:\n",
    "    layer2.display()"
   ]
  },
  {
   "cell_type": "markdown",
   "metadata": {},
   "source": [
    "# Post-process"
   ]
  },
  {
   "cell_type": "markdown",
   "metadata": {},
   "source": [
    "## Clean up `SVG`s\n",
    "`base64 URI` encode images"
   ]
  },
  {
   "cell_type": "code",
   "execution_count": 39,
   "metadata": {
    "tags": []
   },
   "outputs": [],
   "source": [
    "from base64 import b64encode"
   ]
  },
  {
   "cell_type": "code",
   "execution_count": 40,
   "metadata": {
    "tags": []
   },
   "outputs": [],
   "source": [
    "from os import listdir\n",
    "from os.path import isfile, join\n",
    "mypath='./visualisation/'\n",
    "onlyfiles = [f for f in listdir(mypath) if isfile(join(mypath, f))]\n",
    "svgs=[i for i in onlyfiles if i[-4:]=='.svg']"
   ]
  },
  {
   "cell_type": "code",
   "execution_count": 41,
   "metadata": {
    "tags": []
   },
   "outputs": [
    {
     "name": "stdout",
     "output_type": "stream",
     "text": [
      "fig1_cpi.svg\n",
      "fig1_cpi_dark.svg\n",
      "fig2_boe_rate.svg\n",
      "fig2_boe_rate_dark.svg\n",
      "fig3_pay.svg\n",
      "fig3_pay_dark.svg\n",
      "fig4_asda.svg\n",
      "fig4_asda_dark.svg\n",
      "fig5_quint.svg\n",
      "fig5_quint_dark.svg\n",
      "fig6_food.svg\n",
      "fig6_food_dark.svg\n",
      "fig7_gfk.svg\n",
      "fig7_gfk_dark.svg\n",
      "fig8_gifts.svg\n",
      "fig8_gifts_dark.svg\n"
     ]
    }
   ],
   "source": [
    "for svg in svgs:\n",
    "    s=open(mypath+svg,'r').read()\n",
    "    si=s.find('\"image mark\" xlink:href=')\n",
    "    if si>-1:\n",
    "        s2=s[si+25:]\n",
    "        imgurl=s2[:s2.find('\"')]\n",
    "        if 'data:image/png;' not in imgurl:\n",
    "            s1=s[:si+25]+s2.replace(imgurl,'data:image/png;base64,'+b64encode(requests.get(imgurl).content).decode('utf-8'))\n",
    "            open(mypath+svg,'w').write(s1)\n",
    "            print(svg)"
   ]
  },
  {
   "cell_type": "markdown",
   "metadata": {},
   "source": [
    "## README"
   ]
  },
  {
   "cell_type": "code",
   "execution_count": 49,
   "metadata": {
    "tags": []
   },
   "outputs": [
    {
     "data": {
      "text/markdown": [
       "## Figure 1  \n",
       "\n",
       "Data: [`csv`](data/fig1_cpi.csv)  \n",
       "GitHub: [fig1_cpi](https://github.com/EconomicsObservatory/ECOvisualisations/tree/main/articles/how-is-consumer-spending-around-christmas-2023-likely-to-affect-retailers)  \n",
       "\n",
       "### Light theme  \n",
       "\n",
       "Versions with data locally embedded into the `Vega-lite` specification file: [`png`](visualisation/fig1_cpi_local.png) [`svg`](visualisation/fig1_cpi_local.svg) [`json`](visualisation/fig1_cpi_local.json)   \n",
       " (**Default**) Versions with data loaded from `GitHub`: [`png`](visualisation/fig1_cpi.png) [`svg`](visualisation/fig1_cpi.svg) [`json`](visualisation/fig1_cpi.json)  \n",
       "Versions (no ECO branding) with data locally embedded into the `Vega-lite` specification file: [`png`](visualisation/fig1_cpi_local_no_branding.png) [`svg`](visualisation/fig1_cpi_local_no_branding.svg) [`json`](visualisation/fig1_cpi_local_no_branding.json)   \n",
       "Versions (no ECO branding) with data loaded from `GitHub`: [`png`](visualisation/fig1_cpi_no_branding.png) [`svg`](visualisation/fig1_cpi_no_branding.svg) [`json`](visualisation/fig1_cpi_no_branding.json)   \n",
       "\n",
       "### Dark theme  \n",
       "\n",
       "Versions with data locally embedded into the `Vega-lite` specification file: [`png`](visualisation/fig1_cpi_local_dark.png) [`svg`](visualisation/fig1_cpi_local_dark.svg) [`json`](visualisation/fig1_cpi_local_dark.json)   \n",
       " Versions with data loaded from `GitHub`: [`png`](visualisation/fig1_cpi_dark.png) [`svg`](visualisation/fig1_cpi_dark.svg) [`json`](visualisation/fig1_cpi_dark.json)  \n",
       "Versions (no ECO branding) with data locally embedded into the `Vega-lite` specification file: [`png`](visualisation/fig1_cpi_local_no_branding_dark.png) [`svg`](visualisation/fig1_cpi_local_no_branding_dark.svg) [`json`](visualisation/fig1_cpi_local_no_branding_dark.json)   \n",
       "Versions (no ECO branding) with data loaded from `GitHub`: [`png`](visualisation/fig1_cpi_no_branding_dark.png) [`svg`](visualisation/fig1_cpi_no_branding_dark.svg) [`json`](visualisation/fig1_cpi_no_branding_dark.json)   \n",
       "\n",
       "![\"fig1_cpi\"](visualisation/fig1_cpi.svg \"fig1_cpi\")\n",
       "\n",
       "  \n",
       "\n",
       "![\"fig1_cpi_dark\"](visualisation/fig1_cpi_dark.svg \"fig1_cpi\")\n",
       "\n",
       "## Figure 2  \n",
       "\n",
       "Data: [`csv`](data/fig2_boe_rate.csv)  \n",
       "GitHub: [fig2_boe_rate](https://github.com/EconomicsObservatory/ECOvisualisations/tree/main/articles/how-is-consumer-spending-around-christmas-2023-likely-to-affect-retailers)  \n",
       "\n",
       "### Light theme  \n",
       "\n",
       "Versions with data locally embedded into the `Vega-lite` specification file: [`png`](visualisation/fig2_boe_rate_local.png) [`svg`](visualisation/fig2_boe_rate_local.svg) [`json`](visualisation/fig2_boe_rate_local.json)   \n",
       " (**Default**) Versions with data loaded from `GitHub`: [`png`](visualisation/fig2_boe_rate.png) [`svg`](visualisation/fig2_boe_rate.svg) [`json`](visualisation/fig2_boe_rate.json)  \n",
       "Versions (no ECO branding) with data locally embedded into the `Vega-lite` specification file: [`png`](visualisation/fig2_boe_rate_local_no_branding.png) [`svg`](visualisation/fig2_boe_rate_local_no_branding.svg) [`json`](visualisation/fig2_boe_rate_local_no_branding.json)   \n",
       "Versions (no ECO branding) with data loaded from `GitHub`: [`png`](visualisation/fig2_boe_rate_no_branding.png) [`svg`](visualisation/fig2_boe_rate_no_branding.svg) [`json`](visualisation/fig2_boe_rate_no_branding.json)   \n",
       "\n",
       "### Dark theme  \n",
       "\n",
       "Versions with data locally embedded into the `Vega-lite` specification file: [`png`](visualisation/fig2_boe_rate_local_dark.png) [`svg`](visualisation/fig2_boe_rate_local_dark.svg) [`json`](visualisation/fig2_boe_rate_local_dark.json)   \n",
       " Versions with data loaded from `GitHub`: [`png`](visualisation/fig2_boe_rate_dark.png) [`svg`](visualisation/fig2_boe_rate_dark.svg) [`json`](visualisation/fig2_boe_rate_dark.json)  \n",
       "Versions (no ECO branding) with data locally embedded into the `Vega-lite` specification file: [`png`](visualisation/fig2_boe_rate_local_no_branding_dark.png) [`svg`](visualisation/fig2_boe_rate_local_no_branding_dark.svg) [`json`](visualisation/fig2_boe_rate_local_no_branding_dark.json)   \n",
       "Versions (no ECO branding) with data loaded from `GitHub`: [`png`](visualisation/fig2_boe_rate_no_branding_dark.png) [`svg`](visualisation/fig2_boe_rate_no_branding_dark.svg) [`json`](visualisation/fig2_boe_rate_no_branding_dark.json)   \n",
       "\n",
       "![\"fig2_boe_rate\"](visualisation/fig2_boe_rate.svg \"fig2_boe_rate\")\n",
       "\n",
       "  \n",
       "\n",
       "![\"fig2_boe_rate_dark\"](visualisation/fig2_boe_rate_dark.svg \"fig2_boe_rate\")\n",
       "\n",
       "## Figure 3  \n",
       "\n",
       "Data: [`csv`](data/fig3_pay.csv)  \n",
       "GitHub: [fig3_pay](https://github.com/EconomicsObservatory/ECOvisualisations/tree/main/articles/how-is-consumer-spending-around-christmas-2023-likely-to-affect-retailers)  \n",
       "\n",
       "### Light theme  \n",
       "\n",
       "Versions with data locally embedded into the `Vega-lite` specification file: [`png`](visualisation/fig3_pay_local.png) [`svg`](visualisation/fig3_pay_local.svg) [`json`](visualisation/fig3_pay_local.json)   \n",
       " (**Default**) Versions with data loaded from `GitHub`: [`png`](visualisation/fig3_pay.png) [`svg`](visualisation/fig3_pay.svg) [`json`](visualisation/fig3_pay.json)  \n",
       "Versions (no ECO branding) with data locally embedded into the `Vega-lite` specification file: [`png`](visualisation/fig3_pay_local_no_branding.png) [`svg`](visualisation/fig3_pay_local_no_branding.svg) [`json`](visualisation/fig3_pay_local_no_branding.json)   \n",
       "Versions (no ECO branding) with data loaded from `GitHub`: [`png`](visualisation/fig3_pay_no_branding.png) [`svg`](visualisation/fig3_pay_no_branding.svg) [`json`](visualisation/fig3_pay_no_branding.json)   \n",
       "\n",
       "### Dark theme  \n",
       "\n",
       "Versions with data locally embedded into the `Vega-lite` specification file: [`png`](visualisation/fig3_pay_local_dark.png) [`svg`](visualisation/fig3_pay_local_dark.svg) [`json`](visualisation/fig3_pay_local_dark.json)   \n",
       " Versions with data loaded from `GitHub`: [`png`](visualisation/fig3_pay_dark.png) [`svg`](visualisation/fig3_pay_dark.svg) [`json`](visualisation/fig3_pay_dark.json)  \n",
       "Versions (no ECO branding) with data locally embedded into the `Vega-lite` specification file: [`png`](visualisation/fig3_pay_local_no_branding_dark.png) [`svg`](visualisation/fig3_pay_local_no_branding_dark.svg) [`json`](visualisation/fig3_pay_local_no_branding_dark.json)   \n",
       "Versions (no ECO branding) with data loaded from `GitHub`: [`png`](visualisation/fig3_pay_no_branding_dark.png) [`svg`](visualisation/fig3_pay_no_branding_dark.svg) [`json`](visualisation/fig3_pay_no_branding_dark.json)   \n",
       "\n",
       "![\"fig3_pay\"](visualisation/fig3_pay.svg \"fig3_pay\")\n",
       "\n",
       "  \n",
       "\n",
       "![\"fig3_pay_dark\"](visualisation/fig3_pay_dark.svg \"fig3_pay\")\n",
       "\n",
       "## Figure 4  \n",
       "\n",
       "Data: [`csv`](data/fig4_asda.csv)  \n",
       "GitHub: [fig4_asda](https://github.com/EconomicsObservatory/ECOvisualisations/tree/main/articles/how-is-consumer-spending-around-christmas-2023-likely-to-affect-retailers)  \n",
       "\n",
       "### Light theme  \n",
       "\n",
       "Versions with data locally embedded into the `Vega-lite` specification file: [`png`](visualisation/fig4_asda_local.png) [`svg`](visualisation/fig4_asda_local.svg) [`json`](visualisation/fig4_asda_local.json)   \n",
       " (**Default**) Versions with data loaded from `GitHub`: [`png`](visualisation/fig4_asda.png) [`svg`](visualisation/fig4_asda.svg) [`json`](visualisation/fig4_asda.json)  \n",
       "Versions (no ECO branding) with data locally embedded into the `Vega-lite` specification file: [`png`](visualisation/fig4_asda_local_no_branding.png) [`svg`](visualisation/fig4_asda_local_no_branding.svg) [`json`](visualisation/fig4_asda_local_no_branding.json)   \n",
       "Versions (no ECO branding) with data loaded from `GitHub`: [`png`](visualisation/fig4_asda_no_branding.png) [`svg`](visualisation/fig4_asda_no_branding.svg) [`json`](visualisation/fig4_asda_no_branding.json)   \n",
       "\n",
       "### Dark theme  \n",
       "\n",
       "Versions with data locally embedded into the `Vega-lite` specification file: [`png`](visualisation/fig4_asda_local_dark.png) [`svg`](visualisation/fig4_asda_local_dark.svg) [`json`](visualisation/fig4_asda_local_dark.json)   \n",
       " Versions with data loaded from `GitHub`: [`png`](visualisation/fig4_asda_dark.png) [`svg`](visualisation/fig4_asda_dark.svg) [`json`](visualisation/fig4_asda_dark.json)  \n",
       "Versions (no ECO branding) with data locally embedded into the `Vega-lite` specification file: [`png`](visualisation/fig4_asda_local_no_branding_dark.png) [`svg`](visualisation/fig4_asda_local_no_branding_dark.svg) [`json`](visualisation/fig4_asda_local_no_branding_dark.json)   \n",
       "Versions (no ECO branding) with data loaded from `GitHub`: [`png`](visualisation/fig4_asda_no_branding_dark.png) [`svg`](visualisation/fig4_asda_no_branding_dark.svg) [`json`](visualisation/fig4_asda_no_branding_dark.json)   \n",
       "\n",
       "![\"fig4_asda\"](visualisation/fig4_asda.svg \"fig4_asda\")\n",
       "\n",
       "  \n",
       "\n",
       "![\"fig4_asda_dark\"](visualisation/fig4_asda_dark.svg \"fig4_asda\")\n",
       "\n",
       "## Figure 5  \n",
       "\n",
       "Data: [`csv`](data/fig5_quint.csv)  \n",
       "GitHub: [fig5_quint](https://github.com/EconomicsObservatory/ECOvisualisations/tree/main/articles/how-is-consumer-spending-around-christmas-2023-likely-to-affect-retailers)  \n",
       "\n",
       "### Light theme  \n",
       "\n",
       "Versions with data locally embedded into the `Vega-lite` specification file: [`png`](visualisation/fig5_quint_local.png) [`svg`](visualisation/fig5_quint_local.svg) [`json`](visualisation/fig5_quint_local.json)   \n",
       " (**Default**) Versions with data loaded from `GitHub`: [`png`](visualisation/fig5_quint.png) [`svg`](visualisation/fig5_quint.svg) [`json`](visualisation/fig5_quint.json)  \n",
       "Versions (no ECO branding) with data locally embedded into the `Vega-lite` specification file: [`png`](visualisation/fig5_quint_local_no_branding.png) [`svg`](visualisation/fig5_quint_local_no_branding.svg) [`json`](visualisation/fig5_quint_local_no_branding.json)   \n",
       "Versions (no ECO branding) with data loaded from `GitHub`: [`png`](visualisation/fig5_quint_no_branding.png) [`svg`](visualisation/fig5_quint_no_branding.svg) [`json`](visualisation/fig5_quint_no_branding.json)   \n",
       "\n",
       "### Dark theme  \n",
       "\n",
       "Versions with data locally embedded into the `Vega-lite` specification file: [`png`](visualisation/fig5_quint_local_dark.png) [`svg`](visualisation/fig5_quint_local_dark.svg) [`json`](visualisation/fig5_quint_local_dark.json)   \n",
       " Versions with data loaded from `GitHub`: [`png`](visualisation/fig5_quint_dark.png) [`svg`](visualisation/fig5_quint_dark.svg) [`json`](visualisation/fig5_quint_dark.json)  \n",
       "Versions (no ECO branding) with data locally embedded into the `Vega-lite` specification file: [`png`](visualisation/fig5_quint_local_no_branding_dark.png) [`svg`](visualisation/fig5_quint_local_no_branding_dark.svg) [`json`](visualisation/fig5_quint_local_no_branding_dark.json)   \n",
       "Versions (no ECO branding) with data loaded from `GitHub`: [`png`](visualisation/fig5_quint_no_branding_dark.png) [`svg`](visualisation/fig5_quint_no_branding_dark.svg) [`json`](visualisation/fig5_quint_no_branding_dark.json)   \n",
       "\n",
       "![\"fig5_quint\"](visualisation/fig5_quint.svg \"fig5_quint\")\n",
       "\n",
       "  \n",
       "\n",
       "![\"fig5_quint_dark\"](visualisation/fig5_quint_dark.svg \"fig5_quint\")\n",
       "\n",
       "## Figure 6  \n",
       "\n",
       "Data: [`csv`](data/fig6_food.csv)  \n",
       "GitHub: [fig6_food](https://github.com/EconomicsObservatory/ECOvisualisations/tree/main/articles/how-is-consumer-spending-around-christmas-2023-likely-to-affect-retailers)  \n",
       "\n",
       "### Light theme  \n",
       "\n",
       "Versions with data locally embedded into the `Vega-lite` specification file: [`png`](visualisation/fig6_food_local.png) [`svg`](visualisation/fig6_food_local.svg) [`json`](visualisation/fig6_food_local.json)   \n",
       " (**Default**) Versions with data loaded from `GitHub`: [`png`](visualisation/fig6_food.png) [`svg`](visualisation/fig6_food.svg) [`json`](visualisation/fig6_food.json)  \n",
       "Versions (no ECO branding) with data locally embedded into the `Vega-lite` specification file: [`png`](visualisation/fig6_food_local_no_branding.png) [`svg`](visualisation/fig6_food_local_no_branding.svg) [`json`](visualisation/fig6_food_local_no_branding.json)   \n",
       "Versions (no ECO branding) with data loaded from `GitHub`: [`png`](visualisation/fig6_food_no_branding.png) [`svg`](visualisation/fig6_food_no_branding.svg) [`json`](visualisation/fig6_food_no_branding.json)   \n",
       "\n",
       "### Dark theme  \n",
       "\n",
       "Versions with data locally embedded into the `Vega-lite` specification file: [`png`](visualisation/fig6_food_local_dark.png) [`svg`](visualisation/fig6_food_local_dark.svg) [`json`](visualisation/fig6_food_local_dark.json)   \n",
       " Versions with data loaded from `GitHub`: [`png`](visualisation/fig6_food_dark.png) [`svg`](visualisation/fig6_food_dark.svg) [`json`](visualisation/fig6_food_dark.json)  \n",
       "Versions (no ECO branding) with data locally embedded into the `Vega-lite` specification file: [`png`](visualisation/fig6_food_local_no_branding_dark.png) [`svg`](visualisation/fig6_food_local_no_branding_dark.svg) [`json`](visualisation/fig6_food_local_no_branding_dark.json)   \n",
       "Versions (no ECO branding) with data loaded from `GitHub`: [`png`](visualisation/fig6_food_no_branding_dark.png) [`svg`](visualisation/fig6_food_no_branding_dark.svg) [`json`](visualisation/fig6_food_no_branding_dark.json)   \n",
       "\n",
       "![\"fig6_food\"](visualisation/fig6_food.svg \"fig6_food\")\n",
       "\n",
       "  \n",
       "\n",
       "![\"fig6_food_dark\"](visualisation/fig6_food_dark.svg \"fig6_food\")\n",
       "\n",
       "## Figure 7  \n",
       "\n",
       "Data: [`csv`](data/fig7_gfk.csv)  \n",
       "GitHub: [fig7_gfk](https://github.com/EconomicsObservatory/ECOvisualisations/tree/main/articles/how-is-consumer-spending-around-christmas-2023-likely-to-affect-retailers)  \n",
       "\n",
       "### Light theme  \n",
       "\n",
       "Versions with data locally embedded into the `Vega-lite` specification file: [`png`](visualisation/fig7_gfk_local.png) [`svg`](visualisation/fig7_gfk_local.svg) [`json`](visualisation/fig7_gfk_local.json)   \n",
       " (**Default**) Versions with data loaded from `GitHub`: [`png`](visualisation/fig7_gfk.png) [`svg`](visualisation/fig7_gfk.svg) [`json`](visualisation/fig7_gfk.json)  \n",
       "Versions (no ECO branding) with data locally embedded into the `Vega-lite` specification file: [`png`](visualisation/fig7_gfk_local_no_branding.png) [`svg`](visualisation/fig7_gfk_local_no_branding.svg) [`json`](visualisation/fig7_gfk_local_no_branding.json)   \n",
       "Versions (no ECO branding) with data loaded from `GitHub`: [`png`](visualisation/fig7_gfk_no_branding.png) [`svg`](visualisation/fig7_gfk_no_branding.svg) [`json`](visualisation/fig7_gfk_no_branding.json)   \n",
       "\n",
       "### Dark theme  \n",
       "\n",
       "Versions with data locally embedded into the `Vega-lite` specification file: [`png`](visualisation/fig7_gfk_local_dark.png) [`svg`](visualisation/fig7_gfk_local_dark.svg) [`json`](visualisation/fig7_gfk_local_dark.json)   \n",
       " Versions with data loaded from `GitHub`: [`png`](visualisation/fig7_gfk_dark.png) [`svg`](visualisation/fig7_gfk_dark.svg) [`json`](visualisation/fig7_gfk_dark.json)  \n",
       "Versions (no ECO branding) with data locally embedded into the `Vega-lite` specification file: [`png`](visualisation/fig7_gfk_local_no_branding_dark.png) [`svg`](visualisation/fig7_gfk_local_no_branding_dark.svg) [`json`](visualisation/fig7_gfk_local_no_branding_dark.json)   \n",
       "Versions (no ECO branding) with data loaded from `GitHub`: [`png`](visualisation/fig7_gfk_no_branding_dark.png) [`svg`](visualisation/fig7_gfk_no_branding_dark.svg) [`json`](visualisation/fig7_gfk_no_branding_dark.json)   \n",
       "\n",
       "![\"fig7_gfk\"](visualisation/fig7_gfk.svg \"fig7_gfk\")\n",
       "\n",
       "  \n",
       "\n",
       "![\"fig7_gfk_dark\"](visualisation/fig7_gfk_dark.svg \"fig7_gfk\")\n",
       "\n",
       "## Figure 8  \n",
       "\n",
       "Data: [`csv`](data/fig8_gifts.csv)  \n",
       "GitHub: [fig8_gifts](https://github.com/EconomicsObservatory/ECOvisualisations/tree/main/articles/how-is-consumer-spending-around-christmas-2023-likely-to-affect-retailers)  \n",
       "\n",
       "### Light theme  \n",
       "\n",
       "Versions with data locally embedded into the `Vega-lite` specification file: [`png`](visualisation/fig8_gifts_local.png) [`svg`](visualisation/fig8_gifts_local.svg) [`json`](visualisation/fig8_gifts_local.json)   \n",
       " (**Default**) Versions with data loaded from `GitHub`: [`png`](visualisation/fig8_gifts.png) [`svg`](visualisation/fig8_gifts.svg) [`json`](visualisation/fig8_gifts.json)  \n",
       "Versions (no ECO branding) with data locally embedded into the `Vega-lite` specification file: [`png`](visualisation/fig8_gifts_local_no_branding.png) [`svg`](visualisation/fig8_gifts_local_no_branding.svg) [`json`](visualisation/fig8_gifts_local_no_branding.json)   \n",
       "Versions (no ECO branding) with data loaded from `GitHub`: [`png`](visualisation/fig8_gifts_no_branding.png) [`svg`](visualisation/fig8_gifts_no_branding.svg) [`json`](visualisation/fig8_gifts_no_branding.json)   \n",
       "\n",
       "### Dark theme  \n",
       "\n",
       "Versions with data locally embedded into the `Vega-lite` specification file: [`png`](visualisation/fig8_gifts_local_dark.png) [`svg`](visualisation/fig8_gifts_local_dark.svg) [`json`](visualisation/fig8_gifts_local_dark.json)   \n",
       " Versions with data loaded from `GitHub`: [`png`](visualisation/fig8_gifts_dark.png) [`svg`](visualisation/fig8_gifts_dark.svg) [`json`](visualisation/fig8_gifts_dark.json)  \n",
       "Versions (no ECO branding) with data locally embedded into the `Vega-lite` specification file: [`png`](visualisation/fig8_gifts_local_no_branding_dark.png) [`svg`](visualisation/fig8_gifts_local_no_branding_dark.svg) [`json`](visualisation/fig8_gifts_local_no_branding_dark.json)   \n",
       "Versions (no ECO branding) with data loaded from `GitHub`: [`png`](visualisation/fig8_gifts_no_branding_dark.png) [`svg`](visualisation/fig8_gifts_no_branding_dark.svg) [`json`](visualisation/fig8_gifts_no_branding_dark.json)   \n",
       "\n",
       "![\"fig8_gifts\"](visualisation/fig8_gifts.svg \"fig8_gifts\")\n",
       "\n",
       "  \n",
       "\n",
       "![\"fig8_gifts_dark\"](visualisation/fig8_gifts_dark.svg \"fig8_gifts\")\n",
       "\n",
       "  \n",
       "\n",
       "## Infographics  \n",
       "Summary auto-generated using [ChatGPT](https://chat.openai.com/)    \n",
       "\n",
       "### Light theme  \n",
       "\n",
       "![\"fig8_gifts\"](visualisation/collage_light.png \" collage_light\")  \n",
       "\n",
       "### Dark theme  \n",
       "\n",
       "![\"fig8_gifts\"](visualisation/collage_dark.png \" collage_dark\")"
      ],
      "text/plain": [
       "<IPython.core.display.Markdown object>"
      ]
     },
     "metadata": {},
     "output_type": "display_data"
    }
   ],
   "source": [
    "from IPython.display import display, Markdown\n",
    "\n",
    "with open('README.md', 'r') as fh:\n",
    "    content = fh.read()\n",
    "\n",
    "display(Markdown(content))"
   ]
  },
  {
   "cell_type": "code",
   "execution_count": null,
   "metadata": {},
   "outputs": [],
   "source": []
  },
  {
   "cell_type": "code",
   "execution_count": null,
   "metadata": {},
   "outputs": [],
   "source": []
  }
 ],
 "metadata": {
  "kernelspec": {
   "display_name": "Python 3 (ipykernel)",
   "language": "python",
   "name": "python3"
  },
  "language_info": {
   "codemirror_mode": {
    "name": "ipython",
    "version": 3
   },
   "file_extension": ".py",
   "mimetype": "text/x-python",
   "name": "python",
   "nbconvert_exporter": "python",
   "pygments_lexer": "ipython3",
   "version": "3.10.8"
  }
 },
 "nbformat": 4,
 "nbformat_minor": 4
}
