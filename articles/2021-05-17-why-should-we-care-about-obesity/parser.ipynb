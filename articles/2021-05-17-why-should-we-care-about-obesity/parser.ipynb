{
 "cells": [
  {
   "cell_type": "code",
   "execution_count": 1,
   "metadata": {},
   "outputs": [],
   "source": [
    "import json\n",
    "import altair as alt\n",
    "from altair import expr, datum\n",
    "import matplotlib.pyplot as plt\n",
    "import numpy as np\n",
    "import pandas as pd\n",
    "import requests"
   ]
  },
  {
   "cell_type": "code",
   "execution_count": 2,
   "metadata": {},
   "outputs": [],
   "source": [
    "LOCAL = False\n",
    "\n",
    "if LOCAL:\n",
    "    local_suffix = \"_local\"\n",
    "else:\n",
    "    local_suffix = \"\""
   ]
  },
  {
   "cell_type": "code",
   "execution_count": 3,
   "metadata": {},
   "outputs": [],
   "source": [
    "%%capture pwd\n",
    "!pwd"
   ]
  },
  {
   "cell_type": "code",
   "execution_count": 4,
   "metadata": {},
   "outputs": [
    {
     "data": {
      "text/plain": [
       "(300, 500)"
      ]
     },
     "execution_count": 4,
     "metadata": {},
     "output_type": "execute_result"
    }
   ],
   "source": [
    "# uid = \"2021-05-05-which-firms-and-industries-have-been-most-affected-by-covid-update\"  # article unique ID\n",
    "uid = pwd.stdout.split(\"/\")[-1].split(\"\\r\")[0]\n",
    "eco_git_home = (\n",
    "    \"https://raw.githubusercontent.com/EconomicsObservatory/ECOvisualisations/main/\"\n",
    ")\n",
    "eco_git_path = eco_git_home + \"articles/\" + uid + \"/data/\"\n",
    "vega_embed = requests.get(eco_git_home + \"guidelines/html/vega-embed.html\").text\n",
    "colors = json.loads(\n",
    "    requests.get(eco_git_home + \"guidelines/colors/eco-colors.json\").content\n",
    ")\n",
    "category_color = json.loads(\n",
    "    requests.get(eco_git_home + \"guidelines/colors/eco-category-color.json\").content\n",
    ")\n",
    "hue_color = json.loads(\n",
    "    requests.get(eco_git_home + \"guidelines/colors/eco-single-hue-color.json\").content\n",
    ")\n",
    "mhue_color = json.loads(\n",
    "    requests.get(eco_git_home + \"guidelines/colors/eco-multi-hue-color.json\").content\n",
    ")\n",
    "div_color = json.loads(\n",
    "    requests.get(eco_git_home + \"guidelines/colors/eco-diverging-color.json\").content\n",
    ")\n",
    "config = json.loads(\n",
    "    requests.get(eco_git_home + \"guidelines/charts/eco-global-config.json\").content\n",
    ")\n",
    "height = config[\"height\"]\n",
    "width = config[\"width\"]\n",
    "height, width"
   ]
  },
  {
   "cell_type": "markdown",
   "metadata": {},
   "source": [
    "# Fig 1"
   ]
  },
  {
   "cell_type": "code",
   "execution_count": 15,
   "metadata": {},
   "outputs": [],
   "source": [
    "df = (\n",
    "    pd.read_excel(\n",
    "        \"raw/Figures.xlsx\",\n",
    "        skiprows=1,\n",
    "        nrows=3,\n",
    "    )\n",
    "    .dropna(how=\"all\", axis=1)\n",
    "    .dropna(how=\"all\", axis=0)\n",
    ")\n",
    "df = (\n",
    "    df.set_index(\"Unnamed: 0\")\n",
    "    .stack()\n",
    "    .reset_index()\n",
    "    .set_index([\"level_1\", \"Unnamed: 0\"])\n",
    "    .unstack()[0]\n",
    "    .reset_index()\n",
    ")\n",
    "df.columns = [\"year\", \"morbidly\", \"obese\"]"
   ]
  },
  {
   "cell_type": "code",
   "execution_count": 17,
   "metadata": {},
   "outputs": [
    {
     "data": {
      "text/html": [
       "<div>\n",
       "<style scoped>\n",
       "    .dataframe tbody tr th:only-of-type {\n",
       "        vertical-align: middle;\n",
       "    }\n",
       "\n",
       "    .dataframe tbody tr th {\n",
       "        vertical-align: top;\n",
       "    }\n",
       "\n",
       "    .dataframe thead th {\n",
       "        text-align: right;\n",
       "    }\n",
       "</style>\n",
       "<table border=\"1\" class=\"dataframe\">\n",
       "  <thead>\n",
       "    <tr style=\"text-align: right;\">\n",
       "      <th></th>\n",
       "      <th>year</th>\n",
       "      <th>morbidly</th>\n",
       "      <th>obese</th>\n",
       "    </tr>\n",
       "  </thead>\n",
       "  <tbody>\n",
       "    <tr>\n",
       "      <th>0</th>\n",
       "      <td>1993</td>\n",
       "      <td>0.824392</td>\n",
       "      <td>14.904475</td>\n",
       "    </tr>\n",
       "    <tr>\n",
       "      <th>1</th>\n",
       "      <td>1994</td>\n",
       "      <td>1.015056</td>\n",
       "      <td>15.668642</td>\n",
       "    </tr>\n",
       "    <tr>\n",
       "      <th>2</th>\n",
       "      <td>1995</td>\n",
       "      <td>0.865891</td>\n",
       "      <td>16.444999</td>\n",
       "    </tr>\n",
       "    <tr>\n",
       "      <th>3</th>\n",
       "      <td>1996</td>\n",
       "      <td>0.916274</td>\n",
       "      <td>17.488879</td>\n",
       "    </tr>\n",
       "    <tr>\n",
       "      <th>4</th>\n",
       "      <td>1997</td>\n",
       "      <td>1.599698</td>\n",
       "      <td>18.428014</td>\n",
       "    </tr>\n",
       "  </tbody>\n",
       "</table>\n",
       "</div>"
      ],
      "text/plain": [
       "   year  morbidly      obese\n",
       "0  1993  0.824392  14.904475\n",
       "1  1994  1.015056  15.668642\n",
       "2  1995  0.865891  16.444999\n",
       "3  1996  0.916274  17.488879\n",
       "4  1997  1.599698  18.428014"
      ]
     },
     "execution_count": 17,
     "metadata": {},
     "output_type": "execute_result"
    }
   ],
   "source": [
    "f = \"fig1_obesity\"\n",
    "f1 = eco_git_path + f + \".csv\"\n",
    "df.to_csv(\"data/\" + f + \".csv\")\n",
    "f += local_suffix\n",
    "open(\"visualisation/\" + f + \".html\", \"w\").write(\n",
    "    vega_embed.replace(\n",
    "        \"JSON_PATH\", f1.replace(\"/data/\", \"/visualisation/\").replace(\".csv\", \".json\")\n",
    "    )\n",
    ")\n",
    "if LOCAL:\n",
    "    f1 = df\n",
    "df.head()"
   ]
  },
  {
   "cell_type": "code",
   "execution_count": 23,
   "metadata": {},
   "outputs": [
    {
     "data": {
      "text/html": [
       "\n",
       "<div id=\"altair-viz-9daefa9d670f495d82abb0d0bbd7a777\"></div>\n",
       "<script type=\"text/javascript\">\n",
       "  (function(spec, embedOpt){\n",
       "    let outputDiv = document.currentScript.previousElementSibling;\n",
       "    if (outputDiv.id !== \"altair-viz-9daefa9d670f495d82abb0d0bbd7a777\") {\n",
       "      outputDiv = document.getElementById(\"altair-viz-9daefa9d670f495d82abb0d0bbd7a777\");\n",
       "    }\n",
       "    const paths = {\n",
       "      \"vega\": \"https://cdn.jsdelivr.net/npm//vega@5?noext\",\n",
       "      \"vega-lib\": \"https://cdn.jsdelivr.net/npm//vega-lib?noext\",\n",
       "      \"vega-lite\": \"https://cdn.jsdelivr.net/npm//vega-lite@4.8.1?noext\",\n",
       "      \"vega-embed\": \"https://cdn.jsdelivr.net/npm//vega-embed@6?noext\",\n",
       "    };\n",
       "\n",
       "    function loadScript(lib) {\n",
       "      return new Promise(function(resolve, reject) {\n",
       "        var s = document.createElement('script');\n",
       "        s.src = paths[lib];\n",
       "        s.async = true;\n",
       "        s.onload = () => resolve(paths[lib]);\n",
       "        s.onerror = () => reject(`Error loading script: ${paths[lib]}`);\n",
       "        document.getElementsByTagName(\"head\")[0].appendChild(s);\n",
       "      });\n",
       "    }\n",
       "\n",
       "    function showError(err) {\n",
       "      outputDiv.innerHTML = `<div class=\"error\" style=\"color:red;\">${err}</div>`;\n",
       "      throw err;\n",
       "    }\n",
       "\n",
       "    function displayChart(vegaEmbed) {\n",
       "      vegaEmbed(outputDiv, spec, embedOpt)\n",
       "        .catch(err => showError(`Javascript Error: ${err.message}<br>This usually means there's a typo in your chart specification. See the javascript console for the full traceback.`));\n",
       "    }\n",
       "\n",
       "    if(typeof define === \"function\" && define.amd) {\n",
       "      requirejs.config({paths});\n",
       "      require([\"vega-embed\"], displayChart, err => showError(`Error loading script: ${err.message}`));\n",
       "    } else if (typeof vegaEmbed === \"function\") {\n",
       "      displayChart(vegaEmbed);\n",
       "    } else {\n",
       "      loadScript(\"vega\")\n",
       "        .then(() => loadScript(\"vega-lite\"))\n",
       "        .then(() => loadScript(\"vega-embed\"))\n",
       "        .catch(showError)\n",
       "        .then(() => displayChart(vegaEmbed));\n",
       "    }\n",
       "  })({\"config\": {\"view\": {\"continuousWidth\": 400, \"continuousHeight\": 300}}, \"data\": {\"url\": \"https://raw.githubusercontent.com/EconomicsObservatory/ECOvisualisations/main/articles/2021-05-17-why-should-we-care-about-obesity/data/fig1_obesity.csv\"}, \"mark\": {\"type\": \"area\", \"color\": {\"gradient\": \"linear\", \"stops\": [{\"color\": \"white\", \"offset\": 0}, {\"color\": \"#E6224B\", \"offset\": 0.9}], \"x1\": 0.8, \"x2\": 1, \"y1\": 1, \"y2\": 0}, \"fillOpacity\": 0.7, \"interpolate\": \"monotone\", \"stroke\": \"#676A86\", \"strokeWidth\": 0.5}, \"encoding\": {\"x\": {\"type\": \"ordinal\", \"axis\": {\"domainColor\": \"#676A86\", \"grid\": false, \"labelColor\": \"#676A86\", \"tickColor\": \"#676A86\", \"title\": \"\", \"titleColor\": \"#676A86\"}, \"field\": \"year\"}, \"y\": {\"type\": \"quantitative\", \"axis\": {\"domainColor\": \"#676A86\", \"format\": \".0f\", \"grid\": true, \"labelAlign\": \"left\", \"labelBaseline\": \"middle\", \"labelColor\": \"#676A86\", \"labelOffset\": -10, \"labelPadding\": -5, \"tickColor\": \"#676A86\", \"tickCount\": 4, \"ticks\": false, \"title\": \"%\", \"titleAlign\": \"left\", \"titleAngle\": 0, \"titleColor\": \"#676A86\", \"titleFontSize\": 10, \"titleFontWeight\": \"normal\", \"titleX\": 0, \"titleY\": -5}, \"field\": \"obese\"}}, \"$schema\": \"https://vega.github.io/schema/vega-lite/v4.8.1.json\"}, {\"mode\": \"vega-lite\"});\n",
       "</script>"
      ],
      "text/plain": [
       "alt.Chart(...)"
      ]
     },
     "execution_count": 23,
     "metadata": {},
     "output_type": "execute_result"
    }
   ],
   "source": [
    "base = alt.Chart(f1).encode(\n",
    "    x=alt.X(\n",
    "        \"year:O\",\n",
    "        axis=alt.Axis(\n",
    "            grid=False,\n",
    "            title=\"\",\n",
    "            labelColor=colors[\"eco-gray\"],\n",
    "            titleColor=colors[\"eco-gray\"],\n",
    "            tickColor=colors[\"eco-gray\"],\n",
    "            domainColor=colors[\"eco-gray\"],\n",
    "        ),\n",
    "    )\n",
    ")\n",
    "area = base.mark_area(\n",
    "    interpolate=\"monotone\",\n",
    "    fillOpacity=0.7,\n",
    "    stroke=colors[\"eco-gray\"],\n",
    "    strokeWidth=0.5,\n",
    "    color=alt.Gradient(\n",
    "        gradient=\"linear\",\n",
    "        stops=[\n",
    "            alt.GradientStop(color=\"white\", offset=0),\n",
    "            alt.GradientStop(color=colors[\"eco-pink\"], offset=0.9),\n",
    "        ],\n",
    "        x1=0.8,\n",
    "        x2=1,\n",
    "        y1=1,\n",
    "        y2=0,\n",
    "    ),\n",
    ").encode(\n",
    "    y=alt.Y(\n",
    "        \"obese:Q\",\n",
    "        axis=alt.Axis(\n",
    "            grid=True,\n",
    "            title=\"%\",\n",
    "            labelColor=colors[\"eco-gray\"],\n",
    "            titleColor=colors[\"eco-gray\"],\n",
    "            tickColor=colors[\"eco-gray\"],\n",
    "            domainColor=colors[\"eco-gray\"],\n",
    "            labelAlign=\"left\",\n",
    "            ticks=False,\n",
    "            labelBaseline=\"middle\",\n",
    "            labelPadding=-5,\n",
    "            labelOffset=-10,\n",
    "            titleX=0,\n",
    "            titleY=-5,\n",
    "            titleAngle=0,\n",
    "            titleFontSize=10,\n",
    "            titleFontWeight=\"normal\",\n",
    "            titleAlign=\"left\",\n",
    "            tickCount=4,\n",
    "            format=\".0f\",\n",
    "        ),\n",
    "        # scale=alt.Scale(domain=series_domain[serie]),\n",
    "    )\n",
    ")\n",
    "area"
   ]
  },
  {
   "cell_type": "code",
   "execution_count": null,
   "metadata": {},
   "outputs": [],
   "source": []
  }
 ],
 "metadata": {
  "kernelspec": {
   "display_name": "Python 3",
   "language": "python",
   "name": "python3"
  },
  "language_info": {
   "codemirror_mode": {
    "name": "ipython",
    "version": 3
   },
   "file_extension": ".py",
   "mimetype": "text/x-python",
   "name": "python",
   "nbconvert_exporter": "python",
   "pygments_lexer": "ipython3",
   "version": "3.8.8"
  }
 },
 "nbformat": 4,
 "nbformat_minor": 4
}
