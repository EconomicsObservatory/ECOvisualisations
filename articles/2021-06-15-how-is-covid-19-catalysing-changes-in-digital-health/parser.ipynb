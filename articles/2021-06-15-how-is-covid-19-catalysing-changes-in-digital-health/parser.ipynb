{
 "cells": [
  {
   "cell_type": "code",
   "execution_count": 1,
   "metadata": {},
   "outputs": [],
   "source": [
    "import json\n",
    "import altair as alt\n",
    "from altair import expr, datum\n",
    "import matplotlib.pyplot as plt\n",
    "import numpy as np\n",
    "import pandas as pd\n",
    "import requests"
   ]
  },
  {
   "cell_type": "code",
   "execution_count": 2,
   "metadata": {},
   "outputs": [],
   "source": [
    "LOCAL = True\n",
    "\n",
    "if LOCAL:\n",
    "    local_suffix = \"_local\"\n",
    "else:\n",
    "    local_suffix = \"\""
   ]
  },
  {
   "cell_type": "code",
   "execution_count": 3,
   "metadata": {},
   "outputs": [],
   "source": [
    "%%capture pwd\n",
    "!pwd"
   ]
  },
  {
   "cell_type": "code",
   "execution_count": 4,
   "metadata": {},
   "outputs": [
    {
     "data": {
      "text/plain": [
       "('2021-06-15-how-is-covid-19-catalysing-changes-in-digital-health', 300, 500)"
      ]
     },
     "execution_count": 4,
     "metadata": {},
     "output_type": "execute_result"
    }
   ],
   "source": [
    "# uid = \"2021-05-05-which-firms-and-industries-have-been-most-affected-by-covid-update\"  # article unique ID\n",
    "uid = pwd.stdout.split(\"/\")[-1].split(\"\\r\")[0]\n",
    "eco_git_home = (\n",
    "    \"https://raw.githubusercontent.com/EconomicsObservatory/ECOvisualisations/main/\"\n",
    ")\n",
    "eco_git_path = eco_git_home + \"articles/\" + uid + \"/data/\"\n",
    "vega_embed = requests.get(eco_git_home + \"guidelines/html/vega-embed.html\").text\n",
    "colors = json.loads(\n",
    "    requests.get(eco_git_home + \"guidelines/colors/eco-colors.json\").content\n",
    ")\n",
    "category_color = json.loads(\n",
    "    requests.get(eco_git_home + \"guidelines/colors/eco-category-color.json\").content\n",
    ")\n",
    "hue_color = json.loads(\n",
    "    requests.get(eco_git_home + \"guidelines/colors/eco-single-hue-color.json\").content\n",
    ")\n",
    "mhue_color = json.loads(\n",
    "    requests.get(eco_git_home + \"guidelines/colors/eco-multi-hue-color.json\").content\n",
    ")\n",
    "div_color = json.loads(\n",
    "    requests.get(eco_git_home + \"guidelines/colors/eco-diverging-color.json\").content\n",
    ")\n",
    "config = json.loads(\n",
    "    requests.get(eco_git_home + \"guidelines/charts/eco-global-config.json\").content\n",
    ")\n",
    "height = config[\"height\"]\n",
    "width = config[\"width\"]\n",
    "uid, height, width"
   ]
  },
  {
   "cell_type": "markdown",
   "metadata": {},
   "source": [
    "# Fig 1"
   ]
  },
  {
   "cell_type": "code",
   "execution_count": 6,
   "metadata": {},
   "outputs": [],
   "source": [
    "df = pd.read_excel(\"raw/Digital Health.xlsx\").dropna(how=\"all\")"
   ]
  },
  {
   "cell_type": "code",
   "execution_count": 7,
   "metadata": {},
   "outputs": [
    {
     "data": {
      "text/html": [
       "<div>\n",
       "<style scoped>\n",
       "    .dataframe tbody tr th:only-of-type {\n",
       "        vertical-align: middle;\n",
       "    }\n",
       "\n",
       "    .dataframe tbody tr th {\n",
       "        vertical-align: top;\n",
       "    }\n",
       "\n",
       "    .dataframe thead th {\n",
       "        text-align: right;\n",
       "    }\n",
       "</style>\n",
       "<table border=\"1\" class=\"dataframe\">\n",
       "  <thead>\n",
       "    <tr style=\"text-align: right;\">\n",
       "      <th></th>\n",
       "      <th>Year</th>\n",
       "      <th>Number of deals</th>\n",
       "      <th>Amount raised (£ million)</th>\n",
       "    </tr>\n",
       "  </thead>\n",
       "  <tbody>\n",
       "    <tr>\n",
       "      <th>0</th>\n",
       "      <td>2011</td>\n",
       "      <td>7</td>\n",
       "      <td>12.20</td>\n",
       "    </tr>\n",
       "    <tr>\n",
       "      <th>1</th>\n",
       "      <td>2012</td>\n",
       "      <td>11</td>\n",
       "      <td>4.69</td>\n",
       "    </tr>\n",
       "    <tr>\n",
       "      <th>2</th>\n",
       "      <td>2013</td>\n",
       "      <td>13</td>\n",
       "      <td>8.88</td>\n",
       "    </tr>\n",
       "    <tr>\n",
       "      <th>3</th>\n",
       "      <td>2014</td>\n",
       "      <td>30</td>\n",
       "      <td>23.70</td>\n",
       "    </tr>\n",
       "    <tr>\n",
       "      <th>4</th>\n",
       "      <td>2015</td>\n",
       "      <td>29</td>\n",
       "      <td>26.90</td>\n",
       "    </tr>\n",
       "  </tbody>\n",
       "</table>\n",
       "</div>"
      ],
      "text/plain": [
       "   Year  Number of deals  Amount raised (£ million)\n",
       "0  2011                7                      12.20\n",
       "1  2012               11                       4.69\n",
       "2  2013               13                       8.88\n",
       "3  2014               30                      23.70\n",
       "4  2015               29                      26.90"
      ]
     },
     "execution_count": 7,
     "metadata": {},
     "output_type": "execute_result"
    }
   ],
   "source": [
    "f = \"fig1_ehealth\"\n",
    "f1 = eco_git_path + f + \".csv\"\n",
    "df.to_csv(\"data/\" + f + \".csv\")\n",
    "f += local_suffix\n",
    "open(\"visualisation/\" + f + \".html\", \"w\").write(\n",
    "    vega_embed.replace(\n",
    "        \"JSON_PATH\", f1.replace(\"/data/\", \"/visualisation/\").replace(\".csv\", \".json\")\n",
    "    )\n",
    ")\n",
    "if LOCAL:\n",
    "    f1 = df\n",
    "df.head()"
   ]
  },
  {
   "cell_type": "code",
   "execution_count": 92,
   "metadata": {},
   "outputs": [
    {
     "data": {
      "text/html": [
       "\n",
       "<div id=\"altair-viz-9945239e1a034286a1b08c5112efb7c7\"></div>\n",
       "<script type=\"text/javascript\">\n",
       "  (function(spec, embedOpt){\n",
       "    let outputDiv = document.currentScript.previousElementSibling;\n",
       "    if (outputDiv.id !== \"altair-viz-9945239e1a034286a1b08c5112efb7c7\") {\n",
       "      outputDiv = document.getElementById(\"altair-viz-9945239e1a034286a1b08c5112efb7c7\");\n",
       "    }\n",
       "    const paths = {\n",
       "      \"vega\": \"https://cdn.jsdelivr.net/npm//vega@5?noext\",\n",
       "      \"vega-lib\": \"https://cdn.jsdelivr.net/npm//vega-lib?noext\",\n",
       "      \"vega-lite\": \"https://cdn.jsdelivr.net/npm//vega-lite@4.8.1?noext\",\n",
       "      \"vega-embed\": \"https://cdn.jsdelivr.net/npm//vega-embed@6?noext\",\n",
       "    };\n",
       "\n",
       "    function loadScript(lib) {\n",
       "      return new Promise(function(resolve, reject) {\n",
       "        var s = document.createElement('script');\n",
       "        s.src = paths[lib];\n",
       "        s.async = true;\n",
       "        s.onload = () => resolve(paths[lib]);\n",
       "        s.onerror = () => reject(`Error loading script: ${paths[lib]}`);\n",
       "        document.getElementsByTagName(\"head\")[0].appendChild(s);\n",
       "      });\n",
       "    }\n",
       "\n",
       "    function showError(err) {\n",
       "      outputDiv.innerHTML = `<div class=\"error\" style=\"color:red;\">${err}</div>`;\n",
       "      throw err;\n",
       "    }\n",
       "\n",
       "    function displayChart(vegaEmbed) {\n",
       "      vegaEmbed(outputDiv, spec, embedOpt)\n",
       "        .catch(err => showError(`Javascript Error: ${err.message}<br>This usually means there's a typo in your chart specification. See the javascript console for the full traceback.`));\n",
       "    }\n",
       "\n",
       "    if(typeof define === \"function\" && define.amd) {\n",
       "      requirejs.config({paths});\n",
       "      require([\"vega-embed\"], displayChart, err => showError(`Error loading script: ${err.message}`));\n",
       "    } else if (typeof vegaEmbed === \"function\") {\n",
       "      displayChart(vegaEmbed);\n",
       "    } else {\n",
       "      loadScript(\"vega\")\n",
       "        .then(() => loadScript(\"vega-lite\"))\n",
       "        .then(() => loadScript(\"vega-embed\"))\n",
       "        .catch(showError)\n",
       "        .then(() => displayChart(vegaEmbed));\n",
       "    }\n",
       "  })({\"config\": {\"view\": {\"continuousWidth\": 400, \"continuousHeight\": 300, \"stroke\": null}}, \"layer\": [{\"mark\": {\"type\": \"bar\", \"color\": \"#36B7B4\", \"opacity\": 0.8, \"width\": 35}, \"encoding\": {\"x\": {\"type\": \"ordinal\", \"axis\": {\"domainColor\": \"#676A86\", \"grid\": false, \"labelAngle\": 0, \"labelColor\": \"#676A86\", \"tickColor\": \"#676A86\", \"title\": \"\", \"titleColor\": \"#676A86\"}, \"field\": \"Year\"}, \"y\": {\"type\": \"quantitative\", \"axis\": null, \"field\": \"Amount raised (\\u00a3 million)\"}}}, {\"mark\": {\"type\": \"line\", \"color\": \"#122B39\"}, \"encoding\": {\"x\": {\"type\": \"ordinal\", \"axis\": {\"domainColor\": \"#676A86\", \"grid\": false, \"labelAngle\": 0, \"labelColor\": \"#676A86\", \"tickColor\": \"#676A86\", \"title\": \"\", \"titleColor\": \"#676A86\"}, \"field\": \"Year\"}, \"y\": {\"type\": \"quantitative\", \"axis\": null, \"field\": \"Number of deals\"}}}, {\"mark\": {\"type\": \"point\", \"color\": \"#122B39\", \"fill\": \"#122B39\", \"opacity\": 1}, \"encoding\": {\"x\": {\"type\": \"ordinal\", \"axis\": {\"domainColor\": \"#676A86\", \"grid\": false, \"labelAngle\": 0, \"labelColor\": \"#676A86\", \"tickColor\": \"#676A86\", \"title\": \"\", \"titleColor\": \"#676A86\"}, \"field\": \"Year\"}, \"y\": {\"type\": \"quantitative\", \"axis\": null, \"field\": \"Number of deals\"}}}, {\"mark\": {\"type\": \"text\", \"color\": \"#36B7B4\", \"dy\": -10}, \"encoding\": {\"text\": {\"type\": \"nominal\", \"field\": \"l\"}, \"x\": {\"type\": \"ordinal\", \"axis\": {\"domainColor\": \"#676A86\", \"grid\": false, \"labelAngle\": 0, \"labelColor\": \"#676A86\", \"tickColor\": \"#676A86\", \"title\": \"\", \"titleColor\": \"#676A86\"}, \"field\": \"Year\"}, \"y\": {\"type\": \"quantitative\", \"axis\": null, \"field\": \"Amount raised (\\u00a3 million)\"}}, \"transform\": [{\"calculate\": \"'\\u00a3'+datum['Amount raised (\\u00a3 million)']+'M'\", \"as\": \"l\"}]}, {\"mark\": {\"type\": \"text\", \"color\": \"#122B39\", \"dx\": -4, \"dy\": -13}, \"encoding\": {\"text\": {\"type\": \"nominal\", \"field\": \"Number of deals\"}, \"x\": {\"type\": \"ordinal\", \"axis\": {\"domainColor\": \"#676A86\", \"grid\": false, \"labelAngle\": 0, \"labelColor\": \"#676A86\", \"tickColor\": \"#676A86\", \"title\": \"\", \"titleColor\": \"#676A86\"}, \"field\": \"Year\"}, \"y\": {\"type\": \"quantitative\", \"axis\": null, \"field\": \"Number of deals\"}}}, {\"data\": {\"name\": \"data-66de9183c9c7dde36b9cc342becc3a2a\"}, \"mark\": {\"type\": \"text\", \"dx\": 10, \"dy\": -10}, \"encoding\": {\"color\": {\"type\": \"nominal\", \"field\": \"c\", \"legend\": null, \"scale\": null}, \"text\": {\"type\": \"nominal\", \"field\": \"l\"}, \"x\": {\"type\": \"ordinal\", \"field\": \"x\"}, \"y\": {\"type\": \"quantitative\", \"axis\": null, \"field\": \"y\", \"scale\": {\"domain\": [0, 1.4]}}}}], \"data\": {\"name\": \"data-984b21bb6133ea119f3b293fe38b654a\"}, \"height\": 300, \"resolve\": {\"scale\": {\"y\": \"independent\"}}, \"title\": \"\", \"width\": 500, \"$schema\": \"https://vega.github.io/schema/vega-lite/v4.8.1.json\", \"datasets\": {\"data-984b21bb6133ea119f3b293fe38b654a\": [{\"Year\": 2011, \"Number of deals\": 7, \"Amount raised (\\u00a3 million)\": 12.2}, {\"Year\": 2012, \"Number of deals\": 11, \"Amount raised (\\u00a3 million)\": 4.69}, {\"Year\": 2013, \"Number of deals\": 13, \"Amount raised (\\u00a3 million)\": 8.88}, {\"Year\": 2014, \"Number of deals\": 30, \"Amount raised (\\u00a3 million)\": 23.7}, {\"Year\": 2015, \"Number of deals\": 29, \"Amount raised (\\u00a3 million)\": 26.9}, {\"Year\": 2016, \"Number of deals\": 39, \"Amount raised (\\u00a3 million)\": 52.5}, {\"Year\": 2017, \"Number of deals\": 56, \"Amount raised (\\u00a3 million)\": 163.0}, {\"Year\": 2018, \"Number of deals\": 46, \"Amount raised (\\u00a3 million)\": 110.0}, {\"Year\": 2019, \"Number of deals\": 41, \"Amount raised (\\u00a3 million)\": 562.0}, {\"Year\": 2020, \"Number of deals\": 61, \"Amount raised (\\u00a3 million)\": 250.0}], \"data-66de9183c9c7dde36b9cc342becc3a2a\": [{\"x\": 2015, \"y\": 1.0, \"l\": \"Number of deals\", \"c\": \"#122B39\"}, {\"x\": 2017, \"y\": 0.55, \"l\": \"Amount raised (\\u00a3 million)\", \"c\": \"#36B7B4\"}]}}, {\"mode\": \"vega-lite\"});\n",
       "</script>"
      ],
      "text/plain": [
       "alt.LayerChart(...)"
      ]
     },
     "execution_count": 92,
     "metadata": {},
     "output_type": "execute_result"
    }
   ],
   "source": [
    "base = alt.Chart(f1).encode(\n",
    "    x=alt.X(\n",
    "        \"Year:O\",\n",
    "        axis=alt.Axis(\n",
    "            grid=False,\n",
    "            title=\"\",\n",
    "            labelColor=colors[\"eco-gray\"],\n",
    "            titleColor=colors[\"eco-gray\"],\n",
    "            tickColor=colors[\"eco-gray\"],\n",
    "            domainColor=colors[\"eco-gray\"],\n",
    "            labelAngle=0,\n",
    "        ),\n",
    "    )\n",
    ")\n",
    "line = base.mark_line(color=colors[\"eco-background\"]).encode(\n",
    "    y=alt.Y(\"Number of deals:Q\", axis=None)\n",
    ")\n",
    "bar = base.mark_bar(color=colors[\"eco-turquiose\"], opacity=0.8, width=35).encode(\n",
    "    y=alt.Y(\"Amount raised (£ million):Q\", axis=None)\n",
    ")\n",
    "btext = (\n",
    "    bar.mark_text(color=colors[\"eco-turquiose\"], dy=-10)\n",
    "    .encode(text=\"l:N\")\n",
    "    .transform_calculate(l=\"'£'+datum['Amount raised (£ million)']+'M'\")\n",
    ")\n",
    "ptext = line.mark_text(color=colors[\"eco-background\"], dy=-13, dx=-4).encode(\n",
    "    text=\"Number of deals:N\"\n",
    ")\n",
    "point = base.mark_point(\n",
    "    color=colors[\"eco-background\"], fill=colors[\"eco-background\"], opacity=1\n",
    ").encode(y=alt.Y(\"Number of deals:Q\", axis=None))\n",
    "labels = (\n",
    "    alt.Chart(\n",
    "        pd.DataFrame(\n",
    "            [\n",
    "                {\n",
    "                    \"x\": 2015,\n",
    "                    \"y\": 1,\n",
    "                    \"l\": \"Number of deals\",\n",
    "                    \"c\": colors[\"eco-background\"],\n",
    "                },\n",
    "                {\n",
    "                    \"x\": 2017,\n",
    "                    \"y\": 0.55,\n",
    "                    \"l\": \"Amount raised (£ million)\",\n",
    "                    \"c\": colors[\"eco-turquiose\"],\n",
    "                },\n",
    "            ]\n",
    "        )\n",
    "    )\n",
    "    .mark_text(dx=10, dy=-10)\n",
    "    .encode(\n",
    "        x=\"x:O\",\n",
    "        y=alt.Y(\"y:Q\", axis=None, scale=alt.Scale(domain=[0, 1.4])),\n",
    "        text=\"l:N\",\n",
    "        color=alt.Color(\"c:N\", scale=None, legend=None),\n",
    "    )\n",
    ")\n",
    "layer = (\n",
    "    (bar + line + point + btext + ptext + labels)\n",
    "    .resolve_scale(y=\"independent\")\n",
    "    .configure_view(stroke=None)\n",
    "    .properties(title=\"\")\n",
    "    .properties(height=300, width=500)\n",
    ")\n",
    "layer.save(\"visualisation/\" + f + \".json\")\n",
    "layer"
   ]
  },
  {
   "cell_type": "code",
   "execution_count": null,
   "metadata": {},
   "outputs": [],
   "source": []
  }
 ],
 "metadata": {
  "kernelspec": {
   "display_name": "Python 3",
   "language": "python",
   "name": "python3"
  },
  "language_info": {
   "codemirror_mode": {
    "name": "ipython",
    "version": 3
   },
   "file_extension": ".py",
   "mimetype": "text/x-python",
   "name": "python",
   "nbconvert_exporter": "python",
   "pygments_lexer": "ipython3",
   "version": "3.8.8"
  }
 },
 "nbformat": 4,
 "nbformat_minor": 4
}
