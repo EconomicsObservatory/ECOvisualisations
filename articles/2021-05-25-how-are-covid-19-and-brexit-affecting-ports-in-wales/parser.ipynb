{
 "cells": [
  {
   "cell_type": "code",
   "execution_count": 1,
   "metadata": {},
   "outputs": [],
   "source": [
    "import json\n",
    "import altair as alt\n",
    "from altair import expr, datum\n",
    "import matplotlib.pyplot as plt\n",
    "import numpy as np\n",
    "import pandas as pd\n",
    "import requests"
   ]
  },
  {
   "cell_type": "code",
   "execution_count": 108,
   "metadata": {},
   "outputs": [],
   "source": [
    "LOCAL = False\n",
    "\n",
    "if LOCAL:\n",
    "    local_suffix = \"_local\"\n",
    "else:\n",
    "    local_suffix = \"\""
   ]
  },
  {
   "cell_type": "code",
   "execution_count": 109,
   "metadata": {},
   "outputs": [],
   "source": [
    "%%capture pwd\n",
    "!pwd"
   ]
  },
  {
   "cell_type": "code",
   "execution_count": 110,
   "metadata": {},
   "outputs": [
    {
     "data": {
      "text/plain": [
       "(300, 500)"
      ]
     },
     "execution_count": 110,
     "metadata": {},
     "output_type": "execute_result"
    }
   ],
   "source": [
    "# uid = \"2021-05-05-which-firms-and-industries-have-been-most-affected-by-covid-update\"  # article unique ID\n",
    "uid = pwd.stdout.split(\"/\")[-1].split(\"\\r\")[0]\n",
    "eco_git_home = (\n",
    "    \"https://raw.githubusercontent.com/EconomicsObservatory/ECOvisualisations/main/\"\n",
    ")\n",
    "eco_git_path = eco_git_home + \"articles/\" + uid + \"/data/\"\n",
    "vega_embed = requests.get(eco_git_home + \"guidelines/html/vega-embed.html\").text\n",
    "colors = json.loads(\n",
    "    requests.get(eco_git_home + \"guidelines/colors/eco-colors.json\").content\n",
    ")\n",
    "category_color = json.loads(\n",
    "    requests.get(eco_git_home + \"guidelines/colors/eco-category-color.json\").content\n",
    ")\n",
    "hue_color = json.loads(\n",
    "    requests.get(eco_git_home + \"guidelines/colors/eco-single-hue-color.json\").content\n",
    ")\n",
    "mhue_color = json.loads(\n",
    "    requests.get(eco_git_home + \"guidelines/colors/eco-multi-hue-color.json\").content\n",
    ")\n",
    "div_color = json.loads(\n",
    "    requests.get(eco_git_home + \"guidelines/colors/eco-diverging-color.json\").content\n",
    ")\n",
    "config = json.loads(\n",
    "    requests.get(eco_git_home + \"guidelines/charts/eco-global-config.json\").content\n",
    ")\n",
    "height = config[\"height\"]\n",
    "width = config[\"width\"]\n",
    "height, width"
   ]
  },
  {
   "cell_type": "markdown",
   "metadata": {},
   "source": [
    "# Fig 1"
   ]
  },
  {
   "cell_type": "code",
   "execution_count": 124,
   "metadata": {},
   "outputs": [],
   "source": [
    "df = pd.read_csv(\"raw/ports_C3b.csv\").dropna(axis=1)\n",
    "df[\"Date\"] = pd.to_datetime(\"01-\" + df[\"Date\"].astype(str), dayfirst=True)"
   ]
  },
  {
   "cell_type": "code",
   "execution_count": 125,
   "metadata": {},
   "outputs": [
    {
     "data": {
      "text/html": [
       "<div>\n",
       "<style scoped>\n",
       "    .dataframe tbody tr th:only-of-type {\n",
       "        vertical-align: middle;\n",
       "    }\n",
       "\n",
       "    .dataframe tbody tr th {\n",
       "        vertical-align: top;\n",
       "    }\n",
       "\n",
       "    .dataframe thead th {\n",
       "        text-align: right;\n",
       "    }\n",
       "</style>\n",
       "<table border=\"1\" class=\"dataframe\">\n",
       "  <thead>\n",
       "    <tr style=\"text-align: right;\">\n",
       "      <th></th>\n",
       "      <th>Route</th>\n",
       "      <th>Date</th>\n",
       "      <th>Value</th>\n",
       "    </tr>\n",
       "  </thead>\n",
       "  <tbody>\n",
       "    <tr>\n",
       "      <th>0</th>\n",
       "      <td>Holyhead - Dublin</td>\n",
       "      <td>2020-09-01</td>\n",
       "      <td>5.8</td>\n",
       "    </tr>\n",
       "    <tr>\n",
       "      <th>1</th>\n",
       "      <td>Fishguard - Rosslare</td>\n",
       "      <td>2020-09-01</td>\n",
       "      <td>-4.0</td>\n",
       "    </tr>\n",
       "    <tr>\n",
       "      <th>2</th>\n",
       "      <td>Holyhead - Dublin</td>\n",
       "      <td>2020-10-01</td>\n",
       "      <td>3.1</td>\n",
       "    </tr>\n",
       "    <tr>\n",
       "      <th>3</th>\n",
       "      <td>Fishguard - Rosslare</td>\n",
       "      <td>2020-10-01</td>\n",
       "      <td>-2.8</td>\n",
       "    </tr>\n",
       "    <tr>\n",
       "      <th>4</th>\n",
       "      <td>Holyhead - Dublin</td>\n",
       "      <td>2020-11-01</td>\n",
       "      <td>12.1</td>\n",
       "    </tr>\n",
       "  </tbody>\n",
       "</table>\n",
       "</div>"
      ],
      "text/plain": [
       "                  Route       Date  Value\n",
       "0     Holyhead - Dublin 2020-09-01    5.8\n",
       "1  Fishguard - Rosslare 2020-09-01   -4.0\n",
       "2     Holyhead - Dublin 2020-10-01    3.1\n",
       "3  Fishguard - Rosslare 2020-10-01   -2.8\n",
       "4     Holyhead - Dublin 2020-11-01   12.1"
      ]
     },
     "execution_count": 125,
     "metadata": {},
     "output_type": "execute_result"
    }
   ],
   "source": [
    "f = \"fig1_routes\"\n",
    "f1 = eco_git_path + f + \".csv\"\n",
    "df.to_csv(\"data/\" + f + \".csv\")\n",
    "f += local_suffix\n",
    "open(\"visualisation/\" + f + \".html\", \"w\").write(\n",
    "    vega_embed.replace(\n",
    "        \"JSON_PATH\", f1.replace(\"/data/\", \"/visualisation/\").replace(\".csv\", \".json\")\n",
    "    )\n",
    ")\n",
    "if LOCAL:\n",
    "    f1 = df\n",
    "df.head()"
   ]
  },
  {
   "cell_type": "code",
   "execution_count": 126,
   "metadata": {},
   "outputs": [
    {
     "data": {
      "text/plain": [
       "'https://raw.githubusercontent.com/EconomicsObservatory/ECOvisualisations/main/articles/2021-05-25-how-are-covid-19-and-brexit-affecting-ports-in-wales/data/fig1_routes.csv'"
      ]
     },
     "execution_count": 126,
     "metadata": {},
     "output_type": "execute_result"
    }
   ],
   "source": [
    "f1"
   ]
  },
  {
   "cell_type": "code",
   "execution_count": 138,
   "metadata": {},
   "outputs": [
    {
     "data": {
      "text/html": [
       "\n",
       "<div id=\"altair-viz-99cd4a4fb9bd439e94bea6babc1536f1\"></div>\n",
       "<script type=\"text/javascript\">\n",
       "  (function(spec, embedOpt){\n",
       "    let outputDiv = document.currentScript.previousElementSibling;\n",
       "    if (outputDiv.id !== \"altair-viz-99cd4a4fb9bd439e94bea6babc1536f1\") {\n",
       "      outputDiv = document.getElementById(\"altair-viz-99cd4a4fb9bd439e94bea6babc1536f1\");\n",
       "    }\n",
       "    const paths = {\n",
       "      \"vega\": \"https://cdn.jsdelivr.net/npm//vega@5?noext\",\n",
       "      \"vega-lib\": \"https://cdn.jsdelivr.net/npm//vega-lib?noext\",\n",
       "      \"vega-lite\": \"https://cdn.jsdelivr.net/npm//vega-lite@4.8.1?noext\",\n",
       "      \"vega-embed\": \"https://cdn.jsdelivr.net/npm//vega-embed@6?noext\",\n",
       "    };\n",
       "\n",
       "    function loadScript(lib) {\n",
       "      return new Promise(function(resolve, reject) {\n",
       "        var s = document.createElement('script');\n",
       "        s.src = paths[lib];\n",
       "        s.async = true;\n",
       "        s.onload = () => resolve(paths[lib]);\n",
       "        s.onerror = () => reject(`Error loading script: ${paths[lib]}`);\n",
       "        document.getElementsByTagName(\"head\")[0].appendChild(s);\n",
       "      });\n",
       "    }\n",
       "\n",
       "    function showError(err) {\n",
       "      outputDiv.innerHTML = `<div class=\"error\" style=\"color:red;\">${err}</div>`;\n",
       "      throw err;\n",
       "    }\n",
       "\n",
       "    function displayChart(vegaEmbed) {\n",
       "      vegaEmbed(outputDiv, spec, embedOpt)\n",
       "        .catch(err => showError(`Javascript Error: ${err.message}<br>This usually means there's a typo in your chart specification. See the javascript console for the full traceback.`));\n",
       "    }\n",
       "\n",
       "    if(typeof define === \"function\" && define.amd) {\n",
       "      requirejs.config({paths});\n",
       "      require([\"vega-embed\"], displayChart, err => showError(`Error loading script: ${err.message}`));\n",
       "    } else if (typeof vegaEmbed === \"function\") {\n",
       "      displayChart(vegaEmbed);\n",
       "    } else {\n",
       "      loadScript(\"vega\")\n",
       "        .then(() => loadScript(\"vega-lite\"))\n",
       "        .then(() => loadScript(\"vega-embed\"))\n",
       "        .catch(showError)\n",
       "        .then(() => displayChart(vegaEmbed));\n",
       "    }\n",
       "  })({\"config\": {\"view\": {\"continuousWidth\": 400, \"continuousHeight\": 300, \"stroke\": null}}, \"layer\": [{\"mark\": {\"type\": \"bar\", \"color\": \"#36B7B4\", \"opacity\": 0.8, \"size\": 15, \"xOffset\": -8}, \"encoding\": {\"x\": {\"type\": \"temporal\", \"axis\": {\"domainColor\": \"#676A86\", \"labelAngle\": 0, \"labelColor\": \"#676A86\", \"orient\": \"top\", \"tickColor\": \"#676A86\", \"titleColor\": \"#676A86\"}, \"field\": \"Date\", \"title\": \"\"}, \"y\": {\"type\": \"quantitative\", \"axis\": {\"domainColor\": \"#676A86\", \"format\": \".0f\", \"grid\": true, \"labelAlign\": \"left\", \"labelBaseline\": \"middle\", \"labelColor\": \"#676A86\", \"labelOffset\": -10, \"labelPadding\": -5, \"tickColor\": \"#676A86\", \"tickCount\": 5, \"ticks\": false, \"title\": \"%\", \"titleAlign\": \"left\", \"titleAnchor\": \"start\", \"titleAngle\": 0, \"titleBaseline\": \"bottom\", \"titleColor\": \"#676A86\", \"titleFontSize\": 10, \"titleFontWeight\": \"normal\", \"titleX\": 25, \"titleY\": 273}, \"field\": \"Value\", \"scale\": {\"domain\": [-90, 45]}, \"stack\": false, \"title\": \"\"}}, \"transform\": [{\"calculate\": \"datum.Value+5*(datum.Value<0?-1:1)\", \"as\": \"x1\"}, {\"filter\": \"datum.Route=='Holyhead - Dublin'\"}]}, {\"mark\": {\"type\": \"bar\", \"color\": \"#243B5A\", \"opacity\": 0.8, \"size\": 15, \"xOffset\": 8}, \"encoding\": {\"x\": {\"type\": \"temporal\", \"axis\": {\"domainColor\": \"#676A86\", \"labelAngle\": 0, \"labelColor\": \"#676A86\", \"orient\": \"top\", \"tickColor\": \"#676A86\", \"titleColor\": \"#676A86\"}, \"field\": \"Date\", \"title\": \"\"}, \"y\": {\"type\": \"quantitative\", \"axis\": {\"domainColor\": \"#676A86\", \"format\": \".0f\", \"grid\": true, \"labelAlign\": \"left\", \"labelBaseline\": \"middle\", \"labelColor\": \"#676A86\", \"labelOffset\": -10, \"labelPadding\": -5, \"tickColor\": \"#676A86\", \"tickCount\": 5, \"ticks\": false, \"title\": \"%\", \"titleAlign\": \"left\", \"titleAnchor\": \"start\", \"titleAngle\": 0, \"titleBaseline\": \"bottom\", \"titleColor\": \"#676A86\", \"titleFontSize\": 10, \"titleFontWeight\": \"normal\", \"titleX\": 25, \"titleY\": 273}, \"field\": \"Value\", \"scale\": {\"domain\": [-90, 45]}, \"stack\": false, \"title\": \"\"}}, \"transform\": [{\"calculate\": \"datum.Value+5*(datum.Value<0?-1:1)\", \"as\": \"x1\"}, {\"filter\": \"datum.Route=='Fishguard - Rosslare'\"}]}, {\"mark\": {\"type\": \"text\", \"color\": \"#36B7B4\", \"xOffset\": -8}, \"encoding\": {\"text\": {\"type\": \"quantitative\", \"field\": \"Value\"}, \"x\": {\"type\": \"temporal\", \"axis\": {\"domainColor\": \"#676A86\", \"labelAngle\": 0, \"labelColor\": \"#676A86\", \"orient\": \"top\", \"tickColor\": \"#676A86\", \"titleColor\": \"#676A86\"}, \"field\": \"Date\", \"title\": \"\"}, \"y\": {\"type\": \"quantitative\", \"field\": \"x1\", \"scale\": {\"domain\": [-90, 45]}}}, \"transform\": [{\"calculate\": \"datum.Value+5*(datum.Value<0?-1:1)\", \"as\": \"x1\"}, {\"filter\": \"datum.Route=='Holyhead - Dublin'\"}]}, {\"mark\": {\"type\": \"text\", \"color\": \"#243B5A\", \"xOffset\": 8}, \"encoding\": {\"text\": {\"type\": \"quantitative\", \"field\": \"Value\"}, \"x\": {\"type\": \"temporal\", \"axis\": {\"domainColor\": \"#676A86\", \"labelAngle\": 0, \"labelColor\": \"#676A86\", \"orient\": \"top\", \"tickColor\": \"#676A86\", \"titleColor\": \"#676A86\"}, \"field\": \"Date\", \"title\": \"\"}, \"y\": {\"type\": \"quantitative\", \"field\": \"x1\", \"scale\": {\"domain\": [-90, 45]}}}, \"transform\": [{\"calculate\": \"datum.Value+5*(datum.Value<0?-1:1)\", \"as\": \"x1\"}, {\"filter\": \"datum.Route=='Fishguard - Rosslare'\"}]}, {\"data\": {\"name\": \"data-3e9483786d7819ca268b4f0981a150ff\"}, \"mark\": {\"type\": \"text\", \"align\": \"right\", \"baseline\": \"middle\", \"size\": 10, \"xOffset\": -5}, \"encoding\": {\"color\": {\"type\": \"nominal\", \"field\": \"c\", \"scale\": null}, \"text\": {\"type\": \"nominal\", \"field\": \"t\"}, \"x\": {\"type\": \"temporal\", \"field\": \"x\"}, \"y\": {\"type\": \"quantitative\", \"field\": \"y\", \"scale\": {\"domain\": [-90, 45]}}}}, {\"data\": {\"name\": \"data-022321cc75c22951ca75b346a4ad8f91\"}, \"mark\": {\"type\": \"line\", \"color\": \"#676A86\", \"opacity\": 0.8}, \"encoding\": {\"x\": {\"type\": \"temporal\", \"field\": \"x\"}, \"y\": {\"type\": \"quantitative\", \"field\": \"y\", \"scale\": {\"domain\": [-90, 45]}}}}], \"data\": {\"url\": \"https://raw.githubusercontent.com/EconomicsObservatory/ECOvisualisations/main/articles/2021-05-25-how-are-covid-19-and-brexit-affecting-ports-in-wales/data/fig1_routes.csv\"}, \"height\": 300, \"title\": \"\", \"width\": 400, \"$schema\": \"https://vega.github.io/schema/vega-lite/v4.8.1.json\", \"datasets\": {\"data-3e9483786d7819ca268b4f0981a150ff\": [{\"x\": \"2020-12-21\", \"y\": -53, \"t\": \"Holyhead - Dublin\", \"c\": \"#36B7B4\"}, {\"x\": \"2020-12-25\", \"y\": -72, \"t\": \"Fishguard - Rosslare\", \"c\": \"#243B5A\"}], \"data-022321cc75c22951ca75b346a4ad8f91\": [{\"x\": \"2020-08-10\", \"y\": 0}, {\"x\": \"2021-02-10\", \"y\": 0}]}}, {\"mode\": \"vega-lite\"});\n",
       "</script>"
      ],
      "text/plain": [
       "alt.LayerChart(...)"
      ]
     },
     "execution_count": 138,
     "metadata": {},
     "output_type": "execute_result"
    }
   ],
   "source": [
    "bars = (\n",
    "    alt.Chart(f1)\n",
    "    .encode(\n",
    "        y=alt.Y(\n",
    "            \"Value:Q\",\n",
    "            stack=False,\n",
    "            title=\"\",\n",
    "            axis=alt.Axis(\n",
    "                grid=True,\n",
    "                title=\"%\",\n",
    "                titleAnchor=\"start\",\n",
    "                labelColor=colors[\"eco-gray\"],\n",
    "                titleColor=colors[\"eco-gray\"],\n",
    "                tickColor=colors[\"eco-gray\"],\n",
    "                domainColor=colors[\"eco-gray\"],\n",
    "                titleFontSize=10,\n",
    "                titleFontWeight=\"normal\",\n",
    "                ticks=False,\n",
    "                labelAlign=\"left\",\n",
    "                labelBaseline=\"middle\",\n",
    "                labelPadding=-5,\n",
    "                labelOffset=-10,\n",
    "                titleX=25,\n",
    "                titleY=273,\n",
    "                titleBaseline=\"bottom\",\n",
    "                titleAngle=0,\n",
    "                titleAlign=\"left\",\n",
    "                tickCount=5,\n",
    "                format=\".0f\",\n",
    "            ),\n",
    "            scale=alt.Scale(domain=[-90, 45]),\n",
    "        ),\n",
    "        x=alt.X(\n",
    "            \"Date:T\",\n",
    "            title=\"\",\n",
    "            axis=alt.Axis(\n",
    "                labelColor=colors[\"eco-gray\"],\n",
    "                titleColor=colors[\"eco-gray\"],\n",
    "                tickColor=colors[\"eco-gray\"],\n",
    "                domainColor=colors[\"eco-gray\"],\n",
    "                orient=\"top\",\n",
    "                # labelExpr=\"datum.Date=='2021-01'>-1?slice(datum.value,0,4)+' '+slice(datum.value,4):slice(datum.value,4)\",\n",
    "                labelAngle=0,\n",
    "            ),\n",
    "        ),\n",
    "    )\n",
    "    .transform_calculate(x1=\"datum.Value+5*(datum.Value<0?-1:1)\")\n",
    ")\n",
    "\n",
    "bars1 = bars.mark_bar(\n",
    "    size=15, xOffset=-8, color=colors[\"eco-turquiose\"], opacity=0.8\n",
    ").transform_filter(\"datum.Route=='Holyhead - Dublin'\")\n",
    "labels1 = bars1.mark_text(\n",
    "    xOffset=-8,\n",
    "    color=colors[\"eco-turquiose\"],\n",
    ").encode(text=\"Value:Q\", y=alt.Y(\"x1:Q\",scale=alt.Scale(domain=[-90, 45])))\n",
    "labels2 = bars2.mark_text(\n",
    "    xOffset=8,\n",
    "    color=colors[\"eco-blue\"],\n",
    ").encode(text=\"Value:Q\", y=alt.Y(\"x1:Q\",scale=alt.Scale(domain=[-90, 45])))\n",
    "bars2 = bars.mark_bar(\n",
    "    size=15, xOffset=8, color=colors[\"eco-blue\"], opacity=0.8\n",
    ").transform_filter(\"datum.Route=='Fishguard - Rosslare'\")\n",
    "line = (\n",
    "    alt.Chart(pd.DataFrame([{\"x\": \"2020-08-10\", \"y\": 0}, {\"x\": \"2021-02-10\", \"y\": 0}]))\n",
    "    .mark_line(color=colors[\"eco-gray\"], opacity=0.8)\n",
    "    .encode(x=\"x:T\", y=alt.Y(\"y:Q\", scale=alt.Scale(domain=[-90, 45])))\n",
    ")\n",
    "labels = (\n",
    "    alt.Chart(\n",
    "        pd.DataFrame(\n",
    "            [\n",
    "                {\n",
    "                    \"x\": \"2020-12-21\",\n",
    "                    \"y\": -53,\n",
    "                    \"t\": \"Holyhead - Dublin\",\n",
    "                    \"c\": colors[\"eco-turquiose\"],\n",
    "                },\n",
    "                {\n",
    "                    \"x\": \"2020-12-25\",\n",
    "                    \"y\": -72,\n",
    "                    \"t\": \"Fishguard - Rosslare\",\n",
    "                    \"c\": colors[\"eco-blue\"],\n",
    "                },\n",
    "            ]\n",
    "        )\n",
    "    )\n",
    "    .mark_text(xOffset=-5, align=\"right\", size=10, baseline=\"middle\")\n",
    "    .encode(\n",
    "        text=\"t\",\n",
    "        x=\"x:T\",\n",
    "        y=alt.Y(\"y:Q\", scale=alt.Scale(domain=[-90, 45])),\n",
    "        color=alt.Color(\"c:N\", scale=None),\n",
    "    )\n",
    ")\n",
    "layer = (\n",
    "    (bars1 + bars2 + labels1 + labels2 + labels + line)\n",
    "    .configure_view(stroke=None)\n",
    "    .properties(title=\"\")\n",
    "    .properties(height=300, width=400)\n",
    ")\n",
    "layer.save(\"visualisation/\" + f + \".json\")\n",
    "layer"
   ]
  },
  {
   "cell_type": "code",
   "execution_count": null,
   "metadata": {},
   "outputs": [],
   "source": []
  }
 ],
 "metadata": {
  "kernelspec": {
   "display_name": "Python 3",
   "language": "python",
   "name": "python3"
  },
  "language_info": {
   "codemirror_mode": {
    "name": "ipython",
    "version": 3
   },
   "file_extension": ".py",
   "mimetype": "text/x-python",
   "name": "python",
   "nbconvert_exporter": "python",
   "pygments_lexer": "ipython3",
   "version": "3.8.8"
  }
 },
 "nbformat": 4,
 "nbformat_minor": 4
}
