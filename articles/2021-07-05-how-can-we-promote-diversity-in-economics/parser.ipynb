{
 "cells": [
  {
   "cell_type": "code",
   "execution_count": 77,
   "metadata": {},
   "outputs": [],
   "source": [
    "import json\n",
    "import altair as alt\n",
    "from altair import expr, datum\n",
    "import matplotlib.pyplot as plt\n",
    "import numpy as np\n",
    "import pandas as pd\n",
    "import requests"
   ]
  },
  {
   "cell_type": "code",
   "execution_count": 78,
   "metadata": {},
   "outputs": [],
   "source": [
    "import colorsys\n",
    "from matplotlib.colors import to_hex, to_rgb\n",
    "\n",
    "\n",
    "def scale_lightness(rgb, scale_l):\n",
    "    rgbhex = False\n",
    "    if \"#\" in rgb:\n",
    "        rgb = to_rgb(rgb)\n",
    "        rgbhex = True\n",
    "    # convert rgb to hls\n",
    "    h, l, s = colorsys.rgb_to_hls(*rgb)\n",
    "    # manipulate h, l, s values and return as rgb\n",
    "    c = colorsys.hls_to_rgb(h, min(1, l * scale_l), s=s)\n",
    "    if rgbhex:\n",
    "        c = to_hex(c)\n",
    "    return c"
   ]
  },
  {
   "cell_type": "code",
   "execution_count": 79,
   "metadata": {},
   "outputs": [],
   "source": [
    "LOCAL = True\n",
    "\n",
    "if LOCAL:\n",
    "    local_suffix = \"_local\"\n",
    "else:\n",
    "    local_suffix = \"\""
   ]
  },
  {
   "cell_type": "code",
   "execution_count": 80,
   "metadata": {},
   "outputs": [],
   "source": [
    "%%capture pwd\n",
    "!pwd"
   ]
  },
  {
   "cell_type": "code",
   "execution_count": 81,
   "metadata": {},
   "outputs": [
    {
     "data": {
      "text/plain": [
       "('2021-07-05-how-can-we-promote-diversity-in-economics', 300, 500)"
      ]
     },
     "execution_count": 81,
     "metadata": {},
     "output_type": "execute_result"
    }
   ],
   "source": [
    "# uid = \"2021-05-05-which-firms-and-industries-have-been-most-affected-by-covid-update\"  # article unique ID\n",
    "uid = pwd.stdout.split(\"/\")[-1].split(\"\\r\")[0]\n",
    "eco_git_home = (\n",
    "    \"https://raw.githubusercontent.com/EconomicsObservatory/ECOvisualisations/main/\"\n",
    ")\n",
    "eco_git_path = eco_git_home + \"articles/\" + uid + \"/data/\"\n",
    "vega_embed = requests.get(eco_git_home + \"guidelines/html/vega-embed.html\").text\n",
    "colors = json.loads(\n",
    "    requests.get(eco_git_home + \"guidelines/colors/eco-colors.json\").content\n",
    ")\n",
    "category_color = json.loads(\n",
    "    requests.get(eco_git_home + \"guidelines/colors/eco-category-color.json\").content\n",
    ")\n",
    "hue_color = json.loads(\n",
    "    requests.get(eco_git_home + \"guidelines/colors/eco-single-hue-color.json\").content\n",
    ")\n",
    "mhue_color = json.loads(\n",
    "    requests.get(eco_git_home + \"guidelines/colors/eco-multi-hue-color.json\").content\n",
    ")\n",
    "div_color = json.loads(\n",
    "    requests.get(eco_git_home + \"guidelines/colors/eco-diverging-color.json\").content\n",
    ")\n",
    "config = json.loads(\n",
    "    requests.get(eco_git_home + \"guidelines/charts/eco-global-config.json\").content\n",
    ")\n",
    "height = config[\"height\"]\n",
    "width = config[\"width\"]\n",
    "uid, height, width"
   ]
  },
  {
   "cell_type": "markdown",
   "metadata": {},
   "source": [
    "# Fig 2"
   ]
  },
  {
   "cell_type": "markdown",
   "metadata": {},
   "source": [
    "## a"
   ]
  },
  {
   "cell_type": "code",
   "execution_count": null,
   "metadata": {},
   "outputs": [],
   "source": [
    "df = pd.read_csv(\n",
    "    \"raw/levels_time.csv\"\n",
    ").dropna(how=\"all\")"
   ]
  },
  {
   "cell_type": "code",
   "execution_count": null,
   "metadata": {},
   "outputs": [],
   "source": [
    "f = \"fig2a_degrees\"\n",
    "f2a = eco_git_path + f + \".csv\"\n",
    "df.to_csv(\"data/\" + f + \".csv\")\n",
    "f += local_suffix\n",
    "open(\"visualisation/\" + f + \".html\", \"w\").write(\n",
    "    vega_embed.replace(\n",
    "        \"JSON_PATH\", f2a.replace(\"/data/\", \"/visualisation/\").replace(\".csv\", \".json\")\n",
    "    )\n",
    ")\n",
    "if LOCAL:\n",
    "    f2a = df\n",
    "df.head()"
   ]
  },
  {
   "cell_type": "code",
   "execution_count": null,
   "metadata": {},
   "outputs": [],
   "source": [
    "base = (\n",
    "    (\n",
    "        alt.Chart(f2a)\n",
    "        .encode(\n",
    "            tooltip=\"tooltip:N\",\n",
    "            x=alt.X(\n",
    "                \"ACYEAR:O\",\n",
    "                axis=alt.Axis(\n",
    "                    grid=False,\n",
    "                    title=\"\",\n",
    "                    labelColor=colors[\"eco-gray\"],\n",
    "                    titleColor=colors[\"eco-gray\"],\n",
    "                    tickColor=colors[\"eco-gray\"],\n",
    "                    domainColor=colors[\"eco-gray\"],\n",
    "                    tickCount=10,\n",
    "                    orient=\"bottom\",\n",
    "                    labelAngle=0,\n",
    "                ),\n",
    "            ),\n",
    "            y=alt.Y(\n",
    "                \"x:Q\",\n",
    "                sort=[],\n",
    "                axis=alt.Axis(\n",
    "                    grid=True,\n",
    "            title=\"of women, by level of study\",\n",
    "            titleAnchor=\"start\",\n",
    "            labelColor=colors[\"eco-gray\"],\n",
    "            titleColor=colors[\"eco-gray\"],\n",
    "            tickColor=colors[\"eco-gray\"],\n",
    "            domainColor=colors[\"eco-gray\"],\n",
    "            titleFontSize=10,\n",
    "            titleFontWeight=\"normal\",\n",
    "            ticks=False,\n",
    "            labelAlign=\"left\",\n",
    "            labelBaseline=\"middle\",\n",
    "            labelPadding=-5,\n",
    "            labelOffset=-10,\n",
    "            titleX=30,\n",
    "            titleY=-5,\n",
    "            titleBaseline=\"bottom\",\n",
    "            titleAngle=0,\n",
    "            titleAlign=\"left\",\n",
    "            tickCount=7,\n",
    "            format=\".0%\",\n",
    "                ),\n",
    "            scale =alt.Scale(\n",
    "                domain=[0.2,0.6]\n",
    "            ),\n",
    "            \n",
    "            ),\n",
    "            color=alt.Color(\n",
    "                \"F_XLEV601:N\",\n",
    "                legend=None,\n",
    "                scale=alt.Scale(range=[colors[\"eco-turquiose\"], colors[\"eco-mid-blue\"], colors[\"eco-light-blue\"]]),\n",
    "            )\n",
    "        )\n",
    "        .transform_calculate(\n",
    "            tooltip=\"datum.ACYEAR+' 🎓 '+datum.F_XLEV601+' 📈 '+round(datum.percent_fem*10)/10.0+'%'\"\n",
    "        )\n",
    "    )\n",
    "    .transform_calculate(x=\"datum.percent_fem/100\")\n",
    "    .transform_filter(\"datum.F_SEXID=='Female'\")\n",
    ")\n",
    "line = base.mark_line(opacity=1)\n",
    "text = base.mark_text(dx=4, dy=1, align=\"left\").encode(\n",
    "    text=alt.Text(\"F_XLEV601:N\"),\n",
    ").transform_filter(\"datum.ACYEAR==2018\")\n",
    "\n",
    "layer1 = (\n",
    "    (\n",
    "        (line + text).properties(\n",
    "            height=300, width=400\n",
    "        )\n",
    "    )\n",
    "    .configure_view(stroke=None)\n",
    "    .properties(title=\"\")\n",
    ")\n",
    "layer1.save(\"visualisation/\" + f + \".json\")\n",
    "layer1"
   ]
  },
  {
   "cell_type": "markdown",
   "metadata": {},
   "source": [
    "## b"
   ]
  },
  {
   "cell_type": "code",
   "execution_count": null,
   "metadata": {},
   "outputs": [],
   "source": [
    "df = pd.read_csv(\n",
    "    \"raw/bme_level.csv\"\n",
    ").dropna(how=\"all\")"
   ]
  },
  {
   "cell_type": "code",
   "execution_count": null,
   "metadata": {},
   "outputs": [],
   "source": [
    "f = \"fig2a_degrees\"\n",
    "f2b = eco_git_path + f + \".csv\"\n",
    "df.to_csv(\"data/\" + f + \".csv\")\n",
    "f += local_suffix\n",
    "open(\"visualisation/\" + f + \".html\", \"w\").write(\n",
    "    vega_embed.replace(\n",
    "        \"JSON_PATH\", f2b.replace(\"/data/\", \"/visualisation/\").replace(\".csv\", \".json\")\n",
    "    )\n",
    ")\n",
    "if LOCAL:\n",
    "    f2b = df\n",
    "df.head()"
   ]
  },
  {
   "cell_type": "code",
   "execution_count": null,
   "metadata": {},
   "outputs": [],
   "source": [
    "base = (\n",
    "    (\n",
    "        alt.Chart(f2b)\n",
    "        .encode(\n",
    "            tooltip=\"tooltip:N\",\n",
    "            x=alt.X(\n",
    "                \"ACYEAR:O\",\n",
    "                axis=alt.Axis(\n",
    "                    grid=False,\n",
    "                    title=\"\",\n",
    "                    labelColor=colors[\"eco-gray\"],\n",
    "                    titleColor=colors[\"eco-gray\"],\n",
    "                    tickColor=colors[\"eco-gray\"],\n",
    "                    domainColor=colors[\"eco-gray\"],\n",
    "                    tickCount=10,\n",
    "                    orient=\"bottom\",\n",
    "                    labelAngle=0,\n",
    "                ),\n",
    "            ),\n",
    "            y=alt.Y(\n",
    "                \"x:Q\",\n",
    "                sort=[],\n",
    "                axis=alt.Axis(\n",
    "                    grid=True,\n",
    "            title=\"of women, by level of study\",\n",
    "            titleAnchor=\"start\",\n",
    "            labelColor=colors[\"eco-gray\"],\n",
    "            titleColor=colors[\"eco-gray\"],\n",
    "            tickColor=colors[\"eco-gray\"],\n",
    "            domainColor=colors[\"eco-gray\"],\n",
    "            titleFontSize=10,\n",
    "            titleFontWeight=\"normal\",\n",
    "            ticks=False,\n",
    "            labelAlign=\"left\",\n",
    "            labelBaseline=\"middle\",\n",
    "            labelPadding=-5,\n",
    "            labelOffset=-10,\n",
    "            titleX=30,\n",
    "            titleY=15,\n",
    "            titleBaseline=\"bottom\",\n",
    "            titleAngle=0,\n",
    "            titleAlign=\"left\",\n",
    "            tickCount=7,\n",
    "            format=\".0%\",\n",
    "                ),\n",
    "            scale =alt.Scale(\n",
    "                domain=[0.2,0.4]\n",
    "            ),\n",
    "            \n",
    "            ),\n",
    "            color=alt.Color(\n",
    "                \"BME_MKR:N\",\n",
    "                legend=alt.Legend(orient='bottom',title=''),\n",
    "                scale=alt.Scale(range=[colors[\"eco-turquiose\"], colors[\"eco-mid-blue\"], colors[\"eco-light-blue\"]]),\n",
    "            ),\n",
    "            column=alt.Column('F_XLEV601:N',title='',sort=[])\n",
    "        )\n",
    "        .transform_calculate(\n",
    "            tooltip=\"datum.ACYEAR+' 🎓 '+datum.F_XLEV601+' 📈 '+round(datum.percent_fem*10)/10.0+'%'\"\n",
    "        )\n",
    "    \n",
    "    .transform_calculate(x=\"datum.percent_fem/100\")\n",
    "    .transform_filter(\"datum.F_SEXID=='Female'\")\n",
    "    )\n",
    ")\n",
    "line = base.mark_line(opacity=1)\n",
    "text = base.mark_text(dx=4, dy=1, align=\"left\").encode(\n",
    "    text=alt.Text(\"BME_MKR:N\"),\n",
    ").transform_filter(\"datum.ACYEAR==2018\")\n",
    "\n",
    "layer1 = (\n",
    "    (\n",
    "        (line\n",
    "        ).properties(\n",
    "            height=200, width=200\n",
    "        )\n",
    "    )\n",
    "    .configure_view(stroke=None)\n",
    "    .properties(title=\"\")\n",
    ")\n",
    "layer1.save(\"visualisation/\" + f + \".json\")\n",
    "layer1"
   ]
  },
  {
   "cell_type": "code",
   "execution_count": null,
   "metadata": {},
   "outputs": [],
   "source": [
    "f2b.set_index(['ACYEAR','F_SEXID','F_XLEV601']).loc[2012,'Female','Masters']"
   ]
  },
  {
   "cell_type": "code",
   "execution_count": null,
   "metadata": {},
   "outputs": [],
   "source": [
    "f2a.set_index(['ACYEAR','F_SEXID','F_XLEV601']).loc[2012,'Female','Masters']"
   ]
  },
  {
   "cell_type": "code",
   "execution_count": null,
   "metadata": {},
   "outputs": [],
   "source": []
  }
 ],
 "metadata": {
  "kernelspec": {
   "display_name": "Python 3",
   "language": "python",
   "name": "python3"
  },
  "language_info": {
   "codemirror_mode": {
    "name": "ipython",
    "version": 3
   },
   "file_extension": ".py",
   "mimetype": "text/x-python",
   "name": "python",
   "nbconvert_exporter": "python",
   "pygments_lexer": "ipython3",
   "version": "3.8.8"
  }
 },
 "nbformat": 4,
 "nbformat_minor": 4
}
