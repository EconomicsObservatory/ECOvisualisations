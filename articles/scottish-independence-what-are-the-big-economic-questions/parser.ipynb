{
 "cells": [
  {
   "cell_type": "code",
   "execution_count": 342,
   "metadata": {},
   "outputs": [],
   "source": [
    "import json\n",
    "import altair as alt\n",
    "from altair import expr, datum\n",
    "import matplotlib.pyplot as plt\n",
    "import numpy as np\n",
    "import pandas as pd\n",
    "import requests"
   ]
  },
  {
   "cell_type": "code",
   "execution_count": 343,
   "metadata": {},
   "outputs": [],
   "source": [
    "import colorsys\n",
    "from matplotlib.colors import to_hex, to_rgb\n",
    "\n",
    "\n",
    "def scale_lightness(rgb, scale_l):\n",
    "    rgbhex = False\n",
    "    if \"#\" in rgb:\n",
    "        rgb = to_rgb(rgb)\n",
    "        rgbhex = True\n",
    "    # convert rgb to hls\n",
    "    h, l, s = colorsys.rgb_to_hls(*rgb)\n",
    "    # manipulate h, l, s values and return as rgb\n",
    "    c = colorsys.hls_to_rgb(h, min(1, l * scale_l), s=s)\n",
    "    if rgbhex:\n",
    "        c = to_hex(c)\n",
    "    return c"
   ]
  },
  {
   "cell_type": "code",
   "execution_count": 344,
   "metadata": {},
   "outputs": [],
   "source": [
    "LOCAL = False\n",
    "\n",
    "if LOCAL:\n",
    "    local_suffix = \"_local\"\n",
    "else:\n",
    "    local_suffix = \"\""
   ]
  },
  {
   "cell_type": "code",
   "execution_count": 345,
   "metadata": {},
   "outputs": [],
   "source": [
    "%%capture pwd\n",
    "!pwd"
   ]
  },
  {
   "cell_type": "code",
   "execution_count": 346,
   "metadata": {},
   "outputs": [
    {
     "data": {
      "text/plain": [
       "('scottish-independence-what-are-the-big-economic-questions', 300, 500)"
      ]
     },
     "execution_count": 346,
     "metadata": {},
     "output_type": "execute_result"
    }
   ],
   "source": [
    "uid = pwd.stdout.split(\"/\")[-1].split(\"\\r\")[0]\n",
    "eco_git_home = (\n",
    "    \"https://raw.githubusercontent.com/EconomicsObservatory/ECOvisualisations/main/\"\n",
    ")\n",
    "eco_git_path = eco_git_home + \"articles/\" + uid + \"/data/\"\n",
    "vega_embed = requests.get(eco_git_home + \"guidelines/html/vega-embed.html\").text\n",
    "colors = json.loads(\n",
    "    requests.get(eco_git_home + \"guidelines/colors/eco-colors.json\").content\n",
    ")\n",
    "category_color = json.loads(\n",
    "    requests.get(eco_git_home + \"guidelines/colors/eco-category-color.json\").content\n",
    ")\n",
    "hue_color = json.loads(\n",
    "    requests.get(eco_git_home + \"guidelines/colors/eco-single-hue-color.json\").content\n",
    ")\n",
    "mhue_color = json.loads(\n",
    "    requests.get(eco_git_home + \"guidelines/colors/eco-multi-hue-color.json\").content\n",
    ")\n",
    "div_color = json.loads(\n",
    "    requests.get(eco_git_home + \"guidelines/colors/eco-diverging-color.json\").content\n",
    ")\n",
    "config = json.loads(\n",
    "    requests.get(eco_git_home + \"guidelines/charts/eco-global-config.json\").content\n",
    ")\n",
    "height = config[\"height\"]\n",
    "width = config[\"width\"]\n",
    "uid, height, width"
   ]
  },
  {
   "cell_type": "markdown",
   "metadata": {},
   "source": [
    "# Fig 1"
   ]
  },
  {
   "cell_type": "code",
   "execution_count": 347,
   "metadata": {},
   "outputs": [],
   "source": [
    "# df\n",
    "df = pd.read_html(\n",
    "    \"https://en.wikipedia.org/wiki/2014_Scottish_independence_referendum\"\n",
    ")[10]\n",
    "df = df[[\"Local authority [437]\", \"Yes (%)\"]]\n",
    "df.columns = [\"id\", \"yes\"]\n",
    "df[\"yes\"] = df[\"yes\"].str.replace(\"%\", \"\").astype(float)\n",
    "df[\"no\"] = 100 - df[\"yes\"]\n",
    "df[\"diff\"] = df[\"yes\"] - 50\n",
    "\n",
    "# topojson\n",
    "# https://martinjc.github.io/UK-GeoJSON/json/sco/topo_lad.json simplyfiy on mapshaper.org\n",
    "scot = json.loads(open(\"visualisation/fig1/scotland_lad_mini.json\", \"r\").read())"
   ]
  },
  {
   "cell_type": "code",
   "execution_count": 348,
   "metadata": {},
   "outputs": [
    {
     "data": {
      "text/plain": [
       "135249"
      ]
     },
     "execution_count": 348,
     "metadata": {},
     "output_type": "execute_result"
    }
   ],
   "source": [
    "# ### geojson style, no necessary now\n",
    "\n",
    "# load topojson\n",
    "# https://martinjc.github.io/UK-GeoJSON/json/sco/topo_lad.json simplyfiy on mapshaper.org\n",
    "\n",
    "for i in scot[\"objects\"][\"lad\"][\"geometries\"]:\n",
    "    lad = (\n",
    "        i[\"properties\"][\"LAD13NM\"]\n",
    "        .replace(\" City\", \"\")\n",
    "        .replace(\"City of \", \"\")\n",
    "        .replace(\" Islands\", \"\")\n",
    "    )\n",
    "    i[\"properties\"][\"LAD13NM\"] = lad\n",
    "    try:\n",
    "        for k in df.set_index(\"id\").columns:\n",
    "            i[\"properties\"][k] = df.set_index(\"id\").loc[lad][k]\n",
    "    except:\n",
    "        print(lad)\n",
    "\n",
    "open(\"visualisation/fig1/scotland_lad_mini_data.json\", \"w\").write(json.dumps(scot))"
   ]
  },
  {
   "cell_type": "code",
   "execution_count": 349,
   "metadata": {},
   "outputs": [
    {
     "data": {
      "text/plain": [
       "2457"
      ]
     },
     "execution_count": 349,
     "metadata": {},
     "output_type": "execute_result"
    }
   ],
   "source": [
    "open(\"visualisation/fig1/2014_referendum.json\", \"w\").write(\n",
    "    json.dumps(list(df.T.to_dict().values()))\n",
    ")"
   ]
  },
  {
   "cell_type": "code",
   "execution_count": 350,
   "metadata": {},
   "outputs": [
    {
     "data": {
      "text/plain": [
       "189"
      ]
     },
     "execution_count": 350,
     "metadata": {},
     "output_type": "execute_result"
    }
   ],
   "source": [
    "readme = (\n",
    "    \"### fig1_2014_referendum\"\n",
    "    + \"\\n[Interactive map](https://economicsobservatory.github.io/ECOvisualisations/articles/scottish-independence-what-are-the-big-economic-questions/visualisation/fig1/)\\n\\n\"\n",
    ")\n",
    "open(\"README.md\", \"w\").write(readme)"
   ]
  },
  {
   "cell_type": "markdown",
   "metadata": {},
   "source": [
    "# Fig 2"
   ]
  },
  {
   "cell_type": "code",
   "execution_count": 351,
   "metadata": {},
   "outputs": [],
   "source": [
    "df = pd.read_csv(\"raw/poll_data.csv\")\n",
    "df[\"Fieldwork End Date / Pollster\"] = (\n",
    "    df[\"Fieldwork End Date / Pollster\"].str.split(\"/\").str[0]\n",
    ")\n",
    "df.columns = [\"date\", \"yes\", \"no\"]\n",
    "for k in [\"yes\", \"no\"]:\n",
    "    df[k] = df[k].str.replace(\"%\", \"\").astype(float)\n",
    "df[\"date\"] = pd.to_datetime(df[\"date\"]).astype(str)"
   ]
  },
  {
   "cell_type": "code",
   "execution_count": 352,
   "metadata": {},
   "outputs": [
    {
     "data": {
      "text/html": [
       "<div>\n",
       "<style scoped>\n",
       "    .dataframe tbody tr th:only-of-type {\n",
       "        vertical-align: middle;\n",
       "    }\n",
       "\n",
       "    .dataframe tbody tr th {\n",
       "        vertical-align: top;\n",
       "    }\n",
       "\n",
       "    .dataframe thead th {\n",
       "        text-align: right;\n",
       "    }\n",
       "</style>\n",
       "<table border=\"1\" class=\"dataframe\">\n",
       "  <thead>\n",
       "    <tr style=\"text-align: right;\">\n",
       "      <th></th>\n",
       "      <th>date</th>\n",
       "      <th>yes</th>\n",
       "      <th>no</th>\n",
       "    </tr>\n",
       "  </thead>\n",
       "  <tbody>\n",
       "    <tr>\n",
       "      <th>0</th>\n",
       "      <td>2016-06-25</td>\n",
       "      <td>53.0</td>\n",
       "      <td>47.0</td>\n",
       "    </tr>\n",
       "    <tr>\n",
       "      <th>1</th>\n",
       "      <td>2016-06-26</td>\n",
       "      <td>52.0</td>\n",
       "      <td>48.0</td>\n",
       "    </tr>\n",
       "    <tr>\n",
       "      <th>2</th>\n",
       "      <td>2016-06-28</td>\n",
       "      <td>53.0</td>\n",
       "      <td>47.0</td>\n",
       "    </tr>\n",
       "    <tr>\n",
       "      <th>3</th>\n",
       "      <td>2016-07-25</td>\n",
       "      <td>47.0</td>\n",
       "      <td>53.0</td>\n",
       "    </tr>\n",
       "    <tr>\n",
       "      <th>4</th>\n",
       "      <td>2016-08-31</td>\n",
       "      <td>47.0</td>\n",
       "      <td>53.0</td>\n",
       "    </tr>\n",
       "  </tbody>\n",
       "</table>\n",
       "</div>"
      ],
      "text/plain": [
       "         date   yes    no\n",
       "0  2016-06-25  53.0  47.0\n",
       "1  2016-06-26  52.0  48.0\n",
       "2  2016-06-28  53.0  47.0\n",
       "3  2016-07-25  47.0  53.0\n",
       "4  2016-08-31  47.0  53.0"
      ]
     },
     "execution_count": 352,
     "metadata": {},
     "output_type": "execute_result"
    }
   ],
   "source": [
    "f = \"fig2_polls\"\n",
    "f2 = eco_git_path + f + \".csv\"\n",
    "df.to_csv(\"data/\" + f + \".csv\")\n",
    "f += local_suffix\n",
    "open(\"visualisation/\" + f + \".html\", \"w\").write(\n",
    "    vega_embed.replace(\n",
    "        \"JSON_PATH\", f2.replace(\"/data/\", \"/visualisation/\").replace(\".csv\", \".json\")\n",
    "    )\n",
    ")\n",
    "if LOCAL:\n",
    "    f2 = df\n",
    "readme = \"### \" + f + '\\n![\"' + f + '\"](visualisation/' + f + '.png \"' + f + '\")\\n\\n'\n",
    "df.head()"
   ]
  },
  {
   "cell_type": "code",
   "execution_count": 355,
   "metadata": {},
   "outputs": [
    {
     "data": {
      "text/html": [
       "\n",
       "<div id=\"altair-viz-9bf458ed130240e38c2be3788ad4de19\"></div>\n",
       "<script type=\"text/javascript\">\n",
       "  (function(spec, embedOpt){\n",
       "    let outputDiv = document.currentScript.previousElementSibling;\n",
       "    if (outputDiv.id !== \"altair-viz-9bf458ed130240e38c2be3788ad4de19\") {\n",
       "      outputDiv = document.getElementById(\"altair-viz-9bf458ed130240e38c2be3788ad4de19\");\n",
       "    }\n",
       "    const paths = {\n",
       "      \"vega\": \"https://cdn.jsdelivr.net/npm//vega@5?noext\",\n",
       "      \"vega-lib\": \"https://cdn.jsdelivr.net/npm//vega-lib?noext\",\n",
       "      \"vega-lite\": \"https://cdn.jsdelivr.net/npm//vega-lite@4.8.1?noext\",\n",
       "      \"vega-embed\": \"https://cdn.jsdelivr.net/npm//vega-embed@6?noext\",\n",
       "    };\n",
       "\n",
       "    function loadScript(lib) {\n",
       "      return new Promise(function(resolve, reject) {\n",
       "        var s = document.createElement('script');\n",
       "        s.src = paths[lib];\n",
       "        s.async = true;\n",
       "        s.onload = () => resolve(paths[lib]);\n",
       "        s.onerror = () => reject(`Error loading script: ${paths[lib]}`);\n",
       "        document.getElementsByTagName(\"head\")[0].appendChild(s);\n",
       "      });\n",
       "    }\n",
       "\n",
       "    function showError(err) {\n",
       "      outputDiv.innerHTML = `<div class=\"error\" style=\"color:red;\">${err}</div>`;\n",
       "      throw err;\n",
       "    }\n",
       "\n",
       "    function displayChart(vegaEmbed) {\n",
       "      vegaEmbed(outputDiv, spec, embedOpt)\n",
       "        .catch(err => showError(`Javascript Error: ${err.message}<br>This usually means there's a typo in your chart specification. See the javascript console for the full traceback.`));\n",
       "    }\n",
       "\n",
       "    if(typeof define === \"function\" && define.amd) {\n",
       "      requirejs.config({paths});\n",
       "      require([\"vega-embed\"], displayChart, err => showError(`Error loading script: ${err.message}`));\n",
       "    } else if (typeof vegaEmbed === \"function\") {\n",
       "      displayChart(vegaEmbed);\n",
       "    } else {\n",
       "      loadScript(\"vega\")\n",
       "        .then(() => loadScript(\"vega-lite\"))\n",
       "        .then(() => loadScript(\"vega-embed\"))\n",
       "        .catch(showError)\n",
       "        .then(() => displayChart(vegaEmbed));\n",
       "    }\n",
       "  })({\"config\": {\"view\": {\"continuousWidth\": 400, \"continuousHeight\": 300, \"stroke\": null}}, \"layer\": [{\"mark\": {\"type\": \"line\", \"color\": \"#0063AF\"}, \"encoding\": {\"x\": {\"type\": \"temporal\", \"axis\": {\"domainColor\": \"#676A86\", \"grid\": false, \"labelAngle\": 0, \"labelColor\": \"#676A86\", \"orient\": \"bottom\", \"tickColor\": \"#676A86\", \"tickCount\": 10, \"title\": \"\", \"titleAlign\": \"center\", \"titleAnchor\": \"middle\", \"titleColor\": \"#676A86\", \"titleX\": 207, \"titleY\": -15}, \"field\": \"date\", \"sort\": []}, \"y\": {\"type\": \"quantitative\", \"axis\": {\"domainColor\": \"#676A86\", \"gridOpacity\": 0.3, \"labelColor\": \"#676A86\", \"tickColor\": \"#676A86\", \"title\": \"%\", \"titleAlign\": \"left\", \"titleAngle\": 0, \"titleBaseline\": \"bottom\", \"titleColor\": \"#676A86\", \"titleX\": 5, \"titleY\": 5}, \"field\": \"yes\", \"scale\": {\"domain\": [30, 70]}, \"sort\": []}}}, {\"mark\": {\"type\": \"line\", \"color\": \"#F4134D\"}, \"encoding\": {\"x\": {\"type\": \"temporal\", \"axis\": {\"domainColor\": \"#676A86\", \"grid\": false, \"labelAngle\": 0, \"labelColor\": \"#676A86\", \"orient\": \"bottom\", \"tickColor\": \"#676A86\", \"tickCount\": 10, \"title\": \"\", \"titleAlign\": \"center\", \"titleAnchor\": \"middle\", \"titleColor\": \"#676A86\", \"titleX\": 207, \"titleY\": -15}, \"field\": \"date\", \"sort\": []}, \"y\": {\"type\": \"quantitative\", \"field\": \"no\"}}}, {\"mark\": {\"type\": \"area\", \"color\": {\"gradient\": \"linear\", \"stops\": [{\"color\": \"#F4134D\", \"offset\": 0.7}, {\"color\": \"white\", \"offset\": 0.5}, {\"color\": \"#0063AF\", \"offset\": 0.3}], \"x1\": 1, \"x2\": 1, \"y1\": 1, \"y2\": 0}, \"fillOpacity\": 0.7, \"interpolate\": \"monotone\"}, \"encoding\": {\"x\": {\"type\": \"temporal\", \"axis\": {\"domainColor\": \"#676A86\", \"grid\": false, \"labelAngle\": 0, \"labelColor\": \"#676A86\", \"orient\": \"bottom\", \"tickColor\": \"#676A86\", \"tickCount\": 10, \"title\": \"\", \"titleAlign\": \"center\", \"titleAnchor\": \"middle\", \"titleColor\": \"#676A86\", \"titleX\": 207, \"titleY\": -15}, \"field\": \"date\", \"sort\": []}, \"y\": {\"type\": \"quantitative\", \"field\": \"no\"}, \"y2\": {\"field\": \"yes\"}}, \"transform\": [{\"filter\": \"datum.date<toDate('2020-01-01')\"}]}, {\"mark\": {\"type\": \"area\", \"color\": {\"gradient\": \"linear\", \"stops\": [{\"color\": \"#F4134D\", \"offset\": 0.7}, {\"color\": \"white\", \"offset\": 0.5}, {\"color\": \"#0063AF\", \"offset\": 0.3}], \"x1\": 1, \"x2\": 1, \"y1\": 1, \"y2\": 0}, \"fillOpacity\": 0.7, \"interpolate\": \"monotone\"}, \"encoding\": {\"x\": {\"type\": \"temporal\", \"axis\": {\"domainColor\": \"#676A86\", \"grid\": false, \"labelAngle\": 0, \"labelColor\": \"#676A86\", \"orient\": \"bottom\", \"tickColor\": \"#676A86\", \"tickCount\": 10, \"title\": \"\", \"titleAlign\": \"center\", \"titleAnchor\": \"middle\", \"titleColor\": \"#676A86\", \"titleX\": 207, \"titleY\": -15}, \"field\": \"date\", \"sort\": []}, \"y\": {\"type\": \"quantitative\", \"field\": \"no\"}, \"y2\": {\"field\": \"yes\"}}, \"transform\": [{\"filter\": \"datum.date>toDate('2021-03-01')\"}]}, {\"mark\": {\"type\": \"area\", \"color\": {\"gradient\": \"linear\", \"stops\": [{\"color\": \"#F4134D\", \"offset\": 0.3}, {\"color\": \"white\", \"offset\": 0.5}, {\"color\": \"#0063AF\", \"offset\": 0.7}], \"x1\": 1, \"x2\": 1, \"y1\": 1, \"y2\": 0}, \"fillOpacity\": 0.7, \"interpolate\": \"monotone\"}, \"encoding\": {\"x\": {\"type\": \"temporal\", \"axis\": {\"domainColor\": \"#676A86\", \"grid\": false, \"labelAngle\": 0, \"labelColor\": \"#676A86\", \"orient\": \"bottom\", \"tickColor\": \"#676A86\", \"tickCount\": 10, \"title\": \"\", \"titleAlign\": \"center\", \"titleAnchor\": \"middle\", \"titleColor\": \"#676A86\", \"titleX\": 207, \"titleY\": -15}, \"field\": \"date\", \"sort\": []}, \"y\": {\"type\": \"quantitative\", \"field\": \"no\"}, \"y2\": {\"field\": \"yes\"}}, \"transform\": [{\"filter\": \"datum.date>toDate('2020-01-01')\"}, {\"filter\": \"datum.date<toDate('2021-03-01')\"}]}, {\"data\": {\"name\": \"data-52260e5c70bd844b3bd9740b0d985828\"}, \"mark\": {\"type\": \"text\", \"align\": \"left\", \"color\": \"#F4134D\"}, \"encoding\": {\"text\": {\"type\": \"nominal\", \"field\": \"t\"}, \"x\": {\"type\": \"temporal\", \"field\": \"date\"}, \"y\": {\"type\": \"quantitative\", \"field\": \"y\"}}}, {\"data\": {\"name\": \"data-177078add21e30964cbeabb47e51215c\"}, \"mark\": {\"type\": \"text\", \"align\": \"left\", \"color\": \"#0063AF\"}, \"encoding\": {\"text\": {\"type\": \"nominal\", \"field\": \"t\"}, \"x\": {\"type\": \"temporal\", \"field\": \"date\"}, \"y\": {\"type\": \"quantitative\", \"field\": \"y\"}}}], \"data\": {\"url\": \"https://raw.githubusercontent.com/EconomicsObservatory/ECOvisualisations/main/articles/scottish-independence-what-are-the-big-economic-questions/data/fig2_polls.csv\"}, \"height\": 300, \"title\": \"\", \"width\": 400, \"$schema\": \"https://vega.github.io/schema/vega-lite/v4.8.1.json\", \"datasets\": {\"data-52260e5c70bd844b3bd9740b0d985828\": [{\"date\": \"2017-07-01\", \"y\": 60.5, \"t\": \"No\"}], \"data-177078add21e30964cbeabb47e51215c\": [{\"date\": \"2017-07-01\", \"y\": 39.5, \"t\": \"Yes\"}]}}, {\"mode\": \"vega-lite\"});\n",
       "</script>"
      ],
      "text/plain": [
       "alt.LayerChart(...)"
      ]
     },
     "execution_count": 355,
     "metadata": {},
     "output_type": "execute_result"
    }
   ],
   "source": [
    "base = alt.Chart(f2).encode(\n",
    "    x=alt.X(\n",
    "        \"date:T\",\n",
    "        sort=[],\n",
    "        axis=alt.Axis(\n",
    "            grid=False,\n",
    "            titleAlign=\"center\",\n",
    "            titleAnchor=\"middle\",\n",
    "            title=\"\",\n",
    "            titleY=-15,\n",
    "            titleX=207,\n",
    "            labelColor=colors[\"eco-gray\"],\n",
    "            titleColor=colors[\"eco-gray\"],\n",
    "            tickColor=colors[\"eco-gray\"],\n",
    "            domainColor=colors[\"eco-gray\"],\n",
    "            tickCount=10,\n",
    "            orient=\"bottom\",\n",
    "            labelAngle=0,\n",
    "        ),\n",
    "    )\n",
    ")\n",
    "line1 = base.mark_line(color=colors[\"eco-mid-blue\"]).encode(\n",
    "    y=alt.Y(\n",
    "        \"yes:Q\",\n",
    "        sort=[],\n",
    "        axis=alt.Axis(\n",
    "#             grid=False,\n",
    "            gridOpacity=0.3,\n",
    "            title=\"%\",\n",
    "            titleX=5,\n",
    "            titleY=5,\n",
    "            titleBaseline=\"bottom\",\n",
    "            titleAngle=0,\n",
    "            titleAlign=\"left\",\n",
    "            labelColor=colors[\"eco-gray\"],\n",
    "            titleColor=colors[\"eco-gray\"],\n",
    "            tickColor=colors[\"eco-gray\"],\n",
    "            domainColor=colors[\"eco-gray\"],\n",
    "        ),\n",
    "        scale=alt.Scale(domain=[30, 70]),\n",
    "    )\n",
    ")\n",
    "line2 = base.mark_line(color=colors[\"eco-dot\"]).encode(y=alt.Y(\"no:Q\"))\n",
    "area1 = base.mark_area(\n",
    "    interpolate=\"monotone\",\n",
    "    fillOpacity=0.7,\n",
    "    color=alt.Gradient(\n",
    "        gradient=\"linear\",\n",
    "        stops=[\n",
    "            alt.GradientStop(color=colors[\"eco-dot\"], offset=0.7),\n",
    "            alt.GradientStop(color=\"white\", offset=0.5),\n",
    "            alt.GradientStop(color=colors[\"eco-mid-blue\"], offset=0.3),\n",
    "        ],\n",
    "        x1=1,\n",
    "        x2=1,\n",
    "        y1=1,\n",
    "        y2=0,\n",
    "    ),\n",
    ").encode(y=\"no:Q\", y2=\"yes:Q\")\n",
    "area1a = area1.transform_filter(\"datum.date<toDate('2020-01-01')\")\n",
    "area1b = area1.transform_filter(\"datum.date>toDate('2021-03-01')\")\n",
    "area2 = (\n",
    "    base.mark_area(\n",
    "        interpolate=\"monotone\",\n",
    "        fillOpacity=0.7,\n",
    "        color=alt.Gradient(\n",
    "            gradient=\"linear\",\n",
    "            stops=[\n",
    "                alt.GradientStop(color=colors[\"eco-dot\"], offset=0.3),\n",
    "                alt.GradientStop(color=\"white\", offset=0.5),\n",
    "                alt.GradientStop(color=colors[\"eco-mid-blue\"], offset=0.7),\n",
    "            ],\n",
    "            x1=1,\n",
    "            x2=1,\n",
    "            y1=1,\n",
    "            y2=0,\n",
    "        ),\n",
    "    )\n",
    "    .encode(y=\"no:Q\", y2=\"yes:Q\")\n",
    "    .transform_filter(\"datum.date>toDate('2020-01-01')\")\n",
    "    .transform_filter(\"datum.date<toDate('2021-03-01')\")\n",
    ")\n",
    "label1 = (\n",
    "    alt.Chart(pd.DataFrame([{\"date\": \"2017-07-01\", \"y\": 60.5, \"t\": \"No\"}]))\n",
    "    .mark_text(color=colors[\"eco-dot\"], align=\"left\")\n",
    "    .encode(x=\"date:T\", y=\"y:Q\", text=\"t:N\")\n",
    ")\n",
    "label2 = (\n",
    "    alt.Chart(pd.DataFrame([{\"date\": \"2017-07-01\", \"y\": 39.5, \"t\": \"Yes\"}]))\n",
    "    .mark_text(color=colors[\"eco-mid-blue\"], align=\"left\")\n",
    "    .encode(x=\"date:T\", y=\"y:Q\", text=\"t:N\")\n",
    ")\n",
    "layer1 = (\n",
    "    (\n",
    "        (line1 + line2 + area1a + area1b + area2 + label1 + label2).properties(\n",
    "            height=300, width=400\n",
    "        )\n",
    "    )\n",
    "    .configure_view(stroke=None)\n",
    "    .properties(title=\"\")\n",
    ")\n",
    "layer1.save(\"visualisation/\" + f + \".json\")\n",
    "layer1.save(\"visualisation/\" + f + \".png\")\n",
    "open(\"README.md\", \"a\").write(readme)\n",
    "layer1"
   ]
  },
  {
   "cell_type": "markdown",
   "metadata": {},
   "source": [
    "# Fig 4"
   ]
  },
  {
   "cell_type": "code",
   "execution_count": 356,
   "metadata": {},
   "outputs": [],
   "source": [
    "df = pd.read_excel(\"raw/UK_Public_Spending_Data.xlsx\", sheet_name=\"9_1b\", skiprows=3)\n",
    "df = df[[\"Unnamed: 0\", \"2019-20\\noutturn.1\"]]\n",
    "df.columns = [\"region\", \"index\"]\n",
    "df=df.dropna().iloc[:-1]"
   ]
  },
  {
   "cell_type": "code",
   "execution_count": 357,
   "metadata": {},
   "outputs": [
    {
     "data": {
      "text/html": [
       "<div>\n",
       "<style scoped>\n",
       "    .dataframe tbody tr th:only-of-type {\n",
       "        vertical-align: middle;\n",
       "    }\n",
       "\n",
       "    .dataframe tbody tr th {\n",
       "        vertical-align: top;\n",
       "    }\n",
       "\n",
       "    .dataframe thead th {\n",
       "        text-align: right;\n",
       "    }\n",
       "</style>\n",
       "<table border=\"1\" class=\"dataframe\">\n",
       "  <thead>\n",
       "    <tr style=\"text-align: right;\">\n",
       "      <th></th>\n",
       "      <th>region</th>\n",
       "      <th>index</th>\n",
       "    </tr>\n",
       "  </thead>\n",
       "  <tbody>\n",
       "    <tr>\n",
       "      <th>0</th>\n",
       "      <td>North East</td>\n",
       "      <td>104.0</td>\n",
       "    </tr>\n",
       "    <tr>\n",
       "      <th>1</th>\n",
       "      <td>North West</td>\n",
       "      <td>103.0</td>\n",
       "    </tr>\n",
       "    <tr>\n",
       "      <th>2</th>\n",
       "      <td>Yorkshire &amp; The Humber</td>\n",
       "      <td>95.0</td>\n",
       "    </tr>\n",
       "    <tr>\n",
       "      <th>3</th>\n",
       "      <td>East Midlands</td>\n",
       "      <td>90.0</td>\n",
       "    </tr>\n",
       "    <tr>\n",
       "      <th>4</th>\n",
       "      <td>West Midlands</td>\n",
       "      <td>97.0</td>\n",
       "    </tr>\n",
       "  </tbody>\n",
       "</table>\n",
       "</div>"
      ],
      "text/plain": [
       "                   region  index\n",
       "0              North East  104.0\n",
       "1              North West  103.0\n",
       "2  Yorkshire & The Humber   95.0\n",
       "3           East Midlands   90.0\n",
       "4           West Midlands   97.0"
      ]
     },
     "execution_count": 357,
     "metadata": {},
     "output_type": "execute_result"
    }
   ],
   "source": [
    "f = \"fig4_public_spending\"\n",
    "f4 = eco_git_path + f + \".csv\"\n",
    "df.to_csv(\"data/\" + f + \".csv\")\n",
    "f += local_suffix\n",
    "open(\"visualisation/\" + f + \".html\", \"w\").write(\n",
    "    vega_embed.replace(\n",
    "        \"JSON_PATH\", f4.replace(\"/data/\", \"/visualisation/\").replace(\".csv\", \".json\")\n",
    "    )\n",
    ")\n",
    "if LOCAL:\n",
    "    f4 = df\n",
    "readme = \"### \" + f + '\\n![\"' + f + '\"](visualisation/' + f + '.png \"' + f + '\")\\n\\n'\n",
    "df.head()"
   ]
  },
  {
   "cell_type": "code",
   "execution_count": 358,
   "metadata": {},
   "outputs": [
    {
     "data": {
      "text/html": [
       "\n",
       "<div id=\"altair-viz-59ad808e83eb4c27b6267a2937e1b377\"></div>\n",
       "<script type=\"text/javascript\">\n",
       "  (function(spec, embedOpt){\n",
       "    let outputDiv = document.currentScript.previousElementSibling;\n",
       "    if (outputDiv.id !== \"altair-viz-59ad808e83eb4c27b6267a2937e1b377\") {\n",
       "      outputDiv = document.getElementById(\"altair-viz-59ad808e83eb4c27b6267a2937e1b377\");\n",
       "    }\n",
       "    const paths = {\n",
       "      \"vega\": \"https://cdn.jsdelivr.net/npm//vega@5?noext\",\n",
       "      \"vega-lib\": \"https://cdn.jsdelivr.net/npm//vega-lib?noext\",\n",
       "      \"vega-lite\": \"https://cdn.jsdelivr.net/npm//vega-lite@4.8.1?noext\",\n",
       "      \"vega-embed\": \"https://cdn.jsdelivr.net/npm//vega-embed@6?noext\",\n",
       "    };\n",
       "\n",
       "    function loadScript(lib) {\n",
       "      return new Promise(function(resolve, reject) {\n",
       "        var s = document.createElement('script');\n",
       "        s.src = paths[lib];\n",
       "        s.async = true;\n",
       "        s.onload = () => resolve(paths[lib]);\n",
       "        s.onerror = () => reject(`Error loading script: ${paths[lib]}`);\n",
       "        document.getElementsByTagName(\"head\")[0].appendChild(s);\n",
       "      });\n",
       "    }\n",
       "\n",
       "    function showError(err) {\n",
       "      outputDiv.innerHTML = `<div class=\"error\" style=\"color:red;\">${err}</div>`;\n",
       "      throw err;\n",
       "    }\n",
       "\n",
       "    function displayChart(vegaEmbed) {\n",
       "      vegaEmbed(outputDiv, spec, embedOpt)\n",
       "        .catch(err => showError(`Javascript Error: ${err.message}<br>This usually means there's a typo in your chart specification. See the javascript console for the full traceback.`));\n",
       "    }\n",
       "\n",
       "    if(typeof define === \"function\" && define.amd) {\n",
       "      requirejs.config({paths});\n",
       "      require([\"vega-embed\"], displayChart, err => showError(`Error loading script: ${err.message}`));\n",
       "    } else if (typeof vegaEmbed === \"function\") {\n",
       "      displayChart(vegaEmbed);\n",
       "    } else {\n",
       "      loadScript(\"vega\")\n",
       "        .then(() => loadScript(\"vega-lite\"))\n",
       "        .then(() => loadScript(\"vega-embed\"))\n",
       "        .catch(showError)\n",
       "        .then(() => displayChart(vegaEmbed));\n",
       "    }\n",
       "  })({\"config\": {\"view\": {\"continuousWidth\": 400, \"continuousHeight\": 300, \"stroke\": null}}, \"layer\": [{\"mark\": {\"type\": \"bar\", \"color\": \"#F4134D\", \"opacity\": 0.9}, \"encoding\": {\"x\": {\"type\": \"nominal\", \"axis\": null, \"field\": \"region\"}, \"y\": {\"type\": \"quantitative\", \"axis\": {\"domainColor\": \"#676A86\", \"gridOpacity\": 0.3, \"labelColor\": \"#676A86\", \"tickColor\": \"#676A86\", \"title\": \"Public spending index 2019-20| UK average = 100\", \"titleAlign\": \"left\", \"titleAngle\": 0, \"titleBaseline\": \"bottom\", \"titleColor\": \"#676A86\", \"titleX\": -25, \"titleY\": -5}, \"field\": \"index\", \"sort\": []}}}, {\"mark\": {\"type\": \"bar\", \"color\": \"#0063AF\", \"opacity\": 0.9}, \"encoding\": {\"x\": {\"type\": \"nominal\", \"axis\": null, \"field\": \"region\"}, \"y\": {\"type\": \"quantitative\", \"field\": \"index\", \"sort\": []}}, \"transform\": [{\"filter\": \"datum.region=='Scotland'\"}]}, {\"mark\": {\"type\": \"text\", \"align\": \"left\", \"angle\": 270, \"color\": \"white\", \"dx\": 5}, \"encoding\": {\"text\": {\"type\": \"nominal\", \"field\": \"region\"}, \"x\": {\"type\": \"nominal\", \"axis\": null, \"field\": \"region\"}, \"y\": {\"type\": \"quantitative\", \"field\": \"y\"}}, \"transform\": [{\"calculate\": \"0\", \"as\": \"y\"}]}, {\"data\": {\"name\": \"data-b8cbad69b34f1bd169c6a2099467d171\"}, \"mark\": {\"type\": \"line\", \"color\": \"#676A86\", \"strokeDash\": [5, 5], \"strokeWidth\": 1}, \"encoding\": {\"x\": {\"type\": \"nominal\", \"field\": \"x\"}, \"y\": {\"type\": \"quantitative\", \"field\": \"y\"}}}], \"data\": {\"url\": \"https://raw.githubusercontent.com/EconomicsObservatory/ECOvisualisations/main/articles/scottish-independence-what-are-the-big-economic-questions/data/fig4_public_spending.csv\"}, \"height\": 300, \"title\": \"\", \"width\": 400, \"$schema\": \"https://vega.github.io/schema/vega-lite/v4.8.1.json\", \"datasets\": {\"data-b8cbad69b34f1bd169c6a2099467d171\": [{\"x\": \"East\", \"y\": 100}, {\"x\": \"Yorkshire & The Humber\", \"y\": 100}]}}, {\"mode\": \"vega-lite\"});\n",
       "</script>"
      ],
      "text/plain": [
       "alt.LayerChart(...)"
      ]
     },
     "execution_count": 358,
     "metadata": {},
     "output_type": "execute_result"
    }
   ],
   "source": [
    "base = alt.Chart(f4).encode(\n",
    "    x=alt.X(\n",
    "        \"region:N\",\n",
    "        axis=None\n",
    "    )\n",
    ")\n",
    "bars = base.mark_bar(color=colors[\"eco-dot\"],opacity=0.9).encode(\n",
    "    y=alt.Y(\n",
    "        \"index:Q\",\n",
    "        sort=[],\n",
    "        axis=alt.Axis(\n",
    "#             grid=False,\n",
    "            gridOpacity=0.3,\n",
    "            title=\"Public spending index 2019-20| UK average = 100\",\n",
    "            titleX=-25,\n",
    "            titleY=-5,\n",
    "            titleBaseline=\"bottom\",\n",
    "            titleAngle=0,\n",
    "            titleAlign=\"left\",\n",
    "            labelColor=colors[\"eco-gray\"],\n",
    "            titleColor=colors[\"eco-gray\"],\n",
    "            tickColor=colors[\"eco-gray\"],\n",
    "            domainColor=colors[\"eco-gray\"],\n",
    "        )\n",
    "    )\n",
    ")\n",
    "scot = base.mark_bar(color=colors[\"eco-mid-blue\"],opacity=0.9).encode(\n",
    "    y=alt.Y(\n",
    "        \"index:Q\",\n",
    "        sort=[]\n",
    "    )\n",
    ").transform_filter(\"datum.region=='Scotland'\")\n",
    "axis1 = (\n",
    "    alt.Chart(pd.DataFrame([{\"x\": \"East\", \"y\": 100}, {\"x\": \"Yorkshire & The Humber\", \"y\":100}]))\n",
    "    .mark_line(strokeWidth=1, strokeDash=[5, 5], color=colors[\"eco-gray\"])\n",
    "    .encode(x=alt.X(\"x:N\"), y=\"y:Q\")\n",
    ")\n",
    "text=bars.mark_text(color='white',angle=270,align='left',dx=5).encode(text='region:N',y='y:Q').transform_calculate(y='0')\n",
    "layer1 = (\n",
    "    ((bars+scot+text+axis1).properties(height=300, width=400))\n",
    "    .configure_view(stroke=None)\n",
    "    .properties(title=\"\")\n",
    ")\n",
    "layer1.save(\"visualisation/\" + f + \".json\")\n",
    "layer1.save(\"visualisation/\" + f + \".png\")\n",
    "open(\"README.md\", \"a\").write(readme)\n",
    "layer1"
   ]
  },
  {
   "cell_type": "markdown",
   "metadata": {},
   "source": [
    "# Fig 5"
   ]
  },
  {
   "cell_type": "code",
   "execution_count": 359,
   "metadata": {},
   "outputs": [],
   "source": [
    "# df\n",
    "df = pd.read_csv('raw/mye-2020-council-change-custom.csv')\n",
    "df=df[['Area','Percentage_Change']]\n",
    "df['Percentage_Change']=df['Percentage_Change'].str.replace('%','').astype(float)\n",
    "df['Area']=df['Area'].str.replace(\" City\", \"\").str.replace(\"City of \", \"\").str.replace(\" Islands\", \"\").replace('Na h-Eileanan Siar','Eilean Siar')\n",
    "df.columns=['id','pop']"
   ]
  },
  {
   "cell_type": "code",
   "execution_count": 360,
   "metadata": {},
   "outputs": [
    {
     "data": {
      "text/plain": [
       "1223"
      ]
     },
     "execution_count": 360,
     "metadata": {},
     "output_type": "execute_result"
    }
   ],
   "source": [
    "open(\"visualisation/fig5/population_change.json\", \"w\").write(\n",
    "    json.dumps(list(df.T.to_dict().values()))\n",
    ")"
   ]
  },
  {
   "cell_type": "code",
   "execution_count": 361,
   "metadata": {},
   "outputs": [
    {
     "data": {
      "text/plain": [
       "191"
      ]
     },
     "execution_count": 361,
     "metadata": {},
     "output_type": "execute_result"
    }
   ],
   "source": [
    "readme = (\n",
    "    \"### fig5_population_change\"\n",
    "    + \"\\n[Interactive map](https://economicsobservatory.github.io/ECOvisualisations/articles/scottish-independence-what-are-the-big-economic-questions/visualisation/fig5/)\\n\\n\"\n",
    ")\n",
    "open(\"README.md\", \"a\").write(readme)"
   ]
  },
  {
   "cell_type": "markdown",
   "metadata": {},
   "source": [
    "# Fig 6"
   ]
  },
  {
   "cell_type": "markdown",
   "metadata": {},
   "source": [
    "## a"
   ]
  },
  {
   "cell_type": "code",
   "execution_count": 362,
   "metadata": {},
   "outputs": [],
   "source": [
    "df = pd.read_excel(\"raw/Industry_mix.xlsx\")\n",
    "df.columns=['Industry','LQ','UK']"
   ]
  },
  {
   "cell_type": "code",
   "execution_count": 363,
   "metadata": {},
   "outputs": [
    {
     "data": {
      "text/html": [
       "<div>\n",
       "<style scoped>\n",
       "    .dataframe tbody tr th:only-of-type {\n",
       "        vertical-align: middle;\n",
       "    }\n",
       "\n",
       "    .dataframe tbody tr th {\n",
       "        vertical-align: top;\n",
       "    }\n",
       "\n",
       "    .dataframe thead th {\n",
       "        text-align: right;\n",
       "    }\n",
       "</style>\n",
       "<table border=\"1\" class=\"dataframe\">\n",
       "  <thead>\n",
       "    <tr style=\"text-align: right;\">\n",
       "      <th></th>\n",
       "      <th>Industry</th>\n",
       "      <th>LQ</th>\n",
       "      <th>UK</th>\n",
       "    </tr>\n",
       "  </thead>\n",
       "  <tbody>\n",
       "    <tr>\n",
       "      <th>0</th>\n",
       "      <td>Agriculture, forestry and fishing</td>\n",
       "      <td>2.031258</td>\n",
       "      <td>1</td>\n",
       "    </tr>\n",
       "    <tr>\n",
       "      <th>1</th>\n",
       "      <td>Mining and quarrying</td>\n",
       "      <td>7.051976</td>\n",
       "      <td>1</td>\n",
       "    </tr>\n",
       "    <tr>\n",
       "      <th>2</th>\n",
       "      <td>Manufacturing</td>\n",
       "      <td>0.954301</td>\n",
       "      <td>1</td>\n",
       "    </tr>\n",
       "    <tr>\n",
       "      <th>3</th>\n",
       "      <td>Electricity, gas, etc</td>\n",
       "      <td>1.652874</td>\n",
       "      <td>1</td>\n",
       "    </tr>\n",
       "    <tr>\n",
       "      <th>4</th>\n",
       "      <td>Water supply; sewerage, waste management etc</td>\n",
       "      <td>1.096523</td>\n",
       "      <td>1</td>\n",
       "    </tr>\n",
       "  </tbody>\n",
       "</table>\n",
       "</div>"
      ],
      "text/plain": [
       "                                       Industry        LQ  UK\n",
       "0             Agriculture, forestry and fishing  2.031258   1\n",
       "1                          Mining and quarrying  7.051976   1\n",
       "2                                 Manufacturing  0.954301   1\n",
       "3                         Electricity, gas, etc  1.652874   1\n",
       "4  Water supply; sewerage, waste management etc  1.096523   1"
      ]
     },
     "execution_count": 363,
     "metadata": {},
     "output_type": "execute_result"
    }
   ],
   "source": [
    "f = \"fig6a_industry_mix\"\n",
    "f6a = eco_git_path + f + \".csv\"\n",
    "df.to_csv(\"data/\" + f + \".csv\")\n",
    "f += local_suffix\n",
    "open(\"visualisation/\" + f + \".html\", \"w\").write(\n",
    "    vega_embed.replace(\n",
    "        \"JSON_PATH\", f6a.replace(\"/data/\", \"/visualisation/\").replace(\".csv\", \".json\")\n",
    "    )\n",
    ")\n",
    "if LOCAL:\n",
    "    f6a = df\n",
    "readme = \"### \" + f + '\\n![\"' + f + '\"](visualisation/' + f + '.png \"' + f + '\")\\n\\n'\n",
    "df.head()"
   ]
  },
  {
   "cell_type": "code",
   "execution_count": 364,
   "metadata": {},
   "outputs": [
    {
     "data": {
      "text/html": [
       "\n",
       "<div id=\"altair-viz-e85fa71fb9474efeac330860b3203e50\"></div>\n",
       "<script type=\"text/javascript\">\n",
       "  (function(spec, embedOpt){\n",
       "    let outputDiv = document.currentScript.previousElementSibling;\n",
       "    if (outputDiv.id !== \"altair-viz-e85fa71fb9474efeac330860b3203e50\") {\n",
       "      outputDiv = document.getElementById(\"altair-viz-e85fa71fb9474efeac330860b3203e50\");\n",
       "    }\n",
       "    const paths = {\n",
       "      \"vega\": \"https://cdn.jsdelivr.net/npm//vega@5?noext\",\n",
       "      \"vega-lib\": \"https://cdn.jsdelivr.net/npm//vega-lib?noext\",\n",
       "      \"vega-lite\": \"https://cdn.jsdelivr.net/npm//vega-lite@4.8.1?noext\",\n",
       "      \"vega-embed\": \"https://cdn.jsdelivr.net/npm//vega-embed@6?noext\",\n",
       "    };\n",
       "\n",
       "    function loadScript(lib) {\n",
       "      return new Promise(function(resolve, reject) {\n",
       "        var s = document.createElement('script');\n",
       "        s.src = paths[lib];\n",
       "        s.async = true;\n",
       "        s.onload = () => resolve(paths[lib]);\n",
       "        s.onerror = () => reject(`Error loading script: ${paths[lib]}`);\n",
       "        document.getElementsByTagName(\"head\")[0].appendChild(s);\n",
       "      });\n",
       "    }\n",
       "\n",
       "    function showError(err) {\n",
       "      outputDiv.innerHTML = `<div class=\"error\" style=\"color:red;\">${err}</div>`;\n",
       "      throw err;\n",
       "    }\n",
       "\n",
       "    function displayChart(vegaEmbed) {\n",
       "      vegaEmbed(outputDiv, spec, embedOpt)\n",
       "        .catch(err => showError(`Javascript Error: ${err.message}<br>This usually means there's a typo in your chart specification. See the javascript console for the full traceback.`));\n",
       "    }\n",
       "\n",
       "    if(typeof define === \"function\" && define.amd) {\n",
       "      requirejs.config({paths});\n",
       "      require([\"vega-embed\"], displayChart, err => showError(`Error loading script: ${err.message}`));\n",
       "    } else if (typeof vegaEmbed === \"function\") {\n",
       "      displayChart(vegaEmbed);\n",
       "    } else {\n",
       "      loadScript(\"vega\")\n",
       "        .then(() => loadScript(\"vega-lite\"))\n",
       "        .then(() => loadScript(\"vega-embed\"))\n",
       "        .catch(showError)\n",
       "        .then(() => displayChart(vegaEmbed));\n",
       "    }\n",
       "  })({\"config\": {\"view\": {\"continuousWidth\": 400, \"continuousHeight\": 300, \"stroke\": null}}, \"layer\": [{\"mark\": {\"type\": \"bar\", \"color\": \"#F4134D\", \"opacity\": 0.9}, \"encoding\": {\"color\": {\"type\": \"nominal\", \"field\": \"Industry\", \"legend\": null}, \"x\": {\"type\": \"nominal\", \"axis\": null, \"field\": \"Industry\"}, \"y\": {\"type\": \"quantitative\", \"axis\": {\"domainColor\": \"#676A86\", \"gridOpacity\": 0.3, \"labelColor\": \"#676A86\", \"tickColor\": \"#676A86\", \"title\": [\"Location quotient (LQ)\", \"Industry share of employment in Scotland\", \"is the same as it is in the UK, when LQ=1\"], \"titleAlign\": \"left\", \"titleAngle\": 0, \"titleBaseline\": \"bottom\", \"titleColor\": \"#676A86\", \"titleX\": 5, \"titleY\": 5}, \"field\": \"LQ\", \"sort\": []}}}, {\"mark\": {\"type\": \"text\", \"align\": \"left\", \"angle\": 270, \"dx\": 5}, \"encoding\": {\"color\": {\"type\": \"nominal\", \"field\": \"Industry\", \"legend\": null}, \"text\": {\"type\": \"nominal\", \"field\": \"Industry\"}, \"x\": {\"type\": \"nominal\", \"axis\": null, \"field\": \"Industry\"}, \"y\": {\"type\": \"quantitative\", \"axis\": {\"domainColor\": \"#676A86\", \"gridOpacity\": 0.3, \"labelColor\": \"#676A86\", \"tickColor\": \"#676A86\", \"title\": [\"Location quotient (LQ)\", \"Industry share of employment in Scotland\", \"is the same as it is in the UK, when LQ=1\"], \"titleAlign\": \"left\", \"titleAngle\": 0, \"titleBaseline\": \"bottom\", \"titleColor\": \"#676A86\", \"titleX\": 5, \"titleY\": 5}, \"field\": \"LQ\", \"sort\": []}}, \"transform\": [{\"filter\": \"datum.Industry!='Mining and quarrying'\"}]}, {\"mark\": {\"type\": \"text\", \"align\": \"right\", \"angle\": 270, \"color\": \"white\", \"dx\": -5}, \"encoding\": {\"text\": {\"type\": \"nominal\", \"field\": \"Industry\"}, \"x\": {\"type\": \"nominal\", \"field\": \"Industry\"}, \"y\": {\"type\": \"quantitative\", \"field\": \"LQ\"}}, \"transform\": [{\"filter\": \"datum.Industry=='Mining and quarrying'\"}]}, {\"mark\": {\"type\": \"line\", \"color\": \"#676A86\", \"strokeDash\": [5, 5], \"strokeWidth\": 1}, \"encoding\": {\"x\": {\"type\": \"nominal\", \"field\": \"Industry\"}, \"y\": {\"type\": \"quantitative\", \"field\": \"UK\"}}}], \"data\": {\"url\": \"https://raw.githubusercontent.com/EconomicsObservatory/ECOvisualisations/main/articles/scottish-independence-what-are-the-big-economic-questions/data/fig6a_industry_mix.csv\"}, \"height\": 300, \"title\": \"\", \"width\": 400, \"$schema\": \"https://vega.github.io/schema/vega-lite/v4.8.1.json\"}, {\"mode\": \"vega-lite\"});\n",
       "</script>"
      ],
      "text/plain": [
       "alt.LayerChart(...)"
      ]
     },
     "execution_count": 364,
     "metadata": {},
     "output_type": "execute_result"
    }
   ],
   "source": [
    "base = alt.Chart(f6a).encode(\n",
    "    x=alt.X(\n",
    "        \"Industry:N\",\n",
    "        axis=None\n",
    "    )\n",
    ")\n",
    "bars = base.mark_bar(color=colors[\"eco-dot\"],opacity=0.9).encode(\n",
    "    color=alt.Color('Industry:N',legend=None),\n",
    "    y=alt.Y(\n",
    "        \"LQ:Q\",\n",
    "        sort=[],\n",
    "        axis=alt.Axis(\n",
    "#             grid=False,\n",
    "            gridOpacity=0.3,\n",
    "            title=[\"Location quotient (LQ)\",'Industry share of employment in Scotland','is the same as it is in the UK, when LQ=1'],\n",
    "            titleX=5,\n",
    "            titleY=5,\n",
    "            titleBaseline=\"bottom\",\n",
    "            titleAngle=0,\n",
    "            titleAlign=\"left\",\n",
    "            labelColor=colors[\"eco-gray\"],\n",
    "            titleColor=colors[\"eco-gray\"],\n",
    "            tickColor=colors[\"eco-gray\"],\n",
    "            domainColor=colors[\"eco-gray\"],\n",
    "        )\n",
    "    )\n",
    ")\n",
    "axis1 = (\n",
    "    base\n",
    "    .mark_line(strokeWidth=1, strokeDash=[5, 5], color=colors[\"eco-gray\"])\n",
    "    .encode(x=\"Industry:N\", y=\"UK:Q\")\n",
    ")\n",
    "text1=bars.mark_text(angle=270,align='left',dx=5).encode(text='Industry:N').transform_filter(\"datum.Industry!='Mining and quarrying'\")\n",
    "text2=base.mark_text(angle=270,align='right',dx=-5,color='white').encode(x='Industry:N',y='LQ:Q',text='Industry:N').transform_filter(\"datum.Industry=='Mining and quarrying'\")\n",
    "layer1 = (\n",
    "    ((bars+text1+text2+axis1).properties(height=300, width=400))\n",
    "    .configure_view(stroke=None)\n",
    "    .properties(title=\"\")\n",
    ")\n",
    "layer1.save(\"visualisation/\" + f + \".json\")\n",
    "layer1.save(\"visualisation/\" + f + \".png\")\n",
    "open(\"README.md\", \"a\").write(readme)\n",
    "layer1"
   ]
  },
  {
   "cell_type": "markdown",
   "metadata": {},
   "source": [
    "## b"
   ]
  }
 ],
 "metadata": {
  "kernelspec": {
   "display_name": "Python 3",
   "language": "python",
   "name": "python3"
  },
  "language_info": {
   "codemirror_mode": {
    "name": "ipython",
    "version": 3
   },
   "file_extension": ".py",
   "mimetype": "text/x-python",
   "name": "python",
   "nbconvert_exporter": "python",
   "pygments_lexer": "ipython3",
   "version": "3.8.8"
  }
 },
 "nbformat": 4,
 "nbformat_minor": 4
}
