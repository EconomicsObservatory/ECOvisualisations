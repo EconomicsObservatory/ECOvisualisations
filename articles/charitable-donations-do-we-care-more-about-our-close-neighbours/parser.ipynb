{
 "cells": [
  {
   "cell_type": "code",
   "execution_count": 1,
   "metadata": {},
   "outputs": [],
   "source": [
    "import json\n",
    "import altair as alt\n",
    "from altair import expr, datum\n",
    "import matplotlib.pyplot as plt\n",
    "import numpy as np\n",
    "import pandas as pd\n",
    "import requests"
   ]
  },
  {
   "cell_type": "code",
   "execution_count": 2,
   "metadata": {},
   "outputs": [],
   "source": [
    "import colorsys\n",
    "from matplotlib.colors import to_hex, to_rgb\n",
    "\n",
    "\n",
    "def scale_lightness(rgb, scale_l):\n",
    "    rgbhex = False\n",
    "    if \"#\" in rgb:\n",
    "        rgb = to_rgb(rgb)\n",
    "        rgbhex = True\n",
    "    # convert rgb to hls\n",
    "    h, l, s = colorsys.rgb_to_hls(*rgb)\n",
    "    # manipulate h, l, s values and return as rgb\n",
    "    c = colorsys.hls_to_rgb(h, min(1, l * scale_l), s=s)\n",
    "    if rgbhex:\n",
    "        c = to_hex(c)\n",
    "    return c"
   ]
  },
  {
   "cell_type": "code",
   "execution_count": 3,
   "metadata": {},
   "outputs": [],
   "source": [
    "LOCAL = False\n",
    "\n",
    "if LOCAL:\n",
    "    local_suffix = \"_local\"\n",
    "else:\n",
    "    local_suffix = \"\""
   ]
  },
  {
   "cell_type": "code",
   "execution_count": 4,
   "metadata": {},
   "outputs": [],
   "source": [
    "%%capture pwd\n",
    "!pwd"
   ]
  },
  {
   "cell_type": "code",
   "execution_count": 5,
   "metadata": {},
   "outputs": [
    {
     "data": {
      "text/plain": [
       "('charitable-donations-do-we-care-more-about-our-close-neighbours', 300, 500)"
      ]
     },
     "execution_count": 5,
     "metadata": {},
     "output_type": "execute_result"
    }
   ],
   "source": [
    "uid = pwd.stdout.split(\"/\")[-1].split(\"\\r\")[0]\n",
    "eco_git_home = (\n",
    "    \"https://raw.githubusercontent.com/EconomicsObservatory/ECOvisualisations/main/\"\n",
    ")\n",
    "eco_git_path = eco_git_home + \"articles/\" + uid + \"/data/\"\n",
    "vega_embed = requests.get(eco_git_home + \"guidelines/html/vega-embed.html\").text\n",
    "colors = json.loads(\n",
    "    requests.get(eco_git_home + \"guidelines/colors/eco-colors.json\").content\n",
    ")\n",
    "category_color = json.loads(\n",
    "    requests.get(eco_git_home + \"guidelines/colors/eco-category-color.json\").content\n",
    ")\n",
    "hue_color = json.loads(\n",
    "    requests.get(eco_git_home + \"guidelines/colors/eco-single-hue-color.json\").content\n",
    ")\n",
    "mhue_color = json.loads(\n",
    "    requests.get(eco_git_home + \"guidelines/colors/eco-multi-hue-color.json\").content\n",
    ")\n",
    "div_color = json.loads(\n",
    "    requests.get(eco_git_home + \"guidelines/colors/eco-diverging-color.json\").content\n",
    ")\n",
    "config = json.loads(\n",
    "    requests.get(eco_git_home + \"guidelines/charts/eco-global-config.json\").content\n",
    ")\n",
    "height = config[\"height\"]\n",
    "width = config[\"width\"]\n",
    "uid, height, width"
   ]
  },
  {
   "cell_type": "markdown",
   "metadata": {},
   "source": [
    "# Fig 1"
   ]
  },
  {
   "cell_type": "code",
   "execution_count": 44,
   "metadata": {},
   "outputs": [],
   "source": [
    "df = pd.read_excel(\"raw/revised_data.xlsx\")\n",
    "df['area']=df['area'].str.title()\n",
    "# df['id']=df['country']+' '+df['year'].astype(str)+' '+df['month'].astype(str)"
   ]
  },
  {
   "cell_type": "code",
   "execution_count": 45,
   "metadata": {},
   "outputs": [
    {
     "data": {
      "text/plain": [
       "6791"
      ]
     },
     "execution_count": 45,
     "metadata": {},
     "output_type": "execute_result"
    }
   ],
   "source": [
    "open('visualisation/fig1/donations.json','w').write(\\\n",
    "    json.dumps(list(df.groupby(['area','type','country','year']).sum()['real_amount']\\\n",
    "         .dropna().reset_index().rename(columns={'real_amount':'value'}).T.to_dict().values())))"
   ]
  },
  {
   "cell_type": "code",
   "execution_count": null,
   "metadata": {},
   "outputs": [],
   "source": []
  }
 ],
 "metadata": {
  "kernelspec": {
   "display_name": "Python 3",
   "language": "python",
   "name": "python3"
  },
  "language_info": {
   "codemirror_mode": {
    "name": "ipython",
    "version": 3
   },
   "file_extension": ".py",
   "mimetype": "text/x-python",
   "name": "python",
   "nbconvert_exporter": "python",
   "pygments_lexer": "ipython3",
   "version": "3.8.8"
  }
 },
 "nbformat": 4,
 "nbformat_minor": 4
}
