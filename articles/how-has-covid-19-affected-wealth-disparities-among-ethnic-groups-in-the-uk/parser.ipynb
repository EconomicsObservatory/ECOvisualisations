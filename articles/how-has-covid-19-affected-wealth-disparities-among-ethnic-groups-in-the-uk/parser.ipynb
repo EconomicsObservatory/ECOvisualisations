{
 "cells": [
  {
   "cell_type": "code",
   "execution_count": 121,
   "metadata": {},
   "outputs": [],
   "source": [
    "import json\n",
    "import altair as alt\n",
    "from altair import expr, datum\n",
    "import matplotlib.pyplot as plt\n",
    "import numpy as np\n",
    "import pandas as pd\n",
    "import requests"
   ]
  },
  {
   "cell_type": "code",
   "execution_count": 122,
   "metadata": {},
   "outputs": [],
   "source": [
    "import colorsys\n",
    "from matplotlib.colors import to_hex, to_rgb\n",
    "\n",
    "\n",
    "def scale_lightness(rgb, scale_l):\n",
    "    rgbhex = False\n",
    "    if \"#\" in rgb:\n",
    "        rgb = to_rgb(rgb)\n",
    "        rgbhex = True\n",
    "    # convert rgb to hls\n",
    "    h, l, s = colorsys.rgb_to_hls(*rgb)\n",
    "    # manipulate h, l, s values and return as rgb\n",
    "    c = colorsys.hls_to_rgb(h, min(1, l * scale_l), s=s)\n",
    "    if rgbhex:\n",
    "        c = to_hex(c)\n",
    "    return c"
   ]
  },
  {
   "cell_type": "code",
   "execution_count": 123,
   "metadata": {},
   "outputs": [],
   "source": [
    "LOCAL = True\n",
    "\n",
    "if LOCAL:\n",
    "    local_suffix = \"_local\"\n",
    "else:\n",
    "    local_suffix = \"\""
   ]
  },
  {
   "cell_type": "code",
   "execution_count": 124,
   "metadata": {},
   "outputs": [],
   "source": [
    "%%capture pwd\n",
    "!pwd"
   ]
  },
  {
   "cell_type": "code",
   "execution_count": 125,
   "metadata": {},
   "outputs": [
    {
     "data": {
      "text/plain": [
       "('how-has-covid-19-affected-wealth-disparities-among-ethnic-groups-in-the-uk',\n",
       " 300,\n",
       " 500)"
      ]
     },
     "execution_count": 125,
     "metadata": {},
     "output_type": "execute_result"
    }
   ],
   "source": [
    "uid = pwd.stdout.split(\"/\")[-1].split(\"\\r\")[0]\n",
    "eco_git_home = (\n",
    "    \"https://raw.githubusercontent.com/EconomicsObservatory/ECOvisualisations/main/\"\n",
    ")\n",
    "eco_git_path = eco_git_home + \"articles/\" + uid + \"/data/\"\n",
    "vega_embed = requests.get(eco_git_home + \"guidelines/html/vega-embed.html\").text\n",
    "colors = json.loads(\n",
    "    requests.get(eco_git_home + \"guidelines/colors/eco-colors.json\").content\n",
    ")\n",
    "category_color = json.loads(\n",
    "    requests.get(eco_git_home + \"guidelines/colors/eco-category-color.json\").content\n",
    ")\n",
    "hue_color = json.loads(\n",
    "    requests.get(eco_git_home + \"guidelines/colors/eco-single-hue-color.json\").content\n",
    ")\n",
    "mhue_color = json.loads(\n",
    "    requests.get(eco_git_home + \"guidelines/colors/eco-multi-hue-color.json\").content\n",
    ")\n",
    "div_color = json.loads(\n",
    "    requests.get(eco_git_home + \"guidelines/colors/eco-diverging-color.json\").content\n",
    ")\n",
    "config = json.loads(\n",
    "    requests.get(eco_git_home + \"guidelines/charts/eco-global-config.json\").content\n",
    ")\n",
    "height = config[\"height\"]\n",
    "width = config[\"width\"]\n",
    "uid, height, width"
   ]
  },
  {
   "cell_type": "markdown",
   "metadata": {},
   "source": [
    "# Fig 1"
   ]
  },
  {
   "cell_type": "code",
   "execution_count": 126,
   "metadata": {},
   "outputs": [],
   "source": [
    "df = pd.read_excel(\"raw/r7hhwealthethnicityfinal.xlsx\", sheet_name='Table 3',skiprows=3)\n",
    "df['HRP Ethnicity']=df['HRP Ethnicity'].str.replace(' background','')\n",
    "df.columns=['Ethnicity','v','v25','v975','p']\n",
    "df=df.sort_values(by='v')"
   ]
  },
  {
   "cell_type": "code",
   "execution_count": 127,
   "metadata": {},
   "outputs": [
    {
     "data": {
      "text/html": [
       "<div>\n",
       "<style scoped>\n",
       "    .dataframe tbody tr th:only-of-type {\n",
       "        vertical-align: middle;\n",
       "    }\n",
       "\n",
       "    .dataframe tbody tr th {\n",
       "        vertical-align: top;\n",
       "    }\n",
       "\n",
       "    .dataframe thead th {\n",
       "        text-align: right;\n",
       "    }\n",
       "</style>\n",
       "<table border=\"1\" class=\"dataframe\">\n",
       "  <thead>\n",
       "    <tr style=\"text-align: right;\">\n",
       "      <th></th>\n",
       "      <th>Ethnicity</th>\n",
       "      <th>v</th>\n",
       "      <th>v25</th>\n",
       "      <th>v975</th>\n",
       "      <th>p</th>\n",
       "    </tr>\n",
       "  </thead>\n",
       "  <tbody>\n",
       "    <tr>\n",
       "      <th>0</th>\n",
       "      <td>Other Asian</td>\n",
       "      <td>-280500</td>\n",
       "      <td>-341600</td>\n",
       "      <td>-221600</td>\n",
       "      <td>Statistically significant</td>\n",
       "    </tr>\n",
       "    <tr>\n",
       "      <th>9</th>\n",
       "      <td>Pakistani</td>\n",
       "      <td>-243700</td>\n",
       "      <td>-311700</td>\n",
       "      <td>-176200</td>\n",
       "      <td>Statistically significant</td>\n",
       "    </tr>\n",
       "    <tr>\n",
       "      <th>1</th>\n",
       "      <td>Bangladeshi</td>\n",
       "      <td>-201500</td>\n",
       "      <td>-292400</td>\n",
       "      <td>-105200</td>\n",
       "      <td>Statistically significant</td>\n",
       "    </tr>\n",
       "    <tr>\n",
       "      <th>2</th>\n",
       "      <td>Black African or Other Black</td>\n",
       "      <td>-153700</td>\n",
       "      <td>-201900</td>\n",
       "      <td>-103900</td>\n",
       "      <td>Statistically significant</td>\n",
       "    </tr>\n",
       "    <tr>\n",
       "      <th>5</th>\n",
       "      <td>Indian</td>\n",
       "      <td>-143100</td>\n",
       "      <td>-221200</td>\n",
       "      <td>-68300</td>\n",
       "      <td>Statistically significant</td>\n",
       "    </tr>\n",
       "  </tbody>\n",
       "</table>\n",
       "</div>"
      ],
      "text/plain": [
       "                      Ethnicity       v     v25    v975  \\\n",
       "0                   Other Asian -280500 -341600 -221600   \n",
       "9                     Pakistani -243700 -311700 -176200   \n",
       "1                   Bangladeshi -201500 -292400 -105200   \n",
       "2  Black African or Other Black -153700 -201900 -103900   \n",
       "5                        Indian -143100 -221200  -68300   \n",
       "\n",
       "                           p  \n",
       "0  Statistically significant  \n",
       "9  Statistically significant  \n",
       "1  Statistically significant  \n",
       "2  Statistically significant  \n",
       "5  Statistically significant  "
      ]
     },
     "execution_count": 127,
     "metadata": {},
     "output_type": "execute_result"
    }
   ],
   "source": [
    "f = \"fig1_wealth\"\n",
    "f1 = eco_git_path + f + \".csv\"\n",
    "df.to_csv(\"data/\" + f + \".csv\")\n",
    "f += local_suffix\n",
    "open(\"visualisation/\" + f + \".html\", \"w\").write(\n",
    "    vega_embed.replace(\n",
    "        \"JSON_PATH\", f1.replace(\"/data/\", \"/visualisation/\").replace(\".csv\", \".json\")\n",
    "    )\n",
    ")\n",
    "if LOCAL:\n",
    "    f1 = df\n",
    "readme = \"### \" + f + '\\n![\"' + f + '\"](visualisation/' + f + '.png \"' + f + '\")\\n\\n'\n",
    "df.head()"
   ]
  },
  {
   "cell_type": "code",
   "execution_count": null,
   "metadata": {},
   "outputs": [],
   "source": [
    "base = alt.Chart(f1).encode(\n",
    "    y=alt.Y(\n",
    "        \"Ethnicity:N\",\n",
    "        sort=[],\n",
    "        axis=alt.Axis(\n",
    "            grid=False,\n",
    "            title=\"\",\n",
    "            titleX=-5,\n",
    "            titleY=-5,\n",
    "            titleBaseline=\"bottom\",\n",
    "            titleAngle=0,\n",
    "            titleAlign=\"left\",\n",
    "            labelColor=colors[\"eco-gray\"],\n",
    "            titleColor=colors[\"eco-gray\"],\n",
    "            tickColor=colors[\"eco-gray\"],\n",
    "            domainColor=colors[\"eco-gray\"],\n",
    "        )\n",
    "    )\n",
    ")\n",
    "bar = base.mark_bar(color=colors[\"eco-turquiose\"]).encode(\n",
    "    x=alt.X(\n",
    "        \"v:Q\",\n",
    "        sort=[],\n",
    "        axis=alt.Axis(\n",
    "            grid=False,\n",
    "            # titleAlign=\"center\",\n",
    "            # titleAnchor=\"middle\",\n",
    "            title=\"estimated difference in total net household wealth (£)\",\n",
    "            titleY=25,\n",
    "            # titleX=207,\n",
    "            labelColor=colors[\"eco-gray\"],\n",
    "            titleColor=colors[\"eco-gray\"],\n",
    "            tickColor=colors[\"eco-gray\"],\n",
    "            domainColor=colors[\"eco-gray\"],\n",
    "            tickCount=10,\n",
    "            orient=\"bottom\",\n",
    "            labelAngle=0,\n",
    "        ),\n",
    "    )\n",
    ")\n",
    "errors = base.mark_rule(color=scale_lightness(colors[\"eco-turquiose\"],0.6),strokeWidth=1).encode(\n",
    "    x=\"v25:Q\",\n",
    "    x2=\"v975:Q\"\n",
    ")\n",
    "points1 = base.mark_tick(color=scale_lightness(colors[\"eco-turquiose\"],0.6),strokeWidth=1,size=7).encode(\n",
    "    x=\"v25:Q\"\n",
    ")\n",
    "points2 = points1.encode(\n",
    "    x=\"v975:Q\"\n",
    ")\n",
    "layer1 = (\n",
    "    ((bar+errors+points1+points2).properties(height=300, width=400))\n",
    "    .configure_view(stroke=None)\n",
    "    .properties(title=\"\")\n",
    ")\n",
    "layer1.save(\"visualisation/\" + f + \".json\")\n",
    "layer1.save(\"visualisation/\" + f + \".svg\")\n",
    "layer1.save(\"visualisation/\" + f + \".png\")\n",
    "open(\"README.md\", \"w\").write(readme)\n",
    "layer1"
   ]
  },
  {
   "cell_type": "markdown",
   "metadata": {},
   "source": [
    "# Fig 2"
   ]
  },
  {
   "cell_type": "code",
   "execution_count": null,
   "metadata": {},
   "outputs": [],
   "source": [
    "df = pd.read_excel(\"raw/r7hhwealthethnicityfinal.xlsx\", sheet_name='Table 1',skiprows=3,nrows=11).drop('Notes',axis=1)\n",
    "df['Other wealth']=df['Total net wealth (£)']-df['Net financial wealth (£)']-df['Net property wealth (£)']-\\\n",
    "       df['Physical wealth (£)']-df['Private pension wealth (£)']\n",
    "df.columns=[i.replace(' (£)','') for i in df.columns]\n",
    "df=df[['HRP Ethnicity',\n",
    " 'Net financial wealth',\n",
    " 'Net property wealth',\n",
    " 'Physical wealth',\n",
    " 'Private pension wealth',\n",
    " 'Other wealth']]\n",
    "df=df.set_index('HRP Ethnicity').stack().reset_index()\n",
    "df.columns=['Ethnicity','Wealth','value']"
   ]
  },
  {
   "cell_type": "code",
   "execution_count": null,
   "metadata": {},
   "outputs": [],
   "source": [
    "f = \"fig2_wealth_categories\"\n",
    "f2 = eco_git_path + f + \".csv\"\n",
    "df.to_csv(\"data/\" + f + \".csv\")\n",
    "f += local_suffix\n",
    "open(\"visualisation/\" + f + \".html\", \"w\").write(\n",
    "    vega_embed.replace(\n",
    "        \"JSON_PATH\", f2.replace(\"/data/\", \"/visualisation/\").replace(\".csv\", \".json\")\n",
    "    )\n",
    ")\n",
    "if LOCAL:\n",
    "    f2 = df\n",
    "readme = \"### \" + f + '\\n![\"' + f + '\"](visualisation/' + f + '.png \"' + f + '\")\\n\\n'\n",
    "df.head()"
   ]
  },
  {
   "cell_type": "code",
   "execution_count": null,
   "metadata": {},
   "outputs": [],
   "source": [
    "open('visualisation/fig2/wealth_categories.json','w').write(json.dumps(list(df.T.to_dict().values())))"
   ]
  }
 ],
 "metadata": {
  "kernelspec": {
   "display_name": "Python 3 (ipykernel)",
   "language": "python",
   "name": "python3"
  },
  "language_info": {
   "codemirror_mode": {
    "name": "ipython",
    "version": 3
   },
   "file_extension": ".py",
   "mimetype": "text/x-python",
   "name": "python",
   "nbconvert_exporter": "python",
   "pygments_lexer": "ipython3",
   "version": "3.9.7"
  }
 },
 "nbformat": 4,
 "nbformat_minor": 4
}
