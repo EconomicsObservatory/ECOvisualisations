{
 "cells": [
  {
   "cell_type": "code",
   "execution_count": 19,
   "id": "5de3618c-1ebe-49d2-a5ea-4e5370d33990",
   "metadata": {},
   "outputs": [],
   "source": [
    "import pandas as pd, json\n",
    "import matplotlib.pyplot as plt"
   ]
  },
  {
   "cell_type": "code",
   "execution_count": 21,
   "id": "fae4fe4a-04fd-417e-8dec-8f3a95c64851",
   "metadata": {},
   "outputs": [],
   "source": [
    "articles=json.loads(open('articles.json','r').read())\n",
    "authors=json.loads(open('authors.json','r').read())"
   ]
  },
  {
   "cell_type": "code",
   "execution_count": null,
   "id": "c098590f-fd10-4e61-9c18-2a935252c3e4",
   "metadata": {},
   "outputs": [],
   "source": []
  }
 ],
 "metadata": {
  "kernelspec": {
   "display_name": "Python 3",
   "language": "python",
   "name": "python3"
  },
  "language_info": {
   "codemirror_mode": {
    "name": "ipython",
    "version": 3
   },
   "file_extension": ".py",
   "mimetype": "text/x-python",
   "name": "python",
   "nbconvert_exporter": "python",
   "pygments_lexer": "ipython3",
   "version": "3.8.8"
  }
 },
 "nbformat": 4,
 "nbformat_minor": 5
}
