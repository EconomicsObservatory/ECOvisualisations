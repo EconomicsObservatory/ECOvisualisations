{
 "cells": [
  {
   "cell_type": "code",
   "execution_count": 12,
   "metadata": {},
   "outputs": [],
   "source": [
    "import pandas as pd, numpy as np"
   ]
  },
  {
   "cell_type": "code",
   "execution_count": 19,
   "metadata": {},
   "outputs": [],
   "source": [
    "df=pd.read_excel('Book1.xlsx')"
   ]
  },
  {
   "cell_type": "code",
   "execution_count": 39,
   "metadata": {},
   "outputs": [],
   "source": [
    "df=df.set_index('Unnamed: 0')"
   ]
  },
  {
   "cell_type": "code",
   "execution_count": 42,
   "metadata": {},
   "outputs": [
    {
     "name": "stdout",
     "output_type": "stream",
     "text": [
      "ITL2a North East Tees Valley and Durham\n",
      "ITL2b North East Northumberland and Tyne and Wear\n",
      "ITL2a North West Cumbria\n",
      "ITL2b North West Greater Manchester\n",
      "ITL2c North West Lancashire\n",
      "ITL2d North West Cheshire\n",
      "ITL2e North West Merseyside\n",
      "ITL2a Yorkshire and the Humber East Yorkshire and Northern Lincolnshire\n",
      "ITL2b Yorkshire and the Humber North Yorkshire\n",
      "ITL2c Yorkshire and the Humber South Yorkshire\n",
      "ITL2d Yorkshire and the Humber West Yorkshire\n",
      "ITL2a East Midlands Derbyshire and Nottinghamshire\n",
      "ITL2b East Midlands Leicestershire, Rutland and Northamptonshire\n",
      "ITL2c East Midlands Lincolnshire\n",
      "ITL2a West Midlands Herefordshire, Worcestershire and Warwickshire\n",
      "ITL2b West Midlands Shropshire and Staffordshire\n",
      "ITL2c West Midlands West Midlands (county)\n",
      "ITL2a East East Anglia\n",
      "ITL2b East Bedfordshire and Hertfordshire\n",
      "ITL2c East Essex\n",
      "ITL2a London Inner London - West\n",
      "ITL2b London Inner London - East\n",
      "ITL2c London Outer London - East and North East\n",
      "ITL2d London Outer London - South\n",
      "ITL2e London Outer London - West and North West\n",
      "ITL2a South East Berkshire, Buckinghamshire and Oxfordshire\n",
      "ITL2b South East Surrey, East and West Sussex\n",
      "ITL2c South East Hampshire and Isle of Wight\n",
      "ITL2d South East Kent\n",
      "ITL2a South West Gloucestershire, Wiltshire and Bristol/Bath area\n",
      "ITL2b South West Dorset and Somerset\n",
      "ITL2c South West Cornwall and Isles of Scilly\n",
      "ITL2d South West Devon\n",
      "ITL2a Wales West Wales and The Valleys\n",
      "ITL2b Wales East Wales\n",
      "ITL2a Scotland North Eastern Scotland\n",
      "ITL2b Scotland Highlands and Islands\n",
      "ITL2c Scotland Eastern Scotland\n",
      "ITL2d Scotland West Central Scotland\n",
      "ITL2e Scotland Southern Scotland\n",
      "ITL2a Northern Ireland Northern Ireland\n"
     ]
    }
   ],
   "source": [
    "d=[]\n",
    "for c in df.columns:\n",
    "     for i in df.index:\n",
    "          if str(df.loc[i,c])!='nan':\n",
    "            print(i,c,df.loc[i,c])\n",
    "            d.append({'itlcode':c+'#'+i,'itlname':df.loc[i,c]})"
   ]
  },
  {
   "cell_type": "code",
   "execution_count": 48,
   "metadata": {},
   "outputs": [
    {
     "data": {
      "text/plain": [
       "2885"
      ]
     },
     "execution_count": 48,
     "metadata": {},
     "output_type": "execute_result"
    }
   ],
   "source": [
    "open('regions.json','w').write(json.dumps(d))"
   ]
  },
  {
   "cell_type": "code",
   "execution_count": 47,
   "metadata": {},
   "outputs": [],
   "source": [
    "import json"
   ]
  }
 ],
 "metadata": {
  "kernelspec": {
   "display_name": "Python 3.10.2 64-bit",
   "language": "python",
   "name": "python3"
  },
  "language_info": {
   "codemirror_mode": {
    "name": "ipython",
    "version": 3
   },
   "file_extension": ".py",
   "mimetype": "text/x-python",
   "name": "python",
   "nbconvert_exporter": "python",
   "pygments_lexer": "ipython3",
   "version": "3.10.2"
  },
  "orig_nbformat": 4,
  "vscode": {
   "interpreter": {
    "hash": "9b4d75ac280b6c7c3aa43866cb82dc88915409b55fec83a093dd0284cb58708e"
   }
  }
 },
 "nbformat": 4,
 "nbformat_minor": 2
}
