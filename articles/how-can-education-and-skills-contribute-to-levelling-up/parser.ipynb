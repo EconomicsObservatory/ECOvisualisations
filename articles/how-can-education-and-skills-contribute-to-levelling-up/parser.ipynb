{
 "cells": [
  {
   "cell_type": "code",
   "execution_count": 362,
   "metadata": {},
   "outputs": [],
   "source": [
    "import json\n",
    "import altair as alt\n",
    "from altair import expr, datum\n",
    "import matplotlib.pyplot as plt\n",
    "import numpy as np\n",
    "import pandas as pd\n",
    "import requests"
   ]
  },
  {
   "cell_type": "code",
   "execution_count": 363,
   "metadata": {},
   "outputs": [],
   "source": [
    "import colorsys\n",
    "from matplotlib.colors import to_hex, to_rgb\n",
    "\n",
    "\n",
    "def scale_lightness(rgb, scale_l):\n",
    "    rgbhex = False\n",
    "    if \"#\" in rgb:\n",
    "        rgb = to_rgb(rgb)\n",
    "        rgbhex = True\n",
    "    # convert rgb to hls\n",
    "    h, l, s = colorsys.rgb_to_hls(*rgb)\n",
    "    # manipulate h, l, s values and return as rgb\n",
    "    c = colorsys.hls_to_rgb(h, min(1, l * scale_l), s=s)\n",
    "    if rgbhex:\n",
    "        c = to_hex(c)\n",
    "    return c"
   ]
  },
  {
   "cell_type": "code",
   "execution_count": 388,
   "metadata": {},
   "outputs": [],
   "source": [
    "LOCAL = False\n",
    "\n",
    "if LOCAL:\n",
    "    local_suffix = \"_local\"\n",
    "else:\n",
    "    local_suffix = \"\""
   ]
  },
  {
   "cell_type": "code",
   "execution_count": 389,
   "metadata": {},
   "outputs": [],
   "source": [
    "%%capture pwd\n",
    "!pwd"
   ]
  },
  {
   "cell_type": "code",
   "execution_count": 390,
   "metadata": {},
   "outputs": [
    {
     "data": {
      "text/plain": [
       "('how-can-education-and-skills-contribute-to-levelling-up', 300, 500)"
      ]
     },
     "execution_count": 390,
     "metadata": {},
     "output_type": "execute_result"
    }
   ],
   "source": [
    "uid = pwd.stdout.split(\"/\")[-1].split(\"\\r\")[0]\n",
    "eco_git_home = (\n",
    "    \"https://raw.githubusercontent.com/EconomicsObservatory/ECOvisualisations/main/\"\n",
    ")\n",
    "eco_git_path = eco_git_home + \"articles/\" + uid + \"/data/\"\n",
    "vega_embed = requests.get(eco_git_home + \"guidelines/html/vega-embed.html\").text\n",
    "colors = json.loads(\n",
    "    requests.get(eco_git_home + \"guidelines/colors/eco-colors.json\").content\n",
    ")\n",
    "category_color = json.loads(\n",
    "    requests.get(eco_git_home + \"guidelines/colors/eco-category-color.json\").content\n",
    ")\n",
    "hue_color = json.loads(\n",
    "    requests.get(eco_git_home + \"guidelines/colors/eco-single-hue-color.json\").content\n",
    ")\n",
    "mhue_color = json.loads(\n",
    "    requests.get(eco_git_home + \"guidelines/colors/eco-multi-hue-color.json\").content\n",
    ")\n",
    "div_color = json.loads(\n",
    "    requests.get(eco_git_home + \"guidelines/colors/eco-diverging-color.json\").content\n",
    ")\n",
    "config = json.loads(\n",
    "    requests.get(eco_git_home + \"guidelines/charts/eco-global-config.json\").content\n",
    ")\n",
    "height = config[\"height\"]\n",
    "width = config[\"width\"]\n",
    "uid, height, width"
   ]
  },
  {
   "cell_type": "markdown",
   "metadata": {},
   "source": [
    "# Fig 1"
   ]
  },
  {
   "cell_type": "code",
   "execution_count": 391,
   "metadata": {},
   "outputs": [],
   "source": [
    "df = pd.read_csv(\"raw/Default Dataset.csv\", header=None)\n",
    "df.columns=['inequality','elasticity','country']"
   ]
  },
  {
   "cell_type": "code",
   "execution_count": 392,
   "metadata": {},
   "outputs": [
    {
     "data": {
      "text/html": [
       "<div>\n",
       "<style scoped>\n",
       "    .dataframe tbody tr th:only-of-type {\n",
       "        vertical-align: middle;\n",
       "    }\n",
       "\n",
       "    .dataframe tbody tr th {\n",
       "        vertical-align: top;\n",
       "    }\n",
       "\n",
       "    .dataframe thead th {\n",
       "        text-align: right;\n",
       "    }\n",
       "</style>\n",
       "<table border=\"1\" class=\"dataframe\">\n",
       "  <thead>\n",
       "    <tr style=\"text-align: right;\">\n",
       "      <th></th>\n",
       "      <th>inequality</th>\n",
       "      <th>elasticity</th>\n",
       "      <th>country</th>\n",
       "    </tr>\n",
       "  </thead>\n",
       "  <tbody>\n",
       "    <tr>\n",
       "      <th>0</th>\n",
       "      <td>20.000000</td>\n",
       "      <td>0.270740</td>\n",
       "      <td>Sweden</td>\n",
       "    </tr>\n",
       "    <tr>\n",
       "      <th>1</th>\n",
       "      <td>20.903442</td>\n",
       "      <td>0.180551</td>\n",
       "      <td>Finland</td>\n",
       "    </tr>\n",
       "    <tr>\n",
       "      <th>2</th>\n",
       "      <td>22.021989</td>\n",
       "      <td>0.169535</td>\n",
       "      <td>Norway</td>\n",
       "    </tr>\n",
       "    <tr>\n",
       "      <th>3</th>\n",
       "      <td>22.021989</td>\n",
       "      <td>0.149570</td>\n",
       "      <td>Denmark</td>\n",
       "    </tr>\n",
       "    <tr>\n",
       "      <th>4</th>\n",
       "      <td>25.004780</td>\n",
       "      <td>0.319621</td>\n",
       "      <td>Germany</td>\n",
       "    </tr>\n",
       "  </tbody>\n",
       "</table>\n",
       "</div>"
      ],
      "text/plain": [
       "   inequality  elasticity  country\n",
       "0   20.000000    0.270740   Sweden\n",
       "1   20.903442    0.180551  Finland\n",
       "2   22.021989    0.169535   Norway\n",
       "3   22.021989    0.149570  Denmark\n",
       "4   25.004780    0.319621  Germany"
      ]
     },
     "execution_count": 392,
     "metadata": {},
     "output_type": "execute_result"
    }
   ],
   "source": [
    "f = \"fig1_inequality\"\n",
    "f1 = eco_git_path + f + \".csv\"\n",
    "df.to_csv(\"data/\" + f + \".csv\")\n",
    "f += local_suffix\n",
    "open(\"visualisation/\" + f + \".html\", \"w\").write(\n",
    "    vega_embed.replace(\n",
    "        \"JSON_PATH\", f1.replace(\"/data/\", \"/visualisation/\").replace(\".csv\", \".json\")\n",
    "    )\n",
    ")\n",
    "if LOCAL:\n",
    "    f1 = df\n",
    "readme = \"### \" + f + '\\n![\"' + f + '\"](visualisation/' + f + '.png \"' + f + '\")\\n\\n'\n",
    "df.head()"
   ]
  },
  {
   "cell_type": "code",
   "execution_count": 393,
   "metadata": {},
   "outputs": [
    {
     "data": {
      "text/html": [
       "\n",
       "<div id=\"altair-viz-6bea3b2c0f044b8aaa1bd0433381e266\"></div>\n",
       "<script type=\"text/javascript\">\n",
       "  var VEGA_DEBUG = (typeof VEGA_DEBUG == \"undefined\") ? {} : VEGA_DEBUG;\n",
       "  (function(spec, embedOpt){\n",
       "    let outputDiv = document.currentScript.previousElementSibling;\n",
       "    if (outputDiv.id !== \"altair-viz-6bea3b2c0f044b8aaa1bd0433381e266\") {\n",
       "      outputDiv = document.getElementById(\"altair-viz-6bea3b2c0f044b8aaa1bd0433381e266\");\n",
       "    }\n",
       "    const paths = {\n",
       "      \"vega\": \"https://cdn.jsdelivr.net/npm//vega@5?noext\",\n",
       "      \"vega-lib\": \"https://cdn.jsdelivr.net/npm//vega-lib?noext\",\n",
       "      \"vega-lite\": \"https://cdn.jsdelivr.net/npm//vega-lite@4.17.0?noext\",\n",
       "      \"vega-embed\": \"https://cdn.jsdelivr.net/npm//vega-embed@6?noext\",\n",
       "    };\n",
       "\n",
       "    function maybeLoadScript(lib, version) {\n",
       "      var key = `${lib.replace(\"-\", \"\")}_version`;\n",
       "      return (VEGA_DEBUG[key] == version) ?\n",
       "        Promise.resolve(paths[lib]) :\n",
       "        new Promise(function(resolve, reject) {\n",
       "          var s = document.createElement('script');\n",
       "          document.getElementsByTagName(\"head\")[0].appendChild(s);\n",
       "          s.async = true;\n",
       "          s.onload = () => {\n",
       "            VEGA_DEBUG[key] = version;\n",
       "            return resolve(paths[lib]);\n",
       "          };\n",
       "          s.onerror = () => reject(`Error loading script: ${paths[lib]}`);\n",
       "          s.src = paths[lib];\n",
       "        });\n",
       "    }\n",
       "\n",
       "    function showError(err) {\n",
       "      outputDiv.innerHTML = `<div class=\"error\" style=\"color:red;\">${err}</div>`;\n",
       "      throw err;\n",
       "    }\n",
       "\n",
       "    function displayChart(vegaEmbed) {\n",
       "      vegaEmbed(outputDiv, spec, embedOpt)\n",
       "        .catch(err => showError(`Javascript Error: ${err.message}<br>This usually means there's a typo in your chart specification. See the javascript console for the full traceback.`));\n",
       "    }\n",
       "\n",
       "    if(typeof define === \"function\" && define.amd) {\n",
       "      requirejs.config({paths});\n",
       "      require([\"vega-embed\"], displayChart, err => showError(`Error loading script: ${err.message}`));\n",
       "    } else {\n",
       "      maybeLoadScript(\"vega\", \"5\")\n",
       "        .then(() => maybeLoadScript(\"vega-lite\", \"4.17.0\"))\n",
       "        .then(() => maybeLoadScript(\"vega-embed\", \"6\"))\n",
       "        .catch(showError)\n",
       "        .then(() => displayChart(vegaEmbed));\n",
       "    }\n",
       "  })({\"config\": {\"view\": {\"continuousWidth\": 400, \"continuousHeight\": 300, \"stroke\": null}}, \"layer\": [{\"mark\": {\"type\": \"line\", \"opacity\": 0.4, \"stroke\": \"#676A86\", \"strokeWidth\": 1}, \"encoding\": {\"color\": {\"field\": \"country\", \"legend\": null, \"type\": \"nominal\"}, \"x\": {\"axis\": {\"domainColor\": \"#676A86\", \"grid\": false, \"labelAngle\": 0, \"labelColor\": \"#676A86\", \"orient\": \"bottom\", \"tickColor\": \"#676A86\", \"tickCount\": 10, \"title\": \"Income inequality (higher values \\u27a1 more inequality)\", \"titleAlign\": \"right\", \"titleAnchor\": \"end\", \"titleColor\": \"#676A86\", \"titleY\": -15}, \"field\": \"inequality\", \"scale\": {\"domain\": [18, 35]}, \"sort\": [], \"type\": \"quantitative\"}, \"y\": {\"axis\": {\"domainColor\": \"#676A86\", \"grid\": false, \"labelColor\": \"#676A86\", \"tickColor\": \"#676A86\", \"title\": \"Generational earnings elasticity (higher values \\u27a1 less mobility)\", \"titleAlign\": \"left\", \"titleAngle\": 0, \"titleBaseline\": \"bottom\", \"titleColor\": \"#676A86\", \"titleX\": -5, \"titleY\": -5}, \"field\": \"elasticity\", \"scale\": {\"domain\": [0.05, 0.6]}, \"sort\": [], \"type\": \"quantitative\"}}, \"transform\": [{\"on\": \"inequality\", \"regression\": \"elasticity\"}]}, {\"mark\": {\"type\": \"circle\", \"color\": \"#36B7B4\", \"size\": 50}, \"encoding\": {\"color\": {\"field\": \"country\", \"legend\": null, \"type\": \"nominal\"}, \"x\": {\"axis\": {\"domainColor\": \"#676A86\", \"grid\": false, \"labelAngle\": 0, \"labelColor\": \"#676A86\", \"orient\": \"bottom\", \"tickColor\": \"#676A86\", \"tickCount\": 10, \"title\": \"Income inequality (higher values \\u27a1 more inequality)\", \"titleAlign\": \"right\", \"titleAnchor\": \"end\", \"titleColor\": \"#676A86\", \"titleY\": -15}, \"field\": \"inequality\", \"scale\": {\"domain\": [18, 35]}, \"sort\": [], \"type\": \"quantitative\"}, \"y\": {\"axis\": {\"domainColor\": \"#676A86\", \"grid\": false, \"labelColor\": \"#676A86\", \"tickColor\": \"#676A86\", \"title\": \"Generational earnings elasticity (higher values \\u27a1 less mobility)\", \"titleAlign\": \"left\", \"titleAngle\": 0, \"titleBaseline\": \"bottom\", \"titleColor\": \"#676A86\", \"titleX\": -5, \"titleY\": -5}, \"field\": \"elasticity\", \"scale\": {\"domain\": [0.05, 0.6]}, \"sort\": [], \"type\": \"quantitative\"}}}, {\"mark\": {\"type\": \"text\", \"dy\": 10}, \"encoding\": {\"color\": {\"field\": \"country\", \"legend\": null, \"type\": \"nominal\"}, \"text\": {\"field\": \"country\", \"type\": \"nominal\"}, \"x\": {\"axis\": {\"domainColor\": \"#676A86\", \"grid\": false, \"labelAngle\": 0, \"labelColor\": \"#676A86\", \"orient\": \"bottom\", \"tickColor\": \"#676A86\", \"tickCount\": 10, \"title\": \"Income inequality (higher values \\u27a1 more inequality)\", \"titleAlign\": \"right\", \"titleAnchor\": \"end\", \"titleColor\": \"#676A86\", \"titleY\": -15}, \"field\": \"inequality\", \"scale\": {\"domain\": [18, 35]}, \"sort\": [], \"type\": \"quantitative\"}, \"y\": {\"axis\": {\"domainColor\": \"#676A86\", \"grid\": false, \"labelColor\": \"#676A86\", \"tickColor\": \"#676A86\", \"title\": \"Generational earnings elasticity (higher values \\u27a1 less mobility)\", \"titleAlign\": \"left\", \"titleAngle\": 0, \"titleBaseline\": \"bottom\", \"titleColor\": \"#676A86\", \"titleX\": -5, \"titleY\": -5}, \"field\": \"elasticity\", \"scale\": {\"domain\": [0.05, 0.6]}, \"sort\": [], \"type\": \"quantitative\"}}, \"transform\": [{\"filter\": {\"field\": \"country\", \"oneOf\": [\"Sweden\", \"Finland\", \"Denmark\", \"Germany\", \"New Zealand\", \"Canada\", \"Japan\", \"France\", \"Italy\", \"United States\"]}}]}, {\"mark\": {\"type\": \"text\", \"dy\": -10}, \"encoding\": {\"color\": {\"field\": \"country\", \"legend\": null, \"type\": \"nominal\"}, \"text\": {\"field\": \"country\", \"type\": \"nominal\"}, \"x\": {\"axis\": {\"domainColor\": \"#676A86\", \"grid\": false, \"labelAngle\": 0, \"labelColor\": \"#676A86\", \"orient\": \"bottom\", \"tickColor\": \"#676A86\", \"tickCount\": 10, \"title\": \"Income inequality (higher values \\u27a1 more inequality)\", \"titleAlign\": \"right\", \"titleAnchor\": \"end\", \"titleColor\": \"#676A86\", \"titleY\": -15}, \"field\": \"inequality\", \"scale\": {\"domain\": [18, 35]}, \"sort\": [], \"type\": \"quantitative\"}, \"y\": {\"axis\": {\"domainColor\": \"#676A86\", \"grid\": false, \"labelColor\": \"#676A86\", \"tickColor\": \"#676A86\", \"title\": \"Generational earnings elasticity (higher values \\u27a1 less mobility)\", \"titleAlign\": \"left\", \"titleAngle\": 0, \"titleBaseline\": \"bottom\", \"titleColor\": \"#676A86\", \"titleX\": -5, \"titleY\": -5}, \"field\": \"elasticity\", \"scale\": {\"domain\": [0.05, 0.6]}, \"sort\": [], \"type\": \"quantitative\"}}, \"transform\": [{\"filter\": {\"field\": \"country\", \"oneOf\": [\"United Kingdom\", \"Australia\", \"Norway\"]}}]}], \"data\": {\"url\": \"https://raw.githubusercontent.com/EconomicsObservatory/ECOvisualisations/main/articles/how-can-education-and-skills-contribute-to-levelling-up/data/fig1_inequality.csv\"}, \"height\": 300, \"title\": \"\", \"width\": 400, \"$schema\": \"https://vega.github.io/schema/vega-lite/v4.17.0.json\"}, {\"mode\": \"vega-lite\"});\n",
       "</script>"
      ],
      "text/plain": [
       "alt.LayerChart(...)"
      ]
     },
     "execution_count": 393,
     "metadata": {},
     "output_type": "execute_result"
    }
   ],
   "source": [
    "base = alt.Chart(f1).encode(\n",
    "    x=alt.X(\n",
    "        \"inequality:Q\",\n",
    "        sort=[],\n",
    "        axis=alt.Axis(\n",
    "            grid=False,\n",
    "            titleAlign=\"right\",\n",
    "            titleAnchor=\"end\",\n",
    "            title=\"Income inequality (higher values ➡ more inequality)\",\n",
    "            titleY=-15,\n",
    "            # titleX=207,\n",
    "            labelColor=colors[\"eco-gray\"],\n",
    "            titleColor=colors[\"eco-gray\"],\n",
    "            tickColor=colors[\"eco-gray\"],\n",
    "            domainColor=colors[\"eco-gray\"],\n",
    "            tickCount=10,\n",
    "            orient=\"bottom\",\n",
    "            labelAngle=0,\n",
    "        ),\n",
    "        scale=alt.Scale(domain=[18, 35]),\n",
    "    )\n",
    ")\n",
    "points = base.mark_circle(color=colors[\"eco-turquiose\"],size=50).encode(\n",
    "    y=alt.Y(\n",
    "        \"elasticity:Q\",\n",
    "        sort=[],\n",
    "        axis=alt.Axis(\n",
    "            grid=False,\n",
    "            title=\"Generational earnings elasticity (higher values ➡ less mobility)\",\n",
    "            titleX=-5,\n",
    "            titleY=-5,\n",
    "            titleBaseline=\"bottom\",\n",
    "            titleAngle=0,\n",
    "            titleAlign=\"left\",\n",
    "            labelColor=colors[\"eco-gray\"],\n",
    "            titleColor=colors[\"eco-gray\"],\n",
    "            tickColor=colors[\"eco-gray\"],\n",
    "            domainColor=colors[\"eco-gray\"],\n",
    "        ),\n",
    "        scale=alt.Scale(domain=[0.05, 0.6]),\n",
    "    ),\n",
    "    color=alt.Color('country:N',legend=None)\n",
    ")\n",
    "reg=points.transform_regression('inequality', 'elasticity').mark_line(strokeWidth=1,stroke=colors[\"eco-gray\"],opacity=0.4)\n",
    "top=['United Kingdom','Australia','Norway', ]\n",
    "bottom=['Sweden', 'Finland',  'Denmark', 'Germany', 'New Zealand',\n",
    "       'Canada', 'Japan', 'France', 'Italy',\n",
    "        'United States']\n",
    "labels1 = points.mark_text(dy=10).encode(text='country:N').transform_filter(\n",
    "    alt.FieldOneOfPredicate(field='country',oneOf=bottom)\n",
    ")\n",
    "labels2 = points.mark_text(dy=-10).encode(text='country:N').transform_filter(\n",
    "    alt.FieldOneOfPredicate(field='country',oneOf=top)\n",
    ")\n",
    "layer1 = (\n",
    "    ((reg+points+labels1+labels2).properties(height=300, width=400))\n",
    "    .configure_view(stroke=None)\n",
    "    .properties(title=\"\")\n",
    ")\n",
    "layer1.save(\"visualisation/\" + f + \".json\")\n",
    "layer1.save(\"visualisation/\" + f + \".png\")\n",
    "open(\"README.md\", \"w\").write(readme)\n",
    "layer1"
   ]
  },
  {
   "cell_type": "markdown",
   "metadata": {},
   "source": [
    "# Fig 2"
   ]
  },
  {
   "cell_type": "markdown",
   "metadata": {},
   "source": [
    "https://geoportal.statistics.gov.uk/"
   ]
  },
  {
   "cell_type": "markdown",
   "metadata": {},
   "source": [
    "Regions"
   ]
  },
  {
   "cell_type": "code",
   "execution_count": 394,
   "metadata": {},
   "outputs": [],
   "source": [
    "topo = json.loads(open(\"visualisation/fig2/Regions_(December_2021)_EN_BFC.json\", \"r\").read())"
   ]
  },
  {
   "cell_type": "code",
   "execution_count": 395,
   "metadata": {},
   "outputs": [
    {
     "data": {
      "text/plain": [
       "{'arcs': [[[0]], [[1, 2, 3]], [[4]]],\n",
       " 'type': 'MultiPolygon',\n",
       " 'properties': {'OBJECTID': 1,\n",
       "  'RGN21CD': 'E12000001',\n",
       "  'RGN21NM': 'North East',\n",
       "  'BNG_E': 417314,\n",
       "  'BNG_N': 600356,\n",
       "  'LONG': -1.72888,\n",
       "  'LAT': 55.297009,\n",
       "  'GlobalID': '{200E0AB8-C057-4318-8FA7-83AFAAE4532F}',\n",
       "  'SHAPE_Length': 13.036922133189785,\n",
       "  'SHAPE_Area': 1.2084824201331612}}"
      ]
     },
     "execution_count": 395,
     "metadata": {},
     "output_type": "execute_result"
    }
   ],
   "source": [
    "topo['objects']['Regions_(December_2021)_EN_BFC']['geometries'][0]"
   ]
  },
  {
   "cell_type": "code",
   "execution_count": 396,
   "metadata": {},
   "outputs": [],
   "source": [
    "df=pd.read_csv('raw/ks2_regional_and_local_authority_2016_to_2022_provisional.csv')"
   ]
  },
  {
   "cell_type": "code",
   "execution_count": 397,
   "metadata": {},
   "outputs": [],
   "source": [
    "df=df[df['geographic_level']=='Regional'][['time_period','region_code','region_name','pt_rwm_met_expected_standard','gender']]"
   ]
  },
  {
   "cell_type": "code",
   "execution_count": 398,
   "metadata": {},
   "outputs": [],
   "source": [
    "df['pt_rwm_met_expected_standard']=df['pt_rwm_met_expected_standard'].replace('x',np.nan).replace('c',np.nan).astype(float)\n",
    "df=df.dropna(subset=['pt_rwm_met_expected_standard'])\n",
    "df['year']=df['time_period'].astype(str).str[:4].astype(int)"
   ]
  },
  {
   "cell_type": "code",
   "execution_count": 399,
   "metadata": {},
   "outputs": [
    {
     "data": {
      "text/plain": [
       "25565"
      ]
     },
     "execution_count": 399,
     "metadata": {},
     "output_type": "execute_result"
    }
   ],
   "source": [
    "open('visualisation/fig2/data_regions.json','w').write(json.dumps(list(df.T.to_dict().values())))"
   ]
  },
  {
   "cell_type": "markdown",
   "metadata": {},
   "source": [
    "LADs"
   ]
  },
  {
   "cell_type": "code",
   "execution_count": 400,
   "metadata": {},
   "outputs": [],
   "source": [
    "topo = json.loads(open(\"visualisation/fig2/Counties_and_Unitary_Authorities_(December_2021)_EN_BFC.json\", \"r\").read())"
   ]
  },
  {
   "cell_type": "code",
   "execution_count": 401,
   "metadata": {},
   "outputs": [
    {
     "data": {
      "text/plain": [
       "{'arcs': [[2, 3, 4, 5, 6]],\n",
       " 'type': 'Polygon',\n",
       " 'properties': {'OBJECTID': 1,\n",
       "  'CTYCDE': 'E06000001',\n",
       "  'CTYNME': 'Hartlepool',\n",
       "  'BNG_E': 447160,\n",
       "  'BNG_N': 531474,\n",
       "  'LONG': -1.27018,\n",
       "  'LAT': 54.67614,\n",
       "  'GlobalID': '{36EA86F8-3163-4145-99A4-8E9586432638}',\n",
       "  'SHAPE_Length': 0.8998598929545726,\n",
       "  'SHAPE_Area': 0.013057380459647069}}"
      ]
     },
     "execution_count": 401,
     "metadata": {},
     "output_type": "execute_result"
    }
   ],
   "source": [
    "topo['objects'][list(topo['objects'].keys())[0]]['geometries'][0]"
   ]
  },
  {
   "cell_type": "code",
   "execution_count": 402,
   "metadata": {},
   "outputs": [],
   "source": [
    "df=pd.read_csv('raw/ks2_regional_and_local_authority_2016_to_2022_provisional.csv')"
   ]
  },
  {
   "cell_type": "code",
   "execution_count": 403,
   "metadata": {},
   "outputs": [],
   "source": [
    "df['la_name']=df['la_name'].str.replace(\"City of London,\", \"\").str.replace(\" City\", \"\").str.replace(\"City of \", \"\").str.replace(\" Islands\", \"\").\\\n",
    "        str.replace(\",\", \", \").str.replace(\"  \", \" \").str.strip()\n",
    "df=df[df['geographic_level']=='Local authority'][['time_period','new_la_code','la_name','pt_rwm_met_expected_standard','gender']]"
   ]
  },
  {
   "cell_type": "code",
   "execution_count": 404,
   "metadata": {},
   "outputs": [],
   "source": [
    "df['pt_rwm_met_expected_standard']=df['pt_rwm_met_expected_standard'].replace('x',np.nan).replace('c',np.nan).astype(float)\n",
    "df=df.dropna(subset=['pt_rwm_met_expected_standard'])\n",
    "df['year']=df['time_period'].astype(str).str[:4].astype(int)"
   ]
  },
  {
   "cell_type": "code",
   "execution_count": 405,
   "metadata": {},
   "outputs": [
    {
     "data": {
      "text/plain": [
       "336094"
      ]
     },
     "execution_count": 405,
     "metadata": {},
     "output_type": "execute_result"
    }
   ],
   "source": [
    "open('visualisation/fig2/data_lads.json','w').write(json.dumps(list(df.T.to_dict().values())))"
   ]
  },
  {
   "cell_type": "markdown",
   "metadata": {},
   "source": [
    "Save"
   ]
  },
  {
   "cell_type": "code",
   "execution_count": 406,
   "metadata": {},
   "outputs": [
    {
     "data": {
      "text/plain": [
       "153"
      ]
     },
     "execution_count": 406,
     "metadata": {},
     "output_type": "execute_result"
    }
   ],
   "source": [
    "len(df['la_name'].unique())"
   ]
  },
  {
   "cell_type": "code",
   "execution_count": 407,
   "metadata": {},
   "outputs": [
    {
     "data": {
      "text/plain": [
       "178"
      ]
     },
     "execution_count": 407,
     "metadata": {},
     "output_type": "execute_result"
    }
   ],
   "source": [
    "readme = (\n",
    "    \"### fig2_school\"\n",
    "    + \"\\n[Interactive map](https://economicsobservatory.github.io/ECOvisualisations/articles/\"+uid+\"/visualisation/fig2/)\\n\\n\"\n",
    ")\n",
    "open(\"README.md\", \"a\").write(readme)"
   ]
  },
  {
   "cell_type": "markdown",
   "metadata": {},
   "source": [
    "# Fig 3"
   ]
  },
  {
   "cell_type": "code",
   "execution_count": 408,
   "metadata": {},
   "outputs": [],
   "source": [
    "df = pd.read_excel(\"raw/Book1.xlsx\", header=None)\n",
    "df['year']=df[0].str.split(',').str[0]\n",
    "df['state']=df[0].str.split(',').str[1]\n",
    "df=df.drop(0,axis=1).astype(float)\n",
    "df['year']+=2004\n",
    "df['year']=df['year'].apply(lambda x: int(x))\n",
    "df1=df.groupby('year').mean()\n",
    "\n",
    "df = pd.read_excel(\"raw/Book1.xlsx\", header=None,sheet_name='Sheet2')\n",
    "df['year']=df[0].str.split(',').str[0]\n",
    "df['private']=df[0].str.split(',').str[1]\n",
    "df=df.drop(0,axis=1).astype(float)\n",
    "df['year']=df['year']*1.02+2003.9\n",
    "df['year']=df['year'].apply(lambda x: int(x))\n",
    "df2=df.groupby('year').mean()\n",
    "\n",
    "df = pd.read_excel(\"raw/Book1.xlsx\", header=None,sheet_name='Sheet3')\n",
    "df['year']=df[0].str.split(',').str[0]\n",
    "df['bursary']=df[0].str.split(',').str[1]\n",
    "df=df.drop(0,axis=1).astype(float)\n",
    "df['year']=df['year']*1.02+2003.9\n",
    "df['year']=df['year'].apply(lambda x: int(x))\n",
    "df3=df.groupby('year').mean()"
   ]
  },
  {
   "cell_type": "code",
   "execution_count": 409,
   "metadata": {},
   "outputs": [],
   "source": [
    "df=df1.join(df2).join(df3).reset_index()"
   ]
  },
  {
   "cell_type": "code",
   "execution_count": 410,
   "metadata": {},
   "outputs": [
    {
     "data": {
      "text/html": [
       "<div>\n",
       "<style scoped>\n",
       "    .dataframe tbody tr th:only-of-type {\n",
       "        vertical-align: middle;\n",
       "    }\n",
       "\n",
       "    .dataframe tbody tr th {\n",
       "        vertical-align: top;\n",
       "    }\n",
       "\n",
       "    .dataframe thead th {\n",
       "        text-align: right;\n",
       "    }\n",
       "</style>\n",
       "<table border=\"1\" class=\"dataframe\">\n",
       "  <thead>\n",
       "    <tr style=\"text-align: right;\">\n",
       "      <th></th>\n",
       "      <th>year</th>\n",
       "      <th>state</th>\n",
       "      <th>private</th>\n",
       "      <th>bursary</th>\n",
       "    </tr>\n",
       "  </thead>\n",
       "  <tbody>\n",
       "    <tr>\n",
       "      <th>0</th>\n",
       "      <td>2003</td>\n",
       "      <td>6011.712290</td>\n",
       "      <td>8945.050230</td>\n",
       "      <td>9706.679464</td>\n",
       "    </tr>\n",
       "    <tr>\n",
       "      <th>1</th>\n",
       "      <td>2004</td>\n",
       "      <td>6261.519369</td>\n",
       "      <td>9094.905539</td>\n",
       "      <td>9839.803857</td>\n",
       "    </tr>\n",
       "    <tr>\n",
       "      <th>2</th>\n",
       "      <td>2005</td>\n",
       "      <td>6631.669335</td>\n",
       "      <td>9413.020491</td>\n",
       "      <td>10112.290344</td>\n",
       "    </tr>\n",
       "    <tr>\n",
       "      <th>3</th>\n",
       "      <td>2006</td>\n",
       "      <td>6879.883758</td>\n",
       "      <td>9830.679104</td>\n",
       "      <td>10549.402021</td>\n",
       "    </tr>\n",
       "    <tr>\n",
       "      <th>4</th>\n",
       "      <td>2007</td>\n",
       "      <td>7169.085422</td>\n",
       "      <td>10470.006905</td>\n",
       "      <td>11322.903324</td>\n",
       "    </tr>\n",
       "  </tbody>\n",
       "</table>\n",
       "</div>"
      ],
      "text/plain": [
       "   year        state       private       bursary\n",
       "0  2003  6011.712290   8945.050230   9706.679464\n",
       "1  2004  6261.519369   9094.905539   9839.803857\n",
       "2  2005  6631.669335   9413.020491  10112.290344\n",
       "3  2006  6879.883758   9830.679104  10549.402021\n",
       "4  2007  7169.085422  10470.006905  11322.903324"
      ]
     },
     "execution_count": 410,
     "metadata": {},
     "output_type": "execute_result"
    }
   ],
   "source": [
    "f = \"fig3_private_schools\"\n",
    "f3 = eco_git_path + f + \".csv\"\n",
    "df.to_csv(\"data/\" + f + \".csv\")\n",
    "f += local_suffix\n",
    "open(\"visualisation/\" + f + \".html\", \"w\").write(\n",
    "    vega_embed.replace(\n",
    "        \"JSON_PATH\", f3.replace(\"/data/\", \"/visualisation/\").replace(\".csv\", \".json\")\n",
    "    )\n",
    ")\n",
    "if LOCAL:\n",
    "    f3 = df\n",
    "readme = \"### \" + f + '\\n![\"' + f + '\"](visualisation/' + f + '.png \"' + f + '\")\\n\\n'\n",
    "df.head()"
   ]
  },
  {
   "cell_type": "code",
   "execution_count": 411,
   "metadata": {},
   "outputs": [
    {
     "data": {
      "text/html": [
       "\n",
       "<div id=\"altair-viz-5d708163972742738963fc306d134eca\"></div>\n",
       "<script type=\"text/javascript\">\n",
       "  var VEGA_DEBUG = (typeof VEGA_DEBUG == \"undefined\") ? {} : VEGA_DEBUG;\n",
       "  (function(spec, embedOpt){\n",
       "    let outputDiv = document.currentScript.previousElementSibling;\n",
       "    if (outputDiv.id !== \"altair-viz-5d708163972742738963fc306d134eca\") {\n",
       "      outputDiv = document.getElementById(\"altair-viz-5d708163972742738963fc306d134eca\");\n",
       "    }\n",
       "    const paths = {\n",
       "      \"vega\": \"https://cdn.jsdelivr.net/npm//vega@5?noext\",\n",
       "      \"vega-lib\": \"https://cdn.jsdelivr.net/npm//vega-lib?noext\",\n",
       "      \"vega-lite\": \"https://cdn.jsdelivr.net/npm//vega-lite@4.17.0?noext\",\n",
       "      \"vega-embed\": \"https://cdn.jsdelivr.net/npm//vega-embed@6?noext\",\n",
       "    };\n",
       "\n",
       "    function maybeLoadScript(lib, version) {\n",
       "      var key = `${lib.replace(\"-\", \"\")}_version`;\n",
       "      return (VEGA_DEBUG[key] == version) ?\n",
       "        Promise.resolve(paths[lib]) :\n",
       "        new Promise(function(resolve, reject) {\n",
       "          var s = document.createElement('script');\n",
       "          document.getElementsByTagName(\"head\")[0].appendChild(s);\n",
       "          s.async = true;\n",
       "          s.onload = () => {\n",
       "            VEGA_DEBUG[key] = version;\n",
       "            return resolve(paths[lib]);\n",
       "          };\n",
       "          s.onerror = () => reject(`Error loading script: ${paths[lib]}`);\n",
       "          s.src = paths[lib];\n",
       "        });\n",
       "    }\n",
       "\n",
       "    function showError(err) {\n",
       "      outputDiv.innerHTML = `<div class=\"error\" style=\"color:red;\">${err}</div>`;\n",
       "      throw err;\n",
       "    }\n",
       "\n",
       "    function displayChart(vegaEmbed) {\n",
       "      vegaEmbed(outputDiv, spec, embedOpt)\n",
       "        .catch(err => showError(`Javascript Error: ${err.message}<br>This usually means there's a typo in your chart specification. See the javascript console for the full traceback.`));\n",
       "    }\n",
       "\n",
       "    if(typeof define === \"function\" && define.amd) {\n",
       "      requirejs.config({paths});\n",
       "      require([\"vega-embed\"], displayChart, err => showError(`Error loading script: ${err.message}`));\n",
       "    } else {\n",
       "      maybeLoadScript(\"vega\", \"5\")\n",
       "        .then(() => maybeLoadScript(\"vega-lite\", \"4.17.0\"))\n",
       "        .then(() => maybeLoadScript(\"vega-embed\", \"6\"))\n",
       "        .catch(showError)\n",
       "        .then(() => displayChart(vegaEmbed));\n",
       "    }\n",
       "  })({\"config\": {\"view\": {\"continuousWidth\": 400, \"continuousHeight\": 300, \"stroke\": null}}, \"layer\": [{\"mark\": {\"type\": \"line\", \"color\": \"#36B7B4\"}, \"encoding\": {\"x\": {\"axis\": {\"domainColor\": \"#676A86\", \"format\": \".0f\", \"grid\": false, \"labelAngle\": 0, \"labelColor\": \"#676A86\", \"orient\": \"bottom\", \"tickColor\": \"#676A86\", \"tickCount\": 10, \"title\": \"school-year starting in \\u2b07\", \"titleAlign\": \"right\", \"titleAnchor\": \"end\", \"titleColor\": \"#676A86\", \"titleY\": -15}, \"field\": \"year\", \"sort\": [], \"type\": \"quantitative\"}, \"y\": {\"axis\": {\"domainColor\": \"#676A86\", \"format\": \"s\", \"gridColor\": \"#676A86\", \"gridOpacity\": 0.2, \"labelColor\": \"#676A86\", \"tickColor\": \"#676A86\", \"title\": \"Per pupil average price (\\u00a3) in school-year starting in 2021\", \"titleAlign\": \"left\", \"titleAngle\": 0, \"titleBaseline\": \"bottom\", \"titleColor\": \"#676A86\", \"titleX\": -5, \"titleY\": -5}, \"field\": \"state\", \"sort\": [], \"type\": \"quantitative\"}}}, {\"mark\": {\"type\": \"line\", \"color\": \"#179FDB\", \"strokeDash\": [10, 5]}, \"encoding\": {\"x\": {\"axis\": {\"domainColor\": \"#676A86\", \"format\": \".0f\", \"grid\": false, \"labelAngle\": 0, \"labelColor\": \"#676A86\", \"orient\": \"bottom\", \"tickColor\": \"#676A86\", \"tickCount\": 10, \"title\": \"school-year starting in \\u2b07\", \"titleAlign\": \"right\", \"titleAnchor\": \"end\", \"titleColor\": \"#676A86\", \"titleY\": -15}, \"field\": \"year\", \"sort\": [], \"type\": \"quantitative\"}, \"y\": {\"field\": \"private\", \"type\": \"quantitative\"}}}, {\"mark\": {\"type\": \"line\", \"color\": \"#0063AF\"}, \"encoding\": {\"x\": {\"axis\": {\"domainColor\": \"#676A86\", \"format\": \".0f\", \"grid\": false, \"labelAngle\": 0, \"labelColor\": \"#676A86\", \"orient\": \"bottom\", \"tickColor\": \"#676A86\", \"tickCount\": 10, \"title\": \"school-year starting in \\u2b07\", \"titleAlign\": \"right\", \"titleAnchor\": \"end\", \"titleColor\": \"#676A86\", \"titleY\": -15}, \"field\": \"year\", \"sort\": [], \"type\": \"quantitative\"}, \"y\": {\"field\": \"bursary\", \"type\": \"quantitative\"}}}, {\"data\": {\"name\": \"data-513e281020e41de9518cbbc9b6f46924\"}, \"mark\": {\"type\": \"text\", \"align\": \"right\", \"color\": \"#36B7B4\"}, \"encoding\": {\"text\": {\"field\": \"t\", \"type\": \"nominal\"}, \"x\": {\"field\": \"x\", \"type\": \"quantitative\"}, \"y\": {\"field\": \"y\", \"type\": \"quantitative\"}}}, {\"data\": {\"name\": \"data-1ac81df667016b11a683ad9af7f09c40\"}, \"mark\": {\"type\": \"text\", \"align\": \"right\", \"angle\": 352, \"color\": \"#179FDB\"}, \"encoding\": {\"text\": {\"field\": \"t\", \"type\": \"nominal\"}, \"x\": {\"field\": \"x\", \"type\": \"quantitative\"}, \"y\": {\"field\": \"y\", \"type\": \"quantitative\"}}}, {\"data\": {\"name\": \"data-7d2ddeb9ddeebb06daf9344e363acf7d\"}, \"mark\": {\"type\": \"text\", \"align\": \"right\", \"angle\": 350, \"color\": \"#0063AF\"}, \"encoding\": {\"text\": {\"field\": \"t\", \"type\": \"nominal\"}, \"x\": {\"field\": \"x\", \"type\": \"quantitative\"}, \"y\": {\"field\": \"y\", \"type\": \"quantitative\"}}}, {\"data\": {\"name\": \"data-4d46c9ba62880863cd688754262933ec\"}, \"mark\": {\"type\": \"text\", \"align\": \"right\", \"angle\": 270, \"color\": \"#676A86\"}, \"encoding\": {\"text\": {\"field\": \"t\", \"type\": \"nominal\"}, \"x\": {\"field\": \"x\", \"type\": \"quantitative\"}, \"y\": {\"field\": \"y\", \"type\": \"quantitative\"}}}, {\"data\": {\"name\": \"data-8ef2304dbaea32a59a276ff9010f987f\"}, \"mark\": {\"type\": \"text\", \"align\": \"right\", \"angle\": 270, \"color\": \"#676A86\"}, \"encoding\": {\"text\": {\"field\": \"t\", \"type\": \"nominal\"}, \"x\": {\"field\": \"x\", \"type\": \"quantitative\"}, \"y\": {\"field\": \"y\", \"type\": \"quantitative\"}}}], \"data\": {\"url\": \"https://raw.githubusercontent.com/EconomicsObservatory/ECOvisualisations/main/articles/how-can-education-and-skills-contribute-to-levelling-up/data/fig3_private_schools.csv\"}, \"height\": 300, \"title\": \"\", \"width\": 400, \"$schema\": \"https://vega.github.io/schema/vega-lite/v4.17.0.json\", \"datasets\": {\"data-513e281020e41de9518cbbc9b6f46924\": [{\"x\": 2020, \"y\": 7500, \"t\": \"State-funded\"}], \"data-1ac81df667016b11a683ad9af7f09c40\": [{\"x\": 2020, \"y\": 13000, \"t\": \"Private minus bursaries\"}], \"data-7d2ddeb9ddeebb06daf9344e363acf7d\": [{\"x\": 2019, \"y\": 15700, \"t\": \"Private\"}], \"data-4d46c9ba62880863cd688754262933ec\": [{\"x\": 2009.5, \"y\": 11150, \"t\": \"\\u2b05 \\u00a33,100 \\u27a1\"}], \"data-8ef2304dbaea32a59a276ff9010f987f\": [{\"x\": 2019.5, \"y\": 11800, \"t\": \"\\u2b05  \\u00a36,500  \\u27a1\"}]}}, {\"mode\": \"vega-lite\"});\n",
       "</script>"
      ],
      "text/plain": [
       "alt.LayerChart(...)"
      ]
     },
     "execution_count": 411,
     "metadata": {},
     "output_type": "execute_result"
    }
   ],
   "source": [
    "base = alt.Chart(f3).encode(\n",
    "    x=alt.X(\n",
    "        \"year:Q\",\n",
    "        sort=[],\n",
    "        axis=alt.Axis(\n",
    "            grid=False,\n",
    "            titleAlign=\"right\",\n",
    "            titleAnchor=\"end\",\n",
    "            title=\"school-year starting in ⬇\",\n",
    "            titleY=-15,\n",
    "            labelColor=colors[\"eco-gray\"],\n",
    "            titleColor=colors[\"eco-gray\"],\n",
    "            tickColor=colors[\"eco-gray\"],\n",
    "            domainColor=colors[\"eco-gray\"],\n",
    "            tickCount=10,\n",
    "            orient=\"bottom\",\n",
    "            labelAngle=0,\n",
    "            format='.0f'\n",
    "        ),\n",
    "        # scale=alt.Scale(domain=[2002, 2020]),\n",
    "    )\n",
    ")\n",
    "line1 = base.mark_line(color=colors[\"eco-turquiose\"]).encode(\n",
    "    y=alt.Y(\n",
    "        \"state:Q\",\n",
    "        sort=[],\n",
    "        axis=alt.Axis(\n",
    "            # grid=False,\n",
    "            gridOpacity=0.2,\n",
    "            gridColor=colors[\"eco-gray\"],\n",
    "            title=\"Per pupil average price (£) in school-year starting in 2021\",\n",
    "            titleX=-5,\n",
    "            titleY=-5,\n",
    "            titleBaseline=\"bottom\",\n",
    "            titleAngle=0,\n",
    "            titleAlign=\"left\",\n",
    "            labelColor=colors[\"eco-gray\"],\n",
    "            titleColor=colors[\"eco-gray\"],\n",
    "            tickColor=colors[\"eco-gray\"],\n",
    "            domainColor=colors[\"eco-gray\"],\n",
    "            format='s'\n",
    "        ),\n",
    "        # scale=alt.Scale(domain=[-0.16, 0.06]),\n",
    "    )\n",
    ")\n",
    "line2=base.mark_line(color=colors[\"eco-light-blue\"],strokeDash=[10,5]).encode(\n",
    "    y=alt.Y(\n",
    "        \"private:Q\"\n",
    "    )\n",
    ")\n",
    "line3=base.mark_line(color=colors[\"eco-mid-blue\"]).encode(\n",
    "    y=alt.Y(\n",
    "        \"bursary:Q\"\n",
    "    )\n",
    ")\n",
    "label1=alt.Chart(pd.DataFrame([{'x':2020,'y':7500,'t':'State-funded'}])).mark_text(\n",
    "    color=colors[\"eco-turquiose\"],align='right').encode(\n",
    "    x='x:Q',y='y:Q',text='t:N'\n",
    ")\n",
    "label2=alt.Chart(pd.DataFrame([{'x':2020,'y':13000,'t':'Private minus bursaries'}])).mark_text(\n",
    "    color=colors[\"eco-light-blue\"],align='right',angle=352).encode(\n",
    "    x='x:Q',y='y:Q',text='t:N'\n",
    ")\n",
    "label3=alt.Chart(pd.DataFrame([{'x':2019,'y':15700,'t':'Private'}])).mark_text(\n",
    "    color=colors[\"eco-mid-blue\"],align='right',angle=350).encode(\n",
    "    x='x:Q',y='y:Q',text='t:N'\n",
    ")\n",
    "label4=alt.Chart(pd.DataFrame([{'x':2009.5,'y':11150,'t':'⬅ £3,100 ➡'}])).mark_text(\n",
    "    color=colors[\"eco-gray\"],align='right',angle=270).encode(\n",
    "    x='x:Q',y='y:Q',text='t:N'\n",
    ")\n",
    "label5=alt.Chart(pd.DataFrame([{'x':2019.5,'y':11800,'t':'⬅  £6,500  ➡'}])).mark_text(\n",
    "    color=colors[\"eco-gray\"],align='right',angle=270).encode(\n",
    "    x='x:Q',y='y:Q',text='t:N'\n",
    ")\n",
    "layer1 = (\n",
    "    ((line1+line2+line3+label1+label2+label3+label4+label5).properties(height=300, width=400))\n",
    "    .configure_view(stroke=None)\n",
    "    .properties(title=\"\")\n",
    ")\n",
    "layer1.save(\"visualisation/\" + f + \".json\")\n",
    "layer1.save(\"visualisation/\" + f + \".png\")\n",
    "open(\"README.md\", \"a\").write(readme)\n",
    "layer1"
   ]
  },
  {
   "cell_type": "code",
   "execution_count": null,
   "metadata": {},
   "outputs": [],
   "source": []
  }
 ],
 "metadata": {
  "kernelspec": {
   "display_name": "Python 3 (ipykernel)",
   "language": "python",
   "name": "python3"
  },
  "language_info": {
   "codemirror_mode": {
    "name": "ipython",
    "version": 3
   },
   "file_extension": ".py",
   "mimetype": "text/x-python",
   "name": "python",
   "nbconvert_exporter": "python",
   "pygments_lexer": "ipython3",
   "version": "3.9.7"
  }
 },
 "nbformat": 4,
 "nbformat_minor": 4
}
