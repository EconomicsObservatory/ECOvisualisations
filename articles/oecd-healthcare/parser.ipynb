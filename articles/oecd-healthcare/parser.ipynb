{
 "cells": [
  {
   "cell_type": "code",
   "execution_count": 2,
   "metadata": {
    "tags": []
   },
   "outputs": [],
   "source": [
    "# !pip install altair\n",
    "# !pip install altair_saver --upgrade\n",
    "# !npm install -g vega-lite vega-cli canvas\n",
    "# !pip install vl-convert-python --upgrade"
   ]
  },
  {
   "cell_type": "code",
   "execution_count": 4,
   "metadata": {
    "tags": []
   },
   "outputs": [],
   "source": [
    "# !pip install selenium --upgrade\n",
    "# !apt-get install chromium-chromedriver -y"
   ]
  },
  {
   "cell_type": "code",
   "execution_count": 6,
   "metadata": {
    "tags": []
   },
   "outputs": [],
   "source": [
    "# !apt update\n",
    "# !apt install ttf-mscorefonts-installer -y\n",
    "# !apt reinstall fontconfig fontconfig-config libfontconfig1 -y"
   ]
  },
  {
   "cell_type": "code",
   "execution_count": 8,
   "metadata": {
    "tags": []
   },
   "outputs": [],
   "source": [
    "# !wget https://raw.githubusercontent.com/EconomicsObservatory/ECOvisualisations/main/guidelines/fonts/Circular/CircularStd-Black.otf -P /usr/local/share/fonts\n",
    "# !wget https://raw.githubusercontent.com/EconomicsObservatory/ECOvisualisations/main/guidelines/fonts/Circular/CircularStd-Bold.otf -P /usr/local/share/fonts\n",
    "# !wget https://raw.githubusercontent.com/EconomicsObservatory/ECOvisualisations/main/guidelines/fonts/Circular/CircularStd-Book.otf -P /usr/local/share/fonts\n",
    "# !wget https://raw.githubusercontent.com/EconomicsObservatory/ECOvisualisations/main/guidelines/fonts/Circular/CircularStd-Medium.otf -P /usr/local/share/fonts"
   ]
  },
  {
   "cell_type": "code",
   "execution_count": 10,
   "metadata": {
    "tags": []
   },
   "outputs": [],
   "source": [
    "# !fc-cache -f"
   ]
  },
  {
   "cell_type": "code",
   "execution_count": 11,
   "metadata": {
    "tags": []
   },
   "outputs": [],
   "source": [
    "import json\n",
    "import altair as alt\n",
    "from altair import expr, datum\n",
    "import matplotlib.pyplot as plt\n",
    "import numpy as np\n",
    "import pandas as pd\n",
    "import requests\n",
    "import urllib.parse"
   ]
  },
  {
   "cell_type": "code",
   "execution_count": 12,
   "metadata": {
    "tags": []
   },
   "outputs": [],
   "source": [
    "import colorsys\n",
    "from matplotlib.colors import to_hex, to_rgb\n",
    "\n",
    "\n",
    "def scale_lightness(rgb, scale_l):\n",
    "    rgbhex = False\n",
    "    if \"#\" in rgb:\n",
    "        rgb = to_rgb(rgb)\n",
    "        rgbhex = True\n",
    "    # convert rgb to hls\n",
    "    h, l, s = colorsys.rgb_to_hls(*rgb)\n",
    "    # manipulate h, l, s values and return as rgb\n",
    "    c = colorsys.hls_to_rgb(h, min(1, l * scale_l), s=s)\n",
    "    if rgbhex:\n",
    "        c = to_hex(c)\n",
    "    return c"
   ]
  },
  {
   "cell_type": "code",
   "execution_count": 19,
   "metadata": {
    "tags": []
   },
   "outputs": [],
   "source": [
    "SAVE = True\n",
    "LOCAL = False\n",
    "DARK = True\n",
    "\n",
    "if LOCAL:\n",
    "    local_suffix = \"_local\"\n",
    "else:\n",
    "    local_suffix = \"\""
   ]
  },
  {
   "cell_type": "code",
   "execution_count": 20,
   "metadata": {
    "tags": []
   },
   "outputs": [],
   "source": [
    "%%capture pwd\n",
    "!pwd"
   ]
  },
  {
   "cell_type": "code",
   "execution_count": 21,
   "metadata": {
    "tags": []
   },
   "outputs": [
    {
     "data": {
      "text/plain": [
       "('oecd-healthcare', 300, 500)"
      ]
     },
     "execution_count": 21,
     "metadata": {},
     "output_type": "execute_result"
    }
   ],
   "source": [
    "uid = pwd.stdout.split(\"/\")[-1].split(\"\\r\")[0]\n",
    "uid=urllib.parse.quote(uid)\n",
    "if not LOCAL:\n",
    "    eco_git_home = (\n",
    "        \"https://raw.githubusercontent.com/EconomicsObservatory/ECOvisualisations/main/\"\n",
    "    )\n",
    "    vega_embed = requests.get(eco_git_home + \"guidelines/html/vega-embed.html\").text\n",
    "    colors = json.loads(\n",
    "        requests.get(eco_git_home + \"guidelines/colors/eco-colors.json\").content\n",
    "    )\n",
    "    category_color = json.loads(\n",
    "        requests.get(eco_git_home + \"guidelines/colors/eco-category-color.json\").content\n",
    "    )\n",
    "    hue_color = json.loads(\n",
    "        requests.get(eco_git_home + \"guidelines/colors/eco-single-hue-color.json\").content\n",
    "    )\n",
    "    mhue_color = json.loads(\n",
    "        requests.get(eco_git_home + \"guidelines/colors/eco-multi-hue-color.json\").content\n",
    "    )\n",
    "    div_color = json.loads(\n",
    "        requests.get(eco_git_home + \"guidelines/colors/eco-diverging-color.json\").content\n",
    "    )\n",
    "    config = json.loads(\n",
    "        requests.get(eco_git_home + \"guidelines/charts/eco-global-config.json\").content\n",
    "    )\n",
    "else:\n",
    "    eco_git_home = '/'.join(pwd.stdout.split(\"/\")[:-2])+'/'\n",
    "    vega_embed = open(eco_git_home + \"guidelines/html/vega-embed.html\",'r').read()\n",
    "    colors = json.load(\n",
    "        open(eco_git_home + \"guidelines/colors/eco-colors.json\",'r')\n",
    "    )\n",
    "    category_color = json.load(\n",
    "        open(eco_git_home + \"guidelines/colors/eco-category-color.json\",'r')\n",
    "    )\n",
    "    hue_color = json.load(\n",
    "        open(eco_git_home + \"guidelines/colors/eco-single-hue-color.json\",'r')\n",
    "    )\n",
    "    mhue_color = json.load(\n",
    "        open(eco_git_home + \"guidelines/colors/eco-multi-hue-color.json\",'r')\n",
    "    )\n",
    "    div_color = json.load(\n",
    "        open(eco_git_home + \"guidelines/colors/eco-diverging-color.json\",'r')\n",
    "    )\n",
    "    config = json.load(\n",
    "        open(eco_git_home + \"guidelines/charts/eco-global-config.json\",'r')\n",
    "    )\n",
    "eco_git_path = eco_git_home + \"articles/\" + uid + \"/data/\"\n",
    "mo=0.5\n",
    "height = config[\"height\"]\n",
    "width = config[\"width\"]\n",
    "uid, height, width"
   ]
  },
  {
   "cell_type": "code",
   "execution_count": 22,
   "metadata": {
    "tags": []
   },
   "outputs": [],
   "source": [
    "def save(df, f, LOCAL):\n",
    "    fc = eco_git_path + f + \".csv\"\n",
    "    df.to_csv(\"data/\" + f + \".csv\")\n",
    "    f += local_suffix\n",
    "    open(\"visualisation/\" + f + \".html\", \"w\").write(\n",
    "        vega_embed.replace(\n",
    "            \"JSON_PATH\", fc.replace(\"/data/\", \"/visualisation/\").replace(\".csv\", \".json\")\n",
    "        )\n",
    "    )\n",
    "    if LOCAL:\n",
    "        fc = df\n",
    "    \n",
    "    from IPython.display import display, HTML\n",
    "    display(HTML(df.head().to_html()))\n",
    "    \n",
    "    readme = \"## Figure \" + f.replace('fig','').split('_')[0] + \\\n",
    "        '  \\n\\nData: [`csv`](data/' + f + '.csv)' +\\\n",
    "        '  \\nGitHub: [' + f + '](https://github.com/EconomicsObservatory/ECOvisualisations/tree/main/articles/'+uid +')'+\\\n",
    "        ''+\\\n",
    "        '  \\n\\n### Light theme  \\n\\nVersions with data locally embedded into the `Vega-lite` specification file: ' + \\\n",
    "        '[`png`](visualisation/' + f + '_local.png) [`svg`](visualisation/' + f + '_local.svg) [`json`](visualisation/' + f + '_local.json) '+ \\\n",
    "        '  \\n (**Default**) Versions with data loaded from `GitHub`: ' + \\\n",
    "        '[`png`](visualisation/' + f + '.png) [`svg`](visualisation/' + f + '.svg) [`json`](visualisation/' + f + '.json)'+ \\\n",
    "        '  \\nVersions (no ECO branding) with data locally embedded into the `Vega-lite` specification file: ' + \\\n",
    "        '[`png`](visualisation/' + f + '_local_no_branding.png) [`svg`](visualisation/' + f + '_local_no_branding.svg) [`json`](visualisation/' + f + '_local_no_branding.json) '+ \\\n",
    "        '  \\nVersions (no ECO branding) with data loaded from `GitHub`: ' + \\\n",
    "        '[`png`](visualisation/' + f + '_no_branding.png) [`svg`](visualisation/' + f + '_no_branding.svg) [`json`](visualisation/' + f + '_no_branding.json) '+ \\\n",
    "        ''+\\\n",
    "        '  \\n\\n### Dark theme  \\n\\nVersions with data locally embedded into the `Vega-lite` specification file: ' + \\\n",
    "        '[`png`](visualisation/' + f + '_local_dark.png) [`svg`](visualisation/' + f + '_local_dark.svg) [`json`](visualisation/' + f + '_local_dark.json) '+ \\\n",
    "        '  \\n Versions with data loaded from `GitHub`: ' + \\\n",
    "        '[`png`](visualisation/' + f + '_dark.png) [`svg`](visualisation/' + f + '_dark.svg) [`json`](visualisation/' + f + '_dark.json)'+ \\\n",
    "        '  \\nVersions (no ECO branding) with data locally embedded into the `Vega-lite` specification file: ' + \\\n",
    "        '[`png`](visualisation/' + f + '_local_no_branding_dark.png) [`svg`](visualisation/' + f + '_local_no_branding_dark.svg) [`json`](visualisation/' + f + '_local_no_branding_dark.json) '+ \\\n",
    "        '  \\nVersions (no ECO branding) with data loaded from `GitHub`: ' + \\\n",
    "        '[`png`](visualisation/' + f + '_no_branding_dark.png) [`svg`](visualisation/' + f + '_no_branding_dark.svg) [`json`](visualisation/' + f + '_no_branding_dark.json) '+ \\\n",
    "        ''+\\\n",
    "        '  \\n\\n![\"' + f + '\"](visualisation/' + f + '.svg \"' + f + '\")\\n\\n' +\\\n",
    "        '  \\n\\n![\"' + f + '_dark\"](visualisation/' + f + '_dark.svg \"' + f + '\")\\n\\n' \n",
    "    return readme, f, fc"
   ]
  },
  {
   "cell_type": "code",
   "execution_count": 23,
   "metadata": {
    "tags": []
   },
   "outputs": [],
   "source": [
    "def area(base,color,opacity=1):\n",
    "    return base.mark_area(opacity=opacity,\n",
    "    interpolate=\"monotone\",\n",
    "    line={'color':color},\n",
    "    color=alt.Gradient(\n",
    "        gradient='linear',\n",
    "        stops=[alt.GradientStop(color='#ffffff00', offset=0.2),\n",
    "               alt.GradientStop(color=color, offset=0.8)],\n",
    "        x1=1, #0.8\n",
    "        y1=1,\n",
    "        x2=1,\n",
    "        y2=0\n",
    "        )\n",
    "    )"
   ]
  },
  {
   "cell_type": "code",
   "execution_count": 24,
   "metadata": {
    "tags": []
   },
   "outputs": [],
   "source": [
    "# service_color='#d6c8da' '#e4bfe2' '#ce4b96' colors['eco-turquiose']\n",
    "service_color='#b4c8d8'\n",
    "def dark(f):\n",
    "    configSource = \"visualisation/\" + f + \".json\"\n",
    "    config = json.loads(open(configSource, \"r\").read())\n",
    "    config['background']=colors['eco-background']\n",
    "    service_color='#b4c8d8'\n",
    "    for i in config['layer']:\n",
    "        if 'encoding' in i:\n",
    "            for x in ['x','y']:\n",
    "                if x in i['encoding']:\n",
    "                    if 'axis' in i['encoding'][x]:\n",
    "                        for c in ['domainColor','labelColor','tickColor','titleColor','gridColor']:\n",
    "                            if c in i['encoding'][x]['axis']:\n",
    "                                i['encoding'][x]['axis'][c]=service_color\n",
    "        if 'mark' in i:\n",
    "            if 'color' in i['mark']:\n",
    "                if i['mark']['color']==colors['eco-gray']:\n",
    "                    i['mark']['color']=service_color\n",
    "                elif i['mark']['color']==colors['eco-blue']:\n",
    "                    i['mark']['color']=colors['eco-yellow']\n",
    "                elif i['mark']['color']==service_color:\n",
    "                    i['mark']['color']=colors['eco-green']\n",
    "                elif 'stops' in i['mark']['color']:\n",
    "                    for s in i['mark']['color']['stops']:\n",
    "                        if 'color' in s:\n",
    "                            if s['color']==colors['eco-gray']:\n",
    "                                s['color']=service_color\n",
    "                            elif s['color']==colors['eco-blue']:\n",
    "                                s['color']=colors['eco-yellow']\n",
    "                            elif s['color']==service_color:\n",
    "                                s['color']=colors['eco-green']\n",
    "            if 'line' in i['mark']:\n",
    "                if 'color' in i['mark']['line']:\n",
    "                    if i['mark']['line']['color']==colors['eco-gray']:\n",
    "                        i['mark']['line']['color']=service_color\n",
    "                    elif i['mark']['line']['color']==colors['eco-blue']:\n",
    "                        i['mark']['line']['color']=colors['eco-yellow']\n",
    "                    elif i['mark']['line']['color']==service_color:\n",
    "                        i['mark']['line']['color']=colors['eco-green']\n",
    "    if 'datasets' in config:\n",
    "        for i in config['datasets']:\n",
    "            if 'img' in config['datasets'][i][0]:\n",
    "                if 'eco-icon-dark' in config['datasets'][i][0]['img']:\n",
    "                    config['datasets'][i][0]['img']=config['datasets'][i][0]['img'].replace('eco-icon-dark','eco-icon-light')\n",
    "    return alt.Chart.from_dict(config) "
   ]
  },
  {
   "cell_type": "markdown",
   "metadata": {
    "tags": []
   },
   "source": [
    "# Fig 1"
   ]
  },
  {
   "cell_type": "code",
   "execution_count": 25,
   "metadata": {
    "tags": []
   },
   "outputs": [],
   "source": [
    "df = pd.read_excel(\"raw/oech.xlsx\")\n",
    "df.columns=['country','total','gov','vol']\n",
    "for c in ['total','gov','vol']:\n",
    "    df[c]=df[c].astype(str).str.replace(' ','').str.replace('\\xa0','').astype(float)\n",
    "df['country']=df['country'].str.replace(\"(People's Republic of)\",'')\n",
    "df=df.sort_values(by='total')"
   ]
  },
  {
   "cell_type": "code",
   "execution_count": 26,
   "metadata": {
    "tags": []
   },
   "outputs": [
    {
     "data": {
      "text/html": [
       "<table border=\"1\" class=\"dataframe\">\n",
       "  <thead>\n",
       "    <tr style=\"text-align: right;\">\n",
       "      <th></th>\n",
       "      <th>country</th>\n",
       "      <th>total</th>\n",
       "      <th>gov</th>\n",
       "      <th>vol</th>\n",
       "    </tr>\n",
       "  </thead>\n",
       "  <tbody>\n",
       "    <tr>\n",
       "      <th>22</th>\n",
       "      <td>India</td>\n",
       "      <td>212.0</td>\n",
       "      <td>78.5</td>\n",
       "      <td>132.2</td>\n",
       "    </tr>\n",
       "    <tr>\n",
       "      <th>23</th>\n",
       "      <td>Indonesia</td>\n",
       "      <td>405.0</td>\n",
       "      <td>222.7</td>\n",
       "      <td>182.3</td>\n",
       "    </tr>\n",
       "    <tr>\n",
       "      <th>37</th>\n",
       "      <td>Peru</td>\n",
       "      <td>759.5</td>\n",
       "      <td>522.8</td>\n",
       "      <td>236.7</td>\n",
       "    </tr>\n",
       "    <tr>\n",
       "      <th>8</th>\n",
       "      <td>China</td>\n",
       "      <td>978.8</td>\n",
       "      <td>536.4</td>\n",
       "      <td>442.3</td>\n",
       "    </tr>\n",
       "    <tr>\n",
       "      <th>33</th>\n",
       "      <td>Mexico</td>\n",
       "      <td>1181.0</td>\n",
       "      <td>626.2</td>\n",
       "      <td>554.8</td>\n",
       "    </tr>\n",
       "  </tbody>\n",
       "</table>"
      ],
      "text/plain": [
       "<IPython.core.display.HTML object>"
      ]
     },
     "metadata": {},
     "output_type": "display_data"
    }
   ],
   "source": [
    "readme, f, fc = save(df,\"fig1_health\",LOCAL)"
   ]
  },
  {
   "cell_type": "code",
   "execution_count": 27,
   "metadata": {},
   "outputs": [
    {
     "name": "stdout",
     "output_type": "stream",
     "text": [
      "<class 'pandas.core.frame.DataFrame'>\n",
      "Index: 50 entries, 22 to 49\n",
      "Data columns (total 4 columns):\n",
      " #   Column   Non-Null Count  Dtype  \n",
      "---  ------   --------------  -----  \n",
      " 0   country  50 non-null     object \n",
      " 1   total    50 non-null     float64\n",
      " 2   gov      50 non-null     float64\n",
      " 3   vol      50 non-null     float64\n",
      "dtypes: float64(3), object(1)\n",
      "memory usage: 2.0+ KB\n"
     ]
    }
   ],
   "source": [
    "df.info()"
   ]
  },
  {
   "cell_type": "code",
   "execution_count": 28,
   "metadata": {
    "tags": []
   },
   "outputs": [
    {
     "name": "stdout",
     "output_type": "stream",
     "text": [
      "fig1_health\n",
      "\n"
     ]
    },
    {
     "data": {
      "text/html": [
       "\n",
       "<style>\n",
       "  #altair-viz-6959324afb29416fbce5a104b8b72015.vega-embed {\n",
       "    width: 100%;\n",
       "    display: flex;\n",
       "  }\n",
       "\n",
       "  #altair-viz-6959324afb29416fbce5a104b8b72015.vega-embed details,\n",
       "  #altair-viz-6959324afb29416fbce5a104b8b72015.vega-embed details summary {\n",
       "    position: relative;\n",
       "  }\n",
       "</style>\n",
       "<div id=\"altair-viz-6959324afb29416fbce5a104b8b72015\"></div>\n",
       "<script type=\"text/javascript\">\n",
       "  var VEGA_DEBUG = (typeof VEGA_DEBUG == \"undefined\") ? {} : VEGA_DEBUG;\n",
       "  (function(spec, embedOpt){\n",
       "    let outputDiv = document.currentScript.previousElementSibling;\n",
       "    if (outputDiv.id !== \"altair-viz-6959324afb29416fbce5a104b8b72015\") {\n",
       "      outputDiv = document.getElementById(\"altair-viz-6959324afb29416fbce5a104b8b72015\");\n",
       "    }\n",
       "    const paths = {\n",
       "      \"vega\": \"https://cdn.jsdelivr.net/npm/vega@5?noext\",\n",
       "      \"vega-lib\": \"https://cdn.jsdelivr.net/npm/vega-lib?noext\",\n",
       "      \"vega-lite\": \"https://cdn.jsdelivr.net/npm/vega-lite@5.17.0?noext\",\n",
       "      \"vega-embed\": \"https://cdn.jsdelivr.net/npm/vega-embed@6?noext\",\n",
       "    };\n",
       "\n",
       "    function maybeLoadScript(lib, version) {\n",
       "      var key = `${lib.replace(\"-\", \"\")}_version`;\n",
       "      return (VEGA_DEBUG[key] == version) ?\n",
       "        Promise.resolve(paths[lib]) :\n",
       "        new Promise(function(resolve, reject) {\n",
       "          var s = document.createElement('script');\n",
       "          document.getElementsByTagName(\"head\")[0].appendChild(s);\n",
       "          s.async = true;\n",
       "          s.onload = () => {\n",
       "            VEGA_DEBUG[key] = version;\n",
       "            return resolve(paths[lib]);\n",
       "          };\n",
       "          s.onerror = () => reject(`Error loading script: ${paths[lib]}`);\n",
       "          s.src = paths[lib];\n",
       "        });\n",
       "    }\n",
       "\n",
       "    function showError(err) {\n",
       "      outputDiv.innerHTML = `<div class=\"error\" style=\"color:red;\">${err}</div>`;\n",
       "      throw err;\n",
       "    }\n",
       "\n",
       "    function displayChart(vegaEmbed) {\n",
       "      vegaEmbed(outputDiv, spec, embedOpt)\n",
       "        .catch(err => showError(`Javascript Error: ${err.message}<br>This usually means there's a typo in your chart specification. See the javascript console for the full traceback.`));\n",
       "    }\n",
       "\n",
       "    if(typeof define === \"function\" && define.amd) {\n",
       "      requirejs.config({paths});\n",
       "      require([\"vega-embed\"], displayChart, err => showError(`Error loading script: ${err.message}`));\n",
       "    } else {\n",
       "      maybeLoadScript(\"vega\", \"5\")\n",
       "        .then(() => maybeLoadScript(\"vega-lite\", \"5.17.0\"))\n",
       "        .then(() => maybeLoadScript(\"vega-embed\", \"6\"))\n",
       "        .catch(showError)\n",
       "        .then(() => displayChart(vegaEmbed));\n",
       "    }\n",
       "  })({\"config\": {\"view\": {\"continuousWidth\": 300, \"continuousHeight\": 300, \"stroke\": null}, \"font\": \"Circular Std Book\"}, \"layer\": [{\"mark\": {\"type\": \"rule\", \"color\": \"#676A86\", \"opacity\": 0.3, \"strokeWidth\": 1}, \"encoding\": {\"x\": {\"axis\": {\"domainColor\": \"#676A86\", \"domainOpacity\": 0.5, \"format\": \"$s\", \"grid\": false, \"labelAngle\": 0, \"labelColor\": \"#676A86\", \"labelOpacity\": 0.7, \"orient\": \"bottom\", \"tickColor\": \"#676A86\", \"tickCount\": 10, \"tickOpacity\": 0.5, \"title\": \"USD / capita\", \"titleAlign\": \"center\", \"titleAnchor\": \"middle\", \"titleColor\": \"#676A86\", \"titleFontSize\": 11, \"titleOpacity\": 0.8, \"titleX\": 257, \"titleY\": -25}, \"field\": \"total\", \"sort\": [], \"type\": \"quantitative\"}, \"y\": {\"axis\": {\"domainColor\": \"#676A86\", \"domainOpacity\": 0.5, \"gridColor\": \"#676A86\", \"gridDash\": [1, 5], \"gridOpacity\": 0.5, \"labelColor\": \"#676A86\", \"labelFontSize\": 11, \"labelOpacity\": 0.7, \"labelPadding\": 5, \"tickColor\": \"#676A86\", \"tickCount\": 8, \"tickOpacity\": 0.5, \"ticks\": false, \"title\": \"\", \"titleAlign\": \"left\", \"titleAngle\": 0, \"titleBaseline\": \"bottom\", \"titleColor\": \"#676A86\", \"titleFontSize\": 12, \"titleOpacity\": 0.8, \"titleX\": 0, \"titleY\": -7}, \"field\": \"country\", \"sort\": [], \"type\": \"nominal\"}}}, {\"mark\": {\"type\": \"circle\", \"color\": \"#F4134D\", \"size\": 40}, \"encoding\": {\"x\": {\"field\": \"total\", \"type\": \"quantitative\"}, \"y\": {\"axis\": {\"domainColor\": \"#676A86\", \"domainOpacity\": 0.5, \"gridColor\": \"#676A86\", \"gridDash\": [1, 5], \"gridOpacity\": 0.5, \"labelColor\": \"#676A86\", \"labelFontSize\": 11, \"labelOpacity\": 0.7, \"labelPadding\": 5, \"tickColor\": \"#676A86\", \"tickCount\": 8, \"tickOpacity\": 0.5, \"ticks\": false, \"title\": \"\", \"titleAlign\": \"left\", \"titleAngle\": 0, \"titleBaseline\": \"bottom\", \"titleColor\": \"#676A86\", \"titleFontSize\": 12, \"titleOpacity\": 0.8, \"titleX\": 0, \"titleY\": -7}, \"field\": \"country\", \"sort\": [], \"type\": \"nominal\"}}}, {\"mark\": {\"type\": \"circle\", \"color\": \"#179FDB\"}, \"encoding\": {\"x\": {\"field\": \"gov\", \"type\": \"quantitative\"}, \"y\": {\"axis\": {\"domainColor\": \"#676A86\", \"domainOpacity\": 0.5, \"gridColor\": \"#676A86\", \"gridDash\": [1, 5], \"gridOpacity\": 0.5, \"labelColor\": \"#676A86\", \"labelFontSize\": 11, \"labelOpacity\": 0.7, \"labelPadding\": 5, \"tickColor\": \"#676A86\", \"tickCount\": 8, \"tickOpacity\": 0.5, \"ticks\": false, \"title\": \"\", \"titleAlign\": \"left\", \"titleAngle\": 0, \"titleBaseline\": \"bottom\", \"titleColor\": \"#676A86\", \"titleFontSize\": 12, \"titleOpacity\": 0.8, \"titleX\": 0, \"titleY\": -7}, \"field\": \"country\", \"sort\": [], \"type\": \"nominal\"}}}, {\"mark\": {\"type\": \"circle\", \"color\": \"#36B7B4\"}, \"encoding\": {\"x\": {\"field\": \"vol\", \"type\": \"quantitative\"}, \"y\": {\"axis\": {\"domainColor\": \"#676A86\", \"domainOpacity\": 0.5, \"gridColor\": \"#676A86\", \"gridDash\": [1, 5], \"gridOpacity\": 0.5, \"labelColor\": \"#676A86\", \"labelFontSize\": 11, \"labelOpacity\": 0.7, \"labelPadding\": 5, \"tickColor\": \"#676A86\", \"tickCount\": 8, \"tickOpacity\": 0.5, \"ticks\": false, \"title\": \"\", \"titleAlign\": \"left\", \"titleAngle\": 0, \"titleBaseline\": \"bottom\", \"titleColor\": \"#676A86\", \"titleFontSize\": 12, \"titleOpacity\": 0.8, \"titleX\": 0, \"titleY\": -7}, \"field\": \"country\", \"sort\": [], \"type\": \"nominal\"}}}, {\"mark\": {\"type\": \"circle\", \"color\": \"#F4134D\", \"size\": 40, \"xOffset\": 262}, \"encoding\": {\"x\": {\"field\": \"total\", \"type\": \"quantitative\"}, \"y\": {\"axis\": {\"domainColor\": \"#676A86\", \"domainOpacity\": 0.5, \"gridColor\": \"#676A86\", \"gridDash\": [1, 5], \"gridOpacity\": 0.5, \"labelColor\": \"#676A86\", \"labelFontSize\": 11, \"labelOpacity\": 0.7, \"labelPadding\": 5, \"tickColor\": \"#676A86\", \"tickCount\": 8, \"tickOpacity\": 0.5, \"ticks\": false, \"title\": \"\", \"titleAlign\": \"left\", \"titleAngle\": 0, \"titleBaseline\": \"bottom\", \"titleColor\": \"#676A86\", \"titleFontSize\": 12, \"titleOpacity\": 0.8, \"titleX\": 0, \"titleY\": -7}, \"field\": \"country\", \"sort\": [], \"type\": \"nominal\"}}, \"transform\": [{\"filter\": \"datum.country==\\\"Mexico\\\"\"}]}, {\"mark\": {\"type\": \"text\", \"align\": \"right\", \"color\": \"#F4134D\", \"dx\": 255, \"text\": \"Total\", \"yOffset\": 0}, \"encoding\": {\"x\": {\"field\": \"total\", \"type\": \"quantitative\"}, \"y\": {\"axis\": {\"domainColor\": \"#676A86\", \"domainOpacity\": 0.5, \"gridColor\": \"#676A86\", \"gridDash\": [1, 5], \"gridOpacity\": 0.5, \"labelColor\": \"#676A86\", \"labelFontSize\": 11, \"labelOpacity\": 0.7, \"labelPadding\": 5, \"tickColor\": \"#676A86\", \"tickCount\": 8, \"tickOpacity\": 0.5, \"ticks\": false, \"title\": \"\", \"titleAlign\": \"left\", \"titleAngle\": 0, \"titleBaseline\": \"bottom\", \"titleColor\": \"#676A86\", \"titleFontSize\": 12, \"titleOpacity\": 0.8, \"titleX\": 0, \"titleY\": -7}, \"field\": \"country\", \"sort\": [], \"type\": \"nominal\"}}, \"transform\": [{\"filter\": \"datum.country==\\\"Mexico\\\"\"}]}, {\"mark\": {\"type\": \"circle\", \"color\": \"#179FDB\", \"size\": 40, \"xOffset\": 262, \"yOffset\": 15}, \"encoding\": {\"x\": {\"field\": \"total\", \"type\": \"quantitative\"}, \"y\": {\"axis\": {\"domainColor\": \"#676A86\", \"domainOpacity\": 0.5, \"gridColor\": \"#676A86\", \"gridDash\": [1, 5], \"gridOpacity\": 0.5, \"labelColor\": \"#676A86\", \"labelFontSize\": 11, \"labelOpacity\": 0.7, \"labelPadding\": 5, \"tickColor\": \"#676A86\", \"tickCount\": 8, \"tickOpacity\": 0.5, \"ticks\": false, \"title\": \"\", \"titleAlign\": \"left\", \"titleAngle\": 0, \"titleBaseline\": \"bottom\", \"titleColor\": \"#676A86\", \"titleFontSize\": 12, \"titleOpacity\": 0.8, \"titleX\": 0, \"titleY\": -7}, \"field\": \"country\", \"sort\": [], \"type\": \"nominal\"}}, \"transform\": [{\"filter\": \"datum.country==\\\"Mexico\\\"\"}]}, {\"mark\": {\"type\": \"text\", \"align\": \"right\", \"color\": \"#179FDB\", \"dx\": 255, \"text\": \"Government / Compulsory\", \"yOffset\": 15}, \"encoding\": {\"x\": {\"field\": \"total\", \"type\": \"quantitative\"}, \"y\": {\"axis\": {\"domainColor\": \"#676A86\", \"domainOpacity\": 0.5, \"gridColor\": \"#676A86\", \"gridDash\": [1, 5], \"gridOpacity\": 0.5, \"labelColor\": \"#676A86\", \"labelFontSize\": 11, \"labelOpacity\": 0.7, \"labelPadding\": 5, \"tickColor\": \"#676A86\", \"tickCount\": 8, \"tickOpacity\": 0.5, \"ticks\": false, \"title\": \"\", \"titleAlign\": \"left\", \"titleAngle\": 0, \"titleBaseline\": \"bottom\", \"titleColor\": \"#676A86\", \"titleFontSize\": 12, \"titleOpacity\": 0.8, \"titleX\": 0, \"titleY\": -7}, \"field\": \"country\", \"sort\": [], \"type\": \"nominal\"}}, \"transform\": [{\"filter\": \"datum.country==\\\"Mexico\\\"\"}]}, {\"mark\": {\"type\": \"circle\", \"color\": \"#36B7B4\", \"size\": 40, \"xOffset\": 262, \"yOffset\": 30}, \"encoding\": {\"x\": {\"field\": \"total\", \"type\": \"quantitative\"}, \"y\": {\"axis\": {\"domainColor\": \"#676A86\", \"domainOpacity\": 0.5, \"gridColor\": \"#676A86\", \"gridDash\": [1, 5], \"gridOpacity\": 0.5, \"labelColor\": \"#676A86\", \"labelFontSize\": 11, \"labelOpacity\": 0.7, \"labelPadding\": 5, \"tickColor\": \"#676A86\", \"tickCount\": 8, \"tickOpacity\": 0.5, \"ticks\": false, \"title\": \"\", \"titleAlign\": \"left\", \"titleAngle\": 0, \"titleBaseline\": \"bottom\", \"titleColor\": \"#676A86\", \"titleFontSize\": 12, \"titleOpacity\": 0.8, \"titleX\": 0, \"titleY\": -7}, \"field\": \"country\", \"sort\": [], \"type\": \"nominal\"}}, \"transform\": [{\"filter\": \"datum.country==\\\"Mexico\\\"\"}]}, {\"mark\": {\"type\": \"text\", \"align\": \"right\", \"color\": \"#36B7B4\", \"dx\": 255, \"text\": \"Voluntary\", \"yOffset\": 30}, \"encoding\": {\"x\": {\"field\": \"total\", \"type\": \"quantitative\"}, \"y\": {\"axis\": {\"domainColor\": \"#676A86\", \"domainOpacity\": 0.5, \"gridColor\": \"#676A86\", \"gridDash\": [1, 5], \"gridOpacity\": 0.5, \"labelColor\": \"#676A86\", \"labelFontSize\": 11, \"labelOpacity\": 0.7, \"labelPadding\": 5, \"tickColor\": \"#676A86\", \"tickCount\": 8, \"tickOpacity\": 0.5, \"ticks\": false, \"title\": \"\", \"titleAlign\": \"left\", \"titleAngle\": 0, \"titleBaseline\": \"bottom\", \"titleColor\": \"#676A86\", \"titleFontSize\": 12, \"titleOpacity\": 0.8, \"titleX\": 0, \"titleY\": -7}, \"field\": \"country\", \"sort\": [], \"type\": \"nominal\"}}, \"transform\": [{\"filter\": \"datum.country==\\\"Mexico\\\"\"}]}, {\"mark\": {\"type\": \"image\", \"align\": \"right\", \"baseline\": \"top\", \"height\": 40, \"opacity\": 0.5, \"width\": 40, \"xOffset\": 10, \"yOffset\": -610}, \"encoding\": {\"url\": {\"field\": \"img\", \"type\": \"nominal\"}, \"x\": {\"field\": \"total\", \"type\": \"quantitative\"}, \"y\": {\"field\": \"country\", \"sort\": [], \"type\": \"nominal\"}}, \"transform\": [{\"calculate\": \"\\\"https://raw.githubusercontent.com/EconomicsObservatory/ECOvisualisations/main/guidelines/logos/eco-icon-dark.png\\\"\", \"as\": \"img\"}, {\"filter\": \"datum.country==\\\"United States\\\"\"}]}], \"data\": {\"url\": \"https://raw.githubusercontent.com/EconomicsObservatory/ECOvisualisations/main/articles/oecd-healthcare/data/fig1_health.csv\"}, \"height\": 600, \"title\": {\"text\": \"Health spending\", \"fontSize\": 16, \"dx\": 83, \"color\": \"#676A86\", \"subtitleColor\": \"#676A86\", \"anchor\": \"start\", \"subtitle\": \"source: OECD, 2022 or latest available\", \"subtitlePadding\": 10, \"align\": \"left\"}, \"width\": 300, \"$schema\": \"https://vega.github.io/schema/vega-lite/v5.17.0.json\"}, {\"mode\": \"vega-lite\"});\n",
       "</script>"
      ],
      "text/plain": [
       "alt.LayerChart(...)"
      ]
     },
     "metadata": {},
     "output_type": "display_data"
    },
    {
     "data": {
      "text/html": [
       "\n",
       "<style>\n",
       "  #altair-viz-13d6f2a696064631b3890c9f2c06f479.vega-embed {\n",
       "    width: 100%;\n",
       "    display: flex;\n",
       "  }\n",
       "\n",
       "  #altair-viz-13d6f2a696064631b3890c9f2c06f479.vega-embed details,\n",
       "  #altair-viz-13d6f2a696064631b3890c9f2c06f479.vega-embed details summary {\n",
       "    position: relative;\n",
       "  }\n",
       "</style>\n",
       "<div id=\"altair-viz-13d6f2a696064631b3890c9f2c06f479\"></div>\n",
       "<script type=\"text/javascript\">\n",
       "  var VEGA_DEBUG = (typeof VEGA_DEBUG == \"undefined\") ? {} : VEGA_DEBUG;\n",
       "  (function(spec, embedOpt){\n",
       "    let outputDiv = document.currentScript.previousElementSibling;\n",
       "    if (outputDiv.id !== \"altair-viz-13d6f2a696064631b3890c9f2c06f479\") {\n",
       "      outputDiv = document.getElementById(\"altair-viz-13d6f2a696064631b3890c9f2c06f479\");\n",
       "    }\n",
       "    const paths = {\n",
       "      \"vega\": \"https://cdn.jsdelivr.net/npm/vega@5?noext\",\n",
       "      \"vega-lib\": \"https://cdn.jsdelivr.net/npm/vega-lib?noext\",\n",
       "      \"vega-lite\": \"https://cdn.jsdelivr.net/npm/vega-lite@5.17.0?noext\",\n",
       "      \"vega-embed\": \"https://cdn.jsdelivr.net/npm/vega-embed@6?noext\",\n",
       "    };\n",
       "\n",
       "    function maybeLoadScript(lib, version) {\n",
       "      var key = `${lib.replace(\"-\", \"\")}_version`;\n",
       "      return (VEGA_DEBUG[key] == version) ?\n",
       "        Promise.resolve(paths[lib]) :\n",
       "        new Promise(function(resolve, reject) {\n",
       "          var s = document.createElement('script');\n",
       "          document.getElementsByTagName(\"head\")[0].appendChild(s);\n",
       "          s.async = true;\n",
       "          s.onload = () => {\n",
       "            VEGA_DEBUG[key] = version;\n",
       "            return resolve(paths[lib]);\n",
       "          };\n",
       "          s.onerror = () => reject(`Error loading script: ${paths[lib]}`);\n",
       "          s.src = paths[lib];\n",
       "        });\n",
       "    }\n",
       "\n",
       "    function showError(err) {\n",
       "      outputDiv.innerHTML = `<div class=\"error\" style=\"color:red;\">${err}</div>`;\n",
       "      throw err;\n",
       "    }\n",
       "\n",
       "    function displayChart(vegaEmbed) {\n",
       "      vegaEmbed(outputDiv, spec, embedOpt)\n",
       "        .catch(err => showError(`Javascript Error: ${err.message}<br>This usually means there's a typo in your chart specification. See the javascript console for the full traceback.`));\n",
       "    }\n",
       "\n",
       "    if(typeof define === \"function\" && define.amd) {\n",
       "      requirejs.config({paths});\n",
       "      require([\"vega-embed\"], displayChart, err => showError(`Error loading script: ${err.message}`));\n",
       "    } else {\n",
       "      maybeLoadScript(\"vega\", \"5\")\n",
       "        .then(() => maybeLoadScript(\"vega-lite\", \"5.17.0\"))\n",
       "        .then(() => maybeLoadScript(\"vega-embed\", \"6\"))\n",
       "        .catch(showError)\n",
       "        .then(() => displayChart(vegaEmbed));\n",
       "    }\n",
       "  })({\"config\": {\"view\": {\"continuousWidth\": 300, \"continuousHeight\": 300, \"stroke\": null}, \"font\": \"Circular Std Book\"}, \"layer\": [{\"mark\": {\"type\": \"rule\", \"color\": \"#b4c8d8\", \"opacity\": 0.3, \"strokeWidth\": 1}, \"encoding\": {\"x\": {\"axis\": {\"domainColor\": \"#b4c8d8\", \"domainOpacity\": 0.5, \"format\": \"$s\", \"grid\": false, \"labelAngle\": 0, \"labelColor\": \"#b4c8d8\", \"labelOpacity\": 0.7, \"orient\": \"bottom\", \"tickColor\": \"#b4c8d8\", \"tickCount\": 10, \"tickOpacity\": 0.5, \"title\": \"USD / capita\", \"titleAlign\": \"center\", \"titleAnchor\": \"middle\", \"titleColor\": \"#b4c8d8\", \"titleFontSize\": 11, \"titleOpacity\": 0.8, \"titleX\": 257, \"titleY\": -25}, \"field\": \"total\", \"sort\": [], \"type\": \"quantitative\"}, \"y\": {\"axis\": {\"domainColor\": \"#b4c8d8\", \"domainOpacity\": 0.5, \"gridColor\": \"#b4c8d8\", \"gridDash\": [1, 5], \"gridOpacity\": 0.5, \"labelColor\": \"#b4c8d8\", \"labelFontSize\": 11, \"labelOpacity\": 0.7, \"labelPadding\": 5, \"tickColor\": \"#b4c8d8\", \"tickCount\": 8, \"tickOpacity\": 0.5, \"ticks\": false, \"title\": \"\", \"titleAlign\": \"left\", \"titleAngle\": 0, \"titleBaseline\": \"bottom\", \"titleColor\": \"#b4c8d8\", \"titleFontSize\": 12, \"titleOpacity\": 0.8, \"titleX\": 0, \"titleY\": -7}, \"field\": \"country\", \"sort\": [], \"type\": \"nominal\"}}}, {\"mark\": {\"type\": \"circle\", \"color\": \"#F4134D\", \"size\": 40}, \"encoding\": {\"x\": {\"field\": \"total\", \"type\": \"quantitative\"}, \"y\": {\"axis\": {\"domainColor\": \"#b4c8d8\", \"domainOpacity\": 0.5, \"gridColor\": \"#b4c8d8\", \"gridDash\": [1, 5], \"gridOpacity\": 0.5, \"labelColor\": \"#b4c8d8\", \"labelFontSize\": 11, \"labelOpacity\": 0.7, \"labelPadding\": 5, \"tickColor\": \"#b4c8d8\", \"tickCount\": 8, \"tickOpacity\": 0.5, \"ticks\": false, \"title\": \"\", \"titleAlign\": \"left\", \"titleAngle\": 0, \"titleBaseline\": \"bottom\", \"titleColor\": \"#b4c8d8\", \"titleFontSize\": 12, \"titleOpacity\": 0.8, \"titleX\": 0, \"titleY\": -7}, \"field\": \"country\", \"sort\": [], \"type\": \"nominal\"}}}, {\"mark\": {\"type\": \"circle\", \"color\": \"#179FDB\"}, \"encoding\": {\"x\": {\"field\": \"gov\", \"type\": \"quantitative\"}, \"y\": {\"axis\": {\"domainColor\": \"#b4c8d8\", \"domainOpacity\": 0.5, \"gridColor\": \"#b4c8d8\", \"gridDash\": [1, 5], \"gridOpacity\": 0.5, \"labelColor\": \"#b4c8d8\", \"labelFontSize\": 11, \"labelOpacity\": 0.7, \"labelPadding\": 5, \"tickColor\": \"#b4c8d8\", \"tickCount\": 8, \"tickOpacity\": 0.5, \"ticks\": false, \"title\": \"\", \"titleAlign\": \"left\", \"titleAngle\": 0, \"titleBaseline\": \"bottom\", \"titleColor\": \"#b4c8d8\", \"titleFontSize\": 12, \"titleOpacity\": 0.8, \"titleX\": 0, \"titleY\": -7}, \"field\": \"country\", \"sort\": [], \"type\": \"nominal\"}}}, {\"mark\": {\"type\": \"circle\", \"color\": \"#36B7B4\"}, \"encoding\": {\"x\": {\"field\": \"vol\", \"type\": \"quantitative\"}, \"y\": {\"axis\": {\"domainColor\": \"#b4c8d8\", \"domainOpacity\": 0.5, \"gridColor\": \"#b4c8d8\", \"gridDash\": [1, 5], \"gridOpacity\": 0.5, \"labelColor\": \"#b4c8d8\", \"labelFontSize\": 11, \"labelOpacity\": 0.7, \"labelPadding\": 5, \"tickColor\": \"#b4c8d8\", \"tickCount\": 8, \"tickOpacity\": 0.5, \"ticks\": false, \"title\": \"\", \"titleAlign\": \"left\", \"titleAngle\": 0, \"titleBaseline\": \"bottom\", \"titleColor\": \"#b4c8d8\", \"titleFontSize\": 12, \"titleOpacity\": 0.8, \"titleX\": 0, \"titleY\": -7}, \"field\": \"country\", \"sort\": [], \"type\": \"nominal\"}}}, {\"mark\": {\"type\": \"circle\", \"color\": \"#F4134D\", \"size\": 40, \"xOffset\": 262}, \"encoding\": {\"x\": {\"field\": \"total\", \"type\": \"quantitative\"}, \"y\": {\"axis\": {\"domainColor\": \"#b4c8d8\", \"domainOpacity\": 0.5, \"gridColor\": \"#b4c8d8\", \"gridDash\": [1, 5], \"gridOpacity\": 0.5, \"labelColor\": \"#b4c8d8\", \"labelFontSize\": 11, \"labelOpacity\": 0.7, \"labelPadding\": 5, \"tickColor\": \"#b4c8d8\", \"tickCount\": 8, \"tickOpacity\": 0.5, \"ticks\": false, \"title\": \"\", \"titleAlign\": \"left\", \"titleAngle\": 0, \"titleBaseline\": \"bottom\", \"titleColor\": \"#b4c8d8\", \"titleFontSize\": 12, \"titleOpacity\": 0.8, \"titleX\": 0, \"titleY\": -7}, \"field\": \"country\", \"sort\": [], \"type\": \"nominal\"}}, \"transform\": [{\"filter\": \"datum.country==\\\"Mexico\\\"\"}]}, {\"mark\": {\"type\": \"text\", \"align\": \"right\", \"color\": \"#F4134D\", \"dx\": 255, \"text\": \"Total\", \"yOffset\": 0}, \"encoding\": {\"x\": {\"field\": \"total\", \"type\": \"quantitative\"}, \"y\": {\"axis\": {\"domainColor\": \"#b4c8d8\", \"domainOpacity\": 0.5, \"gridColor\": \"#b4c8d8\", \"gridDash\": [1, 5], \"gridOpacity\": 0.5, \"labelColor\": \"#b4c8d8\", \"labelFontSize\": 11, \"labelOpacity\": 0.7, \"labelPadding\": 5, \"tickColor\": \"#b4c8d8\", \"tickCount\": 8, \"tickOpacity\": 0.5, \"ticks\": false, \"title\": \"\", \"titleAlign\": \"left\", \"titleAngle\": 0, \"titleBaseline\": \"bottom\", \"titleColor\": \"#b4c8d8\", \"titleFontSize\": 12, \"titleOpacity\": 0.8, \"titleX\": 0, \"titleY\": -7}, \"field\": \"country\", \"sort\": [], \"type\": \"nominal\"}}, \"transform\": [{\"filter\": \"datum.country==\\\"Mexico\\\"\"}]}, {\"mark\": {\"type\": \"circle\", \"color\": \"#179FDB\", \"size\": 40, \"xOffset\": 262, \"yOffset\": 15}, \"encoding\": {\"x\": {\"field\": \"total\", \"type\": \"quantitative\"}, \"y\": {\"axis\": {\"domainColor\": \"#b4c8d8\", \"domainOpacity\": 0.5, \"gridColor\": \"#b4c8d8\", \"gridDash\": [1, 5], \"gridOpacity\": 0.5, \"labelColor\": \"#b4c8d8\", \"labelFontSize\": 11, \"labelOpacity\": 0.7, \"labelPadding\": 5, \"tickColor\": \"#b4c8d8\", \"tickCount\": 8, \"tickOpacity\": 0.5, \"ticks\": false, \"title\": \"\", \"titleAlign\": \"left\", \"titleAngle\": 0, \"titleBaseline\": \"bottom\", \"titleColor\": \"#b4c8d8\", \"titleFontSize\": 12, \"titleOpacity\": 0.8, \"titleX\": 0, \"titleY\": -7}, \"field\": \"country\", \"sort\": [], \"type\": \"nominal\"}}, \"transform\": [{\"filter\": \"datum.country==\\\"Mexico\\\"\"}]}, {\"mark\": {\"type\": \"text\", \"align\": \"right\", \"color\": \"#179FDB\", \"dx\": 255, \"text\": \"Government / Compulsory\", \"yOffset\": 15}, \"encoding\": {\"x\": {\"field\": \"total\", \"type\": \"quantitative\"}, \"y\": {\"axis\": {\"domainColor\": \"#b4c8d8\", \"domainOpacity\": 0.5, \"gridColor\": \"#b4c8d8\", \"gridDash\": [1, 5], \"gridOpacity\": 0.5, \"labelColor\": \"#b4c8d8\", \"labelFontSize\": 11, \"labelOpacity\": 0.7, \"labelPadding\": 5, \"tickColor\": \"#b4c8d8\", \"tickCount\": 8, \"tickOpacity\": 0.5, \"ticks\": false, \"title\": \"\", \"titleAlign\": \"left\", \"titleAngle\": 0, \"titleBaseline\": \"bottom\", \"titleColor\": \"#b4c8d8\", \"titleFontSize\": 12, \"titleOpacity\": 0.8, \"titleX\": 0, \"titleY\": -7}, \"field\": \"country\", \"sort\": [], \"type\": \"nominal\"}}, \"transform\": [{\"filter\": \"datum.country==\\\"Mexico\\\"\"}]}, {\"mark\": {\"type\": \"circle\", \"color\": \"#36B7B4\", \"size\": 40, \"xOffset\": 262, \"yOffset\": 30}, \"encoding\": {\"x\": {\"field\": \"total\", \"type\": \"quantitative\"}, \"y\": {\"axis\": {\"domainColor\": \"#b4c8d8\", \"domainOpacity\": 0.5, \"gridColor\": \"#b4c8d8\", \"gridDash\": [1, 5], \"gridOpacity\": 0.5, \"labelColor\": \"#b4c8d8\", \"labelFontSize\": 11, \"labelOpacity\": 0.7, \"labelPadding\": 5, \"tickColor\": \"#b4c8d8\", \"tickCount\": 8, \"tickOpacity\": 0.5, \"ticks\": false, \"title\": \"\", \"titleAlign\": \"left\", \"titleAngle\": 0, \"titleBaseline\": \"bottom\", \"titleColor\": \"#b4c8d8\", \"titleFontSize\": 12, \"titleOpacity\": 0.8, \"titleX\": 0, \"titleY\": -7}, \"field\": \"country\", \"sort\": [], \"type\": \"nominal\"}}, \"transform\": [{\"filter\": \"datum.country==\\\"Mexico\\\"\"}]}, {\"mark\": {\"type\": \"text\", \"align\": \"right\", \"color\": \"#36B7B4\", \"dx\": 255, \"text\": \"Voluntary\", \"yOffset\": 30}, \"encoding\": {\"x\": {\"field\": \"total\", \"type\": \"quantitative\"}, \"y\": {\"axis\": {\"domainColor\": \"#b4c8d8\", \"domainOpacity\": 0.5, \"gridColor\": \"#b4c8d8\", \"gridDash\": [1, 5], \"gridOpacity\": 0.5, \"labelColor\": \"#b4c8d8\", \"labelFontSize\": 11, \"labelOpacity\": 0.7, \"labelPadding\": 5, \"tickColor\": \"#b4c8d8\", \"tickCount\": 8, \"tickOpacity\": 0.5, \"ticks\": false, \"title\": \"\", \"titleAlign\": \"left\", \"titleAngle\": 0, \"titleBaseline\": \"bottom\", \"titleColor\": \"#b4c8d8\", \"titleFontSize\": 12, \"titleOpacity\": 0.8, \"titleX\": 0, \"titleY\": -7}, \"field\": \"country\", \"sort\": [], \"type\": \"nominal\"}}, \"transform\": [{\"filter\": \"datum.country==\\\"Mexico\\\"\"}]}, {\"mark\": {\"type\": \"image\", \"align\": \"right\", \"baseline\": \"top\", \"height\": 40, \"opacity\": 0.5, \"width\": 40, \"xOffset\": 10, \"yOffset\": -610}, \"encoding\": {\"url\": {\"field\": \"img\", \"type\": \"nominal\"}, \"x\": {\"field\": \"total\", \"type\": \"quantitative\"}, \"y\": {\"field\": \"country\", \"sort\": [], \"type\": \"nominal\"}}, \"transform\": [{\"calculate\": \"\\\"https://raw.githubusercontent.com/EconomicsObservatory/ECOvisualisations/main/guidelines/logos/eco-icon-dark.png\\\"\", \"as\": \"img\"}, {\"filter\": \"datum.country==\\\"United States\\\"\"}]}], \"background\": \"#122B39\", \"data\": {\"url\": \"https://raw.githubusercontent.com/EconomicsObservatory/ECOvisualisations/main/articles/oecd-healthcare/data/fig1_health.csv\"}, \"height\": 600, \"title\": {\"text\": \"Health spending\", \"align\": \"left\", \"anchor\": \"start\", \"color\": \"#676A86\", \"dx\": 83, \"fontSize\": 16, \"subtitle\": \"source: OECD, 2022 or latest available\", \"subtitleColor\": \"#676A86\", \"subtitlePadding\": 10}, \"width\": 300, \"$schema\": \"https://vega.github.io/schema/vega-lite/v5.17.0.json\"}, {\"mode\": \"vega-lite\"});\n",
       "</script>"
      ],
      "text/plain": [
       "alt.LayerChart(...)"
      ]
     },
     "metadata": {},
     "output_type": "display_data"
    }
   ],
   "source": [
    "base = alt.Chart(fc).mark_rule(color=colors[\"eco-gray\"],opacity=mo-0.2,strokeWidth=1).encode(\n",
    "    alt.X(\n",
    "        \"total:Q\",\n",
    "        sort=[],\n",
    "        axis=alt.Axis(\n",
    "            grid=False,\n",
    "            titleAlign=\"center\",\n",
    "            titleAnchor=\"middle\",\n",
    "            title=\"USD / capita\",\n",
    "            titleY=-25,\n",
    "            titleX=257,\n",
    "            labelColor=colors[\"eco-gray\"],\n",
    "            titleColor=colors[\"eco-gray\"],\n",
    "            tickColor=colors[\"eco-gray\"],\n",
    "            domainColor=colors[\"eco-gray\"],\n",
    "            tickCount=10,\n",
    "            domainOpacity=mo,\n",
    "            tickOpacity=mo,\n",
    "            labelOpacity=mo+0.2,\n",
    "            titleOpacity=mo+0.3,\n",
    "            titleFontSize=11,\n",
    "            orient=\"bottom\",\n",
    "            labelAngle=0,\n",
    "            format='$s'\n",
    "        ),\n",
    "    ),\n",
    "    y=alt.Y(\n",
    "        \"country:N\",\n",
    "        sort=[],\n",
    "        axis=alt.Axis(\n",
    "            # grid=False,\n",
    "            gridDash=[1,5],\n",
    "            gridColor=colors[\"eco-gray\"],\n",
    "            gridOpacity=mo,\n",
    "            title=\"\",\n",
    "            titleX=0,\n",
    "            titleY=-7,\n",
    "            titleBaseline=\"bottom\",\n",
    "            titleAngle=0,\n",
    "            titleAlign=\"left\",\n",
    "            ticks=False,\n",
    "            labelPadding=5,\n",
    "            labelFontSize=11,\n",
    "            labelColor=colors[\"eco-gray\"],\n",
    "            titleColor=colors[\"eco-gray\"],\n",
    "            tickColor=colors[\"eco-gray\"],\n",
    "            domainColor=colors[\"eco-gray\"],\n",
    "            domainOpacity=mo,\n",
    "            tickOpacity=mo,\n",
    "            labelOpacity=mo+0.2,\n",
    "            titleOpacity=mo+0.3,\n",
    "            titleFontSize=12,\n",
    "            tickCount=8\n",
    "        ),\n",
    "        # scale=alt.Scale(domain=[-0.16, 0.06]),\n",
    "    )\n",
    ")\n",
    "\n",
    "pipe1=base.mark_rule(color=colors['eco-dot']).encode(x='total:Q')\n",
    "pipe2=base.mark_rule(color=colors['eco-light-blue']).encode(x='gov:Q')\n",
    "pipe3=base.mark_rule(color=colors['eco-turquiose']).encode(x='vol:Q')\n",
    "points1=base.mark_circle(color=colors['eco-dot'],size=40).encode(x='total:Q')\n",
    "points2=base.mark_circle(color=colors['eco-light-blue']).encode(x='gov:Q')\n",
    "points3=base.mark_circle(color=colors['eco-turquiose']).encode(x='vol:Q')\n",
    "dx=255\n",
    "l1=points1.mark_circle(color=colors['eco-dot'],size=40,xOffset=dx+7).encode(x='total:Q').transform_filter('datum.country==\"Mexico\"')\n",
    "t1=l1.mark_text(text='Total',color=colors['eco-dot'],yOffset=0,align='right',dx=dx)\n",
    "l2=l1.mark_circle(color=colors['eco-light-blue'],size=40,yOffset=15,xOffset=dx+7).encode(x='total:Q')\n",
    "t2=l2.mark_text(text='Government / Compulsory',yOffset=15,color=colors['eco-light-blue'],align='right',dx=dx)\n",
    "l3=l1.mark_circle(color=colors['eco-turquiose'],size=40,yOffset=30,xOffset=dx+7).encode(x='total:Q')\n",
    "t3=l3.mark_text(text='Voluntary',color=colors['eco-turquiose'],yOffset=30,align='right',dx=dx)\n",
    "\n",
    "layer1 = (\n",
    "    (base+points1+points2+points3+l1+t1+l2+t2+l3+t3).properties(height=600, width=300, \n",
    "    title={'text':\"Health spending\",'fontSize':16,'dx':83,'color':colors[\"eco-gray\"],'subtitleColor':colors[\"eco-gray\"],\n",
    "           'anchor':'start','subtitle':'source: OECD, 2022 or latest available','subtitlePadding':10,'align':'left'})\n",
    "    .configure(font='Circular Std Book').configure_view(stroke=None)\n",
    ")\n",
    "\n",
    "if DARK:\n",
    "    layer1.save(\"visualisation/\" + f + \"_no_branding.json\")\n",
    "    layer2=dark(f+'_no_branding')\n",
    "    layer2.save(\"visualisation/\" + f + \"_no_branding_dark.json\")\n",
    "    \n",
    "if SAVE:\n",
    "    layer1.save(\"visualisation/\" + f + \"_no_branding.json\")\n",
    "    layer1.save(\"visualisation/\" + f + \"_no_branding.svg\")\n",
    "    layer1.save(\"visualisation/\" + f + \"_no_branding.png\")\n",
    "    if DARK:\n",
    "        layer2.save(\"visualisation/\" + f + \"_no_branding_dark.svg\")\n",
    "        layer2.save(\"visualisation/\" + f + \"_no_branding_dark.png\")\n",
    "    \n",
    "logo=base.mark_image(width=40,height=40,align='right',baseline='top',yOffset=-610,opacity=mo,xOffset=10).encode(x='total:Q',y=alt.Y('country:N',\n",
    "    sort=[]),\n",
    "    url='img:N')\\\n",
    "    .transform_calculate(img='\"https://raw.githubusercontent.com/EconomicsObservatory/ECOvisualisations/main/guidelines/logos/eco-icon-dark.png\"')\\\n",
    "    .transform_filter('datum.country==\"United States\"')\n",
    "# ecomark=alt.Chart(pd.DataFrame([{\"x\": '2019-01-01', \"y\": 14}]))\\\n",
    "#     .mark_point(size=100,fill=colors['eco-turquiose'],stroke=None,opacity=1,xOffset=-20,yOffset=-20).encode(x='x:T',y='y:Q')\n",
    "# layer1+=(ecomark)\n",
    "layer1+=(logo)\n",
    "\n",
    "if DARK:\n",
    "    layer1.save(\"visualisation/\" + f + \".json\")\n",
    "    layer2=dark(f)\n",
    "    layer2.save(\"visualisation/\" + f + \"_dark.json\")\n",
    "if SAVE:\n",
    "    layer1.save(\"visualisation/\" + f + \".json\")\n",
    "    layer1.save(\"visualisation/\" + f + \".svg\")\n",
    "    layer1.save(\"visualisation/\" + f + \".png\")\n",
    "    if DARK:\n",
    "        layer2.save(\"visualisation/\" + f + \"_dark.svg\")\n",
    "        layer2.save(\"visualisation/\" + f + \"_dark.png\")\n",
    "    open(\"README.md\", \"w\").write(readme)\n",
    "\n",
    "print(f+'\\n')\n",
    "layer1.display()\n",
    "if DARK:\n",
    "    layer2.display()"
   ]
  },
  {
   "cell_type": "markdown",
   "metadata": {},
   "source": [
    "# Post-process"
   ]
  },
  {
   "cell_type": "markdown",
   "metadata": {},
   "source": [
    "## Clean up `SVG`s\n",
    "`base64 URI` encode images"
   ]
  },
  {
   "cell_type": "code",
   "execution_count": 29,
   "metadata": {
    "tags": []
   },
   "outputs": [],
   "source": [
    "from base64 import b64encode"
   ]
  },
  {
   "cell_type": "code",
   "execution_count": 30,
   "metadata": {
    "tags": []
   },
   "outputs": [],
   "source": [
    "from os import listdir\n",
    "from os.path import isfile, join\n",
    "mypath='./visualisation/'\n",
    "onlyfiles = [f for f in listdir(mypath) if isfile(join(mypath, f))]\n",
    "svgs=[i for i in onlyfiles if i[-4:]=='.svg']"
   ]
  },
  {
   "cell_type": "code",
   "execution_count": 31,
   "metadata": {
    "tags": []
   },
   "outputs": [
    {
     "name": "stdout",
     "output_type": "stream",
     "text": [
      "fig1_health.svg\n",
      "fig1_health_dark.svg\n",
      "fig1_health_local.svg\n",
      "fig1_health_local_dark.svg\n"
     ]
    }
   ],
   "source": [
    "for svg in svgs:\n",
    "    s=open(mypath+svg,'r').read()\n",
    "    si=s.find('\"image mark\" xlink:href=')\n",
    "    if si>-1:\n",
    "        s2=s[si+25:]\n",
    "        imgurl=s2[:s2.find('\"')]\n",
    "        if 'data:image/png;' not in imgurl:\n",
    "            s1=s[:si+25]+s2.replace(imgurl,'data:image/png;base64,'+b64encode(requests.get(imgurl).content).decode('utf-8'))\n",
    "            open(mypath+svg,'w').write(s1)\n",
    "            print(svg)"
   ]
  },
  {
   "cell_type": "markdown",
   "metadata": {},
   "source": [
    "## README"
   ]
  },
  {
   "cell_type": "code",
   "execution_count": 32,
   "metadata": {
    "tags": []
   },
   "outputs": [
    {
     "data": {
      "text/markdown": [
       "## Figure 1  \n",
       "\n",
       "Data: [`csv`](data/fig1_health.csv)  \n",
       "GitHub: [fig1_health](https://github.com/EconomicsObservatory/ECOvisualisations/tree/main/articles/oecd-healthcare)  \n",
       "\n",
       "### Light theme  \n",
       "\n",
       "Versions with data locally embedded into the `Vega-lite` specification file: [`png`](visualisation/fig1_health_local.png) [`svg`](visualisation/fig1_health_local.svg) [`json`](visualisation/fig1_health_local.json)   \n",
       " (**Default**) Versions with data loaded from `GitHub`: [`png`](visualisation/fig1_health.png) [`svg`](visualisation/fig1_health.svg) [`json`](visualisation/fig1_health.json)  \n",
       "Versions (no ECO branding) with data locally embedded into the `Vega-lite` specification file: [`png`](visualisation/fig1_health_local_no_branding.png) [`svg`](visualisation/fig1_health_local_no_branding.svg) [`json`](visualisation/fig1_health_local_no_branding.json)   \n",
       "Versions (no ECO branding) with data loaded from `GitHub`: [`png`](visualisation/fig1_health_no_branding.png) [`svg`](visualisation/fig1_health_no_branding.svg) [`json`](visualisation/fig1_health_no_branding.json)   \n",
       "\n",
       "### Dark theme  \n",
       "\n",
       "Versions with data locally embedded into the `Vega-lite` specification file: [`png`](visualisation/fig1_health_local_dark.png) [`svg`](visualisation/fig1_health_local_dark.svg) [`json`](visualisation/fig1_health_local_dark.json)   \n",
       " Versions with data loaded from `GitHub`: [`png`](visualisation/fig1_health_dark.png) [`svg`](visualisation/fig1_health_dark.svg) [`json`](visualisation/fig1_health_dark.json)  \n",
       "Versions (no ECO branding) with data locally embedded into the `Vega-lite` specification file: [`png`](visualisation/fig1_health_local_no_branding_dark.png) [`svg`](visualisation/fig1_health_local_no_branding_dark.svg) [`json`](visualisation/fig1_health_local_no_branding_dark.json)   \n",
       "Versions (no ECO branding) with data loaded from `GitHub`: [`png`](visualisation/fig1_health_no_branding_dark.png) [`svg`](visualisation/fig1_health_no_branding_dark.svg) [`json`](visualisation/fig1_health_no_branding_dark.json)   \n",
       "\n",
       "![\"fig1_health\"](visualisation/fig1_health.svg \"fig1_health\")\n",
       "\n",
       "  \n",
       "\n",
       "![\"fig1_health_dark\"](visualisation/fig1_health_dark.svg \"fig1_health\")\n",
       "\n"
      ],
      "text/plain": [
       "<IPython.core.display.Markdown object>"
      ]
     },
     "metadata": {},
     "output_type": "display_data"
    }
   ],
   "source": [
    "from IPython.display import display, Markdown\n",
    "\n",
    "with open('README.md', 'r') as fh:\n",
    "    content = fh.read()\n",
    "\n",
    "display(Markdown(content))"
   ]
  },
  {
   "cell_type": "code",
   "execution_count": null,
   "metadata": {},
   "outputs": [],
   "source": []
  },
  {
   "cell_type": "code",
   "execution_count": null,
   "metadata": {},
   "outputs": [],
   "source": []
  }
 ],
 "metadata": {
  "kernelspec": {
   "display_name": "Python 3 (ipykernel)",
   "language": "python",
   "name": "python3"
  },
  "language_info": {
   "codemirror_mode": {
    "name": "ipython",
    "version": 3
   },
   "file_extension": ".py",
   "mimetype": "text/x-python",
   "name": "python",
   "nbconvert_exporter": "python",
   "pygments_lexer": "ipython3",
   "version": "3.11.6"
  }
 },
 "nbformat": 4,
 "nbformat_minor": 4
}
