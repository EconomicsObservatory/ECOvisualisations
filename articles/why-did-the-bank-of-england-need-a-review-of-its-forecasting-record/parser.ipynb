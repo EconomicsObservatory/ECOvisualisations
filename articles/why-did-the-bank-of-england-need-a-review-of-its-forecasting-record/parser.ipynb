{
 "cells": [
  {
   "cell_type": "code",
   "execution_count": 1,
   "metadata": {
    "tags": []
   },
   "outputs": [],
   "source": [
    "# !pip install altair\n",
    "# !pip install altair_saver --upgrade\n",
    "# !npm install -g vega-lite vega-cli canvas\n",
    "# !pip install vl-convert-python --upgrade"
   ]
  },
  {
   "cell_type": "code",
   "execution_count": 2,
   "metadata": {
    "tags": []
   },
   "outputs": [],
   "source": [
    "# !pip install selenium --upgrade\n",
    "# !apt-get install chromium-chromedriver -y"
   ]
  },
  {
   "cell_type": "code",
   "execution_count": 3,
   "metadata": {
    "tags": []
   },
   "outputs": [],
   "source": [
    "# !apt update\n",
    "# !apt install ttf-mscorefonts-installer -y\n",
    "# !apt reinstall fontconfig fontconfig-config libfontconfig1 -y"
   ]
  },
  {
   "cell_type": "code",
   "execution_count": 4,
   "metadata": {
    "tags": []
   },
   "outputs": [],
   "source": [
    "# !wget https://raw.githubusercontent.com/EconomicsObservatory/ECOvisualisations/main/guidelines/fonts/Circular/CircularStd-Black.otf -P /usr/local/share/fonts\n",
    "# !wget https://raw.githubusercontent.com/EconomicsObservatory/ECOvisualisations/main/guidelines/fonts/Circular/CircularStd-Bold.otf -P /usr/local/share/fonts\n",
    "# !wget https://raw.githubusercontent.com/EconomicsObservatory/ECOvisualisations/main/guidelines/fonts/Circular/CircularStd-Book.otf -P /usr/local/share/fonts\n",
    "# !wget https://raw.githubusercontent.com/EconomicsObservatory/ECOvisualisations/main/guidelines/fonts/Circular/CircularStd-Medium.otf -P /usr/local/share/fonts"
   ]
  },
  {
   "cell_type": "code",
   "execution_count": 5,
   "metadata": {
    "tags": []
   },
   "outputs": [],
   "source": [
    "# !fc-cache -f"
   ]
  },
  {
   "cell_type": "code",
   "execution_count": 6,
   "metadata": {
    "tags": []
   },
   "outputs": [],
   "source": [
    "import json\n",
    "import altair as alt\n",
    "from altair import expr, datum\n",
    "import matplotlib.pyplot as plt\n",
    "import numpy as np\n",
    "import pandas as pd\n",
    "import requests\n",
    "import urllib.parse"
   ]
  },
  {
   "cell_type": "code",
   "execution_count": 7,
   "metadata": {
    "tags": []
   },
   "outputs": [],
   "source": [
    "import colorsys\n",
    "from matplotlib.colors import to_hex, to_rgb\n",
    "\n",
    "\n",
    "def scale_lightness(rgb, scale_l):\n",
    "    rgbhex = False\n",
    "    if \"#\" in rgb:\n",
    "        rgb = to_rgb(rgb)\n",
    "        rgbhex = True\n",
    "    # convert rgb to hls\n",
    "    h, l, s = colorsys.rgb_to_hls(*rgb)\n",
    "    # manipulate h, l, s values and return as rgb\n",
    "    c = colorsys.hls_to_rgb(h, min(1, l * scale_l), s=s)\n",
    "    if rgbhex:\n",
    "        c = to_hex(c)\n",
    "    return c"
   ]
  },
  {
   "cell_type": "code",
   "execution_count": 465,
   "metadata": {
    "tags": []
   },
   "outputs": [],
   "source": [
    "SAVE = True\n",
    "LOCAL = False\n",
    "DARK = True\n",
    "\n",
    "if LOCAL:\n",
    "    local_suffix = \"_local\"\n",
    "else:\n",
    "    local_suffix = \"\""
   ]
  },
  {
   "cell_type": "code",
   "execution_count": 466,
   "metadata": {
    "tags": []
   },
   "outputs": [],
   "source": [
    "%%capture pwd\n",
    "!pwd"
   ]
  },
  {
   "cell_type": "code",
   "execution_count": 467,
   "metadata": {
    "tags": []
   },
   "outputs": [
    {
     "data": {
      "text/plain": [
       "('why-did-the-bank-of-england-need-a-review-of-its-forecasting-record',\n",
       " 300,\n",
       " 500)"
      ]
     },
     "execution_count": 467,
     "metadata": {},
     "output_type": "execute_result"
    }
   ],
   "source": [
    "uid = pwd.stdout.split(\"/\")[-1].split(\"\\r\")[0]\n",
    "uid=urllib.parse.quote(uid)\n",
    "if not LOCAL:\n",
    "    eco_git_home = (\n",
    "        \"https://raw.githubusercontent.com/EconomicsObservatory/ECOvisualisations/main/\"\n",
    "    )\n",
    "    vega_embed = requests.get(eco_git_home + \"guidelines/html/vega-embed.html\").text\n",
    "    colors = json.loads(\n",
    "        requests.get(eco_git_home + \"guidelines/colors/eco-colors.json\").content\n",
    "    )\n",
    "    category_color = json.loads(\n",
    "        requests.get(eco_git_home + \"guidelines/colors/eco-category-color.json\").content\n",
    "    )\n",
    "    hue_color = json.loads(\n",
    "        requests.get(eco_git_home + \"guidelines/colors/eco-single-hue-color.json\").content\n",
    "    )\n",
    "    mhue_color = json.loads(\n",
    "        requests.get(eco_git_home + \"guidelines/colors/eco-multi-hue-color.json\").content\n",
    "    )\n",
    "    div_color = json.loads(\n",
    "        requests.get(eco_git_home + \"guidelines/colors/eco-diverging-color.json\").content\n",
    "    )\n",
    "    config = json.loads(\n",
    "        requests.get(eco_git_home + \"guidelines/charts/eco-global-config.json\").content\n",
    "    )\n",
    "else:\n",
    "    eco_git_home = '/'.join(pwd.stdout.split(\"/\")[:-2])+'/'\n",
    "    vega_embed = open(eco_git_home + \"guidelines/html/vega-embed.html\",'r').read()\n",
    "    colors = json.load(\n",
    "        open(eco_git_home + \"guidelines/colors/eco-colors.json\",'r')\n",
    "    )\n",
    "    category_color = json.load(\n",
    "        open(eco_git_home + \"guidelines/colors/eco-category-color.json\",'r')\n",
    "    )\n",
    "    hue_color = json.load(\n",
    "        open(eco_git_home + \"guidelines/colors/eco-single-hue-color.json\",'r')\n",
    "    )\n",
    "    mhue_color = json.load(\n",
    "        open(eco_git_home + \"guidelines/colors/eco-multi-hue-color.json\",'r')\n",
    "    )\n",
    "    div_color = json.load(\n",
    "        open(eco_git_home + \"guidelines/colors/eco-diverging-color.json\",'r')\n",
    "    )\n",
    "    config = json.load(\n",
    "        open(eco_git_home + \"guidelines/charts/eco-global-config.json\",'r')\n",
    "    )\n",
    "eco_git_path = eco_git_home + \"articles/\" + uid + \"/data/\"\n",
    "mo=0.5\n",
    "height = config[\"height\"]\n",
    "width = config[\"width\"]\n",
    "uid, height, width"
   ]
  },
  {
   "cell_type": "code",
   "execution_count": 468,
   "metadata": {
    "tags": []
   },
   "outputs": [],
   "source": [
    "def save(df, f, LOCAL):\n",
    "    fc = eco_git_path + f + \".csv\"\n",
    "    df.to_csv(\"data/\" + f + \".csv\")\n",
    "    f += local_suffix\n",
    "    open(\"visualisation/\" + f + \".html\", \"w\").write(\n",
    "        vega_embed.replace(\n",
    "            \"JSON_PATH\", fc.replace(\"/data/\", \"/visualisation/\").replace(\".csv\", \".json\")\n",
    "        )\n",
    "    )\n",
    "    if LOCAL:\n",
    "        fc = df\n",
    "    \n",
    "    from IPython.display import display, HTML\n",
    "    display(HTML(df.head().to_html()))\n",
    "    \n",
    "    readme = \"## Figure \" + f.replace('fig','').split('_')[0] + \\\n",
    "        '  \\n\\nData: [`csv`](data/' + f + '.csv)' +\\\n",
    "        '  \\nGitHub: [' + f + '](https://github.com/EconomicsObservatory/ECOvisualisations/tree/main/articles/'+uid +')'+\\\n",
    "        ''+\\\n",
    "        '  \\n\\n### Light theme  \\n\\nVersions with data locally embedded into the `Vega-lite` specification file: ' + \\\n",
    "        '[`png`](visualisation/' + f + '_local.png) [`svg`](visualisation/' + f + '_local.svg) [`json`](visualisation/' + f + '_local.json) '+ \\\n",
    "        '  \\n (**Default**) Versions with data loaded from `GitHub`: ' + \\\n",
    "        '[`png`](visualisation/' + f + '.png) [`svg`](visualisation/' + f + '.svg) [`json`](visualisation/' + f + '.json)'+ \\\n",
    "        '  \\nVersions (no ECO branding) with data locally embedded into the `Vega-lite` specification file: ' + \\\n",
    "        '[`png`](visualisation/' + f + '_local_no_branding.png) [`svg`](visualisation/' + f + '_local_no_branding.svg) [`json`](visualisation/' + f + '_local_no_branding.json) '+ \\\n",
    "        '  \\nVersions (no ECO branding) with data loaded from `GitHub`: ' + \\\n",
    "        '[`png`](visualisation/' + f + '_no_branding.png) [`svg`](visualisation/' + f + '_no_branding.svg) [`json`](visualisation/' + f + '_no_branding.json) '+ \\\n",
    "        ''+\\\n",
    "        '  \\n\\n### Dark theme  \\n\\nVersions with data locally embedded into the `Vega-lite` specification file: ' + \\\n",
    "        '[`png`](visualisation/' + f + '_local_dark.png) [`svg`](visualisation/' + f + '_local_dark.svg) [`json`](visualisation/' + f + '_local_dark.json) '+ \\\n",
    "        '  \\n Versions with data loaded from `GitHub`: ' + \\\n",
    "        '[`png`](visualisation/' + f + '_dark.png) [`svg`](visualisation/' + f + '_dark.svg) [`json`](visualisation/' + f + '_dark.json)'+ \\\n",
    "        '  \\nVersions (no ECO branding) with data locally embedded into the `Vega-lite` specification file: ' + \\\n",
    "        '[`png`](visualisation/' + f + '_local_no_branding_dark.png) [`svg`](visualisation/' + f + '_local_no_branding_dark.svg) [`json`](visualisation/' + f + '_local_no_branding_dark.json) '+ \\\n",
    "        '  \\nVersions (no ECO branding) with data loaded from `GitHub`: ' + \\\n",
    "        '[`png`](visualisation/' + f + '_no_branding_dark.png) [`svg`](visualisation/' + f + '_no_branding_dark.svg) [`json`](visualisation/' + f + '_no_branding_dark.json) '+ \\\n",
    "        ''+\\\n",
    "        '  \\n\\n![\"' + f + '\"](visualisation/' + f + '.svg \"' + f + '\")\\n\\n' +\\\n",
    "        '  \\n\\n![\"' + f + '_dark\"](visualisation/' + f + '_dark.svg \"' + f + '\")\\n\\n' \n",
    "    return readme, f, fc"
   ]
  },
  {
   "cell_type": "code",
   "execution_count": 469,
   "metadata": {
    "tags": []
   },
   "outputs": [],
   "source": [
    "def area(base,color,opacity=1):\n",
    "    return base.mark_area(opacity=opacity,\n",
    "    interpolate=\"monotone\",\n",
    "    line={'color':color},\n",
    "    color=alt.Gradient(\n",
    "        gradient='linear',\n",
    "        stops=[alt.GradientStop(color='#ffffff00', offset=0.2),\n",
    "               alt.GradientStop(color=color, offset=0.8)],\n",
    "        x1=1, #0.8\n",
    "        y1=1,\n",
    "        x2=1,\n",
    "        y2=0\n",
    "        )\n",
    "    )"
   ]
  },
  {
   "cell_type": "code",
   "execution_count": 470,
   "metadata": {
    "tags": []
   },
   "outputs": [],
   "source": [
    "# service_color='#d6c8da' '#e4bfe2' '#ce4b96' colors['eco-turquiose']\n",
    "service_color='#b4c8d8'\n",
    "def dark(f):\n",
    "    configSource = \"visualisation/\" + f + \".json\"\n",
    "    config = json.loads(open(configSource, \"r\").read())\n",
    "    config['background']=colors['eco-background']\n",
    "    service_color='#b4c8d8'\n",
    "    for i in config['layer']:\n",
    "        if 'encoding' in i:\n",
    "            for x in ['x','y']:\n",
    "                if x in i['encoding']:\n",
    "                    if 'axis' in i['encoding'][x]:\n",
    "                        for c in ['domainColor','labelColor','tickColor','titleColor','gridColor']:\n",
    "                            if c in i['encoding'][x]['axis']:\n",
    "                                i['encoding'][x]['axis'][c]=service_color\n",
    "        if 'mark' in i:\n",
    "            if 'color' in i['mark']:\n",
    "                if i['mark']['color']==colors['eco-gray']:\n",
    "                    i['mark']['color']=service_color\n",
    "                elif i['mark']['color']==colors['eco-blue']:\n",
    "                    i['mark']['color']=colors['eco-yellow']\n",
    "                elif i['mark']['color']==service_color:\n",
    "                    i['mark']['color']=colors['eco-green']\n",
    "                elif 'stops' in i['mark']['color']:\n",
    "                    for s in i['mark']['color']['stops']:\n",
    "                        if 'color' in s:\n",
    "                            if s['color']==colors['eco-gray']:\n",
    "                                s['color']=service_color\n",
    "                            elif s['color']==colors['eco-blue']:\n",
    "                                s['color']=colors['eco-yellow']\n",
    "                            elif s['color']==service_color:\n",
    "                                s['color']=colors['eco-green']\n",
    "            if 'line' in i['mark']:\n",
    "                if 'color' in i['mark']['line']:\n",
    "                    if i['mark']['line']['color']==colors['eco-gray']:\n",
    "                        i['mark']['line']['color']=service_color\n",
    "                    elif i['mark']['line']['color']==colors['eco-blue']:\n",
    "                        i['mark']['line']['color']=colors['eco-yellow']\n",
    "                    elif i['mark']['line']['color']==service_color:\n",
    "                        i['mark']['line']['color']=colors['eco-green']\n",
    "    if 'datasets' in config:\n",
    "        for i in config['datasets']:\n",
    "            if 'img' in config['datasets'][i][0]:\n",
    "                if 'eco-icon-dark' in config['datasets'][i][0]['img']:\n",
    "                    config['datasets'][i][0]['img']=config['datasets'][i][0]['img'].replace('eco-icon-dark','eco-icon-light')\n",
    "    return alt.Chart.from_dict(config) "
   ]
  },
  {
   "cell_type": "markdown",
   "metadata": {
    "tags": []
   },
   "source": [
    "# Fig 1"
   ]
  },
  {
   "cell_type": "code",
   "execution_count": 489,
   "metadata": {
    "tags": []
   },
   "outputs": [],
   "source": [
    "df = pd.read_csv(\"raw/f1.csv\",skiprows=1).dropna(how='all',axis=1)\n",
    "df.columns=[i.replace('.','').lower() for i in df.columns]\n",
    "df=df.rename(columns={'x':'x0','y':'y0'})"
   ]
  },
  {
   "cell_type": "code",
   "execution_count": 490,
   "metadata": {
    "tags": []
   },
   "outputs": [],
   "source": [
    "df['x0']+=0.5\n",
    "df['x0']=df['x0'][0]+0.07+(df['x0']-df['x0'][0])*0.93\n",
    "for i in range(1,5):\n",
    "    df['x'+str(i)]=df['x'+str(i)][0]+1.22+(df['x'+str(i)]-df['x'+str(i)][0])*0.66\n",
    "    df['y'+str(i)]-=2.6"
   ]
  },
  {
   "cell_type": "code",
   "execution_count": 491,
   "metadata": {
    "tags": []
   },
   "outputs": [],
   "source": [
    "dfs=[]\n",
    "for i in range(5):\n",
    "    df['x'+str(i)+'t']=pd.to_datetime(df['x'+str(i)].dropna().astype(str).str.split('.').str[0]+'-01-01')+\\\n",
    "    pd.to_timedelta((('0.'+df['x'+str(i)].dropna().astype(str).str.split('.').str[1]).astype(float)*365.25).round().astype(int).astype(str)+'D')\n",
    "    dfs.append(df.set_index('x'+str(i)+'t')[['y'+str(i)]].resample('1M').mean().interpolate())\n",
    "df=pd.concat(dfs,axis=1).reset_index().rename(columns={'index':'x'})\n",
    "df['ym']=df['y4']+(df['y1']-df['y4'])/2\n",
    "df['y2b']=2*df['ym']-df['y2']\n",
    "df['y3b']=2*df['ym']-df['y3']"
   ]
  },
  {
   "cell_type": "code",
   "execution_count": 492,
   "metadata": {
    "tags": []
   },
   "outputs": [
    {
     "data": {
      "text/html": [
       "<table border=\"1\" class=\"dataframe\">\n",
       "  <thead>\n",
       "    <tr style=\"text-align: right;\">\n",
       "      <th></th>\n",
       "      <th>x</th>\n",
       "      <th>y0</th>\n",
       "      <th>y1</th>\n",
       "      <th>y2</th>\n",
       "      <th>y3</th>\n",
       "      <th>y4</th>\n",
       "      <th>ym</th>\n",
       "      <th>y2b</th>\n",
       "      <th>y3b</th>\n",
       "    </tr>\n",
       "  </thead>\n",
       "  <tbody>\n",
       "    <tr>\n",
       "      <th>0</th>\n",
       "      <td>2017-01-31</td>\n",
       "      <td>2.064516</td>\n",
       "      <td>NaN</td>\n",
       "      <td>NaN</td>\n",
       "      <td>NaN</td>\n",
       "      <td>NaN</td>\n",
       "      <td>NaN</td>\n",
       "      <td>NaN</td>\n",
       "      <td>NaN</td>\n",
       "    </tr>\n",
       "    <tr>\n",
       "      <th>1</th>\n",
       "      <td>2017-02-28</td>\n",
       "      <td>2.301075</td>\n",
       "      <td>NaN</td>\n",
       "      <td>NaN</td>\n",
       "      <td>NaN</td>\n",
       "      <td>NaN</td>\n",
       "      <td>NaN</td>\n",
       "      <td>NaN</td>\n",
       "      <td>NaN</td>\n",
       "    </tr>\n",
       "    <tr>\n",
       "      <th>2</th>\n",
       "      <td>2017-03-31</td>\n",
       "      <td>2.537634</td>\n",
       "      <td>NaN</td>\n",
       "      <td>NaN</td>\n",
       "      <td>NaN</td>\n",
       "      <td>NaN</td>\n",
       "      <td>NaN</td>\n",
       "      <td>NaN</td>\n",
       "      <td>NaN</td>\n",
       "    </tr>\n",
       "    <tr>\n",
       "      <th>3</th>\n",
       "      <td>2017-04-30</td>\n",
       "      <td>2.774194</td>\n",
       "      <td>NaN</td>\n",
       "      <td>NaN</td>\n",
       "      <td>NaN</td>\n",
       "      <td>NaN</td>\n",
       "      <td>NaN</td>\n",
       "      <td>NaN</td>\n",
       "      <td>NaN</td>\n",
       "    </tr>\n",
       "    <tr>\n",
       "      <th>4</th>\n",
       "      <td>2017-05-31</td>\n",
       "      <td>2.782258</td>\n",
       "      <td>NaN</td>\n",
       "      <td>NaN</td>\n",
       "      <td>NaN</td>\n",
       "      <td>NaN</td>\n",
       "      <td>NaN</td>\n",
       "      <td>NaN</td>\n",
       "      <td>NaN</td>\n",
       "    </tr>\n",
       "  </tbody>\n",
       "</table>"
      ],
      "text/plain": [
       "<IPython.core.display.HTML object>"
      ]
     },
     "metadata": {},
     "output_type": "display_data"
    }
   ],
   "source": [
    "readme, f, fc = save(df,\"fig1_cpi\",LOCAL)"
   ]
  },
  {
   "cell_type": "code",
   "execution_count": null,
   "metadata": {
    "tags": []
   },
   "outputs": [],
   "source": [
    "xmin='2017-01-01'\n",
    "xmax='2025-01-01'\n",
    "xaxis = alt.Chart(pd.DataFrame([{'x':xmin,'y':2},{'x':xmax,'y':2}])).mark_line(color=colors[\"eco-gray\"],opacity=mo-0.2,strokeWidth=1).encode(\n",
    "    alt.X(\n",
    "        \"x:T\",\n",
    "        sort=[],\n",
    "        axis=alt.Axis(\n",
    "            grid=False,\n",
    "            titleAlign=\"center\",\n",
    "            titleAnchor=\"middle\",\n",
    "            title=\"\",\n",
    "            titleY=-15,\n",
    "            titleX=207,\n",
    "            labelColor=colors[\"eco-gray\"],\n",
    "            titleColor=colors[\"eco-gray\"],\n",
    "            tickColor=colors[\"eco-gray\"],\n",
    "            domainColor=colors[\"eco-gray\"],\n",
    "            tickCount=10,\n",
    "            domainOpacity=mo,\n",
    "            tickOpacity=mo,\n",
    "            labelOpacity=mo+0.2,\n",
    "            titleOpacity=mo+0.3,\n",
    "            titleFontSize=12,\n",
    "            orient=\"bottom\",\n",
    "            labelAngle=0\n",
    "        ),\n",
    "    ),\n",
    "    y=alt.Y(\n",
    "        \"y:Q\",\n",
    "        sort=[],\n",
    "        axis=alt.Axis(\n",
    "            # grid=False,\n",
    "            gridDash=[1,5],\n",
    "            gridColor=colors[\"eco-gray\"],\n",
    "            gridOpacity=mo,\n",
    "            title=\"%\",\n",
    "            titleX=0,\n",
    "            titleY=-7,\n",
    "            titleBaseline=\"bottom\",\n",
    "            titleAngle=0,\n",
    "            titleAlign=\"left\",\n",
    "            ticks=False,\n",
    "            labelPadding=5,\n",
    "            labelColor=colors[\"eco-gray\"],\n",
    "            titleColor=colors[\"eco-gray\"],\n",
    "            tickColor=colors[\"eco-gray\"],\n",
    "            domainColor=colors[\"eco-gray\"],\n",
    "            domainOpacity=mo,\n",
    "            tickOpacity=mo,\n",
    "            labelOpacity=mo+0.2,\n",
    "            titleOpacity=mo+0.3,\n",
    "            titleFontSize=12,\n",
    "            format='.0f',\n",
    "            tickCount=8\n",
    "        ),\n",
    "        # scale=alt.Scale(domain=[-0.16, 0.06]),\n",
    "    )\n",
    ")\n",
    "\n",
    "base = alt.Chart(fc).encode(x='x:T')\n",
    "xaxis2= alt.Chart(pd.DataFrame([{'x':xmin,'y':0},{'x':xmax,'y':0}])).mark_line(color=colors[\"eco-gray\"],opacity=mo-0.2,strokeWidth=1).encode(x=\"x:T\",y='y:Q')\n",
    "line1=base.mark_line(color=colors['eco-dot'],interpolate='basis').encode(y='y0:Q').transform_filter('datum.y0>0')\n",
    "area1=base.mark_area(color=colors['eco-dot'],interpolate='basis',opacity=0.2).encode(y='y4:Q',y2='y1:Q')\n",
    "area2=base.mark_area(color=colors['eco-dot'],interpolate='basis',opacity=0.2).encode(y='y2:Q',y2='y2b:Q')\n",
    "area3=base.mark_area(color=colors['eco-dot'],interpolate='basis',opacity=0.2).encode(y='y3:Q',y2='y3b:Q')\n",
    "points= alt.Chart(pd.DataFrame([{'x':'2022-10-15','y':9.6,'t':'October 2022'},\n",
    "                                {'x':'2023-01-15','y':8.8,'t':'January 2023'}]))\\\n",
    "    .mark_circle(color=colors[\"eco-gray\"]).encode(x=\"x:T\",y='y:Q')\n",
    "labels1= points.mark_text(color=colors[\"eco-gray\"],align='right',dx=-10).encode(x=\"x:T\",y='y:Q',text='t:N')\n",
    "labels2= points.mark_text(color=colors[\"eco-gray\"],align='left',dx=10,dy=1).encode(x=\"x:T\",y='y:Q',text='t2:N').transform_calculate(t2='toString(datum.y)+\"%\"')\n",
    "\n",
    "layer1 = (\n",
    "    (xaxis+points+xaxis2+line1+area3+area2+area1+labels1+labels2).properties(height=300, width=400, title=\"\")\n",
    "    .configure(font='Circular Std Book').configure_view(stroke=None)\n",
    ")\n",
    "\n",
    "if DARK:\n",
    "    layer1.save(\"visualisation/\" + f + \"_no_branding.json\")\n",
    "    layer2=dark(f+'_no_branding')\n",
    "    layer2.save(\"visualisation/\" + f + \"_no_branding_dark.json\")\n",
    "    \n",
    "if SAVE:\n",
    "    layer1.save(\"visualisation/\" + f + \"_no_branding.json\")\n",
    "    layer1.save(\"visualisation/\" + f + \"_no_branding.svg\")\n",
    "    layer1.save(\"visualisation/\" + f + \"_no_branding.png\")\n",
    "    if DARK:\n",
    "        layer2.save(\"visualisation/\" + f + \"_no_branding_dark.svg\")\n",
    "        layer2.save(\"visualisation/\" + f + \"_no_branding_dark.png\")\n",
    "    \n",
    "logo=alt.Chart(pd.DataFrame([{\"x\": xmax, \"y\": 10, \"img\": \"https://raw.githubusercontent.com/EconomicsObservatory/ECOvisualisations/main/guidelines/logos/eco-icon-dark.png\"}]))\\\n",
    "    .mark_image(width=40,height=40,align='right',baseline='top',yOffset=-33,opacity=mo,xOffset=0).encode(x='x:T',y='y:Q',url='img:N')\n",
    "# ecomark=alt.Chart(pd.DataFrame([{\"x\": '2019-01-01', \"y\": 14}]))\\\n",
    "#     .mark_point(size=100,fill=colors['eco-turquiose'],stroke=None,opacity=1,xOffset=-20,yOffset=-20).encode(x='x:T',y='y:Q')\n",
    "# layer1+=(ecomark)\n",
    "layer1+=(logo)\n",
    "# layer1.save(\"visualisation/\" + f + \".json\")\n",
    "    \n",
    "if DARK:\n",
    "    layer1.save(\"visualisation/\" + f + \".json\")\n",
    "    layer2=dark(f)\n",
    "    layer2.save(\"visualisation/\" + f + \"_dark.json\")\n",
    "if SAVE:\n",
    "    layer1.save(\"visualisation/\" + f + \".json\")\n",
    "    layer1.save(\"visualisation/\" + f + \".svg\")\n",
    "    layer1.save(\"visualisation/\" + f + \".png\")\n",
    "    if DARK:\n",
    "        layer2.save(\"visualisation/\" + f + \"_dark.svg\")\n",
    "        layer2.save(\"visualisation/\" + f + \"_dark.png\")\n",
    "    open(\"README.md\", \"w\").write(readme)\n",
    "\n",
    "print(f+'\\n')\n",
    "layer1.display()\n",
    "if DARK:\n",
    "    layer2.display()"
   ]
  },
  {
   "cell_type": "markdown",
   "metadata": {
    "tags": []
   },
   "source": [
    "# Fig 2"
   ]
  },
  {
   "cell_type": "code",
   "execution_count": null,
   "metadata": {
    "tags": []
   },
   "outputs": [],
   "source": [
    "df = pd.read_excel(\"raw/MonthlyUKMacroDataset.xlsx\")\n",
    "df['date']=pd.to_datetime(df['Unnamed: 0'].str.replace('(','-').str.replace(')','-01'))\n",
    "df=df[['date','D12Ura','D12LYa','D12LPa','D12LWa']]\n",
    "df=df.set_index('date').stack().reset_index()\\\n",
    "    .replace('D12LPa','Annual UK inflation')\\\n",
    "    .replace('D12LYa','Annual change in UK GDP')\\\n",
    "    .replace('D12Ura','Annual change in UK employment')\\\n",
    "    .replace('D12LWa','Annual change in UK wages')\n",
    "df.columns=['date','ind','value']"
   ]
  },
  {
   "cell_type": "code",
   "execution_count": null,
   "metadata": {
    "tags": []
   },
   "outputs": [],
   "source": [
    "readme, f, fc = save(df,\"fig2_ons\",LOCAL)"
   ]
  },
  {
   "cell_type": "code",
   "execution_count": null,
   "metadata": {
    "tags": []
   },
   "outputs": [],
   "source": [
    "xmin='2000-03-01'\n",
    "xmax='2024-03-01'\n",
    "xaxis = alt.Chart(fc).mark_line(color=colors[\"eco-gray\"],opacity=mo-0.2,strokeWidth=1,clip=True).encode(\n",
    "    alt.X(\n",
    "        \"date:T\",\n",
    "        sort=[],\n",
    "        axis=alt.Axis(\n",
    "            # grid=False,\n",
    "            gridDash=[1,5],\n",
    "            gridColor=colors[\"eco-gray\"],\n",
    "            gridOpacity=mo,\n",
    "            titleAlign=\"center\",\n",
    "            titleAnchor=\"middle\",\n",
    "            title=\"\",\n",
    "            titleY=-15,\n",
    "            titleX=207,\n",
    "            labelColor=colors[\"eco-gray\"],\n",
    "            titleColor=colors[\"eco-gray\"],\n",
    "            tickColor=colors[\"eco-gray\"],\n",
    "            domainColor=colors[\"eco-gray\"],\n",
    "            tickCount=5,\n",
    "            domainOpacity=mo,\n",
    "            tickOpacity=mo,\n",
    "            labelOpacity=mo+0.2,\n",
    "            titleOpacity=mo+0.3,\n",
    "            titleFontSize=12,\n",
    "            orient=\"bottom\",\n",
    "            labelAngle=0,\n",
    "        ),\n",
    "        scale=alt.Scale(domain=[xmin, xmax])\n",
    "    ),\n",
    "    y=alt.Y(\n",
    "        \"y:Q\",\n",
    "        sort=[],\n",
    "        axis=alt.Axis(\n",
    "            # grid=False,\n",
    "            gridDash=[1,5],\n",
    "            gridColor=colors[\"eco-gray\"],\n",
    "            gridOpacity=mo,\n",
    "            title=\"%\",\n",
    "            titleX=0,\n",
    "            titleY=-7,\n",
    "            titleBaseline=\"bottom\",\n",
    "            titleAngle=0,\n",
    "            titleAlign=\"left\",\n",
    "            ticks=False,\n",
    "            labelPadding=5,\n",
    "            labelColor=colors[\"eco-gray\"],\n",
    "            titleColor=colors[\"eco-gray\"],\n",
    "            tickColor=colors[\"eco-gray\"],\n",
    "            domainColor=colors[\"eco-gray\"],\n",
    "            domainOpacity=mo,\n",
    "            tickOpacity=mo,\n",
    "            labelOpacity=mo+0.2,\n",
    "            titleOpacity=mo+0.3,\n",
    "            titleFontSize=12,\n",
    "            format='.0f',\n",
    "            tickCount=8\n",
    "        ),\n",
    "        # scale=alt.Scale(domain=[-0.16, 0.06]),\n",
    "    )\n",
    ").transform_calculate(y='0')\n",
    "\n",
    "line1=xaxis.mark_line(color=colors['eco-dot'],interpolate='basis',clip=True).encode(y='value:Q')\n",
    "\n",
    "layer1 = (\n",
    "    (xaxis+line1).properties(height=180, width=250).facet(facet=alt.Facet('ind:N', \n",
    "    title=None,header={'labelColor':colors[\"eco-gray\"],'labelFontSize':11}),columns=2,\n",
    "    resolve={'scale':{'y':'independent'}})\n",
    ")\n",
    "\n",
    "layer1.save(\"visualisation/\" + f + \"_no_branding.json\")\n",
    "# if DARK:\n",
    "#     layer2=dark(f+'_no_branding')\n",
    "#     layer2.save(\"visualisation/\" + f + \"_no_branding_dark.json\")\n",
    "    \n",
    "if SAVE:\n",
    "    layer1.save(\"visualisation/\" + f + \"_no_branding.svg\")\n",
    "    layer1.save(\"visualisation/\" + f + \"_no_branding.png\")\n",
    "    # if DARK:\n",
    "    #     layer2.save(\"visualisation/\" + f + \"_no_branding_dark.svg\")\n",
    "    #     layer2.save(\"visualisation/\" + f + \"_no_branding_dark.png\")\n",
    "    \n",
    "logo=alt.Chart(pd.DataFrame([{\"x\": xmax, \"y\": 6, \"img\": \"https://raw.githubusercontent.com/EconomicsObservatory/ECOvisualisations/main/guidelines/logos/eco-icon-dark.png\"}]))\\\n",
    "    .mark_image(width=40,height=40,align='right',baseline='top',yOffset=-33,opacity=mo,xOffset=-0)\\\n",
    "    .encode(x=alt.X('x:T',axis=None),y=alt.Y('y:Q',axis=None),url='img:N')\\\n",
    "    .properties(height=0, width=50)\n",
    "layer1=alt.hconcat(layer1,logo).configure(font='Circular Std Book').configure_view(stroke=None)\n",
    "\n",
    "layer1.save(\"visualisation/\" + f + \".json\")\n",
    "# if DARK:\n",
    "#     layer2=dark(f)\n",
    "#     layer2.save(\"visualisation/\" + f + \"_dark.json\")\n",
    "if SAVE:\n",
    "    layer1.save(\"visualisation/\" + f + \".svg\")\n",
    "    layer1.save(\"visualisation/\" + f + \".png\")\n",
    "    # if DARK:\n",
    "    #     layer2.save(\"visualisation/\" + f + \"_dark.svg\")\n",
    "    #     layer2.save(\"visualisation/\" + f + \"_dark.png\")\n",
    "    open(\"README.md\", \"a\").write(readme)\n",
    "\n",
    "print(f+'\\n')\n",
    "layer1.display()\n",
    "# if DARK:\n",
    "#     layer2.display()"
   ]
  },
  {
   "cell_type": "markdown",
   "metadata": {},
   "source": [
    "# Fig 3"
   ]
  },
  {
   "cell_type": "markdown",
   "metadata": {},
   "source": [
    "## a"
   ]
  },
  {
   "cell_type": "code",
   "execution_count": null,
   "metadata": {
    "tags": []
   },
   "outputs": [],
   "source": [
    "df = pd.read_excel(\"raw/UKEnergy.xlsx\")\n",
    "df=df.rename(columns={'Unnamed: 0':'Year','passthrough%':'passthrough'})\n",
    "df['time']=pd.to_datetime(df['Year'].astype(str)+'-01-01')"
   ]
  },
  {
   "cell_type": "code",
   "execution_count": null,
   "metadata": {
    "tags": []
   },
   "outputs": [],
   "source": [
    "readme, f, fc = save(df,\"fig3a_pt\",LOCAL)"
   ]
  },
  {
   "cell_type": "code",
   "execution_count": null,
   "metadata": {
    "tags": []
   },
   "outputs": [],
   "source": [
    "xmin='1860-01-01'\n",
    "xmax='2025-01-01'\n",
    "xaxis = alt.Chart(pd.DataFrame([{'x':xmin,'y':0},{'x':xmax,'y':0}])).mark_line(color=colors[\"eco-gray\"],opacity=mo-0.2,strokeWidth=1).encode(\n",
    "    alt.X(\n",
    "        \"x:T\",\n",
    "        sort=[],\n",
    "        axis=alt.Axis(\n",
    "            grid=False,\n",
    "            titleAlign=\"center\",\n",
    "            titleAnchor=\"middle\",\n",
    "            title=\"\",\n",
    "            titleY=-15,\n",
    "            titleX=207,\n",
    "            labelColor=colors[\"eco-gray\"],\n",
    "            titleColor=colors[\"eco-gray\"],\n",
    "            tickColor=colors[\"eco-gray\"],\n",
    "            domainColor=colors[\"eco-gray\"],\n",
    "            tickCount=10,\n",
    "            domainOpacity=mo,\n",
    "            tickOpacity=mo,\n",
    "            labelOpacity=mo+0.2,\n",
    "            titleOpacity=mo+0.3,\n",
    "            titleFontSize=12,\n",
    "            orient=\"bottom\",\n",
    "            labelAngle=0,\n",
    "        ),\n",
    "    ),\n",
    "    y=alt.Y(\n",
    "        \"y:Q\",\n",
    "        sort=[],\n",
    "        axis=alt.Axis(\n",
    "            # grid=False,\n",
    "            gridDash=[1,5],\n",
    "            gridColor=colors[\"eco-gray\"],\n",
    "            gridOpacity=mo,\n",
    "            title=\"Mtoe (million tonnes of oil equivalent)\",\n",
    "            titleX=0,\n",
    "            titleY=-7,\n",
    "            titleBaseline=\"bottom\",\n",
    "            titleAngle=0,\n",
    "            titleAlign=\"left\",\n",
    "            ticks=False,\n",
    "            labelPadding=5,\n",
    "            labelColor=colors[\"eco-gray\"],\n",
    "            titleColor=colors[\"eco-gray\"],\n",
    "            tickColor=colors[\"eco-gray\"],\n",
    "            domainColor=colors[\"eco-gray\"],\n",
    "            domainOpacity=mo,\n",
    "            tickOpacity=mo,\n",
    "            labelOpacity=mo+0.2,\n",
    "            titleOpacity=mo+0.3,\n",
    "            titleFontSize=12,\n",
    "            format='.0f',\n",
    "            tickCount=8\n",
    "        ),\n",
    "        # scale=alt.Scale(domain=[-0.16, 0.06]),\n",
    "    )\n",
    ")\n",
    "# yaxis=alt.Chart(pd.DataFrame([{'x':'2020-01-01','y':-4},{'x':'2020-01-01','y':14}])).mark_line(color=colors[\"eco-gray\"],opacity=mo-0.2,strokeWidth=1).encode(x='x:T',y='y:Q')\n",
    "# ylabel=alt.Chart(pd.DataFrame([{'x':'2019-01-01','y':-3.2,'t':'↓ decrease'},{'x':'2019-01-01','y':13,'t':'↑ increase'}]))\\\n",
    "#     .mark_text(color=colors[\"eco-gray\"],opacity=mo+0.1,align='left',dx=5).encode(x='x:T',y='y:Q',text='t:N')\n",
    "# ylabel2=alt.Chart(pd.DataFrame([{'x':'2022-04-01','y':14,'t':'Aged 16-24'}]))\\\n",
    "#     .mark_text(color=colors[\"eco-gray\"],opacity=mo+0.3,align='right',dx=-5,dy=-12,fontSize=12,fontWeight='bold').encode(x='x:T',y='y:Q',text='t:N')\n",
    "\n",
    "base = alt.Chart(fc).encode(x='time:T')\n",
    "line1=base.mark_line(color=colors['eco-dot']).encode(y='TotalFuel:Q').transform_filter('datum.TotalFuel>0')\n",
    "line2=base.mark_line(color=colors['eco-turquiose']).encode(y='UKTotOil:Q').transform_filter('datum.UKTotOil>0')\n",
    "line3=base.mark_line(color=colors['eco-purple']).encode(y='UKGas:Q').transform_filter('datum.UKGas>0')\n",
    "label1=line1.mark_text(color=colors['eco-dot'],text='Total Fuel',align='left',dx=5).transform_filter('datum.Year==2021')\n",
    "label2=line2.mark_text(color=colors['eco-turquiose'],text='Oil',align='left',dx=5).transform_filter('datum.Year==2021')\n",
    "label3=line3.mark_text(color=colors['eco-purple'],text='Natural Gas',align='left',dx=5).transform_filter('datum.Year==2021')\n",
    "\n",
    "layer1 = (\n",
    "    (xaxis+line1+line3+line2+label1+label2+label3).properties(height=300, width=400, title={'text':'A','color':colors['eco-gray']})\n",
    "    .configure(font='Circular Std Book').configure_view(stroke=None)\n",
    ")\n",
    "\n",
    "layer1.save(\"visualisation/\" + f + \"_no_branding.json\")\n",
    "if DARK:\n",
    "    layer2=dark(f+'_no_branding')\n",
    "    layer2.save(\"visualisation/\" + f + \"_no_branding_dark.json\")\n",
    "    \n",
    "if SAVE:\n",
    "    layer1.save(\"visualisation/\" + f + \"_no_branding.svg\")\n",
    "    layer1.save(\"visualisation/\" + f + \"_no_branding.png\")\n",
    "    if DARK:\n",
    "        layer2.save(\"visualisation/\" + f + \"_no_branding_dark.svg\")\n",
    "        layer2.save(\"visualisation/\" + f + \"_no_branding_dark.png\")\n",
    "    \n",
    "logo=alt.Chart(pd.DataFrame([{\"x\": xmax, \"y\": 250, \"img\": \"https://raw.githubusercontent.com/EconomicsObservatory/ECOvisualisations/main/guidelines/logos/eco-icon-dark.png\"}]))\\\n",
    "    .mark_image(width=40,height=40,align='right',baseline='top',yOffset=-33,opacity=mo,xOffset=0).encode(x='x:T',y='y:Q',url='img:N')\n",
    "# ecomark=alt.Chart(pd.DataFrame([{\"x\": '2019-01-01', \"y\": 14}]))\\\n",
    "#     .mark_point(size=100,fill=colors['eco-turquiose'],stroke=None,opacity=1,xOffset=-20,yOffset=-20).encode(x='x:T',y='y:Q')\n",
    "# layer1+=(ecomark)\n",
    "layer1+=(logo)\n",
    "\n",
    "layer1.save(\"visualisation/\" + f + \".json\")\n",
    "if DARK:\n",
    "    layer2=dark(f)\n",
    "    layer2.save(\"visualisation/\" + f + \"_dark.json\")\n",
    "if SAVE:\n",
    "    layer1.save(\"visualisation/\" + f + \".svg\")\n",
    "    layer1.save(\"visualisation/\" + f + \".png\")\n",
    "    if DARK:\n",
    "        layer2.save(\"visualisation/\" + f + \"_dark.svg\")\n",
    "        layer2.save(\"visualisation/\" + f + \"_dark.png\")\n",
    "    open(\"README.md\", \"a\").write(readme)\n",
    "\n",
    "print(f+'\\n')\n",
    "layer1.display()\n",
    "if DARK:\n",
    "    layer2.display()"
   ]
  },
  {
   "cell_type": "markdown",
   "metadata": {},
   "source": [
    "## b"
   ]
  },
  {
   "cell_type": "code",
   "execution_count": null,
   "metadata": {
    "tags": []
   },
   "outputs": [],
   "source": [
    "readme, f, fc = save(df,\"fig3b_pt2\",LOCAL)"
   ]
  },
  {
   "cell_type": "code",
   "execution_count": null,
   "metadata": {
    "tags": []
   },
   "outputs": [],
   "source": [
    "base = alt.Chart(fc).encode(    alt.X(\n",
    "        \"Dp:Q\",\n",
    "        sort=[],\n",
    "        axis=alt.Axis(\n",
    "            grid=False,\n",
    "            titleAlign=\"center\",\n",
    "            titleAnchor=\"middle\",\n",
    "            title=\"Δp\",\n",
    "            titleY=-15,\n",
    "            titleX=387,\n",
    "            labelColor=colors[\"eco-gray\"],\n",
    "            titleColor=colors[\"eco-gray\"],\n",
    "            tickColor=colors[\"eco-gray\"],\n",
    "            domainColor=colors[\"eco-gray\"],\n",
    "            tickCount=10,\n",
    "            domainOpacity=mo,\n",
    "            tickOpacity=mo,\n",
    "            labelOpacity=mo+0.2,\n",
    "            titleOpacity=mo+0.3,\n",
    "            titleFontSize=12,\n",
    "            orient=\"bottom\",\n",
    "            labelAngle=0,\n",
    "        ),\n",
    "        # scale=alt.Scale(domain=[xmin, xmax])\n",
    "    ),\n",
    "    y=alt.Y(\n",
    "        \"passthrough:Q\",\n",
    "        sort=[],\n",
    "        axis=alt.Axis(\n",
    "            # grid=False,\n",
    "            gridDash=[1,5],\n",
    "            gridColor=colors[\"eco-gray\"],\n",
    "            gridOpacity=mo,\n",
    "            title=\"pass through %\",\n",
    "            titleX=0,\n",
    "            titleY=-7,\n",
    "            titleBaseline=\"bottom\",\n",
    "            titleAngle=0,\n",
    "            titleAlign=\"left\",\n",
    "            ticks=False,\n",
    "            labelPadding=5,\n",
    "            labelColor=colors[\"eco-gray\"],\n",
    "            titleColor=colors[\"eco-gray\"],\n",
    "            tickColor=colors[\"eco-gray\"],\n",
    "            domainColor=colors[\"eco-gray\"],\n",
    "            domainOpacity=mo,\n",
    "            tickOpacity=mo,\n",
    "            labelOpacity=mo+0.2,\n",
    "            titleOpacity=mo+0.3,\n",
    "            titleFontSize=12,\n",
    "            format='.0f',\n",
    "            tickCount=8\n",
    "        ),\n",
    "        # scale=alt.Scale(domain=[-0.16, 0.06]),\n",
    "    )\n",
    "                           )\n",
    "points=base.mark_circle().encode(color=alt.Color('Year:Q',\n",
    "    scale=alt.Scale(range=['white',colors['eco-light-blue'],colors['eco-blue']]),\n",
    "    legend=alt.Legend(title=\"Year\",\n",
    "            labelColor=colors[\"eco-gray\"],\n",
    "            titleColor=colors[\"eco-gray\"],\n",
    "            labelOpacity=mo+0.2,\n",
    "            titleOpacity=mo+0.3,\n",
    "            titleFontSize=12,\n",
    "            tickCount=8,\n",
    "                      padding=30,\n",
    "            format='.0f')))\n",
    "\n",
    "labels=points.mark_text(align='left',dx=5,dy=3).encode(text='Year:N')\\\n",
    "    .transform_filter(alt.FieldOneOfPredicate(field='Year', \n",
    "    oneOf=[1922,1923,1879,1973,2022,2023,1973,1975,2020,2021,1976,1980,1933,2007,2008]))\n",
    "\n",
    "layer1 = (\n",
    "    (points+labels).properties(height=300, width=400, title={'text':'B','color':colors['eco-gray']})\n",
    "    .configure(font='Circular Std Book').configure_view(stroke=None)\n",
    ")\n",
    "\n",
    "\n",
    "layer1.save(\"visualisation/\" + f + \"_no_branding.json\")\n",
    "if DARK:\n",
    "    layer2=dark(f+'_no_branding')\n",
    "    layer2.save(\"visualisation/\" + f + \"_no_branding_dark.json\")\n",
    "    \n",
    "if SAVE:\n",
    "    layer1.save(\"visualisation/\" + f + \"_no_branding.svg\")\n",
    "    layer1.save(\"visualisation/\" + f + \"_no_branding.png\")\n",
    "    if DARK:\n",
    "        layer2.save(\"visualisation/\" + f + \"_no_branding_dark.svg\")\n",
    "        layer2.save(\"visualisation/\" + f + \"_no_branding_dark.png\")\n",
    "    \n",
    "logo=alt.Chart(pd.DataFrame([{\"x\": 0.25, \"y\": 100, \"img\": \"https://raw.githubusercontent.com/EconomicsObservatory/ECOvisualisations/main/guidelines/logos/eco-icon-dark.png\"}]))\\\n",
    "    .mark_image(width=40,height=40,align='right',baseline='top',yOffset=-33,opacity=mo,xOffset=-0).encode(x='x:Q',y='y:Q',url='img:N')\n",
    "# ecomark=alt.Chart(pd.DataFrame([{\"x\": '2019-01-01', \"y\": 14}]))\\\n",
    "#     .mark_point(size=100,fill=colors['eco-turquiose'],stroke=None,opacity=1,xOffset=-20,yOffset=-20).encode(x='x:T',y='y:Q')\n",
    "# layer1+=(ecomark)\n",
    "layer1+=(logo)\n",
    "\n",
    "layer1.save(\"visualisation/\" + f + \".json\")\n",
    "if DARK:\n",
    "    layer2=dark(f)\n",
    "    layer2.save(\"visualisation/\" + f + \"_dark.json\")\n",
    "if SAVE:\n",
    "    layer1.save(\"visualisation/\" + f + \".svg\")\n",
    "    layer1.save(\"visualisation/\" + f + \".png\")\n",
    "    if DARK:\n",
    "        layer2.save(\"visualisation/\" + f + \"_dark.svg\")\n",
    "        layer2.save(\"visualisation/\" + f + \"_dark.png\")\n",
    "    open(\"README.md\", \"a\").write(readme)\n",
    "\n",
    "print(f+'\\n')\n",
    "layer1.display()\n",
    "if DARK:\n",
    "    layer2.display()"
   ]
  },
  {
   "cell_type": "markdown",
   "metadata": {},
   "source": [
    "# Fig 4"
   ]
  },
  {
   "cell_type": "markdown",
   "metadata": {},
   "source": [
    "## Clean up `SVG`s\n",
    "`base64 URI` encode images"
   ]
  },
  {
   "cell_type": "code",
   "execution_count": null,
   "metadata": {
    "tags": []
   },
   "outputs": [],
   "source": [
    "from base64 import b64encode"
   ]
  },
  {
   "cell_type": "code",
   "execution_count": null,
   "metadata": {
    "tags": []
   },
   "outputs": [],
   "source": [
    "from os import listdir\n",
    "from os.path import isfile, join\n",
    "mypath='./visualisation/'\n",
    "onlyfiles = [f for f in listdir(mypath) if isfile(join(mypath, f))]\n",
    "svgs=[i for i in onlyfiles if i[-4:]=='.svg']"
   ]
  },
  {
   "cell_type": "code",
   "execution_count": null,
   "metadata": {
    "tags": []
   },
   "outputs": [],
   "source": [
    "for svg in svgs:\n",
    "    s=open(mypath+svg,'r').read()\n",
    "    si=s.find('\"image mark\" xlink:href=')\n",
    "    if si>-1:\n",
    "        s2=s[si+25:]\n",
    "        imgurl=s2[:s2.find('\"')]\n",
    "        if 'data:image/png;' not in imgurl:\n",
    "            s1=s[:si+25]+s2.replace(imgurl,'data:image/png;base64,'+b64encode(requests.get(imgurl).content).decode('utf-8'))\n",
    "            open(mypath+svg,'w').write(s1)\n",
    "            print(svg)"
   ]
  },
  {
   "cell_type": "markdown",
   "metadata": {},
   "source": [
    "## README"
   ]
  },
  {
   "cell_type": "code",
   "execution_count": null,
   "metadata": {
    "tags": []
   },
   "outputs": [],
   "source": [
    "from IPython.display import display, Markdown\n",
    "\n",
    "with open('README.md', 'r') as fh:\n",
    "    content = fh.read()\n",
    "\n",
    "display(Markdown(content))"
   ]
  },
  {
   "cell_type": "code",
   "execution_count": null,
   "metadata": {},
   "outputs": [],
   "source": []
  },
  {
   "cell_type": "code",
   "execution_count": null,
   "metadata": {},
   "outputs": [],
   "source": []
  }
 ],
 "metadata": {
  "kernelspec": {
   "display_name": "Python 3 (ipykernel)",
   "language": "python",
   "name": "python3"
  },
  "language_info": {
   "codemirror_mode": {
    "name": "ipython",
    "version": 3
   },
   "file_extension": ".py",
   "mimetype": "text/x-python",
   "name": "python",
   "nbconvert_exporter": "python",
   "pygments_lexer": "ipython3",
   "version": "3.10.10"
  }
 },
 "nbformat": 4,
 "nbformat_minor": 4
}
