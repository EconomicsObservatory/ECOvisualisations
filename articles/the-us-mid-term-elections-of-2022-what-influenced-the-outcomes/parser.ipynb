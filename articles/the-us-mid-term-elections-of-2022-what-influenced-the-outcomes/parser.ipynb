{
 "cells": [
  {
   "cell_type": "code",
   "execution_count": 1,
   "metadata": {},
   "outputs": [],
   "source": [
    "import json\n",
    "import altair as alt\n",
    "from altair import expr, datum\n",
    "import matplotlib.pyplot as plt\n",
    "import numpy as np\n",
    "import pandas as pd\n",
    "import requests"
   ]
  },
  {
   "cell_type": "code",
   "execution_count": 2,
   "metadata": {},
   "outputs": [],
   "source": [
    "import colorsys\n",
    "from matplotlib.colors import to_hex, to_rgb\n",
    "\n",
    "\n",
    "def scale_lightness(rgb, scale_l):\n",
    "    rgbhex = False\n",
    "    if \"#\" in rgb:\n",
    "        rgb = to_rgb(rgb)\n",
    "        rgbhex = True\n",
    "    # convert rgb to hls\n",
    "    h, l, s = colorsys.rgb_to_hls(*rgb)\n",
    "    # manipulate h, l, s values and return as rgb\n",
    "    c = colorsys.hls_to_rgb(h, min(1, l * scale_l), s=s)\n",
    "    if rgbhex:\n",
    "        c = to_hex(c)\n",
    "    return c"
   ]
  },
  {
   "cell_type": "code",
   "execution_count": 3,
   "metadata": {},
   "outputs": [],
   "source": [
    "LOCAL = False\n",
    "\n",
    "if LOCAL:\n",
    "    local_suffix = \"_local\"\n",
    "else:\n",
    "    local_suffix = \"\""
   ]
  },
  {
   "cell_type": "code",
   "execution_count": 4,
   "metadata": {},
   "outputs": [],
   "source": [
    "%%capture pwd\n",
    "!pwd"
   ]
  },
  {
   "cell_type": "code",
   "execution_count": 5,
   "metadata": {},
   "outputs": [
    {
     "data": {
      "text/plain": [
       "('', 300, 500)"
      ]
     },
     "execution_count": 5,
     "metadata": {},
     "output_type": "execute_result"
    }
   ],
   "source": [
    "uid = pwd.stdout.split(\"/\")[-1].split(\"\\r\")[0]\n",
    "eco_git_home = (\n",
    "    \"https://raw.githubusercontent.com/EconomicsObservatory/ECOvisualisations/main/\"\n",
    ")\n",
    "eco_git_path = eco_git_home + \"articles/\" + uid + \"/data/\"\n",
    "vega_embed = requests.get(eco_git_home + \"guidelines/html/vega-embed.html\").text\n",
    "colors = json.loads(\n",
    "    requests.get(eco_git_home + \"guidelines/colors/eco-colors.json\").content\n",
    ")\n",
    "category_color = json.loads(\n",
    "    requests.get(eco_git_home + \"guidelines/colors/eco-category-color.json\").content\n",
    ")\n",
    "hue_color = json.loads(\n",
    "    requests.get(eco_git_home + \"guidelines/colors/eco-single-hue-color.json\").content\n",
    ")\n",
    "mhue_color = json.loads(\n",
    "    requests.get(eco_git_home + \"guidelines/colors/eco-multi-hue-color.json\").content\n",
    ")\n",
    "div_color = json.loads(\n",
    "    requests.get(eco_git_home + \"guidelines/colors/eco-diverging-color.json\").content\n",
    ")\n",
    "config = json.loads(\n",
    "    requests.get(eco_git_home + \"guidelines/charts/eco-global-config.json\").content\n",
    ")\n",
    "height = config[\"height\"]\n",
    "width = config[\"width\"]\n",
    "uid, height, width"
   ]
  },
  {
   "cell_type": "markdown",
   "metadata": {},
   "source": [
    "# Fig 1"
   ]
  },
  {
   "cell_type": "code",
   "execution_count": 33,
   "metadata": {},
   "outputs": [],
   "source": [
    "rep22 = pd.read_html(\n",
    "    'https://en.wikipedia.org/wiki/2022_United_States_House_of_Representatives_elections'\n",
    ")[7].fillna(0)\n",
    "rep22.columns=['state','total','rep','repc','dem','demc']\n",
    "rep22['reps']=(rep22['rep']*100.0/rep22['total']).round(2)\n"
   ]
  },
  {
   "cell_type": "code",
   "execution_count": 39,
   "metadata": {},
   "outputs": [],
   "source": [
    "rep20 = pd.read_html(\n",
    "    'https://en.wikipedia.org/wiki/2020_United_States_House_of_Representatives_elections'\n",
    ")[6].fillna(0)\n",
    "rep20.columns = ['state', 'total', 'rep', 'repc', 'dem', 'demc']\n",
    "rep20['reps'] = (rep20['rep'] * 100.0 / rep20['total']).round(2)"
   ]
  },
  {
   "cell_type": "code",
   "execution_count": 40,
   "metadata": {},
   "outputs": [],
   "source": [
    "rep18 = pd.read_html(\n",
    "    'https://en.wikipedia.org/wiki/2018_United_States_House_of_Representatives_elections'\n",
    ")[6].fillna(0)\n",
    "rep18.columns = ['state', 'total', 'rep', 'repc', 'dem', 'demc']\n",
    "rep18['reps'] = (rep18['rep'] * 100.0 / rep18['total']).round(2)"
   ]
  },
  {
   "cell_type": "code",
   "execution_count": 44,
   "metadata": {},
   "outputs": [],
   "source": [
    "rep16 = pd.read_html(\n",
    "    'https://en.wikipedia.org/wiki/2016_United_States_House_of_Representatives_elections'\n",
    ")[6].fillna(0)\n",
    "rep16.columns = ['state', 'total', 'rep', 'repc', 'dem', 'demc']\n",
    "rep16['reps'] = (rep16['rep'] * 100.0 / rep16['total']).round(2)"
   ]
  },
  {
   "cell_type": "code",
   "execution_count": 46,
   "metadata": {},
   "outputs": [],
   "source": [
    "rep14 = pd.read_html(\n",
    "    'https://en.wikipedia.org/wiki/2014_United_States_House_of_Representatives_elections'\n",
    ")[6].fillna(0)\n",
    "rep14.columns = ['state', 'total', 'rep', 'repc', 'dem', 'demc']\n",
    "rep14['reps'] = (rep14['rep'] * 100.0 / rep14['total']).round(2)"
   ]
  },
  {
   "cell_type": "code",
   "execution_count": 48,
   "metadata": {},
   "outputs": [],
   "source": [
    "rep12 = pd.read_html(\n",
    "    'https://en.wikipedia.org/wiki/2012_United_States_House_of_Representatives_elections'\n",
    ")[6].fillna(0)\n",
    "rep12.columns = ['state', 'total', 'rep', 'repc', 'dem', 'demc']\n",
    "rep12['reps'] = (rep12['rep'] * 100.0 / rep12['total']).round(2)"
   ]
  },
  {
   "cell_type": "code",
   "execution_count": 60,
   "metadata": {},
   "outputs": [
    {
     "data": {
      "text/html": [
       "<div>\n",
       "<style scoped>\n",
       "    .dataframe tbody tr th:only-of-type {\n",
       "        vertical-align: middle;\n",
       "    }\n",
       "\n",
       "    .dataframe tbody tr th {\n",
       "        vertical-align: top;\n",
       "    }\n",
       "\n",
       "    .dataframe thead th {\n",
       "        text-align: right;\n",
       "    }\n",
       "</style>\n",
       "<table border=\"1\" class=\"dataframe\">\n",
       "  <thead>\n",
       "    <tr style=\"text-align: right;\">\n",
       "      <th></th>\n",
       "      <th>0</th>\n",
       "      <th>1</th>\n",
       "      <th>2</th>\n",
       "      <th>3</th>\n",
       "      <th>4</th>\n",
       "      <th>5</th>\n",
       "      <th>6</th>\n",
       "      <th>7</th>\n",
       "      <th>8</th>\n",
       "      <th>9</th>\n",
       "    </tr>\n",
       "  </thead>\n",
       "  <tbody>\n",
       "    <tr>\n",
       "      <th>0</th>\n",
       "      <td>D1</td>\n",
       "      <td>D2</td>\n",
       "      <td>D3</td>\n",
       "      <td>D4</td>\n",
       "      <td>D5</td>\n",
       "      <td>D6</td>\n",
       "      <td>D7</td>\n",
       "      <td>D8</td>\n",
       "      <td>D9</td>\n",
       "      <td>D10</td>\n",
       "    </tr>\n",
       "    <tr>\n",
       "      <th>1</th>\n",
       "      <td>D20</td>\n",
       "      <td>D19</td>\n",
       "      <td>D18</td>\n",
       "      <td>D17</td>\n",
       "      <td>D16</td>\n",
       "      <td>D15</td>\n",
       "      <td>D14</td>\n",
       "      <td>D13</td>\n",
       "      <td>D12</td>\n",
       "      <td>D11</td>\n",
       "    </tr>\n",
       "    <tr>\n",
       "      <th>2</th>\n",
       "      <td>D21</td>\n",
       "      <td>D22</td>\n",
       "      <td>D23</td>\n",
       "      <td>D24</td>\n",
       "      <td>D25</td>\n",
       "      <td>D26</td>\n",
       "      <td>D27</td>\n",
       "      <td>D28</td>\n",
       "      <td>D29</td>\n",
       "      <td>D30</td>\n",
       "    </tr>\n",
       "    <tr>\n",
       "      <th>3</th>\n",
       "      <td>D40HawaiiRan</td>\n",
       "      <td>D39Ga.Ran</td>\n",
       "      <td>D38Conn.Ran</td>\n",
       "      <td>D37Colo.Ran</td>\n",
       "      <td>D36Calif.Ran[j]</td>\n",
       "      <td>D35Ariz. (cl. 3)Ran</td>\n",
       "      <td>D34</td>\n",
       "      <td>D33</td>\n",
       "      <td>D32</td>\n",
       "      <td>D31</td>\n",
       "    </tr>\n",
       "    <tr>\n",
       "      <th>4</th>\n",
       "      <td>D41Ill.Ran</td>\n",
       "      <td>D42Md.Ran</td>\n",
       "      <td>D43Nev.Ran</td>\n",
       "      <td>D44N.H.Ran</td>\n",
       "      <td>D45N.Y.Ran</td>\n",
       "      <td>D46Ore.Ran</td>\n",
       "      <td>D47Vt.Retired</td>\n",
       "      <td>D48Wash.Ran</td>\n",
       "      <td>I1</td>\n",
       "      <td>I2</td>\n",
       "    </tr>\n",
       "    <tr>\n",
       "      <th>5</th>\n",
       "      <td>Majority (with independents and vice president) ↑</td>\n",
       "      <td>Majority (with independents and vice president) ↑</td>\n",
       "      <td>Majority (with independents and vice president) ↑</td>\n",
       "      <td>Majority (with independents and vice president) ↑</td>\n",
       "      <td>Majority (with independents and vice president) ↑</td>\n",
       "      <td>Majority (with independents and vice president) ↑</td>\n",
       "      <td>Majority (with independents and vice president) ↑</td>\n",
       "      <td>Majority (with independents and vice president) ↑</td>\n",
       "      <td>Majority (with independents and vice president) ↑</td>\n",
       "      <td>I2</td>\n",
       "    </tr>\n",
       "    <tr>\n",
       "      <th>6</th>\n",
       "      <td>R41N.C.Retired</td>\n",
       "      <td>R42N.D.Ran</td>\n",
       "      <td>R43OhioRetired</td>\n",
       "      <td>R44Okla. (reg)Ran</td>\n",
       "      <td>R45Okla. (sp)Resigned</td>\n",
       "      <td>R46Pa.Retired</td>\n",
       "      <td>R47S.C.Ran</td>\n",
       "      <td>R48S.D.Ran</td>\n",
       "      <td>R49UtahRan</td>\n",
       "      <td>R50Wisc.Ran</td>\n",
       "    </tr>\n",
       "    <tr>\n",
       "      <th>7</th>\n",
       "      <td>R40Mo.Retired</td>\n",
       "      <td>R39La.Ran</td>\n",
       "      <td>R38Ky.Ran</td>\n",
       "      <td>R37Kans.Ran</td>\n",
       "      <td>R36IowaRan</td>\n",
       "      <td>R35Ind.Ran</td>\n",
       "      <td>R34IdahoRan</td>\n",
       "      <td>R33Fla.Ran</td>\n",
       "      <td>R32Ark.Ran</td>\n",
       "      <td>R31AlaskaRan</td>\n",
       "    </tr>\n",
       "    <tr>\n",
       "      <th>8</th>\n",
       "      <td>R21</td>\n",
       "      <td>R22</td>\n",
       "      <td>R23</td>\n",
       "      <td>R24</td>\n",
       "      <td>R25</td>\n",
       "      <td>R26</td>\n",
       "      <td>R27</td>\n",
       "      <td>R28</td>\n",
       "      <td>R29</td>\n",
       "      <td>R30Ala.Retired</td>\n",
       "    </tr>\n",
       "    <tr>\n",
       "      <th>9</th>\n",
       "      <td>R20</td>\n",
       "      <td>R19</td>\n",
       "      <td>R18</td>\n",
       "      <td>R17</td>\n",
       "      <td>R16</td>\n",
       "      <td>R15</td>\n",
       "      <td>R14</td>\n",
       "      <td>R13</td>\n",
       "      <td>R12</td>\n",
       "      <td>R11</td>\n",
       "    </tr>\n",
       "    <tr>\n",
       "      <th>10</th>\n",
       "      <td>R1</td>\n",
       "      <td>R2</td>\n",
       "      <td>R3</td>\n",
       "      <td>R4</td>\n",
       "      <td>R5</td>\n",
       "      <td>R6</td>\n",
       "      <td>R7</td>\n",
       "      <td>R8</td>\n",
       "      <td>R9</td>\n",
       "      <td>R10</td>\n",
       "    </tr>\n",
       "  </tbody>\n",
       "</table>\n",
       "</div>"
      ],
      "text/plain": [
       "                                                    0  \\\n",
       "0                                                  D1   \n",
       "1                                                 D20   \n",
       "2                                                 D21   \n",
       "3                                        D40HawaiiRan   \n",
       "4                                          D41Ill.Ran   \n",
       "5   Majority (with independents and vice president) ↑   \n",
       "6                                      R41N.C.Retired   \n",
       "7                                       R40Mo.Retired   \n",
       "8                                                 R21   \n",
       "9                                                 R20   \n",
       "10                                                 R1   \n",
       "\n",
       "                                                    1  \\\n",
       "0                                                  D2   \n",
       "1                                                 D19   \n",
       "2                                                 D22   \n",
       "3                                           D39Ga.Ran   \n",
       "4                                           D42Md.Ran   \n",
       "5   Majority (with independents and vice president) ↑   \n",
       "6                                          R42N.D.Ran   \n",
       "7                                           R39La.Ran   \n",
       "8                                                 R22   \n",
       "9                                                 R19   \n",
       "10                                                 R2   \n",
       "\n",
       "                                                    2  \\\n",
       "0                                                  D3   \n",
       "1                                                 D18   \n",
       "2                                                 D23   \n",
       "3                                         D38Conn.Ran   \n",
       "4                                          D43Nev.Ran   \n",
       "5   Majority (with independents and vice president) ↑   \n",
       "6                                      R43OhioRetired   \n",
       "7                                           R38Ky.Ran   \n",
       "8                                                 R23   \n",
       "9                                                 R18   \n",
       "10                                                 R3   \n",
       "\n",
       "                                                    3  \\\n",
       "0                                                  D4   \n",
       "1                                                 D17   \n",
       "2                                                 D24   \n",
       "3                                         D37Colo.Ran   \n",
       "4                                          D44N.H.Ran   \n",
       "5   Majority (with independents and vice president) ↑   \n",
       "6                                   R44Okla. (reg)Ran   \n",
       "7                                         R37Kans.Ran   \n",
       "8                                                 R24   \n",
       "9                                                 R17   \n",
       "10                                                 R4   \n",
       "\n",
       "                                                    4  \\\n",
       "0                                                  D5   \n",
       "1                                                 D16   \n",
       "2                                                 D25   \n",
       "3                                     D36Calif.Ran[j]   \n",
       "4                                          D45N.Y.Ran   \n",
       "5   Majority (with independents and vice president) ↑   \n",
       "6                               R45Okla. (sp)Resigned   \n",
       "7                                          R36IowaRan   \n",
       "8                                                 R25   \n",
       "9                                                 R16   \n",
       "10                                                 R5   \n",
       "\n",
       "                                                    5  \\\n",
       "0                                                  D6   \n",
       "1                                                 D15   \n",
       "2                                                 D26   \n",
       "3                                 D35Ariz. (cl. 3)Ran   \n",
       "4                                          D46Ore.Ran   \n",
       "5   Majority (with independents and vice president) ↑   \n",
       "6                                       R46Pa.Retired   \n",
       "7                                          R35Ind.Ran   \n",
       "8                                                 R26   \n",
       "9                                                 R15   \n",
       "10                                                 R6   \n",
       "\n",
       "                                                    6  \\\n",
       "0                                                  D7   \n",
       "1                                                 D14   \n",
       "2                                                 D27   \n",
       "3                                                 D34   \n",
       "4                                       D47Vt.Retired   \n",
       "5   Majority (with independents and vice president) ↑   \n",
       "6                                          R47S.C.Ran   \n",
       "7                                         R34IdahoRan   \n",
       "8                                                 R27   \n",
       "9                                                 R14   \n",
       "10                                                 R7   \n",
       "\n",
       "                                                    7  \\\n",
       "0                                                  D8   \n",
       "1                                                 D13   \n",
       "2                                                 D28   \n",
       "3                                                 D33   \n",
       "4                                         D48Wash.Ran   \n",
       "5   Majority (with independents and vice president) ↑   \n",
       "6                                          R48S.D.Ran   \n",
       "7                                          R33Fla.Ran   \n",
       "8                                                 R28   \n",
       "9                                                 R13   \n",
       "10                                                 R8   \n",
       "\n",
       "                                                    8               9  \n",
       "0                                                  D9             D10  \n",
       "1                                                 D12             D11  \n",
       "2                                                 D29             D30  \n",
       "3                                                 D32             D31  \n",
       "4                                                  I1              I2  \n",
       "5   Majority (with independents and vice president) ↑              I2  \n",
       "6                                          R49UtahRan     R50Wisc.Ran  \n",
       "7                                          R32Ark.Ran    R31AlaskaRan  \n",
       "8                                                 R29  R30Ala.Retired  \n",
       "9                                                 R12             R11  \n",
       "10                                                 R9             R10  "
      ]
     },
     "execution_count": 60,
     "metadata": {},
     "output_type": "execute_result"
    }
   ],
   "source": [
    "# sen22 = pd.read_html(\n",
    "#     'https://en.wikipedia.org/wiki/2022_United_States_Senate_elections'\n",
    "# )[6].fillna(0)\n",
    "# sen22.columns = ['state', 'total', 'rep', 'repc', 'dem', 'demc']\n",
    "# sen22['reps'] = (sen22['rep'] * 100.0 / sen22['total']).round(2)\n",
    "sen22[7]"
   ]
  },
  {
   "cell_type": "code",
   "execution_count": 155,
   "metadata": {},
   "outputs": [],
   "source": [
    "df=pd.read_csv(\n",
    "    'https://raw.githubusercontent.com/fivethirtyeight/election-results/main/election_results_presidential.csv'\n",
    ")\n",
    "df['stage'] = df['stage'].replace('runoff', 'general')\n",
    "pres = df.groupby(['stage', 'cycle', 'state', 'ballot_party'\n",
    "                   ]).max()[['percent', 'votes',\n",
    "                             'candidate_name']].loc['general'].reset_index()\n"
   ]
  },
  {
   "cell_type": "code",
   "execution_count": 156,
   "metadata": {},
   "outputs": [],
   "source": [
    "df = pd.read_csv(\n",
    "    'https://raw.githubusercontent.com/fivethirtyeight/election-results/main/election_results_gubernatorial.csv'\n",
    ")\n",
    "df['stage'] = df['stage'].replace('runoff','general')\n",
    "gov = df.groupby(['stage', 'cycle', 'state', 'ballot_party'\n",
    "                   ]).max()[['percent', 'votes',\n",
    "                             'candidate_name']].loc['general'].reset_index()\n"
   ]
  },
  {
   "cell_type": "code",
   "execution_count": 157,
   "metadata": {},
   "outputs": [],
   "source": [
    "df = pd.read_csv(\n",
    "    'https://raw.githubusercontent.com/fivethirtyeight/election-results/main/election_results_house.csv'\n",
    ")\n",
    "df['stage'] = df['stage'].replace('runoff', 'general')\n",
    "hou = df.groupby(['stage', 'cycle', 'state', 'ballot_party'\n",
    "                  ]).sum()[['votes',\n",
    "                            ]].loc['general']\n",
    "hou = (hou * 100.0 / hou.reset_index().groupby(\n",
    "    ['cycle', 'state']).sum()).round(2).reset_index().rename(columns={'votes':'percent'})\n"
   ]
  },
  {
   "cell_type": "code",
   "execution_count": 158,
   "metadata": {},
   "outputs": [],
   "source": [
    "df = pd.read_csv(\n",
    "    'https://raw.githubusercontent.com/fivethirtyeight/election-results/main/election_results_senate.csv'\n",
    ")\n",
    "df['stage'] = df['stage'].replace('runoff', 'general')\n",
    "sen = df.groupby(['stage', 'cycle', 'state', 'ballot_party']).sum()[[\n",
    "    'votes',\n",
    "]].loc['general']\n",
    "sen = (sen * 100.0 / sen.reset_index().groupby(['cycle', 'state']).sum()\n",
    "       ).round(2).reset_index().rename(columns={'votes': 'percent'})\n"
   ]
  },
  {
   "cell_type": "code",
   "execution_count": 159,
   "metadata": {},
   "outputs": [],
   "source": [
    "df=sen.set_index(['cycle','state','ballot_party']).add_suffix('_sen')\\\n",
    "  .join(gov.set_index(['cycle','state','ballot_party']).add_suffix('_gov'))\\\n",
    "  .join(hou.set_index(['cycle','state','ballot_party']).add_suffix('_hou'))\\\n",
    "  .join(pres.set_index(['cycle','state','ballot_party']).add_suffix('_pres'))"
   ]
  },
  {
   "cell_type": "code",
   "execution_count": 160,
   "metadata": {},
   "outputs": [],
   "source": [
    "df.reset_index().to_csv('data/us_elections.csv')"
   ]
  },
  {
   "cell_type": "code",
   "execution_count": 161,
   "metadata": {},
   "outputs": [
    {
     "data": {
      "text/plain": [
       "437879"
      ]
     },
     "execution_count": 161,
     "metadata": {},
     "output_type": "execute_result"
    }
   ],
   "source": [
    "open('visualisation/fig1/elections.json','w').write(json.dumps(list(df.reset_index().fillna(0).T.to_dict().values())))"
   ]
  },
  {
   "cell_type": "code",
   "execution_count": 162,
   "metadata": {},
   "outputs": [],
   "source": [
    "sen['election']='senate'\n",
    "gov['election'] = 'governor'\n",
    "pres['election'] = 'president'\n",
    "hou['election'] = 'house'\n"
   ]
  },
  {
   "cell_type": "code",
   "execution_count": 191,
   "metadata": {},
   "outputs": [],
   "source": [
    "dk = pd.DataFrame([{\n",
    "    'cycle': i,\n",
    "    'stage': j,\n",
    "    'percent': j * 100,\n",
    "    'election': k,\n",
    "    'ballot_party':'REP'\n",
    "} for i in range(df2['cycle'].min(), df2['cycle'].max() + 1) for j in range(2)\n",
    "      for k in df2['election'].unique()])\n"
   ]
  },
  {
   "cell_type": "code",
   "execution_count": 195,
   "metadata": {},
   "outputs": [],
   "source": [
    "df2=pd.concat([sen,gov,pres,hou]).fillna(0)"
   ]
  },
  {
   "cell_type": "code",
   "execution_count": 208,
   "metadata": {},
   "outputs": [],
   "source": [
    "dk2=df2.groupby(['cycle','state','election']).mean()['percent'].reset_index()\n",
    "dk2['state']='min'\n",
    "dk2=dk2.groupby(['cycle', 'state', 'election']).mean().reset_index()\n",
    "dk2['ballot_party']='REP'\n",
    "dk2['percent']=0\n",
    "dk3=dk2.copy()\n",
    "dk3['percent']=100\n",
    "dk3['state']='max'\n"
   ]
  },
  {
   "cell_type": "code",
   "execution_count": 209,
   "metadata": {},
   "outputs": [],
   "source": [
    "df3 = pd.concat([sen, gov, pres, hou,dk2,dk3]).fillna(0)"
   ]
  },
  {
   "cell_type": "code",
   "execution_count": 210,
   "metadata": {},
   "outputs": [
    {
     "data": {
      "text/plain": [
       "1353650"
      ]
     },
     "execution_count": 210,
     "metadata": {},
     "output_type": "execute_result"
    }
   ],
   "source": [
    "open('visualisation/fig1/elections_states.json', 'w').write(\n",
    "    json.dumps(list(df3.reset_index().fillna(0).T.to_dict().values())))\n"
   ]
  },
  {
   "cell_type": "code",
   "execution_count": null,
   "metadata": {},
   "outputs": [],
   "source": []
  }
 ],
 "metadata": {
  "kernelspec": {
   "display_name": "Python 3",
   "language": "python",
   "name": "python3"
  },
  "language_info": {
   "codemirror_mode": {
    "name": "ipython",
    "version": 3
   },
   "file_extension": ".py",
   "mimetype": "text/x-python",
   "name": "python",
   "nbconvert_exporter": "python",
   "pygments_lexer": "ipython3",
   "version": "3.10.2"
  },
  "vscode": {
   "interpreter": {
    "hash": "9b4d75ac280b6c7c3aa43866cb82dc88915409b55fec83a093dd0284cb58708e"
   }
  }
 },
 "nbformat": 4,
 "nbformat_minor": 4
}
