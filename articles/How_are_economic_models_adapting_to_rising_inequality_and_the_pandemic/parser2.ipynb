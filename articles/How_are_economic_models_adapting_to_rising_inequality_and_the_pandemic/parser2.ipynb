{
 "cells": [
  {
   "cell_type": "markdown",
   "metadata": {},
   "source": [
    "# Data Editor: Trial Task \n",
    "Submission by: *Dénes Csala*"
   ]
  },
  {
   "cell_type": "markdown",
   "metadata": {},
   "source": [
    "📊 This is a visual explanation of the solve-through of the trial task. It is an interactive [Jupyter](https://jupyter.org/) notebook. \n",
    "* Feel free to download it (first icon from the right in the top menu) it and run it locally (you will need a local [Jupyter](https://jupyter.org/) installation, I recommend [Anaconda](http://www.anaconda.com/)) to regenerate the outputs. \n",
    "* You can also launch a live copy of it in the cloud on [Binder](https://mybinder.org/) by clicking the second icon from the right or by reuploading the downloaded _.ipynb_ file to [Google Colab](https://colab.research.google.com/). \n",
    "* If you decide to run it locally, you will also need the [Altair](https://altair-viz.github.io/getting_started/installation.html) package. \n",
    "* If you want to be fancy and run everything locally, without the need for the _Vega-Lite_ renderer server, also install the [altair_saver](https://github.com/altair-viz/altair_saver/) and [altair_viewer](https://github.com/altair-viz/altair_viewer/) packages."
   ]
  },
  {
   "cell_type": "markdown",
   "metadata": {},
   "source": [
    "## First steps"
   ]
  },
  {
   "cell_type": "markdown",
   "metadata": {},
   "source": [
    "Import dependencies"
   ]
  },
  {
   "cell_type": "code",
   "execution_count": 235,
   "metadata": {},
   "outputs": [],
   "source": [
    "import pandas as pd, numpy as np\n",
    "import matplotlib.pyplot as plt\n",
    "import altair as alt"
   ]
  },
  {
   "cell_type": "code",
   "execution_count": 236,
   "metadata": {},
   "outputs": [],
   "source": [
    "colors=['#e6224b','#0063af']"
   ]
  },
  {
   "cell_type": "code",
   "execution_count": 237,
   "metadata": {},
   "outputs": [],
   "source": [
    "fi=pd.read_csv('fig1_fiscalsupport.csv')\n",
    "nofi=pd.read_csv('fig1_nofiscalsupport.csv')"
   ]
  },
  {
   "cell_type": "code",
   "execution_count": 238,
   "metadata": {},
   "outputs": [
    {
     "data": {
      "text/plain": [
       "<AxesSubplot:xlabel='death %'>"
      ]
     },
     "execution_count": 238,
     "metadata": {},
     "output_type": "execute_result"
    },
    {
     "data": {
      "image/png": "[encoded data removed]",
      "text/plain": [
       "<Figure size 432x288 with 1 Axes>"
      ]
     },
     "metadata": {
      "needs_background": "light"
     },
     "output_type": "display_data"
    },
    {
     "data": {
      "image/png": "[encoded data removed]",
      "text/plain": [
       "<Figure size 432x288 with 1 Axes>"
      ]
     },
     "metadata": {
      "needs_background": "light"
     },
     "output_type": "display_data"
    }
   ],
   "source": [
    "fi.plot('death %','mean',kind='line')\n",
    "nofi.plot('death %','mean',kind='line')"
   ]
  },
  {
   "cell_type": "code",
   "execution_count": 242,
   "metadata": {},
   "outputs": [],
   "source": [
    "base = alt.Chart(fi).encode(\n",
    "    alt.X('death %', axis=alt.Axis(title=None), sort=[])\n",
    ")\n",
    "\n",
    "area = base.mark_area(opacity=0.15, color=colors[0]).encode(\n",
    "    alt.Y('p90',\n",
    "          axis=alt.Axis(title='', titleColor='#57A44C')),\n",
    "    alt.Y2('p10')\n",
    ")\n",
    "line = base.mark_line(stroke=colors[0]).encode(\n",
    "    alt.Y('mean',\n",
    "          axis=alt.Axis())\n",
    ")\n",
    "point = base.mark_point(fill=colors[0],stroke=colors[0]).encode(\n",
    "    alt.Y('mean',\n",
    "          axis=alt.Axis())\n",
    ")\n",
    "\n",
    "layer1=alt.layer(area, line, point)"
   ]
  },
  {
   "cell_type": "code",
   "execution_count": 243,
   "metadata": {},
   "outputs": [],
   "source": [
    "base = alt.Chart(nofi).encode(\n",
    "    alt.X('death %', axis=alt.Axis(title=None), sort=[])\n",
    ")\n",
    "\n",
    "area = base.mark_area(opacity=0.15, color=colors[1]).encode(\n",
    "    alt.Y('p90',\n",
    "          axis=alt.Axis(title='', titleColor='#57A44C')),\n",
    "    alt.Y2('p10')\n",
    ")\n",
    "line = base.mark_line(stroke=colors[1]).encode(\n",
    "    alt.Y('mean',\n",
    "          axis=alt.Axis())\n",
    ")\n",
    "point = base.mark_point(fill=colors[1],stroke=colors[1]).encode(\n",
    "    alt.Y('mean',\n",
    "          axis=alt.Axis())\n",
    ")\n",
    "\n",
    "layer2=alt.layer(area, line, point)"
   ]
  },
  {
   "cell_type": "code",
   "execution_count": 241,
   "metadata": {},
   "outputs": [
    {
     "data": {
      "text/html": [
       "\n",
       "<div id=\"altair-viz-deabab6e9b8d4655acf36e7c9cad7565\"></div>\n",
       "<script type=\"text/javascript\">\n",
       "  (function(spec, embedOpt){\n",
       "    let outputDiv = document.currentScript.previousElementSibling;\n",
       "    if (outputDiv.id !== \"altair-viz-deabab6e9b8d4655acf36e7c9cad7565\") {\n",
       "      outputDiv = document.getElementById(\"altair-viz-deabab6e9b8d4655acf36e7c9cad7565\");\n",
       "    }\n",
       "    const paths = {\n",
       "      \"vega\": \"https://cdn.jsdelivr.net/npm//vega@5?noext\",\n",
       "      \"vega-lib\": \"https://cdn.jsdelivr.net/npm//vega-lib?noext\",\n",
       "      \"vega-lite\": \"https://cdn.jsdelivr.net/npm//vega-lite@4.8.1?noext\",\n",
       "      \"vega-embed\": \"https://cdn.jsdelivr.net/npm//vega-embed@6?noext\",\n",
       "    };\n",
       "\n",
       "    function loadScript(lib) {\n",
       "      return new Promise(function(resolve, reject) {\n",
       "        var s = document.createElement('script');\n",
       "        s.src = paths[lib];\n",
       "        s.async = true;\n",
       "        s.onload = () => resolve(paths[lib]);\n",
       "        s.onerror = () => reject(`Error loading script: ${paths[lib]}`);\n",
       "        document.getElementsByTagName(\"head\")[0].appendChild(s);\n",
       "      });\n",
       "    }\n",
       "\n",
       "    function showError(err) {\n",
       "      outputDiv.innerHTML = `<div class=\"error\" style=\"color:red;\">${err}</div>`;\n",
       "      throw err;\n",
       "    }\n",
       "\n",
       "    function displayChart(vegaEmbed) {\n",
       "      vegaEmbed(outputDiv, spec, embedOpt)\n",
       "        .catch(err => showError(`Javascript Error: ${err.message}<br>This usually means there's a typo in your chart specification. See the javascript console for the full traceback.`));\n",
       "    }\n",
       "\n",
       "    if(typeof define === \"function\" && define.amd) {\n",
       "      requirejs.config({paths});\n",
       "      require([\"vega-embed\"], displayChart, err => showError(`Error loading script: ${err.message}`));\n",
       "    } else if (typeof vegaEmbed === \"function\") {\n",
       "      displayChart(vegaEmbed);\n",
       "    } else {\n",
       "      loadScript(\"vega\")\n",
       "        .then(() => loadScript(\"vega-lite\"))\n",
       "        .then(() => loadScript(\"vega-embed\"))\n",
       "        .catch(showError)\n",
       "        .then(() => displayChart(vegaEmbed));\n",
       "    }\n",
       "  })({\"config\": {\"view\": {\"continuousWidth\": 400, \"continuousHeight\": 300}}, \"layer\": [{\"layer\": [{\"mark\": {\"type\": \"area\", \"color\": \"#e6224b\", \"opacity\": 0.15}, \"encoding\": {\"x\": {\"type\": \"quantitative\", \"axis\": {\"title\": null}, \"field\": \"death %\", \"sort\": []}, \"y\": {\"type\": \"quantitative\", \"axis\": {\"title\": \"\", \"titleColor\": \"#57A44C\"}, \"field\": \"p90\"}, \"y2\": {\"field\": \"p10\"}}}, {\"mark\": {\"type\": \"line\", \"stroke\": \"#e6224b\"}, \"encoding\": {\"x\": {\"type\": \"quantitative\", \"axis\": {\"title\": null}, \"field\": \"death %\", \"sort\": []}, \"y\": {\"type\": \"quantitative\", \"axis\": {}, \"field\": \"mean\"}}}, {\"mark\": {\"type\": \"point\", \"fill\": \"#e6224b\", \"stroke\": \"#e6224b\"}, \"encoding\": {\"x\": {\"type\": \"quantitative\", \"axis\": {\"title\": null}, \"field\": \"death %\", \"sort\": []}, \"y\": {\"type\": \"quantitative\", \"axis\": {}, \"field\": \"mean\"}}}], \"data\": {\"name\": \"data-d7770ca9f9f39acaeb3f02b6d0254c71\"}}, {\"layer\": [{\"mark\": {\"type\": \"area\", \"color\": \"#0063af\", \"opacity\": 0.15}, \"encoding\": {\"x\": {\"type\": \"quantitative\", \"axis\": {\"title\": null}, \"field\": \"death %\", \"sort\": []}, \"y\": {\"type\": \"quantitative\", \"axis\": {\"title\": \"\", \"titleColor\": \"#57A44C\"}, \"field\": \"p90\"}, \"y2\": {\"field\": \"p10\"}}}, {\"mark\": {\"type\": \"line\", \"stroke\": \"#0063af\"}, \"encoding\": {\"x\": {\"type\": \"quantitative\", \"axis\": {\"title\": null}, \"field\": \"death %\", \"sort\": []}, \"y\": {\"type\": \"quantitative\", \"axis\": {}, \"field\": \"mean\"}}}, {\"mark\": {\"type\": \"point\", \"fill\": \"#0063af\", \"stroke\": \"#0063af\"}, \"encoding\": {\"x\": {\"type\": \"quantitative\", \"axis\": {\"title\": null}, \"field\": \"death %\", \"sort\": []}, \"y\": {\"type\": \"quantitative\", \"axis\": {}, \"field\": \"mean\"}}}], \"data\": {\"name\": \"data-f302846da964287655e0055a01b0a64c\"}}, {\"data\": {\"name\": \"data-f302846da964287655e0055a01b0a64c\"}, \"mark\": {\"type\": \"line\", \"stroke\": \"#0063af\"}, \"encoding\": {\"x\": {\"type\": \"quantitative\", \"axis\": {\"title\": null}, \"field\": \"death %\", \"sort\": []}, \"y\": {\"type\": \"quantitative\", \"axis\": {}, \"field\": \"mean\"}}}, {\"data\": {\"name\": \"data-f302846da964287655e0055a01b0a64c\"}, \"mark\": \"point\", \"encoding\": {\"opacity\": {\"value\": 0}, \"x\": {\"type\": \"quantitative\", \"field\": \"death %\"}}, \"selection\": {\"selector013\": {\"type\": \"single\", \"nearest\": true, \"on\": \"mouseover\", \"fields\": [\"x\"], \"empty\": \"none\"}}}, {\"data\": {\"name\": \"data-f302846da964287655e0055a01b0a64c\"}, \"mark\": {\"type\": \"rule\", \"color\": \"gray\"}, \"encoding\": {\"x\": {\"type\": \"quantitative\", \"field\": \"death %\"}}, \"transform\": [{\"filter\": {\"selection\": \"selector013\"}}]}, {\"data\": {\"name\": \"data-f302846da964287655e0055a01b0a64c\"}, \"mark\": {\"type\": \"text\", \"align\": \"left\", \"dx\": 5, \"dy\": -5}, \"encoding\": {\"text\": {\"condition\": {\"type\": \"quantitative\", \"field\": \"y\", \"selection\": \"selector013\"}, \"value\": \" \"}, \"x\": {\"type\": \"quantitative\", \"axis\": {\"title\": null}, \"field\": \"death %\", \"sort\": []}, \"y\": {\"type\": \"quantitative\", \"axis\": {}, \"field\": \"mean\"}}}], \"height\": 300, \"width\": 600, \"$schema\": \"https://vega.github.io/schema/vega-lite/v4.8.1.json\", \"datasets\": {\"data-d7770ca9f9f39acaeb3f02b6d0254c71\": [{\"model\": \"ldsize_fiscal_0.0\", \"p1\": -1.273883838, \"p5\": -0.943891881, \"p10\": 0.336813707, \"p25\": 1.088081586, \"p50\": 1.8556374869999999, \"p75\": 2.6963153760000003, \"p90\": 3.447761618, \"p95\": 3.48929377, \"p99\": 3.555043879, \"mean\": 1.781972961, \"Yloss\": 0.524578951, \"death %\": 0.367082181}, {\"model\": \"ldlength_fiscal_0.16666666666666666\", \"p1\": -0.917550505, \"p5\": -0.598820996, \"p10\": 0.610222195, \"p25\": 1.464723622, \"p50\": 2.286401646, \"p75\": 2.982487873, \"p90\": 3.70057567, \"p95\": 3.725570789, \"p99\": 3.9781812839999997, \"mean\": 2.114000644, \"Yloss\": 0.606664243, \"death %\": 0.30860175100000004}, {\"model\": \"ldlength_fiscal_0.3333333333333333\", \"p1\": -0.6941572709999999, \"p5\": -0.358152917, \"p10\": 0.755606287, \"p25\": 1.7226168219999998, \"p50\": 2.49377239, \"p75\": 3.1852666519999997, \"p90\": 3.8976121480000003, \"p95\": 3.924424932, \"p99\": 4.309706961, \"mean\": 2.328412783, \"Yloss\": 0.643742587, \"death %\": 0.269632004}, {\"model\": \"ldlength_fiscal_0.5\", \"p1\": -0.6000677320000001, \"p5\": -0.243773032, \"p10\": 0.870891328, \"p25\": 1.8476928590000001, \"p50\": 2.6262294880000003, \"p75\": 3.3482024669999997, \"p90\": 4.040093033, \"p95\": 4.06848796, \"p99\": 4.446810511, \"mean\": 2.46279382, \"Yloss\": 0.673577874, \"death %\": 0.235397838}, {\"model\": \"ldlength_fiscal_0.6666666666666666\", \"p1\": -0.324881078, \"p5\": 0.059685525999999996, \"p10\": 1.095804673, \"p25\": 2.141848816, \"p50\": 2.937322216, \"p75\": 3.746325257, \"p90\": 4.430100306, \"p95\": 4.461073809, \"p99\": 4.85824254, \"mean\": 2.78444788, \"Yloss\": 0.7116298679999999, \"death %\": 0.229937773}, {\"model\": \"ldlength_fiscal_1.0\", \"p1\": -0.043693509000000005, \"p5\": 0.38295319299999997, \"p10\": 1.359984904, \"p25\": 2.511440997, \"p50\": 3.329251615, \"p75\": 4.192561575, \"p90\": 4.902673737, \"p95\": 4.9352223219999996, \"p99\": 5.357091832, \"mean\": 3.173177923, \"Yloss\": 0.788735321, \"death %\": 0.22441126399999997}, {\"model\": \"ldlength_fiscal_1.3333333333333333\", \"p1\": -0.161736421, \"p5\": 0.108897485, \"p10\": 1.416175171, \"p25\": 2.6292376440000003, \"p50\": 3.6894211930000003, \"p75\": 4.6539726560000005, \"p90\": 5.4371164510000005, \"p95\": 5.466547382000001, \"p99\": 5.933686156, \"mean\": 3.470625187, \"Yloss\": 0.868214865, \"death %\": 0.221072711}, {\"model\": \"ldlength_fiscal_1.5\", \"p1\": 0.47905511100000003, \"p5\": 1.032301785, \"p10\": 1.7452570490000001, \"p25\": 2.965287035, \"p50\": 3.946202707, \"p75\": 4.808065616, \"p90\": 5.5462608829999995, \"p95\": 5.577383602, \"p99\": 6.006904056000001, \"mean\": 3.7493789989999997, \"Yloss\": 0.8916092790000001, \"death %\": 0.218933424}, {\"model\": \"ldlength_fiscal_2.0\", \"p1\": 0.938365433, \"p5\": 1.6145483180000002, \"p10\": 2.119001027, \"p25\": 3.37783552, \"p50\": 4.503206195, \"p75\": 5.407879672000001, \"p90\": 6.099824066, \"p95\": 6.210797527, \"p99\": 6.577104092000001, \"mean\": 4.2646038, \"Yloss\": 0.988379427, \"death %\": 0.21309992100000003}, {\"model\": \"ldlength_fiscal_3.0\", \"p1\": 1.817203668, \"p5\": 2.649853185, \"p10\": 2.873963265, \"p25\": 4.079516795, \"p50\": 5.465633727999999, \"p75\": 6.578256097000001, \"p90\": 7.205802519, \"p95\": 7.657978201000001, \"p99\": 7.763821038, \"mean\": 5.279959881, \"Yloss\": 1.189767565, \"death %\": 0.19235513}, {\"model\": \"ldlength_fiscal_4.0\", \"p1\": 2.5148001580000003, \"p5\": 3.2365828430000003, \"p10\": 3.7174122589999996, \"p25\": 4.806613004, \"p50\": 6.241708826, \"p75\": 7.704218501000001, \"p90\": 8.144392003, \"p95\": 8.624887054, \"p99\": 9.099596594, \"mean\": 6.148743303, \"Yloss\": 1.3793582309999999, \"death %\": 0.167035876}, {\"model\": \"ldlength_fiscal_4.5\", \"p1\": 2.783843428, \"p5\": 3.4830564460000004, \"p10\": 4.070485539, \"p25\": 5.172609385, \"p50\": 6.580619163, \"p75\": 8.209155159, \"p90\": 8.55760823, \"p95\": 9.05410622, \"p99\": 9.713048757000001, \"mean\": 6.530242005, \"Yloss\": 1.466766904, \"death %\": 0.13671502}, {\"model\": \"ldlength_fiscal_5.0\", \"p1\": 2.881605669, \"p5\": 3.613061985, \"p10\": 4.203929951, \"p25\": 5.347048372, \"p50\": 6.684517846, \"p75\": 8.412924333, \"p90\": 8.68757414, \"p95\": 9.127012608, \"p99\": 10.09287748, \"mean\": 6.690834122999999, \"Yloss\": 1.5124895269999998, \"death %\": 0.076867668}, {\"model\": \"ldlength_fiscal_5.666666666666667\", \"p1\": 3.167842823, \"p5\": 3.896947115, \"p10\": 4.520879959, \"p25\": 5.733842124, \"p50\": 7.069985619, \"p75\": 9.009434166, \"p90\": 9.208300669, \"p95\": 9.594787227000001, \"p99\": 10.81605893, \"mean\": 7.133543966, \"Yloss\": 1.621018083, \"death %\": 0.048767538}], \"data-f302846da964287655e0055a01b0a64c\": [{\"model\": \"ldsize_0.0\", \"p1\": 0.8795952859999999, \"p5\": 1.103096699, \"p10\": 1.318354128, \"p25\": 1.8303930769999999, \"p50\": 2.233779078, \"p75\": 2.992348732, \"p90\": 3.370143555, \"p95\": 3.6330499880000002, \"p99\": 3.7135301469999997, \"mean\": 2.360578651, \"Yloss\": 0.43614922100000003, \"death %\": 0.34877419299999995}, {\"model\": \"ldlength_0.16666666666666666\", \"p1\": 1.111753742, \"p5\": 1.388345081, \"p10\": 1.649637285, \"p25\": 2.1855819419999998, \"p50\": 2.698883716, \"p75\": 3.376995781, \"p90\": 3.7520381260000004, \"p95\": 4.086607012, \"p99\": 4.119864133, \"mean\": 2.719298268, \"Yloss\": 0.5112300470000001, \"death %\": 0.274326907}, {\"model\": \"ldlength_0.3333333333333333\", \"p1\": 1.2187291040000001, \"p5\": 1.519559316, \"p10\": 1.810320551, \"p25\": 2.334033935, \"p50\": 2.880686585, \"p75\": 3.583655445, \"p90\": 3.9627780739999996, \"p95\": 4.330585781, \"p99\": 4.3666269689999995, \"mean\": 2.8991743210000003, \"Yloss\": 0.545124072, \"death %\": 0.244771524}, {\"model\": \"ldlength_0.5\", \"p1\": 1.32145575, \"p5\": 1.638757723, \"p10\": 1.9687841659999998, \"p25\": 2.4909840180000002, \"p50\": 3.031112805, \"p75\": 3.7953214980000003, \"p90\": 4.160962703, \"p95\": 4.584930761, \"p99\": 4.62326743, \"mean\": 3.0849702089999997, \"Yloss\": 0.57985228, \"death %\": 0.233559942}, {\"model\": \"ldlength_0.6666666666666666\", \"p1\": 1.478041493, \"p5\": 1.81978879, \"p10\": 2.180076583, \"p25\": 2.75552693, \"p50\": 3.326720949, \"p75\": 4.112895453, \"p90\": 4.477617414, \"p95\": 4.98051371, \"p99\": 5.0222125239999995, \"mean\": 3.37384311, \"Yloss\": 0.628982411, \"death %\": 0.235732179}, {\"model\": \"ldlength_1.0\", \"p1\": 1.68981524, \"p5\": 2.071751218, \"p10\": 2.493835752, \"p25\": 3.0921603039999996, \"p50\": 3.7317334680000003, \"p75\": 4.581653527, \"p90\": 4.931396381, \"p95\": 5.545590507000001, \"p99\": 5.593663151, \"mean\": 3.779692039, \"Yloss\": 0.704204632, \"death %\": 0.230900882}, {\"model\": \"ldlength_1.3333333333333333\", \"p1\": 1.897442712, \"p5\": 2.324937464, \"p10\": 2.7942788889999997, \"p25\": 3.451149521, \"p50\": 4.135973869, \"p75\": 5.038710217, \"p90\": 5.408594137000001, \"p95\": 6.095480211, \"p99\": 6.148847383, \"mean\": 4.174759582, \"Yloss\": 0.778689306, \"death %\": 0.22731538199999998}, {\"model\": \"ldlength_1.5\", \"p1\": 1.98402036, \"p5\": 2.434552213, \"p10\": 2.9246207980000003, \"p25\": 3.60965988, \"p50\": 4.307784977, \"p75\": 5.220873791, \"p90\": 5.603605957999999, \"p95\": 6.321428041, \"p99\": 6.376886679, \"mean\": 4.337953444, \"Yloss\": 0.8106876190000001, \"death %\": 0.223960047}, {\"model\": \"ldlength_2.0\", \"p1\": 2.261523663, \"p5\": 2.781592792, \"p10\": 3.296573342, \"p25\": 4.0563609110000005, \"p50\": 4.863192433, \"p75\": 5.845286806, \"p90\": 6.214878025, \"p95\": 7.024597066, \"p99\": 7.087597843999999, \"mean\": 4.848318005, \"Yloss\": 0.9079757079999999, \"death %\": 0.216775524}, {\"model\": \"ldlength_3.0\", \"p1\": 2.79206778, \"p5\": 3.405579424, \"p10\": 3.946819288, \"p25\": 4.953075087, \"p50\": 5.958813074, \"p75\": 6.922591055, \"p90\": 7.465511035, \"p95\": 8.393443495, \"p99\": 8.469840901, \"mean\": 5.836471652, \"Yloss\": 1.10930401, \"death %\": 0.196091252}, {\"model\": \"ldlength_4.0\", \"p1\": 3.2570012810000004, \"p5\": 3.95965432, \"p10\": 4.453137099, \"p25\": 5.705770705, \"p50\": 6.870933377, \"p75\": 7.8324734529999995, \"p90\": 8.586515622, \"p95\": 9.573925447, \"p99\": 9.663486894, \"mean\": 6.691383867000001, \"Yloss\": 1.298286469, \"death %\": 0.172214488}, {\"model\": \"ldlength_4.5\", \"p1\": 3.47539676, \"p5\": 4.2080137319999995, \"p10\": 4.691996984, \"p25\": 6.01032907, \"p50\": 7.289395226, \"p75\": 8.229669888, \"p90\": 9.002265667, \"p95\": 10.10325061, \"p99\": 10.20174575, \"mean\": 7.075876943, \"Yloss\": 1.387211414, \"death %\": 0.142187865}, {\"model\": \"ldlength_5.0\", \"p1\": 3.6089673689999997, \"p5\": 4.342237796, \"p10\": 4.7847859669999995, \"p25\": 6.131378731, \"p50\": 7.43375187, \"p75\": 8.32619401, \"p90\": 9.1227148, \"p95\": 10.27705282, \"p99\": 10.37938494, \"mean\": 7.22412579, \"Yloss\": 1.431822495, \"death %\": 0.078510506}, {\"model\": \"ldlength_5.666666666666667\", \"p1\": 3.8562433410000003, \"p5\": 4.62656495, \"p10\": 5.048326785, \"p25\": 6.430038804, \"p50\": 7.77603076, \"p75\": 8.775119961, \"p90\": 9.634621852999999, \"p95\": 10.84807856, \"p99\": 10.96269019, \"mean\": 7.635670721, \"Yloss\": 1.53520231, \"death %\": 0.046366828}]}}, {\"mode\": \"vega-lite\"});\n",
       "</script>"
      ],
      "text/plain": [
       "alt.LayerChart(...)"
      ]
     },
     "execution_count": 241,
     "metadata": {},
     "output_type": "execute_result"
    }
   ],
   "source": [
    "nearest = alt.selection(type='single', nearest=True, on='mouseover',\n",
    "                        fields=['x'], empty='none')\n",
    "\n",
    "selectors = alt.Chart(nofi).mark_point().encode(\n",
    "    x='death %',\n",
    "    opacity=alt.value(0),\n",
    ").add_selection(\n",
    "    nearest\n",
    ")\n",
    "text = line.mark_text(align='left', dx=5, dy=-5).encode(\n",
    "    text=alt.condition(nearest, 'y:Q', alt.value(' '))\n",
    ")\n",
    "rules = alt.Chart(nofi).mark_rule(color='gray').encode(\n",
    "    x='death %',\n",
    ").transform_filter(\n",
    "    nearest\n",
    ")\n",
    "\n",
    "# (layer1+layer2+selectors).configure_view(\n",
    "#         continuousHeight=420,\n",
    "#         continuousWidth=610)\n",
    "\n",
    "alt.layer(\n",
    "    layer1, layer2, line, selectors, rules, text\n",
    ").properties(\n",
    "    width=600, height=300\n",
    ")"
   ]
  },
  {
   "cell_type": "code",
   "execution_count": 245,
   "metadata": {},
   "outputs": [
    {
     "data": {
      "text/html": [
       "\n",
       "<div id=\"altair-viz-5516e4926825470290ebb8914b30515b\"></div>\n",
       "<script type=\"text/javascript\">\n",
       "  (function(spec, embedOpt){\n",
       "    let outputDiv = document.currentScript.previousElementSibling;\n",
       "    if (outputDiv.id !== \"altair-viz-5516e4926825470290ebb8914b30515b\") {\n",
       "      outputDiv = document.getElementById(\"altair-viz-5516e4926825470290ebb8914b30515b\");\n",
       "    }\n",
       "    const paths = {\n",
       "      \"vega\": \"https://cdn.jsdelivr.net/npm//vega@5?noext\",\n",
       "      \"vega-lib\": \"https://cdn.jsdelivr.net/npm//vega-lib?noext\",\n",
       "      \"vega-lite\": \"https://cdn.jsdelivr.net/npm//vega-lite@4.8.1?noext\",\n",
       "      \"vega-embed\": \"https://cdn.jsdelivr.net/npm//vega-embed@6?noext\",\n",
       "    };\n",
       "\n",
       "    function loadScript(lib) {\n",
       "      return new Promise(function(resolve, reject) {\n",
       "        var s = document.createElement('script');\n",
       "        s.src = paths[lib];\n",
       "        s.async = true;\n",
       "        s.onload = () => resolve(paths[lib]);\n",
       "        s.onerror = () => reject(`Error loading script: ${paths[lib]}`);\n",
       "        document.getElementsByTagName(\"head\")[0].appendChild(s);\n",
       "      });\n",
       "    }\n",
       "\n",
       "    function showError(err) {\n",
       "      outputDiv.innerHTML = `<div class=\"error\" style=\"color:red;\">${err}</div>`;\n",
       "      throw err;\n",
       "    }\n",
       "\n",
       "    function displayChart(vegaEmbed) {\n",
       "      vegaEmbed(outputDiv, spec, embedOpt)\n",
       "        .catch(err => showError(`Javascript Error: ${err.message}<br>This usually means there's a typo in your chart specification. See the javascript console for the full traceback.`));\n",
       "    }\n",
       "\n",
       "    if(typeof define === \"function\" && define.amd) {\n",
       "      requirejs.config({paths});\n",
       "      require([\"vega-embed\"], displayChart, err => showError(`Error loading script: ${err.message}`));\n",
       "    } else if (typeof vegaEmbed === \"function\") {\n",
       "      displayChart(vegaEmbed);\n",
       "    } else {\n",
       "      loadScript(\"vega\")\n",
       "        .then(() => loadScript(\"vega-lite\"))\n",
       "        .then(() => loadScript(\"vega-embed\"))\n",
       "        .catch(showError)\n",
       "        .then(() => displayChart(vegaEmbed));\n",
       "    }\n",
       "  })({\"config\": {\"view\": {\"continuousWidth\": 610, \"continuousHeight\": 420}}, \"layer\": [{\"mark\": {\"type\": \"area\", \"color\": \"#e6224b\", \"opacity\": 0.15}, \"encoding\": {\"x\": {\"type\": \"quantitative\", \"axis\": {\"title\": null}, \"field\": \"death %\", \"sort\": []}, \"y\": {\"type\": \"quantitative\", \"axis\": {\"title\": \"\", \"titleColor\": \"#57A44C\"}, \"field\": \"p90\"}, \"y2\": {\"field\": \"p10\"}}}, {\"mark\": {\"type\": \"line\", \"stroke\": \"#e6224b\"}, \"encoding\": {\"x\": {\"type\": \"quantitative\", \"axis\": {\"title\": null}, \"field\": \"death %\", \"sort\": []}, \"y\": {\"type\": \"quantitative\", \"axis\": {}, \"field\": \"mean\"}}}, {\"mark\": {\"type\": \"point\", \"fill\": \"#e6224b\", \"stroke\": \"#e6224b\"}, \"encoding\": {\"x\": {\"type\": \"quantitative\", \"axis\": {\"title\": null}, \"field\": \"death %\", \"sort\": []}, \"y\": {\"type\": \"quantitative\", \"axis\": {}, \"field\": \"mean\"}}}, {\"layer\": [{\"mark\": {\"type\": \"area\", \"color\": \"#0063af\", \"opacity\": 0.15}, \"encoding\": {\"x\": {\"type\": \"quantitative\", \"axis\": {\"title\": null}, \"field\": \"death %\", \"sort\": []}, \"y\": {\"type\": \"quantitative\", \"axis\": {\"title\": \"\", \"titleColor\": \"#57A44C\"}, \"field\": \"p90\"}, \"y2\": {\"field\": \"p10\"}}}, {\"mark\": {\"type\": \"line\", \"stroke\": \"#0063af\"}, \"encoding\": {\"x\": {\"type\": \"quantitative\", \"axis\": {\"title\": null}, \"field\": \"death %\", \"sort\": []}, \"y\": {\"type\": \"quantitative\", \"axis\": {}, \"field\": \"mean\"}}}, {\"mark\": {\"type\": \"point\", \"fill\": \"#0063af\", \"stroke\": \"#0063af\"}, \"encoding\": {\"x\": {\"type\": \"quantitative\", \"axis\": {\"title\": null}, \"field\": \"death %\", \"sort\": []}, \"y\": {\"type\": \"quantitative\", \"axis\": {}, \"field\": \"mean\"}}}], \"data\": {\"name\": \"data-f302846da964287655e0055a01b0a64c\"}}], \"data\": {\"name\": \"data-d7770ca9f9f39acaeb3f02b6d0254c71\"}, \"$schema\": \"https://vega.github.io/schema/vega-lite/v4.8.1.json\", \"datasets\": {\"data-d7770ca9f9f39acaeb3f02b6d0254c71\": [{\"model\": \"ldsize_fiscal_0.0\", \"p1\": -1.273883838, \"p5\": -0.943891881, \"p10\": 0.336813707, \"p25\": 1.088081586, \"p50\": 1.8556374869999999, \"p75\": 2.6963153760000003, \"p90\": 3.447761618, \"p95\": 3.48929377, \"p99\": 3.555043879, \"mean\": 1.781972961, \"Yloss\": 0.524578951, \"death %\": 0.367082181}, {\"model\": \"ldlength_fiscal_0.16666666666666666\", \"p1\": -0.917550505, \"p5\": -0.598820996, \"p10\": 0.610222195, \"p25\": 1.464723622, \"p50\": 2.286401646, \"p75\": 2.982487873, \"p90\": 3.70057567, \"p95\": 3.725570789, \"p99\": 3.9781812839999997, \"mean\": 2.114000644, \"Yloss\": 0.606664243, \"death %\": 0.30860175100000004}, {\"model\": \"ldlength_fiscal_0.3333333333333333\", \"p1\": -0.6941572709999999, \"p5\": -0.358152917, \"p10\": 0.755606287, \"p25\": 1.7226168219999998, \"p50\": 2.49377239, \"p75\": 3.1852666519999997, \"p90\": 3.8976121480000003, \"p95\": 3.924424932, \"p99\": 4.309706961, \"mean\": 2.328412783, \"Yloss\": 0.643742587, \"death %\": 0.269632004}, {\"model\": \"ldlength_fiscal_0.5\", \"p1\": -0.6000677320000001, \"p5\": -0.243773032, \"p10\": 0.870891328, \"p25\": 1.8476928590000001, \"p50\": 2.6262294880000003, \"p75\": 3.3482024669999997, \"p90\": 4.040093033, \"p95\": 4.06848796, \"p99\": 4.446810511, \"mean\": 2.46279382, \"Yloss\": 0.673577874, \"death %\": 0.235397838}, {\"model\": \"ldlength_fiscal_0.6666666666666666\", \"p1\": -0.324881078, \"p5\": 0.059685525999999996, \"p10\": 1.095804673, \"p25\": 2.141848816, \"p50\": 2.937322216, \"p75\": 3.746325257, \"p90\": 4.430100306, \"p95\": 4.461073809, \"p99\": 4.85824254, \"mean\": 2.78444788, \"Yloss\": 0.7116298679999999, \"death %\": 0.229937773}, {\"model\": \"ldlength_fiscal_1.0\", \"p1\": -0.043693509000000005, \"p5\": 0.38295319299999997, \"p10\": 1.359984904, \"p25\": 2.511440997, \"p50\": 3.329251615, \"p75\": 4.192561575, \"p90\": 4.902673737, \"p95\": 4.9352223219999996, \"p99\": 5.357091832, \"mean\": 3.173177923, \"Yloss\": 0.788735321, \"death %\": 0.22441126399999997}, {\"model\": \"ldlength_fiscal_1.3333333333333333\", \"p1\": -0.161736421, \"p5\": 0.108897485, \"p10\": 1.416175171, \"p25\": 2.6292376440000003, \"p50\": 3.6894211930000003, \"p75\": 4.6539726560000005, \"p90\": 5.4371164510000005, \"p95\": 5.466547382000001, \"p99\": 5.933686156, \"mean\": 3.470625187, \"Yloss\": 0.868214865, \"death %\": 0.221072711}, {\"model\": \"ldlength_fiscal_1.5\", \"p1\": 0.47905511100000003, \"p5\": 1.032301785, \"p10\": 1.7452570490000001, \"p25\": 2.965287035, \"p50\": 3.946202707, \"p75\": 4.808065616, \"p90\": 5.5462608829999995, \"p95\": 5.577383602, \"p99\": 6.006904056000001, \"mean\": 3.7493789989999997, \"Yloss\": 0.8916092790000001, \"death %\": 0.218933424}, {\"model\": \"ldlength_fiscal_2.0\", \"p1\": 0.938365433, \"p5\": 1.6145483180000002, \"p10\": 2.119001027, \"p25\": 3.37783552, \"p50\": 4.503206195, \"p75\": 5.407879672000001, \"p90\": 6.099824066, \"p95\": 6.210797527, \"p99\": 6.577104092000001, \"mean\": 4.2646038, \"Yloss\": 0.988379427, \"death %\": 0.21309992100000003}, {\"model\": \"ldlength_fiscal_3.0\", \"p1\": 1.817203668, \"p5\": 2.649853185, \"p10\": 2.873963265, \"p25\": 4.079516795, \"p50\": 5.465633727999999, \"p75\": 6.578256097000001, \"p90\": 7.205802519, \"p95\": 7.657978201000001, \"p99\": 7.763821038, \"mean\": 5.279959881, \"Yloss\": 1.189767565, \"death %\": 0.19235513}, {\"model\": \"ldlength_fiscal_4.0\", \"p1\": 2.5148001580000003, \"p5\": 3.2365828430000003, \"p10\": 3.7174122589999996, \"p25\": 4.806613004, \"p50\": 6.241708826, \"p75\": 7.704218501000001, \"p90\": 8.144392003, \"p95\": 8.624887054, \"p99\": 9.099596594, \"mean\": 6.148743303, \"Yloss\": 1.3793582309999999, \"death %\": 0.167035876}, {\"model\": \"ldlength_fiscal_4.5\", \"p1\": 2.783843428, \"p5\": 3.4830564460000004, \"p10\": 4.070485539, \"p25\": 5.172609385, \"p50\": 6.580619163, \"p75\": 8.209155159, \"p90\": 8.55760823, \"p95\": 9.05410622, \"p99\": 9.713048757000001, \"mean\": 6.530242005, \"Yloss\": 1.466766904, \"death %\": 0.13671502}, {\"model\": \"ldlength_fiscal_5.0\", \"p1\": 2.881605669, \"p5\": 3.613061985, \"p10\": 4.203929951, \"p25\": 5.347048372, \"p50\": 6.684517846, \"p75\": 8.412924333, \"p90\": 8.68757414, \"p95\": 9.127012608, \"p99\": 10.09287748, \"mean\": 6.690834122999999, \"Yloss\": 1.5124895269999998, \"death %\": 0.076867668}, {\"model\": \"ldlength_fiscal_5.666666666666667\", \"p1\": 3.167842823, \"p5\": 3.896947115, \"p10\": 4.520879959, \"p25\": 5.733842124, \"p50\": 7.069985619, \"p75\": 9.009434166, \"p90\": 9.208300669, \"p95\": 9.594787227000001, \"p99\": 10.81605893, \"mean\": 7.133543966, \"Yloss\": 1.621018083, \"death %\": 0.048767538}], \"data-f302846da964287655e0055a01b0a64c\": [{\"model\": \"ldsize_0.0\", \"p1\": 0.8795952859999999, \"p5\": 1.103096699, \"p10\": 1.318354128, \"p25\": 1.8303930769999999, \"p50\": 2.233779078, \"p75\": 2.992348732, \"p90\": 3.370143555, \"p95\": 3.6330499880000002, \"p99\": 3.7135301469999997, \"mean\": 2.360578651, \"Yloss\": 0.43614922100000003, \"death %\": 0.34877419299999995}, {\"model\": \"ldlength_0.16666666666666666\", \"p1\": 1.111753742, \"p5\": 1.388345081, \"p10\": 1.649637285, \"p25\": 2.1855819419999998, \"p50\": 2.698883716, \"p75\": 3.376995781, \"p90\": 3.7520381260000004, \"p95\": 4.086607012, \"p99\": 4.119864133, \"mean\": 2.719298268, \"Yloss\": 0.5112300470000001, \"death %\": 0.274326907}, {\"model\": \"ldlength_0.3333333333333333\", \"p1\": 1.2187291040000001, \"p5\": 1.519559316, \"p10\": 1.810320551, \"p25\": 2.334033935, \"p50\": 2.880686585, \"p75\": 3.583655445, \"p90\": 3.9627780739999996, \"p95\": 4.330585781, \"p99\": 4.3666269689999995, \"mean\": 2.8991743210000003, \"Yloss\": 0.545124072, \"death %\": 0.244771524}, {\"model\": \"ldlength_0.5\", \"p1\": 1.32145575, \"p5\": 1.638757723, \"p10\": 1.9687841659999998, \"p25\": 2.4909840180000002, \"p50\": 3.031112805, \"p75\": 3.7953214980000003, \"p90\": 4.160962703, \"p95\": 4.584930761, \"p99\": 4.62326743, \"mean\": 3.0849702089999997, \"Yloss\": 0.57985228, \"death %\": 0.233559942}, {\"model\": \"ldlength_0.6666666666666666\", \"p1\": 1.478041493, \"p5\": 1.81978879, \"p10\": 2.180076583, \"p25\": 2.75552693, \"p50\": 3.326720949, \"p75\": 4.112895453, \"p90\": 4.477617414, \"p95\": 4.98051371, \"p99\": 5.0222125239999995, \"mean\": 3.37384311, \"Yloss\": 0.628982411, \"death %\": 0.235732179}, {\"model\": \"ldlength_1.0\", \"p1\": 1.68981524, \"p5\": 2.071751218, \"p10\": 2.493835752, \"p25\": 3.0921603039999996, \"p50\": 3.7317334680000003, \"p75\": 4.581653527, \"p90\": 4.931396381, \"p95\": 5.545590507000001, \"p99\": 5.593663151, \"mean\": 3.779692039, \"Yloss\": 0.704204632, \"death %\": 0.230900882}, {\"model\": \"ldlength_1.3333333333333333\", \"p1\": 1.897442712, \"p5\": 2.324937464, \"p10\": 2.7942788889999997, \"p25\": 3.451149521, \"p50\": 4.135973869, \"p75\": 5.038710217, \"p90\": 5.408594137000001, \"p95\": 6.095480211, \"p99\": 6.148847383, \"mean\": 4.174759582, \"Yloss\": 0.778689306, \"death %\": 0.22731538199999998}, {\"model\": \"ldlength_1.5\", \"p1\": 1.98402036, \"p5\": 2.434552213, \"p10\": 2.9246207980000003, \"p25\": 3.60965988, \"p50\": 4.307784977, \"p75\": 5.220873791, \"p90\": 5.603605957999999, \"p95\": 6.321428041, \"p99\": 6.376886679, \"mean\": 4.337953444, \"Yloss\": 0.8106876190000001, \"death %\": 0.223960047}, {\"model\": \"ldlength_2.0\", \"p1\": 2.261523663, \"p5\": 2.781592792, \"p10\": 3.296573342, \"p25\": 4.0563609110000005, \"p50\": 4.863192433, \"p75\": 5.845286806, \"p90\": 6.214878025, \"p95\": 7.024597066, \"p99\": 7.087597843999999, \"mean\": 4.848318005, \"Yloss\": 0.9079757079999999, \"death %\": 0.216775524}, {\"model\": \"ldlength_3.0\", \"p1\": 2.79206778, \"p5\": 3.405579424, \"p10\": 3.946819288, \"p25\": 4.953075087, \"p50\": 5.958813074, \"p75\": 6.922591055, \"p90\": 7.465511035, \"p95\": 8.393443495, \"p99\": 8.469840901, \"mean\": 5.836471652, \"Yloss\": 1.10930401, \"death %\": 0.196091252}, {\"model\": \"ldlength_4.0\", \"p1\": 3.2570012810000004, \"p5\": 3.95965432, \"p10\": 4.453137099, \"p25\": 5.705770705, \"p50\": 6.870933377, \"p75\": 7.8324734529999995, \"p90\": 8.586515622, \"p95\": 9.573925447, \"p99\": 9.663486894, \"mean\": 6.691383867000001, \"Yloss\": 1.298286469, \"death %\": 0.172214488}, {\"model\": \"ldlength_4.5\", \"p1\": 3.47539676, \"p5\": 4.2080137319999995, \"p10\": 4.691996984, \"p25\": 6.01032907, \"p50\": 7.289395226, \"p75\": 8.229669888, \"p90\": 9.002265667, \"p95\": 10.10325061, \"p99\": 10.20174575, \"mean\": 7.075876943, \"Yloss\": 1.387211414, \"death %\": 0.142187865}, {\"model\": \"ldlength_5.0\", \"p1\": 3.6089673689999997, \"p5\": 4.342237796, \"p10\": 4.7847859669999995, \"p25\": 6.131378731, \"p50\": 7.43375187, \"p75\": 8.32619401, \"p90\": 9.1227148, \"p95\": 10.27705282, \"p99\": 10.37938494, \"mean\": 7.22412579, \"Yloss\": 1.431822495, \"death %\": 0.078510506}, {\"model\": \"ldlength_5.666666666666667\", \"p1\": 3.8562433410000003, \"p5\": 4.62656495, \"p10\": 5.048326785, \"p25\": 6.430038804, \"p50\": 7.77603076, \"p75\": 8.775119961, \"p90\": 9.634621852999999, \"p95\": 10.84807856, \"p99\": 10.96269019, \"mean\": 7.635670721, \"Yloss\": 1.53520231, \"death %\": 0.046366828}]}}, {\"mode\": \"vega-lite\"});\n",
       "</script>"
      ],
      "text/plain": [
       "alt.LayerChart(...)"
      ]
     },
     "execution_count": 245,
     "metadata": {},
     "output_type": "execute_result"
    }
   ],
   "source": [
    "year_slider = alt.binding_range(min=1969, max=2018, step=1)\n",
    "# A dropdown filter\n",
    "genre_dropdown = alt.binding_select(options=['ldsize_0.0','ldlength_4.0'])\n",
    "genre_select = alt.selection_single(fields=['model'], bind=genre_dropdown, name=\"Genre\")\n",
    "filter_genres = base.add_selection(\n",
    "    genre_select\n",
    ").transform_filter(\n",
    "    genre_select\n",
    ").properties(title=\"Dropdown Filtering\")\n",
    "\n",
    "(layer1+layer2).configure_view(\n",
    "        continuousHeight=420,\n",
    "        continuousWidth=610)\n"
   ]
  },
  {
   "cell_type": "code",
   "execution_count": 246,
   "metadata": {},
   "outputs": [
    {
     "data": {
      "text/html": [
       "\n",
       "<div id=\"altair-viz-241803f58a4a4eeda88b5c5a2d0a9bb9\"></div>\n",
       "<script type=\"text/javascript\">\n",
       "  (function(spec, embedOpt){\n",
       "    let outputDiv = document.currentScript.previousElementSibling;\n",
       "    if (outputDiv.id !== \"altair-viz-241803f58a4a4eeda88b5c5a2d0a9bb9\") {\n",
       "      outputDiv = document.getElementById(\"altair-viz-241803f58a4a4eeda88b5c5a2d0a9bb9\");\n",
       "    }\n",
       "    const paths = {\n",
       "      \"vega\": \"https://cdn.jsdelivr.net/npm//vega@5?noext\",\n",
       "      \"vega-lib\": \"https://cdn.jsdelivr.net/npm//vega-lib?noext\",\n",
       "      \"vega-lite\": \"https://cdn.jsdelivr.net/npm//vega-lite@4.8.1?noext\",\n",
       "      \"vega-embed\": \"https://cdn.jsdelivr.net/npm//vega-embed@6?noext\",\n",
       "    };\n",
       "\n",
       "    function loadScript(lib) {\n",
       "      return new Promise(function(resolve, reject) {\n",
       "        var s = document.createElement('script');\n",
       "        s.src = paths[lib];\n",
       "        s.async = true;\n",
       "        s.onload = () => resolve(paths[lib]);\n",
       "        s.onerror = () => reject(`Error loading script: ${paths[lib]}`);\n",
       "        document.getElementsByTagName(\"head\")[0].appendChild(s);\n",
       "      });\n",
       "    }\n",
       "\n",
       "    function showError(err) {\n",
       "      outputDiv.innerHTML = `<div class=\"error\" style=\"color:red;\">${err}</div>`;\n",
       "      throw err;\n",
       "    }\n",
       "\n",
       "    function displayChart(vegaEmbed) {\n",
       "      vegaEmbed(outputDiv, spec, embedOpt)\n",
       "        .catch(err => showError(`Javascript Error: ${err.message}<br>This usually means there's a typo in your chart specification. See the javascript console for the full traceback.`));\n",
       "    }\n",
       "\n",
       "    if(typeof define === \"function\" && define.amd) {\n",
       "      requirejs.config({paths});\n",
       "      require([\"vega-embed\"], displayChart, err => showError(`Error loading script: ${err.message}`));\n",
       "    } else if (typeof vegaEmbed === \"function\") {\n",
       "      displayChart(vegaEmbed);\n",
       "    } else {\n",
       "      loadScript(\"vega\")\n",
       "        .then(() => loadScript(\"vega-lite\"))\n",
       "        .then(() => loadScript(\"vega-embed\"))\n",
       "        .catch(showError)\n",
       "        .then(() => displayChart(vegaEmbed));\n",
       "    }\n",
       "  })({\"config\": {\"view\": {\"continuousWidth\": 400, \"continuousHeight\": 300}}, \"vconcat\": [{\"hconcat\": [{\"mark\": {\"type\": \"point\", \"filled\": true}, \"encoding\": {\"tooltip\": {\"type\": \"nominal\", \"field\": \"Title\"}, \"x\": {\"type\": \"quantitative\", \"field\": \"Worldwide_Gross\", \"scale\": {\"clamp\": true, \"domain\": [100000, 1000000000]}}, \"y\": {\"type\": \"quantitative\", \"field\": \"IMDB_Rating\"}}, \"height\": 200, \"selection\": {\"Release Year_\": {\"type\": \"single\", \"bind\": {\"input\": \"range\", \"max\": 2018, \"min\": 1969, \"step\": 1}, \"fields\": [\"Release_Year\"]}}, \"title\": \"Slider Filtering\", \"transform\": [{\"calculate\": \"floor(datum.IMDB_Rating)\", \"as\": \"Rounded_IMDB_Rating\"}, {\"calculate\": \"datum.Production_Budget > 100000000.0 ? 100 : 10\", \"as\": \"Hundred_Million_Production\"}, {\"calculate\": \"year(datum.Release_Date)\", \"as\": \"Release_Year\"}, {\"filter\": \"(datum.IMDB_Rating > 0)\"}, {\"filter\": {\"field\": \"MPAA_Rating\", \"oneOf\": [\"G\", \"NC-17\", \"PG\", \"PG-13\", \"R\"]}}, {\"filter\": {\"selection\": \"Release Year_\"}}], \"width\": 200}, {\"mark\": {\"type\": \"point\", \"filled\": true}, \"encoding\": {\"tooltip\": {\"type\": \"nominal\", \"field\": \"Title\"}, \"x\": {\"type\": \"quantitative\", \"field\": \"Worldwide_Gross\", \"scale\": {\"clamp\": true, \"domain\": [100000, 1000000000]}}, \"y\": {\"type\": \"quantitative\", \"field\": \"IMDB_Rating\"}}, \"height\": 200, \"selection\": {\"Genre\": {\"type\": \"single\", \"fields\": [\"Major_Genre\"], \"bind\": {\"input\": \"select\", \"options\": [\"Action\", \"Adventure\", \"Black Comedy\", \"Comedy\", \"Concert/Performance\", \"Documentary\", \"Drama\", \"Horror\", \"Musical\", \"Romantic Comedy\", \"Thriller/Suspense\", \"Western\"]}}}, \"title\": \"Dropdown Filtering\", \"transform\": [{\"calculate\": \"floor(datum.IMDB_Rating)\", \"as\": \"Rounded_IMDB_Rating\"}, {\"calculate\": \"datum.Production_Budget > 100000000.0 ? 100 : 10\", \"as\": \"Hundred_Million_Production\"}, {\"calculate\": \"year(datum.Release_Date)\", \"as\": \"Release_Year\"}, {\"filter\": \"(datum.IMDB_Rating > 0)\"}, {\"filter\": {\"field\": \"MPAA_Rating\", \"oneOf\": [\"G\", \"NC-17\", \"PG\", \"PG-13\", \"R\"]}}, {\"filter\": {\"selection\": \"Genre\"}}], \"width\": 200}]}, {\"hconcat\": [{\"mark\": {\"type\": \"point\", \"filled\": true}, \"encoding\": {\"color\": {\"condition\": {\"type\": \"nominal\", \"field\": \"MPAA_Rating\", \"legend\": null, \"selection\": \"Rating\"}, \"value\": \"lightgray\"}, \"tooltip\": {\"type\": \"nominal\", \"field\": \"Title\"}, \"x\": {\"type\": \"quantitative\", \"field\": \"Worldwide_Gross\", \"scale\": {\"clamp\": true, \"domain\": [100000, 1000000000]}}, \"y\": {\"type\": \"quantitative\", \"field\": \"IMDB_Rating\"}}, \"height\": 200, \"selection\": {\"Rating\": {\"type\": \"single\", \"fields\": [\"MPAA_Rating\"], \"bind\": {\"input\": \"radio\", \"options\": [\"G\", \"NC-17\", \"PG\", \"PG-13\", \"R\"]}}}, \"title\": \"Radio Button Highlighting\", \"transform\": [{\"calculate\": \"floor(datum.IMDB_Rating)\", \"as\": \"Rounded_IMDB_Rating\"}, {\"calculate\": \"datum.Production_Budget > 100000000.0 ? 100 : 10\", \"as\": \"Hundred_Million_Production\"}, {\"calculate\": \"year(datum.Release_Date)\", \"as\": \"Release_Year\"}, {\"filter\": \"(datum.IMDB_Rating > 0)\"}, {\"filter\": {\"field\": \"MPAA_Rating\", \"oneOf\": [\"G\", \"NC-17\", \"PG\", \"PG-13\", \"R\"]}}], \"width\": 200}, {\"mark\": {\"type\": \"point\", \"filled\": true}, \"encoding\": {\"size\": {\"type\": \"quantitative\", \"condition\": {\"value\": 25, \"selection\": \"Big Budget Films\"}, \"field\": \"Hundred_Million_Production\"}, \"tooltip\": {\"type\": \"nominal\", \"field\": \"Title\"}, \"x\": {\"type\": \"quantitative\", \"field\": \"Worldwide_Gross\", \"scale\": {\"clamp\": true, \"domain\": [100000, 1000000000]}}, \"y\": {\"type\": \"quantitative\", \"field\": \"IMDB_Rating\"}}, \"height\": 200, \"selection\": {\"Big Budget Films\": {\"type\": \"single\", \"bind\": {\"input\": \"checkbox\"}}}, \"title\": \"Checkbox Formatting\", \"transform\": [{\"calculate\": \"floor(datum.IMDB_Rating)\", \"as\": \"Rounded_IMDB_Rating\"}, {\"calculate\": \"datum.Production_Budget > 100000000.0 ? 100 : 10\", \"as\": \"Hundred_Million_Production\"}, {\"calculate\": \"year(datum.Release_Date)\", \"as\": \"Release_Year\"}, {\"filter\": \"(datum.IMDB_Rating > 0)\"}, {\"filter\": {\"field\": \"MPAA_Rating\", \"oneOf\": [\"G\", \"NC-17\", \"PG\", \"PG-13\", \"R\"]}}], \"width\": 200}]}], \"data\": {\"url\": \"https://cdn.jsdelivr.net/npm/vega-datasets@v1.29.0/data/movies.json\", \"format\": {\"parse\": {\"Release_Date\": \"date\"}}}, \"$schema\": \"https://vega.github.io/schema/vega-lite/v4.8.1.json\"}, {\"mode\": \"vega-lite\"});\n",
       "</script>"
      ],
      "text/plain": [
       "alt.VConcatChart(...)"
      ]
     },
     "execution_count": 246,
     "metadata": {},
     "output_type": "execute_result"
    }
   ],
   "source": [
    "import altair as alt\n",
    "from vega_datasets import data\n",
    "\n",
    "movies = alt.UrlData(\n",
    "    data.movies.url,\n",
    "    format=alt.DataFormat(parse={\"Release_Date\":\"date\"})\n",
    ")\n",
    "ratings = ['G', 'NC-17', 'PG', 'PG-13', 'R']\n",
    "genres = ['Action', 'Adventure', 'Black Comedy', 'Comedy',\n",
    "       'Concert/Performance', 'Documentary', 'Drama', 'Horror', 'Musical',\n",
    "       'Romantic Comedy', 'Thriller/Suspense', 'Western']\n",
    "\n",
    "base = alt.Chart(movies, width=200, height=200).mark_point(filled=True).transform_calculate(\n",
    "    Rounded_IMDB_Rating = \"floor(datum.IMDB_Rating)\",\n",
    "    Hundred_Million_Production =  \"datum.Production_Budget > 100000000.0 ? 100 : 10\",\n",
    "    Release_Year = \"year(datum.Release_Date)\"\n",
    ").transform_filter(\n",
    "    alt.datum.IMDB_Rating > 0\n",
    ").transform_filter(\n",
    "    alt.FieldOneOfPredicate(field='MPAA_Rating', oneOf=ratings)\n",
    ").encode(\n",
    "    x=alt.X('Worldwide_Gross:Q', scale=alt.Scale(domain=(100000,10**9), clamp=True)),\n",
    "    y='IMDB_Rating:Q',\n",
    "    tooltip=\"Title:N\"\n",
    ")\n",
    "\n",
    "# A slider filter\n",
    "year_slider = alt.binding_range(min=1969, max=2018, step=1)\n",
    "slider_selection = alt.selection_single(bind=year_slider, fields=['Release_Year'], name=\"Release Year_\")\n",
    "\n",
    "\n",
    "filter_year = base.add_selection(\n",
    "    slider_selection\n",
    ").transform_filter(\n",
    "    slider_selection\n",
    ").properties(title=\"Slider Filtering\")\n",
    "\n",
    "# A dropdown filter\n",
    "genre_dropdown = alt.binding_select(options=genres)\n",
    "genre_select = alt.selection_single(fields=['Major_Genre'], bind=genre_dropdown, name=\"Genre\")\n",
    "\n",
    "filter_genres = base.add_selection(\n",
    "    genre_select\n",
    ").transform_filter(\n",
    "    genre_select\n",
    ").properties(title=\"Dropdown Filtering\")\n",
    "\n",
    "#color changing marks\n",
    "rating_radio = alt.binding_radio(options=ratings)\n",
    "\n",
    "rating_select = alt.selection_single(fields=['MPAA_Rating'], bind=rating_radio, name=\"Rating\")\n",
    "rating_color_condition = alt.condition(rating_select,\n",
    "                      alt.Color('MPAA_Rating:N', legend=None),\n",
    "                      alt.value('lightgray'))\n",
    "\n",
    "highlight_ratings = base.add_selection(\n",
    "    rating_select\n",
    ").encode(\n",
    "    color=rating_color_condition\n",
    ").properties(title=\"Radio Button Highlighting\")\n",
    "\n",
    "# Boolean selection for format changes\n",
    "input_checkbox = alt.binding_checkbox()\n",
    "checkbox_selection = alt.selection_single(bind=input_checkbox, name=\"Big Budget Films\")\n",
    "\n",
    "size_checkbox_condition = alt.condition(checkbox_selection,\n",
    "                                        alt.SizeValue(25),\n",
    "                                        alt.Size('Hundred_Million_Production:Q')\n",
    "                                       )\n",
    "\n",
    "budget_sizing = base.add_selection(\n",
    "    checkbox_selection\n",
    ").encode(\n",
    "    size=size_checkbox_condition\n",
    ").properties(title=\"Checkbox Formatting\")\n",
    "\n",
    "( filter_year | filter_genres) &  (highlight_ratings | budget_sizing  )"
   ]
  },
  {
   "cell_type": "code",
   "execution_count": 234,
   "metadata": {},
   "outputs": [
    {
     "data": {
      "text/html": [
       "\n",
       "<div id=\"altair-viz-fffbd029c7114979a75de00d9b53e474\"></div>\n",
       "<script type=\"text/javascript\">\n",
       "  (function(spec, embedOpt){\n",
       "    let outputDiv = document.currentScript.previousElementSibling;\n",
       "    if (outputDiv.id !== \"altair-viz-fffbd029c7114979a75de00d9b53e474\") {\n",
       "      outputDiv = document.getElementById(\"altair-viz-fffbd029c7114979a75de00d9b53e474\");\n",
       "    }\n",
       "    const paths = {\n",
       "      \"vega\": \"https://cdn.jsdelivr.net/npm//vega@5?noext\",\n",
       "      \"vega-lib\": \"https://cdn.jsdelivr.net/npm//vega-lib?noext\",\n",
       "      \"vega-lite\": \"https://cdn.jsdelivr.net/npm//vega-lite@4.8.1?noext\",\n",
       "      \"vega-embed\": \"https://cdn.jsdelivr.net/npm//vega-embed@6?noext\",\n",
       "    };\n",
       "\n",
       "    function loadScript(lib) {\n",
       "      return new Promise(function(resolve, reject) {\n",
       "        var s = document.createElement('script');\n",
       "        s.src = paths[lib];\n",
       "        s.async = true;\n",
       "        s.onload = () => resolve(paths[lib]);\n",
       "        s.onerror = () => reject(`Error loading script: ${paths[lib]}`);\n",
       "        document.getElementsByTagName(\"head\")[0].appendChild(s);\n",
       "      });\n",
       "    }\n",
       "\n",
       "    function showError(err) {\n",
       "      outputDiv.innerHTML = `<div class=\"error\" style=\"color:red;\">${err}</div>`;\n",
       "      throw err;\n",
       "    }\n",
       "\n",
       "    function displayChart(vegaEmbed) {\n",
       "      vegaEmbed(outputDiv, spec, embedOpt)\n",
       "        .catch(err => showError(`Javascript Error: ${err.message}<br>This usually means there's a typo in your chart specification. See the javascript console for the full traceback.`));\n",
       "    }\n",
       "\n",
       "    if(typeof define === \"function\" && define.amd) {\n",
       "      requirejs.config({paths});\n",
       "      require([\"vega-embed\"], displayChart, err => showError(`Error loading script: ${err.message}`));\n",
       "    } else if (typeof vegaEmbed === \"function\") {\n",
       "      displayChart(vegaEmbed);\n",
       "    } else {\n",
       "      loadScript(\"vega\")\n",
       "        .then(() => loadScript(\"vega-lite\"))\n",
       "        .then(() => loadScript(\"vega-embed\"))\n",
       "        .catch(showError)\n",
       "        .then(() => displayChart(vegaEmbed));\n",
       "    }\n",
       "  })({\"config\": {\"view\": {\"continuousWidth\": 400, \"continuousHeight\": 300}}, \"layer\": [{\"mark\": {\"type\": \"area\", \"color\": \"#57A44C\", \"opacity\": 0.3}, \"encoding\": {\"x\": {\"type\": \"temporal\", \"axis\": {\"title\": null}, \"field\": \"date\", \"timeUnit\": \"month\"}, \"y\": {\"type\": \"quantitative\", \"aggregate\": \"average\", \"axis\": {\"title\": \"Avg. Temperature (\\u00b0C)\", \"titleColor\": \"#57A44C\"}, \"field\": \"temp_max\"}, \"y2\": {\"aggregate\": \"average\", \"field\": \"temp_min\"}}}, {\"mark\": {\"type\": \"line\", \"interpolate\": \"monotone\", \"stroke\": \"#5276A7\"}, \"encoding\": {\"x\": {\"type\": \"temporal\", \"axis\": {\"title\": null}, \"field\": \"date\", \"timeUnit\": \"month\"}, \"y\": {\"type\": \"quantitative\", \"aggregate\": \"average\", \"axis\": {\"title\": \"Precipitation (inches)\", \"titleColor\": \"#5276A7\"}, \"field\": \"precipitation\"}}}], \"data\": {\"name\": \"data-830c39fec90146253fb06a06c26374ef\"}, \"resolve\": {\"scale\": {\"y\": \"independent\"}}, \"$schema\": \"https://vega.github.io/schema/vega-lite/v4.8.1.json\", \"datasets\": {\"data-830c39fec90146253fb06a06c26374ef\": [{\"date\": \"2012-01-01T00:00:00\", \"precipitation\": 0.0, \"temp_max\": 12.8, \"temp_min\": 5.0, \"wind\": 4.7, \"weather\": \"drizzle\"}, {\"date\": \"2012-01-02T00:00:00\", \"precipitation\": 10.9, \"temp_max\": 10.6, \"temp_min\": 2.8, \"wind\": 4.5, \"weather\": \"rain\"}, {\"date\": \"2012-01-03T00:00:00\", \"precipitation\": 0.8, \"temp_max\": 11.7, \"temp_min\": 7.2, \"wind\": 2.3, \"weather\": \"rain\"}, {\"date\": \"2012-01-04T00:00:00\", \"precipitation\": 20.3, \"temp_max\": 12.2, \"temp_min\": 5.6, \"wind\": 4.7, \"weather\": \"rain\"}, {\"date\": \"2012-01-05T00:00:00\", \"precipitation\": 1.3, \"temp_max\": 8.9, \"temp_min\": 2.8, \"wind\": 6.1, \"weather\": \"rain\"}, {\"date\": \"2012-01-06T00:00:00\", \"precipitation\": 2.5, \"temp_max\": 4.4, \"temp_min\": 2.2, \"wind\": 2.2, \"weather\": \"rain\"}, {\"date\": \"2012-01-07T00:00:00\", \"precipitation\": 0.0, \"temp_max\": 7.2, \"temp_min\": 2.8, \"wind\": 2.3, \"weather\": \"rain\"}, {\"date\": \"2012-01-08T00:00:00\", \"precipitation\": 0.0, \"temp_max\": 10.0, \"temp_min\": 2.8, \"wind\": 2.0, \"weather\": \"sun\"}, {\"date\": \"2012-01-09T00:00:00\", \"precipitation\": 4.3, \"temp_max\": 9.4, \"temp_min\": 5.0, \"wind\": 3.4, \"weather\": \"rain\"}, {\"date\": \"2012-01-10T00:00:00\", \"precipitation\": 1.0, \"temp_max\": 6.1, \"temp_min\": 0.6, \"wind\": 3.4, \"weather\": \"rain\"}, {\"date\": \"2012-01-11T00:00:00\", \"precipitation\": 0.0, \"temp_max\": 6.1, \"temp_min\": -1.1, \"wind\": 5.1, \"weather\": \"sun\"}, {\"date\": \"2012-01-12T00:00:00\", \"precipitation\": 0.0, \"temp_max\": 6.1, \"temp_min\": -1.7, \"wind\": 1.9, \"weather\": \"sun\"}, {\"date\": \"2012-01-13T00:00:00\", \"precipitation\": 0.0, \"temp_max\": 5.0, \"temp_min\": -2.8, \"wind\": 1.3, \"weather\": \"sun\"}, {\"date\": \"2012-01-14T00:00:00\", \"precipitation\": 4.1, \"temp_max\": 4.4, \"temp_min\": 0.6, \"wind\": 5.3, \"weather\": \"snow\"}, {\"date\": \"2012-01-15T00:00:00\", \"precipitation\": 5.3, \"temp_max\": 1.1, \"temp_min\": -3.3, \"wind\": 3.2, \"weather\": \"snow\"}, {\"date\": \"2012-01-16T00:00:00\", \"precipitation\": 2.5, \"temp_max\": 1.7, \"temp_min\": -2.8, \"wind\": 5.0, \"weather\": \"snow\"}, {\"date\": \"2012-01-17T00:00:00\", \"precipitation\": 8.1, \"temp_max\": 3.3, \"temp_min\": 0.0, \"wind\": 5.6, \"weather\": \"snow\"}, {\"date\": \"2012-01-18T00:00:00\", \"precipitation\": 19.8, \"temp_max\": 0.0, \"temp_min\": -2.8, \"wind\": 5.0, \"weather\": \"snow\"}, {\"date\": \"2012-01-19T00:00:00\", \"precipitation\": 15.2, \"temp_max\": -1.1, \"temp_min\": -2.8, \"wind\": 1.6, \"weather\": \"snow\"}, {\"date\": \"2012-01-20T00:00:00\", \"precipitation\": 13.5, \"temp_max\": 7.2, \"temp_min\": -1.1, \"wind\": 2.3, \"weather\": \"snow\"}, {\"date\": \"2012-01-21T00:00:00\", \"precipitation\": 3.0, \"temp_max\": 8.3, \"temp_min\": 3.3, \"wind\": 8.2, \"weather\": \"rain\"}, {\"date\": \"2012-01-22T00:00:00\", \"precipitation\": 6.1, \"temp_max\": 6.7, \"temp_min\": 2.2, \"wind\": 4.8, \"weather\": \"rain\"}, {\"date\": \"2012-01-23T00:00:00\", \"precipitation\": 0.0, \"temp_max\": 8.3, \"temp_min\": 1.1, \"wind\": 3.6, \"weather\": \"rain\"}, {\"date\": \"2012-01-24T00:00:00\", \"precipitation\": 8.6, \"temp_max\": 10.0, \"temp_min\": 2.2, \"wind\": 5.1, \"weather\": \"rain\"}, {\"date\": \"2012-01-25T00:00:00\", \"precipitation\": 8.1, \"temp_max\": 8.9, \"temp_min\": 4.4, \"wind\": 5.4, \"weather\": \"rain\"}, {\"date\": \"2012-01-26T00:00:00\", \"precipitation\": 4.8, \"temp_max\": 8.9, \"temp_min\": 1.1, \"wind\": 4.8, \"weather\": \"rain\"}, {\"date\": \"2012-01-27T00:00:00\", \"precipitation\": 0.0, \"temp_max\": 6.7, \"temp_min\": -2.2, \"wind\": 1.4, \"weather\": \"drizzle\"}, {\"date\": \"2012-01-28T00:00:00\", \"precipitation\": 0.0, \"temp_max\": 6.7, \"temp_min\": 0.6, \"wind\": 2.2, \"weather\": \"rain\"}, {\"date\": \"2012-01-29T00:00:00\", \"precipitation\": 27.7, \"temp_max\": 9.4, \"temp_min\": 3.9, \"wind\": 4.5, \"weather\": \"rain\"}, {\"date\": \"2012-01-30T00:00:00\", \"precipitation\": 3.6, \"temp_max\": 8.3, \"temp_min\": 6.1, \"wind\": 5.1, \"weather\": \"rain\"}, {\"date\": \"2012-01-31T00:00:00\", \"precipitation\": 1.8, \"temp_max\": 9.4, \"temp_min\": 6.1, \"wind\": 3.9, \"weather\": \"rain\"}, {\"date\": \"2012-02-01T00:00:00\", \"precipitation\": 13.5, \"temp_max\": 8.9, \"temp_min\": 3.3, \"wind\": 2.7, \"weather\": \"rain\"}, {\"date\": \"2012-02-02T00:00:00\", \"precipitation\": 0.0, \"temp_max\": 8.3, \"temp_min\": 1.7, \"wind\": 2.6, \"weather\": \"sun\"}, {\"date\": \"2012-02-03T00:00:00\", \"precipitation\": 0.0, \"temp_max\": 14.4, \"temp_min\": 2.2, \"wind\": 5.3, \"weather\": \"sun\"}, {\"date\": \"2012-02-04T00:00:00\", \"precipitation\": 0.0, \"temp_max\": 15.6, \"temp_min\": 5.0, \"wind\": 4.3, \"weather\": \"sun\"}, {\"date\": \"2012-02-05T00:00:00\", \"precipitation\": 0.0, \"temp_max\": 13.9, \"temp_min\": 1.7, \"wind\": 2.9, \"weather\": \"sun\"}, {\"date\": \"2012-02-06T00:00:00\", \"precipitation\": 0.0, \"temp_max\": 16.1, \"temp_min\": 1.7, \"wind\": 5.0, \"weather\": \"sun\"}, {\"date\": \"2012-02-07T00:00:00\", \"precipitation\": 0.3, \"temp_max\": 15.6, \"temp_min\": 7.8, \"wind\": 5.3, \"weather\": \"rain\"}, {\"date\": \"2012-02-08T00:00:00\", \"precipitation\": 2.8, \"temp_max\": 10.0, \"temp_min\": 5.0, \"wind\": 2.7, \"weather\": \"rain\"}, {\"date\": \"2012-02-09T00:00:00\", \"precipitation\": 2.5, \"temp_max\": 11.1, \"temp_min\": 7.8, \"wind\": 2.4, \"weather\": \"rain\"}, {\"date\": \"2012-02-10T00:00:00\", \"precipitation\": 2.5, \"temp_max\": 12.8, \"temp_min\": 6.7, \"wind\": 3.0, \"weather\": \"rain\"}, {\"date\": \"2012-02-11T00:00:00\", \"precipitation\": 0.8, \"temp_max\": 8.9, \"temp_min\": 5.6, \"wind\": 3.4, \"weather\": \"rain\"}, {\"date\": \"2012-02-12T00:00:00\", \"precipitation\": 1.0, \"temp_max\": 8.3, \"temp_min\": 5.0, \"wind\": 1.3, \"weather\": \"rain\"}, {\"date\": \"2012-02-13T00:00:00\", \"precipitation\": 11.4, \"temp_max\": 7.2, \"temp_min\": 4.4, \"wind\": 1.4, \"weather\": \"rain\"}, {\"date\": \"2012-02-14T00:00:00\", \"precipitation\": 2.5, \"temp_max\": 6.7, \"temp_min\": 1.1, \"wind\": 3.1, \"weather\": \"rain\"}, {\"date\": \"2012-02-15T00:00:00\", \"precipitation\": 0.0, \"temp_max\": 7.2, \"temp_min\": 0.6, \"wind\": 1.8, \"weather\": \"drizzle\"}, {\"date\": \"2012-02-16T00:00:00\", \"precipitation\": 1.8, \"temp_max\": 7.2, \"temp_min\": 3.3, \"wind\": 2.1, \"weather\": \"rain\"}, {\"date\": \"2012-02-17T00:00:00\", \"precipitation\": 17.3, \"temp_max\": 10.0, \"temp_min\": 4.4, \"wind\": 3.4, \"weather\": \"rain\"}, {\"date\": \"2012-02-18T00:00:00\", \"precipitation\": 6.4, \"temp_max\": 6.7, \"temp_min\": 3.9, \"wind\": 8.1, \"weather\": \"rain\"}, {\"date\": \"2012-02-19T00:00:00\", \"precipitation\": 0.0, \"temp_max\": 6.7, \"temp_min\": 2.2, \"wind\": 4.7, \"weather\": \"sun\"}, {\"date\": \"2012-02-20T00:00:00\", \"precipitation\": 3.0, \"temp_max\": 7.8, \"temp_min\": 1.7, \"wind\": 2.9, \"weather\": \"rain\"}, {\"date\": \"2012-02-21T00:00:00\", \"precipitation\": 0.8, \"temp_max\": 10.0, \"temp_min\": 7.8, \"wind\": 7.5, \"weather\": \"rain\"}, {\"date\": \"2012-02-22T00:00:00\", \"precipitation\": 8.6, \"temp_max\": 10.0, \"temp_min\": 2.8, \"wind\": 5.9, \"weather\": \"rain\"}, {\"date\": \"2012-02-23T00:00:00\", \"precipitation\": 0.0, \"temp_max\": 8.3, \"temp_min\": 2.8, \"wind\": 3.9, \"weather\": \"sun\"}, {\"date\": \"2012-02-24T00:00:00\", \"precipitation\": 11.4, \"temp_max\": 6.7, \"temp_min\": 4.4, \"wind\": 3.5, \"weather\": \"rain\"}, {\"date\": \"2012-02-25T00:00:00\", \"precipitation\": 0.0, \"temp_max\": 7.2, \"temp_min\": 2.8, \"wind\": 6.4, \"weather\": \"rain\"}, {\"date\": \"2012-02-26T00:00:00\", \"precipitation\": 1.3, \"temp_max\": 5.0, \"temp_min\": -1.1, \"wind\": 3.4, \"weather\": \"snow\"}, {\"date\": \"2012-02-27T00:00:00\", \"precipitation\": 0.0, \"temp_max\": 6.7, \"temp_min\": -2.2, \"wind\": 3.0, \"weather\": \"sun\"}, {\"date\": \"2012-02-28T00:00:00\", \"precipitation\": 3.6, \"temp_max\": 6.7, \"temp_min\": -0.6, \"wind\": 4.2, \"weather\": \"snow\"}, {\"date\": \"2012-02-29T00:00:00\", \"precipitation\": 0.8, \"temp_max\": 5.0, \"temp_min\": 1.1, \"wind\": 7.0, \"weather\": \"snow\"}, {\"date\": \"2012-03-01T00:00:00\", \"precipitation\": 0.0, \"temp_max\": 6.1, \"temp_min\": 1.1, \"wind\": 3.1, \"weather\": \"sun\"}, {\"date\": \"2012-03-02T00:00:00\", \"precipitation\": 2.0, \"temp_max\": 6.7, \"temp_min\": 3.9, \"wind\": 5.1, \"weather\": \"rain\"}, {\"date\": \"2012-03-03T00:00:00\", \"precipitation\": 0.0, \"temp_max\": 12.2, \"temp_min\": 6.7, \"wind\": 7.0, \"weather\": \"sun\"}, {\"date\": \"2012-03-04T00:00:00\", \"precipitation\": 0.0, \"temp_max\": 10.6, \"temp_min\": 6.7, \"wind\": 5.6, \"weather\": \"rain\"}, {\"date\": \"2012-03-05T00:00:00\", \"precipitation\": 6.9, \"temp_max\": 7.8, \"temp_min\": 1.1, \"wind\": 6.2, \"weather\": \"rain\"}, {\"date\": \"2012-03-06T00:00:00\", \"precipitation\": 0.5, \"temp_max\": 6.7, \"temp_min\": 0.0, \"wind\": 2.7, \"weather\": \"snow\"}, {\"date\": \"2012-03-07T00:00:00\", \"precipitation\": 0.0, \"temp_max\": 8.9, \"temp_min\": -1.7, \"wind\": 2.7, \"weather\": \"sun\"}, {\"date\": \"2012-03-08T00:00:00\", \"precipitation\": 0.0, \"temp_max\": 15.6, \"temp_min\": 0.6, \"wind\": 2.5, \"weather\": \"sun\"}, {\"date\": \"2012-03-09T00:00:00\", \"precipitation\": 3.6, \"temp_max\": 9.4, \"temp_min\": 5.0, \"wind\": 2.8, \"weather\": \"rain\"}, {\"date\": \"2012-03-10T00:00:00\", \"precipitation\": 10.4, \"temp_max\": 7.2, \"temp_min\": 6.1, \"wind\": 3.4, \"weather\": \"rain\"}, {\"date\": \"2012-03-11T00:00:00\", \"precipitation\": 13.7, \"temp_max\": 6.7, \"temp_min\": 2.8, \"wind\": 5.8, \"weather\": \"rain\"}, {\"date\": \"2012-03-12T00:00:00\", \"precipitation\": 19.3, \"temp_max\": 8.3, \"temp_min\": 0.6, \"wind\": 6.2, \"weather\": \"snow\"}, {\"date\": \"2012-03-13T00:00:00\", \"precipitation\": 9.4, \"temp_max\": 5.6, \"temp_min\": 0.6, \"wind\": 5.3, \"weather\": \"snow\"}, {\"date\": \"2012-03-14T00:00:00\", \"precipitation\": 8.6, \"temp_max\": 7.8, \"temp_min\": 1.1, \"wind\": 4.7, \"weather\": \"rain\"}, {\"date\": \"2012-03-15T00:00:00\", \"precipitation\": 23.9, \"temp_max\": 11.1, \"temp_min\": 5.6, \"wind\": 5.8, \"weather\": \"snow\"}, {\"date\": \"2012-03-16T00:00:00\", \"precipitation\": 8.4, \"temp_max\": 8.9, \"temp_min\": 3.9, \"wind\": 5.1, \"weather\": \"rain\"}, {\"date\": \"2012-03-17T00:00:00\", \"precipitation\": 9.4, \"temp_max\": 10.0, \"temp_min\": 0.6, \"wind\": 3.8, \"weather\": \"snow\"}, {\"date\": \"2012-03-18T00:00:00\", \"precipitation\": 3.6, \"temp_max\": 5.0, \"temp_min\": -0.6, \"wind\": 2.7, \"weather\": \"rain\"}, {\"date\": \"2012-03-19T00:00:00\", \"precipitation\": 2.0, \"temp_max\": 7.2, \"temp_min\": -1.1, \"wind\": 3.0, \"weather\": \"rain\"}, {\"date\": \"2012-03-20T00:00:00\", \"precipitation\": 3.6, \"temp_max\": 7.8, \"temp_min\": 2.2, \"wind\": 6.4, \"weather\": \"rain\"}, {\"date\": \"2012-03-21T00:00:00\", \"precipitation\": 1.3, \"temp_max\": 8.9, \"temp_min\": 1.1, \"wind\": 2.5, \"weather\": \"rain\"}, {\"date\": \"2012-03-22T00:00:00\", \"precipitation\": 4.1, \"temp_max\": 10.0, \"temp_min\": 1.7, \"wind\": 2.1, \"weather\": \"rain\"}, {\"date\": \"2012-03-23T00:00:00\", \"precipitation\": 0.0, \"temp_max\": 12.2, \"temp_min\": 0.6, \"wind\": 2.8, \"weather\": \"sun\"}, {\"date\": \"2012-03-24T00:00:00\", \"precipitation\": 0.0, \"temp_max\": 15.0, \"temp_min\": 3.3, \"wind\": 5.2, \"weather\": \"sun\"}, {\"date\": \"2012-03-25T00:00:00\", \"precipitation\": 0.0, \"temp_max\": 13.3, \"temp_min\": 2.2, \"wind\": 2.7, \"weather\": \"rain\"}, {\"date\": \"2012-03-26T00:00:00\", \"precipitation\": 0.0, \"temp_max\": 12.8, \"temp_min\": 6.1, \"wind\": 4.3, \"weather\": \"drizzle\"}, {\"date\": \"2012-03-27T00:00:00\", \"precipitation\": 4.8, \"temp_max\": 14.4, \"temp_min\": 6.7, \"wind\": 3.8, \"weather\": \"rain\"}, {\"date\": \"2012-03-28T00:00:00\", \"precipitation\": 1.3, \"temp_max\": 10.6, \"temp_min\": 7.2, \"wind\": 5.9, \"weather\": \"rain\"}, {\"date\": \"2012-03-29T00:00:00\", \"precipitation\": 27.4, \"temp_max\": 10.0, \"temp_min\": 6.1, \"wind\": 4.4, \"weather\": \"rain\"}, {\"date\": \"2012-03-30T00:00:00\", \"precipitation\": 5.6, \"temp_max\": 9.4, \"temp_min\": 5.0, \"wind\": 4.7, \"weather\": \"rain\"}, {\"date\": \"2012-03-31T00:00:00\", \"precipitation\": 13.2, \"temp_max\": 10.0, \"temp_min\": 2.8, \"wind\": 3.4, \"weather\": \"rain\"}, {\"date\": \"2012-04-01T00:00:00\", \"precipitation\": 1.5, \"temp_max\": 8.9, \"temp_min\": 4.4, \"wind\": 6.8, \"weather\": \"rain\"}, {\"date\": \"2012-04-02T00:00:00\", \"precipitation\": 0.0, \"temp_max\": 16.7, \"temp_min\": 4.4, \"wind\": 3.1, \"weather\": \"sun\"}, {\"date\": \"2012-04-03T00:00:00\", \"precipitation\": 1.5, \"temp_max\": 11.7, \"temp_min\": 3.3, \"wind\": 3.1, \"weather\": \"rain\"}, {\"date\": \"2012-04-04T00:00:00\", \"precipitation\": 0.0, \"temp_max\": 10.6, \"temp_min\": 2.8, \"wind\": 2.1, \"weather\": \"sun\"}, {\"date\": \"2012-04-05T00:00:00\", \"precipitation\": 4.6, \"temp_max\": 9.4, \"temp_min\": 2.8, \"wind\": 1.8, \"weather\": \"snow\"}, {\"date\": \"2012-04-06T00:00:00\", \"precipitation\": 0.3, \"temp_max\": 11.1, \"temp_min\": 3.3, \"wind\": 2.6, \"weather\": \"rain\"}, {\"date\": \"2012-04-07T00:00:00\", \"precipitation\": 0.0, \"temp_max\": 16.1, \"temp_min\": 1.7, \"wind\": 4.3, \"weather\": \"sun\"}, {\"date\": \"2012-04-08T00:00:00\", \"precipitation\": 0.0, \"temp_max\": 21.1, \"temp_min\": 7.2, \"wind\": 4.1, \"weather\": \"sun\"}, {\"date\": \"2012-04-09T00:00:00\", \"precipitation\": 0.0, \"temp_max\": 20.0, \"temp_min\": 6.1, \"wind\": 2.1, \"weather\": \"sun\"}, {\"date\": \"2012-04-10T00:00:00\", \"precipitation\": 0.0, \"temp_max\": 17.8, \"temp_min\": 8.9, \"wind\": 3.2, \"weather\": \"rain\"}, {\"date\": \"2012-04-11T00:00:00\", \"precipitation\": 2.3, \"temp_max\": 11.1, \"temp_min\": 7.2, \"wind\": 2.6, \"weather\": \"rain\"}, {\"date\": \"2012-04-12T00:00:00\", \"precipitation\": 0.5, \"temp_max\": 13.9, \"temp_min\": 5.6, \"wind\": 2.6, \"weather\": \"rain\"}, {\"date\": \"2012-04-13T00:00:00\", \"precipitation\": 0.0, \"temp_max\": 15.0, \"temp_min\": 3.9, \"wind\": 4.0, \"weather\": \"drizzle\"}, {\"date\": \"2012-04-14T00:00:00\", \"precipitation\": 0.0, \"temp_max\": 15.6, \"temp_min\": 3.3, \"wind\": 3.0, \"weather\": \"sun\"}, {\"date\": \"2012-04-15T00:00:00\", \"precipitation\": 0.0, \"temp_max\": 16.1, \"temp_min\": 7.2, \"wind\": 2.9, \"weather\": \"rain\"}, {\"date\": \"2012-04-16T00:00:00\", \"precipitation\": 8.1, \"temp_max\": 13.3, \"temp_min\": 6.7, \"wind\": 5.8, \"weather\": \"rain\"}, {\"date\": \"2012-04-17T00:00:00\", \"precipitation\": 1.8, \"temp_max\": 10.0, \"temp_min\": 4.4, \"wind\": 2.0, \"weather\": \"rain\"}, {\"date\": \"2012-04-18T00:00:00\", \"precipitation\": 1.8, \"temp_max\": 13.3, \"temp_min\": 7.2, \"wind\": 3.9, \"weather\": \"rain\"}, {\"date\": \"2012-04-19T00:00:00\", \"precipitation\": 10.9, \"temp_max\": 13.9, \"temp_min\": 5.0, \"wind\": 2.6, \"weather\": \"rain\"}, {\"date\": \"2012-04-20T00:00:00\", \"precipitation\": 6.6, \"temp_max\": 13.3, \"temp_min\": 6.7, \"wind\": 2.7, \"weather\": \"rain\"}, {\"date\": \"2012-04-21T00:00:00\", \"precipitation\": 0.0, \"temp_max\": 20.0, \"temp_min\": 4.4, \"wind\": 2.3, \"weather\": \"sun\"}, {\"date\": \"2012-04-22T00:00:00\", \"precipitation\": 0.0, \"temp_max\": 23.3, \"temp_min\": 8.3, \"wind\": 2.6, \"weather\": \"rain\"}, {\"date\": \"2012-04-23T00:00:00\", \"precipitation\": 0.0, \"temp_max\": 21.7, \"temp_min\": 8.9, \"wind\": 3.5, \"weather\": \"sun\"}, {\"date\": \"2012-04-24T00:00:00\", \"precipitation\": 4.3, \"temp_max\": 13.9, \"temp_min\": 10.0, \"wind\": 2.8, \"weather\": \"rain\"}, {\"date\": \"2012-04-25T00:00:00\", \"precipitation\": 10.7, \"temp_max\": 16.7, \"temp_min\": 8.9, \"wind\": 2.6, \"weather\": \"rain\"}, {\"date\": \"2012-04-26T00:00:00\", \"precipitation\": 3.8, \"temp_max\": 13.9, \"temp_min\": 6.7, \"wind\": 5.2, \"weather\": \"rain\"}, {\"date\": \"2012-04-27T00:00:00\", \"precipitation\": 0.8, \"temp_max\": 13.3, \"temp_min\": 6.1, \"wind\": 4.8, \"weather\": \"rain\"}, {\"date\": \"2012-04-28T00:00:00\", \"precipitation\": 0.0, \"temp_max\": 16.1, \"temp_min\": 8.3, \"wind\": 2.5, \"weather\": \"drizzle\"}, {\"date\": \"2012-04-29T00:00:00\", \"precipitation\": 4.3, \"temp_max\": 15.6, \"temp_min\": 8.9, \"wind\": 1.6, \"weather\": \"rain\"}, {\"date\": \"2012-04-30T00:00:00\", \"precipitation\": 4.3, \"temp_max\": 12.8, \"temp_min\": 7.2, \"wind\": 8.0, \"weather\": \"rain\"}, {\"date\": \"2012-05-01T00:00:00\", \"precipitation\": 0.5, \"temp_max\": 11.7, \"temp_min\": 6.1, \"wind\": 6.4, \"weather\": \"rain\"}, {\"date\": \"2012-05-02T00:00:00\", \"precipitation\": 0.5, \"temp_max\": 13.3, \"temp_min\": 5.6, \"wind\": 2.5, \"weather\": \"rain\"}, {\"date\": \"2012-05-03T00:00:00\", \"precipitation\": 18.5, \"temp_max\": 11.1, \"temp_min\": 7.2, \"wind\": 3.4, \"weather\": \"rain\"}, {\"date\": \"2012-05-04T00:00:00\", \"precipitation\": 1.8, \"temp_max\": 12.2, \"temp_min\": 6.1, \"wind\": 4.6, \"weather\": \"rain\"}, {\"date\": \"2012-05-05T00:00:00\", \"precipitation\": 0.0, \"temp_max\": 13.3, \"temp_min\": 5.0, \"wind\": 2.3, \"weather\": \"sun\"}, {\"date\": \"2012-05-06T00:00:00\", \"precipitation\": 0.0, \"temp_max\": 17.8, \"temp_min\": 5.0, \"wind\": 2.4, \"weather\": \"sun\"}, {\"date\": \"2012-05-07T00:00:00\", \"precipitation\": 0.0, \"temp_max\": 23.9, \"temp_min\": 6.1, \"wind\": 2.2, \"weather\": \"sun\"}, {\"date\": \"2012-05-08T00:00:00\", \"precipitation\": 0.0, \"temp_max\": 18.3, \"temp_min\": 9.4, \"wind\": 3.0, \"weather\": \"sun\"}, {\"date\": \"2012-05-09T00:00:00\", \"precipitation\": 0.0, \"temp_max\": 13.3, \"temp_min\": 6.7, \"wind\": 3.9, \"weather\": \"rain\"}, {\"date\": \"2012-05-10T00:00:00\", \"precipitation\": 0.0, \"temp_max\": 14.4, \"temp_min\": 3.9, \"wind\": 3.0, \"weather\": \"sun\"}, {\"date\": \"2012-05-11T00:00:00\", \"precipitation\": 0.0, \"temp_max\": 18.3, \"temp_min\": 4.4, \"wind\": 4.3, \"weather\": \"sun\"}, {\"date\": \"2012-05-12T00:00:00\", \"precipitation\": 0.0, \"temp_max\": 24.4, \"temp_min\": 6.7, \"wind\": 3.4, \"weather\": \"sun\"}, {\"date\": \"2012-05-13T00:00:00\", \"precipitation\": 0.0, \"temp_max\": 25.6, \"temp_min\": 9.4, \"wind\": 4.2, \"weather\": \"sun\"}, {\"date\": \"2012-05-14T00:00:00\", \"precipitation\": 0.0, \"temp_max\": 26.7, \"temp_min\": 12.8, \"wind\": 3.8, \"weather\": \"sun\"}, {\"date\": \"2012-05-15T00:00:00\", \"precipitation\": 0.0, \"temp_max\": 24.4, \"temp_min\": 9.4, \"wind\": 4.1, \"weather\": \"drizzle\"}, {\"date\": \"2012-05-16T00:00:00\", \"precipitation\": 0.0, \"temp_max\": 19.4, \"temp_min\": 9.4, \"wind\": 3.5, \"weather\": \"sun\"}, {\"date\": \"2012-05-17T00:00:00\", \"precipitation\": 0.0, \"temp_max\": 17.8, \"temp_min\": 6.7, \"wind\": 2.9, \"weather\": \"rain\"}, {\"date\": \"2012-05-18T00:00:00\", \"precipitation\": 0.0, \"temp_max\": 15.6, \"temp_min\": 7.8, \"wind\": 3.1, \"weather\": \"rain\"}, {\"date\": \"2012-05-19T00:00:00\", \"precipitation\": 0.0, \"temp_max\": 19.4, \"temp_min\": 7.2, \"wind\": 1.5, \"weather\": \"sun\"}, {\"date\": \"2012-05-20T00:00:00\", \"precipitation\": 6.4, \"temp_max\": 14.4, \"temp_min\": 11.7, \"wind\": 1.3, \"weather\": \"rain\"}, {\"date\": \"2012-05-21T00:00:00\", \"precipitation\": 14.0, \"temp_max\": 16.7, \"temp_min\": 10.0, \"wind\": 4.0, \"weather\": \"rain\"}, {\"date\": \"2012-05-22T00:00:00\", \"precipitation\": 6.1, \"temp_max\": 12.8, \"temp_min\": 8.9, \"wind\": 4.8, \"weather\": \"rain\"}, {\"date\": \"2012-05-23T00:00:00\", \"precipitation\": 0.3, \"temp_max\": 14.4, \"temp_min\": 8.9, \"wind\": 6.3, \"weather\": \"rain\"}, {\"date\": \"2012-05-24T00:00:00\", \"precipitation\": 0.0, \"temp_max\": 17.2, \"temp_min\": 8.9, \"wind\": 3.3, \"weather\": \"rain\"}, {\"date\": \"2012-05-25T00:00:00\", \"precipitation\": 0.0, \"temp_max\": 22.2, \"temp_min\": 8.9, \"wind\": 3.1, \"weather\": \"rain\"}, {\"date\": \"2012-05-26T00:00:00\", \"precipitation\": 0.0, \"temp_max\": 22.2, \"temp_min\": 8.9, \"wind\": 3.6, \"weather\": \"sun\"}, {\"date\": \"2012-05-27T00:00:00\", \"precipitation\": 0.0, \"temp_max\": 17.2, \"temp_min\": 11.7, \"wind\": 3.7, \"weather\": \"sun\"}, {\"date\": \"2012-05-28T00:00:00\", \"precipitation\": 0.0, \"temp_max\": 16.7, \"temp_min\": 10.0, \"wind\": 3.4, \"weather\": \"rain\"}, {\"date\": \"2012-05-29T00:00:00\", \"precipitation\": 0.0, \"temp_max\": 16.1, \"temp_min\": 7.8, \"wind\": 1.8, \"weather\": \"sun\"}, {\"date\": \"2012-05-30T00:00:00\", \"precipitation\": 0.3, \"temp_max\": 18.9, \"temp_min\": 11.1, \"wind\": 1.5, \"weather\": \"rain\"}, {\"date\": \"2012-05-31T00:00:00\", \"precipitation\": 3.8, \"temp_max\": 17.8, \"temp_min\": 12.2, \"wind\": 2.7, \"weather\": \"rain\"}, {\"date\": \"2012-06-01T00:00:00\", \"precipitation\": 6.6, \"temp_max\": 20.0, \"temp_min\": 12.8, \"wind\": 3.7, \"weather\": \"rain\"}, {\"date\": \"2012-06-02T00:00:00\", \"precipitation\": 0.3, \"temp_max\": 18.9, \"temp_min\": 10.6, \"wind\": 3.7, \"weather\": \"rain\"}, {\"date\": \"2012-06-03T00:00:00\", \"precipitation\": 0.0, \"temp_max\": 17.2, \"temp_min\": 9.4, \"wind\": 2.9, \"weather\": \"sun\"}, {\"date\": \"2012-06-04T00:00:00\", \"precipitation\": 1.3, \"temp_max\": 12.8, \"temp_min\": 8.9, \"wind\": 3.1, \"weather\": \"rain\"}, {\"date\": \"2012-06-05T00:00:00\", \"precipitation\": 16.0, \"temp_max\": 13.3, \"temp_min\": 8.3, \"wind\": 3.3, \"weather\": \"rain\"}, {\"date\": \"2012-06-06T00:00:00\", \"precipitation\": 0.0, \"temp_max\": 16.1, \"temp_min\": 6.1, \"wind\": 3.4, \"weather\": \"sun\"}, {\"date\": \"2012-06-07T00:00:00\", \"precipitation\": 16.5, \"temp_max\": 16.1, \"temp_min\": 8.9, \"wind\": 3.5, \"weather\": \"rain\"}, {\"date\": \"2012-06-08T00:00:00\", \"precipitation\": 1.5, \"temp_max\": 15.0, \"temp_min\": 8.3, \"wind\": 3.0, \"weather\": \"rain\"}, {\"date\": \"2012-06-09T00:00:00\", \"precipitation\": 0.0, \"temp_max\": 17.2, \"temp_min\": 8.3, \"wind\": 4.7, \"weather\": \"rain\"}, {\"date\": \"2012-06-10T00:00:00\", \"precipitation\": 0.0, \"temp_max\": 18.9, \"temp_min\": 10.0, \"wind\": 2.9, \"weather\": \"sun\"}, {\"date\": \"2012-06-11T00:00:00\", \"precipitation\": 0.0, \"temp_max\": 23.3, \"temp_min\": 10.0, \"wind\": 1.8, \"weather\": \"rain\"}, {\"date\": \"2012-06-12T00:00:00\", \"precipitation\": 0.8, \"temp_max\": 18.3, \"temp_min\": 12.8, \"wind\": 3.9, \"weather\": \"rain\"}, {\"date\": \"2012-06-13T00:00:00\", \"precipitation\": 0.0, \"temp_max\": 16.1, \"temp_min\": 11.1, \"wind\": 4.3, \"weather\": \"sun\"}, {\"date\": \"2012-06-14T00:00:00\", \"precipitation\": 0.0, \"temp_max\": 17.2, \"temp_min\": 10.0, \"wind\": 2.7, \"weather\": \"sun\"}, {\"date\": \"2012-06-15T00:00:00\", \"precipitation\": 0.0, \"temp_max\": 22.2, \"temp_min\": 9.4, \"wind\": 1.7, \"weather\": \"sun\"}, {\"date\": \"2012-06-16T00:00:00\", \"precipitation\": 0.0, \"temp_max\": 21.1, \"temp_min\": 15.0, \"wind\": 4.1, \"weather\": \"rain\"}, {\"date\": \"2012-06-17T00:00:00\", \"precipitation\": 0.0, \"temp_max\": 18.9, \"temp_min\": 11.7, \"wind\": 6.4, \"weather\": \"sun\"}, {\"date\": \"2012-06-18T00:00:00\", \"precipitation\": 3.0, \"temp_max\": 17.2, \"temp_min\": 10.0, \"wind\": 3.8, \"weather\": \"rain\"}, {\"date\": \"2012-06-19T00:00:00\", \"precipitation\": 1.0, \"temp_max\": 19.4, \"temp_min\": 10.0, \"wind\": 3.0, \"weather\": \"rain\"}, {\"date\": \"2012-06-20T00:00:00\", \"precipitation\": 0.0, \"temp_max\": 24.4, \"temp_min\": 10.0, \"wind\": 3.0, \"weather\": \"sun\"}, {\"date\": \"2012-06-21T00:00:00\", \"precipitation\": 0.0, \"temp_max\": 23.9, \"temp_min\": 11.7, \"wind\": 2.1, \"weather\": \"sun\"}, {\"date\": \"2012-06-22T00:00:00\", \"precipitation\": 15.7, \"temp_max\": 13.9, \"temp_min\": 11.7, \"wind\": 1.9, \"weather\": \"rain\"}, {\"date\": \"2012-06-23T00:00:00\", \"precipitation\": 8.6, \"temp_max\": 15.6, \"temp_min\": 9.4, \"wind\": 2.5, \"weather\": \"rain\"}, {\"date\": \"2012-06-24T00:00:00\", \"precipitation\": 0.0, \"temp_max\": 19.4, \"temp_min\": 9.4, \"wind\": 2.0, \"weather\": \"drizzle\"}, {\"date\": \"2012-06-25T00:00:00\", \"precipitation\": 0.5, \"temp_max\": 19.4, \"temp_min\": 11.1, \"wind\": 3.1, \"weather\": \"rain\"}, {\"date\": \"2012-06-26T00:00:00\", \"precipitation\": 0.0, \"temp_max\": 18.3, \"temp_min\": 10.6, \"wind\": 3.4, \"weather\": \"rain\"}, {\"date\": \"2012-06-27T00:00:00\", \"precipitation\": 0.0, \"temp_max\": 22.8, \"temp_min\": 8.9, \"wind\": 1.8, \"weather\": \"sun\"}, {\"date\": \"2012-06-28T00:00:00\", \"precipitation\": 0.0, \"temp_max\": 22.2, \"temp_min\": 11.7, \"wind\": 2.5, \"weather\": \"rain\"}, {\"date\": \"2012-06-29T00:00:00\", \"precipitation\": 0.3, \"temp_max\": 21.7, \"temp_min\": 15.0, \"wind\": 1.9, \"weather\": \"rain\"}, {\"date\": \"2012-06-30T00:00:00\", \"precipitation\": 3.0, \"temp_max\": 20.0, \"temp_min\": 13.3, \"wind\": 2.4, \"weather\": \"rain\"}, {\"date\": \"2012-07-01T00:00:00\", \"precipitation\": 0.0, \"temp_max\": 20.0, \"temp_min\": 12.2, \"wind\": 2.3, \"weather\": \"rain\"}, {\"date\": \"2012-07-02T00:00:00\", \"precipitation\": 2.0, \"temp_max\": 18.9, \"temp_min\": 11.7, \"wind\": 2.1, \"weather\": \"rain\"}, {\"date\": \"2012-07-03T00:00:00\", \"precipitation\": 5.8, \"temp_max\": 18.3, \"temp_min\": 10.6, \"wind\": 6.0, \"weather\": \"rain\"}, {\"date\": \"2012-07-04T00:00:00\", \"precipitation\": 0.0, \"temp_max\": 20.6, \"temp_min\": 9.4, \"wind\": 3.8, \"weather\": \"sun\"}, {\"date\": \"2012-07-05T00:00:00\", \"precipitation\": 0.0, \"temp_max\": 24.4, \"temp_min\": 10.6, \"wind\": 3.1, \"weather\": \"drizzle\"}, {\"date\": \"2012-07-06T00:00:00\", \"precipitation\": 0.0, \"temp_max\": 25.0, \"temp_min\": 11.1, \"wind\": 2.1, \"weather\": \"sun\"}, {\"date\": \"2012-07-07T00:00:00\", \"precipitation\": 0.0, \"temp_max\": 26.7, \"temp_min\": 12.8, \"wind\": 3.8, \"weather\": \"sun\"}, {\"date\": \"2012-07-08T00:00:00\", \"precipitation\": 0.0, \"temp_max\": 28.3, \"temp_min\": 14.4, \"wind\": 2.8, \"weather\": \"rain\"}, {\"date\": \"2012-07-09T00:00:00\", \"precipitation\": 1.5, \"temp_max\": 25.0, \"temp_min\": 12.8, \"wind\": 2.0, \"weather\": \"rain\"}, {\"date\": \"2012-07-10T00:00:00\", \"precipitation\": 0.0, \"temp_max\": 23.9, \"temp_min\": 11.1, \"wind\": 2.3, \"weather\": \"drizzle\"}, {\"date\": \"2012-07-11T00:00:00\", \"precipitation\": 0.0, \"temp_max\": 27.8, \"temp_min\": 13.3, \"wind\": 2.9, \"weather\": \"fog\"}, {\"date\": \"2012-07-12T00:00:00\", \"precipitation\": 0.0, \"temp_max\": 25.6, \"temp_min\": 13.3, \"wind\": 2.7, \"weather\": \"drizzle\"}, {\"date\": \"2012-07-13T00:00:00\", \"precipitation\": 0.5, \"temp_max\": 23.3, \"temp_min\": 13.9, \"wind\": 2.2, \"weather\": \"rain\"}, {\"date\": \"2012-07-14T00:00:00\", \"precipitation\": 0.0, \"temp_max\": 25.0, \"temp_min\": 15.0, \"wind\": 2.2, \"weather\": \"rain\"}, {\"date\": \"2012-07-15T00:00:00\", \"precipitation\": 0.0, \"temp_max\": 18.9, \"temp_min\": 13.3, \"wind\": 3.8, \"weather\": \"rain\"}, {\"date\": \"2012-07-16T00:00:00\", \"precipitation\": 0.3, \"temp_max\": 26.1, \"temp_min\": 13.3, \"wind\": 2.5, \"weather\": \"rain\"}, {\"date\": \"2012-07-17T00:00:00\", \"precipitation\": 0.0, \"temp_max\": 21.7, \"temp_min\": 15.0, \"wind\": 2.6, \"weather\": \"sun\"}, {\"date\": \"2012-07-18T00:00:00\", \"precipitation\": 0.0, \"temp_max\": 21.1, \"temp_min\": 14.4, \"wind\": 2.9, \"weather\": \"sun\"}, {\"date\": \"2012-07-19T00:00:00\", \"precipitation\": 0.0, \"temp_max\": 25.0, \"temp_min\": 14.4, \"wind\": 2.2, \"weather\": \"sun\"}, {\"date\": \"2012-07-20T00:00:00\", \"precipitation\": 15.2, \"temp_max\": 19.4, \"temp_min\": 13.9, \"wind\": 4.0, \"weather\": \"rain\"}, {\"date\": \"2012-07-21T00:00:00\", \"precipitation\": 0.0, \"temp_max\": 23.9, \"temp_min\": 13.9, \"wind\": 2.3, \"weather\": \"sun\"}, {\"date\": \"2012-07-22T00:00:00\", \"precipitation\": 1.0, \"temp_max\": 20.6, \"temp_min\": 12.2, \"wind\": 3.9, \"weather\": \"rain\"}, {\"date\": \"2012-07-23T00:00:00\", \"precipitation\": 0.0, \"temp_max\": 18.9, \"temp_min\": 11.1, \"wind\": 3.3, \"weather\": \"rain\"}, {\"date\": \"2012-07-24T00:00:00\", \"precipitation\": 0.0, \"temp_max\": 23.3, \"temp_min\": 12.2, \"wind\": 4.3, \"weather\": \"sun\"}, {\"date\": \"2012-07-25T00:00:00\", \"precipitation\": 0.0, \"temp_max\": 26.7, \"temp_min\": 12.8, \"wind\": 2.6, \"weather\": \"sun\"}, {\"date\": \"2012-07-26T00:00:00\", \"precipitation\": 0.0, \"temp_max\": 25.6, \"temp_min\": 12.8, \"wind\": 2.2, \"weather\": \"drizzle\"}, {\"date\": \"2012-07-27T00:00:00\", \"precipitation\": 0.0, \"temp_max\": 18.9, \"temp_min\": 13.9, \"wind\": 2.8, \"weather\": \"drizzle\"}, {\"date\": \"2012-07-28T00:00:00\", \"precipitation\": 0.0, \"temp_max\": 22.2, \"temp_min\": 13.3, \"wind\": 1.7, \"weather\": \"drizzle\"}, {\"date\": \"2012-07-29T00:00:00\", \"precipitation\": 0.0, \"temp_max\": 22.8, \"temp_min\": 15.0, \"wind\": 2.0, \"weather\": \"sun\"}, {\"date\": \"2012-07-30T00:00:00\", \"precipitation\": 0.0, \"temp_max\": 19.4, \"temp_min\": 13.3, \"wind\": 3.0, \"weather\": \"sun\"}, {\"date\": \"2012-07-31T00:00:00\", \"precipitation\": 0.0, \"temp_max\": 22.8, \"temp_min\": 13.9, \"wind\": 2.8, \"weather\": \"sun\"}, {\"date\": \"2012-08-01T00:00:00\", \"precipitation\": 0.0, \"temp_max\": 23.9, \"temp_min\": 13.3, \"wind\": 2.2, \"weather\": \"drizzle\"}, {\"date\": \"2012-08-02T00:00:00\", \"precipitation\": 0.0, \"temp_max\": 23.3, \"temp_min\": 12.2, \"wind\": 2.5, \"weather\": \"sun\"}, {\"date\": \"2012-08-03T00:00:00\", \"precipitation\": 0.0, \"temp_max\": 27.2, \"temp_min\": 12.8, \"wind\": 3.9, \"weather\": \"sun\"}, {\"date\": \"2012-08-04T00:00:00\", \"precipitation\": 0.0, \"temp_max\": 33.9, \"temp_min\": 16.7, \"wind\": 3.7, \"weather\": \"sun\"}, {\"date\": \"2012-08-05T00:00:00\", \"precipitation\": 0.0, \"temp_max\": 33.9, \"temp_min\": 17.8, \"wind\": 1.9, \"weather\": \"sun\"}, {\"date\": \"2012-08-06T00:00:00\", \"precipitation\": 0.0, \"temp_max\": 28.3, \"temp_min\": 15.6, \"wind\": 2.5, \"weather\": \"rain\"}, {\"date\": \"2012-08-07T00:00:00\", \"precipitation\": 0.0, \"temp_max\": 21.1, \"temp_min\": 15.0, \"wind\": 2.6, \"weather\": \"drizzle\"}, {\"date\": \"2012-08-08T00:00:00\", \"precipitation\": 0.0, \"temp_max\": 22.2, \"temp_min\": 15.0, \"wind\": 3.1, \"weather\": \"sun\"}, {\"date\": \"2012-08-09T00:00:00\", \"precipitation\": 0.0, \"temp_max\": 24.4, \"temp_min\": 14.4, \"wind\": 3.8, \"weather\": \"drizzle\"}, {\"date\": \"2012-08-10T00:00:00\", \"precipitation\": 0.0, \"temp_max\": 25.6, \"temp_min\": 12.2, \"wind\": 2.3, \"weather\": \"sun\"}, {\"date\": \"2012-08-11T00:00:00\", \"precipitation\": 0.0, \"temp_max\": 28.3, \"temp_min\": 13.3, \"wind\": 2.5, \"weather\": \"sun\"}, {\"date\": \"2012-08-12T00:00:00\", \"precipitation\": 0.0, \"temp_max\": 30.6, \"temp_min\": 15.0, \"wind\": 3.0, \"weather\": \"sun\"}, {\"date\": \"2012-08-13T00:00:00\", \"precipitation\": 0.0, \"temp_max\": 30.6, \"temp_min\": 15.0, \"wind\": 2.8, \"weather\": \"sun\"}, {\"date\": \"2012-08-14T00:00:00\", \"precipitation\": 0.0, \"temp_max\": 28.9, \"temp_min\": 13.9, \"wind\": 2.8, \"weather\": \"sun\"}, {\"date\": \"2012-08-15T00:00:00\", \"precipitation\": 0.0, \"temp_max\": 31.1, \"temp_min\": 16.7, \"wind\": 4.7, \"weather\": \"sun\"}, {\"date\": \"2012-08-16T00:00:00\", \"precipitation\": 0.0, \"temp_max\": 34.4, \"temp_min\": 18.3, \"wind\": 2.8, \"weather\": \"sun\"}, {\"date\": \"2012-08-17T00:00:00\", \"precipitation\": 0.0, \"temp_max\": 32.8, \"temp_min\": 16.1, \"wind\": 1.8, \"weather\": \"sun\"}, {\"date\": \"2012-08-18T00:00:00\", \"precipitation\": 0.0, \"temp_max\": 21.7, \"temp_min\": 14.4, \"wind\": 3.0, \"weather\": \"drizzle\"}, {\"date\": \"2012-08-19T00:00:00\", \"precipitation\": 0.0, \"temp_max\": 23.3, \"temp_min\": 15.0, \"wind\": 2.7, \"weather\": \"drizzle\"}, {\"date\": \"2012-08-20T00:00:00\", \"precipitation\": 0.0, \"temp_max\": 25.6, \"temp_min\": 15.0, \"wind\": 1.9, \"weather\": \"sun\"}, {\"date\": \"2012-08-21T00:00:00\", \"precipitation\": 0.0, \"temp_max\": 23.3, \"temp_min\": 13.3, \"wind\": 3.0, \"weather\": \"rain\"}, {\"date\": \"2012-08-22T00:00:00\", \"precipitation\": 0.0, \"temp_max\": 22.2, \"temp_min\": 13.3, \"wind\": 2.3, \"weather\": \"sun\"}, {\"date\": \"2012-08-23T00:00:00\", \"precipitation\": 0.0, \"temp_max\": 21.1, \"temp_min\": 13.9, \"wind\": 3.8, \"weather\": \"sun\"}, {\"date\": \"2012-08-24T00:00:00\", \"precipitation\": 0.0, \"temp_max\": 22.2, \"temp_min\": 10.0, \"wind\": 3.3, \"weather\": \"sun\"}, {\"date\": \"2012-08-25T00:00:00\", \"precipitation\": 0.0, \"temp_max\": 26.1, \"temp_min\": 11.7, \"wind\": 3.2, \"weather\": \"sun\"}, {\"date\": \"2012-08-26T00:00:00\", \"precipitation\": 0.0, \"temp_max\": 21.1, \"temp_min\": 12.2, \"wind\": 3.4, \"weather\": \"sun\"}, {\"date\": \"2012-08-27T00:00:00\", \"precipitation\": 0.0, \"temp_max\": 23.9, \"temp_min\": 13.3, \"wind\": 1.8, \"weather\": \"sun\"}, {\"date\": \"2012-08-28T00:00:00\", \"precipitation\": 0.0, \"temp_max\": 22.8, \"temp_min\": 12.2, \"wind\": 3.2, \"weather\": \"sun\"}, {\"date\": \"2012-08-29T00:00:00\", \"precipitation\": 0.0, \"temp_max\": 22.8, \"temp_min\": 13.3, \"wind\": 2.4, \"weather\": \"sun\"}, {\"date\": \"2012-08-30T00:00:00\", \"precipitation\": 0.0, \"temp_max\": 22.8, \"temp_min\": 12.8, \"wind\": 1.9, \"weather\": \"sun\"}, {\"date\": \"2012-08-31T00:00:00\", \"precipitation\": 0.0, \"temp_max\": 22.2, \"temp_min\": 10.6, \"wind\": 2.9, \"weather\": \"sun\"}, {\"date\": \"2012-09-01T00:00:00\", \"precipitation\": 0.0, \"temp_max\": 21.7, \"temp_min\": 10.6, \"wind\": 2.1, \"weather\": \"sun\"}, {\"date\": \"2012-09-02T00:00:00\", \"precipitation\": 0.0, \"temp_max\": 21.1, \"temp_min\": 10.0, \"wind\": 2.0, \"weather\": \"sun\"}, {\"date\": \"2012-09-03T00:00:00\", \"precipitation\": 0.0, \"temp_max\": 22.8, \"temp_min\": 12.8, \"wind\": 3.3, \"weather\": \"sun\"}, {\"date\": \"2012-09-04T00:00:00\", \"precipitation\": 0.0, \"temp_max\": 24.4, \"temp_min\": 11.1, \"wind\": 3.1, \"weather\": \"sun\"}, {\"date\": \"2012-09-05T00:00:00\", \"precipitation\": 0.0, \"temp_max\": 26.1, \"temp_min\": 11.7, \"wind\": 2.6, \"weather\": \"sun\"}, {\"date\": \"2012-09-06T00:00:00\", \"precipitation\": 0.0, \"temp_max\": 28.3, \"temp_min\": 14.4, \"wind\": 4.2, \"weather\": \"sun\"}, {\"date\": \"2012-09-07T00:00:00\", \"precipitation\": 0.0, \"temp_max\": 32.2, \"temp_min\": 13.3, \"wind\": 3.1, \"weather\": \"sun\"}, {\"date\": \"2012-09-08T00:00:00\", \"precipitation\": 0.0, \"temp_max\": 25.0, \"temp_min\": 13.3, \"wind\": 3.0, \"weather\": \"sun\"}, {\"date\": \"2012-09-09T00:00:00\", \"precipitation\": 0.3, \"temp_max\": 18.9, \"temp_min\": 13.9, \"wind\": 5.0, \"weather\": \"rain\"}, {\"date\": \"2012-09-10T00:00:00\", \"precipitation\": 0.3, \"temp_max\": 20.0, \"temp_min\": 11.7, \"wind\": 3.9, \"weather\": \"rain\"}, {\"date\": \"2012-09-11T00:00:00\", \"precipitation\": 0.0, \"temp_max\": 20.0, \"temp_min\": 8.9, \"wind\": 4.2, \"weather\": \"sun\"}, {\"date\": \"2012-09-12T00:00:00\", \"precipitation\": 0.0, \"temp_max\": 22.2, \"temp_min\": 10.0, \"wind\": 5.6, \"weather\": \"sun\"}, {\"date\": \"2012-09-13T00:00:00\", \"precipitation\": 0.0, \"temp_max\": 27.8, \"temp_min\": 11.7, \"wind\": 3.6, \"weather\": \"sun\"}, {\"date\": \"2012-09-14T00:00:00\", \"precipitation\": 0.0, \"temp_max\": 26.1, \"temp_min\": 11.1, \"wind\": 1.5, \"weather\": \"sun\"}, {\"date\": \"2012-09-15T00:00:00\", \"precipitation\": 0.0, \"temp_max\": 22.2, \"temp_min\": 11.1, \"wind\": 1.9, \"weather\": \"sun\"}, {\"date\": \"2012-09-16T00:00:00\", \"precipitation\": 0.0, \"temp_max\": 24.4, \"temp_min\": 9.4, \"wind\": 2.3, \"weather\": \"sun\"}, {\"date\": \"2012-09-17T00:00:00\", \"precipitation\": 0.0, \"temp_max\": 27.8, \"temp_min\": 11.7, \"wind\": 2.2, \"weather\": \"fog\"}, {\"date\": \"2012-09-18T00:00:00\", \"precipitation\": 0.0, \"temp_max\": 27.8, \"temp_min\": 11.7, \"wind\": 1.4, \"weather\": \"sun\"}, {\"date\": \"2012-09-19T00:00:00\", \"precipitation\": 0.0, \"temp_max\": 23.9, \"temp_min\": 11.7, \"wind\": 1.9, \"weather\": \"drizzle\"}, {\"date\": \"2012-09-20T00:00:00\", \"precipitation\": 0.0, \"temp_max\": 19.4, \"temp_min\": 10.0, \"wind\": 2.5, \"weather\": \"drizzle\"}, {\"date\": \"2012-09-21T00:00:00\", \"precipitation\": 0.0, \"temp_max\": 16.1, \"temp_min\": 12.8, \"wind\": 2.1, \"weather\": \"drizzle\"}, {\"date\": \"2012-09-22T00:00:00\", \"precipitation\": 0.3, \"temp_max\": 19.4, \"temp_min\": 11.7, \"wind\": 1.1, \"weather\": \"rain\"}, {\"date\": \"2012-09-23T00:00:00\", \"precipitation\": 0.0, \"temp_max\": 19.4, \"temp_min\": 10.0, \"wind\": 1.4, \"weather\": \"fog\"}, {\"date\": \"2012-09-24T00:00:00\", \"precipitation\": 0.0, \"temp_max\": 21.1, \"temp_min\": 10.0, \"wind\": 1.8, \"weather\": \"fog\"}, {\"date\": \"2012-09-25T00:00:00\", \"precipitation\": 0.0, \"temp_max\": 19.4, \"temp_min\": 11.1, \"wind\": 1.7, \"weather\": \"sun\"}, {\"date\": \"2012-09-26T00:00:00\", \"precipitation\": 0.0, \"temp_max\": 19.4, \"temp_min\": 9.4, \"wind\": 1.7, \"weather\": \"drizzle\"}, {\"date\": \"2012-09-27T00:00:00\", \"precipitation\": 0.0, \"temp_max\": 22.8, \"temp_min\": 10.0, \"wind\": 1.7, \"weather\": \"drizzle\"}, {\"date\": \"2012-09-28T00:00:00\", \"precipitation\": 0.0, \"temp_max\": 25.0, \"temp_min\": 12.2, \"wind\": 1.1, \"weather\": \"rain\"}, {\"date\": \"2012-09-29T00:00:00\", \"precipitation\": 0.0, \"temp_max\": 20.6, \"temp_min\": 12.2, \"wind\": 4.3, \"weather\": \"sun\"}, {\"date\": \"2012-09-30T00:00:00\", \"precipitation\": 0.0, \"temp_max\": 21.1, \"temp_min\": 7.8, \"wind\": 3.1, \"weather\": \"sun\"}, {\"date\": \"2012-10-01T00:00:00\", \"precipitation\": 0.0, \"temp_max\": 23.3, \"temp_min\": 8.9, \"wind\": 3.0, \"weather\": \"sun\"}, {\"date\": \"2012-10-02T00:00:00\", \"precipitation\": 0.0, \"temp_max\": 17.8, \"temp_min\": 10.0, \"wind\": 4.1, \"weather\": \"sun\"}, {\"date\": \"2012-10-03T00:00:00\", \"precipitation\": 0.0, \"temp_max\": 18.9, \"temp_min\": 7.8, \"wind\": 7.3, \"weather\": \"sun\"}, {\"date\": \"2012-10-04T00:00:00\", \"precipitation\": 0.0, \"temp_max\": 18.9, \"temp_min\": 8.3, \"wind\": 6.5, \"weather\": \"sun\"}, {\"date\": \"2012-10-05T00:00:00\", \"precipitation\": 0.0, \"temp_max\": 21.7, \"temp_min\": 8.9, \"wind\": 5.7, \"weather\": \"sun\"}, {\"date\": \"2012-10-06T00:00:00\", \"precipitation\": 0.0, \"temp_max\": 23.9, \"temp_min\": 7.8, \"wind\": 5.1, \"weather\": \"sun\"}, {\"date\": \"2012-10-07T00:00:00\", \"precipitation\": 0.0, \"temp_max\": 23.9, \"temp_min\": 7.8, \"wind\": 1.3, \"weather\": \"sun\"}, {\"date\": \"2012-10-08T00:00:00\", \"precipitation\": 0.0, \"temp_max\": 21.1, \"temp_min\": 7.8, \"wind\": 1.9, \"weather\": \"sun\"}, {\"date\": \"2012-10-09T00:00:00\", \"precipitation\": 0.0, \"temp_max\": 16.1, \"temp_min\": 8.9, \"wind\": 1.6, \"weather\": \"drizzle\"}, {\"date\": \"2012-10-10T00:00:00\", \"precipitation\": 0.0, \"temp_max\": 12.2, \"temp_min\": 8.3, \"wind\": 1.4, \"weather\": \"drizzle\"}, {\"date\": \"2012-10-11T00:00:00\", \"precipitation\": 0.0, \"temp_max\": 13.9, \"temp_min\": 7.2, \"wind\": 1.3, \"weather\": \"drizzle\"}, {\"date\": \"2012-10-12T00:00:00\", \"precipitation\": 2.0, \"temp_max\": 13.9, \"temp_min\": 8.9, \"wind\": 4.6, \"weather\": \"rain\"}, {\"date\": \"2012-10-13T00:00:00\", \"precipitation\": 4.8, \"temp_max\": 15.6, \"temp_min\": 12.2, \"wind\": 3.9, \"weather\": \"rain\"}, {\"date\": \"2012-10-14T00:00:00\", \"precipitation\": 16.5, \"temp_max\": 17.8, \"temp_min\": 13.3, \"wind\": 3.4, \"weather\": \"rain\"}, {\"date\": \"2012-10-15T00:00:00\", \"precipitation\": 7.9, \"temp_max\": 17.2, \"temp_min\": 11.1, \"wind\": 4.6, \"weather\": \"rain\"}, {\"date\": \"2012-10-16T00:00:00\", \"precipitation\": 0.0, \"temp_max\": 16.1, \"temp_min\": 8.3, \"wind\": 5.5, \"weather\": \"sun\"}, {\"date\": \"2012-10-17T00:00:00\", \"precipitation\": 0.0, \"temp_max\": 14.4, \"temp_min\": 6.1, \"wind\": 1.6, \"weather\": \"sun\"}, {\"date\": \"2012-10-18T00:00:00\", \"precipitation\": 20.8, \"temp_max\": 17.8, \"temp_min\": 6.7, \"wind\": 2.0, \"weather\": \"rain\"}, {\"date\": \"2012-10-19T00:00:00\", \"precipitation\": 4.8, \"temp_max\": 15.0, \"temp_min\": 9.4, \"wind\": 5.3, \"weather\": \"rain\"}, {\"date\": \"2012-10-20T00:00:00\", \"precipitation\": 0.5, \"temp_max\": 11.1, \"temp_min\": 6.1, \"wind\": 5.7, \"weather\": \"rain\"}, {\"date\": \"2012-10-21T00:00:00\", \"precipitation\": 6.4, \"temp_max\": 11.7, \"temp_min\": 4.4, \"wind\": 2.7, \"weather\": \"rain\"}, {\"date\": \"2012-10-22T00:00:00\", \"precipitation\": 8.9, \"temp_max\": 7.8, \"temp_min\": 3.3, \"wind\": 2.6, \"weather\": \"rain\"}, {\"date\": \"2012-10-23T00:00:00\", \"precipitation\": 0.0, \"temp_max\": 11.1, \"temp_min\": 5.6, \"wind\": 3.0, \"weather\": \"rain\"}, {\"date\": \"2012-10-24T00:00:00\", \"precipitation\": 7.1, \"temp_max\": 11.7, \"temp_min\": 6.1, \"wind\": 2.1, \"weather\": \"rain\"}, {\"date\": \"2012-10-25T00:00:00\", \"precipitation\": 0.0, \"temp_max\": 11.7, \"temp_min\": 6.7, \"wind\": 1.5, \"weather\": \"sun\"}, {\"date\": \"2012-10-26T00:00:00\", \"precipitation\": 1.5, \"temp_max\": 11.1, \"temp_min\": 7.2, \"wind\": 2.5, \"weather\": \"rain\"}, {\"date\": \"2012-10-27T00:00:00\", \"precipitation\": 23.1, \"temp_max\": 14.4, \"temp_min\": 9.4, \"wind\": 5.1, \"weather\": \"rain\"}, {\"date\": \"2012-10-28T00:00:00\", \"precipitation\": 6.1, \"temp_max\": 14.4, \"temp_min\": 10.0, \"wind\": 3.8, \"weather\": \"rain\"}, {\"date\": \"2012-10-29T00:00:00\", \"precipitation\": 10.9, \"temp_max\": 15.6, \"temp_min\": 10.0, \"wind\": 4.9, \"weather\": \"rain\"}, {\"date\": \"2012-10-30T00:00:00\", \"precipitation\": 34.5, \"temp_max\": 15.0, \"temp_min\": 12.2, \"wind\": 2.8, \"weather\": \"rain\"}, {\"date\": \"2012-10-31T00:00:00\", \"precipitation\": 14.5, \"temp_max\": 15.6, \"temp_min\": 11.1, \"wind\": 2.7, \"weather\": \"rain\"}, {\"date\": \"2012-11-01T00:00:00\", \"precipitation\": 9.7, \"temp_max\": 15.0, \"temp_min\": 10.6, \"wind\": 3.0, \"weather\": \"rain\"}, {\"date\": \"2012-11-02T00:00:00\", \"precipitation\": 5.6, \"temp_max\": 15.0, \"temp_min\": 10.6, \"wind\": 1.0, \"weather\": \"rain\"}, {\"date\": \"2012-11-03T00:00:00\", \"precipitation\": 0.5, \"temp_max\": 15.6, \"temp_min\": 11.1, \"wind\": 3.6, \"weather\": \"rain\"}, {\"date\": \"2012-11-04T00:00:00\", \"precipitation\": 8.1, \"temp_max\": 17.8, \"temp_min\": 12.8, \"wind\": 3.8, \"weather\": \"rain\"}, {\"date\": \"2012-11-05T00:00:00\", \"precipitation\": 0.8, \"temp_max\": 15.0, \"temp_min\": 7.8, \"wind\": 4.0, \"weather\": \"rain\"}, {\"date\": \"2012-11-06T00:00:00\", \"precipitation\": 0.3, \"temp_max\": 12.8, \"temp_min\": 6.7, \"wind\": 3.5, \"weather\": \"rain\"}, {\"date\": \"2012-11-07T00:00:00\", \"precipitation\": 0.0, \"temp_max\": 12.2, \"temp_min\": 3.9, \"wind\": 3.4, \"weather\": \"rain\"}, {\"date\": \"2012-11-08T00:00:00\", \"precipitation\": 0.0, \"temp_max\": 10.0, \"temp_min\": 1.1, \"wind\": 3.4, \"weather\": \"rain\"}, {\"date\": \"2012-11-09T00:00:00\", \"precipitation\": 0.0, \"temp_max\": 8.9, \"temp_min\": 1.1, \"wind\": 2.0, \"weather\": \"rain\"}, {\"date\": \"2012-11-10T00:00:00\", \"precipitation\": 0.0, \"temp_max\": 7.8, \"temp_min\": -0.6, \"wind\": 2.2, \"weather\": \"sun\"}, {\"date\": \"2012-11-11T00:00:00\", \"precipitation\": 15.2, \"temp_max\": 8.9, \"temp_min\": 1.1, \"wind\": 3.0, \"weather\": \"rain\"}, {\"date\": \"2012-11-12T00:00:00\", \"precipitation\": 3.6, \"temp_max\": 12.8, \"temp_min\": 6.1, \"wind\": 3.0, \"weather\": \"rain\"}, {\"date\": \"2012-11-13T00:00:00\", \"precipitation\": 5.3, \"temp_max\": 11.1, \"temp_min\": 7.8, \"wind\": 2.5, \"weather\": \"rain\"}, {\"date\": \"2012-11-14T00:00:00\", \"precipitation\": 0.8, \"temp_max\": 11.1, \"temp_min\": 5.0, \"wind\": 2.6, \"weather\": \"rain\"}, {\"date\": \"2012-11-15T00:00:00\", \"precipitation\": 0.0, \"temp_max\": 9.4, \"temp_min\": 2.8, \"wind\": 2.4, \"weather\": \"drizzle\"}, {\"date\": \"2012-11-16T00:00:00\", \"precipitation\": 5.6, \"temp_max\": 9.4, \"temp_min\": 2.2, \"wind\": 1.6, \"weather\": \"rain\"}, {\"date\": \"2012-11-17T00:00:00\", \"precipitation\": 6.1, \"temp_max\": 12.2, \"temp_min\": 6.1, \"wind\": 5.3, \"weather\": \"rain\"}, {\"date\": \"2012-11-18T00:00:00\", \"precipitation\": 7.9, \"temp_max\": 10.0, \"temp_min\": 6.1, \"wind\": 4.9, \"weather\": \"rain\"}, {\"date\": \"2012-11-19T00:00:00\", \"precipitation\": 54.1, \"temp_max\": 13.3, \"temp_min\": 8.3, \"wind\": 6.0, \"weather\": \"rain\"}, {\"date\": \"2012-11-20T00:00:00\", \"precipitation\": 3.8, \"temp_max\": 11.1, \"temp_min\": 7.2, \"wind\": 4.2, \"weather\": \"rain\"}, {\"date\": \"2012-11-21T00:00:00\", \"precipitation\": 11.2, \"temp_max\": 8.3, \"temp_min\": 3.9, \"wind\": 5.5, \"weather\": \"rain\"}, {\"date\": \"2012-11-22T00:00:00\", \"precipitation\": 0.0, \"temp_max\": 8.9, \"temp_min\": 2.8, \"wind\": 1.5, \"weather\": \"rain\"}, {\"date\": \"2012-11-23T00:00:00\", \"precipitation\": 32.0, \"temp_max\": 9.4, \"temp_min\": 6.1, \"wind\": 2.4, \"weather\": \"rain\"}, {\"date\": \"2012-11-24T00:00:00\", \"precipitation\": 0.0, \"temp_max\": 8.9, \"temp_min\": 3.9, \"wind\": 1.2, \"weather\": \"rain\"}, {\"date\": \"2012-11-25T00:00:00\", \"precipitation\": 0.0, \"temp_max\": 8.3, \"temp_min\": 1.1, \"wind\": 3.6, \"weather\": \"drizzle\"}, {\"date\": \"2012-11-26T00:00:00\", \"precipitation\": 0.0, \"temp_max\": 9.4, \"temp_min\": 1.7, \"wind\": 3.8, \"weather\": \"fog\"}, {\"date\": \"2012-11-27T00:00:00\", \"precipitation\": 0.0, \"temp_max\": 10.0, \"temp_min\": 1.7, \"wind\": 1.5, \"weather\": \"sun\"}, {\"date\": \"2012-11-28T00:00:00\", \"precipitation\": 2.8, \"temp_max\": 9.4, \"temp_min\": 2.2, \"wind\": 2.9, \"weather\": \"rain\"}, {\"date\": \"2012-11-29T00:00:00\", \"precipitation\": 1.5, \"temp_max\": 12.8, \"temp_min\": 7.8, \"wind\": 4.2, \"weather\": \"rain\"}, {\"date\": \"2012-11-30T00:00:00\", \"precipitation\": 35.6, \"temp_max\": 15.0, \"temp_min\": 7.8, \"wind\": 4.6, \"weather\": \"rain\"}, {\"date\": \"2012-12-01T00:00:00\", \"precipitation\": 4.1, \"temp_max\": 13.3, \"temp_min\": 8.3, \"wind\": 5.5, \"weather\": \"rain\"}, {\"date\": \"2012-12-02T00:00:00\", \"precipitation\": 19.6, \"temp_max\": 8.3, \"temp_min\": 7.2, \"wind\": 6.2, \"weather\": \"rain\"}, {\"date\": \"2012-12-03T00:00:00\", \"precipitation\": 13.0, \"temp_max\": 9.4, \"temp_min\": 7.2, \"wind\": 4.4, \"weather\": \"rain\"}, {\"date\": \"2012-12-04T00:00:00\", \"precipitation\": 14.2, \"temp_max\": 11.7, \"temp_min\": 7.2, \"wind\": 6.2, \"weather\": \"rain\"}, {\"date\": \"2012-12-05T00:00:00\", \"precipitation\": 1.5, \"temp_max\": 8.9, \"temp_min\": 4.4, \"wind\": 5.0, \"weather\": \"rain\"}, {\"date\": \"2012-12-06T00:00:00\", \"precipitation\": 1.5, \"temp_max\": 7.2, \"temp_min\": 6.1, \"wind\": 5.1, \"weather\": \"rain\"}, {\"date\": \"2012-12-07T00:00:00\", \"precipitation\": 1.0, \"temp_max\": 7.8, \"temp_min\": 3.3, \"wind\": 4.6, \"weather\": \"rain\"}, {\"date\": \"2012-12-08T00:00:00\", \"precipitation\": 0.0, \"temp_max\": 6.7, \"temp_min\": 3.3, \"wind\": 2.0, \"weather\": \"sun\"}, {\"date\": \"2012-12-09T00:00:00\", \"precipitation\": 1.5, \"temp_max\": 6.7, \"temp_min\": 2.8, \"wind\": 2.1, \"weather\": \"rain\"}, {\"date\": \"2012-12-10T00:00:00\", \"precipitation\": 0.5, \"temp_max\": 7.2, \"temp_min\": 5.6, \"wind\": 1.8, \"weather\": \"rain\"}, {\"date\": \"2012-12-11T00:00:00\", \"precipitation\": 3.0, \"temp_max\": 7.8, \"temp_min\": 5.6, \"wind\": 4.5, \"weather\": \"rain\"}, {\"date\": \"2012-12-12T00:00:00\", \"precipitation\": 8.1, \"temp_max\": 6.7, \"temp_min\": 4.4, \"wind\": 2.0, \"weather\": \"rain\"}, {\"date\": \"2012-12-13T00:00:00\", \"precipitation\": 2.3, \"temp_max\": 7.2, \"temp_min\": 3.3, \"wind\": 2.8, \"weather\": \"rain\"}, {\"date\": \"2012-12-14T00:00:00\", \"precipitation\": 7.9, \"temp_max\": 6.1, \"temp_min\": 1.1, \"wind\": 1.7, \"weather\": \"rain\"}, {\"date\": \"2012-12-15T00:00:00\", \"precipitation\": 5.3, \"temp_max\": 4.4, \"temp_min\": 0.6, \"wind\": 5.1, \"weather\": \"snow\"}, {\"date\": \"2012-12-16T00:00:00\", \"precipitation\": 22.6, \"temp_max\": 6.7, \"temp_min\": 3.3, \"wind\": 5.5, \"weather\": \"snow\"}, {\"date\": \"2012-12-17T00:00:00\", \"precipitation\": 2.0, \"temp_max\": 8.3, \"temp_min\": 1.7, \"wind\": 9.5, \"weather\": \"rain\"}, {\"date\": \"2012-12-18T00:00:00\", \"precipitation\": 3.3, \"temp_max\": 3.9, \"temp_min\": 0.6, \"wind\": 5.3, \"weather\": \"snow\"}, {\"date\": \"2012-12-19T00:00:00\", \"precipitation\": 13.7, \"temp_max\": 8.3, \"temp_min\": 1.7, \"wind\": 5.8, \"weather\": \"snow\"}, {\"date\": \"2012-12-20T00:00:00\", \"precipitation\": 13.2, \"temp_max\": 7.2, \"temp_min\": 0.6, \"wind\": 3.7, \"weather\": \"rain\"}, {\"date\": \"2012-12-21T00:00:00\", \"precipitation\": 1.8, \"temp_max\": 8.3, \"temp_min\": -1.7, \"wind\": 1.7, \"weather\": \"rain\"}, {\"date\": \"2012-12-22T00:00:00\", \"precipitation\": 3.3, \"temp_max\": 8.3, \"temp_min\": 3.9, \"wind\": 3.5, \"weather\": \"rain\"}, {\"date\": \"2012-12-23T00:00:00\", \"precipitation\": 6.6, \"temp_max\": 7.2, \"temp_min\": 3.3, \"wind\": 2.5, \"weather\": \"rain\"}, {\"date\": \"2012-12-24T00:00:00\", \"precipitation\": 0.3, \"temp_max\": 5.6, \"temp_min\": 2.8, \"wind\": 2.8, \"weather\": \"rain\"}, {\"date\": \"2012-12-25T00:00:00\", \"precipitation\": 13.5, \"temp_max\": 5.6, \"temp_min\": 2.8, \"wind\": 4.2, \"weather\": \"snow\"}, {\"date\": \"2012-12-26T00:00:00\", \"precipitation\": 4.6, \"temp_max\": 6.7, \"temp_min\": 3.3, \"wind\": 4.9, \"weather\": \"rain\"}, {\"date\": \"2012-12-27T00:00:00\", \"precipitation\": 4.1, \"temp_max\": 7.8, \"temp_min\": 3.3, \"wind\": 3.2, \"weather\": \"rain\"}, {\"date\": \"2012-12-28T00:00:00\", \"precipitation\": 0.0, \"temp_max\": 8.3, \"temp_min\": 3.9, \"wind\": 1.7, \"weather\": \"rain\"}, {\"date\": \"2012-12-29T00:00:00\", \"precipitation\": 1.5, \"temp_max\": 5.0, \"temp_min\": 3.3, \"wind\": 1.7, \"weather\": \"rain\"}, {\"date\": \"2012-12-30T00:00:00\", \"precipitation\": 0.0, \"temp_max\": 4.4, \"temp_min\": 0.0, \"wind\": 1.8, \"weather\": \"drizzle\"}, {\"date\": \"2012-12-31T00:00:00\", \"precipitation\": 0.0, \"temp_max\": 3.3, \"temp_min\": -1.1, \"wind\": 2.0, \"weather\": \"drizzle\"}, {\"date\": \"2013-01-01T00:00:00\", \"precipitation\": 0.0, \"temp_max\": 5.0, \"temp_min\": -2.8, \"wind\": 2.7, \"weather\": \"sun\"}, {\"date\": \"2013-01-02T00:00:00\", \"precipitation\": 0.0, \"temp_max\": 6.1, \"temp_min\": -1.1, \"wind\": 3.2, \"weather\": \"sun\"}, {\"date\": \"2013-01-03T00:00:00\", \"precipitation\": 4.1, \"temp_max\": 6.7, \"temp_min\": -1.7, \"wind\": 3.0, \"weather\": \"rain\"}, {\"date\": \"2013-01-04T00:00:00\", \"precipitation\": 2.5, \"temp_max\": 10.0, \"temp_min\": 2.2, \"wind\": 2.8, \"weather\": \"rain\"}, {\"date\": \"2013-01-05T00:00:00\", \"precipitation\": 3.0, \"temp_max\": 6.7, \"temp_min\": 4.4, \"wind\": 3.1, \"weather\": \"rain\"}, {\"date\": \"2013-01-06T00:00:00\", \"precipitation\": 2.0, \"temp_max\": 7.2, \"temp_min\": 2.8, \"wind\": 3.0, \"weather\": \"rain\"}, {\"date\": \"2013-01-07T00:00:00\", \"precipitation\": 2.3, \"temp_max\": 10.0, \"temp_min\": 4.4, \"wind\": 7.3, \"weather\": \"rain\"}, {\"date\": \"2013-01-08T00:00:00\", \"precipitation\": 16.3, \"temp_max\": 11.7, \"temp_min\": 5.6, \"wind\": 6.3, \"weather\": \"rain\"}, {\"date\": \"2013-01-09T00:00:00\", \"precipitation\": 38.4, \"temp_max\": 10.0, \"temp_min\": 1.7, \"wind\": 5.1, \"weather\": \"rain\"}, {\"date\": \"2013-01-10T00:00:00\", \"precipitation\": 0.3, \"temp_max\": 3.3, \"temp_min\": -0.6, \"wind\": 2.1, \"weather\": \"snow\"}, {\"date\": \"2013-01-11T00:00:00\", \"precipitation\": 0.0, \"temp_max\": 2.8, \"temp_min\": -2.8, \"wind\": 1.9, \"weather\": \"drizzle\"}, {\"date\": \"2013-01-12T00:00:00\", \"precipitation\": 0.0, \"temp_max\": 2.8, \"temp_min\": -3.9, \"wind\": 2.0, \"weather\": \"sun\"}, {\"date\": \"2013-01-13T00:00:00\", \"precipitation\": 0.0, \"temp_max\": 2.2, \"temp_min\": -4.4, \"wind\": 1.5, \"weather\": \"sun\"}, {\"date\": \"2013-01-14T00:00:00\", \"precipitation\": 0.0, \"temp_max\": 3.3, \"temp_min\": -2.2, \"wind\": 1.3, \"weather\": \"sun\"}, {\"date\": \"2013-01-15T00:00:00\", \"precipitation\": 0.0, \"temp_max\": 6.7, \"temp_min\": -0.6, \"wind\": 2.3, \"weather\": \"sun\"}, {\"date\": \"2013-01-16T00:00:00\", \"precipitation\": 0.0, \"temp_max\": 6.1, \"temp_min\": -3.9, \"wind\": 1.8, \"weather\": \"drizzle\"}, {\"date\": \"2013-01-17T00:00:00\", \"precipitation\": 0.0, \"temp_max\": 3.9, \"temp_min\": -2.8, \"wind\": 1.0, \"weather\": \"drizzle\"}, {\"date\": \"2013-01-18T00:00:00\", \"precipitation\": 0.0, \"temp_max\": 3.3, \"temp_min\": -1.1, \"wind\": 1.3, \"weather\": \"drizzle\"}, {\"date\": \"2013-01-19T00:00:00\", \"precipitation\": 0.0, \"temp_max\": 1.1, \"temp_min\": -0.6, \"wind\": 1.9, \"weather\": \"drizzle\"}, {\"date\": \"2013-01-20T00:00:00\", \"precipitation\": 0.0, \"temp_max\": 3.3, \"temp_min\": -0.6, \"wind\": 2.1, \"weather\": \"drizzle\"}, {\"date\": \"2013-01-21T00:00:00\", \"precipitation\": 0.0, \"temp_max\": 2.2, \"temp_min\": -1.7, \"wind\": 1.1, \"weather\": \"drizzle\"}, {\"date\": \"2013-01-22T00:00:00\", \"precipitation\": 0.0, \"temp_max\": 3.3, \"temp_min\": -1.7, \"wind\": 0.6, \"weather\": \"drizzle\"}, {\"date\": \"2013-01-23T00:00:00\", \"precipitation\": 5.1, \"temp_max\": 7.2, \"temp_min\": 2.2, \"wind\": 3.1, \"weather\": \"rain\"}, {\"date\": \"2013-01-24T00:00:00\", \"precipitation\": 5.8, \"temp_max\": 7.2, \"temp_min\": 1.1, \"wind\": 2.6, \"weather\": \"rain\"}, {\"date\": \"2013-01-25T00:00:00\", \"precipitation\": 3.0, \"temp_max\": 10.6, \"temp_min\": 2.8, \"wind\": 2.1, \"weather\": \"rain\"}, {\"date\": \"2013-01-26T00:00:00\", \"precipitation\": 2.3, \"temp_max\": 8.3, \"temp_min\": 3.9, \"wind\": 4.5, \"weather\": \"rain\"}, {\"date\": \"2013-01-27T00:00:00\", \"precipitation\": 1.8, \"temp_max\": 5.6, \"temp_min\": 3.9, \"wind\": 4.5, \"weather\": \"rain\"}, {\"date\": \"2013-01-28T00:00:00\", \"precipitation\": 7.9, \"temp_max\": 6.1, \"temp_min\": 3.3, \"wind\": 3.2, \"weather\": \"rain\"}, {\"date\": \"2013-01-29T00:00:00\", \"precipitation\": 4.3, \"temp_max\": 8.3, \"temp_min\": 5.0, \"wind\": 3.9, \"weather\": \"rain\"}, {\"date\": \"2013-01-30T00:00:00\", \"precipitation\": 3.6, \"temp_max\": 8.9, \"temp_min\": 6.7, \"wind\": 3.9, \"weather\": \"rain\"}, {\"date\": \"2013-01-31T00:00:00\", \"precipitation\": 3.0, \"temp_max\": 9.4, \"temp_min\": 7.2, \"wind\": 4.0, \"weather\": \"rain\"}, {\"date\": \"2013-02-01T00:00:00\", \"precipitation\": 0.3, \"temp_max\": 11.7, \"temp_min\": 5.0, \"wind\": 2.9, \"weather\": \"rain\"}, {\"date\": \"2013-02-02T00:00:00\", \"precipitation\": 0.0, \"temp_max\": 6.1, \"temp_min\": 2.8, \"wind\": 2.0, \"weather\": \"drizzle\"}, {\"date\": \"2013-02-03T00:00:00\", \"precipitation\": 2.3, \"temp_max\": 8.9, \"temp_min\": 2.8, \"wind\": 2.9, \"weather\": \"rain\"}, {\"date\": \"2013-02-04T00:00:00\", \"precipitation\": 0.0, \"temp_max\": 10.6, \"temp_min\": 6.7, \"wind\": 2.6, \"weather\": \"rain\"}, {\"date\": \"2013-02-05T00:00:00\", \"precipitation\": 3.3, \"temp_max\": 10.0, \"temp_min\": 6.7, \"wind\": 5.1, \"weather\": \"rain\"}, {\"date\": \"2013-02-06T00:00:00\", \"precipitation\": 1.0, \"temp_max\": 10.6, \"temp_min\": 6.1, \"wind\": 4.5, \"weather\": \"rain\"}, {\"date\": \"2013-02-07T00:00:00\", \"precipitation\": 1.3, \"temp_max\": 9.4, \"temp_min\": 3.3, \"wind\": 4.1, \"weather\": \"rain\"}, {\"date\": \"2013-02-08T00:00:00\", \"precipitation\": 0.0, \"temp_max\": 7.8, \"temp_min\": 2.2, \"wind\": 1.3, \"weather\": \"sun\"}, {\"date\": \"2013-02-09T00:00:00\", \"precipitation\": 0.3, \"temp_max\": 8.3, \"temp_min\": 4.4, \"wind\": 1.3, \"weather\": \"rain\"}, {\"date\": \"2013-02-10T00:00:00\", \"precipitation\": 0.0, \"temp_max\": 8.9, \"temp_min\": 1.7, \"wind\": 2.0, \"weather\": \"drizzle\"}, {\"date\": \"2013-02-11T00:00:00\", \"precipitation\": 0.3, \"temp_max\": 8.3, \"temp_min\": 4.4, \"wind\": 1.4, \"weather\": \"rain\"}, {\"date\": \"2013-02-12T00:00:00\", \"precipitation\": 1.0, \"temp_max\": 11.1, \"temp_min\": 7.2, \"wind\": 5.6, \"weather\": \"rain\"}, {\"date\": \"2013-02-13T00:00:00\", \"precipitation\": 2.3, \"temp_max\": 9.4, \"temp_min\": 7.2, \"wind\": 4.1, \"weather\": \"rain\"}, {\"date\": \"2013-02-14T00:00:00\", \"precipitation\": 1.0, \"temp_max\": 9.4, \"temp_min\": 5.6, \"wind\": 2.2, \"weather\": \"rain\"}, {\"date\": \"2013-02-15T00:00:00\", \"precipitation\": 0.0, \"temp_max\": 13.3, \"temp_min\": 5.0, \"wind\": 2.4, \"weather\": \"drizzle\"}, {\"date\": \"2013-02-16T00:00:00\", \"precipitation\": 0.0, \"temp_max\": 11.1, \"temp_min\": 3.9, \"wind\": 5.6, \"weather\": \"rain\"}, {\"date\": \"2013-02-17T00:00:00\", \"precipitation\": 0.0, \"temp_max\": 9.4, \"temp_min\": 4.4, \"wind\": 3.4, \"weather\": \"rain\"}, {\"date\": \"2013-02-18T00:00:00\", \"precipitation\": 0.0, \"temp_max\": 7.8, \"temp_min\": 3.9, \"wind\": 1.9, \"weather\": \"rain\"}, {\"date\": \"2013-02-19T00:00:00\", \"precipitation\": 0.0, \"temp_max\": 10.6, \"temp_min\": 1.7, \"wind\": 3.4, \"weather\": \"sun\"}, {\"date\": \"2013-02-20T00:00:00\", \"precipitation\": 1.5, \"temp_max\": 7.8, \"temp_min\": 1.1, \"wind\": 2.1, \"weather\": \"rain\"}, {\"date\": \"2013-02-21T00:00:00\", \"precipitation\": 0.5, \"temp_max\": 6.7, \"temp_min\": 3.9, \"wind\": 6.2, \"weather\": \"rain\"}, {\"date\": \"2013-02-22T00:00:00\", \"precipitation\": 9.4, \"temp_max\": 7.8, \"temp_min\": 3.9, \"wind\": 8.1, \"weather\": \"rain\"}, {\"date\": \"2013-02-23T00:00:00\", \"precipitation\": 0.3, \"temp_max\": 10.0, \"temp_min\": 3.9, \"wind\": 4.6, \"weather\": \"rain\"}, {\"date\": \"2013-02-24T00:00:00\", \"precipitation\": 0.0, \"temp_max\": 8.9, \"temp_min\": 5.0, \"wind\": 5.5, \"weather\": \"rain\"}, {\"date\": \"2013-02-25T00:00:00\", \"precipitation\": 2.3, \"temp_max\": 10.6, \"temp_min\": 3.3, \"wind\": 7.1, \"weather\": \"rain\"}, {\"date\": \"2013-02-26T00:00:00\", \"precipitation\": 0.5, \"temp_max\": 8.9, \"temp_min\": 3.9, \"wind\": 3.8, \"weather\": \"rain\"}, {\"date\": \"2013-02-27T00:00:00\", \"precipitation\": 4.6, \"temp_max\": 10.0, \"temp_min\": 4.4, \"wind\": 1.8, \"weather\": \"rain\"}, {\"date\": \"2013-02-28T00:00:00\", \"precipitation\": 8.1, \"temp_max\": 11.7, \"temp_min\": 6.7, \"wind\": 3.8, \"weather\": \"rain\"}, {\"date\": \"2013-03-01T00:00:00\", \"precipitation\": 4.1, \"temp_max\": 15.0, \"temp_min\": 11.1, \"wind\": 5.4, \"weather\": \"rain\"}, {\"date\": \"2013-03-02T00:00:00\", \"precipitation\": 0.8, \"temp_max\": 13.9, \"temp_min\": 5.0, \"wind\": 4.5, \"weather\": \"rain\"}, {\"date\": \"2013-03-03T00:00:00\", \"precipitation\": 0.0, \"temp_max\": 11.1, \"temp_min\": 2.2, \"wind\": 2.8, \"weather\": \"sun\"}, {\"date\": \"2013-03-04T00:00:00\", \"precipitation\": 0.0, \"temp_max\": 13.3, \"temp_min\": 0.0, \"wind\": 3.9, \"weather\": \"sun\"}, {\"date\": \"2013-03-05T00:00:00\", \"precipitation\": 0.0, \"temp_max\": 9.4, \"temp_min\": 6.1, \"wind\": 2.4, \"weather\": \"rain\"}, {\"date\": \"2013-03-06T00:00:00\", \"precipitation\": 11.9, \"temp_max\": 7.2, \"temp_min\": 5.0, \"wind\": 4.1, \"weather\": \"rain\"}, {\"date\": \"2013-03-07T00:00:00\", \"precipitation\": 7.4, \"temp_max\": 12.2, \"temp_min\": 5.0, \"wind\": 2.5, \"weather\": \"rain\"}, {\"date\": \"2013-03-08T00:00:00\", \"precipitation\": 0.0, \"temp_max\": 11.7, \"temp_min\": 2.2, \"wind\": 2.6, \"weather\": \"drizzle\"}, {\"date\": \"2013-03-09T00:00:00\", \"precipitation\": 0.0, \"temp_max\": 12.8, \"temp_min\": 1.1, \"wind\": 1.3, \"weather\": \"fog\"}, {\"date\": \"2013-03-10T00:00:00\", \"precipitation\": 0.8, \"temp_max\": 7.8, \"temp_min\": 3.9, \"wind\": 1.6, \"weather\": \"rain\"}, {\"date\": \"2013-03-11T00:00:00\", \"precipitation\": 1.3, \"temp_max\": 10.6, \"temp_min\": 6.1, \"wind\": 1.1, \"weather\": \"rain\"}, {\"date\": \"2013-03-12T00:00:00\", \"precipitation\": 2.0, \"temp_max\": 12.8, \"temp_min\": 10.0, \"wind\": 5.7, \"weather\": \"rain\"}, {\"date\": \"2013-03-13T00:00:00\", \"precipitation\": 2.3, \"temp_max\": 11.7, \"temp_min\": 9.4, \"wind\": 3.7, \"weather\": \"rain\"}, {\"date\": \"2013-03-14T00:00:00\", \"precipitation\": 2.8, \"temp_max\": 11.7, \"temp_min\": 9.4, \"wind\": 3.0, \"weather\": \"rain\"}, {\"date\": \"2013-03-15T00:00:00\", \"precipitation\": 0.0, \"temp_max\": 14.4, \"temp_min\": 8.9, \"wind\": 4.3, \"weather\": \"rain\"}, {\"date\": \"2013-03-16T00:00:00\", \"precipitation\": 4.3, \"temp_max\": 10.6, \"temp_min\": 4.4, \"wind\": 6.4, \"weather\": \"rain\"}, {\"date\": \"2013-03-17T00:00:00\", \"precipitation\": 0.0, \"temp_max\": 8.9, \"temp_min\": 3.9, \"wind\": 6.1, \"weather\": \"sun\"}, {\"date\": \"2013-03-18T00:00:00\", \"precipitation\": 0.0, \"temp_max\": 11.7, \"temp_min\": 3.9, \"wind\": 5.9, \"weather\": \"rain\"}, {\"date\": \"2013-03-19T00:00:00\", \"precipitation\": 11.7, \"temp_max\": 12.8, \"temp_min\": 1.7, \"wind\": 3.4, \"weather\": \"rain\"}, {\"date\": \"2013-03-20T00:00:00\", \"precipitation\": 9.9, \"temp_max\": 11.1, \"temp_min\": 4.4, \"wind\": 7.6, \"weather\": \"rain\"}, {\"date\": \"2013-03-21T00:00:00\", \"precipitation\": 8.1, \"temp_max\": 10.0, \"temp_min\": 2.2, \"wind\": 4.9, \"weather\": \"snow\"}, {\"date\": \"2013-03-22T00:00:00\", \"precipitation\": 0.0, \"temp_max\": 9.4, \"temp_min\": 0.6, \"wind\": 2.2, \"weather\": \"sun\"}, {\"date\": \"2013-03-23T00:00:00\", \"precipitation\": 0.0, \"temp_max\": 10.0, \"temp_min\": 1.1, \"wind\": 2.6, \"weather\": \"sun\"}, {\"date\": \"2013-03-24T00:00:00\", \"precipitation\": 0.0, \"temp_max\": 12.2, \"temp_min\": 0.6, \"wind\": 2.1, \"weather\": \"sun\"}, {\"date\": \"2013-03-25T00:00:00\", \"precipitation\": 0.0, \"temp_max\": 16.7, \"temp_min\": 4.4, \"wind\": 2.8, \"weather\": \"sun\"}, {\"date\": \"2013-03-26T00:00:00\", \"precipitation\": 0.0, \"temp_max\": 16.7, \"temp_min\": 6.1, \"wind\": 1.7, \"weather\": \"sun\"}, {\"date\": \"2013-03-27T00:00:00\", \"precipitation\": 0.3, \"temp_max\": 13.3, \"temp_min\": 7.2, \"wind\": 1.6, \"weather\": \"rain\"}, {\"date\": \"2013-03-28T00:00:00\", \"precipitation\": 2.0, \"temp_max\": 16.1, \"temp_min\": 8.3, \"wind\": 1.3, \"weather\": \"rain\"}, {\"date\": \"2013-03-29T00:00:00\", \"precipitation\": 0.0, \"temp_max\": 18.3, \"temp_min\": 7.8, \"wind\": 2.5, \"weather\": \"rain\"}, {\"date\": \"2013-03-30T00:00:00\", \"precipitation\": 0.0, \"temp_max\": 20.0, \"temp_min\": 5.6, \"wind\": 4.4, \"weather\": \"drizzle\"}, {\"date\": \"2013-03-31T00:00:00\", \"precipitation\": 0.0, \"temp_max\": 20.6, \"temp_min\": 6.7, \"wind\": 2.9, \"weather\": \"sun\"}, {\"date\": \"2013-04-01T00:00:00\", \"precipitation\": 0.0, \"temp_max\": 17.2, \"temp_min\": 8.3, \"wind\": 3.6, \"weather\": \"sun\"}, {\"date\": \"2013-04-02T00:00:00\", \"precipitation\": 0.0, \"temp_max\": 13.9, \"temp_min\": 8.9, \"wind\": 2.2, \"weather\": \"sun\"}, {\"date\": \"2013-04-03T00:00:00\", \"precipitation\": 0.0, \"temp_max\": 16.7, \"temp_min\": 7.8, \"wind\": 1.6, \"weather\": \"sun\"}, {\"date\": \"2013-04-04T00:00:00\", \"precipitation\": 8.4, \"temp_max\": 14.4, \"temp_min\": 10.0, \"wind\": 3.0, \"weather\": \"fog\"}, {\"date\": \"2013-04-05T00:00:00\", \"precipitation\": 18.5, \"temp_max\": 13.9, \"temp_min\": 10.0, \"wind\": 5.6, \"weather\": \"fog\"}, {\"date\": \"2013-04-06T00:00:00\", \"precipitation\": 12.7, \"temp_max\": 12.2, \"temp_min\": 7.2, \"wind\": 5.0, \"weather\": \"fog\"}, {\"date\": \"2013-04-07T00:00:00\", \"precipitation\": 39.1, \"temp_max\": 8.3, \"temp_min\": 5.0, \"wind\": 3.9, \"weather\": \"fog\"}, {\"date\": \"2013-04-08T00:00:00\", \"precipitation\": 0.8, \"temp_max\": 13.3, \"temp_min\": 6.1, \"wind\": 3.1, \"weather\": \"fog\"}, {\"date\": \"2013-04-09T00:00:00\", \"precipitation\": 0.0, \"temp_max\": 12.2, \"temp_min\": 6.1, \"wind\": 2.4, \"weather\": \"sun\"}, {\"date\": \"2013-04-10T00:00:00\", \"precipitation\": 9.4, \"temp_max\": 15.0, \"temp_min\": 8.9, \"wind\": 6.4, \"weather\": \"sun\"}, {\"date\": \"2013-04-11T00:00:00\", \"precipitation\": 1.5, \"temp_max\": 12.2, \"temp_min\": 6.7, \"wind\": 3.8, \"weather\": \"fog\"}, {\"date\": \"2013-04-12T00:00:00\", \"precipitation\": 9.7, \"temp_max\": 7.8, \"temp_min\": 4.4, \"wind\": 4.6, \"weather\": \"fog\"}, {\"date\": \"2013-04-13T00:00:00\", \"precipitation\": 9.4, \"temp_max\": 10.6, \"temp_min\": 3.3, \"wind\": 5.7, \"weather\": \"fog\"}, {\"date\": \"2013-04-14T00:00:00\", \"precipitation\": 5.8, \"temp_max\": 12.8, \"temp_min\": 4.4, \"wind\": 2.3, \"weather\": \"fog\"}, {\"date\": \"2013-04-15T00:00:00\", \"precipitation\": 0.0, \"temp_max\": 13.9, \"temp_min\": 4.4, \"wind\": 2.4, \"weather\": \"fog\"}, {\"date\": \"2013-04-16T00:00:00\", \"precipitation\": 0.3, \"temp_max\": 13.9, \"temp_min\": 3.3, \"wind\": 2.6, \"weather\": \"sun\"}, {\"date\": \"2013-04-17T00:00:00\", \"precipitation\": 0.0, \"temp_max\": 15.0, \"temp_min\": 3.9, \"wind\": 3.3, \"weather\": \"drizzle\"}, {\"date\": \"2013-04-18T00:00:00\", \"precipitation\": 5.3, \"temp_max\": 11.7, \"temp_min\": 6.7, \"wind\": 4.0, \"weather\": \"fog\"}, {\"date\": \"2013-04-19T00:00:00\", \"precipitation\": 20.6, \"temp_max\": 13.3, \"temp_min\": 9.4, \"wind\": 4.9, \"weather\": \"fog\"}, {\"date\": \"2013-04-20T00:00:00\", \"precipitation\": 0.0, \"temp_max\": 13.9, \"temp_min\": 8.3, \"wind\": 5.8, \"weather\": \"sun\"}, {\"date\": \"2013-04-21T00:00:00\", \"precipitation\": 3.3, \"temp_max\": 12.2, \"temp_min\": 6.7, \"wind\": 4.1, \"weather\": \"sun\"}, {\"date\": \"2013-04-22T00:00:00\", \"precipitation\": 0.0, \"temp_max\": 16.1, \"temp_min\": 5.0, \"wind\": 4.3, \"weather\": \"sun\"}, {\"date\": \"2013-04-23T00:00:00\", \"precipitation\": 0.0, \"temp_max\": 17.8, \"temp_min\": 3.9, \"wind\": 2.8, \"weather\": \"sun\"}, {\"date\": \"2013-04-24T00:00:00\", \"precipitation\": 0.0, \"temp_max\": 21.1, \"temp_min\": 6.1, \"wind\": 3.0, \"weather\": \"sun\"}, {\"date\": \"2013-04-25T00:00:00\", \"precipitation\": 0.0, \"temp_max\": 21.7, \"temp_min\": 6.7, \"wind\": 1.1, \"weather\": \"sun\"}, {\"date\": \"2013-04-26T00:00:00\", \"precipitation\": 0.0, \"temp_max\": 20.6, \"temp_min\": 8.3, \"wind\": 2.2, \"weather\": \"fog\"}, {\"date\": \"2013-04-27T00:00:00\", \"precipitation\": 0.0, \"temp_max\": 13.9, \"temp_min\": 10.6, \"wind\": 5.9, \"weather\": \"sun\"}, {\"date\": \"2013-04-28T00:00:00\", \"precipitation\": 1.0, \"temp_max\": 15.0, \"temp_min\": 9.4, \"wind\": 5.2, \"weather\": \"drizzle\"}, {\"date\": \"2013-04-29T00:00:00\", \"precipitation\": 3.8, \"temp_max\": 13.9, \"temp_min\": 6.7, \"wind\": 4.2, \"weather\": \"fog\"}, {\"date\": \"2013-04-30T00:00:00\", \"precipitation\": 0.0, \"temp_max\": 12.8, \"temp_min\": 4.4, \"wind\": 2.4, \"weather\": \"sun\"}, {\"date\": \"2013-05-01T00:00:00\", \"precipitation\": 0.0, \"temp_max\": 18.3, \"temp_min\": 3.3, \"wind\": 3.1, \"weather\": \"sun\"}, {\"date\": \"2013-05-02T00:00:00\", \"precipitation\": 0.0, \"temp_max\": 20.6, \"temp_min\": 6.7, \"wind\": 4.0, \"weather\": \"sun\"}, {\"date\": \"2013-05-03T00:00:00\", \"precipitation\": 0.0, \"temp_max\": 21.7, \"temp_min\": 9.4, \"wind\": 4.9, \"weather\": \"sun\"}, {\"date\": \"2013-05-04T00:00:00\", \"precipitation\": 0.0, \"temp_max\": 25.0, \"temp_min\": 11.1, \"wind\": 6.5, \"weather\": \"sun\"}, {\"date\": \"2013-05-05T00:00:00\", \"precipitation\": 0.0, \"temp_max\": 28.9, \"temp_min\": 11.7, \"wind\": 5.3, \"weather\": \"sun\"}, {\"date\": \"2013-05-06T00:00:00\", \"precipitation\": 0.0, \"temp_max\": 30.6, \"temp_min\": 12.2, \"wind\": 2.0, \"weather\": \"sun\"}, {\"date\": \"2013-05-07T00:00:00\", \"precipitation\": 0.0, \"temp_max\": 20.6, \"temp_min\": 11.1, \"wind\": 3.3, \"weather\": \"sun\"}, {\"date\": \"2013-05-08T00:00:00\", \"precipitation\": 0.0, \"temp_max\": 19.4, \"temp_min\": 11.1, \"wind\": 1.9, \"weather\": \"sun\"}, {\"date\": \"2013-05-09T00:00:00\", \"precipitation\": 0.0, \"temp_max\": 22.8, \"temp_min\": 10.0, \"wind\": 1.3, \"weather\": \"sun\"}, {\"date\": \"2013-05-10T00:00:00\", \"precipitation\": 0.0, \"temp_max\": 26.1, \"temp_min\": 9.4, \"wind\": 1.0, \"weather\": \"sun\"}, {\"date\": \"2013-05-11T00:00:00\", \"precipitation\": 0.0, \"temp_max\": 27.2, \"temp_min\": 12.2, \"wind\": 2.6, \"weather\": \"sun\"}, {\"date\": \"2013-05-12T00:00:00\", \"precipitation\": 6.6, \"temp_max\": 21.7, \"temp_min\": 13.9, \"wind\": 3.9, \"weather\": \"fog\"}, {\"date\": \"2013-05-13T00:00:00\", \"precipitation\": 3.3, \"temp_max\": 18.9, \"temp_min\": 9.4, \"wind\": 5.0, \"weather\": \"sun\"}, {\"date\": \"2013-05-14T00:00:00\", \"precipitation\": 0.0, \"temp_max\": 18.3, \"temp_min\": 7.8, \"wind\": 2.4, \"weather\": \"sun\"}, {\"date\": \"2013-05-15T00:00:00\", \"precipitation\": 1.0, \"temp_max\": 17.2, \"temp_min\": 8.9, \"wind\": 2.3, \"weather\": \"fog\"}, {\"date\": \"2013-05-16T00:00:00\", \"precipitation\": 0.0, \"temp_max\": 21.7, \"temp_min\": 12.2, \"wind\": 2.7, \"weather\": \"fog\"}, {\"date\": \"2013-05-17T00:00:00\", \"precipitation\": 0.5, \"temp_max\": 17.2, \"temp_min\": 11.7, \"wind\": 3.7, \"weather\": \"sun\"}, {\"date\": \"2013-05-18T00:00:00\", \"precipitation\": 0.0, \"temp_max\": 16.7, \"temp_min\": 11.1, \"wind\": 2.9, \"weather\": \"sun\"}, {\"date\": \"2013-05-19T00:00:00\", \"precipitation\": 0.0, \"temp_max\": 18.3, \"temp_min\": 10.6, \"wind\": 2.3, \"weather\": \"sun\"}, {\"date\": \"2013-05-20T00:00:00\", \"precipitation\": 0.0, \"temp_max\": 19.4, \"temp_min\": 9.4, \"wind\": 1.8, \"weather\": \"sun\"}, {\"date\": \"2013-05-21T00:00:00\", \"precipitation\": 13.7, \"temp_max\": 15.6, \"temp_min\": 8.3, \"wind\": 4.8, \"weather\": \"fog\"}, {\"date\": \"2013-05-22T00:00:00\", \"precipitation\": 13.7, \"temp_max\": 11.1, \"temp_min\": 7.2, \"wind\": 3.0, \"weather\": \"fog\"}, {\"date\": \"2013-05-23T00:00:00\", \"precipitation\": 4.1, \"temp_max\": 12.2, \"temp_min\": 6.7, \"wind\": 1.9, \"weather\": \"fog\"}, {\"date\": \"2013-05-24T00:00:00\", \"precipitation\": 0.3, \"temp_max\": 16.7, \"temp_min\": 8.9, \"wind\": 2.7, \"weather\": \"sun\"}, {\"date\": \"2013-05-25T00:00:00\", \"precipitation\": 0.0, \"temp_max\": 17.8, \"temp_min\": 10.0, \"wind\": 2.7, \"weather\": \"sun\"}, {\"date\": \"2013-05-26T00:00:00\", \"precipitation\": 1.5, \"temp_max\": 18.3, \"temp_min\": 10.6, \"wind\": 2.2, \"weather\": \"fog\"}, {\"date\": \"2013-05-27T00:00:00\", \"precipitation\": 9.7, \"temp_max\": 16.7, \"temp_min\": 11.1, \"wind\": 3.1, \"weather\": \"fog\"}, {\"date\": \"2013-05-28T00:00:00\", \"precipitation\": 0.5, \"temp_max\": 17.2, \"temp_min\": 11.7, \"wind\": 2.8, \"weather\": \"fog\"}, {\"date\": \"2013-05-29T00:00:00\", \"precipitation\": 5.6, \"temp_max\": 16.1, \"temp_min\": 9.4, \"wind\": 4.0, \"weather\": \"fog\"}, {\"date\": \"2013-05-30T00:00:00\", \"precipitation\": 0.0, \"temp_max\": 16.7, \"temp_min\": 9.4, \"wind\": 5.3, \"weather\": \"sun\"}, {\"date\": \"2013-05-31T00:00:00\", \"precipitation\": 0.0, \"temp_max\": 19.4, \"temp_min\": 11.1, \"wind\": 2.5, \"weather\": \"sun\"}, {\"date\": \"2013-06-01T00:00:00\", \"precipitation\": 0.0, \"temp_max\": 22.8, \"temp_min\": 12.2, \"wind\": 2.5, \"weather\": \"sun\"}, {\"date\": \"2013-06-02T00:00:00\", \"precipitation\": 1.0, \"temp_max\": 20.6, \"temp_min\": 12.2, \"wind\": 3.1, \"weather\": \"sun\"}, {\"date\": \"2013-06-03T00:00:00\", \"precipitation\": 0.0, \"temp_max\": 22.2, \"temp_min\": 11.1, \"wind\": 2.9, \"weather\": \"sun\"}, {\"date\": \"2013-06-04T00:00:00\", \"precipitation\": 0.0, \"temp_max\": 26.1, \"temp_min\": 12.2, \"wind\": 3.4, \"weather\": \"sun\"}, {\"date\": \"2013-06-05T00:00:00\", \"precipitation\": 0.0, \"temp_max\": 26.7, \"temp_min\": 14.4, \"wind\": 3.1, \"weather\": \"sun\"}, {\"date\": \"2013-06-06T00:00:00\", \"precipitation\": 0.0, \"temp_max\": 26.7, \"temp_min\": 12.2, \"wind\": 2.5, \"weather\": \"sun\"}, {\"date\": \"2013-06-07T00:00:00\", \"precipitation\": 0.0, \"temp_max\": 21.7, \"temp_min\": 13.3, \"wind\": 3.2, \"weather\": \"sun\"}, {\"date\": \"2013-06-08T00:00:00\", \"precipitation\": 0.0, \"temp_max\": 20.6, \"temp_min\": 12.8, \"wind\": 3.1, \"weather\": \"sun\"}, {\"date\": \"2013-06-09T00:00:00\", \"precipitation\": 0.0, \"temp_max\": 20.6, \"temp_min\": 11.1, \"wind\": 3.7, \"weather\": \"sun\"}, {\"date\": \"2013-06-10T00:00:00\", \"precipitation\": 0.0, \"temp_max\": 21.7, \"temp_min\": 11.7, \"wind\": 3.2, \"weather\": \"sun\"}, {\"date\": \"2013-06-11T00:00:00\", \"precipitation\": 0.0, \"temp_max\": 20.0, \"temp_min\": 10.0, \"wind\": 5.7, \"weather\": \"sun\"}, {\"date\": \"2013-06-12T00:00:00\", \"precipitation\": 0.3, \"temp_max\": 20.6, \"temp_min\": 11.7, \"wind\": 4.2, \"weather\": \"sun\"}, {\"date\": \"2013-06-13T00:00:00\", \"precipitation\": 0.0, \"temp_max\": 21.1, \"temp_min\": 11.7, \"wind\": 2.6, \"weather\": \"sun\"}, {\"date\": \"2013-06-14T00:00:00\", \"precipitation\": 0.0, \"temp_max\": 20.0, \"temp_min\": 12.2, \"wind\": 3.7, \"weather\": \"sun\"}, {\"date\": \"2013-06-15T00:00:00\", \"precipitation\": 0.0, \"temp_max\": 25.6, \"temp_min\": 10.0, \"wind\": 2.9, \"weather\": \"sun\"}, {\"date\": \"2013-06-16T00:00:00\", \"precipitation\": 0.0, \"temp_max\": 23.9, \"temp_min\": 12.8, \"wind\": 3.4, \"weather\": \"sun\"}, {\"date\": \"2013-06-17T00:00:00\", \"precipitation\": 0.0, \"temp_max\": 25.6, \"temp_min\": 13.9, \"wind\": 3.0, \"weather\": \"sun\"}, {\"date\": \"2013-06-18T00:00:00\", \"precipitation\": 0.3, \"temp_max\": 23.3, \"temp_min\": 13.3, \"wind\": 3.4, \"weather\": \"fog\"}, {\"date\": \"2013-06-19T00:00:00\", \"precipitation\": 0.0, \"temp_max\": 20.0, \"temp_min\": 12.8, \"wind\": 3.7, \"weather\": \"sun\"}, {\"date\": \"2013-06-20T00:00:00\", \"precipitation\": 3.0, \"temp_max\": 17.2, \"temp_min\": 12.8, \"wind\": 5.0, \"weather\": \"sun\"}, {\"date\": \"2013-06-21T00:00:00\", \"precipitation\": 0.3, \"temp_max\": 20.6, \"temp_min\": 12.2, \"wind\": 1.5, \"weather\": \"sun\"}, {\"date\": \"2013-06-22T00:00:00\", \"precipitation\": 0.0, \"temp_max\": 25.6, \"temp_min\": 11.7, \"wind\": 1.7, \"weather\": \"sun\"}, {\"date\": \"2013-06-23T00:00:00\", \"precipitation\": 7.9, \"temp_max\": 22.2, \"temp_min\": 15.0, \"wind\": 2.1, \"weather\": \"fog\"}, {\"date\": \"2013-06-24T00:00:00\", \"precipitation\": 4.8, \"temp_max\": 21.1, \"temp_min\": 13.9, \"wind\": 3.7, \"weather\": \"fog\"}, {\"date\": \"2013-06-25T00:00:00\", \"precipitation\": 9.9, \"temp_max\": 23.3, \"temp_min\": 14.4, \"wind\": 2.8, \"weather\": \"sun\"}, {\"date\": \"2013-06-26T00:00:00\", \"precipitation\": 2.0, \"temp_max\": 22.2, \"temp_min\": 15.0, \"wind\": 2.3, \"weather\": \"fog\"}, {\"date\": \"2013-06-27T00:00:00\", \"precipitation\": 3.6, \"temp_max\": 21.1, \"temp_min\": 16.7, \"wind\": 1.3, \"weather\": \"fog\"}, {\"date\": \"2013-06-28T00:00:00\", \"precipitation\": 0.0, \"temp_max\": 30.6, \"temp_min\": 16.1, \"wind\": 2.2, \"weather\": \"sun\"}, {\"date\": \"2013-06-29T00:00:00\", \"precipitation\": 0.0, \"temp_max\": 30.0, \"temp_min\": 18.3, \"wind\": 1.7, \"weather\": \"sun\"}, {\"date\": \"2013-06-30T00:00:00\", \"precipitation\": 0.0, \"temp_max\": 33.9, \"temp_min\": 17.2, \"wind\": 2.5, \"weather\": \"sun\"}, {\"date\": \"2013-07-01T00:00:00\", \"precipitation\": 0.0, \"temp_max\": 31.7, \"temp_min\": 18.3, \"wind\": 2.3, \"weather\": \"sun\"}, {\"date\": \"2013-07-02T00:00:00\", \"precipitation\": 0.0, \"temp_max\": 28.3, \"temp_min\": 15.6, \"wind\": 3.0, \"weather\": \"sun\"}, {\"date\": \"2013-07-03T00:00:00\", \"precipitation\": 0.0, \"temp_max\": 26.1, \"temp_min\": 16.7, \"wind\": 3.2, \"weather\": \"sun\"}, {\"date\": \"2013-07-04T00:00:00\", \"precipitation\": 0.0, \"temp_max\": 21.7, \"temp_min\": 13.9, \"wind\": 2.2, \"weather\": \"fog\"}, {\"date\": \"2013-07-05T00:00:00\", \"precipitation\": 0.0, \"temp_max\": 23.3, \"temp_min\": 13.9, \"wind\": 2.6, \"weather\": \"sun\"}, {\"date\": \"2013-07-06T00:00:00\", \"precipitation\": 0.0, \"temp_max\": 26.1, \"temp_min\": 13.3, \"wind\": 2.2, \"weather\": \"sun\"}, {\"date\": \"2013-07-07T00:00:00\", \"precipitation\": 0.0, \"temp_max\": 23.9, \"temp_min\": 13.9, \"wind\": 2.9, \"weather\": \"sun\"}, {\"date\": \"2013-07-08T00:00:00\", \"precipitation\": 0.0, \"temp_max\": 26.7, \"temp_min\": 13.3, \"wind\": 2.8, \"weather\": \"sun\"}, {\"date\": \"2013-07-09T00:00:00\", \"precipitation\": 0.0, \"temp_max\": 30.0, \"temp_min\": 15.0, \"wind\": 2.5, \"weather\": \"sun\"}, {\"date\": \"2013-07-10T00:00:00\", \"precipitation\": 0.0, \"temp_max\": 22.2, \"temp_min\": 13.9, \"wind\": 2.6, \"weather\": \"sun\"}, {\"date\": \"2013-07-11T00:00:00\", \"precipitation\": 0.0, \"temp_max\": 22.8, \"temp_min\": 12.2, \"wind\": 3.0, \"weather\": \"sun\"}, {\"date\": \"2013-07-12T00:00:00\", \"precipitation\": 0.0, \"temp_max\": 19.4, \"temp_min\": 13.3, \"wind\": 2.2, \"weather\": \"sun\"}, {\"date\": \"2013-07-13T00:00:00\", \"precipitation\": 0.0, \"temp_max\": 26.1, \"temp_min\": 11.1, \"wind\": 3.1, \"weather\": \"sun\"}, {\"date\": \"2013-07-14T00:00:00\", \"precipitation\": 0.0, \"temp_max\": 27.8, \"temp_min\": 12.8, \"wind\": 3.0, \"weather\": \"sun\"}, {\"date\": \"2013-07-15T00:00:00\", \"precipitation\": 0.0, \"temp_max\": 27.8, \"temp_min\": 14.4, \"wind\": 4.6, \"weather\": \"sun\"}, {\"date\": \"2013-07-16T00:00:00\", \"precipitation\": 0.0, \"temp_max\": 31.1, \"temp_min\": 18.3, \"wind\": 4.1, \"weather\": \"sun\"}, {\"date\": \"2013-07-17T00:00:00\", \"precipitation\": 0.0, \"temp_max\": 22.2, \"temp_min\": 15.0, \"wind\": 3.7, \"weather\": \"rain\"}, {\"date\": \"2013-07-18T00:00:00\", \"precipitation\": 0.0, \"temp_max\": 26.1, \"temp_min\": 13.9, \"wind\": 2.0, \"weather\": \"sun\"}, {\"date\": \"2013-07-19T00:00:00\", \"precipitation\": 0.0, \"temp_max\": 27.8, \"temp_min\": 13.3, \"wind\": 1.9, \"weather\": \"sun\"}, {\"date\": \"2013-07-20T00:00:00\", \"precipitation\": 0.0, \"temp_max\": 25.0, \"temp_min\": 13.3, \"wind\": 2.0, \"weather\": \"sun\"}, {\"date\": \"2013-07-21T00:00:00\", \"precipitation\": 0.0, \"temp_max\": 23.9, \"temp_min\": 12.8, \"wind\": 2.3, \"weather\": \"sun\"}, {\"date\": \"2013-07-22T00:00:00\", \"precipitation\": 0.0, \"temp_max\": 26.1, \"temp_min\": 13.3, \"wind\": 2.4, \"weather\": \"fog\"}, {\"date\": \"2013-07-23T00:00:00\", \"precipitation\": 0.0, \"temp_max\": 31.1, \"temp_min\": 13.9, \"wind\": 3.0, \"weather\": \"sun\"}, {\"date\": \"2013-07-24T00:00:00\", \"precipitation\": 0.0, \"temp_max\": 31.1, \"temp_min\": 14.4, \"wind\": 2.5, \"weather\": \"sun\"}, {\"date\": \"2013-07-25T00:00:00\", \"precipitation\": 0.0, \"temp_max\": 31.1, \"temp_min\": 12.8, \"wind\": 2.3, \"weather\": \"sun\"}, {\"date\": \"2013-07-26T00:00:00\", \"precipitation\": 0.0, \"temp_max\": 31.1, \"temp_min\": 14.4, \"wind\": 2.9, \"weather\": \"sun\"}, {\"date\": \"2013-07-27T00:00:00\", \"precipitation\": 0.0, \"temp_max\": 25.6, \"temp_min\": 12.8, \"wind\": 2.6, \"weather\": \"sun\"}, {\"date\": \"2013-07-28T00:00:00\", \"precipitation\": 0.0, \"temp_max\": 21.1, \"temp_min\": 12.2, \"wind\": 3.4, \"weather\": \"fog\"}, {\"date\": \"2013-07-29T00:00:00\", \"precipitation\": 0.0, \"temp_max\": 25.0, \"temp_min\": 13.3, \"wind\": 1.4, \"weather\": \"sun\"}, {\"date\": \"2013-07-30T00:00:00\", \"precipitation\": 0.0, \"temp_max\": 25.0, \"temp_min\": 13.3, \"wind\": 2.8, \"weather\": \"sun\"}, {\"date\": \"2013-07-31T00:00:00\", \"precipitation\": 0.0, \"temp_max\": 21.7, \"temp_min\": 13.3, \"wind\": 1.8, \"weather\": \"sun\"}, {\"date\": \"2013-08-01T00:00:00\", \"precipitation\": 0.0, \"temp_max\": 20.6, \"temp_min\": 13.3, \"wind\": 3.9, \"weather\": \"sun\"}, {\"date\": \"2013-08-02T00:00:00\", \"precipitation\": 2.0, \"temp_max\": 17.2, \"temp_min\": 15.0, \"wind\": 2.0, \"weather\": \"sun\"}, {\"date\": \"2013-08-03T00:00:00\", \"precipitation\": 0.0, \"temp_max\": 25.0, \"temp_min\": 15.6, \"wind\": 2.4, \"weather\": \"fog\"}, {\"date\": \"2013-08-04T00:00:00\", \"precipitation\": 0.0, \"temp_max\": 28.9, \"temp_min\": 15.0, \"wind\": 3.4, \"weather\": \"sun\"}, {\"date\": \"2013-08-05T00:00:00\", \"precipitation\": 0.0, \"temp_max\": 30.0, \"temp_min\": 15.0, \"wind\": 2.1, \"weather\": \"sun\"}, {\"date\": \"2013-08-06T00:00:00\", \"precipitation\": 0.0, \"temp_max\": 30.6, \"temp_min\": 13.9, \"wind\": 1.4, \"weather\": \"sun\"}, {\"date\": \"2013-08-07T00:00:00\", \"precipitation\": 0.0, \"temp_max\": 31.1, \"temp_min\": 13.9, \"wind\": 1.9, \"weather\": \"sun\"}, {\"date\": \"2013-08-08T00:00:00\", \"precipitation\": 0.0, \"temp_max\": 28.3, \"temp_min\": 14.4, \"wind\": 2.5, \"weather\": \"sun\"}, {\"date\": \"2013-08-09T00:00:00\", \"precipitation\": 0.0, \"temp_max\": 28.3, \"temp_min\": 14.4, \"wind\": 2.1, \"weather\": \"rain\"}, {\"date\": \"2013-08-10T00:00:00\", \"precipitation\": 2.3, \"temp_max\": 25.6, \"temp_min\": 15.0, \"wind\": 2.9, \"weather\": \"sun\"}, {\"date\": \"2013-08-11T00:00:00\", \"precipitation\": 0.0, \"temp_max\": 25.0, \"temp_min\": 14.4, \"wind\": 2.9, \"weather\": \"sun\"}, {\"date\": \"2013-08-12T00:00:00\", \"precipitation\": 0.0, \"temp_max\": 25.6, \"temp_min\": 16.1, \"wind\": 1.9, \"weather\": \"sun\"}, {\"date\": \"2013-08-13T00:00:00\", \"precipitation\": 0.0, \"temp_max\": 27.8, \"temp_min\": 15.0, \"wind\": 1.8, \"weather\": \"sun\"}, {\"date\": \"2013-08-14T00:00:00\", \"precipitation\": 0.8, \"temp_max\": 27.2, \"temp_min\": 15.0, \"wind\": 2.0, \"weather\": \"sun\"}, {\"date\": \"2013-08-15T00:00:00\", \"precipitation\": 1.8, \"temp_max\": 21.1, \"temp_min\": 17.2, \"wind\": 1.0, \"weather\": \"sun\"}, {\"date\": \"2013-08-16T00:00:00\", \"precipitation\": 0.0, \"temp_max\": 28.9, \"temp_min\": 16.1, \"wind\": 2.2, \"weather\": \"fog\"}, {\"date\": \"2013-08-17T00:00:00\", \"precipitation\": 0.0, \"temp_max\": 25.6, \"temp_min\": 17.2, \"wind\": 3.0, \"weather\": \"sun\"}, {\"date\": \"2013-08-18T00:00:00\", \"precipitation\": 0.0, \"temp_max\": 26.1, \"temp_min\": 15.6, \"wind\": 3.1, \"weather\": \"sun\"}, {\"date\": \"2013-08-19T00:00:00\", \"precipitation\": 0.0, \"temp_max\": 26.7, \"temp_min\": 15.6, \"wind\": 3.0, \"weather\": \"sun\"}, {\"date\": \"2013-08-20T00:00:00\", \"precipitation\": 0.0, \"temp_max\": 25.6, \"temp_min\": 16.1, \"wind\": 4.6, \"weather\": \"sun\"}, {\"date\": \"2013-08-21T00:00:00\", \"precipitation\": 0.0, \"temp_max\": 27.8, \"temp_min\": 15.0, \"wind\": 4.3, \"weather\": \"sun\"}, {\"date\": \"2013-08-22T00:00:00\", \"precipitation\": 0.0, \"temp_max\": 28.9, \"temp_min\": 15.0, \"wind\": 1.9, \"weather\": \"sun\"}, {\"date\": \"2013-08-23T00:00:00\", \"precipitation\": 0.0, \"temp_max\": 25.0, \"temp_min\": 16.1, \"wind\": 4.1, \"weather\": \"sun\"}, {\"date\": \"2013-08-24T00:00:00\", \"precipitation\": 0.0, \"temp_max\": 25.0, \"temp_min\": 16.7, \"wind\": 2.7, \"weather\": \"sun\"}, {\"date\": \"2013-08-25T00:00:00\", \"precipitation\": 0.3, \"temp_max\": 22.2, \"temp_min\": 16.1, \"wind\": 2.6, \"weather\": \"sun\"}, {\"date\": \"2013-08-26T00:00:00\", \"precipitation\": 1.0, \"temp_max\": 24.4, \"temp_min\": 16.1, \"wind\": 1.9, \"weather\": \"sun\"}, {\"date\": \"2013-08-27T00:00:00\", \"precipitation\": 1.3, \"temp_max\": 26.7, \"temp_min\": 17.2, \"wind\": 1.4, \"weather\": \"sun\"}, {\"date\": \"2013-08-28T00:00:00\", \"precipitation\": 5.6, \"temp_max\": 26.7, \"temp_min\": 15.6, \"wind\": 1.3, \"weather\": \"fog\"}, {\"date\": \"2013-08-29T00:00:00\", \"precipitation\": 19.3, \"temp_max\": 23.9, \"temp_min\": 18.3, \"wind\": 3.0, \"weather\": \"sun\"}, {\"date\": \"2013-08-30T00:00:00\", \"precipitation\": 0.0, \"temp_max\": 26.1, \"temp_min\": 16.1, \"wind\": 2.9, \"weather\": \"sun\"}, {\"date\": \"2013-08-31T00:00:00\", \"precipitation\": 0.0, \"temp_max\": 27.8, \"temp_min\": 13.9, \"wind\": 2.6, \"weather\": \"sun\"}, {\"date\": \"2013-09-01T00:00:00\", \"precipitation\": 0.0, \"temp_max\": 27.8, \"temp_min\": 15.6, \"wind\": 2.5, \"weather\": \"sun\"}, {\"date\": \"2013-09-02T00:00:00\", \"precipitation\": 0.0, \"temp_max\": 27.8, \"temp_min\": 17.2, \"wind\": 2.1, \"weather\": \"sun\"}, {\"date\": \"2013-09-03T00:00:00\", \"precipitation\": 2.3, \"temp_max\": 25.0, \"temp_min\": 16.7, \"wind\": 1.7, \"weather\": \"fog\"}, {\"date\": \"2013-09-04T00:00:00\", \"precipitation\": 0.3, \"temp_max\": 22.8, \"temp_min\": 16.1, \"wind\": 2.4, \"weather\": \"fog\"}, {\"date\": \"2013-09-05T00:00:00\", \"precipitation\": 27.7, \"temp_max\": 20.0, \"temp_min\": 15.6, \"wind\": 2.5, \"weather\": \"sun\"}, {\"date\": \"2013-09-06T00:00:00\", \"precipitation\": 21.3, \"temp_max\": 21.7, \"temp_min\": 16.1, \"wind\": 2.6, \"weather\": \"fog\"}, {\"date\": \"2013-09-07T00:00:00\", \"precipitation\": 0.0, \"temp_max\": 23.3, \"temp_min\": 17.2, \"wind\": 2.0, \"weather\": \"sun\"}, {\"date\": \"2013-09-08T00:00:00\", \"precipitation\": 0.0, \"temp_max\": 26.7, \"temp_min\": 14.4, \"wind\": 1.5, \"weather\": \"fog\"}, {\"date\": \"2013-09-09T00:00:00\", \"precipitation\": 0.0, \"temp_max\": 26.1, \"temp_min\": 13.9, \"wind\": 2.1, \"weather\": \"sun\"}, {\"date\": \"2013-09-10T00:00:00\", \"precipitation\": 0.0, \"temp_max\": 26.7, \"temp_min\": 15.0, \"wind\": 3.7, \"weather\": \"sun\"}, {\"date\": \"2013-09-11T00:00:00\", \"precipitation\": 0.0, \"temp_max\": 33.9, \"temp_min\": 16.1, \"wind\": 2.4, \"weather\": \"sun\"}, {\"date\": \"2013-09-12T00:00:00\", \"precipitation\": 0.0, \"temp_max\": 25.6, \"temp_min\": 15.0, \"wind\": 1.7, \"weather\": \"sun\"}, {\"date\": \"2013-09-13T00:00:00\", \"precipitation\": 0.0, \"temp_max\": 18.9, \"temp_min\": 15.6, \"wind\": 2.0, \"weather\": \"sun\"}, {\"date\": \"2013-09-14T00:00:00\", \"precipitation\": 0.0, \"temp_max\": 21.7, \"temp_min\": 15.6, \"wind\": 1.4, \"weather\": \"fog\"}, {\"date\": \"2013-09-15T00:00:00\", \"precipitation\": 3.3, \"temp_max\": 18.9, \"temp_min\": 14.4, \"wind\": 2.2, \"weather\": \"sun\"}, {\"date\": \"2013-09-16T00:00:00\", \"precipitation\": 0.3, \"temp_max\": 21.7, \"temp_min\": 15.0, \"wind\": 4.3, \"weather\": \"fog\"}, {\"date\": \"2013-09-17T00:00:00\", \"precipitation\": 0.0, \"temp_max\": 17.8, \"temp_min\": 13.9, \"wind\": 2.3, \"weather\": \"sun\"}, {\"date\": \"2013-09-18T00:00:00\", \"precipitation\": 0.0, \"temp_max\": 21.1, \"temp_min\": 13.3, \"wind\": 2.5, \"weather\": \"sun\"}, {\"date\": \"2013-09-19T00:00:00\", \"precipitation\": 0.0, \"temp_max\": 25.6, \"temp_min\": 10.0, \"wind\": 1.5, \"weather\": \"sun\"}, {\"date\": \"2013-09-20T00:00:00\", \"precipitation\": 3.6, \"temp_max\": 23.3, \"temp_min\": 13.3, \"wind\": 3.0, \"weather\": \"fog\"}, {\"date\": \"2013-09-21T00:00:00\", \"precipitation\": 0.0, \"temp_max\": 21.1, \"temp_min\": 13.3, \"wind\": 2.5, \"weather\": \"sun\"}, {\"date\": \"2013-09-22T00:00:00\", \"precipitation\": 13.5, \"temp_max\": 17.2, \"temp_min\": 13.3, \"wind\": 5.5, \"weather\": \"fog\"}, {\"date\": \"2013-09-23T00:00:00\", \"precipitation\": 2.8, \"temp_max\": 16.1, \"temp_min\": 11.1, \"wind\": 4.5, \"weather\": \"fog\"}, {\"date\": \"2013-09-24T00:00:00\", \"precipitation\": 0.0, \"temp_max\": 17.8, \"temp_min\": 10.0, \"wind\": 2.6, \"weather\": \"sun\"}, {\"date\": \"2013-09-25T00:00:00\", \"precipitation\": 2.0, \"temp_max\": 16.1, \"temp_min\": 9.4, \"wind\": 3.0, \"weather\": \"fog\"}, {\"date\": \"2013-09-26T00:00:00\", \"precipitation\": 0.0, \"temp_max\": 17.2, \"temp_min\": 7.2, \"wind\": 2.2, \"weather\": \"sun\"}, {\"date\": \"2013-09-27T00:00:00\", \"precipitation\": 1.0, \"temp_max\": 13.9, \"temp_min\": 10.6, \"wind\": 4.3, \"weather\": \"fog\"}, {\"date\": \"2013-09-28T00:00:00\", \"precipitation\": 43.4, \"temp_max\": 16.7, \"temp_min\": 11.7, \"wind\": 6.0, \"weather\": \"fog\"}, {\"date\": \"2013-09-29T00:00:00\", \"precipitation\": 16.8, \"temp_max\": 14.4, \"temp_min\": 11.1, \"wind\": 7.1, \"weather\": \"sun\"}, {\"date\": \"2013-09-30T00:00:00\", \"precipitation\": 18.5, \"temp_max\": 13.9, \"temp_min\": 10.0, \"wind\": 6.3, \"weather\": \"fog\"}, {\"date\": \"2013-10-01T00:00:00\", \"precipitation\": 7.9, \"temp_max\": 14.4, \"temp_min\": 8.9, \"wind\": 4.7, \"weather\": \"fog\"}, {\"date\": \"2013-10-02T00:00:00\", \"precipitation\": 5.3, \"temp_max\": 12.8, \"temp_min\": 9.4, \"wind\": 2.4, \"weather\": \"fog\"}, {\"date\": \"2013-10-03T00:00:00\", \"precipitation\": 0.8, \"temp_max\": 14.4, \"temp_min\": 8.9, \"wind\": 0.9, \"weather\": \"fog\"}, {\"date\": \"2013-10-04T00:00:00\", \"precipitation\": 0.0, \"temp_max\": 17.8, \"temp_min\": 5.6, \"wind\": 1.1, \"weather\": \"sun\"}, {\"date\": \"2013-10-05T00:00:00\", \"precipitation\": 0.0, \"temp_max\": 20.0, \"temp_min\": 8.3, \"wind\": 1.6, \"weather\": \"sun\"}, {\"date\": \"2013-10-06T00:00:00\", \"precipitation\": 4.1, \"temp_max\": 22.8, \"temp_min\": 7.8, \"wind\": 2.6, \"weather\": \"fog\"}, {\"date\": \"2013-10-07T00:00:00\", \"precipitation\": 0.5, \"temp_max\": 16.1, \"temp_min\": 11.7, \"wind\": 6.3, \"weather\": \"fog\"}, {\"date\": \"2013-10-08T00:00:00\", \"precipitation\": 6.9, \"temp_max\": 13.9, \"temp_min\": 7.8, \"wind\": 3.0, \"weather\": \"rain\"}, {\"date\": \"2013-10-09T00:00:00\", \"precipitation\": 0.0, \"temp_max\": 15.0, \"temp_min\": 5.6, \"wind\": 1.6, \"weather\": \"sun\"}, {\"date\": \"2013-10-10T00:00:00\", \"precipitation\": 1.0, \"temp_max\": 14.4, \"temp_min\": 8.3, \"wind\": 1.7, \"weather\": \"fog\"}, {\"date\": \"2013-10-11T00:00:00\", \"precipitation\": 9.1, \"temp_max\": 13.9, \"temp_min\": 10.6, \"wind\": 1.0, \"weather\": \"sun\"}, {\"date\": \"2013-10-12T00:00:00\", \"precipitation\": 1.0, \"temp_max\": 14.4, \"temp_min\": 8.9, \"wind\": 2.2, \"weather\": \"fog\"}, {\"date\": \"2013-10-13T00:00:00\", \"precipitation\": 0.0, \"temp_max\": 15.0, \"temp_min\": 6.7, \"wind\": 1.8, \"weather\": \"fog\"}, {\"date\": \"2013-10-14T00:00:00\", \"precipitation\": 0.0, \"temp_max\": 15.6, \"temp_min\": 3.9, \"wind\": 1.6, \"weather\": \"sun\"}, {\"date\": \"2013-10-15T00:00:00\", \"precipitation\": 0.0, \"temp_max\": 15.6, \"temp_min\": 5.0, \"wind\": 0.9, \"weather\": \"sun\"}, {\"date\": \"2013-10-16T00:00:00\", \"precipitation\": 0.0, \"temp_max\": 12.8, \"temp_min\": 8.9, \"wind\": 2.7, \"weather\": \"fog\"}, {\"date\": \"2013-10-17T00:00:00\", \"precipitation\": 0.0, \"temp_max\": 14.4, \"temp_min\": 8.9, \"wind\": 1.7, \"weather\": \"fog\"}, {\"date\": \"2013-10-18T00:00:00\", \"precipitation\": 0.0, \"temp_max\": 12.8, \"temp_min\": 7.2, \"wind\": 1.2, \"weather\": \"sun\"}, {\"date\": \"2013-10-19T00:00:00\", \"precipitation\": 0.0, \"temp_max\": 10.6, \"temp_min\": 7.8, \"wind\": 1.4, \"weather\": \"sun\"}, {\"date\": \"2013-10-20T00:00:00\", \"precipitation\": 0.0, \"temp_max\": 10.6, \"temp_min\": 7.8, \"wind\": 2.4, \"weather\": \"sun\"}, {\"date\": \"2013-10-21T00:00:00\", \"precipitation\": 0.0, \"temp_max\": 11.7, \"temp_min\": 8.3, \"wind\": 2.5, \"weather\": \"sun\"}, {\"date\": \"2013-10-22T00:00:00\", \"precipitation\": 0.0, \"temp_max\": 14.4, \"temp_min\": 7.2, \"wind\": 1.9, \"weather\": \"sun\"}, {\"date\": \"2013-10-23T00:00:00\", \"precipitation\": 0.0, \"temp_max\": 12.8, \"temp_min\": 6.1, \"wind\": 0.4, \"weather\": \"sun\"}, {\"date\": \"2013-10-24T00:00:00\", \"precipitation\": 0.0, \"temp_max\": 10.0, \"temp_min\": 6.1, \"wind\": 0.6, \"weather\": \"sun\"}, {\"date\": \"2013-10-25T00:00:00\", \"precipitation\": 0.0, \"temp_max\": 12.2, \"temp_min\": 7.8, \"wind\": 1.8, \"weather\": \"sun\"}, {\"date\": \"2013-10-26T00:00:00\", \"precipitation\": 0.0, \"temp_max\": 11.7, \"temp_min\": 8.3, \"wind\": 2.7, \"weather\": \"sun\"}, {\"date\": \"2013-10-27T00:00:00\", \"precipitation\": 1.8, \"temp_max\": 13.9, \"temp_min\": 8.3, \"wind\": 4.4, \"weather\": \"fog\"}, {\"date\": \"2013-10-28T00:00:00\", \"precipitation\": 0.0, \"temp_max\": 14.4, \"temp_min\": 7.2, \"wind\": 5.1, \"weather\": \"sun\"}, {\"date\": \"2013-10-29T00:00:00\", \"precipitation\": 0.0, \"temp_max\": 13.3, \"temp_min\": 3.3, \"wind\": 2.2, \"weather\": \"sun\"}, {\"date\": \"2013-10-30T00:00:00\", \"precipitation\": 0.5, \"temp_max\": 15.0, \"temp_min\": 5.6, \"wind\": 3.9, \"weather\": \"sun\"}, {\"date\": \"2013-10-31T00:00:00\", \"precipitation\": 0.3, \"temp_max\": 14.4, \"temp_min\": 10.6, \"wind\": 2.2, \"weather\": \"fog\"}, {\"date\": \"2013-11-01T00:00:00\", \"precipitation\": 1.3, \"temp_max\": 17.8, \"temp_min\": 11.7, \"wind\": 1.4, \"weather\": \"sun\"}, {\"date\": \"2013-11-02T00:00:00\", \"precipitation\": 12.7, \"temp_max\": 14.4, \"temp_min\": 8.3, \"wind\": 7.9, \"weather\": \"fog\"}, {\"date\": \"2013-11-03T00:00:00\", \"precipitation\": 0.5, \"temp_max\": 12.2, \"temp_min\": 4.4, \"wind\": 2.4, \"weather\": \"sun\"}, {\"date\": \"2013-11-04T00:00:00\", \"precipitation\": 0.0, \"temp_max\": 10.6, \"temp_min\": 3.9, \"wind\": 1.6, \"weather\": \"drizzle\"}, {\"date\": \"2013-11-05T00:00:00\", \"precipitation\": 2.5, \"temp_max\": 13.3, \"temp_min\": 7.2, \"wind\": 3.1, \"weather\": \"fog\"}, {\"date\": \"2013-11-06T00:00:00\", \"precipitation\": 3.8, \"temp_max\": 12.8, \"temp_min\": 7.8, \"wind\": 1.7, \"weather\": \"sun\"}, {\"date\": \"2013-11-07T00:00:00\", \"precipitation\": 30.0, \"temp_max\": 11.1, \"temp_min\": 10.0, \"wind\": 7.2, \"weather\": \"fog\"}, {\"date\": \"2013-11-08T00:00:00\", \"precipitation\": 0.0, \"temp_max\": 13.3, \"temp_min\": 7.2, \"wind\": 4.1, \"weather\": \"sun\"}, {\"date\": \"2013-11-09T00:00:00\", \"precipitation\": 1.8, \"temp_max\": 11.1, \"temp_min\": 5.0, \"wind\": 1.4, \"weather\": \"sun\"}, {\"date\": \"2013-11-10T00:00:00\", \"precipitation\": 0.0, \"temp_max\": 11.1, \"temp_min\": 8.3, \"wind\": 4.4, \"weather\": \"sun\"}, {\"date\": \"2013-11-11T00:00:00\", \"precipitation\": 0.0, \"temp_max\": 16.1, \"temp_min\": 6.1, \"wind\": 2.6, \"weather\": \"fog\"}, {\"date\": \"2013-11-12T00:00:00\", \"precipitation\": 4.1, \"temp_max\": 15.6, \"temp_min\": 8.9, \"wind\": 2.2, \"weather\": \"fog\"}, {\"date\": \"2013-11-13T00:00:00\", \"precipitation\": 0.0, \"temp_max\": 13.9, \"temp_min\": 10.6, \"wind\": 3.8, \"weather\": \"sun\"}, {\"date\": \"2013-11-14T00:00:00\", \"precipitation\": 1.3, \"temp_max\": 11.1, \"temp_min\": 6.1, \"wind\": 1.1, \"weather\": \"fog\"}, {\"date\": \"2013-11-15T00:00:00\", \"precipitation\": 3.0, \"temp_max\": 10.6, \"temp_min\": 7.2, \"wind\": 6.0, \"weather\": \"sun\"}, {\"date\": \"2013-11-16T00:00:00\", \"precipitation\": 0.0, \"temp_max\": 10.0, \"temp_min\": 5.0, \"wind\": 4.6, \"weather\": \"sun\"}, {\"date\": \"2013-11-17T00:00:00\", \"precipitation\": 5.3, \"temp_max\": 11.7, \"temp_min\": 7.2, \"wind\": 5.4, \"weather\": \"fog\"}, {\"date\": \"2013-11-18T00:00:00\", \"precipitation\": 26.2, \"temp_max\": 12.8, \"temp_min\": 9.4, \"wind\": 3.9, \"weather\": \"fog\"}, {\"date\": \"2013-11-19T00:00:00\", \"precipitation\": 1.0, \"temp_max\": 13.3, \"temp_min\": 4.4, \"wind\": 5.1, \"weather\": \"fog\"}, {\"date\": \"2013-11-20T00:00:00\", \"precipitation\": 0.0, \"temp_max\": 7.8, \"temp_min\": 1.7, \"wind\": 4.3, \"weather\": \"sun\"}, {\"date\": \"2013-11-21T00:00:00\", \"precipitation\": 0.0, \"temp_max\": 7.8, \"temp_min\": -0.5, \"wind\": 3.6, \"weather\": \"sun\"}, {\"date\": \"2013-11-22T00:00:00\", \"precipitation\": 0.0, \"temp_max\": 9.4, \"temp_min\": 0.0, \"wind\": 4.6, \"weather\": \"sun\"}, {\"date\": \"2013-11-23T00:00:00\", \"precipitation\": 0.0, \"temp_max\": 11.1, \"temp_min\": 1.1, \"wind\": 2.6, \"weather\": \"sun\"}, {\"date\": \"2013-11-24T00:00:00\", \"precipitation\": 0.0, \"temp_max\": 11.7, \"temp_min\": 0.6, \"wind\": 0.9, \"weather\": \"fog\"}, {\"date\": \"2013-11-25T00:00:00\", \"precipitation\": 0.0, \"temp_max\": 12.2, \"temp_min\": 2.2, \"wind\": 0.5, \"weather\": \"sun\"}, {\"date\": \"2013-11-26T00:00:00\", \"precipitation\": 0.0, \"temp_max\": 12.2, \"temp_min\": 2.8, \"wind\": 1.0, \"weather\": \"sun\"}, {\"date\": \"2013-11-27T00:00:00\", \"precipitation\": 0.0, \"temp_max\": 14.4, \"temp_min\": 5.6, \"wind\": 1.3, \"weather\": \"sun\"}, {\"date\": \"2013-11-28T00:00:00\", \"precipitation\": 0.0, \"temp_max\": 11.7, \"temp_min\": 3.3, \"wind\": 0.7, \"weather\": \"sun\"}, {\"date\": \"2013-11-29T00:00:00\", \"precipitation\": 0.5, \"temp_max\": 9.4, \"temp_min\": 5.0, \"wind\": 2.1, \"weather\": \"fog\"}, {\"date\": \"2013-11-30T00:00:00\", \"precipitation\": 2.3, \"temp_max\": 11.1, \"temp_min\": 7.2, \"wind\": 3.9, \"weather\": \"fog\"}, {\"date\": \"2013-12-01T00:00:00\", \"precipitation\": 3.0, \"temp_max\": 13.3, \"temp_min\": 7.8, \"wind\": 8.8, \"weather\": \"fog\"}, {\"date\": \"2013-12-02T00:00:00\", \"precipitation\": 4.6, \"temp_max\": 7.8, \"temp_min\": 1.7, \"wind\": 3.5, \"weather\": \"sun\"}, {\"date\": \"2013-12-03T00:00:00\", \"precipitation\": 0.0, \"temp_max\": 5.0, \"temp_min\": -0.5, \"wind\": 5.6, \"weather\": \"sun\"}, {\"date\": \"2013-12-04T00:00:00\", \"precipitation\": 0.0, \"temp_max\": 4.4, \"temp_min\": -2.1, \"wind\": 1.6, \"weather\": \"sun\"}, {\"date\": \"2013-12-05T00:00:00\", \"precipitation\": 0.0, \"temp_max\": 1.1, \"temp_min\": -4.9, \"wind\": 2.6, \"weather\": \"sun\"}, {\"date\": \"2013-12-06T00:00:00\", \"precipitation\": 0.0, \"temp_max\": 1.1, \"temp_min\": -4.3, \"wind\": 4.7, \"weather\": \"sun\"}, {\"date\": \"2013-12-07T00:00:00\", \"precipitation\": 0.0, \"temp_max\": 0.0, \"temp_min\": -7.1, \"wind\": 3.1, \"weather\": \"sun\"}, {\"date\": \"2013-12-08T00:00:00\", \"precipitation\": 0.0, \"temp_max\": 2.2, \"temp_min\": -6.6, \"wind\": 2.2, \"weather\": \"sun\"}, {\"date\": \"2013-12-09T00:00:00\", \"precipitation\": 0.0, \"temp_max\": 1.1, \"temp_min\": -4.9, \"wind\": 1.3, \"weather\": \"sun\"}, {\"date\": \"2013-12-10T00:00:00\", \"precipitation\": 0.0, \"temp_max\": 5.6, \"temp_min\": 0.6, \"wind\": 1.5, \"weather\": \"sun\"}, {\"date\": \"2013-12-11T00:00:00\", \"precipitation\": 0.0, \"temp_max\": 5.0, \"temp_min\": -1.6, \"wind\": 0.8, \"weather\": \"sun\"}, {\"date\": \"2013-12-12T00:00:00\", \"precipitation\": 6.9, \"temp_max\": 5.6, \"temp_min\": -0.5, \"wind\": 2.3, \"weather\": \"sun\"}, {\"date\": \"2013-12-13T00:00:00\", \"precipitation\": 0.5, \"temp_max\": 9.4, \"temp_min\": 5.6, \"wind\": 2.9, \"weather\": \"fog\"}, {\"date\": \"2013-12-14T00:00:00\", \"precipitation\": 0.0, \"temp_max\": 9.4, \"temp_min\": 6.1, \"wind\": 3.7, \"weather\": \"sun\"}, {\"date\": \"2013-12-15T00:00:00\", \"precipitation\": 1.3, \"temp_max\": 11.7, \"temp_min\": 8.3, \"wind\": 3.9, \"weather\": \"fog\"}, {\"date\": \"2013-12-16T00:00:00\", \"precipitation\": 0.3, \"temp_max\": 10.0, \"temp_min\": 4.4, \"wind\": 1.0, \"weather\": \"sun\"}, {\"date\": \"2013-12-17T00:00:00\", \"precipitation\": 0.0, \"temp_max\": 8.3, \"temp_min\": 4.4, \"wind\": 2.7, \"weather\": \"sun\"}, {\"date\": \"2013-12-18T00:00:00\", \"precipitation\": 1.3, \"temp_max\": 7.8, \"temp_min\": 2.2, \"wind\": 2.8, \"weather\": \"fog\"}, {\"date\": \"2013-12-19T00:00:00\", \"precipitation\": 0.0, \"temp_max\": 5.0, \"temp_min\": 0.0, \"wind\": 2.1, \"weather\": \"sun\"}, {\"date\": \"2013-12-20T00:00:00\", \"precipitation\": 5.6, \"temp_max\": 8.3, \"temp_min\": 0.6, \"wind\": 3.7, \"weather\": \"fog\"}, {\"date\": \"2013-12-21T00:00:00\", \"precipitation\": 5.6, \"temp_max\": 8.9, \"temp_min\": 5.6, \"wind\": 2.3, \"weather\": \"fog\"}, {\"date\": \"2013-12-22T00:00:00\", \"precipitation\": 10.7, \"temp_max\": 10.6, \"temp_min\": 8.3, \"wind\": 4.0, \"weather\": \"fog\"}, {\"date\": \"2013-12-23T00:00:00\", \"precipitation\": 1.5, \"temp_max\": 11.7, \"temp_min\": 6.1, \"wind\": 5.9, \"weather\": \"fog\"}, {\"date\": \"2013-12-24T00:00:00\", \"precipitation\": 0.0, \"temp_max\": 8.3, \"temp_min\": 2.8, \"wind\": 1.7, \"weather\": \"sun\"}, {\"date\": \"2013-12-25T00:00:00\", \"precipitation\": 0.0, \"temp_max\": 6.7, \"temp_min\": 1.7, \"wind\": 0.8, \"weather\": \"sun\"}, {\"date\": \"2013-12-26T00:00:00\", \"precipitation\": 0.0, \"temp_max\": 6.7, \"temp_min\": 0.6, \"wind\": 0.5, \"weather\": \"sun\"}, {\"date\": \"2013-12-27T00:00:00\", \"precipitation\": 0.3, \"temp_max\": 8.9, \"temp_min\": 0.0, \"wind\": 2.1, \"weather\": \"fog\"}, {\"date\": \"2013-12-28T00:00:00\", \"precipitation\": 0.0, \"temp_max\": 9.4, \"temp_min\": 3.3, \"wind\": 1.3, \"weather\": \"sun\"}, {\"date\": \"2013-12-29T00:00:00\", \"precipitation\": 0.0, \"temp_max\": 7.2, \"temp_min\": 1.7, \"wind\": 1.1, \"weather\": \"sun\"}, {\"date\": \"2013-12-30T00:00:00\", \"precipitation\": 0.3, \"temp_max\": 8.9, \"temp_min\": 4.4, \"wind\": 2.6, \"weather\": \"sun\"}, {\"date\": \"2013-12-31T00:00:00\", \"precipitation\": 0.5, \"temp_max\": 8.3, \"temp_min\": 5.0, \"wind\": 1.7, \"weather\": \"sun\"}, {\"date\": \"2014-01-01T00:00:00\", \"precipitation\": 0.0, \"temp_max\": 7.2, \"temp_min\": 3.3, \"wind\": 1.2, \"weather\": \"sun\"}, {\"date\": \"2014-01-02T00:00:00\", \"precipitation\": 4.1, \"temp_max\": 10.6, \"temp_min\": 6.1, \"wind\": 3.2, \"weather\": \"sun\"}, {\"date\": \"2014-01-03T00:00:00\", \"precipitation\": 1.5, \"temp_max\": 8.9, \"temp_min\": 2.8, \"wind\": 2.6, \"weather\": \"fog\"}, {\"date\": \"2014-01-04T00:00:00\", \"precipitation\": 0.0, \"temp_max\": 7.8, \"temp_min\": 0.6, \"wind\": 2.7, \"weather\": \"fog\"}, {\"date\": \"2014-01-05T00:00:00\", \"precipitation\": 0.0, \"temp_max\": 8.3, \"temp_min\": -0.5, \"wind\": 3.7, \"weather\": \"sun\"}, {\"date\": \"2014-01-06T00:00:00\", \"precipitation\": 0.3, \"temp_max\": 7.8, \"temp_min\": -0.5, \"wind\": 2.6, \"weather\": \"fog\"}, {\"date\": \"2014-01-07T00:00:00\", \"precipitation\": 12.2, \"temp_max\": 8.3, \"temp_min\": 5.0, \"wind\": 1.6, \"weather\": \"sun\"}, {\"date\": \"2014-01-08T00:00:00\", \"precipitation\": 9.7, \"temp_max\": 10.0, \"temp_min\": 7.2, \"wind\": 4.6, \"weather\": \"fog\"}, {\"date\": \"2014-01-09T00:00:00\", \"precipitation\": 5.8, \"temp_max\": 9.4, \"temp_min\": 5.6, \"wind\": 6.3, \"weather\": \"fog\"}, {\"date\": \"2014-01-10T00:00:00\", \"precipitation\": 4.3, \"temp_max\": 12.8, \"temp_min\": 8.3, \"wind\": 7.0, \"weather\": \"sun\"}, {\"date\": \"2014-01-11T00:00:00\", \"precipitation\": 21.3, \"temp_max\": 14.4, \"temp_min\": 7.2, \"wind\": 8.8, \"weather\": \"fog\"}, {\"date\": \"2014-01-12T00:00:00\", \"precipitation\": 1.5, \"temp_max\": 11.1, \"temp_min\": 5.6, \"wind\": 8.1, \"weather\": \"fog\"}, {\"date\": \"2014-01-13T00:00:00\", \"precipitation\": 0.0, \"temp_max\": 10.6, \"temp_min\": 10.0, \"wind\": 7.1, \"weather\": \"sun\"}, {\"date\": \"2014-01-14T00:00:00\", \"precipitation\": 0.0, \"temp_max\": 11.1, \"temp_min\": 7.2, \"wind\": 1.3, \"weather\": \"sun\"}, {\"date\": \"2014-01-15T00:00:00\", \"precipitation\": 0.0, \"temp_max\": 11.1, \"temp_min\": 5.6, \"wind\": 2.5, \"weather\": \"sun\"}, {\"date\": \"2014-01-16T00:00:00\", \"precipitation\": 0.0, \"temp_max\": 6.7, \"temp_min\": 4.4, \"wind\": 2.7, \"weather\": \"sun\"}, {\"date\": \"2014-01-17T00:00:00\", \"precipitation\": 0.0, \"temp_max\": 5.6, \"temp_min\": 2.8, \"wind\": 2.3, \"weather\": \"sun\"}, {\"date\": \"2014-01-18T00:00:00\", \"precipitation\": 0.0, \"temp_max\": 9.4, \"temp_min\": 0.6, \"wind\": 2.2, \"weather\": \"sun\"}, {\"date\": \"2014-01-19T00:00:00\", \"precipitation\": 0.0, \"temp_max\": 6.1, \"temp_min\": 3.3, \"wind\": 2.5, \"weather\": \"sun\"}, {\"date\": \"2014-01-20T00:00:00\", \"precipitation\": 0.0, \"temp_max\": 10.0, \"temp_min\": 2.8, \"wind\": 2.2, \"weather\": \"sun\"}, {\"date\": \"2014-01-21T00:00:00\", \"precipitation\": 0.0, \"temp_max\": 10.0, \"temp_min\": 1.7, \"wind\": 1.5, \"weather\": \"sun\"}, {\"date\": \"2014-01-22T00:00:00\", \"precipitation\": 0.5, \"temp_max\": 9.4, \"temp_min\": 5.6, \"wind\": 2.6, \"weather\": \"sun\"}, {\"date\": \"2014-01-23T00:00:00\", \"precipitation\": 0.0, \"temp_max\": 10.0, \"temp_min\": 2.8, \"wind\": 5.2, \"weather\": \"fog\"}, {\"date\": \"2014-01-24T00:00:00\", \"precipitation\": 0.0, \"temp_max\": 12.8, \"temp_min\": 1.1, \"wind\": 1.9, \"weather\": \"sun\"}, {\"date\": \"2014-01-25T00:00:00\", \"precipitation\": 0.0, \"temp_max\": 12.2, \"temp_min\": 1.1, \"wind\": 0.8, \"weather\": \"sun\"}, {\"date\": \"2014-01-26T00:00:00\", \"precipitation\": 0.0, \"temp_max\": 8.3, \"temp_min\": 0.6, \"wind\": 1.3, \"weather\": \"sun\"}, {\"date\": \"2014-01-27T00:00:00\", \"precipitation\": 0.0, \"temp_max\": 9.4, \"temp_min\": 1.7, \"wind\": 1.3, \"weather\": \"sun\"}, {\"date\": \"2014-01-28T00:00:00\", \"precipitation\": 8.9, \"temp_max\": 11.1, \"temp_min\": 6.1, \"wind\": 1.6, \"weather\": \"fog\"}, {\"date\": \"2014-01-29T00:00:00\", \"precipitation\": 21.6, \"temp_max\": 11.1, \"temp_min\": 7.2, \"wind\": 3.4, \"weather\": \"fog\"}, {\"date\": \"2014-01-30T00:00:00\", \"precipitation\": 0.0, \"temp_max\": 8.3, \"temp_min\": 6.1, \"wind\": 6.4, \"weather\": \"sun\"}, {\"date\": \"2014-01-31T00:00:00\", \"precipitation\": 2.3, \"temp_max\": 7.8, \"temp_min\": 5.6, \"wind\": 2.6, \"weather\": \"fog\"}, {\"date\": \"2014-02-01T00:00:00\", \"precipitation\": 2.0, \"temp_max\": 7.8, \"temp_min\": 2.8, \"wind\": 0.8, \"weather\": \"sun\"}, {\"date\": \"2014-02-02T00:00:00\", \"precipitation\": 0.0, \"temp_max\": 8.9, \"temp_min\": 1.1, \"wind\": 2.5, \"weather\": \"sun\"}, {\"date\": \"2014-02-03T00:00:00\", \"precipitation\": 0.0, \"temp_max\": 5.0, \"temp_min\": 0.0, \"wind\": 4.3, \"weather\": \"sun\"}, {\"date\": \"2014-02-04T00:00:00\", \"precipitation\": 0.0, \"temp_max\": 2.8, \"temp_min\": -2.1, \"wind\": 4.7, \"weather\": \"sun\"}, {\"date\": \"2014-02-05T00:00:00\", \"precipitation\": 0.0, \"temp_max\": -0.5, \"temp_min\": -5.5, \"wind\": 6.6, \"weather\": \"sun\"}, {\"date\": \"2014-02-06T00:00:00\", \"precipitation\": 0.0, \"temp_max\": -1.6, \"temp_min\": -6.0, \"wind\": 4.5, \"weather\": \"sun\"}, {\"date\": \"2014-02-07T00:00:00\", \"precipitation\": 0.0, \"temp_max\": 3.3, \"temp_min\": -4.9, \"wind\": 4.2, \"weather\": \"sun\"}, {\"date\": \"2014-02-08T00:00:00\", \"precipitation\": 5.1, \"temp_max\": 5.6, \"temp_min\": -0.5, \"wind\": 4.6, \"weather\": \"fog\"}, {\"date\": \"2014-02-09T00:00:00\", \"precipitation\": 0.5, \"temp_max\": 3.9, \"temp_min\": 0.0, \"wind\": 2.4, \"weather\": \"fog\"}, {\"date\": \"2014-02-10T00:00:00\", \"precipitation\": 18.3, \"temp_max\": 10.0, \"temp_min\": 2.2, \"wind\": 4.7, \"weather\": \"fog\"}, {\"date\": \"2014-02-11T00:00:00\", \"precipitation\": 17.0, \"temp_max\": 12.2, \"temp_min\": 5.6, \"wind\": 3.8, \"weather\": \"fog\"}, {\"date\": \"2014-02-12T00:00:00\", \"precipitation\": 4.6, \"temp_max\": 12.2, \"temp_min\": 7.2, \"wind\": 6.4, \"weather\": \"fog\"}, {\"date\": \"2014-02-13T00:00:00\", \"precipitation\": 1.8, \"temp_max\": 12.8, \"temp_min\": 7.8, \"wind\": 6.3, \"weather\": \"fog\"}, {\"date\": \"2014-02-14T00:00:00\", \"precipitation\": 9.4, \"temp_max\": 11.7, \"temp_min\": 6.1, \"wind\": 6.4, \"weather\": \"fog\"}, {\"date\": \"2014-02-15T00:00:00\", \"precipitation\": 11.7, \"temp_max\": 11.1, \"temp_min\": 5.0, \"wind\": 5.1, \"weather\": \"fog\"}, {\"date\": \"2014-02-16T00:00:00\", \"precipitation\": 26.4, \"temp_max\": 9.4, \"temp_min\": 3.9, \"wind\": 7.9, \"weather\": \"fog\"}, {\"date\": \"2014-02-17T00:00:00\", \"precipitation\": 14.5, \"temp_max\": 8.3, \"temp_min\": 4.4, \"wind\": 5.5, \"weather\": \"fog\"}, {\"date\": \"2014-02-18T00:00:00\", \"precipitation\": 15.2, \"temp_max\": 8.9, \"temp_min\": 5.0, \"wind\": 6.2, \"weather\": \"fog\"}, {\"date\": \"2014-02-19T00:00:00\", \"precipitation\": 1.0, \"temp_max\": 8.3, \"temp_min\": 3.9, \"wind\": 6.0, \"weather\": \"sun\"}, {\"date\": \"2014-02-20T00:00:00\", \"precipitation\": 3.0, \"temp_max\": 10.0, \"temp_min\": 5.6, \"wind\": 6.9, \"weather\": \"fog\"}, {\"date\": \"2014-02-21T00:00:00\", \"precipitation\": 2.8, \"temp_max\": 6.7, \"temp_min\": 3.9, \"wind\": 2.9, \"weather\": \"fog\"}, {\"date\": \"2014-02-22T00:00:00\", \"precipitation\": 2.5, \"temp_max\": 5.6, \"temp_min\": 2.8, \"wind\": 3.1, \"weather\": \"fog\"}, {\"date\": \"2014-02-23T00:00:00\", \"precipitation\": 6.1, \"temp_max\": 7.2, \"temp_min\": 3.9, \"wind\": 2.6, \"weather\": \"fog\"}, {\"date\": \"2014-02-24T00:00:00\", \"precipitation\": 13.0, \"temp_max\": 6.7, \"temp_min\": 3.3, \"wind\": 3.2, \"weather\": \"fog\"}, {\"date\": \"2014-02-25T00:00:00\", \"precipitation\": 0.3, \"temp_max\": 12.2, \"temp_min\": 3.9, \"wind\": 4.5, \"weather\": \"fog\"}, {\"date\": \"2014-02-26T00:00:00\", \"precipitation\": 0.0, \"temp_max\": 13.9, \"temp_min\": 5.6, \"wind\": 2.5, \"weather\": \"sun\"}, {\"date\": \"2014-02-27T00:00:00\", \"precipitation\": 0.0, \"temp_max\": 12.8, \"temp_min\": 4.4, \"wind\": 2.3, \"weather\": \"sun\"}, {\"date\": \"2014-02-28T00:00:00\", \"precipitation\": 0.0, \"temp_max\": 14.4, \"temp_min\": 4.4, \"wind\": 5.9, \"weather\": \"sun\"}, {\"date\": \"2014-03-01T00:00:00\", \"precipitation\": 0.5, \"temp_max\": 7.2, \"temp_min\": 4.4, \"wind\": 4.7, \"weather\": \"sun\"}, {\"date\": \"2014-03-02T00:00:00\", \"precipitation\": 19.1, \"temp_max\": 11.1, \"temp_min\": 2.8, \"wind\": 5.7, \"weather\": \"fog\"}, {\"date\": \"2014-03-03T00:00:00\", \"precipitation\": 10.7, \"temp_max\": 14.4, \"temp_min\": 8.9, \"wind\": 5.1, \"weather\": \"fog\"}, {\"date\": \"2014-03-04T00:00:00\", \"precipitation\": 16.5, \"temp_max\": 13.9, \"temp_min\": 7.8, \"wind\": 3.9, \"weather\": \"fog\"}, {\"date\": \"2014-03-05T00:00:00\", \"precipitation\": 46.7, \"temp_max\": 15.6, \"temp_min\": 10.6, \"wind\": 3.9, \"weather\": \"fog\"}, {\"date\": \"2014-03-06T00:00:00\", \"precipitation\": 3.0, \"temp_max\": 13.3, \"temp_min\": 10.0, \"wind\": 6.2, \"weather\": \"fog\"}, {\"date\": \"2014-03-07T00:00:00\", \"precipitation\": 0.0, \"temp_max\": 15.6, \"temp_min\": 8.9, \"wind\": 4.2, \"weather\": \"sun\"}, {\"date\": \"2014-03-08T00:00:00\", \"precipitation\": 32.3, \"temp_max\": 12.8, \"temp_min\": 6.7, \"wind\": 2.7, \"weather\": \"fog\"}, {\"date\": \"2014-03-09T00:00:00\", \"precipitation\": 4.3, \"temp_max\": 15.0, \"temp_min\": 9.4, \"wind\": 4.3, \"weather\": \"fog\"}, {\"date\": \"2014-03-10T00:00:00\", \"precipitation\": 18.8, \"temp_max\": 12.2, \"temp_min\": 6.1, \"wind\": 2.2, \"weather\": \"fog\"}, {\"date\": \"2014-03-11T00:00:00\", \"precipitation\": 0.0, \"temp_max\": 14.4, \"temp_min\": 4.4, \"wind\": 2.3, \"weather\": \"fog\"}, {\"date\": \"2014-03-12T00:00:00\", \"precipitation\": 0.0, \"temp_max\": 16.1, \"temp_min\": 3.3, \"wind\": 1.9, \"weather\": \"fog\"}, {\"date\": \"2014-03-13T00:00:00\", \"precipitation\": 0.5, \"temp_max\": 13.9, \"temp_min\": 5.0, \"wind\": 2.5, \"weather\": \"fog\"}, {\"date\": \"2014-03-14T00:00:00\", \"precipitation\": 6.9, \"temp_max\": 14.4, \"temp_min\": 8.3, \"wind\": 6.1, \"weather\": \"fog\"}, {\"date\": \"2014-03-15T00:00:00\", \"precipitation\": 8.1, \"temp_max\": 16.7, \"temp_min\": 4.4, \"wind\": 3.0, \"weather\": \"fog\"}, {\"date\": \"2014-03-16T00:00:00\", \"precipitation\": 27.7, \"temp_max\": 10.6, \"temp_min\": 4.4, \"wind\": 3.8, \"weather\": \"fog\"}, {\"date\": \"2014-03-17T00:00:00\", \"precipitation\": 0.3, \"temp_max\": 10.0, \"temp_min\": 2.8, \"wind\": 3.2, \"weather\": \"fog\"}, {\"date\": \"2014-03-18T00:00:00\", \"precipitation\": 0.0, \"temp_max\": 10.0, \"temp_min\": 3.3, \"wind\": 1.6, \"weather\": \"sun\"}, {\"date\": \"2014-03-19T00:00:00\", \"precipitation\": 0.5, \"temp_max\": 11.1, \"temp_min\": 3.3, \"wind\": 5.1, \"weather\": \"sun\"}, {\"date\": \"2014-03-20T00:00:00\", \"precipitation\": 0.0, \"temp_max\": 11.1, \"temp_min\": 1.7, \"wind\": 3.0, \"weather\": \"sun\"}, {\"date\": \"2014-03-21T00:00:00\", \"precipitation\": 0.0, \"temp_max\": 10.6, \"temp_min\": 2.8, \"wind\": 3.8, \"weather\": \"sun\"}, {\"date\": \"2014-03-22T00:00:00\", \"precipitation\": 0.0, \"temp_max\": 11.1, \"temp_min\": 1.1, \"wind\": 1.8, \"weather\": \"sun\"}, {\"date\": \"2014-03-23T00:00:00\", \"precipitation\": 0.0, \"temp_max\": 12.8, \"temp_min\": 4.4, \"wind\": 3.3, \"weather\": \"sun\"}, {\"date\": \"2014-03-24T00:00:00\", \"precipitation\": 0.0, \"temp_max\": 18.9, \"temp_min\": 2.8, \"wind\": 2.2, \"weather\": \"sun\"}, {\"date\": \"2014-03-25T00:00:00\", \"precipitation\": 4.1, \"temp_max\": 13.9, \"temp_min\": 6.7, \"wind\": 4.4, \"weather\": \"fog\"}, {\"date\": \"2014-03-26T00:00:00\", \"precipitation\": 3.6, \"temp_max\": 11.1, \"temp_min\": 5.6, \"wind\": 2.4, \"weather\": \"fog\"}, {\"date\": \"2014-03-27T00:00:00\", \"precipitation\": 0.3, \"temp_max\": 12.2, \"temp_min\": 6.7, \"wind\": 2.8, \"weather\": \"fog\"}, {\"date\": \"2014-03-28T00:00:00\", \"precipitation\": 22.1, \"temp_max\": 11.7, \"temp_min\": 7.2, \"wind\": 3.9, \"weather\": \"fog\"}, {\"date\": \"2014-03-29T00:00:00\", \"precipitation\": 14.0, \"temp_max\": 11.7, \"temp_min\": 7.2, \"wind\": 5.1, \"weather\": \"fog\"}, {\"date\": \"2014-03-30T00:00:00\", \"precipitation\": 0.0, \"temp_max\": 11.1, \"temp_min\": 5.0, \"wind\": 5.1, \"weather\": \"sun\"}, {\"date\": \"2014-03-31T00:00:00\", \"precipitation\": 0.0, \"temp_max\": 15.6, \"temp_min\": 2.2, \"wind\": 3.8, \"weather\": \"sun\"}, {\"date\": \"2014-04-01T00:00:00\", \"precipitation\": 0.0, \"temp_max\": 14.4, \"temp_min\": 6.7, \"wind\": 2.8, \"weather\": \"sun\"}, {\"date\": \"2014-04-02T00:00:00\", \"precipitation\": 0.0, \"temp_max\": 14.4, \"temp_min\": 5.6, \"wind\": 4.2, \"weather\": \"sun\"}, {\"date\": \"2014-04-03T00:00:00\", \"precipitation\": 2.5, \"temp_max\": 13.3, \"temp_min\": 6.1, \"wind\": 3.9, \"weather\": \"sun\"}, {\"date\": \"2014-04-04T00:00:00\", \"precipitation\": 0.0, \"temp_max\": 12.8, \"temp_min\": 6.1, \"wind\": 4.7, \"weather\": \"sun\"}, {\"date\": \"2014-04-05T00:00:00\", \"precipitation\": 4.6, \"temp_max\": 11.7, \"temp_min\": 7.8, \"wind\": 4.3, \"weather\": \"fog\"}, {\"date\": \"2014-04-06T00:00:00\", \"precipitation\": 0.0, \"temp_max\": 13.9, \"temp_min\": 8.3, \"wind\": 2.6, \"weather\": \"sun\"}, {\"date\": \"2014-04-07T00:00:00\", \"precipitation\": 0.0, \"temp_max\": 21.1, \"temp_min\": 9.4, \"wind\": 2.5, \"weather\": \"sun\"}, {\"date\": \"2014-04-08T00:00:00\", \"precipitation\": 4.6, \"temp_max\": 15.6, \"temp_min\": 8.3, \"wind\": 4.2, \"weather\": \"fog\"}, {\"date\": \"2014-04-09T00:00:00\", \"precipitation\": 0.0, \"temp_max\": 14.4, \"temp_min\": 6.7, \"wind\": 2.9, \"weather\": \"sun\"}, {\"date\": \"2014-04-10T00:00:00\", \"precipitation\": 0.0, \"temp_max\": 15.0, \"temp_min\": 6.7, \"wind\": 3.6, \"weather\": \"sun\"}, {\"date\": \"2014-04-11T00:00:00\", \"precipitation\": 0.0, \"temp_max\": 17.2, \"temp_min\": 5.0, \"wind\": 2.8, \"weather\": \"sun\"}, {\"date\": \"2014-04-12T00:00:00\", \"precipitation\": 0.0, \"temp_max\": 16.1, \"temp_min\": 7.8, \"wind\": 4.4, \"weather\": \"sun\"}, {\"date\": \"2014-04-13T00:00:00\", \"precipitation\": 0.0, \"temp_max\": 20.6, \"temp_min\": 5.6, \"wind\": 3.1, \"weather\": \"sun\"}, {\"date\": \"2014-04-14T00:00:00\", \"precipitation\": 0.0, \"temp_max\": 20.0, \"temp_min\": 5.6, \"wind\": 2.6, \"weather\": \"sun\"}, {\"date\": \"2014-04-15T00:00:00\", \"precipitation\": 0.5, \"temp_max\": 14.4, \"temp_min\": 7.8, \"wind\": 4.0, \"weather\": \"sun\"}, {\"date\": \"2014-04-16T00:00:00\", \"precipitation\": 10.9, \"temp_max\": 11.1, \"temp_min\": 8.9, \"wind\": 4.6, \"weather\": \"fog\"}, {\"date\": \"2014-04-17T00:00:00\", \"precipitation\": 18.5, \"temp_max\": 11.7, \"temp_min\": 7.2, \"wind\": 4.7, \"weather\": \"fog\"}, {\"date\": \"2014-04-18T00:00:00\", \"precipitation\": 0.0, \"temp_max\": 14.4, \"temp_min\": 5.6, \"wind\": 3.8, \"weather\": \"sun\"}, {\"date\": \"2014-04-19T00:00:00\", \"precipitation\": 13.7, \"temp_max\": 11.7, \"temp_min\": 5.6, \"wind\": 4.7, \"weather\": \"fog\"}, {\"date\": \"2014-04-20T00:00:00\", \"precipitation\": 0.0, \"temp_max\": 15.6, \"temp_min\": 5.6, \"wind\": 2.7, \"weather\": \"sun\"}, {\"date\": \"2014-04-21T00:00:00\", \"precipitation\": 5.1, \"temp_max\": 17.2, \"temp_min\": 7.8, \"wind\": 2.5, \"weather\": \"fog\"}, {\"date\": \"2014-04-22T00:00:00\", \"precipitation\": 14.2, \"temp_max\": 12.2, \"temp_min\": 5.0, \"wind\": 4.2, \"weather\": \"fog\"}, {\"date\": \"2014-04-23T00:00:00\", \"precipitation\": 8.9, \"temp_max\": 11.7, \"temp_min\": 6.1, \"wind\": 5.0, \"weather\": \"fog\"}, {\"date\": \"2014-04-24T00:00:00\", \"precipitation\": 12.4, \"temp_max\": 13.9, \"temp_min\": 6.1, \"wind\": 5.3, \"weather\": \"fog\"}, {\"date\": \"2014-04-25T00:00:00\", \"precipitation\": 0.0, \"temp_max\": 14.4, \"temp_min\": 5.6, \"wind\": 2.3, \"weather\": \"sun\"}, {\"date\": \"2014-04-26T00:00:00\", \"precipitation\": 3.3, \"temp_max\": 15.0, \"temp_min\": 5.6, \"wind\": 3.9, \"weather\": \"sun\"}, {\"date\": \"2014-04-27T00:00:00\", \"precipitation\": 6.9, \"temp_max\": 11.1, \"temp_min\": 6.1, \"wind\": 5.8, \"weather\": \"fog\"}, {\"date\": \"2014-04-28T00:00:00\", \"precipitation\": 0.0, \"temp_max\": 16.1, \"temp_min\": 4.4, \"wind\": 2.6, \"weather\": \"sun\"}, {\"date\": \"2014-04-29T00:00:00\", \"precipitation\": 0.0, \"temp_max\": 25.0, \"temp_min\": 9.4, \"wind\": 2.3, \"weather\": \"sun\"}, {\"date\": \"2014-04-30T00:00:00\", \"precipitation\": 0.0, \"temp_max\": 27.8, \"temp_min\": 9.4, \"wind\": 3.9, \"weather\": \"sun\"}, {\"date\": \"2014-05-01T00:00:00\", \"precipitation\": 0.0, \"temp_max\": 29.4, \"temp_min\": 11.1, \"wind\": 3.0, \"weather\": \"sun\"}, {\"date\": \"2014-05-02T00:00:00\", \"precipitation\": 0.0, \"temp_max\": 18.3, \"temp_min\": 10.6, \"wind\": 4.7, \"weather\": \"sun\"}, {\"date\": \"2014-05-03T00:00:00\", \"precipitation\": 33.3, \"temp_max\": 15.0, \"temp_min\": 8.9, \"wind\": 3.4, \"weather\": \"fog\"}, {\"date\": \"2014-05-04T00:00:00\", \"precipitation\": 16.0, \"temp_max\": 14.4, \"temp_min\": 8.9, \"wind\": 4.2, \"weather\": \"fog\"}, {\"date\": \"2014-05-05T00:00:00\", \"precipitation\": 5.1, \"temp_max\": 15.6, \"temp_min\": 9.4, \"wind\": 3.8, \"weather\": \"fog\"}, {\"date\": \"2014-05-06T00:00:00\", \"precipitation\": 0.0, \"temp_max\": 16.7, \"temp_min\": 8.3, \"wind\": 2.6, \"weather\": \"sun\"}, {\"date\": \"2014-05-07T00:00:00\", \"precipitation\": 0.0, \"temp_max\": 18.3, \"temp_min\": 7.2, \"wind\": 1.7, \"weather\": \"sun\"}, {\"date\": \"2014-05-08T00:00:00\", \"precipitation\": 13.7, \"temp_max\": 13.9, \"temp_min\": 9.4, \"wind\": 3.4, \"weather\": \"fog\"}, {\"date\": \"2014-05-09T00:00:00\", \"precipitation\": 2.0, \"temp_max\": 13.3, \"temp_min\": 7.2, \"wind\": 5.6, \"weather\": \"sun\"}, {\"date\": \"2014-05-10T00:00:00\", \"precipitation\": 0.5, \"temp_max\": 15.6, \"temp_min\": 7.2, \"wind\": 2.1, \"weather\": \"fog\"}, {\"date\": \"2014-05-11T00:00:00\", \"precipitation\": 0.0, \"temp_max\": 18.9, \"temp_min\": 8.3, \"wind\": 1.7, \"weather\": \"sun\"}, {\"date\": \"2014-05-12T00:00:00\", \"precipitation\": 0.0, \"temp_max\": 24.4, \"temp_min\": 9.4, \"wind\": 2.7, \"weather\": \"sun\"}, {\"date\": \"2014-05-13T00:00:00\", \"precipitation\": 0.0, \"temp_max\": 26.7, \"temp_min\": 12.8, \"wind\": 3.8, \"weather\": \"sun\"}, {\"date\": \"2014-05-14T00:00:00\", \"precipitation\": 0.0, \"temp_max\": 27.8, \"temp_min\": 13.3, \"wind\": 3.3, \"weather\": \"sun\"}, {\"date\": \"2014-05-15T00:00:00\", \"precipitation\": 0.0, \"temp_max\": 26.7, \"temp_min\": 12.8, \"wind\": 3.0, \"weather\": \"sun\"}, {\"date\": \"2014-05-16T00:00:00\", \"precipitation\": 0.0, \"temp_max\": 20.0, \"temp_min\": 11.7, \"wind\": 4.1, \"weather\": \"sun\"}, {\"date\": \"2014-05-17T00:00:00\", \"precipitation\": 0.0, \"temp_max\": 20.0, \"temp_min\": 11.7, \"wind\": 3.2, \"weather\": \"sun\"}, {\"date\": \"2014-05-18T00:00:00\", \"precipitation\": 0.0, \"temp_max\": 20.0, \"temp_min\": 10.6, \"wind\": 3.2, \"weather\": \"sun\"}, {\"date\": \"2014-05-19T00:00:00\", \"precipitation\": 0.0, \"temp_max\": 21.1, \"temp_min\": 10.0, \"wind\": 2.2, \"weather\": \"sun\"}, {\"date\": \"2014-05-20T00:00:00\", \"precipitation\": 0.0, \"temp_max\": 22.2, \"temp_min\": 10.0, \"wind\": 2.7, \"weather\": \"sun\"}, {\"date\": \"2014-05-21T00:00:00\", \"precipitation\": 0.0, \"temp_max\": 20.0, \"temp_min\": 10.6, \"wind\": 1.7, \"weather\": \"sun\"}, {\"date\": \"2014-05-22T00:00:00\", \"precipitation\": 0.0, \"temp_max\": 24.4, \"temp_min\": 11.7, \"wind\": 2.5, \"weather\": \"sun\"}, {\"date\": \"2014-05-23T00:00:00\", \"precipitation\": 3.8, \"temp_max\": 20.0, \"temp_min\": 12.8, \"wind\": 4.0, \"weather\": \"fog\"}, {\"date\": \"2014-05-24T00:00:00\", \"precipitation\": 0.0, \"temp_max\": 18.3, \"temp_min\": 11.1, \"wind\": 2.4, \"weather\": \"sun\"}, {\"date\": \"2014-05-25T00:00:00\", \"precipitation\": 5.6, \"temp_max\": 15.0, \"temp_min\": 10.6, \"wind\": 1.4, \"weather\": \"fog\"}, {\"date\": \"2014-05-26T00:00:00\", \"precipitation\": 0.0, \"temp_max\": 18.3, \"temp_min\": 11.1, \"wind\": 4.5, \"weather\": \"sun\"}, {\"date\": \"2014-05-27T00:00:00\", \"precipitation\": 0.0, \"temp_max\": 20.0, \"temp_min\": 10.0, \"wind\": 2.5, \"weather\": \"sun\"}, {\"date\": \"2014-05-28T00:00:00\", \"precipitation\": 0.0, \"temp_max\": 18.9, \"temp_min\": 10.0, \"wind\": 3.4, \"weather\": \"sun\"}, {\"date\": \"2014-05-29T00:00:00\", \"precipitation\": 0.0, \"temp_max\": 18.9, \"temp_min\": 11.1, \"wind\": 4.3, \"weather\": \"sun\"}, {\"date\": \"2014-05-30T00:00:00\", \"precipitation\": 0.0, \"temp_max\": 20.6, \"temp_min\": 8.9, \"wind\": 4.5, \"weather\": \"sun\"}, {\"date\": \"2014-05-31T00:00:00\", \"precipitation\": 0.0, \"temp_max\": 23.3, \"temp_min\": 10.0, \"wind\": 2.2, \"weather\": \"sun\"}, {\"date\": \"2014-06-01T00:00:00\", \"precipitation\": 0.0, \"temp_max\": 22.2, \"temp_min\": 10.6, \"wind\": 2.3, \"weather\": \"sun\"}, {\"date\": \"2014-06-02T00:00:00\", \"precipitation\": 0.0, \"temp_max\": 23.3, \"temp_min\": 11.1, \"wind\": 2.4, \"weather\": \"sun\"}, {\"date\": \"2014-06-03T00:00:00\", \"precipitation\": 0.0, \"temp_max\": 18.3, \"temp_min\": 11.1, \"wind\": 3.2, \"weather\": \"sun\"}, {\"date\": \"2014-06-04T00:00:00\", \"precipitation\": 0.0, \"temp_max\": 19.4, \"temp_min\": 10.0, \"wind\": 2.6, \"weather\": \"sun\"}, {\"date\": \"2014-06-05T00:00:00\", \"precipitation\": 0.0, \"temp_max\": 22.2, \"temp_min\": 10.0, \"wind\": 2.4, \"weather\": \"sun\"}, {\"date\": \"2014-06-06T00:00:00\", \"precipitation\": 0.0, \"temp_max\": 25.0, \"temp_min\": 10.6, \"wind\": 3.2, \"weather\": \"sun\"}, {\"date\": \"2014-06-07T00:00:00\", \"precipitation\": 0.0, \"temp_max\": 24.4, \"temp_min\": 13.3, \"wind\": 3.1, \"weather\": \"sun\"}, {\"date\": \"2014-06-08T00:00:00\", \"precipitation\": 0.0, \"temp_max\": 23.3, \"temp_min\": 12.2, \"wind\": 2.1, \"weather\": \"sun\"}, {\"date\": \"2014-06-09T00:00:00\", \"precipitation\": 0.0, \"temp_max\": 21.1, \"temp_min\": 13.3, \"wind\": 3.6, \"weather\": \"sun\"}, {\"date\": \"2014-06-10T00:00:00\", \"precipitation\": 0.0, \"temp_max\": 20.0, \"temp_min\": 12.2, \"wind\": 2.9, \"weather\": \"sun\"}, {\"date\": \"2014-06-11T00:00:00\", \"precipitation\": 0.0, \"temp_max\": 23.9, \"temp_min\": 11.1, \"wind\": 2.7, \"weather\": \"sun\"}, {\"date\": \"2014-06-12T00:00:00\", \"precipitation\": 1.8, \"temp_max\": 21.7, \"temp_min\": 12.2, \"wind\": 4.0, \"weather\": \"sun\"}, {\"date\": \"2014-06-13T00:00:00\", \"precipitation\": 6.4, \"temp_max\": 15.6, \"temp_min\": 11.1, \"wind\": 5.0, \"weather\": \"fog\"}, {\"date\": \"2014-06-14T00:00:00\", \"precipitation\": 0.0, \"temp_max\": 17.8, \"temp_min\": 11.7, \"wind\": 3.2, \"weather\": \"sun\"}, {\"date\": \"2014-06-15T00:00:00\", \"precipitation\": 0.5, \"temp_max\": 18.3, \"temp_min\": 10.0, \"wind\": 3.6, \"weather\": \"fog\"}, {\"date\": \"2014-06-16T00:00:00\", \"precipitation\": 3.6, \"temp_max\": 17.8, \"temp_min\": 8.9, \"wind\": 2.4, \"weather\": \"fog\"}, {\"date\": \"2014-06-17T00:00:00\", \"precipitation\": 1.3, \"temp_max\": 17.8, \"temp_min\": 10.0, \"wind\": 3.0, \"weather\": \"fog\"}, {\"date\": \"2014-06-18T00:00:00\", \"precipitation\": 0.0, \"temp_max\": 18.9, \"temp_min\": 11.1, \"wind\": 2.7, \"weather\": \"sun\"}, {\"date\": \"2014-06-19T00:00:00\", \"precipitation\": 0.8, \"temp_max\": 25.6, \"temp_min\": 11.7, \"wind\": 3.7, \"weather\": \"sun\"}, {\"date\": \"2014-06-20T00:00:00\", \"precipitation\": 0.3, \"temp_max\": 20.0, \"temp_min\": 10.0, \"wind\": 3.4, \"weather\": \"sun\"}, {\"date\": \"2014-06-21T00:00:00\", \"precipitation\": 0.0, \"temp_max\": 22.2, \"temp_min\": 10.6, \"wind\": 3.6, \"weather\": \"sun\"}, {\"date\": \"2014-06-22T00:00:00\", \"precipitation\": 0.0, \"temp_max\": 25.0, \"temp_min\": 11.1, \"wind\": 2.7, \"weather\": \"sun\"}, {\"date\": \"2014-06-23T00:00:00\", \"precipitation\": 0.0, \"temp_max\": 25.0, \"temp_min\": 13.3, \"wind\": 2.5, \"weather\": \"sun\"}, {\"date\": \"2014-06-24T00:00:00\", \"precipitation\": 0.0, \"temp_max\": 24.4, \"temp_min\": 14.4, \"wind\": 2.5, \"weather\": \"sun\"}, {\"date\": \"2014-06-25T00:00:00\", \"precipitation\": 0.0, \"temp_max\": 26.1, \"temp_min\": 13.9, \"wind\": 2.4, \"weather\": \"sun\"}, {\"date\": \"2014-06-26T00:00:00\", \"precipitation\": 0.0, \"temp_max\": 21.1, \"temp_min\": 14.4, \"wind\": 4.1, \"weather\": \"sun\"}, {\"date\": \"2014-06-27T00:00:00\", \"precipitation\": 1.8, \"temp_max\": 21.1, \"temp_min\": 13.9, \"wind\": 4.5, \"weather\": \"fog\"}, {\"date\": \"2014-06-28T00:00:00\", \"precipitation\": 2.3, \"temp_max\": 20.0, \"temp_min\": 13.3, \"wind\": 4.3, \"weather\": \"fog\"}, {\"date\": \"2014-06-29T00:00:00\", \"precipitation\": 0.0, \"temp_max\": 20.6, \"temp_min\": 12.8, \"wind\": 3.2, \"weather\": \"sun\"}, {\"date\": \"2014-06-30T00:00:00\", \"precipitation\": 0.0, \"temp_max\": 25.6, \"temp_min\": 12.8, \"wind\": 4.4, \"weather\": \"sun\"}, {\"date\": \"2014-07-01T00:00:00\", \"precipitation\": 0.0, \"temp_max\": 34.4, \"temp_min\": 15.6, \"wind\": 3.5, \"weather\": \"sun\"}, {\"date\": \"2014-07-02T00:00:00\", \"precipitation\": 0.0, \"temp_max\": 27.2, \"temp_min\": 14.4, \"wind\": 3.6, \"weather\": \"sun\"}, {\"date\": \"2014-07-03T00:00:00\", \"precipitation\": 0.0, \"temp_max\": 21.7, \"temp_min\": 13.9, \"wind\": 3.1, \"weather\": \"sun\"}, {\"date\": \"2014-07-04T00:00:00\", \"precipitation\": 0.0, \"temp_max\": 23.9, \"temp_min\": 13.9, \"wind\": 3.6, \"weather\": \"sun\"}, {\"date\": \"2014-07-05T00:00:00\", \"precipitation\": 0.0, \"temp_max\": 24.4, \"temp_min\": 13.3, \"wind\": 2.2, \"weather\": \"fog\"}, {\"date\": \"2014-07-06T00:00:00\", \"precipitation\": 0.0, \"temp_max\": 28.9, \"temp_min\": 15.0, \"wind\": 3.0, \"weather\": \"sun\"}, {\"date\": \"2014-07-07T00:00:00\", \"precipitation\": 0.0, \"temp_max\": 27.2, \"temp_min\": 17.8, \"wind\": 4.1, \"weather\": \"fog\"}, {\"date\": \"2014-07-08T00:00:00\", \"precipitation\": 0.0, \"temp_max\": 30.0, \"temp_min\": 15.6, \"wind\": 3.5, \"weather\": \"sun\"}, {\"date\": \"2014-07-09T00:00:00\", \"precipitation\": 0.0, \"temp_max\": 26.7, \"temp_min\": 13.9, \"wind\": 2.3, \"weather\": \"sun\"}, {\"date\": \"2014-07-10T00:00:00\", \"precipitation\": 0.0, \"temp_max\": 28.9, \"temp_min\": 12.8, \"wind\": 2.2, \"weather\": \"fog\"}, {\"date\": \"2014-07-11T00:00:00\", \"precipitation\": 0.0, \"temp_max\": 31.1, \"temp_min\": 15.0, \"wind\": 2.2, \"weather\": \"sun\"}, {\"date\": \"2014-07-12T00:00:00\", \"precipitation\": 0.0, \"temp_max\": 32.2, \"temp_min\": 16.7, \"wind\": 2.2, \"weather\": \"sun\"}, {\"date\": \"2014-07-13T00:00:00\", \"precipitation\": 0.0, \"temp_max\": 29.4, \"temp_min\": 15.0, \"wind\": 2.6, \"weather\": \"rain\"}, {\"date\": \"2014-07-14T00:00:00\", \"precipitation\": 0.0, \"temp_max\": 27.8, \"temp_min\": 15.0, \"wind\": 2.8, \"weather\": \"sun\"}, {\"date\": \"2014-07-15T00:00:00\", \"precipitation\": 0.0, \"temp_max\": 31.1, \"temp_min\": 13.9, \"wind\": 2.3, \"weather\": \"sun\"}, {\"date\": \"2014-07-16T00:00:00\", \"precipitation\": 0.0, \"temp_max\": 31.1, \"temp_min\": 14.4, \"wind\": 2.4, \"weather\": \"sun\"}, {\"date\": \"2014-07-17T00:00:00\", \"precipitation\": 0.0, \"temp_max\": 26.7, \"temp_min\": 13.9, \"wind\": 3.7, \"weather\": \"sun\"}, {\"date\": \"2014-07-18T00:00:00\", \"precipitation\": 0.0, \"temp_max\": 23.9, \"temp_min\": 11.7, \"wind\": 2.8, \"weather\": \"sun\"}, {\"date\": \"2014-07-19T00:00:00\", \"precipitation\": 0.0, \"temp_max\": 25.6, \"temp_min\": 15.0, \"wind\": 5.4, \"weather\": \"fog\"}, {\"date\": \"2014-07-20T00:00:00\", \"precipitation\": 0.0, \"temp_max\": 19.4, \"temp_min\": 14.4, \"wind\": 2.8, \"weather\": \"sun\"}, {\"date\": \"2014-07-21T00:00:00\", \"precipitation\": 0.0, \"temp_max\": 23.9, \"temp_min\": 13.3, \"wind\": 2.2, \"weather\": \"sun\"}, {\"date\": \"2014-07-22T00:00:00\", \"precipitation\": 0.3, \"temp_max\": 21.1, \"temp_min\": 13.3, \"wind\": 1.1, \"weather\": \"fog\"}, {\"date\": \"2014-07-23T00:00:00\", \"precipitation\": 19.3, \"temp_max\": 18.9, \"temp_min\": 13.3, \"wind\": 3.3, \"weather\": \"sun\"}, {\"date\": \"2014-07-24T00:00:00\", \"precipitation\": 0.0, \"temp_max\": 20.6, \"temp_min\": 12.8, \"wind\": 4.7, \"weather\": \"sun\"}, {\"date\": \"2014-07-25T00:00:00\", \"precipitation\": 0.0, \"temp_max\": 22.8, \"temp_min\": 12.2, \"wind\": 2.7, \"weather\": \"sun\"}, {\"date\": \"2014-07-26T00:00:00\", \"precipitation\": 0.0, \"temp_max\": 26.1, \"temp_min\": 13.3, \"wind\": 3.6, \"weather\": \"sun\"}, {\"date\": \"2014-07-27T00:00:00\", \"precipitation\": 0.0, \"temp_max\": 28.3, \"temp_min\": 15.0, \"wind\": 4.1, \"weather\": \"sun\"}, {\"date\": \"2014-07-28T00:00:00\", \"precipitation\": 0.0, \"temp_max\": 30.6, \"temp_min\": 15.0, \"wind\": 3.7, \"weather\": \"sun\"}, {\"date\": \"2014-07-29T00:00:00\", \"precipitation\": 0.0, \"temp_max\": 30.0, \"temp_min\": 15.6, \"wind\": 2.8, \"weather\": \"sun\"}, {\"date\": \"2014-07-30T00:00:00\", \"precipitation\": 0.0, \"temp_max\": 29.4, \"temp_min\": 14.4, \"wind\": 3.4, \"weather\": \"sun\"}, {\"date\": \"2014-07-31T00:00:00\", \"precipitation\": 0.0, \"temp_max\": 30.6, \"temp_min\": 17.8, \"wind\": 4.1, \"weather\": \"sun\"}, {\"date\": \"2014-08-01T00:00:00\", \"precipitation\": 0.0, \"temp_max\": 28.9, \"temp_min\": 15.0, \"wind\": 3.3, \"weather\": \"sun\"}, {\"date\": \"2014-08-02T00:00:00\", \"precipitation\": 0.5, \"temp_max\": 29.4, \"temp_min\": 15.6, \"wind\": 1.7, \"weather\": \"sun\"}, {\"date\": \"2014-08-03T00:00:00\", \"precipitation\": 0.0, \"temp_max\": 31.7, \"temp_min\": 14.4, \"wind\": 2.6, \"weather\": \"sun\"}, {\"date\": \"2014-08-04T00:00:00\", \"precipitation\": 0.0, \"temp_max\": 32.8, \"temp_min\": 16.1, \"wind\": 2.6, \"weather\": \"sun\"}, {\"date\": \"2014-08-05T00:00:00\", \"precipitation\": 0.0, \"temp_max\": 25.0, \"temp_min\": 13.9, \"wind\": 2.7, \"weather\": \"sun\"}, {\"date\": \"2014-08-06T00:00:00\", \"precipitation\": 0.0, \"temp_max\": 26.1, \"temp_min\": 15.0, \"wind\": 2.2, \"weather\": \"fog\"}, {\"date\": \"2014-08-07T00:00:00\", \"precipitation\": 0.0, \"temp_max\": 25.6, \"temp_min\": 13.3, \"wind\": 2.4, \"weather\": \"fog\"}, {\"date\": \"2014-08-08T00:00:00\", \"precipitation\": 0.0, \"temp_max\": 25.6, \"temp_min\": 13.3, \"wind\": 2.9, \"weather\": \"sun\"}, {\"date\": \"2014-08-09T00:00:00\", \"precipitation\": 0.0, \"temp_max\": 27.2, \"temp_min\": 15.6, \"wind\": 4.1, \"weather\": \"sun\"}, {\"date\": \"2014-08-10T00:00:00\", \"precipitation\": 0.0, \"temp_max\": 30.6, \"temp_min\": 13.9, \"wind\": 3.4, \"weather\": \"sun\"}, {\"date\": \"2014-08-11T00:00:00\", \"precipitation\": 0.5, \"temp_max\": 35.6, \"temp_min\": 17.8, \"wind\": 2.6, \"weather\": \"rain\"}, {\"date\": \"2014-08-12T00:00:00\", \"precipitation\": 12.7, \"temp_max\": 27.2, \"temp_min\": 17.2, \"wind\": 3.1, \"weather\": \"fog\"}, {\"date\": \"2014-08-13T00:00:00\", \"precipitation\": 21.6, \"temp_max\": 23.3, \"temp_min\": 15.0, \"wind\": 2.7, \"weather\": \"fog\"}, {\"date\": \"2014-08-14T00:00:00\", \"precipitation\": 0.0, \"temp_max\": 21.1, \"temp_min\": 17.2, \"wind\": 0.6, \"weather\": \"sun\"}, {\"date\": \"2014-08-15T00:00:00\", \"precipitation\": 1.0, \"temp_max\": 24.4, \"temp_min\": 16.7, \"wind\": 1.5, \"weather\": \"fog\"}, {\"date\": \"2014-08-16T00:00:00\", \"precipitation\": 0.0, \"temp_max\": 25.6, \"temp_min\": 15.6, \"wind\": 2.2, \"weather\": \"sun\"}, {\"date\": \"2014-08-17T00:00:00\", \"precipitation\": 0.0, \"temp_max\": 27.8, \"temp_min\": 15.0, \"wind\": 2.8, \"weather\": \"sun\"}, {\"date\": \"2014-08-18T00:00:00\", \"precipitation\": 0.0, \"temp_max\": 29.4, \"temp_min\": 15.6, \"wind\": 3.3, \"weather\": \"sun\"}, {\"date\": \"2014-08-19T00:00:00\", \"precipitation\": 0.0, \"temp_max\": 27.2, \"temp_min\": 15.6, \"wind\": 2.4, \"weather\": \"sun\"}, {\"date\": \"2014-08-20T00:00:00\", \"precipitation\": 0.0, \"temp_max\": 21.7, \"temp_min\": 13.9, \"wind\": 3.6, \"weather\": \"sun\"}, {\"date\": \"2014-08-21T00:00:00\", \"precipitation\": 0.0, \"temp_max\": 21.1, \"temp_min\": 11.1, \"wind\": 1.7, \"weather\": \"sun\"}, {\"date\": \"2014-08-22T00:00:00\", \"precipitation\": 0.0, \"temp_max\": 23.9, \"temp_min\": 13.3, \"wind\": 2.9, \"weather\": \"sun\"}, {\"date\": \"2014-08-23T00:00:00\", \"precipitation\": 0.0, \"temp_max\": 27.8, \"temp_min\": 13.9, \"wind\": 2.0, \"weather\": \"sun\"}, {\"date\": \"2014-08-24T00:00:00\", \"precipitation\": 0.0, \"temp_max\": 25.0, \"temp_min\": 13.3, \"wind\": 2.3, \"weather\": \"sun\"}, {\"date\": \"2014-08-25T00:00:00\", \"precipitation\": 0.0, \"temp_max\": 28.9, \"temp_min\": 14.4, \"wind\": 2.0, \"weather\": \"sun\"}, {\"date\": \"2014-08-26T00:00:00\", \"precipitation\": 0.0, \"temp_max\": 31.1, \"temp_min\": 15.6, \"wind\": 1.8, \"weather\": \"sun\"}, {\"date\": \"2014-08-27T00:00:00\", \"precipitation\": 0.0, \"temp_max\": 28.9, \"temp_min\": 16.1, \"wind\": 1.6, \"weather\": \"sun\"}, {\"date\": \"2014-08-28T00:00:00\", \"precipitation\": 0.0, \"temp_max\": 23.3, \"temp_min\": 14.4, \"wind\": 2.3, \"weather\": \"sun\"}, {\"date\": \"2014-08-29T00:00:00\", \"precipitation\": 0.0, \"temp_max\": 22.8, \"temp_min\": 15.0, \"wind\": 3.4, \"weather\": \"sun\"}, {\"date\": \"2014-08-30T00:00:00\", \"precipitation\": 8.4, \"temp_max\": 17.8, \"temp_min\": 15.0, \"wind\": 2.2, \"weather\": \"fog\"}, {\"date\": \"2014-08-31T00:00:00\", \"precipitation\": 1.3, \"temp_max\": 21.1, \"temp_min\": 13.9, \"wind\": 1.9, \"weather\": \"fog\"}, {\"date\": \"2014-09-01T00:00:00\", \"precipitation\": 0.0, \"temp_max\": 23.3, \"temp_min\": 12.8, \"wind\": 2.5, \"weather\": \"sun\"}, {\"date\": \"2014-09-02T00:00:00\", \"precipitation\": 3.0, \"temp_max\": 20.0, \"temp_min\": 13.9, \"wind\": 4.3, \"weather\": \"fog\"}, {\"date\": \"2014-09-03T00:00:00\", \"precipitation\": 0.0, \"temp_max\": 20.6, \"temp_min\": 12.8, \"wind\": 2.7, \"weather\": \"sun\"}, {\"date\": \"2014-09-04T00:00:00\", \"precipitation\": 0.0, \"temp_max\": 23.9, \"temp_min\": 11.1, \"wind\": 3.1, \"weather\": \"fog\"}, {\"date\": \"2014-09-05T00:00:00\", \"precipitation\": 0.0, \"temp_max\": 27.8, \"temp_min\": 13.9, \"wind\": 6.5, \"weather\": \"fog\"}, {\"date\": \"2014-09-06T00:00:00\", \"precipitation\": 0.0, \"temp_max\": 32.2, \"temp_min\": 15.0, \"wind\": 2.9, \"weather\": \"sun\"}, {\"date\": \"2014-09-07T00:00:00\", \"precipitation\": 0.0, \"temp_max\": 28.3, \"temp_min\": 13.3, \"wind\": 2.1, \"weather\": \"sun\"}, {\"date\": \"2014-09-08T00:00:00\", \"precipitation\": 0.0, \"temp_max\": 21.1, \"temp_min\": 13.3, \"wind\": 2.8, \"weather\": \"sun\"}, {\"date\": \"2014-09-09T00:00:00\", \"precipitation\": 0.0, \"temp_max\": 21.7, \"temp_min\": 13.3, \"wind\": 2.3, \"weather\": \"sun\"}, {\"date\": \"2014-09-10T00:00:00\", \"precipitation\": 0.0, \"temp_max\": 22.2, \"temp_min\": 12.2, \"wind\": 3.9, \"weather\": \"sun\"}, {\"date\": \"2014-09-11T00:00:00\", \"precipitation\": 0.0, \"temp_max\": 24.4, \"temp_min\": 12.8, \"wind\": 5.3, \"weather\": \"sun\"}, {\"date\": \"2014-09-12T00:00:00\", \"precipitation\": 0.0, \"temp_max\": 24.4, \"temp_min\": 12.8, \"wind\": 5.9, \"weather\": \"sun\"}, {\"date\": \"2014-09-13T00:00:00\", \"precipitation\": 0.0, \"temp_max\": 28.3, \"temp_min\": 10.0, \"wind\": 4.2, \"weather\": \"sun\"}, {\"date\": \"2014-09-14T00:00:00\", \"precipitation\": 0.0, \"temp_max\": 30.0, \"temp_min\": 11.7, \"wind\": 1.8, \"weather\": \"sun\"}, {\"date\": \"2014-09-15T00:00:00\", \"precipitation\": 0.0, \"temp_max\": 30.6, \"temp_min\": 12.2, \"wind\": 1.2, \"weather\": \"sun\"}, {\"date\": \"2014-09-16T00:00:00\", \"precipitation\": 0.0, \"temp_max\": 22.2, \"temp_min\": 13.9, \"wind\": 2.8, \"weather\": \"sun\"}, {\"date\": \"2014-09-17T00:00:00\", \"precipitation\": 0.5, \"temp_max\": 22.8, \"temp_min\": 14.4, \"wind\": 2.3, \"weather\": \"sun\"}, {\"date\": \"2014-09-18T00:00:00\", \"precipitation\": 0.3, \"temp_max\": 19.4, \"temp_min\": 15.0, \"wind\": 3.1, \"weather\": \"fog\"}, {\"date\": \"2014-09-19T00:00:00\", \"precipitation\": 0.0, \"temp_max\": 23.9, \"temp_min\": 16.1, \"wind\": 2.8, \"weather\": \"sun\"}, {\"date\": \"2014-09-20T00:00:00\", \"precipitation\": 0.0, \"temp_max\": 24.4, \"temp_min\": 14.4, \"wind\": 4.4, \"weather\": \"fog\"}, {\"date\": \"2014-09-21T00:00:00\", \"precipitation\": 0.0, \"temp_max\": 26.1, \"temp_min\": 12.8, \"wind\": 3.0, \"weather\": \"sun\"}, {\"date\": \"2014-09-22T00:00:00\", \"precipitation\": 0.3, \"temp_max\": 22.2, \"temp_min\": 15.0, \"wind\": 2.1, \"weather\": \"fog\"}, {\"date\": \"2014-09-23T00:00:00\", \"precipitation\": 18.3, \"temp_max\": 18.9, \"temp_min\": 14.4, \"wind\": 2.5, \"weather\": \"fog\"}, {\"date\": \"2014-09-24T00:00:00\", \"precipitation\": 20.3, \"temp_max\": 18.9, \"temp_min\": 14.4, \"wind\": 2.7, \"weather\": \"fog\"}, {\"date\": \"2014-09-25T00:00:00\", \"precipitation\": 4.3, \"temp_max\": 21.7, \"temp_min\": 14.4, \"wind\": 2.5, \"weather\": \"fog\"}, {\"date\": \"2014-09-26T00:00:00\", \"precipitation\": 8.9, \"temp_max\": 20.0, \"temp_min\": 13.9, \"wind\": 3.3, \"weather\": \"fog\"}, {\"date\": \"2014-09-27T00:00:00\", \"precipitation\": 0.0, \"temp_max\": 20.6, \"temp_min\": 11.7, \"wind\": 3.2, \"weather\": \"fog\"}, {\"date\": \"2014-09-28T00:00:00\", \"precipitation\": 0.0, \"temp_max\": 18.9, \"temp_min\": 12.2, \"wind\": 2.0, \"weather\": \"fog\"}, {\"date\": \"2014-09-29T00:00:00\", \"precipitation\": 0.8, \"temp_max\": 16.7, \"temp_min\": 11.1, \"wind\": 3.5, \"weather\": \"fog\"}, {\"date\": \"2014-09-30T00:00:00\", \"precipitation\": 0.0, \"temp_max\": 19.4, \"temp_min\": 12.2, \"wind\": 2.6, \"weather\": \"sun\"}, {\"date\": \"2014-10-01T00:00:00\", \"precipitation\": 0.0, \"temp_max\": 18.3, \"temp_min\": 11.1, \"wind\": 2.1, \"weather\": \"sun\"}, {\"date\": \"2014-10-02T00:00:00\", \"precipitation\": 0.0, \"temp_max\": 19.4, \"temp_min\": 10.0, \"wind\": 2.0, \"weather\": \"sun\"}, {\"date\": \"2014-10-03T00:00:00\", \"precipitation\": 0.0, \"temp_max\": 22.2, \"temp_min\": 8.9, \"wind\": 1.0, \"weather\": \"sun\"}, {\"date\": \"2014-10-04T00:00:00\", \"precipitation\": 0.0, \"temp_max\": 21.7, \"temp_min\": 12.2, \"wind\": 1.2, \"weather\": \"sun\"}, {\"date\": \"2014-10-05T00:00:00\", \"precipitation\": 0.0, \"temp_max\": 23.9, \"temp_min\": 11.7, \"wind\": 1.4, \"weather\": \"fog\"}, {\"date\": \"2014-10-06T00:00:00\", \"precipitation\": 0.0, \"temp_max\": 25.6, \"temp_min\": 13.3, \"wind\": 2.5, \"weather\": \"fog\"}, {\"date\": \"2014-10-07T00:00:00\", \"precipitation\": 0.0, \"temp_max\": 18.9, \"temp_min\": 13.9, \"wind\": 1.0, \"weather\": \"fog\"}, {\"date\": \"2014-10-08T00:00:00\", \"precipitation\": 0.0, \"temp_max\": 20.6, \"temp_min\": 12.8, \"wind\": 1.8, \"weather\": \"fog\"}, {\"date\": \"2014-10-09T00:00:00\", \"precipitation\": 0.0, \"temp_max\": 17.2, \"temp_min\": 11.1, \"wind\": 1.0, \"weather\": \"fog\"}, {\"date\": \"2014-10-10T00:00:00\", \"precipitation\": 0.3, \"temp_max\": 18.3, \"temp_min\": 10.0, \"wind\": 3.8, \"weather\": \"fog\"}, {\"date\": \"2014-10-11T00:00:00\", \"precipitation\": 7.4, \"temp_max\": 18.3, \"temp_min\": 11.7, \"wind\": 3.5, \"weather\": \"rain\"}, {\"date\": \"2014-10-12T00:00:00\", \"precipitation\": 0.0, \"temp_max\": 17.8, \"temp_min\": 11.7, \"wind\": 2.1, \"weather\": \"sun\"}, {\"date\": \"2014-10-13T00:00:00\", \"precipitation\": 7.6, \"temp_max\": 21.1, \"temp_min\": 10.0, \"wind\": 3.1, \"weather\": \"fog\"}, {\"date\": \"2014-10-14T00:00:00\", \"precipitation\": 7.1, \"temp_max\": 16.7, \"temp_min\": 11.7, \"wind\": 2.2, \"weather\": \"fog\"}, {\"date\": \"2014-10-15T00:00:00\", \"precipitation\": 8.6, \"temp_max\": 16.1, \"temp_min\": 11.7, \"wind\": 4.7, \"weather\": \"fog\"}, {\"date\": \"2014-10-16T00:00:00\", \"precipitation\": 0.0, \"temp_max\": 20.6, \"temp_min\": 11.1, \"wind\": 3.3, \"weather\": \"sun\"}, {\"date\": \"2014-10-17T00:00:00\", \"precipitation\": 3.3, \"temp_max\": 16.7, \"temp_min\": 11.7, \"wind\": 3.0, \"weather\": \"fog\"}, {\"date\": \"2014-10-18T00:00:00\", \"precipitation\": 15.0, \"temp_max\": 19.4, \"temp_min\": 13.9, \"wind\": 1.9, \"weather\": \"fog\"}, {\"date\": \"2014-10-19T00:00:00\", \"precipitation\": 0.0, \"temp_max\": 22.2, \"temp_min\": 12.8, \"wind\": 3.2, \"weather\": \"sun\"}, {\"date\": \"2014-10-20T00:00:00\", \"precipitation\": 11.7, \"temp_max\": 16.1, \"temp_min\": 12.2, \"wind\": 3.1, \"weather\": \"fog\"}, {\"date\": \"2014-10-21T00:00:00\", \"precipitation\": 1.0, \"temp_max\": 16.1, \"temp_min\": 11.7, \"wind\": 4.7, \"weather\": \"sun\"}, {\"date\": \"2014-10-22T00:00:00\", \"precipitation\": 32.0, \"temp_max\": 15.6, \"temp_min\": 11.7, \"wind\": 5.0, \"weather\": \"fog\"}, {\"date\": \"2014-10-23T00:00:00\", \"precipitation\": 9.4, \"temp_max\": 14.4, \"temp_min\": 8.3, \"wind\": 4.6, \"weather\": \"sun\"}, {\"date\": \"2014-10-24T00:00:00\", \"precipitation\": 4.1, \"temp_max\": 14.4, \"temp_min\": 8.9, \"wind\": 3.2, \"weather\": \"sun\"}, {\"date\": \"2014-10-25T00:00:00\", \"precipitation\": 6.1, \"temp_max\": 16.7, \"temp_min\": 8.3, \"wind\": 5.4, \"weather\": \"fog\"}, {\"date\": \"2014-10-26T00:00:00\", \"precipitation\": 1.5, \"temp_max\": 12.8, \"temp_min\": 7.8, \"wind\": 5.0, \"weather\": \"fog\"}, {\"date\": \"2014-10-27T00:00:00\", \"precipitation\": 0.8, \"temp_max\": 15.6, \"temp_min\": 6.7, \"wind\": 2.4, \"weather\": \"sun\"}, {\"date\": \"2014-10-28T00:00:00\", \"precipitation\": 12.7, \"temp_max\": 15.0, \"temp_min\": 9.4, \"wind\": 3.9, \"weather\": \"fog\"}, {\"date\": \"2014-10-29T00:00:00\", \"precipitation\": 0.5, \"temp_max\": 16.7, \"temp_min\": 11.7, \"wind\": 3.1, \"weather\": \"fog\"}, {\"date\": \"2014-10-30T00:00:00\", \"precipitation\": 25.4, \"temp_max\": 15.6, \"temp_min\": 11.1, \"wind\": 3.2, \"weather\": \"fog\"}, {\"date\": \"2014-10-31T00:00:00\", \"precipitation\": 17.0, \"temp_max\": 12.8, \"temp_min\": 8.3, \"wind\": 2.0, \"weather\": \"fog\"}, {\"date\": \"2014-11-01T00:00:00\", \"precipitation\": 0.0, \"temp_max\": 11.1, \"temp_min\": 7.2, \"wind\": 1.2, \"weather\": \"fog\"}, {\"date\": \"2014-11-02T00:00:00\", \"precipitation\": 1.8, \"temp_max\": 13.3, \"temp_min\": 7.2, \"wind\": 2.9, \"weather\": \"fog\"}, {\"date\": \"2014-11-03T00:00:00\", \"precipitation\": 10.9, \"temp_max\": 13.9, \"temp_min\": 11.1, \"wind\": 4.8, \"weather\": \"fog\"}, {\"date\": \"2014-11-04T00:00:00\", \"precipitation\": 4.1, \"temp_max\": 14.4, \"temp_min\": 10.6, \"wind\": 3.3, \"weather\": \"fog\"}, {\"date\": \"2014-11-05T00:00:00\", \"precipitation\": 4.8, \"temp_max\": 15.0, \"temp_min\": 10.6, \"wind\": 2.1, \"weather\": \"fog\"}, {\"date\": \"2014-11-06T00:00:00\", \"precipitation\": 4.1, \"temp_max\": 16.7, \"temp_min\": 10.6, \"wind\": 6.7, \"weather\": \"fog\"}, {\"date\": \"2014-11-07T00:00:00\", \"precipitation\": 0.0, \"temp_max\": 14.4, \"temp_min\": 7.2, \"wind\": 2.3, \"weather\": \"sun\"}, {\"date\": \"2014-11-08T00:00:00\", \"precipitation\": 0.0, \"temp_max\": 12.8, \"temp_min\": 3.9, \"wind\": 0.8, \"weather\": \"fog\"}, {\"date\": \"2014-11-09T00:00:00\", \"precipitation\": 5.1, \"temp_max\": 13.3, \"temp_min\": 7.8, \"wind\": 3.0, \"weather\": \"fog\"}, {\"date\": \"2014-11-10T00:00:00\", \"precipitation\": 0.0, \"temp_max\": 11.1, \"temp_min\": 5.6, \"wind\": 3.9, \"weather\": \"sun\"}, {\"date\": \"2014-11-11T00:00:00\", \"precipitation\": 0.0, \"temp_max\": 7.8, \"temp_min\": 1.1, \"wind\": 7.7, \"weather\": \"sun\"}, {\"date\": \"2014-11-12T00:00:00\", \"precipitation\": 0.0, \"temp_max\": 6.7, \"temp_min\": 0.0, \"wind\": 7.6, \"weather\": \"sun\"}, {\"date\": \"2014-11-13T00:00:00\", \"precipitation\": 0.0, \"temp_max\": 7.2, \"temp_min\": 0.6, \"wind\": 4.7, \"weather\": \"sun\"}, {\"date\": \"2014-11-14T00:00:00\", \"precipitation\": 0.0, \"temp_max\": 7.2, \"temp_min\": -2.1, \"wind\": 4.5, \"weather\": \"sun\"}, {\"date\": \"2014-11-15T00:00:00\", \"precipitation\": 0.0, \"temp_max\": 8.3, \"temp_min\": -1.6, \"wind\": 4.2, \"weather\": \"sun\"}, {\"date\": \"2014-11-16T00:00:00\", \"precipitation\": 0.0, \"temp_max\": 9.4, \"temp_min\": -2.1, \"wind\": 4.2, \"weather\": \"sun\"}, {\"date\": \"2014-11-17T00:00:00\", \"precipitation\": 0.0, \"temp_max\": 10.6, \"temp_min\": -2.1, \"wind\": 1.9, \"weather\": \"sun\"}, {\"date\": \"2014-11-18T00:00:00\", \"precipitation\": 0.0, \"temp_max\": 7.2, \"temp_min\": -0.5, \"wind\": 0.9, \"weather\": \"sun\"}, {\"date\": \"2014-11-19T00:00:00\", \"precipitation\": 0.0, \"temp_max\": 11.1, \"temp_min\": 2.2, \"wind\": 1.9, \"weather\": \"sun\"}, {\"date\": \"2014-11-20T00:00:00\", \"precipitation\": 3.6, \"temp_max\": 11.1, \"temp_min\": 5.6, \"wind\": 2.1, \"weather\": \"fog\"}, {\"date\": \"2014-11-21T00:00:00\", \"precipitation\": 15.2, \"temp_max\": 11.1, \"temp_min\": 8.3, \"wind\": 4.7, \"weather\": \"fog\"}, {\"date\": \"2014-11-22T00:00:00\", \"precipitation\": 0.5, \"temp_max\": 9.4, \"temp_min\": 6.7, \"wind\": 4.7, \"weather\": \"sun\"}, {\"date\": \"2014-11-23T00:00:00\", \"precipitation\": 11.9, \"temp_max\": 12.8, \"temp_min\": 5.6, \"wind\": 5.1, \"weather\": \"fog\"}, {\"date\": \"2014-11-24T00:00:00\", \"precipitation\": 1.3, \"temp_max\": 11.7, \"temp_min\": 4.4, \"wind\": 3.8, \"weather\": \"fog\"}, {\"date\": \"2014-11-25T00:00:00\", \"precipitation\": 18.3, \"temp_max\": 13.9, \"temp_min\": 9.4, \"wind\": 4.5, \"weather\": \"fog\"}, {\"date\": \"2014-11-26T00:00:00\", \"precipitation\": 0.3, \"temp_max\": 15.0, \"temp_min\": 12.2, \"wind\": 3.9, \"weather\": \"sun\"}, {\"date\": \"2014-11-27T00:00:00\", \"precipitation\": 3.3, \"temp_max\": 14.4, \"temp_min\": 11.7, \"wind\": 6.6, \"weather\": \"fog\"}, {\"date\": \"2014-11-28T00:00:00\", \"precipitation\": 34.3, \"temp_max\": 12.8, \"temp_min\": 3.3, \"wind\": 5.8, \"weather\": \"fog\"}, {\"date\": \"2014-11-29T00:00:00\", \"precipitation\": 3.6, \"temp_max\": 4.4, \"temp_min\": -4.3, \"wind\": 5.3, \"weather\": \"fog\"}, {\"date\": \"2014-11-30T00:00:00\", \"precipitation\": 0.0, \"temp_max\": 2.8, \"temp_min\": -4.9, \"wind\": 4.4, \"weather\": \"sun\"}, {\"date\": \"2014-12-01T00:00:00\", \"precipitation\": 0.0, \"temp_max\": 4.4, \"temp_min\": -3.2, \"wind\": 2.2, \"weather\": \"sun\"}, {\"date\": \"2014-12-02T00:00:00\", \"precipitation\": 0.0, \"temp_max\": 5.6, \"temp_min\": -3.2, \"wind\": 5.7, \"weather\": \"fog\"}, {\"date\": \"2014-12-03T00:00:00\", \"precipitation\": 0.0, \"temp_max\": 10.0, \"temp_min\": 0.0, \"wind\": 3.6, \"weather\": \"sun\"}, {\"date\": \"2014-12-04T00:00:00\", \"precipitation\": 0.8, \"temp_max\": 8.3, \"temp_min\": 3.9, \"wind\": 1.1, \"weather\": \"fog\"}, {\"date\": \"2014-12-05T00:00:00\", \"precipitation\": 3.0, \"temp_max\": 12.8, \"temp_min\": 6.7, \"wind\": 3.1, \"weather\": \"fog\"}, {\"date\": \"2014-12-06T00:00:00\", \"precipitation\": 7.4, \"temp_max\": 11.7, \"temp_min\": 7.8, \"wind\": 3.6, \"weather\": \"fog\"}, {\"date\": \"2014-12-07T00:00:00\", \"precipitation\": 0.0, \"temp_max\": 14.4, \"temp_min\": 6.1, \"wind\": 2.8, \"weather\": \"sun\"}, {\"date\": \"2014-12-08T00:00:00\", \"precipitation\": 9.1, \"temp_max\": 14.4, \"temp_min\": 8.9, \"wind\": 4.2, \"weather\": \"fog\"}, {\"date\": \"2014-12-09T00:00:00\", \"precipitation\": 9.9, \"temp_max\": 16.1, \"temp_min\": 10.6, \"wind\": 5.1, \"weather\": \"fog\"}, {\"date\": \"2014-12-10T00:00:00\", \"precipitation\": 13.0, \"temp_max\": 18.9, \"temp_min\": 10.0, \"wind\": 6.7, \"weather\": \"fog\"}, {\"date\": \"2014-12-11T00:00:00\", \"precipitation\": 6.9, \"temp_max\": 14.4, \"temp_min\": 8.3, \"wind\": 6.4, \"weather\": \"fog\"}, {\"date\": \"2014-12-12T00:00:00\", \"precipitation\": 0.0, \"temp_max\": 11.1, \"temp_min\": 7.2, \"wind\": 3.7, \"weather\": \"sun\"}, {\"date\": \"2014-12-13T00:00:00\", \"precipitation\": 0.0, \"temp_max\": 10.0, \"temp_min\": 3.9, \"wind\": 1.1, \"weather\": \"fog\"}, {\"date\": \"2014-12-14T00:00:00\", \"precipitation\": 0.0, \"temp_max\": 12.8, \"temp_min\": 1.7, \"wind\": 3.5, \"weather\": \"fog\"}, {\"date\": \"2014-12-15T00:00:00\", \"precipitation\": 0.0, \"temp_max\": 12.2, \"temp_min\": 6.7, \"wind\": 5.9, \"weather\": \"sun\"}, {\"date\": \"2014-12-16T00:00:00\", \"precipitation\": 0.0, \"temp_max\": 10.0, \"temp_min\": 8.3, \"wind\": 4.0, \"weather\": \"sun\"}, {\"date\": \"2014-12-17T00:00:00\", \"precipitation\": 2.8, \"temp_max\": 8.9, \"temp_min\": 6.1, \"wind\": 1.6, \"weather\": \"fog\"}, {\"date\": \"2014-12-18T00:00:00\", \"precipitation\": 13.0, \"temp_max\": 9.4, \"temp_min\": 6.7, \"wind\": 3.1, \"weather\": \"fog\"}, {\"date\": \"2014-12-19T00:00:00\", \"precipitation\": 3.0, \"temp_max\": 11.1, \"temp_min\": 7.2, \"wind\": 4.3, \"weather\": \"sun\"}, {\"date\": \"2014-12-20T00:00:00\", \"precipitation\": 19.6, \"temp_max\": 12.8, \"temp_min\": 6.7, \"wind\": 5.5, \"weather\": \"fog\"}, {\"date\": \"2014-12-21T00:00:00\", \"precipitation\": 0.0, \"temp_max\": 12.8, \"temp_min\": 10.0, \"wind\": 5.2, \"weather\": \"sun\"}, {\"date\": \"2014-12-22T00:00:00\", \"precipitation\": 0.0, \"temp_max\": 10.6, \"temp_min\": 6.1, \"wind\": 1.5, \"weather\": \"sun\"}, {\"date\": \"2014-12-23T00:00:00\", \"precipitation\": 20.6, \"temp_max\": 12.2, \"temp_min\": 5.0, \"wind\": 3.8, \"weather\": \"fog\"}, {\"date\": \"2014-12-24T00:00:00\", \"precipitation\": 5.3, \"temp_max\": 7.2, \"temp_min\": 3.9, \"wind\": 1.8, \"weather\": \"fog\"}, {\"date\": \"2014-12-25T00:00:00\", \"precipitation\": 0.0, \"temp_max\": 7.8, \"temp_min\": 2.8, \"wind\": 2.2, \"weather\": \"fog\"}, {\"date\": \"2014-12-26T00:00:00\", \"precipitation\": 0.0, \"temp_max\": 5.6, \"temp_min\": 1.7, \"wind\": 1.2, \"weather\": \"fog\"}, {\"date\": \"2014-12-27T00:00:00\", \"precipitation\": 3.3, \"temp_max\": 9.4, \"temp_min\": 4.4, \"wind\": 4.9, \"weather\": \"fog\"}, {\"date\": \"2014-12-28T00:00:00\", \"precipitation\": 4.1, \"temp_max\": 6.7, \"temp_min\": 2.8, \"wind\": 1.8, \"weather\": \"fog\"}, {\"date\": \"2014-12-29T00:00:00\", \"precipitation\": 0.0, \"temp_max\": 6.1, \"temp_min\": 0.6, \"wind\": 4.3, \"weather\": \"fog\"}, {\"date\": \"2014-12-30T00:00:00\", \"precipitation\": 0.0, \"temp_max\": 3.3, \"temp_min\": -2.1, \"wind\": 3.6, \"weather\": \"sun\"}, {\"date\": \"2014-12-31T00:00:00\", \"precipitation\": 0.0, \"temp_max\": 3.3, \"temp_min\": -2.7, \"wind\": 3.0, \"weather\": \"sun\"}, {\"date\": \"2015-01-01T00:00:00\", \"precipitation\": 0.0, \"temp_max\": 5.6, \"temp_min\": -3.2, \"wind\": 1.2, \"weather\": \"sun\"}, {\"date\": \"2015-01-02T00:00:00\", \"precipitation\": 1.5, \"temp_max\": 5.6, \"temp_min\": 0.0, \"wind\": 2.3, \"weather\": \"fog\"}, {\"date\": \"2015-01-03T00:00:00\", \"precipitation\": 0.0, \"temp_max\": 5.0, \"temp_min\": 1.7, \"wind\": 1.7, \"weather\": \"fog\"}, {\"date\": \"2015-01-04T00:00:00\", \"precipitation\": 10.2, \"temp_max\": 10.6, \"temp_min\": 3.3, \"wind\": 4.5, \"weather\": \"fog\"}, {\"date\": \"2015-01-05T00:00:00\", \"precipitation\": 8.1, \"temp_max\": 12.2, \"temp_min\": 9.4, \"wind\": 6.4, \"weather\": \"fog\"}, {\"date\": \"2015-01-06T00:00:00\", \"precipitation\": 0.0, \"temp_max\": 12.2, \"temp_min\": 6.1, \"wind\": 1.3, \"weather\": \"fog\"}, {\"date\": \"2015-01-07T00:00:00\", \"precipitation\": 0.0, \"temp_max\": 7.8, \"temp_min\": 5.6, \"wind\": 1.6, \"weather\": \"fog\"}, {\"date\": \"2015-01-08T00:00:00\", \"precipitation\": 0.0, \"temp_max\": 7.8, \"temp_min\": 1.7, \"wind\": 2.6, \"weather\": \"fog\"}, {\"date\": \"2015-01-09T00:00:00\", \"precipitation\": 0.3, \"temp_max\": 10.0, \"temp_min\": 3.3, \"wind\": 0.6, \"weather\": \"fog\"}, {\"date\": \"2015-01-10T00:00:00\", \"precipitation\": 5.8, \"temp_max\": 7.8, \"temp_min\": 6.1, \"wind\": 0.5, \"weather\": \"fog\"}, {\"date\": \"2015-01-11T00:00:00\", \"precipitation\": 1.5, \"temp_max\": 9.4, \"temp_min\": 7.2, \"wind\": 1.1, \"weather\": \"fog\"}, {\"date\": \"2015-01-12T00:00:00\", \"precipitation\": 0.0, \"temp_max\": 11.1, \"temp_min\": 4.4, \"wind\": 1.6, \"weather\": \"fog\"}, {\"date\": \"2015-01-13T00:00:00\", \"precipitation\": 0.0, \"temp_max\": 9.4, \"temp_min\": 2.8, \"wind\": 2.7, \"weather\": \"fog\"}, {\"date\": \"2015-01-14T00:00:00\", \"precipitation\": 0.0, \"temp_max\": 6.1, \"temp_min\": 0.6, \"wind\": 2.8, \"weather\": \"fog\"}, {\"date\": \"2015-01-15T00:00:00\", \"precipitation\": 9.7, \"temp_max\": 7.8, \"temp_min\": 1.1, \"wind\": 3.2, \"weather\": \"fog\"}, {\"date\": \"2015-01-16T00:00:00\", \"precipitation\": 0.0, \"temp_max\": 11.7, \"temp_min\": 5.6, \"wind\": 4.5, \"weather\": \"fog\"}, {\"date\": \"2015-01-17T00:00:00\", \"precipitation\": 26.2, \"temp_max\": 13.3, \"temp_min\": 3.3, \"wind\": 2.8, \"weather\": \"fog\"}, {\"date\": \"2015-01-18T00:00:00\", \"precipitation\": 21.3, \"temp_max\": 13.9, \"temp_min\": 7.2, \"wind\": 6.6, \"weather\": \"rain\"}, {\"date\": \"2015-01-19T00:00:00\", \"precipitation\": 0.5, \"temp_max\": 10.0, \"temp_min\": 6.1, \"wind\": 2.8, \"weather\": \"sun\"}, {\"date\": \"2015-01-20T00:00:00\", \"precipitation\": 0.0, \"temp_max\": 10.0, \"temp_min\": 3.3, \"wind\": 3.0, \"weather\": \"fog\"}, {\"date\": \"2015-01-21T00:00:00\", \"precipitation\": 0.0, \"temp_max\": 7.2, \"temp_min\": -0.5, \"wind\": 1.3, \"weather\": \"fog\"}, {\"date\": \"2015-01-22T00:00:00\", \"precipitation\": 0.8, \"temp_max\": 9.4, \"temp_min\": 6.1, \"wind\": 1.3, \"weather\": \"fog\"}, {\"date\": \"2015-01-23T00:00:00\", \"precipitation\": 5.8, \"temp_max\": 12.2, \"temp_min\": 8.3, \"wind\": 2.6, \"weather\": \"fog\"}, {\"date\": \"2015-01-24T00:00:00\", \"precipitation\": 0.5, \"temp_max\": 14.4, \"temp_min\": 11.1, \"wind\": 3.3, \"weather\": \"fog\"}, {\"date\": \"2015-01-25T00:00:00\", \"precipitation\": 0.0, \"temp_max\": 17.2, \"temp_min\": 7.2, \"wind\": 1.4, \"weather\": \"fog\"}, {\"date\": \"2015-01-26T00:00:00\", \"precipitation\": 0.0, \"temp_max\": 16.1, \"temp_min\": 6.1, \"wind\": 2.2, \"weather\": \"fog\"}, {\"date\": \"2015-01-27T00:00:00\", \"precipitation\": 0.8, \"temp_max\": 11.1, \"temp_min\": 8.3, \"wind\": 2.0, \"weather\": \"fog\"}, {\"date\": \"2015-01-28T00:00:00\", \"precipitation\": 0.0, \"temp_max\": 12.2, \"temp_min\": 5.0, \"wind\": 1.8, \"weather\": \"fog\"}, {\"date\": \"2015-01-29T00:00:00\", \"precipitation\": 0.0, \"temp_max\": 12.2, \"temp_min\": 3.3, \"wind\": 2.9, \"weather\": \"sun\"}, {\"date\": \"2015-01-30T00:00:00\", \"precipitation\": 0.0, \"temp_max\": 8.3, \"temp_min\": 1.1, \"wind\": 0.8, \"weather\": \"fog\"}, {\"date\": \"2015-01-31T00:00:00\", \"precipitation\": 0.0, \"temp_max\": 7.2, \"temp_min\": 3.3, \"wind\": 1.9, \"weather\": \"fog\"}, {\"date\": \"2015-02-01T00:00:00\", \"precipitation\": 1.5, \"temp_max\": 9.4, \"temp_min\": 4.4, \"wind\": 2.6, \"weather\": \"fog\"}, {\"date\": \"2015-02-02T00:00:00\", \"precipitation\": 7.4, \"temp_max\": 11.1, \"temp_min\": 5.0, \"wind\": 4.0, \"weather\": \"fog\"}, {\"date\": \"2015-02-03T00:00:00\", \"precipitation\": 1.3, \"temp_max\": 10.0, \"temp_min\": 5.6, \"wind\": 1.9, \"weather\": \"fog\"}, {\"date\": \"2015-02-04T00:00:00\", \"precipitation\": 8.4, \"temp_max\": 10.6, \"temp_min\": 4.4, \"wind\": 1.7, \"weather\": \"fog\"}, {\"date\": \"2015-02-05T00:00:00\", \"precipitation\": 26.2, \"temp_max\": 13.3, \"temp_min\": 8.3, \"wind\": 4.6, \"weather\": \"fog\"}, {\"date\": \"2015-02-06T00:00:00\", \"precipitation\": 17.3, \"temp_max\": 14.4, \"temp_min\": 10.0, \"wind\": 4.5, \"weather\": \"fog\"}, {\"date\": \"2015-02-07T00:00:00\", \"precipitation\": 23.6, \"temp_max\": 12.2, \"temp_min\": 9.4, \"wind\": 4.6, \"weather\": \"fog\"}, {\"date\": \"2015-02-08T00:00:00\", \"precipitation\": 3.6, \"temp_max\": 15.0, \"temp_min\": 8.3, \"wind\": 3.9, \"weather\": \"fog\"}, {\"date\": \"2015-02-09T00:00:00\", \"precipitation\": 6.1, \"temp_max\": 13.3, \"temp_min\": 8.3, \"wind\": 2.5, \"weather\": \"fog\"}, {\"date\": \"2015-02-10T00:00:00\", \"precipitation\": 0.3, \"temp_max\": 12.8, \"temp_min\": 8.3, \"wind\": 4.0, \"weather\": \"fog\"}, {\"date\": \"2015-02-11T00:00:00\", \"precipitation\": 0.0, \"temp_max\": 12.8, \"temp_min\": 5.6, \"wind\": 1.0, \"weather\": \"fog\"}, {\"date\": \"2015-02-12T00:00:00\", \"precipitation\": 1.0, \"temp_max\": 16.7, \"temp_min\": 9.4, \"wind\": 2.1, \"weather\": \"sun\"}, {\"date\": \"2015-02-13T00:00:00\", \"precipitation\": 0.0, \"temp_max\": 15.6, \"temp_min\": 6.7, \"wind\": 1.7, \"weather\": \"fog\"}, {\"date\": \"2015-02-14T00:00:00\", \"precipitation\": 0.3, \"temp_max\": 14.4, \"temp_min\": 6.7, \"wind\": 2.9, \"weather\": \"fog\"}, {\"date\": \"2015-02-15T00:00:00\", \"precipitation\": 0.0, \"temp_max\": 12.2, \"temp_min\": 3.9, \"wind\": 4.8, \"weather\": \"sun\"}, {\"date\": \"2015-02-16T00:00:00\", \"precipitation\": 0.0, \"temp_max\": 15.0, \"temp_min\": 5.6, \"wind\": 6.6, \"weather\": \"fog\"}, {\"date\": \"2015-02-17T00:00:00\", \"precipitation\": 0.0, \"temp_max\": 16.1, \"temp_min\": 4.4, \"wind\": 4.0, \"weather\": \"sun\"}, {\"date\": \"2015-02-18T00:00:00\", \"precipitation\": 0.0, \"temp_max\": 12.2, \"temp_min\": 4.4, \"wind\": 2.6, \"weather\": \"sun\"}, {\"date\": \"2015-02-19T00:00:00\", \"precipitation\": 4.6, \"temp_max\": 10.6, \"temp_min\": 8.3, \"wind\": 2.2, \"weather\": \"fog\"}, {\"date\": \"2015-02-20T00:00:00\", \"precipitation\": 0.8, \"temp_max\": 11.1, \"temp_min\": 7.2, \"wind\": 0.9, \"weather\": \"fog\"}, {\"date\": \"2015-02-21T00:00:00\", \"precipitation\": 0.0, \"temp_max\": 12.2, \"temp_min\": 5.6, \"wind\": 4.5, \"weather\": \"sun\"}, {\"date\": \"2015-02-22T00:00:00\", \"precipitation\": 0.0, \"temp_max\": 11.7, \"temp_min\": 3.3, \"wind\": 4.2, \"weather\": \"sun\"}, {\"date\": \"2015-02-23T00:00:00\", \"precipitation\": 0.0, \"temp_max\": 12.8, \"temp_min\": 0.6, \"wind\": 1.4, \"weather\": \"sun\"}, {\"date\": \"2015-02-24T00:00:00\", \"precipitation\": 0.0, \"temp_max\": 11.1, \"temp_min\": 2.2, \"wind\": 1.5, \"weather\": \"sun\"}, {\"date\": \"2015-02-25T00:00:00\", \"precipitation\": 4.1, \"temp_max\": 10.0, \"temp_min\": 6.7, \"wind\": 1.0, \"weather\": \"fog\"}, {\"date\": \"2015-02-26T00:00:00\", \"precipitation\": 9.4, \"temp_max\": 11.7, \"temp_min\": 7.8, \"wind\": 1.4, \"weather\": \"fog\"}, {\"date\": \"2015-02-27T00:00:00\", \"precipitation\": 18.3, \"temp_max\": 10.0, \"temp_min\": 6.7, \"wind\": 4.0, \"weather\": \"fog\"}, {\"date\": \"2015-02-28T00:00:00\", \"precipitation\": 0.0, \"temp_max\": 12.2, \"temp_min\": 3.3, \"wind\": 5.1, \"weather\": \"sun\"}, {\"date\": \"2015-03-01T00:00:00\", \"precipitation\": 0.0, \"temp_max\": 11.1, \"temp_min\": 1.1, \"wind\": 2.2, \"weather\": \"sun\"}, {\"date\": \"2015-03-02T00:00:00\", \"precipitation\": 0.0, \"temp_max\": 11.1, \"temp_min\": 4.4, \"wind\": 4.8, \"weather\": \"sun\"}, {\"date\": \"2015-03-03T00:00:00\", \"precipitation\": 0.0, \"temp_max\": 10.6, \"temp_min\": 0.0, \"wind\": 2.1, \"weather\": \"sun\"}, {\"date\": \"2015-03-04T00:00:00\", \"precipitation\": 0.0, \"temp_max\": 12.8, \"temp_min\": -0.5, \"wind\": 1.8, \"weather\": \"sun\"}, {\"date\": \"2015-03-05T00:00:00\", \"precipitation\": 0.0, \"temp_max\": 13.3, \"temp_min\": 2.8, \"wind\": 1.3, \"weather\": \"sun\"}, {\"date\": \"2015-03-06T00:00:00\", \"precipitation\": 0.0, \"temp_max\": 15.0, \"temp_min\": 3.3, \"wind\": 1.4, \"weather\": \"sun\"}, {\"date\": \"2015-03-07T00:00:00\", \"precipitation\": 0.0, \"temp_max\": 16.7, \"temp_min\": 3.9, \"wind\": 2.7, \"weather\": \"fog\"}, {\"date\": \"2015-03-08T00:00:00\", \"precipitation\": 0.0, \"temp_max\": 17.2, \"temp_min\": 3.9, \"wind\": 1.7, \"weather\": \"fog\"}, {\"date\": \"2015-03-09T00:00:00\", \"precipitation\": 0.0, \"temp_max\": 14.4, \"temp_min\": 4.4, \"wind\": 1.8, \"weather\": \"fog\"}, {\"date\": \"2015-03-10T00:00:00\", \"precipitation\": 0.8, \"temp_max\": 13.3, \"temp_min\": 5.0, \"wind\": 2.6, \"weather\": \"fog\"}, {\"date\": \"2015-03-11T00:00:00\", \"precipitation\": 2.5, \"temp_max\": 14.4, \"temp_min\": 8.9, \"wind\": 3.1, \"weather\": \"fog\"}, {\"date\": \"2015-03-12T00:00:00\", \"precipitation\": 0.0, \"temp_max\": 17.8, \"temp_min\": 9.4, \"wind\": 3.2, \"weather\": \"sun\"}, {\"date\": \"2015-03-13T00:00:00\", \"precipitation\": 2.0, \"temp_max\": 17.2, \"temp_min\": 7.8, \"wind\": 2.2, \"weather\": \"sun\"}, {\"date\": \"2015-03-14T00:00:00\", \"precipitation\": 17.0, \"temp_max\": 13.9, \"temp_min\": 9.4, \"wind\": 3.8, \"weather\": \"fog\"}, {\"date\": \"2015-03-15T00:00:00\", \"precipitation\": 55.9, \"temp_max\": 10.6, \"temp_min\": 6.1, \"wind\": 4.2, \"weather\": \"fog\"}, {\"date\": \"2015-03-16T00:00:00\", \"precipitation\": 1.0, \"temp_max\": 13.9, \"temp_min\": 6.1, \"wind\": 3.0, \"weather\": \"fog\"}, {\"date\": \"2015-03-17T00:00:00\", \"precipitation\": 0.8, \"temp_max\": 13.3, \"temp_min\": 4.4, \"wind\": 2.6, \"weather\": \"sun\"}, {\"date\": \"2015-03-18T00:00:00\", \"precipitation\": 0.0, \"temp_max\": 15.6, \"temp_min\": 7.2, \"wind\": 2.5, \"weather\": \"sun\"}, {\"date\": \"2015-03-19T00:00:00\", \"precipitation\": 0.0, \"temp_max\": 15.6, \"temp_min\": 8.3, \"wind\": 1.9, \"weather\": \"sun\"}, {\"date\": \"2015-03-20T00:00:00\", \"precipitation\": 4.1, \"temp_max\": 13.9, \"temp_min\": 8.9, \"wind\": 1.9, \"weather\": \"sun\"}, {\"date\": \"2015-03-21T00:00:00\", \"precipitation\": 3.8, \"temp_max\": 13.3, \"temp_min\": 8.3, \"wind\": 4.7, \"weather\": \"fog\"}, {\"date\": \"2015-03-22T00:00:00\", \"precipitation\": 1.0, \"temp_max\": 11.7, \"temp_min\": 6.1, \"wind\": 2.3, \"weather\": \"sun\"}, {\"date\": \"2015-03-23T00:00:00\", \"precipitation\": 8.1, \"temp_max\": 11.1, \"temp_min\": 5.6, \"wind\": 2.8, \"weather\": \"fog\"}, {\"date\": \"2015-03-24T00:00:00\", \"precipitation\": 7.6, \"temp_max\": 12.8, \"temp_min\": 6.1, \"wind\": 3.9, \"weather\": \"fog\"}, {\"date\": \"2015-03-25T00:00:00\", \"precipitation\": 5.1, \"temp_max\": 14.4, \"temp_min\": 7.2, \"wind\": 4.4, \"weather\": \"fog\"}, {\"date\": \"2015-03-26T00:00:00\", \"precipitation\": 0.0, \"temp_max\": 20.6, \"temp_min\": 10.0, \"wind\": 2.2, \"weather\": \"sun\"}, {\"date\": \"2015-03-27T00:00:00\", \"precipitation\": 1.0, \"temp_max\": 18.3, \"temp_min\": 8.9, \"wind\": 4.0, \"weather\": \"fog\"}, {\"date\": \"2015-03-28T00:00:00\", \"precipitation\": 0.0, \"temp_max\": 15.6, \"temp_min\": 9.4, \"wind\": 5.7, \"weather\": \"sun\"}, {\"date\": \"2015-03-29T00:00:00\", \"precipitation\": 0.0, \"temp_max\": 15.6, \"temp_min\": 8.9, \"wind\": 3.0, \"weather\": \"sun\"}, {\"date\": \"2015-03-30T00:00:00\", \"precipitation\": 1.8, \"temp_max\": 17.8, \"temp_min\": 10.6, \"wind\": 2.9, \"weather\": \"fog\"}, {\"date\": \"2015-03-31T00:00:00\", \"precipitation\": 1.0, \"temp_max\": 12.8, \"temp_min\": 6.1, \"wind\": 4.2, \"weather\": \"fog\"}, {\"date\": \"2015-04-01T00:00:00\", \"precipitation\": 5.1, \"temp_max\": 12.8, \"temp_min\": 5.6, \"wind\": 3.2, \"weather\": \"rain\"}, {\"date\": \"2015-04-02T00:00:00\", \"precipitation\": 0.0, \"temp_max\": 13.3, \"temp_min\": 5.6, \"wind\": 2.4, \"weather\": \"sun\"}, {\"date\": \"2015-04-03T00:00:00\", \"precipitation\": 1.5, \"temp_max\": 11.1, \"temp_min\": 5.0, \"wind\": 3.6, \"weather\": \"fog\"}, {\"date\": \"2015-04-04T00:00:00\", \"precipitation\": 0.0, \"temp_max\": 12.8, \"temp_min\": 3.9, \"wind\": 1.7, \"weather\": \"sun\"}, {\"date\": \"2015-04-05T00:00:00\", \"precipitation\": 0.0, \"temp_max\": 16.7, \"temp_min\": 2.8, \"wind\": 2.4, \"weather\": \"sun\"}, {\"date\": \"2015-04-06T00:00:00\", \"precipitation\": 1.0, \"temp_max\": 13.9, \"temp_min\": 6.7, \"wind\": 3.5, \"weather\": \"sun\"}, {\"date\": \"2015-04-07T00:00:00\", \"precipitation\": 0.5, \"temp_max\": 14.4, \"temp_min\": 6.7, \"wind\": 3.9, \"weather\": \"sun\"}, {\"date\": \"2015-04-08T00:00:00\", \"precipitation\": 0.0, \"temp_max\": 17.2, \"temp_min\": 6.1, \"wind\": 1.7, \"weather\": \"sun\"}, {\"date\": \"2015-04-09T00:00:00\", \"precipitation\": 0.0, \"temp_max\": 17.2, \"temp_min\": 6.1, \"wind\": 2.3, \"weather\": \"sun\"}, {\"date\": \"2015-04-10T00:00:00\", \"precipitation\": 10.9, \"temp_max\": 13.9, \"temp_min\": 7.8, \"wind\": 4.6, \"weather\": \"fog\"}, {\"date\": \"2015-04-11T00:00:00\", \"precipitation\": 0.0, \"temp_max\": 11.7, \"temp_min\": 5.6, \"wind\": 6.5, \"weather\": \"sun\"}, {\"date\": \"2015-04-12T00:00:00\", \"precipitation\": 0.0, \"temp_max\": 13.3, \"temp_min\": 5.6, \"wind\": 3.6, \"weather\": \"sun\"}, {\"date\": \"2015-04-13T00:00:00\", \"precipitation\": 14.0, \"temp_max\": 11.7, \"temp_min\": 3.9, \"wind\": 3.6, \"weather\": \"fog\"}, {\"date\": \"2015-04-14T00:00:00\", \"precipitation\": 3.3, \"temp_max\": 11.7, \"temp_min\": 2.8, \"wind\": 3.3, \"weather\": \"sun\"}, {\"date\": \"2015-04-15T00:00:00\", \"precipitation\": 0.0, \"temp_max\": 13.9, \"temp_min\": 3.3, \"wind\": 2.4, \"weather\": \"sun\"}, {\"date\": \"2015-04-16T00:00:00\", \"precipitation\": 0.0, \"temp_max\": 17.8, \"temp_min\": 3.9, \"wind\": 3.1, \"weather\": \"sun\"}, {\"date\": \"2015-04-17T00:00:00\", \"precipitation\": 0.0, \"temp_max\": 18.9, \"temp_min\": 6.1, \"wind\": 3.6, \"weather\": \"sun\"}, {\"date\": \"2015-04-18T00:00:00\", \"precipitation\": 0.0, \"temp_max\": 18.9, \"temp_min\": 8.3, \"wind\": 3.9, \"weather\": \"sun\"}, {\"date\": \"2015-04-19T00:00:00\", \"precipitation\": 0.0, \"temp_max\": 21.1, \"temp_min\": 8.3, \"wind\": 3.6, \"weather\": \"sun\"}, {\"date\": \"2015-04-20T00:00:00\", \"precipitation\": 0.0, \"temp_max\": 22.8, \"temp_min\": 7.8, \"wind\": 2.6, \"weather\": \"sun\"}, {\"date\": \"2015-04-21T00:00:00\", \"precipitation\": 5.6, \"temp_max\": 17.2, \"temp_min\": 6.7, \"wind\": 3.4, \"weather\": \"fog\"}, {\"date\": \"2015-04-22T00:00:00\", \"precipitation\": 0.0, \"temp_max\": 15.6, \"temp_min\": 5.0, \"wind\": 2.3, \"weather\": \"sun\"}, {\"date\": \"2015-04-23T00:00:00\", \"precipitation\": 3.0, \"temp_max\": 12.2, \"temp_min\": 6.7, \"wind\": 4.1, \"weather\": \"fog\"}, {\"date\": \"2015-04-24T00:00:00\", \"precipitation\": 3.3, \"temp_max\": 12.2, \"temp_min\": 6.1, \"wind\": 5.0, \"weather\": \"fog\"}, {\"date\": \"2015-04-25T00:00:00\", \"precipitation\": 1.3, \"temp_max\": 13.3, \"temp_min\": 5.6, \"wind\": 3.0, \"weather\": \"fog\"}, {\"date\": \"2015-04-26T00:00:00\", \"precipitation\": 0.0, \"temp_max\": 15.6, \"temp_min\": 4.4, \"wind\": 2.7, \"weather\": \"fog\"}, {\"date\": \"2015-04-27T00:00:00\", \"precipitation\": 0.3, \"temp_max\": 25.0, \"temp_min\": 10.6, \"wind\": 2.3, \"weather\": \"fog\"}, {\"date\": \"2015-04-28T00:00:00\", \"precipitation\": 1.8, \"temp_max\": 15.6, \"temp_min\": 8.9, \"wind\": 4.3, \"weather\": \"fog\"}, {\"date\": \"2015-04-29T00:00:00\", \"precipitation\": 0.0, \"temp_max\": 16.1, \"temp_min\": 7.2, \"wind\": 4.7, \"weather\": \"sun\"}, {\"date\": \"2015-04-30T00:00:00\", \"precipitation\": 0.0, \"temp_max\": 17.2, \"temp_min\": 7.8, \"wind\": 2.1, \"weather\": \"sun\"}, {\"date\": \"2015-05-01T00:00:00\", \"precipitation\": 0.0, \"temp_max\": 18.3, \"temp_min\": 8.9, \"wind\": 3.7, \"weather\": \"sun\"}, {\"date\": \"2015-05-02T00:00:00\", \"precipitation\": 0.0, \"temp_max\": 18.3, \"temp_min\": 7.8, \"wind\": 3.7, \"weather\": \"sun\"}, {\"date\": \"2015-05-03T00:00:00\", \"precipitation\": 0.0, \"temp_max\": 20.6, \"temp_min\": 7.8, \"wind\": 2.6, \"weather\": \"sun\"}, {\"date\": \"2015-05-04T00:00:00\", \"precipitation\": 0.0, \"temp_max\": 17.2, \"temp_min\": 7.2, \"wind\": 5.2, \"weather\": \"sun\"}, {\"date\": \"2015-05-05T00:00:00\", \"precipitation\": 6.1, \"temp_max\": 14.4, \"temp_min\": 7.2, \"wind\": 5.1, \"weather\": \"fog\"}, {\"date\": \"2015-05-06T00:00:00\", \"precipitation\": 0.0, \"temp_max\": 16.7, \"temp_min\": 7.2, \"wind\": 2.6, \"weather\": \"fog\"}, {\"date\": \"2015-05-07T00:00:00\", \"precipitation\": 0.0, \"temp_max\": 20.6, \"temp_min\": 6.1, \"wind\": 3.0, \"weather\": \"sun\"}, {\"date\": \"2015-05-08T00:00:00\", \"precipitation\": 0.0, \"temp_max\": 23.9, \"temp_min\": 8.3, \"wind\": 3.0, \"weather\": \"sun\"}, {\"date\": \"2015-05-09T00:00:00\", \"precipitation\": 0.0, \"temp_max\": 26.7, \"temp_min\": 9.4, \"wind\": 2.6, \"weather\": \"sun\"}, {\"date\": \"2015-05-10T00:00:00\", \"precipitation\": 0.0, \"temp_max\": 19.4, \"temp_min\": 11.1, \"wind\": 2.8, \"weather\": \"sun\"}, {\"date\": \"2015-05-11T00:00:00\", \"precipitation\": 0.0, \"temp_max\": 13.9, \"temp_min\": 10.0, \"wind\": 2.5, \"weather\": \"fog\"}, {\"date\": \"2015-05-12T00:00:00\", \"precipitation\": 4.3, \"temp_max\": 15.6, \"temp_min\": 10.6, \"wind\": 3.3, \"weather\": \"fog\"}, {\"date\": \"2015-05-13T00:00:00\", \"precipitation\": 4.1, \"temp_max\": 12.2, \"temp_min\": 10.0, \"wind\": 2.8, \"weather\": \"fog\"}, {\"date\": \"2015-05-14T00:00:00\", \"precipitation\": 0.3, \"temp_max\": 17.8, \"temp_min\": 9.4, \"wind\": 2.0, \"weather\": \"fog\"}, {\"date\": \"2015-05-15T00:00:00\", \"precipitation\": 0.0, \"temp_max\": 20.0, \"temp_min\": 9.4, \"wind\": 2.8, \"weather\": \"fog\"}, {\"date\": \"2015-05-16T00:00:00\", \"precipitation\": 0.0, \"temp_max\": 15.6, \"temp_min\": 11.1, \"wind\": 3.0, \"weather\": \"sun\"}, {\"date\": \"2015-05-17T00:00:00\", \"precipitation\": 0.0, \"temp_max\": 19.4, \"temp_min\": 10.6, \"wind\": 2.1, \"weather\": \"sun\"}, {\"date\": \"2015-05-18T00:00:00\", \"precipitation\": 0.0, \"temp_max\": 25.6, \"temp_min\": 12.2, \"wind\": 3.0, \"weather\": \"sun\"}, {\"date\": \"2015-05-19T00:00:00\", \"precipitation\": 0.0, \"temp_max\": 21.7, \"temp_min\": 11.7, \"wind\": 2.6, \"weather\": \"sun\"}, {\"date\": \"2015-05-20T00:00:00\", \"precipitation\": 0.0, \"temp_max\": 23.3, \"temp_min\": 10.6, \"wind\": 1.8, \"weather\": \"fog\"}, {\"date\": \"2015-05-21T00:00:00\", \"precipitation\": 0.0, \"temp_max\": 25.6, \"temp_min\": 11.7, \"wind\": 2.1, \"weather\": \"sun\"}, {\"date\": \"2015-05-22T00:00:00\", \"precipitation\": 0.0, \"temp_max\": 16.7, \"temp_min\": 11.7, \"wind\": 3.7, \"weather\": \"sun\"}, {\"date\": \"2015-05-23T00:00:00\", \"precipitation\": 0.0, \"temp_max\": 16.1, \"temp_min\": 11.7, \"wind\": 2.6, \"weather\": \"sun\"}, {\"date\": \"2015-05-24T00:00:00\", \"precipitation\": 0.0, \"temp_max\": 17.8, \"temp_min\": 11.1, \"wind\": 2.7, \"weather\": \"sun\"}, {\"date\": \"2015-05-25T00:00:00\", \"precipitation\": 0.0, \"temp_max\": 15.6, \"temp_min\": 11.1, \"wind\": 2.7, \"weather\": \"sun\"}, {\"date\": \"2015-05-26T00:00:00\", \"precipitation\": 0.0, \"temp_max\": 21.7, \"temp_min\": 11.7, \"wind\": 2.1, \"weather\": \"sun\"}, {\"date\": \"2015-05-27T00:00:00\", \"precipitation\": 0.0, \"temp_max\": 24.4, \"temp_min\": 11.7, \"wind\": 1.8, \"weather\": \"sun\"}, {\"date\": \"2015-05-28T00:00:00\", \"precipitation\": 0.0, \"temp_max\": 27.8, \"temp_min\": 12.2, \"wind\": 2.1, \"weather\": \"sun\"}, {\"date\": \"2015-05-29T00:00:00\", \"precipitation\": 0.0, \"temp_max\": 26.1, \"temp_min\": 12.8, \"wind\": 2.5, \"weather\": \"sun\"}, {\"date\": \"2015-05-30T00:00:00\", \"precipitation\": 0.0, \"temp_max\": 22.8, \"temp_min\": 10.0, \"wind\": 2.5, \"weather\": \"sun\"}, {\"date\": \"2015-05-31T00:00:00\", \"precipitation\": 0.0, \"temp_max\": 25.0, \"temp_min\": 11.7, \"wind\": 2.2, \"weather\": \"sun\"}, {\"date\": \"2015-06-01T00:00:00\", \"precipitation\": 4.6, \"temp_max\": 16.1, \"temp_min\": 11.7, \"wind\": 3.4, \"weather\": \"fog\"}, {\"date\": \"2015-06-02T00:00:00\", \"precipitation\": 0.5, \"temp_max\": 17.8, \"temp_min\": 12.8, \"wind\": 5.0, \"weather\": \"sun\"}, {\"date\": \"2015-06-03T00:00:00\", \"precipitation\": 0.0, \"temp_max\": 20.0, \"temp_min\": 11.7, \"wind\": 3.0, \"weather\": \"sun\"}, {\"date\": \"2015-06-04T00:00:00\", \"precipitation\": 0.0, \"temp_max\": 22.8, \"temp_min\": 11.7, \"wind\": 3.9, \"weather\": \"sun\"}, {\"date\": \"2015-06-05T00:00:00\", \"precipitation\": 0.0, \"temp_max\": 26.7, \"temp_min\": 12.8, \"wind\": 4.3, \"weather\": \"sun\"}, {\"date\": \"2015-06-06T00:00:00\", \"precipitation\": 0.0, \"temp_max\": 29.4, \"temp_min\": 13.3, \"wind\": 2.6, \"weather\": \"sun\"}, {\"date\": \"2015-06-07T00:00:00\", \"precipitation\": 0.0, \"temp_max\": 31.1, \"temp_min\": 15.6, \"wind\": 3.2, \"weather\": \"sun\"}, {\"date\": \"2015-06-08T00:00:00\", \"precipitation\": 0.0, \"temp_max\": 30.6, \"temp_min\": 14.4, \"wind\": 3.5, \"weather\": \"sun\"}, {\"date\": \"2015-06-09T00:00:00\", \"precipitation\": 0.0, \"temp_max\": 28.9, \"temp_min\": 14.4, \"wind\": 2.7, \"weather\": \"sun\"}, {\"date\": \"2015-06-10T00:00:00\", \"precipitation\": 0.0, \"temp_max\": 25.6, \"temp_min\": 11.1, \"wind\": 3.0, \"weather\": \"sun\"}, {\"date\": \"2015-06-11T00:00:00\", \"precipitation\": 0.0, \"temp_max\": 24.4, \"temp_min\": 11.1, \"wind\": 3.5, \"weather\": \"sun\"}, {\"date\": \"2015-06-12T00:00:00\", \"precipitation\": 0.0, \"temp_max\": 20.0, \"temp_min\": 11.7, \"wind\": 2.3, \"weather\": \"sun\"}, {\"date\": \"2015-06-13T00:00:00\", \"precipitation\": 0.0, \"temp_max\": 23.9, \"temp_min\": 9.4, \"wind\": 2.6, \"weather\": \"sun\"}, {\"date\": \"2015-06-14T00:00:00\", \"precipitation\": 0.0, \"temp_max\": 27.8, \"temp_min\": 11.7, \"wind\": 3.7, \"weather\": \"sun\"}, {\"date\": \"2015-06-15T00:00:00\", \"precipitation\": 0.0, \"temp_max\": 30.0, \"temp_min\": 16.1, \"wind\": 3.5, \"weather\": \"drizzle\"}, {\"date\": \"2015-06-16T00:00:00\", \"precipitation\": 0.0, \"temp_max\": 22.8, \"temp_min\": 11.1, \"wind\": 3.0, \"weather\": \"sun\"}, {\"date\": \"2015-06-17T00:00:00\", \"precipitation\": 0.0, \"temp_max\": 25.0, \"temp_min\": 11.1, \"wind\": 3.1, \"weather\": \"sun\"}, {\"date\": \"2015-06-18T00:00:00\", \"precipitation\": 0.0, \"temp_max\": 24.4, \"temp_min\": 13.9, \"wind\": 3.0, \"weather\": \"sun\"}, {\"date\": \"2015-06-19T00:00:00\", \"precipitation\": 0.5, \"temp_max\": 23.9, \"temp_min\": 13.3, \"wind\": 3.2, \"weather\": \"fog\"}, {\"date\": \"2015-06-20T00:00:00\", \"precipitation\": 0.0, \"temp_max\": 25.0, \"temp_min\": 12.8, \"wind\": 4.3, \"weather\": \"sun\"}, {\"date\": \"2015-06-21T00:00:00\", \"precipitation\": 0.0, \"temp_max\": 25.6, \"temp_min\": 13.9, \"wind\": 3.4, \"weather\": \"sun\"}, {\"date\": \"2015-06-22T00:00:00\", \"precipitation\": 0.0, \"temp_max\": 25.0, \"temp_min\": 12.8, \"wind\": 2.4, \"weather\": \"sun\"}, {\"date\": \"2015-06-23T00:00:00\", \"precipitation\": 0.0, \"temp_max\": 26.1, \"temp_min\": 11.7, \"wind\": 2.4, \"weather\": \"sun\"}, {\"date\": \"2015-06-24T00:00:00\", \"precipitation\": 0.0, \"temp_max\": 25.6, \"temp_min\": 16.1, \"wind\": 2.6, \"weather\": \"sun\"}, {\"date\": \"2015-06-25T00:00:00\", \"precipitation\": 0.0, \"temp_max\": 30.6, \"temp_min\": 15.6, \"wind\": 3.0, \"weather\": \"sun\"}, {\"date\": \"2015-06-26T00:00:00\", \"precipitation\": 0.0, \"temp_max\": 31.7, \"temp_min\": 17.8, \"wind\": 4.7, \"weather\": \"sun\"}, {\"date\": \"2015-06-27T00:00:00\", \"precipitation\": 0.0, \"temp_max\": 33.3, \"temp_min\": 17.2, \"wind\": 3.9, \"weather\": \"sun\"}, {\"date\": \"2015-06-28T00:00:00\", \"precipitation\": 0.3, \"temp_max\": 28.3, \"temp_min\": 18.3, \"wind\": 2.1, \"weather\": \"sun\"}, {\"date\": \"2015-06-29T00:00:00\", \"precipitation\": 0.0, \"temp_max\": 28.9, \"temp_min\": 17.2, \"wind\": 2.7, \"weather\": \"sun\"}, {\"date\": \"2015-06-30T00:00:00\", \"precipitation\": 0.0, \"temp_max\": 30.6, \"temp_min\": 15.0, \"wind\": 3.4, \"weather\": \"fog\"}, {\"date\": \"2015-07-01T00:00:00\", \"precipitation\": 0.0, \"temp_max\": 32.2, \"temp_min\": 17.2, \"wind\": 4.3, \"weather\": \"sun\"}, {\"date\": \"2015-07-02T00:00:00\", \"precipitation\": 0.0, \"temp_max\": 33.9, \"temp_min\": 17.8, \"wind\": 3.4, \"weather\": \"sun\"}, {\"date\": \"2015-07-03T00:00:00\", \"precipitation\": 0.0, \"temp_max\": 33.3, \"temp_min\": 17.8, \"wind\": 2.6, \"weather\": \"sun\"}, {\"date\": \"2015-07-04T00:00:00\", \"precipitation\": 0.0, \"temp_max\": 33.3, \"temp_min\": 15.0, \"wind\": 2.9, \"weather\": \"sun\"}, {\"date\": \"2015-07-05T00:00:00\", \"precipitation\": 0.0, \"temp_max\": 32.8, \"temp_min\": 16.7, \"wind\": 2.1, \"weather\": \"sun\"}, {\"date\": \"2015-07-06T00:00:00\", \"precipitation\": 0.0, \"temp_max\": 29.4, \"temp_min\": 15.6, \"wind\": 3.2, \"weather\": \"drizzle\"}, {\"date\": \"2015-07-07T00:00:00\", \"precipitation\": 0.0, \"temp_max\": 27.2, \"temp_min\": 13.9, \"wind\": 2.4, \"weather\": \"sun\"}, {\"date\": \"2015-07-08T00:00:00\", \"precipitation\": 0.0, \"temp_max\": 30.0, \"temp_min\": 14.4, \"wind\": 1.9, \"weather\": \"drizzle\"}, {\"date\": \"2015-07-09T00:00:00\", \"precipitation\": 0.0, \"temp_max\": 28.9, \"temp_min\": 14.4, \"wind\": 3.4, \"weather\": \"sun\"}, {\"date\": \"2015-07-10T00:00:00\", \"precipitation\": 0.0, \"temp_max\": 21.1, \"temp_min\": 16.7, \"wind\": 3.7, \"weather\": \"sun\"}, {\"date\": \"2015-07-11T00:00:00\", \"precipitation\": 0.0, \"temp_max\": 22.2, \"temp_min\": 16.7, \"wind\": 3.0, \"weather\": \"sun\"}, {\"date\": \"2015-07-12T00:00:00\", \"precipitation\": 0.0, \"temp_max\": 26.1, \"temp_min\": 16.7, \"wind\": 2.2, \"weather\": \"sun\"}, {\"date\": \"2015-07-13T00:00:00\", \"precipitation\": 0.0, \"temp_max\": 25.6, \"temp_min\": 16.1, \"wind\": 3.1, \"weather\": \"sun\"}, {\"date\": \"2015-07-14T00:00:00\", \"precipitation\": 0.0, \"temp_max\": 27.8, \"temp_min\": 16.1, \"wind\": 3.3, \"weather\": \"sun\"}, {\"date\": \"2015-07-15T00:00:00\", \"precipitation\": 0.0, \"temp_max\": 26.1, \"temp_min\": 14.4, \"wind\": 3.2, \"weather\": \"sun\"}, {\"date\": \"2015-07-16T00:00:00\", \"precipitation\": 0.0, \"temp_max\": 26.1, \"temp_min\": 15.0, \"wind\": 2.8, \"weather\": \"sun\"}, {\"date\": \"2015-07-17T00:00:00\", \"precipitation\": 0.0, \"temp_max\": 27.8, \"temp_min\": 13.9, \"wind\": 3.3, \"weather\": \"sun\"}, {\"date\": \"2015-07-18T00:00:00\", \"precipitation\": 0.0, \"temp_max\": 33.3, \"temp_min\": 17.8, \"wind\": 3.4, \"weather\": \"sun\"}, {\"date\": \"2015-07-19T00:00:00\", \"precipitation\": 0.0, \"temp_max\": 35.0, \"temp_min\": 17.2, \"wind\": 3.3, \"weather\": \"sun\"}, {\"date\": \"2015-07-20T00:00:00\", \"precipitation\": 0.0, \"temp_max\": 26.7, \"temp_min\": 16.7, \"wind\": 3.9, \"weather\": \"sun\"}, {\"date\": \"2015-07-21T00:00:00\", \"precipitation\": 0.0, \"temp_max\": 23.9, \"temp_min\": 15.0, \"wind\": 2.4, \"weather\": \"sun\"}, {\"date\": \"2015-07-22T00:00:00\", \"precipitation\": 0.0, \"temp_max\": 23.9, \"temp_min\": 13.9, \"wind\": 2.8, \"weather\": \"sun\"}, {\"date\": \"2015-07-23T00:00:00\", \"precipitation\": 0.0, \"temp_max\": 26.1, \"temp_min\": 14.4, \"wind\": 1.9, \"weather\": \"sun\"}, {\"date\": \"2015-07-24T00:00:00\", \"precipitation\": 0.3, \"temp_max\": 22.8, \"temp_min\": 13.3, \"wind\": 3.8, \"weather\": \"fog\"}, {\"date\": \"2015-07-25T00:00:00\", \"precipitation\": 0.0, \"temp_max\": 21.1, \"temp_min\": 14.4, \"wind\": 2.4, \"weather\": \"fog\"}, {\"date\": \"2015-07-26T00:00:00\", \"precipitation\": 2.0, \"temp_max\": 22.2, \"temp_min\": 13.9, \"wind\": 2.6, \"weather\": \"fog\"}, {\"date\": \"2015-07-27T00:00:00\", \"precipitation\": 0.0, \"temp_max\": 23.3, \"temp_min\": 12.2, \"wind\": 1.9, \"weather\": \"fog\"}, {\"date\": \"2015-07-28T00:00:00\", \"precipitation\": 0.0, \"temp_max\": 27.8, \"temp_min\": 13.9, \"wind\": 3.4, \"weather\": \"sun\"}, {\"date\": \"2015-07-29T00:00:00\", \"precipitation\": 0.0, \"temp_max\": 32.2, \"temp_min\": 14.4, \"wind\": 3.8, \"weather\": \"sun\"}, {\"date\": \"2015-07-30T00:00:00\", \"precipitation\": 0.0, \"temp_max\": 34.4, \"temp_min\": 17.2, \"wind\": 3.5, \"weather\": \"sun\"}, {\"date\": \"2015-07-31T00:00:00\", \"precipitation\": 0.0, \"temp_max\": 34.4, \"temp_min\": 17.8, \"wind\": 2.6, \"weather\": \"sun\"}, {\"date\": \"2015-08-01T00:00:00\", \"precipitation\": 0.0, \"temp_max\": 33.3, \"temp_min\": 15.6, \"wind\": 3.1, \"weather\": \"sun\"}, {\"date\": \"2015-08-02T00:00:00\", \"precipitation\": 0.0, \"temp_max\": 30.6, \"temp_min\": 16.1, \"wind\": 2.0, \"weather\": \"sun\"}, {\"date\": \"2015-08-03T00:00:00\", \"precipitation\": 0.0, \"temp_max\": 28.3, \"temp_min\": 17.2, \"wind\": 2.3, \"weather\": \"sun\"}, {\"date\": \"2015-08-04T00:00:00\", \"precipitation\": 0.0, \"temp_max\": 26.1, \"temp_min\": 14.4, \"wind\": 2.6, \"weather\": \"fog\"}, {\"date\": \"2015-08-05T00:00:00\", \"precipitation\": 0.0, \"temp_max\": 23.3, \"temp_min\": 12.2, \"wind\": 3.5, \"weather\": \"sun\"}, {\"date\": \"2015-08-06T00:00:00\", \"precipitation\": 0.0, \"temp_max\": 25.0, \"temp_min\": 15.0, \"wind\": 2.9, \"weather\": \"sun\"}, {\"date\": \"2015-08-07T00:00:00\", \"precipitation\": 0.0, \"temp_max\": 28.3, \"temp_min\": 15.6, \"wind\": 3.7, \"weather\": \"sun\"}, {\"date\": \"2015-08-08T00:00:00\", \"precipitation\": 0.0, \"temp_max\": 25.0, \"temp_min\": 15.6, \"wind\": 3.6, \"weather\": \"fog\"}, {\"date\": \"2015-08-09T00:00:00\", \"precipitation\": 0.0, \"temp_max\": 28.3, \"temp_min\": 15.0, \"wind\": 2.2, \"weather\": \"sun\"}, {\"date\": \"2015-08-10T00:00:00\", \"precipitation\": 0.0, \"temp_max\": 28.9, \"temp_min\": 16.1, \"wind\": 2.4, \"weather\": \"sun\"}, {\"date\": \"2015-08-11T00:00:00\", \"precipitation\": 0.0, \"temp_max\": 30.0, \"temp_min\": 16.7, \"wind\": 4.4, \"weather\": \"sun\"}, {\"date\": \"2015-08-12T00:00:00\", \"precipitation\": 7.6, \"temp_max\": 28.3, \"temp_min\": 16.7, \"wind\": 2.7, \"weather\": \"rain\"}, {\"date\": \"2015-08-13T00:00:00\", \"precipitation\": 0.0, \"temp_max\": 28.3, \"temp_min\": 15.6, \"wind\": 2.2, \"weather\": \"sun\"}, {\"date\": \"2015-08-14T00:00:00\", \"precipitation\": 30.5, \"temp_max\": 18.3, \"temp_min\": 15.0, \"wind\": 5.2, \"weather\": \"rain\"}, {\"date\": \"2015-08-15T00:00:00\", \"precipitation\": 0.0, \"temp_max\": 21.7, \"temp_min\": 13.9, \"wind\": 3.7, \"weather\": \"sun\"}, {\"date\": \"2015-08-16T00:00:00\", \"precipitation\": 0.0, \"temp_max\": 25.0, \"temp_min\": 14.4, \"wind\": 3.7, \"weather\": \"sun\"}, {\"date\": \"2015-08-17T00:00:00\", \"precipitation\": 0.0, \"temp_max\": 27.2, \"temp_min\": 13.9, \"wind\": 3.0, \"weather\": \"sun\"}, {\"date\": \"2015-08-18T00:00:00\", \"precipitation\": 0.0, \"temp_max\": 30.0, \"temp_min\": 15.0, \"wind\": 3.0, \"weather\": \"sun\"}, {\"date\": \"2015-08-19T00:00:00\", \"precipitation\": 0.0, \"temp_max\": 31.7, \"temp_min\": 16.1, \"wind\": 2.1, \"weather\": \"drizzle\"}, {\"date\": \"2015-08-20T00:00:00\", \"precipitation\": 2.0, \"temp_max\": 22.8, \"temp_min\": 14.4, \"wind\": 4.2, \"weather\": \"fog\"}, {\"date\": \"2015-08-21T00:00:00\", \"precipitation\": 0.0, \"temp_max\": 22.2, \"temp_min\": 14.4, \"wind\": 2.6, \"weather\": \"sun\"}, {\"date\": \"2015-08-22T00:00:00\", \"precipitation\": 0.0, \"temp_max\": 26.7, \"temp_min\": 12.2, \"wind\": 2.5, \"weather\": \"drizzle\"}, {\"date\": \"2015-08-23T00:00:00\", \"precipitation\": 0.0, \"temp_max\": 27.8, \"temp_min\": 13.9, \"wind\": 1.8, \"weather\": \"drizzle\"}, {\"date\": \"2015-08-24T00:00:00\", \"precipitation\": 0.0, \"temp_max\": 23.9, \"temp_min\": 12.2, \"wind\": 2.3, \"weather\": \"sun\"}, {\"date\": \"2015-08-25T00:00:00\", \"precipitation\": 0.0, \"temp_max\": 25.6, \"temp_min\": 12.2, \"wind\": 3.4, \"weather\": \"sun\"}, {\"date\": \"2015-08-26T00:00:00\", \"precipitation\": 0.0, \"temp_max\": 28.3, \"temp_min\": 13.9, \"wind\": 1.7, \"weather\": \"sun\"}, {\"date\": \"2015-08-27T00:00:00\", \"precipitation\": 0.0, \"temp_max\": 29.4, \"temp_min\": 14.4, \"wind\": 2.1, \"weather\": \"sun\"}, {\"date\": \"2015-08-28T00:00:00\", \"precipitation\": 0.5, \"temp_max\": 23.3, \"temp_min\": 15.6, \"wind\": 2.6, \"weather\": \"fog\"}, {\"date\": \"2015-08-29T00:00:00\", \"precipitation\": 32.5, \"temp_max\": 22.2, \"temp_min\": 13.3, \"wind\": 5.8, \"weather\": \"fog\"}, {\"date\": \"2015-08-30T00:00:00\", \"precipitation\": 10.2, \"temp_max\": 20.0, \"temp_min\": 12.8, \"wind\": 4.7, \"weather\": \"fog\"}, {\"date\": \"2015-08-31T00:00:00\", \"precipitation\": 0.0, \"temp_max\": 18.9, \"temp_min\": 16.1, \"wind\": 5.8, \"weather\": \"sun\"}, {\"date\": \"2015-09-01T00:00:00\", \"precipitation\": 5.8, \"temp_max\": 19.4, \"temp_min\": 13.9, \"wind\": 5.0, \"weather\": \"fog\"}, {\"date\": \"2015-09-02T00:00:00\", \"precipitation\": 0.0, \"temp_max\": 19.4, \"temp_min\": 11.1, \"wind\": 3.8, \"weather\": \"sun\"}, {\"date\": \"2015-09-03T00:00:00\", \"precipitation\": 0.0, \"temp_max\": 18.3, \"temp_min\": 10.6, \"wind\": 2.9, \"weather\": \"sun\"}, {\"date\": \"2015-09-04T00:00:00\", \"precipitation\": 0.0, \"temp_max\": 18.3, \"temp_min\": 10.0, \"wind\": 2.9, \"weather\": \"sun\"}, {\"date\": \"2015-09-05T00:00:00\", \"precipitation\": 0.3, \"temp_max\": 20.6, \"temp_min\": 8.9, \"wind\": 3.5, \"weather\": \"sun\"}, {\"date\": \"2015-09-06T00:00:00\", \"precipitation\": 5.3, \"temp_max\": 16.1, \"temp_min\": 11.7, \"wind\": 2.4, \"weather\": \"fog\"}, {\"date\": \"2015-09-07T00:00:00\", \"precipitation\": 0.3, \"temp_max\": 21.1, \"temp_min\": 13.3, \"wind\": 1.5, \"weather\": \"fog\"}, {\"date\": \"2015-09-08T00:00:00\", \"precipitation\": 0.0, \"temp_max\": 22.8, \"temp_min\": 13.3, \"wind\": 2.4, \"weather\": \"sun\"}, {\"date\": \"2015-09-09T00:00:00\", \"precipitation\": 0.0, \"temp_max\": 24.4, \"temp_min\": 13.9, \"wind\": 3.3, \"weather\": \"sun\"}, {\"date\": \"2015-09-10T00:00:00\", \"precipitation\": 0.0, \"temp_max\": 25.0, \"temp_min\": 14.4, \"wind\": 3.6, \"weather\": \"fog\"}, {\"date\": \"2015-09-11T00:00:00\", \"precipitation\": 0.0, \"temp_max\": 27.2, \"temp_min\": 15.0, \"wind\": 3.1, \"weather\": \"sun\"}, {\"date\": \"2015-09-12T00:00:00\", \"precipitation\": 0.0, \"temp_max\": 26.7, \"temp_min\": 14.4, \"wind\": 2.1, \"weather\": \"sun\"}, {\"date\": \"2015-09-13T00:00:00\", \"precipitation\": 0.5, \"temp_max\": 20.6, \"temp_min\": 12.8, \"wind\": 3.0, \"weather\": \"fog\"}, {\"date\": \"2015-09-14T00:00:00\", \"precipitation\": 0.0, \"temp_max\": 16.7, \"temp_min\": 10.6, \"wind\": 3.4, \"weather\": \"sun\"}, {\"date\": \"2015-09-15T00:00:00\", \"precipitation\": 0.0, \"temp_max\": 17.8, \"temp_min\": 10.0, \"wind\": 2.8, \"weather\": \"sun\"}, {\"date\": \"2015-09-16T00:00:00\", \"precipitation\": 1.0, \"temp_max\": 20.0, \"temp_min\": 10.0, \"wind\": 1.9, \"weather\": \"sun\"}, {\"date\": \"2015-09-17T00:00:00\", \"precipitation\": 1.8, \"temp_max\": 18.3, \"temp_min\": 12.8, \"wind\": 3.8, \"weather\": \"fog\"}, {\"date\": \"2015-09-18T00:00:00\", \"precipitation\": 0.0, \"temp_max\": 19.4, \"temp_min\": 12.8, \"wind\": 2.6, \"weather\": \"sun\"}, {\"date\": \"2015-09-19T00:00:00\", \"precipitation\": 0.0, \"temp_max\": 21.1, \"temp_min\": 14.4, \"wind\": 4.3, \"weather\": \"sun\"}, {\"date\": \"2015-09-20T00:00:00\", \"precipitation\": 4.1, \"temp_max\": 22.8, \"temp_min\": 12.2, \"wind\": 6.8, \"weather\": \"fog\"}, {\"date\": \"2015-09-21T00:00:00\", \"precipitation\": 0.0, \"temp_max\": 18.3, \"temp_min\": 9.4, \"wind\": 2.7, \"weather\": \"fog\"}, {\"date\": \"2015-09-22T00:00:00\", \"precipitation\": 0.0, \"temp_max\": 18.9, \"temp_min\": 7.8, \"wind\": 2.0, \"weather\": \"sun\"}, {\"date\": \"2015-09-23T00:00:00\", \"precipitation\": 0.0, \"temp_max\": 20.6, \"temp_min\": 8.3, \"wind\": 1.8, \"weather\": \"sun\"}, {\"date\": \"2015-09-24T00:00:00\", \"precipitation\": 0.0, \"temp_max\": 22.2, \"temp_min\": 11.1, \"wind\": 2.5, \"weather\": \"fog\"}, {\"date\": \"2015-09-25T00:00:00\", \"precipitation\": 2.0, \"temp_max\": 15.6, \"temp_min\": 12.8, \"wind\": 2.6, \"weather\": \"fog\"}, {\"date\": \"2015-09-26T00:00:00\", \"precipitation\": 0.0, \"temp_max\": 18.3, \"temp_min\": 10.0, \"wind\": 2.7, \"weather\": \"sun\"}, {\"date\": \"2015-09-27T00:00:00\", \"precipitation\": 0.0, \"temp_max\": 17.8, \"temp_min\": 7.2, \"wind\": 3.8, \"weather\": \"sun\"}, {\"date\": \"2015-09-28T00:00:00\", \"precipitation\": 0.0, \"temp_max\": 21.1, \"temp_min\": 9.4, \"wind\": 5.1, \"weather\": \"sun\"}, {\"date\": \"2015-09-29T00:00:00\", \"precipitation\": 0.0, \"temp_max\": 21.7, \"temp_min\": 8.9, \"wind\": 1.9, \"weather\": \"sun\"}, {\"date\": \"2015-09-30T00:00:00\", \"precipitation\": 0.0, \"temp_max\": 18.3, \"temp_min\": 10.0, \"wind\": 1.3, \"weather\": \"fog\"}, {\"date\": \"2015-10-01T00:00:00\", \"precipitation\": 0.0, \"temp_max\": 21.1, \"temp_min\": 9.4, \"wind\": 1.3, \"weather\": \"fog\"}, {\"date\": \"2015-10-02T00:00:00\", \"precipitation\": 0.0, \"temp_max\": 15.6, \"temp_min\": 10.0, \"wind\": 2.9, \"weather\": \"fog\"}, {\"date\": \"2015-10-03T00:00:00\", \"precipitation\": 0.0, \"temp_max\": 19.4, \"temp_min\": 11.1, \"wind\": 4.8, \"weather\": \"sun\"}, {\"date\": \"2015-10-04T00:00:00\", \"precipitation\": 0.0, \"temp_max\": 22.8, \"temp_min\": 10.0, \"wind\": 3.7, \"weather\": \"sun\"}, {\"date\": \"2015-10-05T00:00:00\", \"precipitation\": 0.0, \"temp_max\": 23.3, \"temp_min\": 9.4, \"wind\": 1.6, \"weather\": \"sun\"}, {\"date\": \"2015-10-06T00:00:00\", \"precipitation\": 0.0, \"temp_max\": 18.3, \"temp_min\": 10.0, \"wind\": 2.6, \"weather\": \"drizzle\"}, {\"date\": \"2015-10-07T00:00:00\", \"precipitation\": 9.9, \"temp_max\": 16.1, \"temp_min\": 13.9, \"wind\": 2.2, \"weather\": \"fog\"}, {\"date\": \"2015-10-08T00:00:00\", \"precipitation\": 0.0, \"temp_max\": 18.9, \"temp_min\": 13.3, \"wind\": 1.1, \"weather\": \"fog\"}, {\"date\": \"2015-10-09T00:00:00\", \"precipitation\": 0.3, \"temp_max\": 19.4, \"temp_min\": 12.2, \"wind\": 2.6, \"weather\": \"fog\"}, {\"date\": \"2015-10-10T00:00:00\", \"precipitation\": 28.7, \"temp_max\": 21.1, \"temp_min\": 13.3, \"wind\": 4.7, \"weather\": \"fog\"}, {\"date\": \"2015-10-11T00:00:00\", \"precipitation\": 0.0, \"temp_max\": 17.8, \"temp_min\": 10.6, \"wind\": 2.6, \"weather\": \"sun\"}, {\"date\": \"2015-10-12T00:00:00\", \"precipitation\": 4.6, \"temp_max\": 18.3, \"temp_min\": 10.6, \"wind\": 2.8, \"weather\": \"fog\"}, {\"date\": \"2015-10-13T00:00:00\", \"precipitation\": 1.3, \"temp_max\": 16.7, \"temp_min\": 9.4, \"wind\": 3.2, \"weather\": \"fog\"}, {\"date\": \"2015-10-14T00:00:00\", \"precipitation\": 0.0, \"temp_max\": 15.0, \"temp_min\": 10.0, \"wind\": 5.0, \"weather\": \"fog\"}, {\"date\": \"2015-10-15T00:00:00\", \"precipitation\": 0.0, \"temp_max\": 21.1, \"temp_min\": 9.4, \"wind\": 3.4, \"weather\": \"fog\"}, {\"date\": \"2015-10-16T00:00:00\", \"precipitation\": 0.0, \"temp_max\": 20.0, \"temp_min\": 8.9, \"wind\": 1.3, \"weather\": \"sun\"}, {\"date\": \"2015-10-17T00:00:00\", \"precipitation\": 0.3, \"temp_max\": 19.4, \"temp_min\": 11.7, \"wind\": 1.3, \"weather\": \"fog\"}, {\"date\": \"2015-10-18T00:00:00\", \"precipitation\": 3.8, \"temp_max\": 15.0, \"temp_min\": 12.8, \"wind\": 2.0, \"weather\": \"fog\"}, {\"date\": \"2015-10-19T00:00:00\", \"precipitation\": 0.3, \"temp_max\": 17.2, \"temp_min\": 12.2, \"wind\": 2.6, \"weather\": \"fog\"}, {\"date\": \"2015-10-20T00:00:00\", \"precipitation\": 0.0, \"temp_max\": 17.8, \"temp_min\": 10.6, \"wind\": 1.8, \"weather\": \"fog\"}, {\"date\": \"2015-10-21T00:00:00\", \"precipitation\": 0.0, \"temp_max\": 16.1, \"temp_min\": 8.3, \"wind\": 1.3, \"weather\": \"fog\"}, {\"date\": \"2015-10-22T00:00:00\", \"precipitation\": 0.0, \"temp_max\": 16.1, \"temp_min\": 8.9, \"wind\": 2.7, \"weather\": \"fog\"}, {\"date\": \"2015-10-23T00:00:00\", \"precipitation\": 0.0, \"temp_max\": 12.8, \"temp_min\": 7.2, \"wind\": 2.6, \"weather\": \"fog\"}, {\"date\": \"2015-10-24T00:00:00\", \"precipitation\": 0.0, \"temp_max\": 15.0, \"temp_min\": 8.9, \"wind\": 2.9, \"weather\": \"fog\"}, {\"date\": \"2015-10-25T00:00:00\", \"precipitation\": 8.9, \"temp_max\": 19.4, \"temp_min\": 8.9, \"wind\": 3.4, \"weather\": \"rain\"}, {\"date\": \"2015-10-26T00:00:00\", \"precipitation\": 6.9, \"temp_max\": 12.2, \"temp_min\": 10.0, \"wind\": 4.6, \"weather\": \"fog\"}, {\"date\": \"2015-10-27T00:00:00\", \"precipitation\": 0.0, \"temp_max\": 16.1, \"temp_min\": 7.8, \"wind\": 1.7, \"weather\": \"fog\"}, {\"date\": \"2015-10-28T00:00:00\", \"precipitation\": 3.3, \"temp_max\": 13.9, \"temp_min\": 11.1, \"wind\": 2.8, \"weather\": \"fog\"}, {\"date\": \"2015-10-29T00:00:00\", \"precipitation\": 1.8, \"temp_max\": 15.0, \"temp_min\": 12.2, \"wind\": 4.7, \"weather\": \"fog\"}, {\"date\": \"2015-10-30T00:00:00\", \"precipitation\": 19.3, \"temp_max\": 17.2, \"temp_min\": 11.7, \"wind\": 6.7, \"weather\": \"fog\"}, {\"date\": \"2015-10-31T00:00:00\", \"precipitation\": 33.0, \"temp_max\": 15.6, \"temp_min\": 11.7, \"wind\": 7.2, \"weather\": \"fog\"}, {\"date\": \"2015-11-01T00:00:00\", \"precipitation\": 26.2, \"temp_max\": 12.2, \"temp_min\": 8.9, \"wind\": 6.0, \"weather\": \"fog\"}, {\"date\": \"2015-11-02T00:00:00\", \"precipitation\": 0.3, \"temp_max\": 11.1, \"temp_min\": 7.2, \"wind\": 2.8, \"weather\": \"fog\"}, {\"date\": \"2015-11-03T00:00:00\", \"precipitation\": 0.8, \"temp_max\": 10.6, \"temp_min\": 5.0, \"wind\": 1.4, \"weather\": \"fog\"}, {\"date\": \"2015-11-04T00:00:00\", \"precipitation\": 0.0, \"temp_max\": 10.0, \"temp_min\": 3.3, \"wind\": 2.2, \"weather\": \"sun\"}, {\"date\": \"2015-11-05T00:00:00\", \"precipitation\": 1.3, \"temp_max\": 11.7, \"temp_min\": 7.8, \"wind\": 2.3, \"weather\": \"fog\"}, {\"date\": \"2015-11-06T00:00:00\", \"precipitation\": 0.0, \"temp_max\": 15.6, \"temp_min\": 8.3, \"wind\": 2.7, \"weather\": \"fog\"}, {\"date\": \"2015-11-07T00:00:00\", \"precipitation\": 12.7, \"temp_max\": 12.2, \"temp_min\": 9.4, \"wind\": 3.0, \"weather\": \"fog\"}, {\"date\": \"2015-11-08T00:00:00\", \"precipitation\": 6.6, \"temp_max\": 11.1, \"temp_min\": 7.8, \"wind\": 1.8, \"weather\": \"fog\"}, {\"date\": \"2015-11-09T00:00:00\", \"precipitation\": 3.3, \"temp_max\": 10.0, \"temp_min\": 5.0, \"wind\": 1.3, \"weather\": \"fog\"}, {\"date\": \"2015-11-10T00:00:00\", \"precipitation\": 1.3, \"temp_max\": 11.1, \"temp_min\": 3.9, \"wind\": 3.9, \"weather\": \"fog\"}, {\"date\": \"2015-11-11T00:00:00\", \"precipitation\": 1.5, \"temp_max\": 11.1, \"temp_min\": 6.1, \"wind\": 4.6, \"weather\": \"sun\"}, {\"date\": \"2015-11-12T00:00:00\", \"precipitation\": 9.9, \"temp_max\": 11.1, \"temp_min\": 5.0, \"wind\": 5.1, \"weather\": \"fog\"}, {\"date\": \"2015-11-13T00:00:00\", \"precipitation\": 33.5, \"temp_max\": 13.3, \"temp_min\": 9.4, \"wind\": 6.5, \"weather\": \"fog\"}, {\"date\": \"2015-11-14T00:00:00\", \"precipitation\": 47.2, \"temp_max\": 9.4, \"temp_min\": 6.1, \"wind\": 4.5, \"weather\": \"fog\"}, {\"date\": \"2015-11-15T00:00:00\", \"precipitation\": 22.4, \"temp_max\": 8.9, \"temp_min\": 2.2, \"wind\": 4.1, \"weather\": \"fog\"}, {\"date\": \"2015-11-16T00:00:00\", \"precipitation\": 2.0, \"temp_max\": 8.9, \"temp_min\": 1.7, \"wind\": 4.0, \"weather\": \"fog\"}, {\"date\": \"2015-11-17T00:00:00\", \"precipitation\": 29.5, \"temp_max\": 13.3, \"temp_min\": 6.7, \"wind\": 8.0, \"weather\": \"fog\"}, {\"date\": \"2015-11-18T00:00:00\", \"precipitation\": 1.5, \"temp_max\": 8.9, \"temp_min\": 3.3, \"wind\": 3.8, \"weather\": \"sun\"}, {\"date\": \"2015-11-19T00:00:00\", \"precipitation\": 2.0, \"temp_max\": 8.9, \"temp_min\": 2.8, \"wind\": 4.2, \"weather\": \"sun\"}, {\"date\": \"2015-11-20T00:00:00\", \"precipitation\": 0.0, \"temp_max\": 8.3, \"temp_min\": 0.6, \"wind\": 4.0, \"weather\": \"fog\"}, {\"date\": \"2015-11-21T00:00:00\", \"precipitation\": 0.0, \"temp_max\": 8.9, \"temp_min\": 0.6, \"wind\": 4.7, \"weather\": \"sun\"}, {\"date\": \"2015-11-22T00:00:00\", \"precipitation\": 0.0, \"temp_max\": 10.0, \"temp_min\": 1.7, \"wind\": 3.1, \"weather\": \"fog\"}, {\"date\": \"2015-11-23T00:00:00\", \"precipitation\": 3.0, \"temp_max\": 6.7, \"temp_min\": 0.0, \"wind\": 1.3, \"weather\": \"fog\"}, {\"date\": \"2015-11-24T00:00:00\", \"precipitation\": 7.1, \"temp_max\": 6.7, \"temp_min\": 2.8, \"wind\": 4.5, \"weather\": \"fog\"}, {\"date\": \"2015-11-25T00:00:00\", \"precipitation\": 0.0, \"temp_max\": 7.2, \"temp_min\": 0.0, \"wind\": 5.7, \"weather\": \"sun\"}, {\"date\": \"2015-11-26T00:00:00\", \"precipitation\": 0.0, \"temp_max\": 9.4, \"temp_min\": -1.0, \"wind\": 4.3, \"weather\": \"sun\"}, {\"date\": \"2015-11-27T00:00:00\", \"precipitation\": 0.0, \"temp_max\": 9.4, \"temp_min\": -1.6, \"wind\": 3.0, \"weather\": \"sun\"}, {\"date\": \"2015-11-28T00:00:00\", \"precipitation\": 0.0, \"temp_max\": 7.2, \"temp_min\": -2.7, \"wind\": 1.0, \"weather\": \"sun\"}, {\"date\": \"2015-11-29T00:00:00\", \"precipitation\": 0.0, \"temp_max\": 1.7, \"temp_min\": -2.1, \"wind\": 0.9, \"weather\": \"fog\"}, {\"date\": \"2015-11-30T00:00:00\", \"precipitation\": 0.5, \"temp_max\": 5.6, \"temp_min\": -3.8, \"wind\": 1.7, \"weather\": \"fog\"}, {\"date\": \"2015-12-01T00:00:00\", \"precipitation\": 12.2, \"temp_max\": 10.0, \"temp_min\": 3.9, \"wind\": 3.5, \"weather\": \"fog\"}, {\"date\": \"2015-12-02T00:00:00\", \"precipitation\": 2.5, \"temp_max\": 10.6, \"temp_min\": 4.4, \"wind\": 5.0, \"weather\": \"fog\"}, {\"date\": \"2015-12-03T00:00:00\", \"precipitation\": 12.7, \"temp_max\": 15.6, \"temp_min\": 7.8, \"wind\": 5.9, \"weather\": \"fog\"}, {\"date\": \"2015-12-04T00:00:00\", \"precipitation\": 2.0, \"temp_max\": 10.6, \"temp_min\": 6.1, \"wind\": 4.7, \"weather\": \"fog\"}, {\"date\": \"2015-12-05T00:00:00\", \"precipitation\": 15.7, \"temp_max\": 10.0, \"temp_min\": 6.1, \"wind\": 4.0, \"weather\": \"fog\"}, {\"date\": \"2015-12-06T00:00:00\", \"precipitation\": 11.2, \"temp_max\": 12.8, \"temp_min\": 7.2, \"wind\": 5.9, \"weather\": \"fog\"}, {\"date\": \"2015-12-07T00:00:00\", \"precipitation\": 27.4, \"temp_max\": 11.1, \"temp_min\": 8.3, \"wind\": 3.4, \"weather\": \"fog\"}, {\"date\": \"2015-12-08T00:00:00\", \"precipitation\": 54.1, \"temp_max\": 15.6, \"temp_min\": 10.0, \"wind\": 6.2, \"weather\": \"fog\"}, {\"date\": \"2015-12-09T00:00:00\", \"precipitation\": 13.5, \"temp_max\": 12.2, \"temp_min\": 7.8, \"wind\": 6.3, \"weather\": \"fog\"}, {\"date\": \"2015-12-10T00:00:00\", \"precipitation\": 9.4, \"temp_max\": 11.7, \"temp_min\": 6.1, \"wind\": 7.5, \"weather\": \"fog\"}, {\"date\": \"2015-12-11T00:00:00\", \"precipitation\": 0.3, \"temp_max\": 9.4, \"temp_min\": 4.4, \"wind\": 2.8, \"weather\": \"sun\"}, {\"date\": \"2015-12-12T00:00:00\", \"precipitation\": 16.0, \"temp_max\": 8.9, \"temp_min\": 5.6, \"wind\": 5.6, \"weather\": \"fog\"}, {\"date\": \"2015-12-13T00:00:00\", \"precipitation\": 1.3, \"temp_max\": 7.8, \"temp_min\": 6.1, \"wind\": 6.1, \"weather\": \"sun\"}, {\"date\": \"2015-12-14T00:00:00\", \"precipitation\": 0.0, \"temp_max\": 7.8, \"temp_min\": 1.7, \"wind\": 1.7, \"weather\": \"sun\"}, {\"date\": \"2015-12-15T00:00:00\", \"precipitation\": 1.5, \"temp_max\": 6.7, \"temp_min\": 1.1, \"wind\": 2.9, \"weather\": \"fog\"}, {\"date\": \"2015-12-16T00:00:00\", \"precipitation\": 3.6, \"temp_max\": 6.1, \"temp_min\": 2.8, \"wind\": 2.3, \"weather\": \"fog\"}, {\"date\": \"2015-12-17T00:00:00\", \"precipitation\": 21.8, \"temp_max\": 6.7, \"temp_min\": 3.9, \"wind\": 6.0, \"weather\": \"fog\"}, {\"date\": \"2015-12-18T00:00:00\", \"precipitation\": 18.5, \"temp_max\": 8.9, \"temp_min\": 4.4, \"wind\": 5.1, \"weather\": \"fog\"}, {\"date\": \"2015-12-19T00:00:00\", \"precipitation\": 0.0, \"temp_max\": 8.3, \"temp_min\": 2.8, \"wind\": 4.1, \"weather\": \"fog\"}, {\"date\": \"2015-12-20T00:00:00\", \"precipitation\": 4.3, \"temp_max\": 7.8, \"temp_min\": 4.4, \"wind\": 6.7, \"weather\": \"fog\"}, {\"date\": \"2015-12-21T00:00:00\", \"precipitation\": 27.4, \"temp_max\": 5.6, \"temp_min\": 2.8, \"wind\": 4.3, \"weather\": \"fog\"}, {\"date\": \"2015-12-22T00:00:00\", \"precipitation\": 4.6, \"temp_max\": 7.8, \"temp_min\": 2.8, \"wind\": 5.0, \"weather\": \"fog\"}, {\"date\": \"2015-12-23T00:00:00\", \"precipitation\": 6.1, \"temp_max\": 5.0, \"temp_min\": 2.8, \"wind\": 7.6, \"weather\": \"fog\"}, {\"date\": \"2015-12-24T00:00:00\", \"precipitation\": 2.5, \"temp_max\": 5.6, \"temp_min\": 2.2, \"wind\": 4.3, \"weather\": \"fog\"}, {\"date\": \"2015-12-25T00:00:00\", \"precipitation\": 5.8, \"temp_max\": 5.0, \"temp_min\": 2.2, \"wind\": 1.5, \"weather\": \"fog\"}, {\"date\": \"2015-12-26T00:00:00\", \"precipitation\": 0.0, \"temp_max\": 4.4, \"temp_min\": 0.0, \"wind\": 2.5, \"weather\": \"sun\"}, {\"date\": \"2015-12-27T00:00:00\", \"precipitation\": 8.6, \"temp_max\": 4.4, \"temp_min\": 1.7, \"wind\": 2.9, \"weather\": \"fog\"}, {\"date\": \"2015-12-28T00:00:00\", \"precipitation\": 1.5, \"temp_max\": 5.0, \"temp_min\": 1.7, \"wind\": 1.3, \"weather\": \"fog\"}, {\"date\": \"2015-12-29T00:00:00\", \"precipitation\": 0.0, \"temp_max\": 7.2, \"temp_min\": 0.6, \"wind\": 2.6, \"weather\": \"fog\"}, {\"date\": \"2015-12-30T00:00:00\", \"precipitation\": 0.0, \"temp_max\": 5.6, \"temp_min\": -1.0, \"wind\": 3.4, \"weather\": \"sun\"}, {\"date\": \"2015-12-31T00:00:00\", \"precipitation\": 0.0, \"temp_max\": 5.6, \"temp_min\": -2.1, \"wind\": 3.5, \"weather\": \"sun\"}]}}, {\"mode\": \"vega-lite\"});\n",
       "</script>"
      ],
      "text/plain": [
       "alt.LayerChart(...)"
      ]
     },
     "execution_count": 234,
     "metadata": {},
     "output_type": "execute_result"
    }
   ],
   "source": [
    "import altair as alt\n",
    "from vega_datasets import data\n",
    "\n",
    "source = data.seattle_weather()\n",
    "\n",
    "base = alt.Chart(source).encode(\n",
    "    alt.X('month(date):T', axis=alt.Axis(title=None))\n",
    ")\n",
    "\n",
    "area = base.mark_area(opacity=0.3, color='#57A44C').encode(\n",
    "    alt.Y('average(temp_max)',\n",
    "          axis=alt.Axis(title='Avg. Temperature (°C)', titleColor='#57A44C')),\n",
    "    alt.Y2('average(temp_min)')\n",
    ")\n",
    "\n",
    "line = base.mark_line(stroke='#5276A7', interpolate='monotone').encode(\n",
    "    alt.Y('average(precipitation)',\n",
    "          axis=alt.Axis(title='Precipitation (inches)', titleColor='#5276A7'))\n",
    ")\n",
    "\n",
    "alt.layer(area, line).resolve_scale(\n",
    "    y = 'independent'\n",
    ")"
   ]
  },
  {
   "cell_type": "markdown",
   "metadata": {},
   "source": [
    "❗ After a pixelwise inspection we see that the red line is slightly shifted when compared to the original _FRED_ graph. This is because the _DRTSCIS_ dataset has clearly a monthly frequency (quarterly, actually, but this is irrelevant here). However, when the data exporter on the _FRED_ site was set up, it clearly generates the month labels - i.e. `2020-12`, which then automatically gets appended with a `-01` upon the _.csv_ export. However, as we have already noted, the months actually indicate the ends of the months. Therefore, we need to fix the time labels to reflect thsi change and `2020-03-01` becomes `2020-03-31`. This, of course, is not so straighforward, since the months has differnet durations. We, therefore do a trick here:\n",
    "* For each month we add 1 to the month number, so that `2020-03-01` becomes `2020-04-01`\n",
    "* We then substract one day, so it becomes `2020-03-31` for March, or `2020-02-29` for February"
   ]
  },
  {
   "cell_type": "code",
   "execution_count": 15,
   "metadata": {},
   "outputs": [],
   "source": [
    "df1['DATE']=pd.to_datetime(df1['DATE'].dt.year.astype(str)+'-'+(df1['DATE'].dt.month+1).astype(str)+'-01')+pd.to_timedelta('-1d')"
   ]
  },
  {
   "cell_type": "markdown",
   "metadata": {},
   "source": [
    "🚀 The plot looks perfectly aligned and quite good now!"
   ]
  },
  {
   "cell_type": "code",
   "execution_count": 16,
   "metadata": {},
   "outputs": [
    {
     "data": {
      "text/html": [
       "\n",
       "<div id=\"altair-viz-9891e888a89440969d46dea8a30644af\"></div>\n",
       "<script type=\"text/javascript\">\n",
       "  (function(spec, embedOpt){\n",
       "    let outputDiv = document.currentScript.previousElementSibling;\n",
       "    if (outputDiv.id !== \"altair-viz-9891e888a89440969d46dea8a30644af\") {\n",
       "      outputDiv = document.getElementById(\"altair-viz-9891e888a89440969d46dea8a30644af\");\n",
       "    }\n",
       "    const paths = {\n",
       "      \"vega\": \"https://cdn.jsdelivr.net/npm//vega@5?noext\",\n",
       "      \"vega-lib\": \"https://cdn.jsdelivr.net/npm//vega-lib?noext\",\n",
       "      \"vega-lite\": \"https://cdn.jsdelivr.net/npm//vega-lite@4.8.1?noext\",\n",
       "      \"vega-embed\": \"https://cdn.jsdelivr.net/npm//vega-embed@6?noext\",\n",
       "    };\n",
       "\n",
       "    function loadScript(lib) {\n",
       "      return new Promise(function(resolve, reject) {\n",
       "        var s = document.createElement('script');\n",
       "        s.src = paths[lib];\n",
       "        s.async = true;\n",
       "        s.onload = () => resolve(paths[lib]);\n",
       "        s.onerror = () => reject(`Error loading script: ${paths[lib]}`);\n",
       "        document.getElementsByTagName(\"head\")[0].appendChild(s);\n",
       "      });\n",
       "    }\n",
       "\n",
       "    function showError(err) {\n",
       "      outputDiv.innerHTML = `<div class=\"error\" style=\"color:red;\">${err}</div>`;\n",
       "      throw err;\n",
       "    }\n",
       "\n",
       "    function displayChart(vegaEmbed) {\n",
       "      vegaEmbed(outputDiv, spec, embedOpt)\n",
       "        .catch(err => showError(`Javascript Error: ${err.message}<br>This usually means there's a typo in your chart specification. See the javascript console for the full traceback.`));\n",
       "    }\n",
       "\n",
       "    if(typeof define === \"function\" && define.amd) {\n",
       "      requirejs.config({paths});\n",
       "      require([\"vega-embed\"], displayChart, err => showError(`Error loading script: ${err.message}`));\n",
       "    } else if (typeof vegaEmbed === \"function\") {\n",
       "      displayChart(vegaEmbed);\n",
       "    } else {\n",
       "      loadScript(\"vega\")\n",
       "        .then(() => loadScript(\"vega-lite\"))\n",
       "        .then(() => loadScript(\"vega-embed\"))\n",
       "        .catch(showError)\n",
       "        .then(() => displayChart(vegaEmbed));\n",
       "    }\n",
       "  })({\"config\": {\"view\": {\"continuousWidth\": 700, \"continuousHeight\": 250}}, \"layer\": [{\"data\": {\"name\": \"data-2b08226b30bbb08a20f45bc01ddaafde\"}, \"mark\": {\"type\": \"rect\", \"blend\": \"darken\"}, \"encoding\": {\"color\": {\"type\": \"nominal\", \"field\": \"color\", \"scale\": null}, \"x\": {\"type\": \"temporal\", \"field\": \"start\"}, \"x2\": {\"field\": \"end\"}}}, {\"layer\": [{\"data\": {\"name\": \"data-6ed5a39391315cf3ad87497286e387ef\"}, \"mark\": {\"type\": \"line\", \"color\": \"#557CAA\", \"line\": true}, \"encoding\": {\"x\": {\"type\": \"temporal\", \"axis\": {\"grid\": false, \"tickCount\": 10}, \"field\": \"DATE\", \"title\": null}, \"y\": {\"type\": \"quantitative\", \"axis\": {\"format\": \".1f\", \"grid\": true, \"tickCount\": 9, \"titleFontWeight\": \"normal\", \"values\": [0.0, 2.5, 5.0, 7.5, 10.0, 12.5, 15.0, 17.5, 20.0]}, \"field\": \"BAMLH0A0HYM2\", \"scale\": {\"domain\": [0, 20]}, \"title\": \"Percent\"}}}, {\"data\": {\"name\": \"data-2108533d577388f9f0eb49c2d14449d0\"}, \"mark\": {\"type\": \"line\", \"color\": \"#A53F3D\", \"line\": true}, \"encoding\": {\"x\": {\"type\": \"temporal\", \"field\": \"DATE\"}, \"y\": {\"type\": \"quantitative\", \"axis\": {\"format\": \".0f\", \"tickCount\": 9, \"titleFontWeight\": \"normal\", \"values\": [-30, -15, 0, 15, 30, 45, 60, 75, 90]}, \"field\": \"DRTSCIS\", \"scale\": {\"domain\": [-30, 90]}, \"title\": \"Percent\"}}}, {\"data\": {\"name\": \"data-4c6f780913a45f81a467345005541598\"}, \"mark\": {\"type\": \"rule\", \"size\": 3}, \"encoding\": {\"y\": {\"type\": \"quantitative\", \"axis\": {\"grid\": false, \"values\": []}, \"field\": \"value\", \"scale\": {\"domain\": [0, 20]}, \"title\": null}}}], \"resolve\": {\"scale\": {\"y\": \"independent\"}}}, {\"data\": {\"name\": \"data-4c6f780913a45f81a467345005541598\"}, \"mark\": {\"type\": \"rule\", \"size\": 3}, \"encoding\": {\"y\": {\"type\": \"quantitative\", \"axis\": {\"grid\": false, \"values\": []}, \"field\": \"value\", \"scale\": {\"domain\": [0, 20]}, \"title\": null}}}], \"$schema\": \"https://vega.github.io/schema/vega-lite/v4.8.1.json\", \"datasets\": {\"data-2b08226b30bbb08a20f45bc01ddaafde\": [{\"start\": \"2001-03-31\", \"end\": \"2001-11-30\", \"event\": \"recession\", \"color\": \"#E2E2E2\"}, {\"start\": \"2007-12-31\", \"end\": \"2009-06-30\", \"event\": \"recession\", \"color\": \"#E2E2E2\"}, {\"start\": \"2020-02-29\", \"end\": \"2021-04-01\", \"event\": \"covid\", \"color\": \"#F3F4D8\"}], \"data-6ed5a39391315cf3ad87497286e387ef\": [{\"DATE\": \"2000-01-31T00:00:00\", \"BAMLH0A0HYM2\": 4.87}, {\"DATE\": \"2000-02-29T00:00:00\", \"BAMLH0A0HYM2\": 5.08}, {\"DATE\": \"2000-03-31T00:00:00\", \"BAMLH0A0HYM2\": 5.75}, {\"DATE\": \"2000-04-30T00:00:00\", \"BAMLH0A0HYM2\": 5.88}, {\"DATE\": \"2000-05-31T00:00:00\", \"BAMLH0A0HYM2\": 6.16}, {\"DATE\": \"2000-06-30T00:00:00\", \"BAMLH0A0HYM2\": 6.17}, {\"DATE\": \"2000-07-31T00:00:00\", \"BAMLH0A0HYM2\": 6.26}, {\"DATE\": \"2000-08-31T00:00:00\", \"BAMLH0A0HYM2\": 6.43}, {\"DATE\": \"2000-09-30T00:00:00\", \"BAMLH0A0HYM2\": 6.77}, {\"DATE\": \"2000-10-31T00:00:00\", \"BAMLH0A0HYM2\": 7.79}, {\"DATE\": \"2000-11-30T00:00:00\", \"BAMLH0A0HYM2\": 9.06}, {\"DATE\": \"2000-12-31T00:00:00\", \"BAMLH0A0HYM2\": 9.16}, {\"DATE\": \"2001-01-31T00:00:00\", \"BAMLH0A0HYM2\": 7.87}, {\"DATE\": \"2001-02-28T00:00:00\", \"BAMLH0A0HYM2\": 7.7}, {\"DATE\": \"2001-03-31T00:00:00\", \"BAMLH0A0HYM2\": 8.18}, {\"DATE\": \"2001-04-30T00:00:00\", \"BAMLH0A0HYM2\": 8.06}, {\"DATE\": \"2001-05-31T00:00:00\", \"BAMLH0A0HYM2\": 7.68}, {\"DATE\": \"2001-06-30T00:00:00\", \"BAMLH0A0HYM2\": 8.16}, {\"DATE\": \"2001-07-31T00:00:00\", \"BAMLH0A0HYM2\": 8.27}, {\"DATE\": \"2001-08-31T00:00:00\", \"BAMLH0A0HYM2\": 8.05}, {\"DATE\": \"2001-09-30T00:00:00\", \"BAMLH0A0HYM2\": 10.18}, {\"DATE\": \"2001-10-31T00:00:00\", \"BAMLH0A0HYM2\": 9.61}, {\"DATE\": \"2001-11-30T00:00:00\", \"BAMLH0A0HYM2\": 8.39}, {\"DATE\": \"2001-12-31T00:00:00\", \"BAMLH0A0HYM2\": 8.24}, {\"DATE\": \"2002-01-31T00:00:00\", \"BAMLH0A0HYM2\": 7.89}, {\"DATE\": \"2002-02-28T00:00:00\", \"BAMLH0A0HYM2\": 8.19}, {\"DATE\": \"2002-03-31T00:00:00\", \"BAMLH0A0HYM2\": 7.08}, {\"DATE\": \"2002-04-30T00:00:00\", \"BAMLH0A0HYM2\": 6.88}, {\"DATE\": \"2002-05-31T00:00:00\", \"BAMLH0A0HYM2\": 7.28}, {\"DATE\": \"2002-06-30T00:00:00\", \"BAMLH0A0HYM2\": 8.75}, {\"DATE\": \"2002-07-31T00:00:00\", \"BAMLH0A0HYM2\": 9.71}, {\"DATE\": \"2002-08-31T00:00:00\", \"BAMLH0A0HYM2\": 9.61}, {\"DATE\": \"2002-09-30T00:00:00\", \"BAMLH0A0HYM2\": 10.33}, {\"DATE\": \"2002-10-31T00:00:00\", \"BAMLH0A0HYM2\": 10.59}, {\"DATE\": \"2002-11-30T00:00:00\", \"BAMLH0A0HYM2\": 8.83}, {\"DATE\": \"2002-12-31T00:00:00\", \"BAMLH0A0HYM2\": 8.9}, {\"DATE\": \"2003-01-31T00:00:00\", \"BAMLH0A0HYM2\": 8.29}, {\"DATE\": \"2003-02-28T00:00:00\", \"BAMLH0A0HYM2\": 8.38}, {\"DATE\": \"2003-03-31T00:00:00\", \"BAMLH0A0HYM2\": 7.72}, {\"DATE\": \"2003-04-30T00:00:00\", \"BAMLH0A0HYM2\": 6.44}, {\"DATE\": \"2003-05-31T00:00:00\", \"BAMLH0A0HYM2\": 6.79}, {\"DATE\": \"2003-06-30T00:00:00\", \"BAMLH0A0HYM2\": 6.13}, {\"DATE\": \"2003-07-31T00:00:00\", \"BAMLH0A0HYM2\": 5.67}, {\"DATE\": \"2003-08-31T00:00:00\", \"BAMLH0A0HYM2\": 5.46}, {\"DATE\": \"2003-09-30T00:00:00\", \"BAMLH0A0HYM2\": 5.51}, {\"DATE\": \"2003-10-31T00:00:00\", \"BAMLH0A0HYM2\": 4.73}, {\"DATE\": \"2003-11-30T00:00:00\", \"BAMLH0A0HYM2\": 4.48}, {\"DATE\": \"2003-12-31T00:00:00\", \"BAMLH0A0HYM2\": 4.18}, {\"DATE\": \"2004-01-31T00:00:00\", \"BAMLH0A0HYM2\": 4.05}, {\"DATE\": \"2004-02-29T00:00:00\", \"BAMLH0A0HYM2\": 4.34}, {\"DATE\": \"2004-03-31T00:00:00\", \"BAMLH0A0HYM2\": 4.41}, {\"DATE\": \"2004-04-30T00:00:00\", \"BAMLH0A0HYM2\": 3.91}, {\"DATE\": \"2004-05-31T00:00:00\", \"BAMLH0A0HYM2\": 4.28}, {\"DATE\": \"2004-06-30T00:00:00\", \"BAMLH0A0HYM2\": 4.1}, {\"DATE\": \"2004-07-31T00:00:00\", \"BAMLH0A0HYM2\": 4.02}, {\"DATE\": \"2004-08-31T00:00:00\", \"BAMLH0A0HYM2\": 4.06}, {\"DATE\": \"2004-09-30T00:00:00\", \"BAMLH0A0HYM2\": 3.83}, {\"DATE\": \"2004-10-31T00:00:00\", \"BAMLH0A0HYM2\": 3.63}, {\"DATE\": \"2004-11-30T00:00:00\", \"BAMLH0A0HYM2\": 3.17}, {\"DATE\": \"2004-12-31T00:00:00\", \"BAMLH0A0HYM2\": 3.1}, {\"DATE\": \"2005-01-31T00:00:00\", \"BAMLH0A0HYM2\": 3.29}, {\"DATE\": \"2005-02-28T00:00:00\", \"BAMLH0A0HYM2\": 2.83}, {\"DATE\": \"2005-03-31T00:00:00\", \"BAMLH0A0HYM2\": 3.52}, {\"DATE\": \"2005-04-30T00:00:00\", \"BAMLH0A0HYM2\": 4.19}, {\"DATE\": \"2005-05-31T00:00:00\", \"BAMLH0A0HYM2\": 4.13}, {\"DATE\": \"2005-06-30T00:00:00\", \"BAMLH0A0HYM2\": 3.85}, {\"DATE\": \"2005-07-31T00:00:00\", \"BAMLH0A0HYM2\": 3.3}, {\"DATE\": \"2005-08-31T00:00:00\", \"BAMLH0A0HYM2\": 3.66}, {\"DATE\": \"2005-09-30T00:00:00\", \"BAMLH0A0HYM2\": 3.54}, {\"DATE\": \"2005-10-31T00:00:00\", \"BAMLH0A0HYM2\": 3.61}, {\"DATE\": \"2005-11-30T00:00:00\", \"BAMLH0A0HYM2\": 3.67}, {\"DATE\": \"2005-12-31T00:00:00\", \"BAMLH0A0HYM2\": 3.71}, {\"DATE\": \"2006-01-31T00:00:00\", \"BAMLH0A0HYM2\": 3.42}, {\"DATE\": \"2006-02-28T00:00:00\", \"BAMLH0A0HYM2\": 3.37}, {\"DATE\": \"2006-03-31T00:00:00\", \"BAMLH0A0HYM2\": 3.13}, {\"DATE\": \"2006-04-30T00:00:00\", \"BAMLH0A0HYM2\": 3.04}, {\"DATE\": \"2006-05-31T00:00:00\", \"BAMLH0A0HYM2\": 3.12}, {\"DATE\": \"2006-06-30T00:00:00\", \"BAMLH0A0HYM2\": 3.35}, {\"DATE\": \"2006-07-31T00:00:00\", \"BAMLH0A0HYM2\": 3.45}, {\"DATE\": \"2006-08-31T00:00:00\", \"BAMLH0A0HYM2\": 3.49}, {\"DATE\": \"2006-09-30T00:00:00\", \"BAMLH0A0HYM2\": 3.44}, {\"DATE\": \"2006-10-31T00:00:00\", \"BAMLH0A0HYM2\": 3.29}, {\"DATE\": \"2006-11-30T00:00:00\", \"BAMLH0A0HYM2\": 3.2}, {\"DATE\": \"2006-12-31T00:00:00\", \"BAMLH0A0HYM2\": 2.89}, {\"DATE\": \"2007-01-31T00:00:00\", \"BAMLH0A0HYM2\": 2.72}, {\"DATE\": \"2007-02-28T00:00:00\", \"BAMLH0A0HYM2\": 2.82}, {\"DATE\": \"2007-03-31T00:00:00\", \"BAMLH0A0HYM2\": 2.85}, {\"DATE\": \"2007-04-30T00:00:00\", \"BAMLH0A0HYM2\": 2.74}, {\"DATE\": \"2007-05-31T00:00:00\", \"BAMLH0A0HYM2\": 2.46}, {\"DATE\": \"2007-06-30T00:00:00\", \"BAMLH0A0HYM2\": 2.98}, {\"DATE\": \"2007-07-31T00:00:00\", \"BAMLH0A0HYM2\": 4.19}, {\"DATE\": \"2007-08-31T00:00:00\", \"BAMLH0A0HYM2\": 4.55}, {\"DATE\": \"2007-09-30T00:00:00\", \"BAMLH0A0HYM2\": 4.2}, {\"DATE\": \"2007-10-31T00:00:00\", \"BAMLH0A0HYM2\": 4.36}, {\"DATE\": \"2007-11-30T00:00:00\", \"BAMLH0A0HYM2\": 5.75}, {\"DATE\": \"2007-12-31T00:00:00\", \"BAMLH0A0HYM2\": 5.92}, {\"DATE\": \"2008-01-31T00:00:00\", \"BAMLH0A0HYM2\": 6.95}, {\"DATE\": \"2008-02-29T00:00:00\", \"BAMLH0A0HYM2\": 7.67}, {\"DATE\": \"2008-03-31T00:00:00\", \"BAMLH0A0HYM2\": 8.21}, {\"DATE\": \"2008-04-30T00:00:00\", \"BAMLH0A0HYM2\": 6.86}, {\"DATE\": \"2008-05-31T00:00:00\", \"BAMLH0A0HYM2\": 6.53}, {\"DATE\": \"2008-06-30T00:00:00\", \"BAMLH0A0HYM2\": 7.35}, {\"DATE\": \"2008-07-31T00:00:00\", \"BAMLH0A0HYM2\": 8.0}, {\"DATE\": \"2008-08-31T00:00:00\", \"BAMLH0A0HYM2\": 8.36}, {\"DATE\": \"2008-09-30T00:00:00\", \"BAMLH0A0HYM2\": 10.96}, {\"DATE\": \"2008-10-31T00:00:00\", \"BAMLH0A0HYM2\": 16.17}, {\"DATE\": \"2008-11-30T00:00:00\", \"BAMLH0A0HYM2\": 19.88}, {\"DATE\": \"2008-12-31T00:00:00\", \"BAMLH0A0HYM2\": 18.12}, {\"DATE\": \"2009-01-31T00:00:00\", \"BAMLH0A0HYM2\": 16.26}, {\"DATE\": \"2009-02-28T00:00:00\", \"BAMLH0A0HYM2\": 17.38}, {\"DATE\": \"2009-03-31T00:00:00\", \"BAMLH0A0HYM2\": 17.03}, {\"DATE\": \"2009-04-30T00:00:00\", \"BAMLH0A0HYM2\": 13.45}, {\"DATE\": \"2009-05-31T00:00:00\", \"BAMLH0A0HYM2\": 11.7}, {\"DATE\": \"2009-06-30T00:00:00\", \"BAMLH0A0HYM2\": 10.55}, {\"DATE\": \"2009-07-31T00:00:00\", \"BAMLH0A0HYM2\": 9.22}, {\"DATE\": \"2009-08-31T00:00:00\", \"BAMLH0A0HYM2\": 9.12}, {\"DATE\": \"2009-09-30T00:00:00\", \"BAMLH0A0HYM2\": 7.93}, {\"DATE\": \"2009-10-31T00:00:00\", \"BAMLH0A0HYM2\": 7.6}, {\"DATE\": \"2009-11-30T00:00:00\", \"BAMLH0A0HYM2\": 7.65}, {\"DATE\": \"2009-12-31T00:00:00\", \"BAMLH0A0HYM2\": 6.39}, {\"DATE\": \"2010-01-31T00:00:00\", \"BAMLH0A0HYM2\": 6.54}, {\"DATE\": \"2010-02-28T00:00:00\", \"BAMLH0A0HYM2\": 6.71}, {\"DATE\": \"2010-03-31T00:00:00\", \"BAMLH0A0HYM2\": 5.84}, {\"DATE\": \"2010-04-30T00:00:00\", \"BAMLH0A0HYM2\": 5.61}, {\"DATE\": \"2010-05-31T00:00:00\", \"BAMLH0A0HYM2\": 6.98}, {\"DATE\": \"2010-06-30T00:00:00\", \"BAMLH0A0HYM2\": 7.13}, {\"DATE\": \"2010-07-31T00:00:00\", \"BAMLH0A0HYM2\": 6.59}, {\"DATE\": \"2010-08-31T00:00:00\", \"BAMLH0A0HYM2\": 6.92}, {\"DATE\": \"2010-09-30T00:00:00\", \"BAMLH0A0HYM2\": 6.26}, {\"DATE\": \"2010-10-31T00:00:00\", \"BAMLH0A0HYM2\": 5.93}, {\"DATE\": \"2010-11-30T00:00:00\", \"BAMLH0A0HYM2\": 6.22}, {\"DATE\": \"2010-12-31T00:00:00\", \"BAMLH0A0HYM2\": 5.41}, {\"DATE\": \"2011-01-31T00:00:00\", \"BAMLH0A0HYM2\": 5.08}, {\"DATE\": \"2011-02-28T00:00:00\", \"BAMLH0A0HYM2\": 4.78}, {\"DATE\": \"2011-03-31T00:00:00\", \"BAMLH0A0HYM2\": 4.77}, {\"DATE\": \"2011-04-30T00:00:00\", \"BAMLH0A0HYM2\": 4.76}, {\"DATE\": \"2011-05-31T00:00:00\", \"BAMLH0A0HYM2\": 5.09}, {\"DATE\": \"2011-06-30T00:00:00\", \"BAMLH0A0HYM2\": 5.42}, {\"DATE\": \"2011-07-31T00:00:00\", \"BAMLH0A0HYM2\": 5.58}, {\"DATE\": \"2011-08-31T00:00:00\", \"BAMLH0A0HYM2\": 7.3}, {\"DATE\": \"2011-09-30T00:00:00\", \"BAMLH0A0HYM2\": 8.41}, {\"DATE\": \"2011-10-31T00:00:00\", \"BAMLH0A0HYM2\": 7.07}, {\"DATE\": \"2011-11-30T00:00:00\", \"BAMLH0A0HYM2\": 7.79}, {\"DATE\": \"2011-12-31T00:00:00\", \"BAMLH0A0HYM2\": 7.23}, {\"DATE\": \"2012-01-31T00:00:00\", \"BAMLH0A0HYM2\": 6.61}, {\"DATE\": \"2012-02-29T00:00:00\", \"BAMLH0A0HYM2\": 5.98}, {\"DATE\": \"2012-03-31T00:00:00\", \"BAMLH0A0HYM2\": 5.99}, {\"DATE\": \"2012-04-30T00:00:00\", \"BAMLH0A0HYM2\": 6.04}, {\"DATE\": \"2012-05-31T00:00:00\", \"BAMLH0A0HYM2\": 6.96}, {\"DATE\": \"2012-06-30T00:00:00\", \"BAMLH0A0HYM2\": 6.44}, {\"DATE\": \"2012-07-31T00:00:00\", \"BAMLH0A0HYM2\": 6.16}, {\"DATE\": \"2012-08-31T00:00:00\", \"BAMLH0A0HYM2\": 5.98}, {\"DATE\": \"2012-09-30T00:00:00\", \"BAMLH0A0HYM2\": 5.74}, {\"DATE\": \"2012-10-31T00:00:00\", \"BAMLH0A0HYM2\": 5.63}, {\"DATE\": \"2012-11-30T00:00:00\", \"BAMLH0A0HYM2\": 5.65}, {\"DATE\": \"2012-12-31T00:00:00\", \"BAMLH0A0HYM2\": 5.34}, {\"DATE\": \"2013-01-31T00:00:00\", \"BAMLH0A0HYM2\": 4.95}, {\"DATE\": \"2013-02-28T00:00:00\", \"BAMLH0A0HYM2\": 4.98}, {\"DATE\": \"2013-03-31T00:00:00\", \"BAMLH0A0HYM2\": 4.86}, {\"DATE\": \"2013-04-30T00:00:00\", \"BAMLH0A0HYM2\": 4.55}, {\"DATE\": \"2013-05-31T00:00:00\", \"BAMLH0A0HYM2\": 4.62}, {\"DATE\": \"2013-06-30T00:00:00\", \"BAMLH0A0HYM2\": 5.21}, {\"DATE\": \"2013-07-31T00:00:00\", \"BAMLH0A0HYM2\": 4.71}, {\"DATE\": \"2013-08-29T00:00:00\", \"BAMLH0A0HYM2\": 4.76}, {\"DATE\": \"2013-09-30T00:00:00\", \"BAMLH0A0HYM2\": 4.83}, {\"DATE\": \"2013-10-31T00:00:00\", \"BAMLH0A0HYM2\": 4.36}, {\"DATE\": \"2013-11-30T00:00:00\", \"BAMLH0A0HYM2\": 4.27}, {\"DATE\": \"2013-12-31T00:00:00\", \"BAMLH0A0HYM2\": 4.0}, {\"DATE\": \"2014-01-31T00:00:00\", \"BAMLH0A0HYM2\": 4.21}, {\"DATE\": \"2014-02-28T00:00:00\", \"BAMLH0A0HYM2\": 3.81}, {\"DATE\": \"2014-03-31T00:00:00\", \"BAMLH0A0HYM2\": 3.77}, {\"DATE\": \"2014-04-30T00:00:00\", \"BAMLH0A0HYM2\": 3.71}, {\"DATE\": \"2014-05-31T00:00:00\", \"BAMLH0A0HYM2\": 3.67}, {\"DATE\": \"2014-06-30T00:00:00\", \"BAMLH0A0HYM2\": 3.53}, {\"DATE\": \"2014-07-31T00:00:00\", \"BAMLH0A0HYM2\": 4.04}, {\"DATE\": \"2014-08-31T00:00:00\", \"BAMLH0A0HYM2\": 3.84}, {\"DATE\": \"2014-09-30T00:00:00\", \"BAMLH0A0HYM2\": 4.4}, {\"DATE\": \"2014-10-31T00:00:00\", \"BAMLH0A0HYM2\": 4.3}, {\"DATE\": \"2014-11-30T00:00:00\", \"BAMLH0A0HYM2\": 4.67}, {\"DATE\": \"2014-12-31T00:00:00\", \"BAMLH0A0HYM2\": 5.04}, {\"DATE\": \"2015-01-31T00:00:00\", \"BAMLH0A0HYM2\": 5.26}, {\"DATE\": \"2015-02-28T00:00:00\", \"BAMLH0A0HYM2\": 4.46}, {\"DATE\": \"2015-03-31T00:00:00\", \"BAMLH0A0HYM2\": 4.82}, {\"DATE\": \"2015-04-30T00:00:00\", \"BAMLH0A0HYM2\": 4.59}, {\"DATE\": \"2015-05-31T00:00:00\", \"BAMLH0A0HYM2\": 4.58}, {\"DATE\": \"2015-06-30T00:00:00\", \"BAMLH0A0HYM2\": 5.0}, {\"DATE\": \"2015-07-31T00:00:00\", \"BAMLH0A0HYM2\": 5.36}, {\"DATE\": \"2015-08-31T00:00:00\", \"BAMLH0A0HYM2\": 5.7}, {\"DATE\": \"2015-09-30T00:00:00\", \"BAMLH0A0HYM2\": 6.62}, {\"DATE\": \"2015-10-31T00:00:00\", \"BAMLH0A0HYM2\": 5.9}, {\"DATE\": \"2015-11-30T00:00:00\", \"BAMLH0A0HYM2\": 6.4}, {\"DATE\": \"2015-12-31T00:00:00\", \"BAMLH0A0HYM2\": 6.95}, {\"DATE\": \"2016-01-31T00:00:00\", \"BAMLH0A0HYM2\": 7.77}, {\"DATE\": \"2016-02-29T00:00:00\", \"BAMLH0A0HYM2\": 7.75}, {\"DATE\": \"2016-03-31T00:00:00\", \"BAMLH0A0HYM2\": 7.05}, {\"DATE\": \"2016-04-30T00:00:00\", \"BAMLH0A0HYM2\": 6.21}, {\"DATE\": \"2016-05-31T00:00:00\", \"BAMLH0A0HYM2\": 5.97}, {\"DATE\": \"2016-06-30T00:00:00\", \"BAMLH0A0HYM2\": 6.21}, {\"DATE\": \"2016-07-31T00:00:00\", \"BAMLH0A0HYM2\": 5.69}, {\"DATE\": \"2016-08-31T00:00:00\", \"BAMLH0A0HYM2\": 5.1}, {\"DATE\": \"2016-09-30T00:00:00\", \"BAMLH0A0HYM2\": 4.97}, {\"DATE\": \"2016-10-31T00:00:00\", \"BAMLH0A0HYM2\": 4.91}, {\"DATE\": \"2016-11-30T00:00:00\", \"BAMLH0A0HYM2\": 4.67}, {\"DATE\": \"2016-12-31T00:00:00\", \"BAMLH0A0HYM2\": 4.22}, {\"DATE\": \"2017-01-31T00:00:00\", \"BAMLH0A0HYM2\": 4.0}, {\"DATE\": \"2017-02-28T00:00:00\", \"BAMLH0A0HYM2\": 3.74}, {\"DATE\": \"2017-03-31T00:00:00\", \"BAMLH0A0HYM2\": 3.92}, {\"DATE\": \"2017-04-30T00:00:00\", \"BAMLH0A0HYM2\": 3.81}, {\"DATE\": \"2017-05-31T00:00:00\", \"BAMLH0A0HYM2\": 3.74}, {\"DATE\": \"2017-06-30T00:00:00\", \"BAMLH0A0HYM2\": 3.77}, {\"DATE\": \"2017-07-31T00:00:00\", \"BAMLH0A0HYM2\": 3.61}, {\"DATE\": \"2017-08-31T00:00:00\", \"BAMLH0A0HYM2\": 3.85}, {\"DATE\": \"2017-09-30T00:00:00\", \"BAMLH0A0HYM2\": 3.56}, {\"DATE\": \"2017-10-31T00:00:00\", \"BAMLH0A0HYM2\": 3.51}, {\"DATE\": \"2017-11-30T00:00:00\", \"BAMLH0A0HYM2\": 3.61}, {\"DATE\": \"2017-12-31T00:00:00\", \"BAMLH0A0HYM2\": 3.63}, {\"DATE\": \"2018-01-31T00:00:00\", \"BAMLH0A0HYM2\": 3.29}, {\"DATE\": \"2018-02-28T00:00:00\", \"BAMLH0A0HYM2\": 3.47}, {\"DATE\": \"2018-03-31T00:00:00\", \"BAMLH0A0HYM2\": 3.72}, {\"DATE\": \"2018-04-30T00:00:00\", \"BAMLH0A0HYM2\": 3.46}, {\"DATE\": \"2018-05-31T00:00:00\", \"BAMLH0A0HYM2\": 3.63}, {\"DATE\": \"2018-06-30T00:00:00\", \"BAMLH0A0HYM2\": 3.71}, {\"DATE\": \"2018-07-31T00:00:00\", \"BAMLH0A0HYM2\": 3.46}, {\"DATE\": \"2018-08-31T00:00:00\", \"BAMLH0A0HYM2\": 3.49}, {\"DATE\": \"2018-09-30T00:00:00\", \"BAMLH0A0HYM2\": 3.28}, {\"DATE\": \"2018-10-31T00:00:00\", \"BAMLH0A0HYM2\": 3.81}, {\"DATE\": \"2018-11-30T00:00:00\", \"BAMLH0A0HYM2\": 4.29}, {\"DATE\": \"2018-12-31T00:00:00\", \"BAMLH0A0HYM2\": 5.33}, {\"DATE\": \"2019-01-31T00:00:00\", \"BAMLH0A0HYM2\": 4.37}, {\"DATE\": \"2019-02-28T00:00:00\", \"BAMLH0A0HYM2\": 3.92}, {\"DATE\": \"2019-03-31T00:00:00\", \"BAMLH0A0HYM2\": 4.05}, {\"DATE\": \"2019-04-30T00:00:00\", \"BAMLH0A0HYM2\": 3.73}, {\"DATE\": \"2019-05-31T00:00:00\", \"BAMLH0A0HYM2\": 4.59}, {\"DATE\": \"2019-06-30T00:00:00\", \"BAMLH0A0HYM2\": 4.07}, {\"DATE\": \"2019-07-31T00:00:00\", \"BAMLH0A0HYM2\": 3.93}, {\"DATE\": \"2019-08-31T00:00:00\", \"BAMLH0A0HYM2\": 4.13}, {\"DATE\": \"2019-09-30T00:00:00\", \"BAMLH0A0HYM2\": 4.02}, {\"DATE\": \"2019-10-31T00:00:00\", \"BAMLH0A0HYM2\": 4.15}, {\"DATE\": \"2019-11-30T00:00:00\", \"BAMLH0A0HYM2\": 4.02}, {\"DATE\": \"2019-12-31T00:00:00\", \"BAMLH0A0HYM2\": 3.6}, {\"DATE\": \"2020-01-31T00:00:00\", \"BAMLH0A0HYM2\": 4.03}, {\"DATE\": \"2020-02-29T00:00:00\", \"BAMLH0A0HYM2\": 5.06}, {\"DATE\": \"2020-03-31T00:00:00\", \"BAMLH0A0HYM2\": 8.77}, {\"DATE\": \"2020-04-30T00:00:00\", \"BAMLH0A0HYM2\": 7.63}, {\"DATE\": \"2020-05-31T00:00:00\", \"BAMLH0A0HYM2\": 6.54}, {\"DATE\": \"2020-06-30T00:00:00\", \"BAMLH0A0HYM2\": 6.44}, {\"DATE\": \"2020-07-31T00:00:00\", \"BAMLH0A0HYM2\": 5.16}, {\"DATE\": \"2020-08-31T00:00:00\", \"BAMLH0A0HYM2\": 5.02}, {\"DATE\": \"2020-09-30T00:00:00\", \"BAMLH0A0HYM2\": 5.41}, {\"DATE\": \"2020-10-31T00:00:00\", \"BAMLH0A0HYM2\": 5.32}, {\"DATE\": \"2020-11-30T00:00:00\", \"BAMLH0A0HYM2\": 4.33}, {\"DATE\": \"2020-12-31T00:00:00\", \"BAMLH0A0HYM2\": 3.86}], \"data-2108533d577388f9f0eb49c2d14449d0\": [{\"DATE\": \"2000-01-31T00:00:00\", \"DRTSCIS\": 9.4}, {\"DATE\": \"2000-04-30T00:00:00\", \"DRTSCIS\": 21.4}, {\"DATE\": \"2000-07-31T00:00:00\", \"DRTSCIS\": 23.6}, {\"DATE\": \"2000-10-31T00:00:00\", \"DRTSCIS\": 27.3}, {\"DATE\": \"2001-01-31T00:00:00\", \"DRTSCIS\": 45.5}, {\"DATE\": \"2001-04-30T00:00:00\", \"DRTSCIS\": 36.4}, {\"DATE\": \"2001-07-31T00:00:00\", \"DRTSCIS\": 31.6}, {\"DATE\": \"2001-10-31T00:00:00\", \"DRTSCIS\": 40.4}, {\"DATE\": \"2002-01-31T00:00:00\", \"DRTSCIS\": 41.8}, {\"DATE\": \"2002-04-30T00:00:00\", \"DRTSCIS\": 14.5}, {\"DATE\": \"2002-07-31T00:00:00\", \"DRTSCIS\": 5.5}, {\"DATE\": \"2002-10-31T00:00:00\", \"DRTSCIS\": 18.2}, {\"DATE\": \"2003-01-31T00:00:00\", \"DRTSCIS\": 13.8}, {\"DATE\": \"2003-04-30T00:00:00\", \"DRTSCIS\": 12.7}, {\"DATE\": \"2003-07-31T00:00:00\", \"DRTSCIS\": 3.5}, {\"DATE\": \"2003-10-31T00:00:00\", \"DRTSCIS\": -1.8}, {\"DATE\": \"2004-01-31T00:00:00\", \"DRTSCIS\": -10.9}, {\"DATE\": \"2004-04-30T00:00:00\", \"DRTSCIS\": -19.3}, {\"DATE\": \"2004-07-31T00:00:00\", \"DRTSCIS\": -3.6}, {\"DATE\": \"2004-10-31T00:00:00\", \"DRTSCIS\": -18.2}, {\"DATE\": \"2005-01-31T00:00:00\", \"DRTSCIS\": -13.0}, {\"DATE\": \"2005-04-30T00:00:00\", \"DRTSCIS\": -24.1}, {\"DATE\": \"2005-07-31T00:00:00\", \"DRTSCIS\": -11.1}, {\"DATE\": \"2005-10-31T00:00:00\", \"DRTSCIS\": -5.3}, {\"DATE\": \"2006-01-31T00:00:00\", \"DRTSCIS\": -7.1}, {\"DATE\": \"2006-04-30T00:00:00\", \"DRTSCIS\": -7.0}, {\"DATE\": \"2006-07-31T00:00:00\", \"DRTSCIS\": -1.8}, {\"DATE\": \"2006-10-31T00:00:00\", \"DRTSCIS\": -1.9}, {\"DATE\": \"2007-01-31T00:00:00\", \"DRTSCIS\": 5.4}, {\"DATE\": \"2007-04-30T00:00:00\", \"DRTSCIS\": 1.9}, {\"DATE\": \"2007-07-31T00:00:00\", \"DRTSCIS\": 7.7}, {\"DATE\": \"2007-10-31T00:00:00\", \"DRTSCIS\": 9.6}, {\"DATE\": \"2008-01-31T00:00:00\", \"DRTSCIS\": 30.4}, {\"DATE\": \"2008-04-30T00:00:00\", \"DRTSCIS\": 51.8}, {\"DATE\": \"2008-07-31T00:00:00\", \"DRTSCIS\": 65.4}, {\"DATE\": \"2008-10-31T00:00:00\", \"DRTSCIS\": 74.5}, {\"DATE\": \"2009-01-31T00:00:00\", \"DRTSCIS\": 69.2}, {\"DATE\": \"2009-04-30T00:00:00\", \"DRTSCIS\": 42.3}, {\"DATE\": \"2009-07-31T00:00:00\", \"DRTSCIS\": 34.0}, {\"DATE\": \"2009-10-31T00:00:00\", \"DRTSCIS\": 16.1}, {\"DATE\": \"2010-01-31T00:00:00\", \"DRTSCIS\": 3.7}, {\"DATE\": \"2010-04-30T00:00:00\", \"DRTSCIS\": 0.0}, {\"DATE\": \"2010-07-31T00:00:00\", \"DRTSCIS\": -9.1}, {\"DATE\": \"2010-10-31T00:00:00\", \"DRTSCIS\": -7.1}, {\"DATE\": \"2011-01-31T00:00:00\", \"DRTSCIS\": -1.9}, {\"DATE\": \"2011-04-30T00:00:00\", \"DRTSCIS\": -13.5}, {\"DATE\": \"2011-07-31T00:00:00\", \"DRTSCIS\": -7.8}, {\"DATE\": \"2011-10-31T00:00:00\", \"DRTSCIS\": -6.3}, {\"DATE\": \"2012-01-31T00:00:00\", \"DRTSCIS\": 1.9}, {\"DATE\": \"2012-04-30T00:00:00\", \"DRTSCIS\": -1.8}, {\"DATE\": \"2012-07-31T00:00:00\", \"DRTSCIS\": -4.9}, {\"DATE\": \"2012-10-31T00:00:00\", \"DRTSCIS\": -7.6}, {\"DATE\": \"2013-01-31T00:00:00\", \"DRTSCIS\": -7.7}, {\"DATE\": \"2013-04-30T00:00:00\", \"DRTSCIS\": -23.1}, {\"DATE\": \"2013-07-31T00:00:00\", \"DRTSCIS\": -10.0}, {\"DATE\": \"2013-10-31T00:00:00\", \"DRTSCIS\": -7.1}, {\"DATE\": \"2014-01-31T00:00:00\", \"DRTSCIS\": -4.2}, {\"DATE\": \"2014-04-30T00:00:00\", \"DRTSCIS\": -7.0}, {\"DATE\": \"2014-07-31T00:00:00\", \"DRTSCIS\": -8.3}, {\"DATE\": \"2014-10-31T00:00:00\", \"DRTSCIS\": -8.2}, {\"DATE\": \"2015-01-31T00:00:00\", \"DRTSCIS\": -5.7}, {\"DATE\": \"2015-04-30T00:00:00\", \"DRTSCIS\": -1.4}, {\"DATE\": \"2015-07-31T00:00:00\", \"DRTSCIS\": -6.0}, {\"DATE\": \"2015-10-31T00:00:00\", \"DRTSCIS\": 1.5}, {\"DATE\": \"2016-01-31T00:00:00\", \"DRTSCIS\": 4.2}, {\"DATE\": \"2016-04-30T00:00:00\", \"DRTSCIS\": 5.8}, {\"DATE\": \"2016-07-31T00:00:00\", \"DRTSCIS\": 7.1}, {\"DATE\": \"2016-10-31T00:00:00\", \"DRTSCIS\": -1.5}, {\"DATE\": \"2017-01-31T00:00:00\", \"DRTSCIS\": 0.0}, {\"DATE\": \"2017-04-30T00:00:00\", \"DRTSCIS\": -2.9}, {\"DATE\": \"2017-07-31T00:00:00\", \"DRTSCIS\": -4.1}, {\"DATE\": \"2017-10-31T00:00:00\", \"DRTSCIS\": -8.8}, {\"DATE\": \"2018-01-31T00:00:00\", \"DRTSCIS\": 0.0}, {\"DATE\": \"2018-04-30T00:00:00\", \"DRTSCIS\": -3.0}, {\"DATE\": \"2018-07-31T00:00:00\", \"DRTSCIS\": -7.6}, {\"DATE\": \"2018-10-31T00:00:00\", \"DRTSCIS\": -3.1}, {\"DATE\": \"2019-01-31T00:00:00\", \"DRTSCIS\": 4.3}, {\"DATE\": \"2019-04-30T00:00:00\", \"DRTSCIS\": 0.0}, {\"DATE\": \"2019-07-31T00:00:00\", \"DRTSCIS\": -5.8}, {\"DATE\": \"2019-10-31T00:00:00\", \"DRTSCIS\": 5.6}, {\"DATE\": \"2020-01-31T00:00:00\", \"DRTSCIS\": -1.4}, {\"DATE\": \"2020-04-30T00:00:00\", \"DRTSCIS\": 39.7}, {\"DATE\": \"2020-07-31T00:00:00\", \"DRTSCIS\": 70.0}, {\"DATE\": \"2020-10-31T00:00:00\", \"DRTSCIS\": 31.3}], \"data-4c6f780913a45f81a467345005541598\": [{\"value\": 0}]}}, {\"mode\": \"vega-lite\"});\n",
       "</script>"
      ],
      "text/plain": [
       "alt.LayerChart(...)"
      ]
     },
     "execution_count": 16,
     "metadata": {},
     "output_type": "execute_result"
    }
   ],
   "source": [
    "plotter(df1,df2,dr)"
   ]
  },
  {
   "cell_type": "markdown",
   "metadata": {},
   "source": [
    "### 📤 Data export"
   ]
  },
  {
   "cell_type": "markdown",
   "metadata": {},
   "source": [
    "The task is almost finished, but we have used `pandas` _dataframes_ as inputs for `Altair`. We now convert these to _.csv_, as per the task's requirement. First, save the _dataframes_ to _.csv_: 💾"
   ]
  },
  {
   "cell_type": "code",
   "execution_count": 17,
   "metadata": {},
   "outputs": [],
   "source": [
    "df1.to_csv('df1.csv')\n",
    "df2.to_csv('df2.csv')"
   ]
  },
  {
   "cell_type": "markdown",
   "metadata": {},
   "source": [
    "Next, upload to [GitHub](https://github.com/csaladenes/eco) ... then return here. We then set up for local loading and viewing."
   ]
  },
  {
   "cell_type": "code",
   "execution_count": 18,
   "metadata": {},
   "outputs": [],
   "source": [
    "import json\n",
    "import altair_viewer\n",
    "import os\n",
    "cwd = os.getcwd()"
   ]
  },
  {
   "cell_type": "code",
   "execution_count": 19,
   "metadata": {},
   "outputs": [],
   "source": [
    "%%capture c\n",
    "!jupyter-notebook list"
   ]
  },
  {
   "cell_type": "code",
   "execution_count": 20,
   "metadata": {},
   "outputs": [],
   "source": [
    "local_path='http'+c.stdout.split('http')[1].split('?token')[0]+'tree'+(cwd.replace('\\\\','/')+'/')[2:]\n",
    "github_url='https://raw.githubusercontent.com/csaladenes/eco/main/'"
   ]
  },
  {
   "cell_type": "markdown",
   "metadata": {},
   "source": [
    "Since we have already the set up the plotter in a way that it can accept a _dataframe_ directly as an input, but also a _.csv_ or a _.json_ file, we can call it again, but this time with the _.csv_ file arguments.  \n",
    "### 🤩 The finished product"
   ]
  },
  {
   "cell_type": "code",
   "execution_count": 21,
   "metadata": {},
   "outputs": [
    {
     "data": {
      "text/html": [
       "\n",
       "<div id=\"altair-viz-91946c8f5c4d4f2b9f3cef9abed4624f\"></div>\n",
       "<script type=\"text/javascript\">\n",
       "  (function(spec, embedOpt){\n",
       "    let outputDiv = document.currentScript.previousElementSibling;\n",
       "    if (outputDiv.id !== \"altair-viz-91946c8f5c4d4f2b9f3cef9abed4624f\") {\n",
       "      outputDiv = document.getElementById(\"altair-viz-91946c8f5c4d4f2b9f3cef9abed4624f\");\n",
       "    }\n",
       "    const paths = {\n",
       "      \"vega\": \"https://cdn.jsdelivr.net/npm//vega@5?noext\",\n",
       "      \"vega-lib\": \"https://cdn.jsdelivr.net/npm//vega-lib?noext\",\n",
       "      \"vega-lite\": \"https://cdn.jsdelivr.net/npm//vega-lite@4.8.1?noext\",\n",
       "      \"vega-embed\": \"https://cdn.jsdelivr.net/npm//vega-embed@6?noext\",\n",
       "    };\n",
       "\n",
       "    function loadScript(lib) {\n",
       "      return new Promise(function(resolve, reject) {\n",
       "        var s = document.createElement('script');\n",
       "        s.src = paths[lib];\n",
       "        s.async = true;\n",
       "        s.onload = () => resolve(paths[lib]);\n",
       "        s.onerror = () => reject(`Error loading script: ${paths[lib]}`);\n",
       "        document.getElementsByTagName(\"head\")[0].appendChild(s);\n",
       "      });\n",
       "    }\n",
       "\n",
       "    function showError(err) {\n",
       "      outputDiv.innerHTML = `<div class=\"error\" style=\"color:red;\">${err}</div>`;\n",
       "      throw err;\n",
       "    }\n",
       "\n",
       "    function displayChart(vegaEmbed) {\n",
       "      vegaEmbed(outputDiv, spec, embedOpt)\n",
       "        .catch(err => showError(`Javascript Error: ${err.message}<br>This usually means there's a typo in your chart specification. See the javascript console for the full traceback.`));\n",
       "    }\n",
       "\n",
       "    if(typeof define === \"function\" && define.amd) {\n",
       "      requirejs.config({paths});\n",
       "      require([\"vega-embed\"], displayChart, err => showError(`Error loading script: ${err.message}`));\n",
       "    } else if (typeof vegaEmbed === \"function\") {\n",
       "      displayChart(vegaEmbed);\n",
       "    } else {\n",
       "      loadScript(\"vega\")\n",
       "        .then(() => loadScript(\"vega-lite\"))\n",
       "        .then(() => loadScript(\"vega-embed\"))\n",
       "        .catch(showError)\n",
       "        .then(() => displayChart(vegaEmbed));\n",
       "    }\n",
       "  })({\"config\": {\"view\": {\"continuousWidth\": 700, \"continuousHeight\": 250}}, \"layer\": [{\"data\": {\"name\": \"data-2b08226b30bbb08a20f45bc01ddaafde\"}, \"mark\": {\"type\": \"rect\", \"blend\": \"darken\"}, \"encoding\": {\"color\": {\"type\": \"nominal\", \"field\": \"color\", \"scale\": null}, \"x\": {\"type\": \"temporal\", \"field\": \"start\"}, \"x2\": {\"field\": \"end\"}}}, {\"layer\": [{\"data\": {\"url\": \"https://raw.githubusercontent.com/csaladenes/eco/main/df2.csv\"}, \"mark\": {\"type\": \"line\", \"color\": \"#557CAA\", \"line\": true}, \"encoding\": {\"x\": {\"type\": \"temporal\", \"axis\": {\"grid\": false, \"tickCount\": 10}, \"field\": \"DATE\", \"title\": null}, \"y\": {\"type\": \"quantitative\", \"axis\": {\"format\": \".1f\", \"grid\": true, \"tickCount\": 9, \"titleFontWeight\": \"normal\", \"values\": [0.0, 2.5, 5.0, 7.5, 10.0, 12.5, 15.0, 17.5, 20.0]}, \"field\": \"BAMLH0A0HYM2\", \"scale\": {\"domain\": [0, 20]}, \"title\": \"Percent\"}}}, {\"data\": {\"url\": \"https://raw.githubusercontent.com/csaladenes/eco/main/df1.csv\"}, \"mark\": {\"type\": \"line\", \"color\": \"#A53F3D\", \"line\": true}, \"encoding\": {\"x\": {\"type\": \"temporal\", \"field\": \"DATE\"}, \"y\": {\"type\": \"quantitative\", \"axis\": {\"format\": \".0f\", \"tickCount\": 9, \"titleFontWeight\": \"normal\", \"values\": [-30, -15, 0, 15, 30, 45, 60, 75, 90]}, \"field\": \"DRTSCIS\", \"scale\": {\"domain\": [-30, 90]}, \"title\": \"Percent\"}}}, {\"data\": {\"name\": \"data-4c6f780913a45f81a467345005541598\"}, \"mark\": {\"type\": \"rule\", \"size\": 3}, \"encoding\": {\"y\": {\"type\": \"quantitative\", \"axis\": {\"grid\": false, \"values\": []}, \"field\": \"value\", \"scale\": {\"domain\": [0, 20]}, \"title\": null}}}], \"resolve\": {\"scale\": {\"y\": \"independent\"}}}, {\"data\": {\"name\": \"data-4c6f780913a45f81a467345005541598\"}, \"mark\": {\"type\": \"rule\", \"size\": 3}, \"encoding\": {\"y\": {\"type\": \"quantitative\", \"axis\": {\"grid\": false, \"values\": []}, \"field\": \"value\", \"scale\": {\"domain\": [0, 20]}, \"title\": null}}}], \"$schema\": \"https://vega.github.io/schema/vega-lite/v4.8.1.json\", \"datasets\": {\"data-2b08226b30bbb08a20f45bc01ddaafde\": [{\"start\": \"2001-03-31\", \"end\": \"2001-11-30\", \"event\": \"recession\", \"color\": \"#E2E2E2\"}, {\"start\": \"2007-12-31\", \"end\": \"2009-06-30\", \"event\": \"recession\", \"color\": \"#E2E2E2\"}, {\"start\": \"2020-02-29\", \"end\": \"2021-04-01\", \"event\": \"covid\", \"color\": \"#F3F4D8\"}], \"data-4c6f780913a45f81a467345005541598\": [{\"value\": 0}]}}, {\"mode\": \"vega-lite\"});\n",
       "</script>"
      ],
      "text/plain": [
       "alt.LayerChart(...)"
      ]
     },
     "execution_count": 21,
     "metadata": {},
     "output_type": "execute_result"
    }
   ],
   "source": [
    "# plotter(local_path+'df1.csv',local_path+'df2.csv',dr)\n",
    "p=plotter(github_url+'df1.csv',github_url+'df2.csv',dr)\n",
    "p"
   ]
  },
  {
   "cell_type": "markdown",
   "metadata": {},
   "source": [
    "🔧 Here is the `Vega-Lite` config:"
   ]
  },
  {
   "cell_type": "code",
   "execution_count": 22,
   "metadata": {},
   "outputs": [
    {
     "data": {
      "text/plain": [
       "{'config': {'view': {'continuousWidth': 700, 'continuousHeight': 250}},\n",
       " 'layer': [{'data': {'name': 'data-2b08226b30bbb08a20f45bc01ddaafde'},\n",
       "   'mark': {'type': 'rect', 'blend': 'darken'},\n",
       "   'encoding': {'color': {'type': 'nominal', 'field': 'color', 'scale': None},\n",
       "    'x': {'type': 'temporal', 'field': 'start'},\n",
       "    'x2': {'field': 'end'}}},\n",
       "  {'layer': [{'data': {'url': 'https://raw.githubusercontent.com/csaladenes/eco/main/df2.csv'},\n",
       "     'mark': {'type': 'line', 'color': '#557CAA', 'line': True},\n",
       "     'encoding': {'x': {'type': 'temporal',\n",
       "       'axis': {'grid': False, 'tickCount': 10},\n",
       "       'field': 'DATE',\n",
       "       'title': None},\n",
       "      'y': {'type': 'quantitative',\n",
       "       'axis': {'format': '.1f',\n",
       "        'grid': True,\n",
       "        'tickCount': 9,\n",
       "        'titleFontWeight': 'normal',\n",
       "        'values': [0.0, 2.5, 5.0, 7.5, 10.0, 12.5, 15.0, 17.5, 20.0]},\n",
       "       'field': 'BAMLH0A0HYM2',\n",
       "       'scale': {'domain': [0, 20]},\n",
       "       'title': 'Percent'}}},\n",
       "    {'data': {'url': 'https://raw.githubusercontent.com/csaladenes/eco/main/df1.csv'},\n",
       "     'mark': {'type': 'line', 'color': '#A53F3D', 'line': True},\n",
       "     'encoding': {'x': {'type': 'temporal', 'field': 'DATE'},\n",
       "      'y': {'type': 'quantitative',\n",
       "       'axis': {'format': '.0f',\n",
       "        'tickCount': 9,\n",
       "        'titleFontWeight': 'normal',\n",
       "        'values': [-30, -15, 0, 15, 30, 45, 60, 75, 90]},\n",
       "       'field': 'DRTSCIS',\n",
       "       'scale': {'domain': [-30, 90]},\n",
       "       'title': 'Percent'}}},\n",
       "    {'data': {'name': 'data-4c6f780913a45f81a467345005541598'},\n",
       "     'mark': {'type': 'rule', 'size': 3},\n",
       "     'encoding': {'y': {'type': 'quantitative',\n",
       "       'axis': {'grid': False, 'values': []},\n",
       "       'field': 'value',\n",
       "       'scale': {'domain': [0, 20]},\n",
       "       'title': None}}}],\n",
       "   'resolve': {'scale': {'y': 'independent'}}},\n",
       "  {'data': {'name': 'data-4c6f780913a45f81a467345005541598'},\n",
       "   'mark': {'type': 'rule', 'size': 3},\n",
       "   'encoding': {'y': {'type': 'quantitative',\n",
       "     'axis': {'grid': False, 'values': []},\n",
       "     'field': 'value',\n",
       "     'scale': {'domain': [0, 20]},\n",
       "     'title': None}}}],\n",
       " '$schema': 'https://vega.github.io/schema/vega-lite/v4.8.1.json',\n",
       " 'datasets': {'data-2b08226b30bbb08a20f45bc01ddaafde': [{'start': '2001-03-31',\n",
       "    'end': '2001-11-30',\n",
       "    'event': 'recession',\n",
       "    'color': '#E2E2E2'},\n",
       "   {'start': '2007-12-31',\n",
       "    'end': '2009-06-30',\n",
       "    'event': 'recession',\n",
       "    'color': '#E2E2E2'},\n",
       "   {'start': '2020-02-29',\n",
       "    'end': '2021-04-01',\n",
       "    'event': 'covid',\n",
       "    'color': '#F3F4D8'}],\n",
       "  'data-4c6f780913a45f81a467345005541598': [{'value': 0}]}}"
      ]
     },
     "execution_count": 22,
     "metadata": {},
     "output_type": "execute_result"
    }
   ],
   "source": [
    "p.save('config.json')\n",
    "config=json.loads(open('config.json','r').read())\n",
    "config"
   ]
  },
  {
   "cell_type": "markdown",
   "metadata": {},
   "source": [
    "We can indeed load the visualisation back from the config file:"
   ]
  },
  {
   "cell_type": "code",
   "execution_count": 23,
   "metadata": {},
   "outputs": [
    {
     "data": {
      "text/html": [
       "\n",
       "<div id=\"altair-chart-e53f17e0a03749b9bc4038204e5ef238\"></div>\n",
       "<script type=\"text/javascript\">\n",
       "  (function(spec, embedOpt) {\n",
       "    const outputDiv = document.getElementById(\"altair-chart-e53f17e0a03749b9bc4038204e5ef238\");\n",
       "    const urls = {\n",
       "      \"vega\": \"http://localhost:18007/scripts/vega.js\",\n",
       "      \"vega-lite\": \"http://localhost:18007/scripts/vega-lite.js\",\n",
       "      \"vega-embed\": \"http://localhost:18007/scripts/vega-embed.js\",\n",
       "    };\n",
       "    function loadScript(lib) {\n",
       "      return new Promise(function(resolve, reject) {\n",
       "        var s = document.createElement('script');\n",
       "        s.src = urls[lib];\n",
       "        s.async = true;\n",
       "        s.onload = () => resolve(urls[lib]);\n",
       "        s.onerror = () => reject(`Error loading script: ${urls[lib]}`);\n",
       "        document.getElementsByTagName(\"head\")[0].appendChild(s);\n",
       "      });\n",
       "    }\n",
       "    function showError(err) {\n",
       "      outputDiv.innerHTML = `<div class=\"error\" style=\"color:red;\">${err}</div>`;\n",
       "      throw err;\n",
       "    }\n",
       "    function displayChart(vegaEmbed) {\n",
       "      vegaEmbed(outputDiv, spec, embedOpt)\n",
       "        .catch(err => showError(`Javascript Error: ${err.message}<br>This usually means there's a typo in your chart specification. See the javascript console for the full traceback.`));\n",
       "    }\n",
       "\n",
       "    if(typeof define === \"function\" && define.amd) {\n",
       "        // requirejs paths need '.js' extension stripped.\n",
       "        const paths = Object.keys(urls).reduce(function(paths, package) {\n",
       "            paths[package] = urls[package].replace(/\\.js$/, \"\");\n",
       "            return paths\n",
       "        }, {})\n",
       "        requirejs.config({paths});\n",
       "        require([\"vega-embed\"], displayChart, err => showError(`Error loading script: ${err.message}`));\n",
       "    } else if (typeof vegaEmbed === \"function\") {\n",
       "        displayChart(vegaEmbed);\n",
       "    } else {\n",
       "        loadScript(\"vega\")\n",
       "            .then(() => loadScript(\"vega-lite\"))\n",
       "            .then(() => loadScript(\"vega-embed\"))\n",
       "            .catch(showError)\n",
       "            .then(() => displayChart(vegaEmbed));\n",
       "    }\n",
       "  })({\"config\": {\"view\": {\"continuousWidth\": 700, \"continuousHeight\": 250}}, \"layer\": [{\"data\": {\"name\": \"data-2b08226b30bbb08a20f45bc01ddaafde\"}, \"mark\": {\"type\": \"rect\", \"blend\": \"darken\"}, \"encoding\": {\"color\": {\"type\": \"nominal\", \"field\": \"color\", \"scale\": null}, \"x\": {\"type\": \"temporal\", \"field\": \"start\"}, \"x2\": {\"field\": \"end\"}}}, {\"layer\": [{\"data\": {\"url\": \"https://raw.githubusercontent.com/csaladenes/eco/main/df2.csv\"}, \"mark\": {\"type\": \"line\", \"color\": \"#557CAA\", \"line\": true}, \"encoding\": {\"x\": {\"type\": \"temporal\", \"axis\": {\"grid\": false, \"tickCount\": 10}, \"field\": \"DATE\", \"title\": null}, \"y\": {\"type\": \"quantitative\", \"axis\": {\"format\": \".1f\", \"grid\": true, \"tickCount\": 9, \"titleFontWeight\": \"normal\", \"values\": [0.0, 2.5, 5.0, 7.5, 10.0, 12.5, 15.0, 17.5, 20.0]}, \"field\": \"BAMLH0A0HYM2\", \"scale\": {\"domain\": [0, 20]}, \"title\": \"Percent\"}}}, {\"data\": {\"url\": \"https://raw.githubusercontent.com/csaladenes/eco/main/df1.csv\"}, \"mark\": {\"type\": \"line\", \"color\": \"#A53F3D\", \"line\": true}, \"encoding\": {\"x\": {\"type\": \"temporal\", \"field\": \"DATE\"}, \"y\": {\"type\": \"quantitative\", \"axis\": {\"format\": \".0f\", \"tickCount\": 9, \"titleFontWeight\": \"normal\", \"values\": [-30, -15, 0, 15, 30, 45, 60, 75, 90]}, \"field\": \"DRTSCIS\", \"scale\": {\"domain\": [-30, 90]}, \"title\": \"Percent\"}}}, {\"data\": {\"name\": \"data-4c6f780913a45f81a467345005541598\"}, \"mark\": {\"type\": \"rule\", \"size\": 3}, \"encoding\": {\"y\": {\"type\": \"quantitative\", \"axis\": {\"grid\": false, \"values\": []}, \"field\": \"value\", \"scale\": {\"domain\": [0, 20]}, \"title\": null}}}], \"resolve\": {\"scale\": {\"y\": \"independent\"}}}, {\"data\": {\"name\": \"data-4c6f780913a45f81a467345005541598\"}, \"mark\": {\"type\": \"rule\", \"size\": 3}, \"encoding\": {\"y\": {\"type\": \"quantitative\", \"axis\": {\"grid\": false, \"values\": []}, \"field\": \"value\", \"scale\": {\"domain\": [0, 20]}, \"title\": null}}}], \"$schema\": \"https://vega.github.io/schema/vega-lite/v4.8.1.json\", \"datasets\": {\"data-2b08226b30bbb08a20f45bc01ddaafde\": [{\"start\": \"2001-03-31\", \"end\": \"2001-11-30\", \"event\": \"recession\", \"color\": \"#E2E2E2\"}, {\"start\": \"2007-12-31\", \"end\": \"2009-06-30\", \"event\": \"recession\", \"color\": \"#E2E2E2\"}, {\"start\": \"2020-02-29\", \"end\": \"2021-04-01\", \"event\": \"covid\", \"color\": \"#F3F4D8\"}], \"data-4c6f780913a45f81a467345005541598\": [{\"value\": 0}]}}, {});\n",
       "</script>\n"
      ],
      "text/plain": [
       "<IPython.core.display.HTML object>"
      ]
     },
     "metadata": {},
     "output_type": "display_data"
    }
   ],
   "source": [
    "altair_viewer.display(config, inline=True)"
   ]
  },
  {
   "cell_type": "markdown",
   "metadata": {},
   "source": [
    "Static 🖼 image embed"
   ]
  },
  {
   "cell_type": "code",
   "execution_count": 24,
   "metadata": {},
   "outputs": [],
   "source": [
    "# p.save('static.png')"
   ]
  },
  {
   "cell_type": "code",
   "execution_count": 25,
   "metadata": {},
   "outputs": [
    {
     "data": {
      "text/html": [
       "<img src='static.png'>\n"
      ],
      "text/plain": [
       "<IPython.core.display.HTML object>"
      ]
     },
     "metadata": {},
     "output_type": "display_data"
    }
   ],
   "source": [
    "%%html\n",
    "<img src='static.png'>"
   ]
  },
  {
   "cell_type": "markdown",
   "metadata": {},
   "source": [
    "### 💇‍♂️ Styling"
   ]
  },
  {
   "cell_type": "markdown",
   "metadata": {},
   "source": [
    "The second part of the task asks for adjusting the style to match the exisitng ECO site style and sizes. IN constructing this part of the answer I have tried to track down a few recent entries that use _Vega-Lite_ visualisations as guide, such as:\n",
    "* [How should we assess school students now that exams have been cancelled?](https://www.economicsobservatory.com/question/how-should-we-assess-school-students-now-exams-have-been-cancelled)\n",
    "* [#economicsfest: Does economics need to be ‘decolonised’?](https://www.economicsobservatory.com/economicsfest-does-economics-need-to-be-decolonised)\n",
    "* [Why are supermarket shelves in Northern Ireland empty?](https://www.economicsobservatory.com/why-are-supermarket-shelves-in-northern-ireland-empty)\n",
    "* [Zoomshock: how is working from home affecting cities and suburbs?](https://www.economicsobservatory.com/zoomshock-how-is-working-from-home-affecting-cities-and-suburbs)\n",
    "* [Has devolution led to different outcomes during the Covid-19 crisis?](https://www.economicsobservatory.com/has-devolution-led-to-different-outcomes-during-the-covid-19-crisis)\n",
    "* [What are the implications of Covid-19 for wealth inequality?](https://www.economicsobservatory.com/what-are-the-implications-of-covid-19-for-wealth-inequality)\n",
    "* [Update: How is the response to coronavirus affecting gender equality?](https://www.economicsobservatory.com/update-how-is-the-response-to-coronavirus-affecting-gender-equality)"
   ]
  },
  {
   "cell_type": "markdown",
   "metadata": {},
   "source": [
    "After a review of these entries we have decided on the following:\n",
    "* Chart `width` should be `610px`\n",
    "* Chart `height` should be `420px`\n",
    "* Charts typically have _tooltips_\n",
    "* There is no universal color scheme, but since we only have two data series in this case, we will use the logo identity colors: `#E64754` and `#243A59` \n",
    "\n",
    "So, in the light of this, we redefine the plotter function: 👇"
   ]
  },
  {
   "cell_type": "code",
   "execution_count": 26,
   "metadata": {},
   "outputs": [
    {
     "data": {
      "text/html": [
       "\n",
       "<div id=\"altair-viz-4479eb85adcf4e4bbc3ebc0d22e7c04e\"></div>\n",
       "<script type=\"text/javascript\">\n",
       "  (function(spec, embedOpt){\n",
       "    let outputDiv = document.currentScript.previousElementSibling;\n",
       "    if (outputDiv.id !== \"altair-viz-4479eb85adcf4e4bbc3ebc0d22e7c04e\") {\n",
       "      outputDiv = document.getElementById(\"altair-viz-4479eb85adcf4e4bbc3ebc0d22e7c04e\");\n",
       "    }\n",
       "    const paths = {\n",
       "      \"vega\": \"https://cdn.jsdelivr.net/npm//vega@5?noext\",\n",
       "      \"vega-lib\": \"https://cdn.jsdelivr.net/npm//vega-lib?noext\",\n",
       "      \"vega-lite\": \"https://cdn.jsdelivr.net/npm//vega-lite@4.8.1?noext\",\n",
       "      \"vega-embed\": \"https://cdn.jsdelivr.net/npm//vega-embed@6?noext\",\n",
       "    };\n",
       "\n",
       "    function loadScript(lib) {\n",
       "      return new Promise(function(resolve, reject) {\n",
       "        var s = document.createElement('script');\n",
       "        s.src = paths[lib];\n",
       "        s.async = true;\n",
       "        s.onload = () => resolve(paths[lib]);\n",
       "        s.onerror = () => reject(`Error loading script: ${paths[lib]}`);\n",
       "        document.getElementsByTagName(\"head\")[0].appendChild(s);\n",
       "      });\n",
       "    }\n",
       "\n",
       "    function showError(err) {\n",
       "      outputDiv.innerHTML = `<div class=\"error\" style=\"color:red;\">${err}</div>`;\n",
       "      throw err;\n",
       "    }\n",
       "\n",
       "    function displayChart(vegaEmbed) {\n",
       "      vegaEmbed(outputDiv, spec, embedOpt)\n",
       "        .catch(err => showError(`Javascript Error: ${err.message}<br>This usually means there's a typo in your chart specification. See the javascript console for the full traceback.`));\n",
       "    }\n",
       "\n",
       "    if(typeof define === \"function\" && define.amd) {\n",
       "      requirejs.config({paths});\n",
       "      require([\"vega-embed\"], displayChart, err => showError(`Error loading script: ${err.message}`));\n",
       "    } else if (typeof vegaEmbed === \"function\") {\n",
       "      displayChart(vegaEmbed);\n",
       "    } else {\n",
       "      loadScript(\"vega\")\n",
       "        .then(() => loadScript(\"vega-lite\"))\n",
       "        .then(() => loadScript(\"vega-embed\"))\n",
       "        .catch(showError)\n",
       "        .then(() => displayChart(vegaEmbed));\n",
       "    }\n",
       "  })({\"config\": {\"view\": {\"continuousWidth\": 610, \"continuousHeight\": 420}}, \"layer\": [{\"data\": {\"name\": \"data-2b08226b30bbb08a20f45bc01ddaafde\"}, \"mark\": {\"type\": \"rect\", \"blend\": \"darken\"}, \"encoding\": {\"color\": {\"type\": \"nominal\", \"field\": \"color\", \"scale\": null}, \"x\": {\"type\": \"temporal\", \"field\": \"start\"}, \"x2\": {\"field\": \"end\"}}}, {\"layer\": [{\"data\": {\"url\": \"https://raw.githubusercontent.com/csaladenes/eco/main/df2.csv\"}, \"mark\": {\"type\": \"line\", \"color\": \"#243A59\", \"line\": true}, \"encoding\": {\"tooltip\": [{\"type\": \"temporal\", \"field\": \"DATE\", \"title\": \"Date\"}, {\"type\": \"quantitative\", \"field\": \"BAMLH0A0HYM2\", \"format\": \".2f\", \"title\": \"ICE BofA US High Yield Index Option-Adjusted Spread\"}], \"x\": {\"type\": \"temporal\", \"axis\": {\"grid\": false, \"tickCount\": 10}, \"field\": \"DATE\", \"title\": null}, \"y\": {\"type\": \"quantitative\", \"axis\": {\"format\": \".1f\", \"grid\": true, \"tickCount\": 9, \"titleFontWeight\": \"normal\", \"values\": [0.0, 2.5, 5.0, 7.5, 10.0, 12.5, 15.0, 17.5, 20.0]}, \"field\": \"BAMLH0A0HYM2\", \"scale\": {\"domain\": [0, 20]}, \"title\": \"Percent\"}}}, {\"data\": {\"url\": \"https://raw.githubusercontent.com/csaladenes/eco/main/df1.csv\"}, \"mark\": {\"type\": \"line\", \"color\": \"#E64754\", \"line\": true}, \"encoding\": {\"tooltip\": [{\"type\": \"temporal\", \"field\": \"DATE\", \"title\": \"Date\"}, {\"type\": \"quantitative\", \"field\": \"DRTSCIS\", \"format\": \".1f\", \"title\": \"Net Percentage of Domestic Banks Tightening Standards for Commercial and Industrial Loans to Small Firms\"}], \"x\": {\"type\": \"temporal\", \"field\": \"DATE\"}, \"y\": {\"type\": \"quantitative\", \"axis\": {\"format\": \".0f\", \"tickCount\": 9, \"titleFontWeight\": \"normal\", \"values\": [-30, -15, 0, 15, 30, 45, 60, 75, 90]}, \"field\": \"DRTSCIS\", \"scale\": {\"domain\": [-30, 90]}, \"title\": \"Percent\"}}}, {\"data\": {\"name\": \"data-4c6f780913a45f81a467345005541598\"}, \"mark\": {\"type\": \"rule\", \"size\": 3}, \"encoding\": {\"y\": {\"type\": \"quantitative\", \"axis\": {\"grid\": false, \"values\": []}, \"field\": \"value\", \"scale\": {\"domain\": [0, 20]}, \"title\": null}}}], \"resolve\": {\"scale\": {\"y\": \"independent\"}}}, {\"data\": {\"name\": \"data-4c6f780913a45f81a467345005541598\"}, \"mark\": {\"type\": \"rule\", \"size\": 3}, \"encoding\": {\"y\": {\"type\": \"quantitative\", \"axis\": {\"grid\": false, \"values\": []}, \"field\": \"value\", \"scale\": {\"domain\": [0, 20]}, \"title\": null}}}], \"$schema\": \"https://vega.github.io/schema/vega-lite/v4.8.1.json\", \"datasets\": {\"data-2b08226b30bbb08a20f45bc01ddaafde\": [{\"start\": \"2001-03-31\", \"end\": \"2001-11-30\", \"event\": \"recession\", \"color\": \"#E2E2E2\"}, {\"start\": \"2007-12-31\", \"end\": \"2009-06-30\", \"event\": \"recession\", \"color\": \"#E2E2E2\"}, {\"start\": \"2020-02-29\", \"end\": \"2021-04-01\", \"event\": \"covid\", \"color\": \"#F3F4D8\"}], \"data-4c6f780913a45f81a467345005541598\": [{\"value\": 0}]}}, {\"mode\": \"vega-lite\"});\n",
       "</script>"
      ],
      "text/plain": [
       "alt.LayerChart(...)"
      ]
     },
     "execution_count": 26,
     "metadata": {},
     "output_type": "execute_result"
    }
   ],
   "source": [
    "def plotter(df1,df2,dr):\n",
    "    l1=alt.Chart(df1)\\\n",
    "        .mark_line(\n",
    "        line=True,\n",
    "        color='#E64754'\n",
    "        ).encode(\n",
    "        x='DATE:T',\n",
    "        y=alt.Y(indicator1+':Q', \n",
    "                title='Percent', \n",
    "                scale=alt.Scale(domain=(-30, 90)),\n",
    "                axis=alt.Axis(\n",
    "                    format= \".0f\",\n",
    "                    tickCount=9,\n",
    "                    titleFontWeight='normal',\n",
    "                    values=[15*i for i in range(-2,7)]\n",
    "                )\n",
    "               ),\n",
    "        tooltip=[alt.Tooltip('DATE:T', title='Date'),\n",
    "                 alt.Tooltip(indicator1+':Q', title=pretty_indicator[indicator1], format='.1f')]\n",
    "    )\n",
    "    l2=alt.Chart(df2)\\\n",
    "        .mark_line(\n",
    "        line=True,\n",
    "        color='#243A59'\n",
    "        ).encode(\n",
    "        x=alt.X('DATE:T', \n",
    "                title=None,\n",
    "                axis=alt.Axis(\n",
    "                    grid=False,\n",
    "                    tickCount=10\n",
    "                )\n",
    "               ),\n",
    "        y=alt.Y(indicator2+':Q', \n",
    "                title='Percent', \n",
    "                scale=alt.Scale(domain=[0, 20]),\n",
    "                axis=alt.Axis(\n",
    "                    format= \".1f\",\n",
    "                    grid=True,\n",
    "                    tickCount=9,\n",
    "                    titleFontWeight='normal',\n",
    "                    values=[2.5*i for i in range(9)]\n",
    "                )\n",
    "               ),\n",
    "        tooltip=[alt.Tooltip('DATE:T', title='Date'),\n",
    "                 alt.Tooltip(indicator2+':Q', title=pretty_indicator[indicator2], format='.2f')]\n",
    "    )\n",
    "    rect = alt.Chart(dr).mark_rect(\n",
    "        blend='darken'\n",
    "    ).encode(\n",
    "        x='start:T',\n",
    "        x2='end:T',\n",
    "        color=alt.Color('color:N',scale=None),\n",
    "#     ).properties(\n",
    "#         width=700,\n",
    "#         height=250\n",
    "    )\n",
    "    l = alt.Chart(pd.DataFrame([{'value':0}])).mark_rule(size=3).encode(\n",
    "        y=alt.Y('value:Q', \n",
    "                title=None, \n",
    "                scale=alt.Scale(domain=[0, 20]),\n",
    "                axis=alt.Axis(\n",
    "                    values=[],\n",
    "                    grid=False\n",
    "                )\n",
    "               ),\n",
    "    )\n",
    "    return ((rect)+((l2+l1+l).resolve_scale(y='independent'))+l).configure_view(\n",
    "        continuousHeight=420,\n",
    "        continuousWidth=610,\n",
    "    )\n",
    "p=plotter(github_url+'df1.csv',github_url+'df2.csv',dr)\n",
    "p"
   ]
  },
  {
   "cell_type": "markdown",
   "metadata": {},
   "source": [
    "🔧 Here is the **final** `Vega-Lite` config:"
   ]
  },
  {
   "cell_type": "code",
   "execution_count": 27,
   "metadata": {},
   "outputs": [
    {
     "data": {
      "text/plain": [
       "{'config': {'view': {'continuousWidth': 610, 'continuousHeight': 420}},\n",
       " 'layer': [{'data': {'name': 'data-2b08226b30bbb08a20f45bc01ddaafde'},\n",
       "   'mark': {'type': 'rect', 'blend': 'darken'},\n",
       "   'encoding': {'color': {'type': 'nominal', 'field': 'color', 'scale': None},\n",
       "    'x': {'type': 'temporal', 'field': 'start'},\n",
       "    'x2': {'field': 'end'}}},\n",
       "  {'layer': [{'data': {'url': 'https://raw.githubusercontent.com/csaladenes/eco/main/df2.csv'},\n",
       "     'mark': {'type': 'line', 'color': '#243A59', 'line': True},\n",
       "     'encoding': {'tooltip': [{'type': 'temporal',\n",
       "        'field': 'DATE',\n",
       "        'title': 'Date'},\n",
       "       {'type': 'quantitative',\n",
       "        'field': 'BAMLH0A0HYM2',\n",
       "        'format': '.2f',\n",
       "        'title': 'ICE BofA US High Yield Index Option-Adjusted Spread'}],\n",
       "      'x': {'type': 'temporal',\n",
       "       'axis': {'grid': False, 'tickCount': 10},\n",
       "       'field': 'DATE',\n",
       "       'title': None},\n",
       "      'y': {'type': 'quantitative',\n",
       "       'axis': {'format': '.1f',\n",
       "        'grid': True,\n",
       "        'tickCount': 9,\n",
       "        'titleFontWeight': 'normal',\n",
       "        'values': [0.0, 2.5, 5.0, 7.5, 10.0, 12.5, 15.0, 17.5, 20.0]},\n",
       "       'field': 'BAMLH0A0HYM2',\n",
       "       'scale': {'domain': [0, 20]},\n",
       "       'title': 'Percent'}}},\n",
       "    {'data': {'url': 'https://raw.githubusercontent.com/csaladenes/eco/main/df1.csv'},\n",
       "     'mark': {'type': 'line', 'color': '#E64754', 'line': True},\n",
       "     'encoding': {'tooltip': [{'type': 'temporal',\n",
       "        'field': 'DATE',\n",
       "        'title': 'Date'},\n",
       "       {'type': 'quantitative',\n",
       "        'field': 'DRTSCIS',\n",
       "        'format': '.1f',\n",
       "        'title': 'Net Percentage of Domestic Banks Tightening Standards for Commercial and Industrial Loans to Small Firms'}],\n",
       "      'x': {'type': 'temporal', 'field': 'DATE'},\n",
       "      'y': {'type': 'quantitative',\n",
       "       'axis': {'format': '.0f',\n",
       "        'tickCount': 9,\n",
       "        'titleFontWeight': 'normal',\n",
       "        'values': [-30, -15, 0, 15, 30, 45, 60, 75, 90]},\n",
       "       'field': 'DRTSCIS',\n",
       "       'scale': {'domain': [-30, 90]},\n",
       "       'title': 'Percent'}}},\n",
       "    {'data': {'name': 'data-4c6f780913a45f81a467345005541598'},\n",
       "     'mark': {'type': 'rule', 'size': 3},\n",
       "     'encoding': {'y': {'type': 'quantitative',\n",
       "       'axis': {'grid': False, 'values': []},\n",
       "       'field': 'value',\n",
       "       'scale': {'domain': [0, 20]},\n",
       "       'title': None}}}],\n",
       "   'resolve': {'scale': {'y': 'independent'}}},\n",
       "  {'data': {'name': 'data-4c6f780913a45f81a467345005541598'},\n",
       "   'mark': {'type': 'rule', 'size': 3},\n",
       "   'encoding': {'y': {'type': 'quantitative',\n",
       "     'axis': {'grid': False, 'values': []},\n",
       "     'field': 'value',\n",
       "     'scale': {'domain': [0, 20]},\n",
       "     'title': None}}}],\n",
       " '$schema': 'https://vega.github.io/schema/vega-lite/v4.8.1.json',\n",
       " 'datasets': {'data-2b08226b30bbb08a20f45bc01ddaafde': [{'start': '2001-03-31',\n",
       "    'end': '2001-11-30',\n",
       "    'event': 'recession',\n",
       "    'color': '#E2E2E2'},\n",
       "   {'start': '2007-12-31',\n",
       "    'end': '2009-06-30',\n",
       "    'event': 'recession',\n",
       "    'color': '#E2E2E2'},\n",
       "   {'start': '2020-02-29',\n",
       "    'end': '2021-04-01',\n",
       "    'event': 'covid',\n",
       "    'color': '#F3F4D8'}],\n",
       "  'data-4c6f780913a45f81a467345005541598': [{'value': 0}]}}"
      ]
     },
     "execution_count": 27,
     "metadata": {},
     "output_type": "execute_result"
    }
   ],
   "source": [
    "p.save('chart1.json')\n",
    "chart1=json.loads(open('chart1.json','r').read())\n",
    "chart1"
   ]
  },
  {
   "cell_type": "code",
   "execution_count": 28,
   "metadata": {},
   "outputs": [
    {
     "data": {
      "text/html": [
       "\n",
       "<div id=\"altair-chart-598e63eda03c4ac1a8365026f71d03ca\"></div>\n",
       "<script type=\"text/javascript\">\n",
       "  (function(spec, embedOpt) {\n",
       "    const outputDiv = document.getElementById(\"altair-chart-598e63eda03c4ac1a8365026f71d03ca\");\n",
       "    const urls = {\n",
       "      \"vega\": \"http://localhost:18007/scripts/vega.js\",\n",
       "      \"vega-lite\": \"http://localhost:18007/scripts/vega-lite.js\",\n",
       "      \"vega-embed\": \"http://localhost:18007/scripts/vega-embed.js\",\n",
       "    };\n",
       "    function loadScript(lib) {\n",
       "      return new Promise(function(resolve, reject) {\n",
       "        var s = document.createElement('script');\n",
       "        s.src = urls[lib];\n",
       "        s.async = true;\n",
       "        s.onload = () => resolve(urls[lib]);\n",
       "        s.onerror = () => reject(`Error loading script: ${urls[lib]}`);\n",
       "        document.getElementsByTagName(\"head\")[0].appendChild(s);\n",
       "      });\n",
       "    }\n",
       "    function showError(err) {\n",
       "      outputDiv.innerHTML = `<div class=\"error\" style=\"color:red;\">${err}</div>`;\n",
       "      throw err;\n",
       "    }\n",
       "    function displayChart(vegaEmbed) {\n",
       "      vegaEmbed(outputDiv, spec, embedOpt)\n",
       "        .catch(err => showError(`Javascript Error: ${err.message}<br>This usually means there's a typo in your chart specification. See the javascript console for the full traceback.`));\n",
       "    }\n",
       "\n",
       "    if(typeof define === \"function\" && define.amd) {\n",
       "        // requirejs paths need '.js' extension stripped.\n",
       "        const paths = Object.keys(urls).reduce(function(paths, package) {\n",
       "            paths[package] = urls[package].replace(/\\.js$/, \"\");\n",
       "            return paths\n",
       "        }, {})\n",
       "        requirejs.config({paths});\n",
       "        require([\"vega-embed\"], displayChart, err => showError(`Error loading script: ${err.message}`));\n",
       "    } else if (typeof vegaEmbed === \"function\") {\n",
       "        displayChart(vegaEmbed);\n",
       "    } else {\n",
       "        loadScript(\"vega\")\n",
       "            .then(() => loadScript(\"vega-lite\"))\n",
       "            .then(() => loadScript(\"vega-embed\"))\n",
       "            .catch(showError)\n",
       "            .then(() => displayChart(vegaEmbed));\n",
       "    }\n",
       "  })({\"config\": {\"view\": {\"continuousWidth\": 610, \"continuousHeight\": 420}}, \"layer\": [{\"data\": {\"name\": \"data-2b08226b30bbb08a20f45bc01ddaafde\"}, \"mark\": {\"type\": \"rect\", \"blend\": \"darken\"}, \"encoding\": {\"color\": {\"type\": \"nominal\", \"field\": \"color\", \"scale\": null}, \"x\": {\"type\": \"temporal\", \"field\": \"start\"}, \"x2\": {\"field\": \"end\"}}}, {\"layer\": [{\"data\": {\"url\": \"https://raw.githubusercontent.com/csaladenes/eco/main/df2.csv\"}, \"mark\": {\"type\": \"line\", \"color\": \"#243A59\", \"line\": true}, \"encoding\": {\"tooltip\": [{\"type\": \"temporal\", \"field\": \"DATE\", \"title\": \"Date\"}, {\"type\": \"quantitative\", \"field\": \"BAMLH0A0HYM2\", \"format\": \".2f\", \"title\": \"ICE BofA US High Yield Index Option-Adjusted Spread\"}], \"x\": {\"type\": \"temporal\", \"axis\": {\"grid\": false, \"tickCount\": 10}, \"field\": \"DATE\", \"title\": null}, \"y\": {\"type\": \"quantitative\", \"axis\": {\"format\": \".1f\", \"grid\": true, \"tickCount\": 9, \"titleFontWeight\": \"normal\", \"values\": [0.0, 2.5, 5.0, 7.5, 10.0, 12.5, 15.0, 17.5, 20.0]}, \"field\": \"BAMLH0A0HYM2\", \"scale\": {\"domain\": [0, 20]}, \"title\": \"Percent\"}}}, {\"data\": {\"url\": \"https://raw.githubusercontent.com/csaladenes/eco/main/df1.csv\"}, \"mark\": {\"type\": \"line\", \"color\": \"#E64754\", \"line\": true}, \"encoding\": {\"tooltip\": [{\"type\": \"temporal\", \"field\": \"DATE\", \"title\": \"Date\"}, {\"type\": \"quantitative\", \"field\": \"DRTSCIS\", \"format\": \".1f\", \"title\": \"Net Percentage of Domestic Banks Tightening Standards for Commercial and Industrial Loans to Small Firms\"}], \"x\": {\"type\": \"temporal\", \"field\": \"DATE\"}, \"y\": {\"type\": \"quantitative\", \"axis\": {\"format\": \".0f\", \"tickCount\": 9, \"titleFontWeight\": \"normal\", \"values\": [-30, -15, 0, 15, 30, 45, 60, 75, 90]}, \"field\": \"DRTSCIS\", \"scale\": {\"domain\": [-30, 90]}, \"title\": \"Percent\"}}}, {\"data\": {\"name\": \"data-4c6f780913a45f81a467345005541598\"}, \"mark\": {\"type\": \"rule\", \"size\": 3}, \"encoding\": {\"y\": {\"type\": \"quantitative\", \"axis\": {\"grid\": false, \"values\": []}, \"field\": \"value\", \"scale\": {\"domain\": [0, 20]}, \"title\": null}}}], \"resolve\": {\"scale\": {\"y\": \"independent\"}}}, {\"data\": {\"name\": \"data-4c6f780913a45f81a467345005541598\"}, \"mark\": {\"type\": \"rule\", \"size\": 3}, \"encoding\": {\"y\": {\"type\": \"quantitative\", \"axis\": {\"grid\": false, \"values\": []}, \"field\": \"value\", \"scale\": {\"domain\": [0, 20]}, \"title\": null}}}], \"$schema\": \"https://vega.github.io/schema/vega-lite/v4.8.1.json\", \"datasets\": {\"data-2b08226b30bbb08a20f45bc01ddaafde\": [{\"start\": \"2001-03-31\", \"end\": \"2001-11-30\", \"event\": \"recession\", \"color\": \"#E2E2E2\"}, {\"start\": \"2007-12-31\", \"end\": \"2009-06-30\", \"event\": \"recession\", \"color\": \"#E2E2E2\"}, {\"start\": \"2020-02-29\", \"end\": \"2021-04-01\", \"event\": \"covid\", \"color\": \"#F3F4D8\"}], \"data-4c6f780913a45f81a467345005541598\": [{\"value\": 0}]}}, {});\n",
       "</script>\n"
      ],
      "text/plain": [
       "<IPython.core.display.HTML object>"
      ]
     },
     "metadata": {},
     "output_type": "display_data"
    }
   ],
   "source": [
    "altair_viewer.display(chart1, inline=True)"
   ]
  },
  {
   "cell_type": "markdown",
   "metadata": {},
   "source": [
    "## Chart 2"
   ]
  },
  {
   "cell_type": "markdown",
   "metadata": {},
   "source": [
    "For this part of the taks we will switch the _ICE BofA US High Yield Index Option-Adjusted Spread_ for _Unemployment Rate_."
   ]
  },
  {
   "cell_type": "code",
   "execution_count": 29,
   "metadata": {},
   "outputs": [],
   "source": [
    "indicator3='UNRATE'\n",
    "pretty_indicator['UNRATE']='Unemployment Rate'"
   ]
  },
  {
   "cell_type": "code",
   "execution_count": 30,
   "metadata": {},
   "outputs": [],
   "source": [
    "df3=pd.read_csv('https://fred.stlouisfed.org/graph/fredgraph.csv?id='+indicator3)\n",
    "df3=df3.astype({'DATE':np.datetime64}).set_index('DATE').dropna().loc[start:end].reset_index()\n",
    "df3.to_csv('df3.csv')"
   ]
  },
  {
   "cell_type": "markdown",
   "metadata": {},
   "source": [
    "Next, upload to [GitHub](https://github.com/csaladenes/eco) ... then return here. We then set up for local loading and viewing. Then tweak the plotting function to reflect the new scale and limits. "
   ]
  },
  {
   "cell_type": "code",
   "execution_count": 31,
   "metadata": {},
   "outputs": [
    {
     "data": {
      "text/html": [
       "\n",
       "<div id=\"altair-viz-4d68bee6293f474190d50ecec1de4eaf\"></div>\n",
       "<script type=\"text/javascript\">\n",
       "  (function(spec, embedOpt){\n",
       "    let outputDiv = document.currentScript.previousElementSibling;\n",
       "    if (outputDiv.id !== \"altair-viz-4d68bee6293f474190d50ecec1de4eaf\") {\n",
       "      outputDiv = document.getElementById(\"altair-viz-4d68bee6293f474190d50ecec1de4eaf\");\n",
       "    }\n",
       "    const paths = {\n",
       "      \"vega\": \"https://cdn.jsdelivr.net/npm//vega@5?noext\",\n",
       "      \"vega-lib\": \"https://cdn.jsdelivr.net/npm//vega-lib?noext\",\n",
       "      \"vega-lite\": \"https://cdn.jsdelivr.net/npm//vega-lite@4.8.1?noext\",\n",
       "      \"vega-embed\": \"https://cdn.jsdelivr.net/npm//vega-embed@6?noext\",\n",
       "    };\n",
       "\n",
       "    function loadScript(lib) {\n",
       "      return new Promise(function(resolve, reject) {\n",
       "        var s = document.createElement('script');\n",
       "        s.src = paths[lib];\n",
       "        s.async = true;\n",
       "        s.onload = () => resolve(paths[lib]);\n",
       "        s.onerror = () => reject(`Error loading script: ${paths[lib]}`);\n",
       "        document.getElementsByTagName(\"head\")[0].appendChild(s);\n",
       "      });\n",
       "    }\n",
       "\n",
       "    function showError(err) {\n",
       "      outputDiv.innerHTML = `<div class=\"error\" style=\"color:red;\">${err}</div>`;\n",
       "      throw err;\n",
       "    }\n",
       "\n",
       "    function displayChart(vegaEmbed) {\n",
       "      vegaEmbed(outputDiv, spec, embedOpt)\n",
       "        .catch(err => showError(`Javascript Error: ${err.message}<br>This usually means there's a typo in your chart specification. See the javascript console for the full traceback.`));\n",
       "    }\n",
       "\n",
       "    if(typeof define === \"function\" && define.amd) {\n",
       "      requirejs.config({paths});\n",
       "      require([\"vega-embed\"], displayChart, err => showError(`Error loading script: ${err.message}`));\n",
       "    } else if (typeof vegaEmbed === \"function\") {\n",
       "      displayChart(vegaEmbed);\n",
       "    } else {\n",
       "      loadScript(\"vega\")\n",
       "        .then(() => loadScript(\"vega-lite\"))\n",
       "        .then(() => loadScript(\"vega-embed\"))\n",
       "        .catch(showError)\n",
       "        .then(() => displayChart(vegaEmbed));\n",
       "    }\n",
       "  })({\"config\": {\"view\": {\"continuousWidth\": 610, \"continuousHeight\": 420}}, \"layer\": [{\"data\": {\"name\": \"data-2b08226b30bbb08a20f45bc01ddaafde\"}, \"mark\": {\"type\": \"rect\", \"blend\": \"darken\"}, \"encoding\": {\"color\": {\"type\": \"nominal\", \"field\": \"color\", \"scale\": null}, \"x\": {\"type\": \"temporal\", \"field\": \"start\"}, \"x2\": {\"field\": \"end\"}}}, {\"layer\": [{\"data\": {\"url\": \"https://raw.githubusercontent.com/csaladenes/eco/main/df3.csv\"}, \"mark\": {\"type\": \"line\", \"color\": \"#243A59\", \"line\": true}, \"encoding\": {\"tooltip\": [{\"type\": \"temporal\", \"field\": \"DATE\", \"title\": \"Date\"}, {\"type\": \"quantitative\", \"field\": \"UNRATE\", \"format\": \".2f\", \"title\": \"Unemployment Rate\"}], \"x\": {\"type\": \"temporal\", \"axis\": {\"grid\": false, \"tickCount\": 10}, \"field\": \"DATE\", \"title\": null}, \"y\": {\"type\": \"quantitative\", \"axis\": {\"format\": \".1f\", \"grid\": true, \"tickCount\": 9, \"titleFontWeight\": \"normal\", \"values\": [0.0, 2.5, 5.0, 7.5, 10.0, 12.5, 15.0, 17.5, 20.0]}, \"field\": \"UNRATE\", \"scale\": {\"domain\": [0, 15]}, \"title\": \"Percent\"}}}, {\"data\": {\"url\": \"https://raw.githubusercontent.com/csaladenes/eco/main/df1.csv\"}, \"mark\": {\"type\": \"line\", \"color\": \"#E64754\", \"line\": true}, \"encoding\": {\"tooltip\": [{\"type\": \"temporal\", \"field\": \"DATE\", \"title\": \"Date\"}, {\"type\": \"quantitative\", \"field\": \"DRTSCIS\", \"format\": \".1f\", \"title\": \"Net Percentage of Domestic Banks Tightening Standards for Commercial and Industrial Loans to Small Firms\"}], \"x\": {\"type\": \"temporal\", \"field\": \"DATE\"}, \"y\": {\"type\": \"quantitative\", \"axis\": {\"format\": \".0f\", \"tickCount\": 9, \"titleFontWeight\": \"normal\", \"values\": [-30, -15, 0, 15, 30, 45, 60, 75, 90]}, \"field\": \"DRTSCIS\", \"scale\": {\"domain\": [-30, 90]}, \"title\": \"Percent\"}}}, {\"data\": {\"name\": \"data-4c6f780913a45f81a467345005541598\"}, \"mark\": {\"type\": \"rule\", \"size\": 3}, \"encoding\": {\"y\": {\"type\": \"quantitative\", \"axis\": {\"grid\": false, \"values\": []}, \"field\": \"value\", \"scale\": {\"domain\": [0, 20]}, \"title\": null}}}], \"resolve\": {\"scale\": {\"y\": \"independent\"}}}, {\"data\": {\"name\": \"data-4c6f780913a45f81a467345005541598\"}, \"mark\": {\"type\": \"rule\", \"size\": 3}, \"encoding\": {\"y\": {\"type\": \"quantitative\", \"axis\": {\"grid\": false, \"values\": []}, \"field\": \"value\", \"scale\": {\"domain\": [0, 20]}, \"title\": null}}}], \"$schema\": \"https://vega.github.io/schema/vega-lite/v4.8.1.json\", \"datasets\": {\"data-2b08226b30bbb08a20f45bc01ddaafde\": [{\"start\": \"2001-03-31\", \"end\": \"2001-11-30\", \"event\": \"recession\", \"color\": \"#E2E2E2\"}, {\"start\": \"2007-12-31\", \"end\": \"2009-06-30\", \"event\": \"recession\", \"color\": \"#E2E2E2\"}, {\"start\": \"2020-02-29\", \"end\": \"2021-04-01\", \"event\": \"covid\", \"color\": \"#F3F4D8\"}], \"data-4c6f780913a45f81a467345005541598\": [{\"value\": 0}]}}, {\"mode\": \"vega-lite\"});\n",
       "</script>"
      ],
      "text/plain": [
       "alt.LayerChart(...)"
      ]
     },
     "execution_count": 31,
     "metadata": {},
     "output_type": "execute_result"
    }
   ],
   "source": [
    "def plotter(df1,df2,dr):\n",
    "    l1=alt.Chart(df1)\\\n",
    "        .mark_line(\n",
    "        line=True,\n",
    "        color='#E64754'\n",
    "        ).encode(\n",
    "        x='DATE:T',\n",
    "        y=alt.Y(indicator1+':Q', \n",
    "                title='Percent', \n",
    "                scale=alt.Scale(domain=(-30, 90)),\n",
    "                axis=alt.Axis(\n",
    "                    format= \".0f\",\n",
    "                    tickCount=9,\n",
    "                    titleFontWeight='normal',\n",
    "                    values=[15*i for i in range(-2,7)]\n",
    "                )\n",
    "               ),\n",
    "        tooltip=[alt.Tooltip('DATE:T', title='Date'),\n",
    "                 alt.Tooltip(indicator1+':Q', title=pretty_indicator[indicator1], format='.1f')]\n",
    "    )\n",
    "    l2=alt.Chart(df2)\\\n",
    "        .mark_line(\n",
    "        line=True,\n",
    "        color='#243A59'\n",
    "        ).encode(\n",
    "        x=alt.X('DATE:T', \n",
    "                title=None,\n",
    "                axis=alt.Axis(\n",
    "                    grid=False,\n",
    "                    tickCount=10\n",
    "                )\n",
    "               ),\n",
    "        y=alt.Y(indicator3+':Q', \n",
    "                title='Percent', \n",
    "                scale=alt.Scale(domain=[0, 15]),\n",
    "                axis=alt.Axis(\n",
    "                    format= \".1f\",\n",
    "                    grid=True,\n",
    "                    tickCount=9,\n",
    "                    titleFontWeight='normal',\n",
    "                    values=[2.5*i for i in range(9)]\n",
    "                )\n",
    "               ),\n",
    "        tooltip=[alt.Tooltip('DATE:T', title='Date'),\n",
    "                 alt.Tooltip(indicator3+':Q', title=pretty_indicator[indicator3], format='.2f')]\n",
    "    )\n",
    "    rect = alt.Chart(dr).mark_rect(\n",
    "        blend='darken'\n",
    "    ).encode(\n",
    "        x='start:T',\n",
    "        x2='end:T',\n",
    "        color=alt.Color('color:N',scale=None)\n",
    "    )\n",
    "    l = alt.Chart(pd.DataFrame([{'value':0}])).mark_rule(size=3).encode(\n",
    "        y=alt.Y('value:Q', \n",
    "                title=None, \n",
    "                scale=alt.Scale(domain=[0, 20]),\n",
    "                axis=alt.Axis(\n",
    "                    values=[],\n",
    "                    grid=False\n",
    "                )\n",
    "               ),\n",
    "    )\n",
    "    return ((rect)+((l2+l1+l).resolve_scale(y='independent'))+l).configure_view(\n",
    "        continuousHeight=420,\n",
    "        continuousWidth=610,\n",
    "    )\n",
    "p=plotter(github_url+'df1.csv',github_url+'df3.csv',dr)\n",
    "p"
   ]
  },
  {
   "cell_type": "markdown",
   "metadata": {},
   "source": [
    "After each crisis, one can clearly see the _**delay**_ in the return in _Unemployment rate_ to pre-crisis levels.  \n",
    "🔧 Here is the **final** `Vega-Lite` config:"
   ]
  },
  {
   "cell_type": "code",
   "execution_count": 32,
   "metadata": {},
   "outputs": [
    {
     "data": {
      "text/plain": [
       "{'config': {'view': {'continuousWidth': 610, 'continuousHeight': 420}},\n",
       " 'layer': [{'data': {'name': 'data-2b08226b30bbb08a20f45bc01ddaafde'},\n",
       "   'mark': {'type': 'rect', 'blend': 'darken'},\n",
       "   'encoding': {'color': {'type': 'nominal', 'field': 'color', 'scale': None},\n",
       "    'x': {'type': 'temporal', 'field': 'start'},\n",
       "    'x2': {'field': 'end'}}},\n",
       "  {'layer': [{'data': {'url': 'https://raw.githubusercontent.com/csaladenes/eco/main/df3.csv'},\n",
       "     'mark': {'type': 'line', 'color': '#243A59', 'line': True},\n",
       "     'encoding': {'tooltip': [{'type': 'temporal',\n",
       "        'field': 'DATE',\n",
       "        'title': 'Date'},\n",
       "       {'type': 'quantitative',\n",
       "        'field': 'UNRATE',\n",
       "        'format': '.2f',\n",
       "        'title': 'Unemployment Rate'}],\n",
       "      'x': {'type': 'temporal',\n",
       "       'axis': {'grid': False, 'tickCount': 10},\n",
       "       'field': 'DATE',\n",
       "       'title': None},\n",
       "      'y': {'type': 'quantitative',\n",
       "       'axis': {'format': '.1f',\n",
       "        'grid': True,\n",
       "        'tickCount': 9,\n",
       "        'titleFontWeight': 'normal',\n",
       "        'values': [0.0, 2.5, 5.0, 7.5, 10.0, 12.5, 15.0, 17.5, 20.0]},\n",
       "       'field': 'UNRATE',\n",
       "       'scale': {'domain': [0, 15]},\n",
       "       'title': 'Percent'}}},\n",
       "    {'data': {'url': 'https://raw.githubusercontent.com/csaladenes/eco/main/df1.csv'},\n",
       "     'mark': {'type': 'line', 'color': '#E64754', 'line': True},\n",
       "     'encoding': {'tooltip': [{'type': 'temporal',\n",
       "        'field': 'DATE',\n",
       "        'title': 'Date'},\n",
       "       {'type': 'quantitative',\n",
       "        'field': 'DRTSCIS',\n",
       "        'format': '.1f',\n",
       "        'title': 'Net Percentage of Domestic Banks Tightening Standards for Commercial and Industrial Loans to Small Firms'}],\n",
       "      'x': {'type': 'temporal', 'field': 'DATE'},\n",
       "      'y': {'type': 'quantitative',\n",
       "       'axis': {'format': '.0f',\n",
       "        'tickCount': 9,\n",
       "        'titleFontWeight': 'normal',\n",
       "        'values': [-30, -15, 0, 15, 30, 45, 60, 75, 90]},\n",
       "       'field': 'DRTSCIS',\n",
       "       'scale': {'domain': [-30, 90]},\n",
       "       'title': 'Percent'}}},\n",
       "    {'data': {'name': 'data-4c6f780913a45f81a467345005541598'},\n",
       "     'mark': {'type': 'rule', 'size': 3},\n",
       "     'encoding': {'y': {'type': 'quantitative',\n",
       "       'axis': {'grid': False, 'values': []},\n",
       "       'field': 'value',\n",
       "       'scale': {'domain': [0, 20]},\n",
       "       'title': None}}}],\n",
       "   'resolve': {'scale': {'y': 'independent'}}},\n",
       "  {'data': {'name': 'data-4c6f780913a45f81a467345005541598'},\n",
       "   'mark': {'type': 'rule', 'size': 3},\n",
       "   'encoding': {'y': {'type': 'quantitative',\n",
       "     'axis': {'grid': False, 'values': []},\n",
       "     'field': 'value',\n",
       "     'scale': {'domain': [0, 20]},\n",
       "     'title': None}}}],\n",
       " '$schema': 'https://vega.github.io/schema/vega-lite/v4.8.1.json',\n",
       " 'datasets': {'data-2b08226b30bbb08a20f45bc01ddaafde': [{'start': '2001-03-31',\n",
       "    'end': '2001-11-30',\n",
       "    'event': 'recession',\n",
       "    'color': '#E2E2E2'},\n",
       "   {'start': '2007-12-31',\n",
       "    'end': '2009-06-30',\n",
       "    'event': 'recession',\n",
       "    'color': '#E2E2E2'},\n",
       "   {'start': '2020-02-29',\n",
       "    'end': '2021-04-01',\n",
       "    'event': 'covid',\n",
       "    'color': '#F3F4D8'}],\n",
       "  'data-4c6f780913a45f81a467345005541598': [{'value': 0}]}}"
      ]
     },
     "execution_count": 32,
     "metadata": {},
     "output_type": "execute_result"
    }
   ],
   "source": [
    "p.save('chart2.json')\n",
    "chart2=json.loads(open('chart2.json','r').read())\n",
    "chart2"
   ]
  },
  {
   "cell_type": "code",
   "execution_count": 33,
   "metadata": {},
   "outputs": [
    {
     "data": {
      "text/html": [
       "\n",
       "<div id=\"altair-chart-cf719c84dd3c4822beba6b24f74baec5\"></div>\n",
       "<script type=\"text/javascript\">\n",
       "  (function(spec, embedOpt) {\n",
       "    const outputDiv = document.getElementById(\"altair-chart-cf719c84dd3c4822beba6b24f74baec5\");\n",
       "    const urls = {\n",
       "      \"vega\": \"http://localhost:18007/scripts/vega.js\",\n",
       "      \"vega-lite\": \"http://localhost:18007/scripts/vega-lite.js\",\n",
       "      \"vega-embed\": \"http://localhost:18007/scripts/vega-embed.js\",\n",
       "    };\n",
       "    function loadScript(lib) {\n",
       "      return new Promise(function(resolve, reject) {\n",
       "        var s = document.createElement('script');\n",
       "        s.src = urls[lib];\n",
       "        s.async = true;\n",
       "        s.onload = () => resolve(urls[lib]);\n",
       "        s.onerror = () => reject(`Error loading script: ${urls[lib]}`);\n",
       "        document.getElementsByTagName(\"head\")[0].appendChild(s);\n",
       "      });\n",
       "    }\n",
       "    function showError(err) {\n",
       "      outputDiv.innerHTML = `<div class=\"error\" style=\"color:red;\">${err}</div>`;\n",
       "      throw err;\n",
       "    }\n",
       "    function displayChart(vegaEmbed) {\n",
       "      vegaEmbed(outputDiv, spec, embedOpt)\n",
       "        .catch(err => showError(`Javascript Error: ${err.message}<br>This usually means there's a typo in your chart specification. See the javascript console for the full traceback.`));\n",
       "    }\n",
       "\n",
       "    if(typeof define === \"function\" && define.amd) {\n",
       "        // requirejs paths need '.js' extension stripped.\n",
       "        const paths = Object.keys(urls).reduce(function(paths, package) {\n",
       "            paths[package] = urls[package].replace(/\\.js$/, \"\");\n",
       "            return paths\n",
       "        }, {})\n",
       "        requirejs.config({paths});\n",
       "        require([\"vega-embed\"], displayChart, err => showError(`Error loading script: ${err.message}`));\n",
       "    } else if (typeof vegaEmbed === \"function\") {\n",
       "        displayChart(vegaEmbed);\n",
       "    } else {\n",
       "        loadScript(\"vega\")\n",
       "            .then(() => loadScript(\"vega-lite\"))\n",
       "            .then(() => loadScript(\"vega-embed\"))\n",
       "            .catch(showError)\n",
       "            .then(() => displayChart(vegaEmbed));\n",
       "    }\n",
       "  })({\"config\": {\"view\": {\"continuousWidth\": 610, \"continuousHeight\": 420}}, \"layer\": [{\"data\": {\"name\": \"data-2b08226b30bbb08a20f45bc01ddaafde\"}, \"mark\": {\"type\": \"rect\", \"blend\": \"darken\"}, \"encoding\": {\"color\": {\"type\": \"nominal\", \"field\": \"color\", \"scale\": null}, \"x\": {\"type\": \"temporal\", \"field\": \"start\"}, \"x2\": {\"field\": \"end\"}}}, {\"layer\": [{\"data\": {\"url\": \"https://raw.githubusercontent.com/csaladenes/eco/main/df3.csv\"}, \"mark\": {\"type\": \"line\", \"color\": \"#243A59\", \"line\": true}, \"encoding\": {\"tooltip\": [{\"type\": \"temporal\", \"field\": \"DATE\", \"title\": \"Date\"}, {\"type\": \"quantitative\", \"field\": \"UNRATE\", \"format\": \".2f\", \"title\": \"Unemployment Rate\"}], \"x\": {\"type\": \"temporal\", \"axis\": {\"grid\": false, \"tickCount\": 10}, \"field\": \"DATE\", \"title\": null}, \"y\": {\"type\": \"quantitative\", \"axis\": {\"format\": \".1f\", \"grid\": true, \"tickCount\": 9, \"titleFontWeight\": \"normal\", \"values\": [0.0, 2.5, 5.0, 7.5, 10.0, 12.5, 15.0, 17.5, 20.0]}, \"field\": \"UNRATE\", \"scale\": {\"domain\": [0, 15]}, \"title\": \"Percent\"}}}, {\"data\": {\"url\": \"https://raw.githubusercontent.com/csaladenes/eco/main/df1.csv\"}, \"mark\": {\"type\": \"line\", \"color\": \"#E64754\", \"line\": true}, \"encoding\": {\"tooltip\": [{\"type\": \"temporal\", \"field\": \"DATE\", \"title\": \"Date\"}, {\"type\": \"quantitative\", \"field\": \"DRTSCIS\", \"format\": \".1f\", \"title\": \"Net Percentage of Domestic Banks Tightening Standards for Commercial and Industrial Loans to Small Firms\"}], \"x\": {\"type\": \"temporal\", \"field\": \"DATE\"}, \"y\": {\"type\": \"quantitative\", \"axis\": {\"format\": \".0f\", \"tickCount\": 9, \"titleFontWeight\": \"normal\", \"values\": [-30, -15, 0, 15, 30, 45, 60, 75, 90]}, \"field\": \"DRTSCIS\", \"scale\": {\"domain\": [-30, 90]}, \"title\": \"Percent\"}}}, {\"data\": {\"name\": \"data-4c6f780913a45f81a467345005541598\"}, \"mark\": {\"type\": \"rule\", \"size\": 3}, \"encoding\": {\"y\": {\"type\": \"quantitative\", \"axis\": {\"grid\": false, \"values\": []}, \"field\": \"value\", \"scale\": {\"domain\": [0, 20]}, \"title\": null}}}], \"resolve\": {\"scale\": {\"y\": \"independent\"}}}, {\"data\": {\"name\": \"data-4c6f780913a45f81a467345005541598\"}, \"mark\": {\"type\": \"rule\", \"size\": 3}, \"encoding\": {\"y\": {\"type\": \"quantitative\", \"axis\": {\"grid\": false, \"values\": []}, \"field\": \"value\", \"scale\": {\"domain\": [0, 20]}, \"title\": null}}}], \"$schema\": \"https://vega.github.io/schema/vega-lite/v4.8.1.json\", \"datasets\": {\"data-2b08226b30bbb08a20f45bc01ddaafde\": [{\"start\": \"2001-03-31\", \"end\": \"2001-11-30\", \"event\": \"recession\", \"color\": \"#E2E2E2\"}, {\"start\": \"2007-12-31\", \"end\": \"2009-06-30\", \"event\": \"recession\", \"color\": \"#E2E2E2\"}, {\"start\": \"2020-02-29\", \"end\": \"2021-04-01\", \"event\": \"covid\", \"color\": \"#F3F4D8\"}], \"data-4c6f780913a45f81a467345005541598\": [{\"value\": 0}]}}, {});\n",
       "</script>\n"
      ],
      "text/plain": [
       "<IPython.core.display.HTML object>"
      ]
     },
     "metadata": {},
     "output_type": "display_data"
    }
   ],
   "source": [
    "altair_viewer.display(chart2, inline=True)"
   ]
  },
  {
   "cell_type": "markdown",
   "metadata": {},
   "source": [
    "## Further thoughts"
   ]
  },
  {
   "cell_type": "markdown",
   "metadata": {},
   "source": [
    "Now the charts are finished and ready to be embedded into the _ECO_ site. However, here are three additional thoughts that I would like to formulate:"
   ]
  },
  {
   "cell_type": "markdown",
   "metadata": {},
   "source": [
    "### ✨ Other tools"
   ]
  },
  {
   "cell_type": "markdown",
   "metadata": {},
   "source": [
    "For time plots several data visualisation packages might do a more aesthetically pleasing job with only a slight extra effort. Here we could be looking at [D3plus](http://d3plus.org/) (the visual engine behind the [Observatory of Economic Complexity](https://oec.world) and the [Atlas of Economic Complexity](https://atlas.cid.harvard.edu/)), [eCharts](https://echarts.apache.org/en/index.html) or even the simple [Flourish](https://app.flourish.studio/)."
   ]
  },
  {
   "cell_type": "markdown",
   "metadata": {},
   "source": [
    "### 🌃 Grafana rendition"
   ]
  },
  {
   "cell_type": "markdown",
   "metadata": {},
   "source": [
    "Perhaps for those looking more into unification of styling, as well as for it being perfect for representign time series, [Grafana](http://grafana.net/), the visualisation engine behind my [COVID-19 Romanian Economic Impact Monitor](https://econ.ubbcluj.ro/coronavirus) is also a good choice:\n",
    "* 🕹 [Interactive](https://covid-large.csaladen.es/d/s7ujx-wMz/eco?orgId=1&from=946677600000&to=1609365600000&viewPanel=2)\n",
    "* 👇 Static"
   ]
  },
  {
   "cell_type": "code",
   "execution_count": 34,
   "metadata": {},
   "outputs": [
    {
     "data": {
      "text/html": [
       "<img style='width:100%;' src=\"grafana-static.png\">\n"
      ],
      "text/plain": [
       "<IPython.core.display.HTML object>"
      ]
     },
     "metadata": {},
     "output_type": "display_data"
    }
   ],
   "source": [
    "%%html\n",
    "<img style='width:100%;' src=\"grafana-static.png\">"
   ]
  },
  {
   "cell_type": "markdown",
   "metadata": {},
   "source": [
    "### 📈📉 Dual axis plot caveats"
   ]
  },
  {
   "cell_type": "markdown",
   "metadata": {},
   "source": [
    " Dual axis plots typically give a false sense of correlation, [Lisa Charlotte Rost](https://lisacharlotterost.de/), data scientist at [Datawrapper](https://www.datawrapper.de/) does an [excellent](https://blog.datawrapper.de/dualaxis/) job at describing this issue. Here the typical recommendation would be to have a _connected scatterplot_, with time explicity displayed on the scatter points:"
   ]
  },
  {
   "cell_type": "code",
   "execution_count": 35,
   "metadata": {},
   "outputs": [
    {
     "data": {
      "text/html": [
       "<img style='width:600px' src=\"connected scatter plot.png\">\n"
      ],
      "text/plain": [
       "<IPython.core.display.HTML object>"
      ]
     },
     "metadata": {},
     "output_type": "display_data"
    }
   ],
   "source": [
    "%%html\n",
    "<img style='width:600px' src=\"connected scatter plot.png\">"
   ]
  }
 ],
 "metadata": {
  "kernelspec": {
   "display_name": "Python 3",
   "language": "python",
   "name": "python3"
  },
  "language_info": {
   "codemirror_mode": {
    "name": "ipython",
    "version": 3
   },
   "file_extension": ".py",
   "mimetype": "text/x-python",
   "name": "python",
   "nbconvert_exporter": "python",
   "pygments_lexer": "ipython3",
   "version": "3.8.5"
  }
 },
 "nbformat": 4,
 "nbformat_minor": 4
}
