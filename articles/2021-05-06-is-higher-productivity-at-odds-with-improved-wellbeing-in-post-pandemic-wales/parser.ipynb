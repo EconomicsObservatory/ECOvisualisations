{
 "cells": [
  {
   "cell_type": "code",
   "execution_count": 2,
   "metadata": {},
   "outputs": [],
   "source": [
    "import json\n",
    "import altair as alt\n",
    "from altair import expr, datum\n",
    "import matplotlib.pyplot as plt\n",
    "import numpy as np\n",
    "import pandas as pd\n",
    "import requests"
   ]
  },
  {
   "cell_type": "code",
   "execution_count": 130,
   "metadata": {},
   "outputs": [],
   "source": [
    "LOCAL=False\n",
    "\n",
    "if LOCAL: local_suffix='_local'\n",
    "else: local_suffix=''"
   ]
  },
  {
   "cell_type": "code",
   "execution_count": 131,
   "metadata": {},
   "outputs": [],
   "source": [
    "%%capture pwd\n",
    "!pwd"
   ]
  },
  {
   "cell_type": "code",
   "execution_count": 132,
   "metadata": {},
   "outputs": [
    {
     "data": {
      "text/plain": [
       "(300, 500)"
      ]
     },
     "execution_count": 132,
     "metadata": {},
     "output_type": "execute_result"
    }
   ],
   "source": [
    "# uid = \"2021-05-05-which-firms-and-industries-have-been-most-affected-by-covid-update\"  # article unique ID\n",
    "uid = pwd.stdout.split('/')[-1].split('\\r')[0]\n",
    "eco_git_home = \"https://raw.githubusercontent.com/EconomicsObservatory/ECOvisualisations/main/\"\n",
    "eco_git_path = (\n",
    "    eco_git_home+\"articles/\"\n",
    "    + uid\n",
    "    + \"/data/\"\n",
    ")\n",
    "vega_embed = requests.get(eco_git_home+'guidelines/html/vega-embed.html').text\n",
    "colors = json.loads(requests.get(eco_git_home+\"guidelines/colors/eco-colors.json\").content)\n",
    "category_color = json.loads(\n",
    "    requests.get(eco_git_home+\"guidelines/colors/eco-category-color.json\").content\n",
    ")\n",
    "hue_color = json.loads(\n",
    "    requests.get(eco_git_home+\"guidelines/colors/eco-single-hue-color.json\").content\n",
    ")\n",
    "mhue_color = json.loads(\n",
    "    requests.get(eco_git_home+\"guidelines/colors/eco-multi-hue-color.json\").content\n",
    ")\n",
    "div_color = json.loads(\n",
    "    requests.get(eco_git_home+\"guidelines/colors/eco-diverging-color.json\").content\n",
    ")\n",
    "config = json.loads( requests.get(eco_git_home+\"guidelines/charts/eco-global-config.json\").content)\n",
    "height = config[\"height\"]\n",
    "width = config[\"width\"]\n",
    "height, width"
   ]
  },
  {
   "cell_type": "markdown",
   "metadata": {},
   "source": [
    "# Fig 1"
   ]
  },
  {
   "cell_type": "code",
   "execution_count": 133,
   "metadata": {},
   "outputs": [],
   "source": [
    "df = (\n",
    "    pd.read_excel(\"raw/Econ Observatory Henley chart data.xlsx\", \n",
    "                  sheet_name=\"Sheet1\", skiprows=23)\n",
    "    .dropna(how=\"all\", axis=1)\n",
    "    .dropna(how=\"all\", axis=0)\n",
    ")\n",
    "df=df.set_index('Date').stack().reset_index()\n",
    "df.columns=['date','region','value']"
   ]
  },
  {
   "cell_type": "code",
   "execution_count": 134,
   "metadata": {},
   "outputs": [
    {
     "data": {
      "text/html": [
       "<div>\n",
       "<style scoped>\n",
       "    .dataframe tbody tr th:only-of-type {\n",
       "        vertical-align: middle;\n",
       "    }\n",
       "\n",
       "    .dataframe tbody tr th {\n",
       "        vertical-align: top;\n",
       "    }\n",
       "\n",
       "    .dataframe thead th {\n",
       "        text-align: right;\n",
       "    }\n",
       "</style>\n",
       "<table border=\"1\" class=\"dataframe\">\n",
       "  <thead>\n",
       "    <tr style=\"text-align: right;\">\n",
       "      <th></th>\n",
       "      <th>date</th>\n",
       "      <th>region</th>\n",
       "      <th>value</th>\n",
       "    </tr>\n",
       "  </thead>\n",
       "  <tbody>\n",
       "    <tr>\n",
       "      <th>0</th>\n",
       "      <td>2018Q2</td>\n",
       "      <td>UK</td>\n",
       "      <td>0.3</td>\n",
       "    </tr>\n",
       "    <tr>\n",
       "      <th>1</th>\n",
       "      <td>2018Q2</td>\n",
       "      <td>England</td>\n",
       "      <td>0.3</td>\n",
       "    </tr>\n",
       "    <tr>\n",
       "      <th>2</th>\n",
       "      <td>2018Q2</td>\n",
       "      <td>Wales</td>\n",
       "      <td>0.8</td>\n",
       "    </tr>\n",
       "    <tr>\n",
       "      <th>3</th>\n",
       "      <td>2018Q2</td>\n",
       "      <td>Scotland</td>\n",
       "      <td>0.6</td>\n",
       "    </tr>\n",
       "    <tr>\n",
       "      <th>4</th>\n",
       "      <td>2018Q2</td>\n",
       "      <td>Northern Ireland</td>\n",
       "      <td>0.9</td>\n",
       "    </tr>\n",
       "  </tbody>\n",
       "</table>\n",
       "</div>"
      ],
      "text/plain": [
       "     date            region  value\n",
       "0  2018Q2                UK    0.3\n",
       "1  2018Q2           England    0.3\n",
       "2  2018Q2             Wales    0.8\n",
       "3  2018Q2          Scotland    0.6\n",
       "4  2018Q2  Northern Ireland    0.9"
      ]
     },
     "execution_count": 134,
     "metadata": {},
     "output_type": "execute_result"
    }
   ],
   "source": [
    "f = \"fig1_GDP_country\"\n",
    "f1 = eco_git_path + f + \".csv\"\n",
    "df.to_csv(\"data/\" + f + \".csv\")\n",
    "f += local_suffix\n",
    "open(\"visualisation/\" + f + \".html\", \"w\").write(\n",
    "    vega_embed.replace(\n",
    "        \"JSON_PATH\", f1.replace(\"/data/\", \"/visualisation/\").replace(\".csv\", \".json\")\n",
    "    )\n",
    ")\n",
    "if LOCAL: f1=df\n",
    "df.head()"
   ]
  },
  {
   "cell_type": "code",
   "execution_count": 135,
   "metadata": {},
   "outputs": [
    {
     "data": {
      "text/html": [
       "\n",
       "<div id=\"altair-viz-29d8964c40ed42aab789a9bc2b2ed139\"></div>\n",
       "<script type=\"text/javascript\">\n",
       "  (function(spec, embedOpt){\n",
       "    let outputDiv = document.currentScript.previousElementSibling;\n",
       "    if (outputDiv.id !== \"altair-viz-29d8964c40ed42aab789a9bc2b2ed139\") {\n",
       "      outputDiv = document.getElementById(\"altair-viz-29d8964c40ed42aab789a9bc2b2ed139\");\n",
       "    }\n",
       "    const paths = {\n",
       "      \"vega\": \"https://cdn.jsdelivr.net/npm//vega@5?noext\",\n",
       "      \"vega-lib\": \"https://cdn.jsdelivr.net/npm//vega-lib?noext\",\n",
       "      \"vega-lite\": \"https://cdn.jsdelivr.net/npm//vega-lite@4.8.1?noext\",\n",
       "      \"vega-embed\": \"https://cdn.jsdelivr.net/npm//vega-embed@6?noext\",\n",
       "    };\n",
       "\n",
       "    function loadScript(lib) {\n",
       "      return new Promise(function(resolve, reject) {\n",
       "        var s = document.createElement('script');\n",
       "        s.src = paths[lib];\n",
       "        s.async = true;\n",
       "        s.onload = () => resolve(paths[lib]);\n",
       "        s.onerror = () => reject(`Error loading script: ${paths[lib]}`);\n",
       "        document.getElementsByTagName(\"head\")[0].appendChild(s);\n",
       "      });\n",
       "    }\n",
       "\n",
       "    function showError(err) {\n",
       "      outputDiv.innerHTML = `<div class=\"error\" style=\"color:red;\">${err}</div>`;\n",
       "      throw err;\n",
       "    }\n",
       "\n",
       "    function displayChart(vegaEmbed) {\n",
       "      vegaEmbed(outputDiv, spec, embedOpt)\n",
       "        .catch(err => showError(`Javascript Error: ${err.message}<br>This usually means there's a typo in your chart specification. See the javascript console for the full traceback.`));\n",
       "    }\n",
       "\n",
       "    if(typeof define === \"function\" && define.amd) {\n",
       "      requirejs.config({paths});\n",
       "      require([\"vega-embed\"], displayChart, err => showError(`Error loading script: ${err.message}`));\n",
       "    } else if (typeof vegaEmbed === \"function\") {\n",
       "      displayChart(vegaEmbed);\n",
       "    } else {\n",
       "      loadScript(\"vega\")\n",
       "        .then(() => loadScript(\"vega-lite\"))\n",
       "        .then(() => loadScript(\"vega-embed\"))\n",
       "        .catch(showError)\n",
       "        .then(() => displayChart(vegaEmbed));\n",
       "    }\n",
       "  })({\"config\": {\"view\": {\"continuousWidth\": 400, \"continuousHeight\": 300, \"stroke\": null}}, \"layer\": [{\"mark\": {\"type\": \"bar\", \"color\": \"white\", \"opacity\": 0.8, \"size\": 8, \"stroke\": \"#676A86\", \"xOffset\": -12}, \"encoding\": {\"x\": {\"type\": \"nominal\", \"axis\": {\"domainColor\": \"#676A86\", \"labelAngle\": 0, \"labelColor\": \"#676A86\", \"labelExpr\": \"indexof(datum.value,'Q1')>-1?slice(datum.value,0,4)+' '+slice(datum.value,4):slice(datum.value,4)\", \"orient\": \"top\", \"tickColor\": \"#676A86\", \"titleColor\": \"#676A86\"}, \"field\": \"date\", \"title\": \"\"}, \"y\": {\"type\": \"quantitative\", \"axis\": {\"domainColor\": \"#676A86\", \"format\": \".0f\", \"grid\": true, \"labelAlign\": \"left\", \"labelBaseline\": \"middle\", \"labelColor\": \"#676A86\", \"labelOffset\": -10, \"labelPadding\": -5, \"tickColor\": \"#676A86\", \"tickCount\": 4, \"ticks\": false, \"title\": \"%\", \"titleAlign\": \"left\", \"titleAnchor\": \"start\", \"titleAngle\": 0, \"titleBaseline\": \"bottom\", \"titleColor\": \"#676A86\", \"titleFontSize\": 10, \"titleFontWeight\": \"normal\", \"titleX\": 25, \"titleY\": 295}, \"field\": \"value\", \"stack\": false, \"title\": \"\"}}, \"transform\": [{\"filter\": \"datum.region=='England'\"}]}, {\"mark\": {\"type\": \"bar\", \"color\": \"#E6224B\", \"opacity\": 0.8, \"size\": 8, \"xOffset\": -4}, \"encoding\": {\"x\": {\"type\": \"nominal\", \"axis\": {\"domainColor\": \"#676A86\", \"labelAngle\": 0, \"labelColor\": \"#676A86\", \"labelExpr\": \"indexof(datum.value,'Q1')>-1?slice(datum.value,0,4)+' '+slice(datum.value,4):slice(datum.value,4)\", \"orient\": \"top\", \"tickColor\": \"#676A86\", \"titleColor\": \"#676A86\"}, \"field\": \"date\", \"title\": \"\"}, \"y\": {\"type\": \"quantitative\", \"axis\": {\"domainColor\": \"#676A86\", \"format\": \".0f\", \"grid\": true, \"labelAlign\": \"left\", \"labelBaseline\": \"middle\", \"labelColor\": \"#676A86\", \"labelOffset\": -10, \"labelPadding\": -5, \"tickColor\": \"#676A86\", \"tickCount\": 4, \"ticks\": false, \"title\": \"%\", \"titleAlign\": \"left\", \"titleAnchor\": \"start\", \"titleAngle\": 0, \"titleBaseline\": \"bottom\", \"titleColor\": \"#676A86\", \"titleFontSize\": 10, \"titleFontWeight\": \"normal\", \"titleX\": 25, \"titleY\": 295}, \"field\": \"value\", \"stack\": false, \"title\": \"\"}}, \"transform\": [{\"filter\": \"datum.region=='Wales'\"}]}, {\"mark\": {\"type\": \"bar\", \"color\": \"#0063AF\", \"opacity\": 0.8, \"size\": 8, \"xOffset\": 4}, \"encoding\": {\"x\": {\"type\": \"nominal\", \"axis\": {\"domainColor\": \"#676A86\", \"labelAngle\": 0, \"labelColor\": \"#676A86\", \"labelExpr\": \"indexof(datum.value,'Q1')>-1?slice(datum.value,0,4)+' '+slice(datum.value,4):slice(datum.value,4)\", \"orient\": \"top\", \"tickColor\": \"#676A86\", \"titleColor\": \"#676A86\"}, \"field\": \"date\", \"title\": \"\"}, \"y\": {\"type\": \"quantitative\", \"axis\": {\"domainColor\": \"#676A86\", \"format\": \".0f\", \"grid\": true, \"labelAlign\": \"left\", \"labelBaseline\": \"middle\", \"labelColor\": \"#676A86\", \"labelOffset\": -10, \"labelPadding\": -5, \"tickColor\": \"#676A86\", \"tickCount\": 4, \"ticks\": false, \"title\": \"%\", \"titleAlign\": \"left\", \"titleAnchor\": \"start\", \"titleAngle\": 0, \"titleBaseline\": \"bottom\", \"titleColor\": \"#676A86\", \"titleFontSize\": 10, \"titleFontWeight\": \"normal\", \"titleX\": 25, \"titleY\": 295}, \"field\": \"value\", \"stack\": false, \"title\": \"\"}}, \"transform\": [{\"filter\": \"datum.region=='Scotland'\"}]}, {\"mark\": {\"type\": \"bar\", \"color\": \"#00A767\", \"opacity\": 0.8, \"size\": 8, \"xOffset\": 12}, \"encoding\": {\"x\": {\"type\": \"nominal\", \"axis\": {\"domainColor\": \"#676A86\", \"labelAngle\": 0, \"labelColor\": \"#676A86\", \"labelExpr\": \"indexof(datum.value,'Q1')>-1?slice(datum.value,0,4)+' '+slice(datum.value,4):slice(datum.value,4)\", \"orient\": \"top\", \"tickColor\": \"#676A86\", \"titleColor\": \"#676A86\"}, \"field\": \"date\", \"title\": \"\"}, \"y\": {\"type\": \"quantitative\", \"axis\": {\"domainColor\": \"#676A86\", \"format\": \".0f\", \"grid\": true, \"labelAlign\": \"left\", \"labelBaseline\": \"middle\", \"labelColor\": \"#676A86\", \"labelOffset\": -10, \"labelPadding\": -5, \"tickColor\": \"#676A86\", \"tickCount\": 4, \"ticks\": false, \"title\": \"%\", \"titleAlign\": \"left\", \"titleAnchor\": \"start\", \"titleAngle\": 0, \"titleBaseline\": \"bottom\", \"titleColor\": \"#676A86\", \"titleFontSize\": 10, \"titleFontWeight\": \"normal\", \"titleX\": 25, \"titleY\": 295}, \"field\": \"value\", \"stack\": false, \"title\": \"\"}}, \"transform\": [{\"filter\": \"datum.region=='Northern Ireland'\"}]}, {\"mark\": {\"type\": \"line\", \"color\": \"#243B5A\", \"opacity\": 0.8}, \"encoding\": {\"x\": {\"type\": \"nominal\", \"axis\": {\"domainColor\": \"#676A86\", \"labelAngle\": 0, \"labelColor\": \"#676A86\", \"labelExpr\": \"indexof(datum.value,'Q1')>-1?slice(datum.value,0,4)+' '+slice(datum.value,4):slice(datum.value,4)\", \"orient\": \"top\", \"tickColor\": \"#676A86\", \"titleColor\": \"#676A86\"}, \"field\": \"date\", \"title\": \"\"}, \"y\": {\"type\": \"quantitative\", \"axis\": {\"domainColor\": \"#676A86\", \"format\": \".0f\", \"grid\": true, \"labelAlign\": \"left\", \"labelBaseline\": \"middle\", \"labelColor\": \"#676A86\", \"labelOffset\": -10, \"labelPadding\": -5, \"tickColor\": \"#676A86\", \"tickCount\": 4, \"ticks\": false, \"title\": \"%\", \"titleAlign\": \"left\", \"titleAnchor\": \"start\", \"titleAngle\": 0, \"titleBaseline\": \"bottom\", \"titleColor\": \"#676A86\", \"titleFontSize\": 10, \"titleFontWeight\": \"normal\", \"titleX\": 25, \"titleY\": 295}, \"field\": \"value\", \"stack\": false, \"title\": \"\"}}, \"transform\": [{\"filter\": \"datum.region=='UK'\"}]}, {\"mark\": {\"type\": \"text\", \"align\": \"right\", \"color\": \"#243B5A\", \"size\": 10, \"xOffset\": -5, \"yOffset\": 15}, \"encoding\": {\"text\": {\"type\": \"quantitative\", \"field\": \"value\", \"format\": \".1f\"}, \"x\": {\"type\": \"nominal\", \"axis\": {\"domainColor\": \"#676A86\", \"labelAngle\": 0, \"labelColor\": \"#676A86\", \"labelExpr\": \"indexof(datum.value,'Q1')>-1?slice(datum.value,0,4)+' '+slice(datum.value,4):slice(datum.value,4)\", \"orient\": \"top\", \"tickColor\": \"#676A86\", \"titleColor\": \"#676A86\"}, \"field\": \"date\", \"title\": \"\"}, \"y\": {\"type\": \"quantitative\", \"axis\": {\"domainColor\": \"#676A86\", \"format\": \".0f\", \"grid\": true, \"labelAlign\": \"left\", \"labelBaseline\": \"middle\", \"labelColor\": \"#676A86\", \"labelOffset\": -10, \"labelPadding\": -5, \"tickColor\": \"#676A86\", \"tickCount\": 4, \"ticks\": false, \"title\": \"%\", \"titleAlign\": \"left\", \"titleAnchor\": \"start\", \"titleAngle\": 0, \"titleBaseline\": \"bottom\", \"titleColor\": \"#676A86\", \"titleFontSize\": 10, \"titleFontWeight\": \"normal\", \"titleX\": 25, \"titleY\": 295}, \"field\": \"value\", \"stack\": false, \"title\": \"\"}}, \"transform\": [{\"filter\": \"datum.region=='UK'\"}]}], \"data\": {\"url\": \"https://raw.githubusercontent.com/EconomicsObservatory/ECOvisualisations/main/articles/2021-05-06-is-higher-productivity-at-odds-with-improved-wellbeing-in-post-pandemic-wales/data/fig1_GDP_country.csv\"}, \"height\": 300, \"title\": \"\", \"width\": 400, \"$schema\": \"https://vega.github.io/schema/vega-lite/v4.8.1.json\"}, {\"mode\": \"vega-lite\"});\n",
       "</script>"
      ],
      "text/plain": [
       "alt.LayerChart(...)"
      ]
     },
     "execution_count": 135,
     "metadata": {},
     "output_type": "execute_result"
    }
   ],
   "source": [
    "bars = (\n",
    "    alt.Chart(f1)\n",
    "    .encode(\n",
    "        y=alt.Y('value:Q',stack=False,title='',axis=alt.Axis(\n",
    "            grid=True,title='%',\n",
    "            titleAnchor='start',labelColor=colors['eco-gray'],titleColor=colors['eco-gray'],\n",
    "            tickColor=colors['eco-gray'],domainColor=colors['eco-gray'],\n",
    "            titleFontSize=10,titleFontWeight=\"normal\",\n",
    "            ticks=False,\n",
    "            labelAlign=\"left\",\n",
    "            labelBaseline=\"middle\",\n",
    "            labelPadding=-5,\n",
    "            labelOffset=-10,\n",
    "            titleX=25,\n",
    "            titleY=295,\n",
    "            titleBaseline='bottom',\n",
    "            titleAngle=0,\n",
    "            titleAlign=\"left\",\n",
    "            tickCount=4,\n",
    "            format=\".0f\",\n",
    "        )),\n",
    "        x=alt.X('date:N',title='',axis=alt.Axis(labelColor=colors['eco-gray'],titleColor=colors['eco-gray'],\n",
    "            tickColor=colors['eco-gray'],domainColor=colors['eco-gray'],orient='top',\n",
    "            labelExpr=\"indexof(datum.value,'Q1')>-1?slice(datum.value,0,4)+' '+slice(datum.value,4):slice(datum.value,4)\",labelAngle=0,\n",
    "            ))\n",
    "    )\n",
    ")\n",
    "\n",
    "bars1=bars.mark_bar(size=8,xOffset=-12,stroke=colors['eco-gray'],color='white',opacity=0.8)\\\n",
    "    .transform_filter(\"datum.region=='England'\")\n",
    "bars2=bars.mark_bar(size=8,xOffset=-4,color=colors['eco-pink'],opacity=0.8)\\\n",
    "    .transform_filter(\"datum.region=='Wales'\")\n",
    "bars3=bars.mark_bar(size=8,xOffset=4,color=colors['eco-mid-blue'],opacity=0.8)\\\n",
    "    .transform_filter(\"datum.region=='Scotland'\")\n",
    "bars4=bars.mark_bar(size=8,xOffset=12,color=colors['eco-green'],opacity=0.8)\\\n",
    "    .transform_filter(\"datum.region=='Northern Ireland'\")\n",
    "line=bars.mark_line(color=colors['eco-blue'],opacity=0.8)\\\n",
    "    .transform_filter(\"datum.region=='UK'\")\n",
    "\n",
    "text=line.mark_text(yOffset=15,xOffset=-5,size=10,align='right',color=colors['eco-blue']).encode(\n",
    "    text=alt.Text('value:Q',format='.1f')\n",
    ")\n",
    "\n",
    "layer = (\n",
    "    bars1+bars2+bars3+bars4+line+text\n",
    ").configure_view(stroke=None).properties(title=\"\").properties(height=300, width=400)\n",
    "layer.save(\"visualisation/\" + f + \".json\")\n",
    "layer"
   ]
  }
 ],
 "metadata": {
  "kernelspec": {
   "display_name": "Python 3",
   "language": "python",
   "name": "python3"
  },
  "language_info": {
   "codemirror_mode": {
    "name": "ipython",
    "version": 3
   },
   "file_extension": ".py",
   "mimetype": "text/x-python",
   "name": "python",
   "nbconvert_exporter": "python",
   "pygments_lexer": "ipython3",
   "version": "3.8.8"
  }
 },
 "nbformat": 4,
 "nbformat_minor": 4
}
