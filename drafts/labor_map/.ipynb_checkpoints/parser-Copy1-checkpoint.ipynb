{
 "cells": [
  {
   "cell_type": "code",
   "execution_count": 2,
   "id": "34e1d8c3",
   "metadata": {},
   "outputs": [],
   "source": [
    "import pandas as pd, json, requests"
   ]
  },
  {
   "cell_type": "code",
   "execution_count": 3,
   "id": "6228efd0",
   "metadata": {},
   "outputs": [],
   "source": [
    "df = pd.read_excel(\"lmregtabli01february20217.xls\", sheet_name=\"LI01\", skiprows=6)"
   ]
  },
  {
   "cell_type": "code",
   "execution_count": 4,
   "id": "80c4a837",
   "metadata": {},
   "outputs": [],
   "source": [
    "# https://data.gov.uk/dataset/24d87ad2-0fa9-4b35-816a-89f9d92b0042/local-authority-districts-april-2020-names-and-codes-in-the-united-kingdom\n",
    "# http://geoportal1-ons.opendata.arcgis.com/datasets/fe6bcee87d95476abc84e194fe088abb_0.geojson\n",
    "# http://geoportal1-ons.opendata.arcgis.com/datasets/fe6bcee87d95476abc84e194fe088abb_0.csv\n",
    "# https://geoportal.statistics.gov.uk/search?collection=Dataset&sort=name&tags=all(BDY_LAD)"
   ]
  },
  {
   "cell_type": "code",
   "execution_count": null,
   "id": "edf9e8ac-3383-45c9-b9a6-59e55db7a78f",
   "metadata": {},
   "outputs": [],
   "source": [
    "# Download shapefile\n",
    "# BGC - larger detail\n",
    "# BUG - small detail"
   ]
  },
  {
   "cell_type": "code",
   "execution_count": 6,
   "id": "e58b5318",
   "metadata": {},
   "outputs": [],
   "source": [
    "# Mapshaper ->geojson, topojson export\n",
    "# https://mapshaper.org/"
   ]
  },
  {
   "cell_type": "code",
   "execution_count": 120,
   "id": "76405247",
   "metadata": {},
   "outputs": [],
   "source": [
    "df1 = (\n",
    "    df.dropna(how=\"all\", axis=0)\n",
    "    .loc[4:484]\n",
    "    .set_index([\"Unnamed: 0\", \"Unnamed: 1\"])[\n",
    "        [\n",
    "            \"Workplace\\n(£)\",\n",
    "            \"Jobs Density                                                        16-64                   (ratio)\",\n",
    "        ]\n",
    "    ]\n",
    "    .reset_index()\n",
    "    .dropna(how=\"all\", axis=0)\n",
    ")"
   ]
  },
  {
   "cell_type": "code",
   "execution_count": 121,
   "id": "5ad6e949-bdc8-4580-9161-6efbd1f4b2e1",
   "metadata": {},
   "outputs": [],
   "source": [
    "df1.columns = [\"LAD19CD\", \"LAD19NM\", \"Workplace wage\", \"Jobs density ratio\"]\n",
    "df1 = df1.set_index([\"LAD19CD\", \"LAD19NM\"])"
   ]
  },
  {
   "cell_type": "code",
   "execution_count": 122,
   "id": "02d71c15-6c8a-4519-9ecb-c607a37878c6",
   "metadata": {},
   "outputs": [],
   "source": [
    "topo = json.loads(\n",
    "    open(\"geo/Local_Authority_Districts__April_2019__UK_BUC_v2.topo.json\", \"r\").read()\n",
    ")"
   ]
  },
  {
   "cell_type": "code",
   "execution_count": 123,
   "id": "1971e95e-a653-47c1-bf58-306e8321a583",
   "metadata": {},
   "outputs": [],
   "source": [
    "for i in topo[\"objects\"][\"Local_Authority_Districts__April_2019__UK_BUC_v2\"][\n",
    "    \"geometries\"\n",
    "]:\n",
    "    i[\"properties\"] = list(\n",
    "        pd.DataFrame(i[\"properties\"], index=[0])\n",
    "        .set_index([\"LAD19CD\", \"LAD19NM\"])\n",
    "        .join(df1)\n",
    "        .T.reset_index()\n",
    "        .dropna()\n",
    "        .to_dict()\n",
    "        .values()\n",
    "    )[0]"
   ]
  },
  {
   "cell_type": "code",
   "execution_count": 124,
   "id": "cd0dc752-94eb-4d4a-989d-16a7986e3f9b",
   "metadata": {},
   "outputs": [
    {
     "data": {
      "text/plain": [
       "286687"
      ]
     },
     "execution_count": 124,
     "metadata": {},
     "output_type": "execute_result"
    }
   ],
   "source": [
    "open(\"demo.topo.json\", \"w\").write(json.dumps(topo))"
   ]
  },
  {
   "cell_type": "code",
   "execution_count": 134,
   "id": "12829a50-4984-4cac-bee4-d3953fb7470c",
   "metadata": {},
   "outputs": [],
   "source": [
    "geo = json.loads(\n",
    "    open(\"geo/Local_Authority_Districts__April_2019__UK_BUC_v2.geo.json\", \"r\").read()\n",
    ")"
   ]
  },
  {
   "cell_type": "code",
   "execution_count": 139,
   "id": "0f2bd32f-ac6f-4ec0-a6dc-faee025c4202",
   "metadata": {},
   "outputs": [],
   "source": [
    "for i in geo[\"features\"]:\n",
    "    if \"LAT\" in i[\"properties\"]:\n",
    "        if i[\"properties\"][\"LAT\"] < -90:\n",
    "            print(\"boo\")\n",
    "            break\n",
    "#     i[\"properties\"] = list(\n",
    "#         pd.DataFrame(i[\"properties\"], index=[0])\n",
    "#         .set_index([\"LAD19CD\", \"LAD19NM\"])\n",
    "#         .join(df1)\n",
    "#         .T.reset_index()\n",
    "#         .dropna()\n",
    "#         .to_dict()\n",
    "#         .values()\n",
    "#     )[0]"
   ]
  },
  {
   "cell_type": "code",
   "execution_count": 141,
   "id": "c598b5df-d5f1-4218-a42d-4290349df1d2",
   "metadata": {},
   "outputs": [
    {
     "data": {
      "text/plain": [
       "{'type': 'Polygon',\n",
       " 'coordinates': [[[300546.8032, 214081.2992],\n",
       "   [300743.5963, 211776.399],\n",
       "   [302340.4998, 208560.2996],\n",
       "   [301573.7998, 207609.6017],\n",
       "   [299808.5982, 207996.401000001],\n",
       "   [303388.9995, 203055.7952],\n",
       "   [304747.497, 202265.4015],\n",
       "   [308011.7991, 196140.704600001],\n",
       "   [309209.0974, 196030.0963],\n",
       "   [309183.9005, 194804.097200001],\n",
       "   [310453.5987, 196941.195499999],\n",
       "   [311195.4975, 196276.695699999],\n",
       "   [311269.5959, 198377.0045],\n",
       "   [312022.8977, 198943.102499999],\n",
       "   [310283.5031, 204978.7048],\n",
       "   [309247.404, 204496.003],\n",
       "   [309645.896, 205294.4044],\n",
       "   [308367.1035, 207498.4035],\n",
       "   [308057.3036, 211036.2009],\n",
       "   [306294.3034, 211145.0997],\n",
       "   [306500.6031, 212908.9048],\n",
       "   [303428.9963, 213766.099400001],\n",
       "   [303448.0011, 215117.8025],\n",
       "   [302453.0036, 216114.8971],\n",
       "   [300546.8032, 214081.2992]]]}"
      ]
     },
     "execution_count": 141,
     "metadata": {},
     "output_type": "execute_result"
    }
   ],
   "source": [
    "i[\"geometry\"]"
   ]
  },
  {
   "cell_type": "code",
   "execution_count": 127,
   "id": "4b18118c-525a-4cc6-8fb6-411911bb571e",
   "metadata": {},
   "outputs": [
    {
     "data": {
      "text/plain": [
       "819753"
      ]
     },
     "execution_count": 127,
     "metadata": {},
     "output_type": "execute_result"
    }
   ],
   "source": [
    "open(\"demo.geo.json\", \"w\").write(json.dumps(geo))"
   ]
  },
  {
   "cell_type": "code",
   "execution_count": null,
   "id": "8432be67-9e16-4f0a-9d96-90350e419db7",
   "metadata": {},
   "outputs": [],
   "source": []
  },
  {
   "cell_type": "code",
   "execution_count": null,
   "id": "0557aabc-edf3-47ab-b66a-519338f3fe34",
   "metadata": {},
   "outputs": [],
   "source": []
  }
 ],
 "metadata": {
  "kernelspec": {
   "display_name": "Python 3",
   "language": "python",
   "name": "python3"
  },
  "language_info": {
   "codemirror_mode": {
    "name": "ipython",
    "version": 3
   },
   "file_extension": ".py",
   "mimetype": "text/x-python",
   "name": "python",
   "nbconvert_exporter": "python",
   "pygments_lexer": "ipython3",
   "version": "3.8.8"
  }
 },
 "nbformat": 4,
 "nbformat_minor": 5
}
