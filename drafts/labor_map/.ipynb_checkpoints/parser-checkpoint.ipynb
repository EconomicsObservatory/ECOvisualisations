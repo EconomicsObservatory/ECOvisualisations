{
 "cells": [
  {
   "cell_type": "code",
   "execution_count": 181,
   "id": "34e1d8c3",
   "metadata": {},
   "outputs": [],
   "source": [
    "import pandas as pd, json, requests"
   ]
  },
  {
   "cell_type": "code",
   "execution_count": 182,
   "id": "6228efd0",
   "metadata": {},
   "outputs": [],
   "source": [
    "df = pd.read_excel(\"lmregtabli01february20217.xls\", sheet_name=\"LI01\", skiprows=6)"
   ]
  },
  {
   "cell_type": "code",
   "execution_count": 238,
   "id": "76405247",
   "metadata": {},
   "outputs": [],
   "source": [
    "df1 = (\n",
    "    df.dropna(how=\"all\", axis=0)\n",
    "    .loc[4:484]\n",
    "    .set_index([\"Unnamed: 0\", \"Unnamed: 1\"])[\n",
    "        [\n",
    "            \"Workplace\\n(£)\",\n",
    "            \"Jobs Density                                                        16-64                   (ratio)\",\n",
    "        ]\n",
    "    ]\n",
    "    .reset_index()\n",
    "    .dropna(how=\"all\", axis=0)\n",
    ")"
   ]
  },
  {
   "cell_type": "code",
   "execution_count": 239,
   "id": "5ad6e949-bdc8-4580-9161-6efbd1f4b2e1",
   "metadata": {},
   "outputs": [],
   "source": [
    "df1.columns = [\"lad16cd\", \"lad16nm\", \"Workplace wage\", \"Jobs density ratio\"]\n",
    "# join_on=[\"lad16cd\", \"lad16nm\"]\n",
    "join_on = [\"lad16cd\"]\n",
    "df1 = df1.set_index(join_on)"
   ]
  },
  {
   "cell_type": "code",
   "execution_count": 240,
   "id": "12829a50-4984-4cac-bee4-d3953fb7470c",
   "metadata": {},
   "outputs": [],
   "source": [
    "geo = json.loads(\n",
    "    requests.get(\n",
    "        \"https://onsdigital.github.io/sdg-data/en/geojson/local_authorities/indicator_3-a-1.geojson\"\n",
    "    ).content\n",
    ")"
   ]
  },
  {
   "cell_type": "code",
   "execution_count": 241,
   "id": "0f2bd32f-ac6f-4ec0-a6dc-faee025c4202",
   "metadata": {},
   "outputs": [],
   "source": [
    "for i in geo[\"features\"]:\n",
    "    i[\"properties\"] = list(\n",
    "        pd.DataFrame(i[\"properties\"], index=[0])\n",
    "        .set_index(join_on)\n",
    "        .join(df1, rsuffix=\"data\")\n",
    "        .reset_index()\n",
    "        .T.dropna()\n",
    "        .to_dict()\n",
    "        .values()\n",
    "    )[0]"
   ]
  },
  {
   "cell_type": "code",
   "execution_count": 242,
   "id": "4b18118c-525a-4cc6-8fb6-411911bb571e",
   "metadata": {},
   "outputs": [
    {
     "data": {
      "text/plain": [
       "1216515"
      ]
     },
     "execution_count": 242,
     "metadata": {},
     "output_type": "execute_result"
    }
   ],
   "source": [
    "open(\"demo.geo.json\", \"w\").write(json.dumps(geo))"
   ]
  },
  {
   "cell_type": "code",
   "execution_count": null,
   "id": "5d3ef6c8-c361-4407-8698-f0b5f98d3cb4",
   "metadata": {},
   "outputs": [],
   "source": []
  }
 ],
 "metadata": {
  "kernelspec": {
   "display_name": "Python 3",
   "language": "python",
   "name": "python3"
  },
  "language_info": {
   "codemirror_mode": {
    "name": "ipython",
    "version": 3
   },
   "file_extension": ".py",
   "mimetype": "text/x-python",
   "name": "python",
   "nbconvert_exporter": "python",
   "pygments_lexer": "ipython3",
   "version": "3.8.8"
  }
 },
 "nbformat": 4,
 "nbformat_minor": 5
}
